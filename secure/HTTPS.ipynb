{
 "cells": [
  {
   "cell_type": "code",
   "execution_count": null,
   "metadata": {},
   "outputs": [],
   "source": [
    "import sys\n",
    "sys.path.append('..')"
   ]
  },
  {
   "cell_type": "code",
   "execution_count": 1,
   "metadata": {},
   "outputs": [],
   "source": [
    "from new_parser import construct, match, match_exact, parser"
   ]
  },
  {
   "cell_type": "code",
   "execution_count": 2,
   "metadata": {
    "ExecuteTime": {
     "end_time": "2022-02-17T12:50:06.781094Z",
     "start_time": "2022-02-17T12:50:06.760315Z"
    }
   },
   "outputs": [],
   "source": [
    "from utils import SocketReader, ReaderWrapper"
   ]
  },
  {
   "cell_type": "code",
   "execution_count": 3,
   "metadata": {
    "ExecuteTime": {
     "end_time": "2022-02-17T12:50:06.806627Z",
     "start_time": "2022-02-17T12:50:06.782923Z"
    }
   },
   "outputs": [],
   "source": [
    "from cryptography.hazmat.primitives.asymmetric.x25519 import X25519PrivateKey, X25519PublicKey\n",
    "from cryptography.hazmat.primitives import serialization\n",
    "from cryptography.hazmat.primitives import hashes\n",
    "from cryptography.hazmat.primitives.kdf.hkdf import HKDFExpand, HKDF\n",
    "from cryptography.hazmat.primitives.hmac import HMAC\n",
    "from cryptography.hazmat.primitives.ciphers.aead import AESGCM\n",
    "from cryptography.hazmat.primitives.asymmetric import ec"
   ]
  },
  {
   "cell_type": "code",
   "execution_count": 4,
   "metadata": {
    "ExecuteTime": {
     "end_time": "2022-02-17T12:50:06.853077Z",
     "start_time": "2022-02-17T12:50:06.808329Z"
    }
   },
   "outputs": [],
   "source": [
    "try:\n",
    "    sock.close()\n",
    "except:\n",
    "    pass\n",
    "\n",
    "sock = SocketReader(\"www.google.com\", 443, 'tcp')\n",
    "\n",
    "sock.connect()"
   ]
  },
  {
   "cell_type": "code",
   "execution_count": 5,
   "metadata": {
    "ExecuteTime": {
     "end_time": "2022-02-17T12:50:06.857879Z",
     "start_time": "2022-02-17T12:50:06.854416Z"
    }
   },
   "outputs": [],
   "source": [
    "client_hello_spec = \"\"\"\n",
    "8==1@_selector-24@client_hello(\n",
    "    16@version\n",
    "    -32B@random\n",
    "    -8@session_id()\n",
    "    -16(...16@suites)\n",
    "    -8(...8@compressions)\n",
    "    -16(\n",
    "        ...@extensions(\n",
    "            16==0@_selector-16@ext_server_name(\n",
    "                16@data(\n",
    "                    8@name_type\n",
    "                    -16@host_name()\n",
    "                )\n",
    "            )\n",
    "            |16==5@_selector-16@ext_status_request(\n",
    "                8@status_type\n",
    "                -16@responder_id_list\n",
    "                -16@request_extensions\n",
    "            )\n",
    "            |16==10@_selector-16@ext_supported_curves(\n",
    "                16(...16@data)\n",
    "            )\n",
    "            |16==11@_selector-16@ext_supported_points(\n",
    "                8(...8@supported_points)\n",
    "            )\n",
    "            |16==35@_selector-16@ext_session_tickets()\n",
    "            |16==13@_selector-16@ext_signature_algorithms(\n",
    "                16(...16@data)\n",
    "            )\n",
    "            |16==50@_selector-16@ext_signature_algorithms_cert(\n",
    "                16(...16@data)\n",
    "            )\n",
    "            |16==0xff01@_selector-16@ext_renegotiation_info(\n",
    "                8@secure_renegotitation()\n",
    "            )\n",
    "            |16==16@_selector-16@ext_alpn(\n",
    "                16@alpn_protocols(...8())\n",
    "            )\n",
    "            |16==43@_selector-16@ext_suppoerted_versions(\n",
    "                8@supported_versions(...16)\n",
    "            )\n",
    "            |16==44@_selector-16@ext_cookie(\n",
    "                16@cookie()\n",
    "            )\n",
    "            |16==51@_selector-16@ext_key_share(\n",
    "                16@key_shares(\n",
    "                    ...(\n",
    "                        16@group\n",
    "                        -16@data()\n",
    "                    )\n",
    "                )\n",
    "            )\n",
    "            |16==18@_selector-16@ext_sct(\n",
    "                ...16@data()\n",
    "            )\n",
    "            |16==24@_selector-16@ext_token_binding(\n",
    "\n",
    "            )\n",
    "            |16==42@_selector-16@empty()\n",
    "            |16==45@_selector-16@ext_psk_modes(\n",
    "                8@psk_modes()\n",
    "            )\n",
    "            |16==41@_selector-16@ext_pre_shared_key(\n",
    "                16@psk_identities(\n",
    "                    ...(\n",
    "                        16@label()\n",
    "                        -32@obfuscated_ticket_age\n",
    "                    )\n",
    "                )\n",
    "                -16@psk_binders(\n",
    "                    ...8()\n",
    "                )\n",
    "            )\n",
    "            |16@selector-16@raw_extension()\n",
    "        )\n",
    "    )\n",
    ")\"\"\"\n",
    "\n",
    "client_hello_packet_spec = \"\"\"\n",
    "8==22@_selector-16@tls_version-16@tls_handshake(%s)\n",
    "\"\"\"%client_hello_spec"
   ]
  },
  {
   "cell_type": "code",
   "execution_count": 6,
   "metadata": {
    "ExecuteTime": {
     "end_time": "2022-02-17T12:50:06.882927Z",
     "start_time": "2022-02-17T12:50:06.859625Z"
    }
   },
   "outputs": [],
   "source": [
    "private_key = X25519PrivateKey.generate()\n",
    "\n",
    "public_key = private_key.public_key().public_bytes(serialization.Encoding.Raw, serialization.PublicFormat.Raw)"
   ]
  },
  {
   "cell_type": "code",
   "execution_count": 7,
   "metadata": {
    "ExecuteTime": {
     "end_time": "2022-02-17T12:50:06.908085Z",
     "start_time": "2022-02-17T12:50:06.885764Z"
    }
   },
   "outputs": [],
   "source": [
    "transcript = hashes.Hash(hashes.SHA256())"
   ]
  },
  {
   "cell_type": "code",
   "execution_count": 8,
   "metadata": {
    "ExecuteTime": {
     "end_time": "2022-02-17T12:50:06.933281Z",
     "start_time": "2022-02-17T12:50:06.909992Z"
    }
   },
   "outputs": [],
   "source": [
    "client_hello = {\n",
    "    'client_hello': {\n",
    "        'version': 0x0303,\n",
    "        'random': 0xab6618b2bf3898950c1f4820897760317c348c3b9c8288a05e436d4ba4631d9d,\n",
    "        'session_id': bytes.fromhex(\"130262b1ed623d15dae118905cde48936edcf578fa422d946c5285423d6234e6\"),\n",
    "        'suites': [0x1301],\n",
    "        'compressions': [0x00],\n",
    "        'extensions': [\n",
    "            {\n",
    "                'ext_server_name': {\n",
    "                    'data': {\n",
    "                        'name_type': 0x00, 'host_name': \"www.google.com\"\n",
    "                    }\n",
    "                }, '_selector': 0x0000\n",
    "            },\n",
    "            {\n",
    "                'ext_status_request': {\n",
    "                    'status_type': 0x01, 'responder_id_list': 0x0000, 'request_extensions': 0x0000\n",
    "                },\n",
    "                '_selector': 0x0005\n",
    "            },\n",
    "            {\n",
    "                'ext_supported_curves': {\n",
    "                    'data': [0x001d]\n",
    "                }, '_selector': 0x000a\n",
    "            },\n",
    "            {\n",
    "                'ext_supported_points': {\n",
    "                    'supported_points': [0x00]\n",
    "                }, '_selector': 0x000b\n",
    "            },\n",
    "            {\n",
    "                'ext_signature_algorithms': {\n",
    "                    'data': [0x0403]\n",
    "                }, '_selector': 0x000d\n",
    "            },\n",
    "            {\n",
    "                'ext_renegotiation_info': {\n",
    "                    'secure_renegotitation': ''\n",
    "                }, '_selector': 0xff01\n",
    "            },\n",
    "            {\n",
    "                'ext_alpn': {\n",
    "                    'alpn_protocols': [\"http/1.1\"]\n",
    "                }, '_selector': 0x0010\n",
    "            },\n",
    "            {\n",
    "                'ext_sct': {'data': []}, '_selector': 0x0012\n",
    "            },\n",
    "            {\n",
    "                'ext_suppoerted_versions': {\n",
    "                    'supported_versions': [0x0304, 0x0303, 0x0302, 0x0301]\n",
    "                },\n",
    "                '_selector': 0x002b\n",
    "            },\n",
    "            {\n",
    "                'ext_key_share': {\n",
    "                    'key_shares': [\n",
    "                        {\n",
    "                            'group': 0x001d, 'data': public_key\n",
    "                        }\n",
    "                    ]\n",
    "                },\n",
    "                '_selector': 0x0033\n",
    "            }\n",
    "        ]\n",
    "    },\n",
    "    '_selector': 0x01\n",
    "}\n",
    "\n",
    "client_hello_packet = {\n",
    "    \"tls_version\": 0x0301,\n",
    "    \"tls_handshake\": client_hello,\n",
    "    \"_selector\": 22\n",
    "}"
   ]
  },
  {
   "cell_type": "code",
   "execution_count": 9,
   "metadata": {
    "ExecuteTime": {
     "end_time": "2022-02-17T12:50:06.961215Z",
     "start_time": "2022-02-17T12:50:06.934671Z"
    }
   },
   "outputs": [
    {
     "data": {
      "text/plain": [
       "b\"\\x16\\x03\\x01\\x00\\xd4\\x01\\x00\\x00\\xd0\\x03\\x03\\xabf\\x18\\xb2\\xbf8\\x98\\x95\\x0c\\x1fH \\x89w`1|4\\x8c;\\x9c\\x82\\x88\\xa0^CmK\\xa4c\\x1d\\x9d \\x13\\x02b\\xb1\\xedb=\\x15\\xda\\xe1\\x18\\x90\\\\\\xdeH\\x93n\\xdc\\xf5x\\xfaB-\\x94lR\\x85B=b4\\xe6\\x00\\x02\\x13\\x01\\x01\\x00\\x00\\x85\\x00\\x00\\x00\\x13\\x00\\x11\\x00\\x00\\x0ewww.google.com\\x00\\x05\\x00\\x05\\x01\\x00\\x00\\x00\\x00\\x00\\n\\x00\\x04\\x00\\x02\\x00\\x1d\\x00\\x0b\\x00\\x02\\x01\\x00\\x00\\r\\x00\\x04\\x00\\x02\\x04\\x03\\xff\\x01\\x00\\x01\\x00\\x00\\x10\\x00\\x0b\\x00\\t\\x08http/1.1\\x00\\x12\\x00\\x00\\x00+\\x00\\t\\x08\\x03\\x04\\x03\\x03\\x03\\x02\\x03\\x01\\x003\\x00&\\x00$\\x00\\x1d\\x00 \\xf9S\\x82\\xfb\\xa9\\x80\\xa8\\xed_\\xaaI`\\x17\\x0e\\xa5\\xfc\\xf9ou\\xdb{I\\x1f\\x0e\\xec\\x8e\\x02\\x1cE\\xc1'u\""
      ]
     },
     "execution_count": 9,
     "metadata": {},
     "output_type": "execute_result"
    }
   ],
   "source": [
    "client_hello_encoded = construct(client_hello_packet_spec, client_hello_packet)\n",
    "client_hello_encoded"
   ]
  },
  {
   "cell_type": "code",
   "execution_count": 10,
   "metadata": {
    "ExecuteTime": {
     "end_time": "2022-02-17T12:50:06.985807Z",
     "start_time": "2022-02-17T12:50:06.962881Z"
    }
   },
   "outputs": [],
   "source": [
    "transcript.update(client_hello_encoded[5:])"
   ]
  },
  {
   "cell_type": "code",
   "execution_count": 11,
   "metadata": {
    "ExecuteTime": {
     "end_time": "2022-02-17T12:50:07.010840Z",
     "start_time": "2022-02-17T12:50:06.987859Z"
    }
   },
   "outputs": [],
   "source": [
    "sock.send(client_hello_encoded)"
   ]
  },
  {
   "cell_type": "code",
   "execution_count": 12,
   "metadata": {
    "ExecuteTime": {
     "end_time": "2022-02-17T12:50:07.035831Z",
     "start_time": "2022-02-17T12:50:07.012453Z"
    }
   },
   "outputs": [],
   "source": [
    "def read_tls(sock):\n",
    "    header = bytearray(sock.read_len(5))\n",
    "    l = (header[3] << 8) + header[4]\n",
    "    body = sock.read_len(l)\n",
    "    return header + body"
   ]
  },
  {
   "cell_type": "code",
   "execution_count": 13,
   "metadata": {
    "ExecuteTime": {
     "end_time": "2022-02-17T12:50:07.061814Z",
     "start_time": "2022-02-17T12:50:07.037079Z"
    }
   },
   "outputs": [],
   "source": [
    "server_hello_encoded = read_tls(sock)"
   ]
  },
  {
   "cell_type": "code",
   "execution_count": 14,
   "metadata": {},
   "outputs": [
    {
     "data": {
      "text/plain": [
       "bytearray(b'\\x16\\x03\\x03\\x00z\\x02\\x00\\x00v\\x03\\x03\\x7f\\xf9\\x91\\xd1{\\xdczq\\xcb\\x8fZ0>\\x9d\\x06\\xa0$\"vI\\xcf\\x81\\xa3\\x88\\x94\\xd6\\xb9\\x18\\xeb\\xec\\xa5\\xe4 \\x13\\x02b\\xb1\\xedb=\\x15\\xda\\xe1\\x18\\x90\\\\\\xdeH\\x93n\\xdc\\xf5x\\xfaB-\\x94lR\\x85B=b4\\xe6\\x13\\x01\\x00\\x00.\\x003\\x00$\\x00\\x1d\\x00 \\xfb\\x18AG=\\x0c\\x05\\xc7\\x83\\x87\\xc8\\x1a\\x862\\x17?\\xf9\\x9a\\xf8C\\xf9g\\x9e\\xd3K\\xca3\\x1d\\xed-\\x9cM\\x00+\\x00\\x02\\x03\\x04')"
      ]
     },
     "execution_count": 14,
     "metadata": {},
     "output_type": "execute_result"
    }
   ],
   "source": [
    "server_hello_encoded"
   ]
  },
  {
   "cell_type": "code",
   "execution_count": 15,
   "metadata": {
    "ExecuteTime": {
     "end_time": "2022-02-17T12:50:07.088239Z",
     "start_time": "2022-02-17T12:50:07.064938Z"
    }
   },
   "outputs": [],
   "source": [
    "transcript.update(server_hello_encoded[5:])"
   ]
  },
  {
   "cell_type": "code",
   "execution_count": 16,
   "metadata": {
    "ExecuteTime": {
     "end_time": "2022-02-17T12:50:07.115193Z",
     "start_time": "2022-02-17T12:50:07.091520Z"
    }
   },
   "outputs": [],
   "source": [
    "\n",
    "\"\"\"8==1@_selector-24@client_hello(\n",
    "    16@version\n",
    "    -32B@random\n",
    "    -8@session_id()\n",
    "    -16(...16@suites)\n",
    "    -8(...8@compressions)\n",
    "    -16(\n",
    "        ...@extensions(\n",
    "            16==0@_selector-16@ext_server_name(\n",
    "                16@data(\n",
    "                    8@name_type\n",
    "                    -16@host_name()\n",
    "                )\n",
    "            )\n",
    "            |16==5@_selector-16@ext_status_request(\n",
    "                8@status_type\n",
    "                -16@responder_id_list\n",
    "                -16@request_extensions\n",
    "            )\n",
    "            |16==10@_selector-16@ext_supported_curves(\n",
    "                16(...16@data)\n",
    "            )\n",
    "            |16==11@_selector-16@ext_supported_points(\n",
    "                8(...8@supported_points)\n",
    "            )\n",
    "            |16==35@_selector-16@ext_session_tickets()\n",
    "            |16==13@_selector-16@ext_signature_algorithms(\n",
    "                16(...16@data)\n",
    "            )\n",
    "            |16==50@_selector-16@ext_signature_algorithms_cert(\n",
    "                16(...16@data)\n",
    "            )\n",
    "            |16==0xff01@_selector-16@ext_renegotiation_info(\n",
    "                8@secure_renegotitation()\n",
    "            )\n",
    "            |16==16@_selector-16@ext_alpn(\n",
    "                16@alpn_protocols(...8())\n",
    "            )\n",
    "            |16==43@_selector-16@ext_suppoerted_versions(\n",
    "                8@supported_versions(...16)\n",
    "            )\n",
    "            |16==44@_selector-16@ext_cookie(\n",
    "                16@cookie()\n",
    "            )\n",
    "            |16==51@_selector-16@ext_key_share(\n",
    "                16@key_shares(\n",
    "                    ...(\n",
    "                        16@group\n",
    "                        -16@data()\n",
    "                    )\n",
    "                )\n",
    "            )\n",
    "            |16==18@_selector-16@ext_sct(\n",
    "                ...16@data()\n",
    "            )\n",
    "            |16==24@_selector-16@ext_token_binding(\n",
    "\n",
    "            )\n",
    "            |16==42@_selector-16@empty()\n",
    "            |16==45@_selector-16@ext_psk_modes(\n",
    "                8@psk_modes()\n",
    "            )\n",
    "            |16==41@_selector-16@ext_pre_shared_key(\n",
    "                16@psk_identities(\n",
    "                    ...(\n",
    "                        16@label()\n",
    "                        -32@obfuscated_ticket_age\n",
    "                    )\n",
    "                )\n",
    "                -16@psk_binders(\n",
    "                    ...8()\n",
    "                )\n",
    "            )\n",
    "            |16@selector-16@raw_extension()\n",
    "        )\n",
    "    )\n",
    ")\"\"\"\n",
    "\n",
    "server_hello_spec = \"\"\"\n",
    "8==2@_selector-24@server_hello(\n",
    "    16@version\n",
    "    -32B@random\n",
    "    -8@session_id()\n",
    "    -16@suite\n",
    "    -8@compression\n",
    "    -16(\n",
    "        ...@extensions(\n",
    "            16==5@_selector-16@ext_status_request(\n",
    "                8@status_type\n",
    "                -16@responder_id_list\n",
    "                -16@request_extensions\n",
    "            )\n",
    "            |16==11@_selector-16@ext_supported_points(\n",
    "                8(8@supported_points)\n",
    "            )\n",
    "            |16==35@_selector-16@ext_session_tickets()\n",
    "            |16==0xff01@_selector-16@ext_renegotiation_info(\n",
    "                8@secure_renegotitation()\n",
    "            )\n",
    "            |16==16@_selector-16@ext_alpn(\n",
    "                16@alpn_protocols(8())\n",
    "            )\n",
    "            |16==18@_selector-16@ext_sct(\n",
    "                16@data()\n",
    "            )\n",
    "            |16==43@_selector-16@ext_suppoerted_versions(\n",
    "                16@supported_versions\n",
    "            )\n",
    "            |16==44@_selector-16@ext_cookie(\n",
    "                16@cookie()\n",
    "            )\n",
    "            |16==51@_selector-16@ext_key_share(\n",
    "                16@group\n",
    "                -16@data()\n",
    "            )\n",
    "            |16==41@_selector-16@ext_pre_shared_key(\n",
    "                16@label()\n",
    "            )\n",
    "            |16@selector-16@raw_extension()\n",
    "        )\n",
    "    )\n",
    ")\n",
    "\"\"\"\n",
    "\n",
    "\n",
    "server_hello_packet_spec = \"\"\"\n",
    " 8==22@_selector-16@tls_version-16@tls_handshake(%s)\n",
    "|8==20@_selector-16@tls_version-16@change_cypher()\n",
    "|8==21@_selector-16@tls_version-16@alert()\n",
    "|8==23@_selector-16@tls_version-16@application_data()\n",
    "\"\"\"%server_hello_spec\n"
   ]
  },
  {
   "cell_type": "code",
   "execution_count": 17,
   "metadata": {
    "ExecuteTime": {
     "end_time": "2022-02-17T12:50:07.141826Z",
     "start_time": "2022-02-17T12:50:07.117896Z"
    }
   },
   "outputs": [],
   "source": [
    "server_hello = match_exact(server_hello_packet_spec, server_hello_encoded)"
   ]
  },
  {
   "cell_type": "code",
   "execution_count": 18,
   "metadata": {
    "ExecuteTime": {
     "end_time": "2022-02-17T12:50:07.168215Z",
     "start_time": "2022-02-17T12:50:07.143464Z"
    }
   },
   "outputs": [
    {
     "data": {
      "text/plain": [
       "{'_selector': 22,\n",
       " 'tls_version': 0x0303,\n",
       " 'tls_handshake': {'_selector': 2,\n",
       "  'server_hello': {'version': 0x0303,\n",
       "   'random': 0x7ff991d17bdc7a71cb8f5a303e9d06a024227649cf81a38894d6b918ebeca5e4,\n",
       "   'session_id': 0x130262b1ed623d15dae118905cde48936edcf578fa422d946c5285423d6234e6,\n",
       "   'suite': 0x1301,\n",
       "   'compression': 0,\n",
       "   'extensions': [{'_selector': 0x0033,\n",
       "     'ext_key_share': {'group': 0x001d,\n",
       "      'data': 0xfb1841473d0c05c78387c81a8632173ff99af843f9679ed34bca331ded2d9c4d}},\n",
       "    {'_selector': 0x002b,\n",
       "     'ext_suppoerted_versions': {'supported_versions': 0x0304}}]}}}"
      ]
     },
     "execution_count": 18,
     "metadata": {},
     "output_type": "execute_result"
    }
   ],
   "source": [
    "server_hello"
   ]
  },
  {
   "cell_type": "code",
   "execution_count": 19,
   "metadata": {
    "ExecuteTime": {
     "end_time": "2022-02-17T12:50:07.193268Z",
     "start_time": "2022-02-17T12:50:07.169660Z"
    },
    "scrolled": true
   },
   "outputs": [
    {
     "name": "stdout",
     "output_type": "stream",
     "text": [
      "found public key\n"
     ]
    }
   ],
   "source": [
    "server_public_key = None\n",
    "for extension in server_hello['tls_handshake']['server_hello']['extensions']:\n",
    "    if 'ext_key_share' in extension:\n",
    "        print(\"found public key\")\n",
    "        server_public_key = extension['ext_key_share']['data'].value('bytes')\n",
    "        break\n",
    "    else:\n",
    "        raise RuntimeError(\"unable to find server public key\")\n"
   ]
  },
  {
   "cell_type": "code",
   "execution_count": 20,
   "metadata": {
    "ExecuteTime": {
     "end_time": "2022-02-17T12:50:07.219433Z",
     "start_time": "2022-02-17T12:50:07.197466Z"
    }
   },
   "outputs": [
    {
     "name": "stdout",
     "output_type": "stream",
     "text": [
      "calculated shared key b'[w\\xa7\\x05\\xc8\\x06%\\x07\\x19}?\\x19u\\r\\xebW\\x1c-qKo\\xa5\\x81\\x18p.T\\n\\xd7\\x8d\\x83\\n'\n"
     ]
    }
   ],
   "source": [
    "shared_key = private_key.exchange(X25519PublicKey.from_public_bytes(server_public_key))\n",
    "print(\"calculated shared key\", shared_key)"
   ]
  },
  {
   "cell_type": "code",
   "execution_count": 21,
   "metadata": {
    "ExecuteTime": {
     "end_time": "2022-02-17T12:50:07.244023Z",
     "start_time": "2022-02-17T12:50:07.221803Z"
    }
   },
   "outputs": [],
   "source": [
    "server_change_cipher_encoded = read_tls(sock)"
   ]
  },
  {
   "cell_type": "code",
   "execution_count": 22,
   "metadata": {
    "ExecuteTime": {
     "end_time": "2022-02-17T12:50:07.272664Z",
     "start_time": "2022-02-17T12:50:07.245552Z"
    }
   },
   "outputs": [
    {
     "data": {
      "text/plain": [
       "{'_selector': 20, 'tls_version': 0x0303, 'change_cypher': 1}"
      ]
     },
     "execution_count": 22,
     "metadata": {},
     "output_type": "execute_result"
    }
   ],
   "source": [
    "server_change_cipher = match_exact(server_hello_packet_spec, server_change_cipher_encoded)\n",
    "server_change_cipher"
   ]
  },
  {
   "cell_type": "code",
   "execution_count": 23,
   "metadata": {
    "ExecuteTime": {
     "end_time": "2022-02-17T12:50:07.296551Z",
     "start_time": "2022-02-17T12:50:07.274987Z"
    }
   },
   "outputs": [],
   "source": [
    "sock.send(server_change_cipher_encoded)"
   ]
  },
  {
   "cell_type": "code",
   "execution_count": 24,
   "metadata": {
    "ExecuteTime": {
     "end_time": "2022-02-17T12:50:07.326074Z",
     "start_time": "2022-02-17T12:50:07.297859Z"
    }
   },
   "outputs": [],
   "source": [
    "def get_info(label, length, context=b''):\n",
    "    return b'\\x00' + bytearray((length, len(b'tls13 '+label),)) + b'tls13 ' + label + bytearray((len(context),)) + context\n",
    "\n",
    "def extract(secret, salt):\n",
    "    return HKDF(hashes.SHA256(), 32, salt, b'')._extract(secret)    \n",
    "    \n",
    "def derive(secret, label, prev=None):\n",
    "    context = get_hash(prev)\n",
    "    return expand(secret, label, 32, context)\n",
    "    \n",
    "def expand(secret, label, l, context=b''):\n",
    "    return HKDFExpand(hashes.SHA256(), l, get_info(label, l, context)).derive(secret)\n",
    "\n",
    "def get_hash(prev):\n",
    "    if prev is None:\n",
    "        prev = hashes.Hash(hashes.SHA256())\n",
    "    c = prev.copy()\n",
    "    return c.finalize()\n",
    "\n",
    "def finished_hash(secret, prev=None):\n",
    "    finished_key = expand(secret, b'finished', 32)\n",
    "    context = get_hash(prev)\n",
    "    h = HMAC(finished_key, hashes.SHA256())\n",
    "    h.update(context)\n",
    "    return h.finalize()\n",
    "    "
   ]
  },
  {
   "cell_type": "code",
   "execution_count": 25,
   "metadata": {
    "ExecuteTime": {
     "end_time": "2022-02-17T12:50:07.350583Z",
     "start_time": "2022-02-17T12:50:07.328336Z"
    }
   },
   "outputs": [],
   "source": [
    "early_secret = extract(b'\\0'*32, None)\n",
    "\n",
    "extractor = derive(early_secret, b\"derived\")\n",
    "\n",
    "handshake_secret = extract(shared_key, extractor)"
   ]
  },
  {
   "cell_type": "code",
   "execution_count": 26,
   "metadata": {
    "ExecuteTime": {
     "end_time": "2022-02-17T12:50:07.375340Z",
     "start_time": "2022-02-17T12:50:07.352553Z"
    }
   },
   "outputs": [],
   "source": [
    "server_handshake_secret = derive(handshake_secret, b\"s hs traffic\", transcript)\n",
    "\n",
    "server_handshake_key = expand(server_handshake_secret, b'key', 16)\n",
    "server_handshake_nonce = (expand(server_handshake_secret, b'iv', 12), 0)"
   ]
  },
  {
   "cell_type": "code",
   "execution_count": 27,
   "metadata": {
    "ExecuteTime": {
     "end_time": "2022-02-17T12:50:07.399388Z",
     "start_time": "2022-02-17T12:50:07.376999Z"
    }
   },
   "outputs": [],
   "source": [
    "client_handshake_secret = derive(handshake_secret, b\"c hs traffic\", transcript)\n",
    "\n",
    "client_handshake_key = expand(client_handshake_secret, b'key', 16)\n",
    "client_handshake_nonce = (expand(client_handshake_secret, b'iv', 12), 0)"
   ]
  },
  {
   "cell_type": "code",
   "execution_count": 28,
   "metadata": {
    "ExecuteTime": {
     "end_time": "2022-02-17T12:50:07.423105Z",
     "start_time": "2022-02-17T12:50:07.400656Z"
    }
   },
   "outputs": [],
   "source": [
    "server_cert_encrypted_encoded = read_tls(sock)"
   ]
  },
  {
   "cell_type": "code",
   "execution_count": 29,
   "metadata": {
    "ExecuteTime": {
     "end_time": "2022-02-17T12:50:07.457524Z",
     "start_time": "2022-02-17T12:50:07.424822Z"
    }
   },
   "outputs": [
    {
     "data": {
      "text/plain": [
       "{'_selector': 23,\n",
       " 'tls_version': 0x0303,\n",
       " 'application_data': 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}"
      ]
     },
     "execution_count": 29,
     "metadata": {},
     "output_type": "execute_result"
    }
   ],
   "source": [
    "server_cert_encrypted = match_exact(server_hello_packet_spec, server_cert_encrypted_encoded)\n",
    "server_cert_encrypted"
   ]
  },
  {
   "cell_type": "code",
   "execution_count": 30,
   "metadata": {
    "ExecuteTime": {
     "end_time": "2022-02-17T12:50:07.481432Z",
     "start_time": "2022-02-17T12:50:07.459203Z"
    }
   },
   "outputs": [],
   "source": [
    "def update_nonce(nonce):\n",
    "    return (nonce[0], nonce[1]+1)\n",
    "\n",
    "def get_nonce(nonce):\n",
    "    return bytes(a ^ b for a, b in zip(nonce[0], nonce[1].to_bytes(len(nonce[0]), 'big')))"
   ]
  },
  {
   "cell_type": "code",
   "execution_count": 31,
   "metadata": {
    "ExecuteTime": {
     "end_time": "2022-02-17T12:50:07.507038Z",
     "start_time": "2022-02-17T12:50:07.482725Z"
    }
   },
   "outputs": [],
   "source": [
    "def decrypt_packet(packet, key, nonce):\n",
    "    packet = bytes(packet)\n",
    "    cipher = AESGCM(key)\n",
    "    all_server_cert_packet = cipher.decrypt(get_nonce(nonce), packet[5:], packet[:5])\n",
    "    server_cert_packet, server_cert_packet_suffix = all_server_cert_packet[:-1], all_server_cert_packet[-1]\n",
    "    return server_cert_packet, server_cert_packet_suffix, update_nonce(nonce)\n",
    "\n",
    "def encrypt_packet(packet, suffix, key, nonce):\n",
    "    app_header_spec = \"8@packet_type-16@tls_version-16@application_data_length\"\n",
    "\n",
    "    raw_packet = packet + suffix\n",
    "\n",
    "    header_encoded = construct(app_header_spec, {\n",
    "        \"packet_type\": 23,\n",
    "        \"tls_version\": 0x0303,\n",
    "        \"application_data_length\": len(raw_packet) + 16,\n",
    "    })\n",
    "\n",
    "    \n",
    "    cipher = AESGCM(key)\n",
    "    encrypted_app_data = cipher.encrypt(get_nonce(nonce), raw_packet, header_encoded)\n",
    "    packet = header_encoded + encrypted_app_data\n",
    "    return packet, update_nonce(nonce)"
   ]
  },
  {
   "cell_type": "code",
   "execution_count": 32,
   "metadata": {
    "ExecuteTime": {
     "end_time": "2022-02-17T12:50:07.534078Z",
     "start_time": "2022-02-17T12:50:07.508753Z"
    }
   },
   "outputs": [
    {
     "name": "stdout",
     "output_type": "stream",
     "text": [
      "22\n"
     ]
    },
    {
     "data": {
      "text/plain": [
       "b'\\x08\\x00\\x00\\x11\\x00\\x0f\\x00\\x10\\x00\\x0b\\x00\\t\\x08http/1.1\\x0b\\x00\\x0e\\xe3\\x00\\x00\\x0e\\xdf\\x00\\x04[0\\x82\\x04W0\\x82\\x03?\\xa0\\x03\\x02\\x01\\x02\\x02\\x11\\x00\\x8a\\xach\\x10\\x96\\x1f\\xa6P\\x10\\xaa\\x01\\x93\\xf9\\xfd\\xec\\xb50\\r\\x06\\t*\\x86H\\x86\\xf7\\r\\x01\\x01\\x0b\\x05\\x000;1\\x0b0\\t\\x06\\x03U\\x04\\x06\\x13\\x02US1\\x1e0\\x1c\\x06\\x03U\\x04\\n\\x13\\x15Google Trust Services1\\x0c0\\n\\x06\\x03U\\x04\\x03\\x13\\x03WR20\\x1e\\x17\\r240613163610Z\\x17\\r240905163609Z0\\x191\\x170\\x15\\x06\\x03U\\x04\\x03\\x13\\x0ewww.google.com0Y0\\x13\\x06\\x07*\\x86H\\xce=\\x02\\x01\\x06\\x08*\\x86H\\xce=\\x03\\x01\\x07\\x03B\\x00\\x04\\xb3\\xc0\\xf9$\\xb9\\x94\\xf8<\\xf1`\\xb3NI\\x83\\xc6\\xaa\\xfc\\xe0\\xbc\\xba\\xfc\\xf4\\xe2:\\x07x;X\\xda\\xab^\\xdd9\\xb2\\xfc\\xba\\xaeY\\x1b\\xe7\\n\\x07\\xb9\\xe3\\x9aDX{\\xc0\\xc6\\xdapc\\x86\\xe1q\\xa8\\xf9J\\xe5\\xbes\\x93\\xdc\\xa3\\x82\\x02A0\\x82\\x02=0\\x0e\\x06\\x03U\\x1d\\x0f\\x01\\x01\\xff\\x04\\x04\\x03\\x02\\x07\\x800\\x13\\x06\\x03U\\x1d%\\x04\\x0c0\\n\\x06\\x08+\\x06\\x01\\x05\\x05\\x07\\x03\\x010\\x0c\\x06\\x03U\\x1d\\x13\\x01\\x01\\xff\\x04\\x020\\x000\\x1d\\x06\\x03U\\x1d\\x0e\\x04\\x16\\x04\\x14\\xa7\\xd7\\x83A\\xfe\\xdf\\xb5\\xe12\\xc1\\x10\\xd8\\xf4\\x823\\xac\\x11\\xeb\\x07-0\\x1f\\x06\\x03U\\x1d#\\x04\\x180\\x16\\x80\\x14\\xde\\x1b\\x1e\\xedy\\x15\\xd4>7$\\xc3!\\xbb\\xec49mB\\xb200X\\x06\\x08+\\x06\\x01\\x05\\x05\\x07\\x01\\x01\\x04L0J0!\\x06\\x08+\\x06\\x01\\x05\\x05\\x070\\x01\\x86\\x15http://o.pki.goog/wr20%\\x06\\x08+\\x06\\x01\\x05\\x05\\x070\\x02\\x86\\x19http://i.pki.goog/wr2.crt0\\x19\\x06\\x03U\\x1d\\x11\\x04\\x120\\x10\\x82\\x0ewww.google.com0\\x13\\x06\\x03U\\x1d \\x04\\x0c0\\n0\\x08\\x06\\x06g\\x81\\x0c\\x01\\x02\\x0106\\x06\\x03U\\x1d\\x1f\\x04/0-0+\\xa0)\\xa0\\'\\x86%http://c.pki.goog/wr2/oQ6nyr8F0m0.crl0\\x82\\x01\\x04\\x06\\n+\\x06\\x01\\x04\\x01\\xd6y\\x02\\x04\\x02\\x04\\x81\\xf5\\x04\\x81\\xf2\\x00\\xf0\\x00u\\x00\\xee\\xcd\\xd0d\\xd5\\xdb\\x1a\\xce\\xc5\\\\\\xb7\\x9d\\xb4\\xcd\\x13\\xa22\\x87F|\\xbc\\xec\\xde\\xc3QHYFq\\x1f\\xb5\\x9b\\x00\\x00\\x01\\x90\\x12\\xab\\xde\\x80\\x00\\x00\\x04\\x03\\x00F0D\\x02 ]\\x01\\x80{p\\xb6\\x8a\\x80\\xe9}|\\xcdQ\\xfa\\xb1\\x862\\xca\\x19\\xe2qpCB\\x00=\\xc1\\xfb\\xea\\xe6C\\xe0\\x02 \\\\\\x1d\\xd9\\xad9\\x8e\\xa7m\\xbb2\\xdce\\x84?\\x8b\\x1f\\xbfX\\x7f\\x0cC\\xef\\x05\\\\\\xcc\\xa6\\xfd\\xe0\\xa5+[\\xa8\\x00w\\x00\\x19\\x98\\x10q\\t\\xf0\\xd6R.0\\x80\\xd2\\x9e?d\\xbb\\x83n(\\xcc\\xf9\\x0fR\\x8e\\xee\\xdf\\xceJ?\\x16\\xb4\\xca\\x00\\x00\\x01\\x90\\x12\\xab\\xdfm\\x00\\x00\\x04\\x03\\x00H0F\\x02!\\x00\\xf1\\x01\\x959\\x9c\\xf2j\\xc8\\xda\\x84\\x9a\\x91\\xde\\xe4\\xf4\\xc2\\x8b_\\xa4r\\x1e\\x84\\xac\\xc6O\\x03\\xdf\\x839Z\\xa1\\x04\\x02!\\x00\\xeeG5\\x9f\\xd1X\\xcft\\xbb\\xa9\\x1f\\xac\\x1c\\xed\\x9f\\xf6 \\xee\\xb1\\xdc\\x93\\xc3L\\x80\\xee\\xe5\\x80%d\\xcf\\xbf\"0\\r\\x06\\t*\\x86H\\x86\\xf7\\r\\x01\\x01\\x0b\\x05\\x00\\x03\\x82\\x01\\x01\\x00\\x80\\xf7rHT\\r\\x92\\xa3\\'\\xd0(\\x0b\\x90\\xbe\\x86\\x8c\\xc5\\x87\\\\}\\x01\\x02\\x00\\x14-\\x10\\xce\\xc4\\x93\\xd1\\xb0d\\xe1\\xe6\\xf1\\xaf\\xdf\\x931\\xf6;e\\x8f\\xa4\\xcb\\xf6\\xb3\\xaa\\xdc\\xc0\\x00*\\xcd\\xaf\\xf1C\\x9b\\xb6D1\\xcf\\x03\\x0b\\xb5aSC\\xbd\\x7f\\x12\\tg\\xc6/\\xb8\\x92%f\\x11\\xe6\\x1d\\xd6\\xe5@n\"8j\\x17\\xeau\\x16\\xc3\\xcb\\x0b\\xae\\x80\\xf7\\x17\\xbd\\x90\\xe5\\xb0\\x9c\\xc1\\x8f\\xba\\xf8E\\x84B[?\\x153\\x88L\\xb0\\x0e\\xdc\\xec\\xbe\\x7f\\xf7{\\x9b7p\\x1f\\xc7\\xd8CN\\x992\\'\\xe3ej)\\x0f\\x80\\x93\\x1d\\x990\\x1bS\\xf6\\x8d\\x18\\x15B\\x8d7\\xe5\\xf3\\xea\\xa4M\\'\\xb4v1\\x81\\xd6\\xb8\\x98!\\xb8\\xd1\\xcf\\x00\\xca\\xad\\xe8z\\xeelW}\\x85\\xb1I\\x91\\xa8])\\x87\\xa5^w\\xb5\\\\\\x02I\\xe9\\x0f\\xcc#\\xecT\\xee\\xc8jh\\xfc\\x97Me\\x88\\xaf2\\xb9n\\xa6\\x96\\x9f\\x0e\\xb7\\x8a}\\xc1\\xcb\\x04\\x88q+m\\xdf@\\x88o/\\x0c]jl\\xc5\\x9c\\t\\xcc\\x87\\x99\\x92Bv\\xf7\\xafYl\\r\\x1e\\x06P\\x0b\\x00\\x00\\x00\\x05\\x0f0\\x82\\x05\\x0b0\\x82\\x02\\xf3\\xa0\\x03\\x02\\x01\\x02\\x02\\x10\\x7f\\xf0\\x05\\xa0|L\\xde\\xd1\\x00\\xad\\x9df\\xa5\\x10{\\x980\\r\\x06\\t*\\x86H\\x86\\xf7\\r\\x01\\x01\\x0b\\x05\\x000G1\\x0b0\\t\\x06\\x03U\\x04\\x06\\x13\\x02US1\"0 \\x06\\x03U\\x04\\n\\x13\\x19Google Trust Services LLC1\\x140\\x12\\x06\\x03U\\x04\\x03\\x13\\x0bGTS Root R10\\x1e\\x17\\r231213090000Z\\x17\\r290220140000Z0;1\\x0b0\\t\\x06\\x03U\\x04\\x06\\x13\\x02US1\\x1e0\\x1c\\x06\\x03U\\x04\\n\\x13\\x15Google Trust Services1\\x0c0\\n\\x06\\x03U\\x04\\x03\\x13\\x03WR20\\x82\\x01\"0\\r\\x06\\t*\\x86H\\x86\\xf7\\r\\x01\\x01\\x01\\x05\\x00\\x03\\x82\\x01\\x0f\\x000\\x82\\x01\\n\\x02\\x82\\x01\\x01\\x00\\xa9\\xff\\x9c\\x7fE\\x1ep\\xa8S\\x9f\\xca\\xd9\\xe5\\r\\xdeFWW}\\xbc\\x8f\\x9aZ\\xacF\\xf1\\x84\\x9a\\xbb\\x91\\xdb\\xc9\\xfb/\\x01\\xfb\\x92\\t\\x00\\x16^\\xa0\\x1c\\xf8\\xc1\\xab\\xf9x/J\\xcc\\xd8\\x85\\xa2\\xd8Y<\\x0e\\xd3\\x18\\xfb\\xb1\\xf5$\\r&\\xee\\xb6[dv|\\x14\\xc7/z\\xce\\xa8L\\xb7\\xf4\\xd9\\x08\\xfc\\xdf\\x87#5 \\xa8\\xe2i\\xe2\\x8cN?\\xb1Y\\xfa`\\xa2\\x1e\\xb3\\xc9 S\\x19\\x82\\xca6Sm`M\\xe9\\x00\\x91\\xfcv\\x8d\\\\\\x08\\x0f\\n\\xc2\\xdc\\xf1sk\\xc5\\x13n\\nOz\\xc2\\xf2\\x02\\x1c.\\xb4c\\x83\\xda1\\xf6-u0\\xb2\\xfb\\xab\\xc2n\\xdb\\xa9\\xc0\\x0e\\xb9\\xf9g\\xd4\\xc3%Wt\\xeb\\x05\\xb4\\xe9\\x8e\\xb5\\xde(\\xcd\\xccz\\x14\\xe4q\\x03\\xcbMa.aW\\xc5\\x19\\xa9\\x0b\\x98\\x84\\x1a\\xe8y)\\xd9\\xb2\\x8d/\\xffWjf\\xe0\\xce\\xab\\x95\\xa8)\\x96cp\\x12g\\x1e:\\xe1\\xdb\\xb0!q\\xd7|\\x9e\\xfd\\xaa\\x17n\\xfe+\\xfb8\\x17\\x14\\xd1f\\xa7\\xaf\\x9a\\xb5p\\xcc\\xc8c\\x81:\\x8c\\xc0*\\xa9v7\\xce\\xe3\\x02\\x03\\x01\\x00\\x01\\xa3\\x81\\xfe0\\x81\\xfb0\\x0e\\x06\\x03U\\x1d\\x0f\\x01\\x01\\xff\\x04\\x04\\x03\\x02\\x01\\x860\\x1d\\x06\\x03U\\x1d%\\x04\\x160\\x14\\x06\\x08+\\x06\\x01\\x05\\x05\\x07\\x03\\x01\\x06\\x08+\\x06\\x01\\x05\\x05\\x07\\x03\\x020\\x12\\x06\\x03U\\x1d\\x13\\x01\\x01\\xff\\x04\\x080\\x06\\x01\\x01\\xff\\x02\\x01\\x000\\x1d\\x06\\x03U\\x1d\\x0e\\x04\\x16\\x04\\x14\\xde\\x1b\\x1e\\xedy\\x15\\xd4>7$\\xc3!\\xbb\\xec49mB\\xb200\\x1f\\x06\\x03U\\x1d#\\x04\\x180\\x16\\x80\\x14\\xe4\\xaf+&q\\x1a+H\\'\\x85/Rf,\\xef\\xf0\\x89\\x13q>04\\x06\\x08+\\x06\\x01\\x05\\x05\\x07\\x01\\x01\\x04(0&0$\\x06\\x08+\\x06\\x01\\x05\\x05\\x070\\x02\\x86\\x18http://i.pki.goog/r1.crt0+\\x06\\x03U\\x1d\\x1f\\x04$0\"0 \\xa0\\x1e\\xa0\\x1c\\x86\\x1ahttp://c.pki.goog/r/r1.crl0\\x13\\x06\\x03U\\x1d \\x04\\x0c0\\n0\\x08\\x06\\x06g\\x81\\x0c\\x01\\x02\\x010\\r\\x06\\t*\\x86H\\x86\\xf7\\r\\x01\\x01\\x0b\\x05\\x00\\x03\\x82\\x02\\x01\\x00Eu\\x8b\\xe5\\x1f;D\\x13\\x96\\x1a\\xabX\\xf15\\xc9o=\\xd2\\xd03J\\x863\\xbaWQO\\xee\\xc44\\xda\\x16\\x12L\\xbf\\x13\\x9f\\r\\xd4T\\xe9Hy\\xc00<\\x94%\\xf2\\x1a\\xf4\\xba2\\x94\\xb63r\\x0b\\x85\\xee\\t\\x11%4\\x94\\xe1oB\\xdb\\x82\\x9b{\\x7f*\\x9a\\xa9\\xff\\x7f\\xa9\\xd2\\xdeJ \\xcb\\xb3\\xfb\\x03\\x03\\xb8\\xf8\\x07\\x05\\xdaY\\x92/\\x18F\\x98\\xce\\xafr\\xbe$&\\xb1\\x1e\\x00M\\xbd\\x08\\xad\\x93AD\\n\\xbb\\xc7\\xd5\\x01\\x85\\xbf\\x93W\\xe3\\xdft\\x12S\\x0e\\x11%\\xd3\\x9b\\xdc\\xde\\xcb\\'n\\xb3\\xc2\\xb93b9\\xc2\\xe05\\xe1[\\xa7\\t.\\x19\\xcb\\x91*v\\\\\\xf1\\xdf\\xca#\\x84@\\xa5o\\xff\\x9aA\\xe0\\xb5\\xef2\\xd1\\x85\\xae\\xaf%\\t\\xf0b\\xc5n\\xc2\\xc8n2\\xfd\\xb8\\xda\\xe2\\xceJ\\x91J\\xf3\\x85UN\\xb1u\\xd6H3/o\\x84\\xd9\\x12\\\\\\x9f\\xd4q\\x98c%\\x8di\\\\\\nk}\\xf2A\\xbd\\xe8\\xbb\\x8f\\xe4\"\\xd7\\x9deE\\xe8L\\n\\x87\\xda\\xe9`f\\x88\\x0e\\x1f\\xc7\\xe1NV\\xc5v\\xff\\xb4zWi\\xf2\\x02\"\\t&A\\x1d\\xdat\\xa2\\xe5)\\xf3\\xc4\\x9a\\xe5]\\xd6\\xaaz\\xfd\\xe1\\xb7+f8\\xfb\\xe8)f\\xba\\xef\\xa0\\x13/\\xf8s~\\xf0\\xda@\\x11\\x1c]\\xdd\\x8f\\xa6\\xfc\\xbe\\xdb\\xbeV\\xf82\\x9c\\x1fAAm~\\xb6\\xc5\\xeb\\xc6\\x8b6\\xb7\\x17\\x8c\\x9d\\xcf\\x19z4\\x9f!\\x93\\xc4~t5\\xd2\\xaa\\xfdLm\\x14\\xf5\\xc9\\xb0y[I<\\xf3\\xbf\\x17H\\xe8\\xef\\x9a&\\x13\\x0c\\x87\\xf2s\\xd6\\x9c\\xc5Rkc\\xf72\\x90x\\xa9k\\xeb^\\xd6\\x93\\xa1\\xbf\\xbc\\x18=\\x8bY\\xf6\\x8a\\xc6\\x05^R\\x18\\xe2f\\xe0\\xda\\xc1\\xdc\\xadZ%\\xaa\\xf4E\\xfc\\xf1\\x0bx\\xa4\\xaf\\xb0\\xf2s\\xa40\\xa84\\xc1S\\x7fB\\x96\\xe5HA\\xeb\\x90F\\x0c\\x06\\xdc\\xcb\\x92\\xc6^\\xf3DDCF)F\\xa0\\xa6\\xfc\\xb9\\x8e9\\'9\\xb1Z\\xe2\\xb1\\xad\\xfc\\x13\\xff\\x8e\\xfc&\\xe1\\xd4\\xfe\\x84\\xf1PZ\\x8e\\x97k-*y\\xfb@d\\xea\\xf3=\\xbd[\\xe1\\xa0\\x04\\xb0\\x97H\\x1cB\\xf5\\xeaZ\\x1c\\xcd&\\xc8Q\\xff\\x14\\x99g\\x89r_\\x1d\\xec\\xadZ\\xdd\\x00\\x00\\x00\\x05f0\\x82\\x05b0\\x82\\x04J\\xa0\\x03\\x02\\x01\\x02\\x02\\x10w\\xbd\\rl\\xdb6\\xf9\\x1a\\xea!\\x0f\\xc4\\xf0X\\xd3\\r0\\r\\x06\\t*\\x86H\\x86\\xf7\\r\\x01\\x01\\x0b\\x05\\x000W1\\x0b0\\t\\x06\\x03U\\x04\\x06\\x13\\x02BE1\\x190\\x17\\x06\\x03U\\x04\\n\\x13\\x10GlobalSign nv-sa1\\x100\\x0e\\x06\\x03U\\x04\\x0b\\x13\\x07Root CA1\\x1b0\\x19\\x06\\x03U\\x04\\x03\\x13\\x12GlobalSign Root CA0\\x1e\\x17\\r200619000042Z\\x17\\r280128000042Z0G1\\x0b0\\t\\x06\\x03U\\x04\\x06\\x13\\x02US1\"0 \\x06\\x03U\\x04\\n\\x13\\x19Google Trust Services LLC1\\x140\\x12\\x06\\x03U\\x04\\x03\\x13\\x0bGTS Root R10\\x82\\x02\"0\\r\\x06\\t*\\x86H\\x86\\xf7\\r\\x01\\x01\\x01\\x05\\x00\\x03\\x82\\x02\\x0f\\x000\\x82\\x02\\n\\x02\\x82\\x02\\x01\\x00\\xb6\\x11\\x02\\x8b\\x1e\\xe3\\xa1w\\x9b;\\xdc\\xbf\\x94>\\xb7\\x95\\xa7@<\\xa1\\xfd\\x82\\xf9}2\\x06\\x82q\\xf6\\xf6\\x8c\\x7f\\xfb\\xe8\\xdb\\xbcj.\\x97\\x97\\xa3\\x8cK\\xf9+\\xf6\\xb1\\xf9\\xce\\x84\\x1d\\xb1\\xf9\\xc5\\x97\\xde\\xef\\xb9\\xf2\\xa3\\xe9\\xbc\\x12\\x89^\\xa7\\xaaR\\xab\\xf8#\\'\\xcb\\xa4\\xb1\\x9cc\\xdb\\xd7\\x99~\\xf0\\n^\\xebh\\xa6\\xf4\\xc6ZG\\rM\\x103\\xe3N\\xb1\\x13\\xa3\\xc8\\x18lK\\xec\\xfc\\t\\x90\\xdf\\x9dd)%#\\x07\\xa1\\xb4\\xd2=.`\\xe0\\xcf\\xd2\\t\\x87\\xbb\\xcdH\\xf0M\\xc2\\xc2z\\x88\\x8a\\xbb\\xba\\xcfY\\x19\\xd6\\xaf\\x8f\\xb0\\x07\\xb0\\x9e1\\xf1\\x82\\xc1\\xc0\\xdf.\\xa6ml\\x19\\x0e\\xb5\\xd8~&\\x1aE\\x03=\\xb0y\\xa4\\x94(\\xad\\x0f\\x7f&\\xe5\\xa8\\x08\\xfe\\x96\\xe8<h\\x94S\\xee\\x83:\\x88+\\x15\\x96\\t\\xb2\\xe0z\\x8c.u\\xd6\\x9c\\xeb\\xa7Vd\\x8f\\x96Oh\\xae=\\x97\\xc2\\x84\\x8f\\xc0\\xbc@\\xc0\\x0b\\\\\\xbd\\xf6\\x87\\xb35l\\xac\\x18P\\x7f\\x84\\xe0L\\xcd\\x92\\xd3 \\xe93\\xbcR\\x99\\xaf2\\xb5)\\xb3%*\\xb4H\\xf9r\\xe1\\xcad\\xf7\\xe6\\x82\\x10\\x8d\\xe8\\x9d\\xc2\\x8a\\x88\\xfa8f\\x8a\\xfcc\\xf9\\x01\\xf9x\\xfd{\\\\w\\xfav\\x87\\xfa\\xec\\xdf\\xb1\\x0ey\\x95W\\xb4\\xbd&\\xef\\xd6\\x01\\xd1\\xeb\\x16\\n\\xbb\\x8e\\x0b\\xb5\\xc5\\xc5\\x8aU\\xab\\xd3\\xac\\xea\\x91K)\\xcc\\x19\\xa42%N*\\xf1eD\\xd0\\x02\\xce\\xaa\\xceI\\xb4\\xea\\x9f|\\x83\\xb0@{\\xe7C\\xab\\xa7l\\xa3\\x8f}\\x89\\x81\\xfaL\\xa5\\xff\\xd5\\x8e\\xc3\\xceK\\xe0\\xb5\\xd8\\xb3\\x8eE\\xcfv\\xc0\\xed@+\\xfdS\\x0f\\xb0\\xa7\\xd5;\\r\\xb1\\x8a\\xa2\\x03\\xde1\\xad\\xccw\\xeao{>\\xd6\\xdf\\x91\"\\x12\\xe6\\xbe\\xfa\\xd82\\xfc\\x10c\\x14Qr\\xde]\\xd6\\x16\\x93\\xbd)h3\\xef:f\\xec\\x07\\x8a&\\xdf\\x13\\xd7Wex\\'\\xde^I\\x14\\x00\\xa2\\x00\\x7f\\x9a\\xa8!\\xb6\\xa9\\xb1\\x95\\xb0\\xa5\\xb9\\r\\x16\\x11\\xda\\xc7lH<@\\xe0~\\rZ\\xcdV<\\xd1\\x97\\x05\\xb9\\xcbK\\xed9K\\x9c\\xc4?\\xd2U\\x13n$\\xb0\\xd6q\\xfa\\xf4\\xc1\\xba\\xcc\\xed\\x1b\\xf5\\xfe\\x81A\\xd8\\x00\\x98=:\\xc8\\xaez\\x987\\x18\\x05\\x95\\x02\\x03\\x01\\x00\\x01\\xa3\\x82\\x0180\\x82\\x0140\\x0e\\x06\\x03U\\x1d\\x0f\\x01\\x01\\xff\\x04\\x04\\x03\\x02\\x01\\x860\\x0f\\x06\\x03U\\x1d\\x13\\x01\\x01\\xff\\x04\\x050\\x03\\x01\\x01\\xff0\\x1d\\x06\\x03U\\x1d\\x0e\\x04\\x16\\x04\\x14\\xe4\\xaf+&q\\x1a+H\\'\\x85/Rf,\\xef\\xf0\\x89\\x13q>0\\x1f\\x06\\x03U\\x1d#\\x04\\x180\\x16\\x80\\x14`{f\\x1aE\\r\\x97\\xca\\x89P/}\\x04\\xcd4\\xa8\\xff\\xfc\\xfdK0`\\x06\\x08+\\x06\\x01\\x05\\x05\\x07\\x01\\x01\\x04T0R0%\\x06\\x08+\\x06\\x01\\x05\\x05\\x070\\x01\\x86\\x19http://ocsp.pki.goog/gsr10)\\x06\\x08+\\x06\\x01\\x05\\x05\\x070\\x02\\x86\\x1dhttp://pki.goog/gsr1/gsr1.crt02\\x06\\x03U\\x1d\\x1f\\x04+0)0\\'\\xa0%\\xa0#\\x86!http://crl.pki.goog/gsr1/gsr1.crl0;\\x06\\x03U\\x1d \\x044020\\x08\\x06\\x06g\\x81\\x0c\\x01\\x02\\x010\\x08\\x06\\x06g\\x81\\x0c\\x01\\x02\\x020\\r\\x06\\x0b+\\x06\\x01\\x04\\x01\\xd6y\\x02\\x05\\x03\\x020\\r\\x06\\x0b+\\x06\\x01\\x04\\x01\\xd6y\\x02\\x05\\x03\\x030\\r\\x06\\t*\\x86H\\x86\\xf7\\r\\x01\\x01\\x0b\\x05\\x00\\x03\\x82\\x01\\x01\\x004\\xa4\\x1e\\xb1(\\xa3\\xd0\\xb4v\\x17\\xa61z!\\xe9\\xd1R>\\xc8\\xdbt\\x16A\\x88\\xb8=5\\x1d\\xed\\xe4\\xff\\x93\\xe1\\\\_\\xab\\xbb\\xea|\\xcf\\xdb\\xe4\\r\\xd1\\x8bW\\xf2&o[\\xbe\\x17Fh\\x947okz\\xc8\\xc0\\x187\\xfa%Q\\xac\\xech\\xbf\\xb2\\xc8I\\xfdZ\\x9a\\xca\\x01#\\xac\\x84\\x80+\\x02\\x8c\\x99\\x97\\xebIj\\x8cu\\xd7\\xc7\\xde\\xb2\\xc9\\x97\\x9fXHW\\x0e5\\xa1\\xe4\\x1a\\xd6\\xfdo\\x83\\x81o\\xef\\x8c\\xcf\\x97\\xaf\\xc0\\x85*\\xf0\\xf5Ni\\t\\x91-\\xe1h\\xb8\\xc1+s\\xe9\\xd4\\xd9\\xfc\"\\xc07\\x1f\\x0bf\\x1dI\\xed\\x02U\\x8fg\\xe12\\xd7\\xd3&\\xbfp\\xe3=\\xf4gm=|\\xe54\\x88\\xe32\\xfa\\xa7n\\x06jo\\xbd\\x8b\\x91\\xee\\x16K\\xe8;\\xa9\\xb37\\xe7\\xc3D\\xa4~\\xd8l\\xd7\\xc7F\\xf5\\x92\\x9b\\xe7\\xd5!\\xbef\\x92\\x19\\x94Ul\\xd4)\\xb2\\r\\xc1f[\\xe2wIH(\\xed\\x9d\\xd7\\x1a3rS\\xb3\\x825\\xcfb\\x8b\\xc9$\\x8b\\xa5\\xb79\\x0c\\xbb~*A\\xbfR\\xcf\\xfc\\xa2\\x96\\xb6\\xc2\\x82?\\x00\\x00\\x0f\\x00\\x00K\\x04\\x03\\x00G0E\\x02 N\\x02\\xa7\\'y\\x1e\\xb5\\xb8\\xaf{\\n\\xbd\\xa0xU\\xf3\\xd5\\x87C#\\xd3\\xf8\\xeb\\xdc\\x95_Y\\xdbf:\\x89\\xf4\\x02!\\x00\\x97\\xae\\xa1\\xa3\\xa3yR\\x15\\xa2\\x9eW\\xdd\\xda\\xc9.n\\x92\\x93}\\xb34=5^\\x94\\xa6\\xd1J\\xf7\\x9a\\xf0\\x16\\x14\\x00\\x00 \\xf4\\xaf_\\x0f\\xad\\x07\\x07[{]_r*\\xeb\\xfe\\xa6\\xcc\\xf4\\x1a\\xb4)\\xd9\\xff\\xfc\\xd4\\t@\\x00\\xd6pT\\xae'"
      ]
     },
     "execution_count": 32,
     "metadata": {},
     "output_type": "execute_result"
    }
   ],
   "source": [
    "server_cert_packet, server_cert_packet_suffix, server_handshake_nonce = decrypt_packet(server_cert_encrypted_encoded, server_handshake_key, server_handshake_nonce)\n",
    "print(server_cert_packet_suffix)\n",
    "server_cert_packet"
   ]
  },
  {
   "cell_type": "code",
   "execution_count": 33,
   "metadata": {
    "ExecuteTime": {
     "end_time": "2022-02-17T12:50:07.556379Z",
     "start_time": "2022-02-17T12:50:07.535589Z"
    }
   },
   "outputs": [],
   "source": [
    "multiple_packets = server_cert_packet\n",
    "\n",
    "packet_len = (multiple_packets[1] << 16) + (multiple_packets[2] << 8) + multiple_packets[3]\n",
    "encrypted_extensions_packet, multiple_packets = multiple_packets[:4+packet_len], multiple_packets[4+packet_len:]\n",
    "\n",
    "packet_len = (multiple_packets[1] << 16) + (multiple_packets[2] << 8) + multiple_packets[3]\n",
    "certificates_packet, multiple_packets = multiple_packets[:4+packet_len], multiple_packets[4+packet_len:]\n",
    "\n",
    "packet_len = (multiple_packets[1] << 16) + (multiple_packets[2] << 8) + multiple_packets[3]\n",
    "certificate_verify_packet, multiple_packets = multiple_packets[:4+packet_len], multiple_packets[4+packet_len:]\n",
    "\n",
    "packet_len = (multiple_packets[1] << 16) + (multiple_packets[2] << 8) + multiple_packets[3]\n",
    "finished_message_packet, multiple_packets = multiple_packets[:4+packet_len], multiple_packets[4+packet_len:]"
   ]
  },
  {
   "cell_type": "code",
   "execution_count": 34,
   "metadata": {
    "ExecuteTime": {
     "end_time": "2022-02-17T12:50:07.579759Z",
     "start_time": "2022-02-17T12:50:07.558327Z"
    }
   },
   "outputs": [],
   "source": [
    "handshake_app_data_spec = \"\"\"\n",
    "    8==8@_selector-24@encrypted_extenstions(\n",
    "        16@data(\n",
    "            16@alpn[bytes]\n",
    "            -16@data(\n",
    "                16@data(\n",
    "                    8@data[str]()\n",
    "                )\n",
    "            )\n",
    "        )\n",
    "    )\n",
    "    |8==11@_selector-24@certificates_data(\n",
    "        8@certificate_request_context-24@certificates_data(\n",
    "            ...@certificates(\n",
    "                24@certificate()\n",
    "                -16@extensions(\n",
    "                    16==5@_selector-16@status_request(\n",
    "                        8@status_type_ocsp\n",
    "                        -24@ocsp_staple(\n",
    "                        )\n",
    "                    )\n",
    "                    |16==18@_selector-16@sct(\n",
    "                        ...16@data()\n",
    "                    )\n",
    "                )\n",
    "            )\n",
    "        )\n",
    "    )\n",
    "    |8==15@_selector-24@certificate_verify(\n",
    "        16@signature_algorithm-16@signature()\n",
    "    )\n",
    "    |8==20@_selector-24@finished_verify_data()\n",
    "    |8==22@_selector-24@certificate_status(\n",
    "        8@status_type\n",
    "        -24@response()\n",
    "    )\n",
    "    |8@_selector-24@data()\n",
    "\"\"\""
   ]
  },
  {
   "cell_type": "code",
   "execution_count": 35,
   "metadata": {
    "ExecuteTime": {
     "end_time": "2022-02-17T12:50:07.602736Z",
     "start_time": "2022-02-17T12:50:07.581370Z"
    }
   },
   "outputs": [
    {
     "data": {
      "text/plain": [
       "{'_selector': 8,\n",
       " 'encrypted_extenstions': {'data': {'alpn': b'\\x00\\x10',\n",
       "   'data': {'data': {'data': 'http/1.1'}}}}}"
      ]
     },
     "execution_count": 35,
     "metadata": {},
     "output_type": "execute_result"
    }
   ],
   "source": [
    "encrypted_extensions = match_exact(handshake_app_data_spec, encrypted_extensions_packet)\n",
    "encrypted_extensions"
   ]
  },
  {
   "cell_type": "code",
   "execution_count": 36,
   "metadata": {},
   "outputs": [
    {
     "data": {
      "text/plain": [
       "b'\\x00\\x00'"
      ]
     },
     "execution_count": 36,
     "metadata": {},
     "output_type": "execute_result"
    }
   ],
   "source": [
    "# certificates_packet[1:][3:][1:][3:][:3], len(certificates_packet[1:][3:][1:][3:][3:3+1115])\n",
    "vvv = certificates_packet[1:][3:][1:][3:][3+1115:]\n",
    "# vvv[2:][:3]\n",
    "vvv[2:][3:0x050f+3]\n",
    "hhh = vvv[2:][0x050f+3:]\n",
    "hhh[2:][3:0x0566+3]\n",
    "hhh[2:][0x0566+3:]\n",
    "\n",
    "# 0x0566\n",
    "# hex(ord('f'))"
   ]
  },
  {
   "cell_type": "code",
   "execution_count": 37,
   "metadata": {
    "ExecuteTime": {
     "end_time": "2022-02-17T12:50:07.626207Z",
     "start_time": "2022-02-17T12:50:07.604122Z"
    }
   },
   "outputs": [
    {
     "data": {
      "text/plain": [
       "{'_selector': 11,\n",
       " 'certificates_data': {'certificate_request_context': 0,\n",
       "  'certificates_data': {'certificates': [{'certificate': 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},\n",
       "    {'certificate': 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},\n",
       "    {'certificate': 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}]}}}"
      ]
     },
     "execution_count": 37,
     "metadata": {},
     "output_type": "execute_result"
    }
   ],
   "source": [
    "server_cert = match_exact(handshake_app_data_spec, certificates_packet)\n",
    "server_cert"
   ]
  },
  {
   "cell_type": "code",
   "execution_count": 38,
   "metadata": {
    "ExecuteTime": {
     "end_time": "2022-02-17T12:50:07.644245Z",
     "start_time": "2022-02-17T12:50:07.627503Z"
    }
   },
   "outputs": [
    {
     "name": "stdout",
     "output_type": "stream",
     "text": [
      "Certificate:\n",
      "    Data:\n",
      "        Version: 3 (0x2)\n",
      "        Serial Number:\n",
      "            8a:ac:68:10:96:1f:a6:50:10:aa:01:93:f9:fd:ec:b5\n",
      "        Signature Algorithm: sha256WithRSAEncryption\n",
      "        Issuer: C=US, O=Google Trust Services, CN=WR2\n",
      "        Validity\n",
      "            Not Before: Jun 13 16:36:10 2024 GMT\n",
      "            Not After : Sep  5 16:36:09 2024 GMT\n",
      "        Subject: CN=www.google.com\n",
      "        Subject Public Key Info:\n",
      "            Public Key Algorithm: id-ecPublicKey\n",
      "                Public-Key: (256 bit)\n",
      "                pub:\n",
      "                    04:b3:c0:f9:24:b9:94:f8:3c:f1:60:b3:4e:49:83:\n",
      "                    c6:aa:fc:e0:bc:ba:fc:f4:e2:3a:07:78:3b:58:da:\n",
      "                    ab:5e:dd:39:b2:fc:ba:ae:59:1b:e7:0a:07:b9:e3:\n",
      "                    9a:44:58:7b:c0:c6:da:70:63:86:e1:71:a8:f9:4a:\n",
      "                    e5:be:73:93:dc\n",
      "                ASN1 OID: prime256v1\n",
      "                NIST CURVE: P-256\n",
      "        X509v3 extensions:\n",
      "            X509v3 Key Usage: critical\n",
      "                Digital Signature\n",
      "            X509v3 Extended Key Usage: \n",
      "                TLS Web Server Authentication\n",
      "            X509v3 Basic Constraints: critical\n",
      "                CA:FALSE\n",
      "            X509v3 Subject Key Identifier: \n",
      "                A7:D7:83:41:FE:DF:B5:E1:32:C1:10:D8:F4:82:33:AC:11:EB:07:2D\n",
      "            X509v3 Authority Key Identifier: \n",
      "                DE:1B:1E:ED:79:15:D4:3E:37:24:C3:21:BB:EC:34:39:6D:42:B2:30\n",
      "            Authority Information Access: \n",
      "                OCSP - URI:http://o.pki.goog/wr2\n",
      "                CA Issuers - URI:http://i.pki.goog/wr2.crt\n",
      "            X509v3 Subject Alternative Name: \n",
      "                DNS:www.google.com\n",
      "            X509v3 Certificate Policies: \n",
      "                Policy: 2.23.140.1.2.1\n",
      "            X509v3 CRL Distribution Points: \n",
      "                Full Name:\n",
      "                  URI:http://c.pki.goog/wr2/oQ6nyr8F0m0.crl\n",
      "            CT Precertificate SCTs: \n",
      "                Signed Certificate Timestamp:\n",
      "                    Version   : v1 (0x0)\n",
      "                    Log ID    : EE:CD:D0:64:D5:DB:1A:CE:C5:5C:B7:9D:B4:CD:13:A2:\n",
      "                                32:87:46:7C:BC:EC:DE:C3:51:48:59:46:71:1F:B5:9B\n",
      "                    Timestamp : Jun 13 17:36:11.904 2024 GMT\n",
      "                    Extensions: none\n",
      "                    Signature : ecdsa-with-SHA256\n",
      "                                30:44:02:20:5D:01:80:7B:70:B6:8A:80:E9:7D:7C:CD:\n",
      "                                51:FA:B1:86:32:CA:19:E2:71:70:43:42:00:3D:C1:FB:\n",
      "                                EA:E6:43:E0:02:20:5C:1D:D9:AD:39:8E:A7:6D:BB:32:\n",
      "                                DC:65:84:3F:8B:1F:BF:58:7F:0C:43:EF:05:5C:CC:A6:\n",
      "                                FD:E0:A5:2B:5B:A8\n",
      "                Signed Certificate Timestamp:\n",
      "                    Version   : v1 (0x0)\n",
      "                    Log ID    : 19:98:10:71:09:F0:D6:52:2E:30:80:D2:9E:3F:64:BB:\n",
      "                                83:6E:28:CC:F9:0F:52:8E:EE:DF:CE:4A:3F:16:B4:CA\n",
      "                    Timestamp : Jun 13 17:36:12.141 2024 GMT\n",
      "                    Extensions: none\n",
      "                    Signature : ecdsa-with-SHA256\n",
      "                                30:46:02:21:00:F1:01:95:39:9C:F2:6A:C8:DA:84:9A:\n",
      "                                91:DE:E4:F4:C2:8B:5F:A4:72:1E:84:AC:C6:4F:03:DF:\n",
      "                                83:39:5A:A1:04:02:21:00:EE:47:35:9F:D1:58:CF:74:\n",
      "                                BB:A9:1F:AC:1C:ED:9F:F6:20:EE:B1:DC:93:C3:4C:80:\n",
      "                                EE:E5:80:25:64:CF:BF:22\n",
      "    Signature Algorithm: sha256WithRSAEncryption\n",
      "    Signature Value:\n",
      "        80:f7:72:48:54:0d:92:a3:27:d0:28:0b:90:be:86:8c:c5:87:\n",
      "        5c:7d:01:02:00:14:2d:10:ce:c4:93:d1:b0:64:e1:e6:f1:af:\n",
      "        df:93:31:f6:3b:65:8f:a4:cb:f6:b3:aa:dc:c0:00:2a:cd:af:\n",
      "        f1:43:9b:b6:44:31:cf:03:0b:b5:61:53:43:bd:7f:12:09:67:\n",
      "        c6:2f:b8:92:25:66:11:e6:1d:d6:e5:40:6e:22:38:6a:17:ea:\n",
      "        75:16:c3:cb:0b:ae:80:f7:17:bd:90:e5:b0:9c:c1:8f:ba:f8:\n",
      "        45:84:42:5b:3f:15:33:88:4c:b0:0e:dc:ec:be:7f:f7:7b:9b:\n",
      "        37:70:1f:c7:d8:43:4e:99:32:27:e3:65:6a:29:0f:80:93:1d:\n",
      "        99:30:1b:53:f6:8d:18:15:42:8d:37:e5:f3:ea:a4:4d:27:b4:\n",
      "        76:31:81:d6:b8:98:21:b8:d1:cf:00:ca:ad:e8:7a:ee:6c:57:\n",
      "        7d:85:b1:49:91:a8:5d:29:87:a5:5e:77:b5:5c:02:49:e9:0f:\n",
      "        cc:23:ec:54:ee:c8:6a:68:fc:97:4d:65:88:af:32:b9:6e:a6:\n",
      "        96:9f:0e:b7:8a:7d:c1:cb:04:88:71:2b:6d:df:40:88:6f:2f:\n",
      "        0c:5d:6a:6c:c5:9c:09:cc:87:99:92:42:76:f7:af:59:6c:0d:\n",
      "        1e:06:50:0b\n",
      "\n",
      "Certificate:\n",
      "    Data:\n",
      "        Version: 3 (0x2)\n",
      "        Serial Number:\n",
      "            7f:f0:05:a0:7c:4c:de:d1:00:ad:9d:66:a5:10:7b:98\n",
      "        Signature Algorithm: sha256WithRSAEncryption\n",
      "        Issuer: C=US, O=Google Trust Services LLC, CN=GTS Root R1\n",
      "        Validity\n",
      "            Not Before: Dec 13 09:00:00 2023 GMT\n",
      "            Not After : Feb 20 14:00:00 2029 GMT\n",
      "        Subject: C=US, O=Google Trust Services, CN=WR2\n",
      "        Subject Public Key Info:\n",
      "            Public Key Algorithm: rsaEncryption\n",
      "                Public-Key: (2048 bit)\n",
      "                Modulus:\n",
      "                    00:a9:ff:9c:7f:45:1e:70:a8:53:9f:ca:d9:e5:0d:\n",
      "                    de:46:57:57:7d:bc:8f:9a:5a:ac:46:f1:84:9a:bb:\n",
      "                    91:db:c9:fb:2f:01:fb:92:09:00:16:5e:a0:1c:f8:\n",
      "                    c1:ab:f9:78:2f:4a:cc:d8:85:a2:d8:59:3c:0e:d3:\n",
      "                    18:fb:b1:f5:24:0d:26:ee:b6:5b:64:76:7c:14:c7:\n",
      "                    2f:7a:ce:a8:4c:b7:f4:d9:08:fc:df:87:23:35:20:\n",
      "                    a8:e2:69:e2:8c:4e:3f:b1:59:fa:60:a2:1e:b3:c9:\n",
      "                    20:53:19:82:ca:36:53:6d:60:4d:e9:00:91:fc:76:\n",
      "                    8d:5c:08:0f:0a:c2:dc:f1:73:6b:c5:13:6e:0a:4f:\n",
      "                    7a:c2:f2:02:1c:2e:b4:63:83:da:31:f6:2d:75:30:\n",
      "                    b2:fb:ab:c2:6e:db:a9:c0:0e:b9:f9:67:d4:c3:25:\n",
      "                    57:74:eb:05:b4:e9:8e:b5:de:28:cd:cc:7a:14:e4:\n",
      "                    71:03:cb:4d:61:2e:61:57:c5:19:a9:0b:98:84:1a:\n",
      "                    e8:79:29:d9:b2:8d:2f:ff:57:6a:66:e0:ce:ab:95:\n",
      "                    a8:29:96:63:70:12:67:1e:3a:e1:db:b0:21:71:d7:\n",
      "                    7c:9e:fd:aa:17:6e:fe:2b:fb:38:17:14:d1:66:a7:\n",
      "                    af:9a:b5:70:cc:c8:63:81:3a:8c:c0:2a:a9:76:37:\n",
      "                    ce:e3\n",
      "                Exponent: 65537 (0x10001)\n",
      "        X509v3 extensions:\n",
      "            X509v3 Key Usage: critical\n",
      "                Digital Signature, Certificate Sign, CRL Sign\n",
      "            X509v3 Extended Key Usage: \n",
      "                TLS Web Server Authentication, TLS Web Client Authentication\n",
      "            X509v3 Basic Constraints: critical\n",
      "                CA:TRUE, pathlen:0\n",
      "            X509v3 Subject Key Identifier: \n",
      "                DE:1B:1E:ED:79:15:D4:3E:37:24:C3:21:BB:EC:34:39:6D:42:B2:30\n",
      "            X509v3 Authority Key Identifier: \n",
      "                E4:AF:2B:26:71:1A:2B:48:27:85:2F:52:66:2C:EF:F0:89:13:71:3E\n",
      "            Authority Information Access: \n",
      "                CA Issuers - URI:http://i.pki.goog/r1.crt\n",
      "            X509v3 CRL Distribution Points: \n",
      "                Full Name:\n",
      "                  URI:http://c.pki.goog/r/r1.crl\n",
      "            X509v3 Certificate Policies: \n",
      "                Policy: 2.23.140.1.2.1\n",
      "    Signature Algorithm: sha256WithRSAEncryption\n",
      "    Signature Value:\n",
      "        45:75:8b:e5:1f:3b:44:13:96:1a:ab:58:f1:35:c9:6f:3d:d2:\n",
      "        d0:33:4a:86:33:ba:57:51:4f:ee:c4:34:da:16:12:4c:bf:13:\n",
      "        9f:0d:d4:54:e9:48:79:c0:30:3c:94:25:f2:1a:f4:ba:32:94:\n",
      "        b6:33:72:0b:85:ee:09:11:25:34:94:e1:6f:42:db:82:9b:7b:\n",
      "        7f:2a:9a:a9:ff:7f:a9:d2:de:4a:20:cb:b3:fb:03:03:b8:f8:\n",
      "        07:05:da:59:92:2f:18:46:98:ce:af:72:be:24:26:b1:1e:00:\n",
      "        4d:bd:08:ad:93:41:44:0a:bb:c7:d5:01:85:bf:93:57:e3:df:\n",
      "        74:12:53:0e:11:25:d3:9b:dc:de:cb:27:6e:b3:c2:b9:33:62:\n",
      "        39:c2:e0:35:e1:5b:a7:09:2e:19:cb:91:2a:76:5c:f1:df:ca:\n",
      "        23:84:40:a5:6f:ff:9a:41:e0:b5:ef:32:d1:85:ae:af:25:09:\n",
      "        f0:62:c5:6e:c2:c8:6e:32:fd:b8:da:e2:ce:4a:91:4a:f3:85:\n",
      "        55:4e:b1:75:d6:48:33:2f:6f:84:d9:12:5c:9f:d4:71:98:63:\n",
      "        25:8d:69:5c:0a:6b:7d:f2:41:bd:e8:bb:8f:e4:22:d7:9d:65:\n",
      "        45:e8:4c:0a:87:da:e9:60:66:88:0e:1f:c7:e1:4e:56:c5:76:\n",
      "        ff:b4:7a:57:69:f2:02:22:09:26:41:1d:da:74:a2:e5:29:f3:\n",
      "        c4:9a:e5:5d:d6:aa:7a:fd:e1:b7:2b:66:38:fb:e8:29:66:ba:\n",
      "        ef:a0:13:2f:f8:73:7e:f0:da:40:11:1c:5d:dd:8f:a6:fc:be:\n",
      "        db:be:56:f8:32:9c:1f:41:41:6d:7e:b6:c5:eb:c6:8b:36:b7:\n",
      "        17:8c:9d:cf:19:7a:34:9f:21:93:c4:7e:74:35:d2:aa:fd:4c:\n",
      "        6d:14:f5:c9:b0:79:5b:49:3c:f3:bf:17:48:e8:ef:9a:26:13:\n",
      "        0c:87:f2:73:d6:9c:c5:52:6b:63:f7:32:90:78:a9:6b:eb:5e:\n",
      "        d6:93:a1:bf:bc:18:3d:8b:59:f6:8a:c6:05:5e:52:18:e2:66:\n",
      "        e0:da:c1:dc:ad:5a:25:aa:f4:45:fc:f1:0b:78:a4:af:b0:f2:\n",
      "        73:a4:30:a8:34:c1:53:7f:42:96:e5:48:41:eb:90:46:0c:06:\n",
      "        dc:cb:92:c6:5e:f3:44:44:43:46:29:46:a0:a6:fc:b9:8e:39:\n",
      "        27:39:b1:5a:e2:b1:ad:fc:13:ff:8e:fc:26:e1:d4:fe:84:f1:\n",
      "        50:5a:8e:97:6b:2d:2a:79:fb:40:64:ea:f3:3d:bd:5b:e1:a0:\n",
      "        04:b0:97:48:1c:42:f5:ea:5a:1c:cd:26:c8:51:ff:14:99:67:\n",
      "        89:72:5f:1d:ec:ad:5a:dd\n",
      "\n",
      "Certificate:\n",
      "    Data:\n",
      "        Version: 3 (0x2)\n",
      "        Serial Number:\n",
      "            77:bd:0d:6c:db:36:f9:1a:ea:21:0f:c4:f0:58:d3:0d\n",
      "        Signature Algorithm: sha256WithRSAEncryption\n",
      "        Issuer: C=BE, O=GlobalSign nv-sa, OU=Root CA, CN=GlobalSign Root CA\n",
      "        Validity\n",
      "            Not Before: Jun 19 00:00:42 2020 GMT\n",
      "            Not After : Jan 28 00:00:42 2028 GMT\n",
      "        Subject: C=US, O=Google Trust Services LLC, CN=GTS Root R1\n",
      "        Subject Public Key Info:\n",
      "            Public Key Algorithm: rsaEncryption\n",
      "                Public-Key: (4096 bit)\n",
      "                Modulus:\n",
      "                    00:b6:11:02:8b:1e:e3:a1:77:9b:3b:dc:bf:94:3e:\n",
      "                    b7:95:a7:40:3c:a1:fd:82:f9:7d:32:06:82:71:f6:\n",
      "                    f6:8c:7f:fb:e8:db:bc:6a:2e:97:97:a3:8c:4b:f9:\n",
      "                    2b:f6:b1:f9:ce:84:1d:b1:f9:c5:97:de:ef:b9:f2:\n",
      "                    a3:e9:bc:12:89:5e:a7:aa:52:ab:f8:23:27:cb:a4:\n",
      "                    b1:9c:63:db:d7:99:7e:f0:0a:5e:eb:68:a6:f4:c6:\n",
      "                    5a:47:0d:4d:10:33:e3:4e:b1:13:a3:c8:18:6c:4b:\n",
      "                    ec:fc:09:90:df:9d:64:29:25:23:07:a1:b4:d2:3d:\n",
      "                    2e:60:e0:cf:d2:09:87:bb:cd:48:f0:4d:c2:c2:7a:\n",
      "                    88:8a:bb:ba:cf:59:19:d6:af:8f:b0:07:b0:9e:31:\n",
      "                    f1:82:c1:c0:df:2e:a6:6d:6c:19:0e:b5:d8:7e:26:\n",
      "                    1a:45:03:3d:b0:79:a4:94:28:ad:0f:7f:26:e5:a8:\n",
      "                    08:fe:96:e8:3c:68:94:53:ee:83:3a:88:2b:15:96:\n",
      "                    09:b2:e0:7a:8c:2e:75:d6:9c:eb:a7:56:64:8f:96:\n",
      "                    4f:68:ae:3d:97:c2:84:8f:c0:bc:40:c0:0b:5c:bd:\n",
      "                    f6:87:b3:35:6c:ac:18:50:7f:84:e0:4c:cd:92:d3:\n",
      "                    20:e9:33:bc:52:99:af:32:b5:29:b3:25:2a:b4:48:\n",
      "                    f9:72:e1:ca:64:f7:e6:82:10:8d:e8:9d:c2:8a:88:\n",
      "                    fa:38:66:8a:fc:63:f9:01:f9:78:fd:7b:5c:77:fa:\n",
      "                    76:87:fa:ec:df:b1:0e:79:95:57:b4:bd:26:ef:d6:\n",
      "                    01:d1:eb:16:0a:bb:8e:0b:b5:c5:c5:8a:55:ab:d3:\n",
      "                    ac:ea:91:4b:29:cc:19:a4:32:25:4e:2a:f1:65:44:\n",
      "                    d0:02:ce:aa:ce:49:b4:ea:9f:7c:83:b0:40:7b:e7:\n",
      "                    43:ab:a7:6c:a3:8f:7d:89:81:fa:4c:a5:ff:d5:8e:\n",
      "                    c3:ce:4b:e0:b5:d8:b3:8e:45:cf:76:c0:ed:40:2b:\n",
      "                    fd:53:0f:b0:a7:d5:3b:0d:b1:8a:a2:03:de:31:ad:\n",
      "                    cc:77:ea:6f:7b:3e:d6:df:91:22:12:e6:be:fa:d8:\n",
      "                    32:fc:10:63:14:51:72:de:5d:d6:16:93:bd:29:68:\n",
      "                    33:ef:3a:66:ec:07:8a:26:df:13:d7:57:65:78:27:\n",
      "                    de:5e:49:14:00:a2:00:7f:9a:a8:21:b6:a9:b1:95:\n",
      "                    b0:a5:b9:0d:16:11:da:c7:6c:48:3c:40:e0:7e:0d:\n",
      "                    5a:cd:56:3c:d1:97:05:b9:cb:4b:ed:39:4b:9c:c4:\n",
      "                    3f:d2:55:13:6e:24:b0:d6:71:fa:f4:c1:ba:cc:ed:\n",
      "                    1b:f5:fe:81:41:d8:00:98:3d:3a:c8:ae:7a:98:37:\n",
      "                    18:05:95\n",
      "                Exponent: 65537 (0x10001)\n",
      "        X509v3 extensions:\n",
      "            X509v3 Key Usage: critical\n",
      "                Digital Signature, Certificate Sign, CRL Sign\n",
      "            X509v3 Basic Constraints: critical\n",
      "                CA:TRUE\n",
      "            X509v3 Subject Key Identifier: \n",
      "                E4:AF:2B:26:71:1A:2B:48:27:85:2F:52:66:2C:EF:F0:89:13:71:3E\n",
      "            X509v3 Authority Key Identifier: \n",
      "                60:7B:66:1A:45:0D:97:CA:89:50:2F:7D:04:CD:34:A8:FF:FC:FD:4B\n",
      "            Authority Information Access: \n",
      "                OCSP - URI:http://ocsp.pki.goog/gsr1\n",
      "                CA Issuers - URI:http://pki.goog/gsr1/gsr1.crt\n",
      "            X509v3 CRL Distribution Points: \n",
      "                Full Name:\n",
      "                  URI:http://crl.pki.goog/gsr1/gsr1.crl\n",
      "            X509v3 Certificate Policies: \n",
      "                Policy: 2.23.140.1.2.1\n",
      "                Policy: 2.23.140.1.2.2\n",
      "                Policy: 1.3.6.1.4.1.11129.2.5.3.2\n",
      "                Policy: 1.3.6.1.4.1.11129.2.5.3.3\n",
      "    Signature Algorithm: sha256WithRSAEncryption\n",
      "    Signature Value:\n",
      "        34:a4:1e:b1:28:a3:d0:b4:76:17:a6:31:7a:21:e9:d1:52:3e:\n",
      "        c8:db:74:16:41:88:b8:3d:35:1d:ed:e4:ff:93:e1:5c:5f:ab:\n",
      "        bb:ea:7c:cf:db:e4:0d:d1:8b:57:f2:26:6f:5b:be:17:46:68:\n",
      "        94:37:6f:6b:7a:c8:c0:18:37:fa:25:51:ac:ec:68:bf:b2:c8:\n",
      "        49:fd:5a:9a:ca:01:23:ac:84:80:2b:02:8c:99:97:eb:49:6a:\n",
      "        8c:75:d7:c7:de:b2:c9:97:9f:58:48:57:0e:35:a1:e4:1a:d6:\n",
      "        fd:6f:83:81:6f:ef:8c:cf:97:af:c0:85:2a:f0:f5:4e:69:09:\n",
      "        91:2d:e1:68:b8:c1:2b:73:e9:d4:d9:fc:22:c0:37:1f:0b:66:\n",
      "        1d:49:ed:02:55:8f:67:e1:32:d7:d3:26:bf:70:e3:3d:f4:67:\n",
      "        6d:3d:7c:e5:34:88:e3:32:fa:a7:6e:06:6a:6f:bd:8b:91:ee:\n",
      "        16:4b:e8:3b:a9:b3:37:e7:c3:44:a4:7e:d8:6c:d7:c7:46:f5:\n",
      "        92:9b:e7:d5:21:be:66:92:19:94:55:6c:d4:29:b2:0d:c1:66:\n",
      "        5b:e2:77:49:48:28:ed:9d:d7:1a:33:72:53:b3:82:35:cf:62:\n",
      "        8b:c9:24:8b:a5:b7:39:0c:bb:7e:2a:41:bf:52:cf:fc:a2:96:\n",
      "        b6:c2:82:3f\n",
      "\n"
     ]
    }
   ],
   "source": [
    "import OpenSSL.crypto\n",
    "\n",
    "first_cert = None\n",
    "for cert in server_cert['certificates_data']['certificates_data']['certificates']:\n",
    "    x509 = OpenSSL.crypto.load_certificate(OpenSSL.crypto.FILETYPE_ASN1, cert['certificate'].value('bytes'))\n",
    "    if first_cert is None:\n",
    "        first_cert = x509\n",
    "    print(OpenSSL.crypto.dump_certificate(OpenSSL.crypto.FILETYPE_TEXT, x509).decode('utf-8')) "
   ]
  },
  {
   "cell_type": "code",
   "execution_count": 39,
   "metadata": {
    "ExecuteTime": {
     "end_time": "2022-02-17T12:50:07.651693Z",
     "start_time": "2022-02-17T12:50:07.645733Z"
    },
    "scrolled": true
   },
   "outputs": [],
   "source": [
    "cert_pub = first_cert.get_pubkey().to_cryptography_key()"
   ]
  },
  {
   "cell_type": "code",
   "execution_count": 40,
   "metadata": {
    "ExecuteTime": {
     "end_time": "2022-02-17T12:50:07.659958Z",
     "start_time": "2022-02-17T12:50:07.653226Z"
    }
   },
   "outputs": [],
   "source": [
    "transcript.update(encrypted_extensions_packet)\n",
    "transcript.update(certificates_packet)"
   ]
  },
  {
   "cell_type": "code",
   "execution_count": 41,
   "metadata": {
    "ExecuteTime": {
     "end_time": "2022-02-17T12:50:07.671132Z",
     "start_time": "2022-02-17T12:50:07.661321Z"
    }
   },
   "outputs": [
    {
     "data": {
      "text/plain": [
       "{'_selector': 15,\n",
       " 'certificate_verify': {'signature_algorithm': 0x0403,\n",
       "  'signature': 0x304502204e02a727791eb5b8af7b0abda07855f3d5874323d3f8ebdc955f59db663a89f402210097aea1a3a3795215a29e57dddac92e6e92937db3343d355e94a6d14af79af016}}"
      ]
     },
     "execution_count": 41,
     "metadata": {},
     "output_type": "execute_result"
    }
   ],
   "source": [
    "cert_verify_message = match_exact(handshake_app_data_spec, certificate_verify_packet)\n",
    "cert_verify_message"
   ]
  },
  {
   "cell_type": "code",
   "execution_count": 42,
   "metadata": {
    "ExecuteTime": {
     "end_time": "2022-02-17T12:50:07.680693Z",
     "start_time": "2022-02-17T12:50:07.673090Z"
    }
   },
   "outputs": [
    {
     "name": "stdout",
     "output_type": "stream",
     "text": [
      "certificate verify succeeded\n"
     ]
    }
   ],
   "source": [
    "sign_data = b'\\x20' * 64 + \\\n",
    "    b'TLS 1.3, server CertificateVerify\\x00' + \\\n",
    "    get_hash(transcript)\n",
    "\n",
    "signature = cert_verify_message['certificate_verify']['signature'].value('bytes')\n",
    "\n",
    "cert_pub.verify(signature, sign_data, ec.ECDSA(hashes.SHA256()))\n",
    "print(\"certificate verify succeeded\")"
   ]
  },
  {
   "cell_type": "code",
   "execution_count": 43,
   "metadata": {
    "ExecuteTime": {
     "end_time": "2022-02-17T12:50:07.688964Z",
     "start_time": "2022-02-17T12:50:07.682070Z"
    }
   },
   "outputs": [],
   "source": [
    "transcript.update(certificate_verify_packet)"
   ]
  },
  {
   "cell_type": "code",
   "execution_count": 44,
   "metadata": {
    "ExecuteTime": {
     "end_time": "2022-02-17T12:50:07.772403Z",
     "start_time": "2022-02-17T12:50:07.690624Z"
    }
   },
   "outputs": [
    {
     "data": {
      "text/plain": [
       "{'_selector': 20,\n",
       " 'finished_verify_data': 0xf4af5f0fad07075b7b5d5f722aebfea6ccf41ab429d9fffcd4094000d67054ae}"
      ]
     },
     "execution_count": 44,
     "metadata": {},
     "output_type": "execute_result"
    }
   ],
   "source": [
    "finished_message = match_exact(handshake_app_data_spec, finished_message_packet)\n",
    "finished_message"
   ]
  },
  {
   "cell_type": "code",
   "execution_count": 45,
   "metadata": {
    "ExecuteTime": {
     "end_time": "2022-02-17T12:50:07.796705Z",
     "start_time": "2022-02-17T12:50:07.776043Z"
    }
   },
   "outputs": [
    {
     "name": "stdout",
     "output_type": "stream",
     "text": [
      "matching finished hash\n"
     ]
    }
   ],
   "source": [
    "if finished_hash(server_handshake_secret, transcript) == finished_message['finished_verify_data'].value('bytes'):\n",
    "    print(\"matching finished hash\")\n",
    "else:\n",
    "    raise RuntimeError(\"not matching finished hash\")"
   ]
  },
  {
   "cell_type": "code",
   "execution_count": 46,
   "metadata": {
    "ExecuteTime": {
     "end_time": "2022-02-17T12:50:07.817083Z",
     "start_time": "2022-02-17T12:50:07.799236Z"
    }
   },
   "outputs": [],
   "source": [
    "transcript.update(finished_message_packet)"
   ]
  },
  {
   "cell_type": "code",
   "execution_count": 47,
   "metadata": {
    "ExecuteTime": {
     "end_time": "2022-02-17T12:50:07.843868Z",
     "start_time": "2022-02-17T12:50:07.818921Z"
    }
   },
   "outputs": [],
   "source": [
    "client_finished_hash = finished_hash(client_handshake_secret, transcript)\n",
    "client_verify_unencrypted = construct(handshake_app_data_spec, {'finished_verify_data': client_finished_hash, '_selector': 0x14})"
   ]
  },
  {
   "cell_type": "code",
   "execution_count": 48,
   "metadata": {
    "ExecuteTime": {
     "end_time": "2022-02-17T12:50:07.869505Z",
     "start_time": "2022-02-17T12:50:07.845530Z"
    }
   },
   "outputs": [],
   "source": [
    "client_verify_packet, client_handshake_nonce = encrypt_packet(\n",
    "    client_verify_unencrypted, b'\\x16', client_handshake_key, client_handshake_nonce\n",
    ")"
   ]
  },
  {
   "cell_type": "code",
   "execution_count": 49,
   "metadata": {
    "ExecuteTime": {
     "end_time": "2022-02-17T12:50:07.895782Z",
     "start_time": "2022-02-17T12:50:07.871371Z"
    }
   },
   "outputs": [],
   "source": [
    "sock.send(client_verify_packet)"
   ]
  },
  {
   "cell_type": "code",
   "execution_count": 50,
   "metadata": {
    "ExecuteTime": {
     "end_time": "2022-02-17T12:50:07.921589Z",
     "start_time": "2022-02-17T12:50:07.897221Z"
    }
   },
   "outputs": [],
   "source": [
    "master_secret = extract(b'\\0' * 32, derive(handshake_secret, b\"derived\"))\n",
    "server_app_secret = derive(master_secret, b\"s ap traffic\", transcript)\n",
    "server_app_key = expand(server_app_secret, b'key', 16)\n",
    "server_app_nonce = (expand(server_app_secret, b'iv', 12), 0)\n",
    "client_app_secret = derive(master_secret, b\"c ap traffic\", transcript)\n",
    "client_app_key = expand(client_app_secret, b'key', 16)\n",
    "client_app_nonce = (expand(client_app_secret, b'iv', 12), 0)"
   ]
  },
  {
   "cell_type": "code",
   "execution_count": 51,
   "metadata": {
    "ExecuteTime": {
     "end_time": "2022-02-17T12:50:07.946457Z",
     "start_time": "2022-02-17T12:50:07.922919Z"
    }
   },
   "outputs": [],
   "source": [
    "transcript.update(client_verify_packet)"
   ]
  },
  {
   "cell_type": "code",
   "execution_count": 52,
   "metadata": {
    "ExecuteTime": {
     "end_time": "2022-02-17T12:50:07.973555Z",
     "start_time": "2022-02-17T12:50:07.948133Z"
    }
   },
   "outputs": [],
   "source": [
    "http_req = b\"\"\"GET / HTTP/1.1\n",
    "Host: www.google.com\n",
    "\n",
    "\"\"\"\n",
    "packet, client_app_nonce = encrypt_packet(\n",
    "    http_req, b'\\x17', client_app_key, client_app_nonce\n",
    ")"
   ]
  },
  {
   "cell_type": "code",
   "execution_count": 53,
   "metadata": {
    "ExecuteTime": {
     "end_time": "2022-02-17T12:50:08.001446Z",
     "start_time": "2022-02-17T12:50:07.978030Z"
    },
    "scrolled": true
   },
   "outputs": [],
   "source": [
    "sock.send(packet)"
   ]
  },
  {
   "cell_type": "code",
   "execution_count": 54,
   "metadata": {
    "ExecuteTime": {
     "end_time": "2022-02-17T12:50:08.508198Z",
     "start_time": "2022-02-17T12:50:08.504370Z"
    }
   },
   "outputs": [],
   "source": [
    "http_resp = read_tls(sock)"
   ]
  },
  {
   "cell_type": "code",
   "execution_count": 55,
   "metadata": {
    "ExecuteTime": {
     "end_time": "2022-02-17T12:50:09.242997Z",
     "start_time": "2022-02-17T12:50:09.235468Z"
    }
   },
   "outputs": [
    {
     "data": {
      "text/plain": [
       "(b'HTTP/1.1 200 OK\\r\\nDate: Sun, 07 Jul 2024 20:35:34 GMT\\r\\nExpires: -1\\r\\nCache-Control: private, max-age=0\\r\\nContent-Type: text/html; charset=ISO-8859-1\\r\\nContent-Security-Policy-Report-Only: object-src \\'none\\';base-uri \\'self\\';script-src \\'nonce-8J4GA4QOXqRLGtwa1I_73Q\\' \\'strict-dynamic\\' \\'report-sample\\' \\'unsafe-eval\\' \\'unsafe-inline\\' https: http:;report-uri https://csp.withgoogle.com/csp/gws/other-hp\\r\\nP3P: CP=\"This is not a P3P policy! See g.co/p3phelp for more info.\"\\r\\nServer: gws\\r\\nX-XSS-Protection: 0\\r\\nX-Frame-Options: SAMEORIGIN\\r\\nSet-Cookie: AEC=AVYB7cq_fArob1QqwxgOjBclfKy-NI8-RVQmDc-kiHT58HUmtZIJ0tY45mg; expires=Fri, 03-Jan-2025 20:35:34 GMT; path=/; domain=.google.com; Secure; HttpOnly; SameSite=lax\\r\\nSet-Cookie: __Secure-ENID=20.SE=kKRkyQqeR9CCnFuaaLJm_5Kh5eaIpOjXp833foTg0-VTDgLS-o3je4KctUDMDaZhc6xpUflgk3YRWs7s9WSFE7a8iPgtvb1OTNsi2pZr42ZYxp56J03-q3tvjZe0dw07-DON5BHYBx7YUmH88PN6aH33MxS1MvW9UOg_2yIlIBFJF7sXh8_i0ZAnvrE8FaprVhjFdVUarRFNhJq4D9Of; expires=Thu, 07-Aug-2025 12:53:52 GMT; path=/; domain=.google.com; Secure; HttpOnly; SameSite=lax\\r\\nAlt-Svc: h3=\":443\"; ma=2592000,h3-29=\":443\"; ma=2592000\\r\\nAccept-Ranges: none\\r\\nVary: Accept-Encoding\\r\\nTransfer-Encoding: chunked\\r\\n\\r\\n4bfa\\r\\n<!doctype html><html itemscope=\"\" itemtype=\"http://schema.org/WebPage\" lang=\"nl\"><head><meta content=\"text/html; charset=UTF-8\" http-equiv=\"Content-Type\"><meta content=\"/images/branding/googleg/1x',\n",
       " 23,\n",
       " (b'\\xc0\\xd5\\xde\\x90\\n\\xa9\\x84e\\xa3\\x81,U', 1))"
      ]
     },
     "execution_count": 55,
     "metadata": {},
     "output_type": "execute_result"
    }
   ],
   "source": [
    "data, packet_type, server_app_nonce = decrypt_packet(http_resp, server_app_key, server_app_nonce)\n",
    "(data, packet_type, server_app_nonce)"
   ]
  },
  {
   "cell_type": "code",
   "execution_count": 56,
   "metadata": {
    "ExecuteTime": {
     "end_time": "2022-02-17T12:50:09.909536Z",
     "start_time": "2022-02-17T12:50:09.900556Z"
    }
   },
   "outputs": [],
   "source": [
    "class HttpsReader(ReaderWrapper):\n",
    "    def _read(self):\n",
    "        global server_app_nonce\n",
    "        http_resp = read_tls(sock)\n",
    "        data, packet_type, server_app_nonce = decrypt_packet(http_resp, server_app_key, server_app_nonce)\n",
    "        print(\"got body\", data[:100])\n",
    "        return data"
   ]
  },
  {
   "cell_type": "code",
   "execution_count": 57,
   "metadata": {
    "ExecuteTime": {
     "end_time": "2022-02-17T12:50:10.393677Z",
     "start_time": "2022-02-17T12:50:10.389987Z"
    }
   },
   "outputs": [],
   "source": [
    "http_reader = HttpsReader(initial_value=data)"
   ]
  },
  {
   "cell_type": "code",
   "execution_count": 58,
   "metadata": {
    "ExecuteTime": {
     "end_time": "2022-02-17T12:50:10.766739Z",
     "start_time": "2022-02-17T12:50:10.760849Z"
    }
   },
   "outputs": [
    {
     "data": {
      "text/plain": [
       "b'HTTP/1.1 200 OK\\r\\n'"
      ]
     },
     "execution_count": 58,
     "metadata": {},
     "output_type": "execute_result"
    }
   ],
   "source": [
    "http_reader.read_line()"
   ]
  },
  {
   "cell_type": "code",
   "execution_count": 59,
   "metadata": {
    "ExecuteTime": {
     "end_time": "2022-02-17T12:50:12.063275Z",
     "start_time": "2022-02-17T12:50:12.057252Z"
    }
   },
   "outputs": [
    {
     "name": "stdout",
     "output_type": "stream",
     "text": [
      "b'Date: Sun, 07 Jul 2024 20:35:34 GMT\\r\\n'\n",
      "b'Expires: -1\\r\\n'\n",
      "b'Cache-Control: private, max-age=0\\r\\n'\n",
      "b'Content-Type: text/html; charset=ISO-8859-1\\r\\n'\n",
      "b\"Content-Security-Policy-Report-Only: object-src 'none';base-uri 'self';script-src 'nonce-8J4GA4QOXqRLGtwa1I_73Q' 'strict-dynamic' 'report-sample' 'unsafe-eval' 'unsafe-inline' https: http:;report-uri https://csp.withgoogle.com/csp/gws/other-hp\\r\\n\"\n",
      "b'P3P: CP=\"This is not a P3P policy! See g.co/p3phelp for more info.\"\\r\\n'\n",
      "b'Server: gws\\r\\n'\n",
      "b'X-XSS-Protection: 0\\r\\n'\n",
      "b'X-Frame-Options: SAMEORIGIN\\r\\n'\n",
      "b'Set-Cookie: AEC=AVYB7cq_fArob1QqwxgOjBclfKy-NI8-RVQmDc-kiHT58HUmtZIJ0tY45mg; expires=Fri, 03-Jan-2025 20:35:34 GMT; path=/; domain=.google.com; Secure; HttpOnly; SameSite=lax\\r\\n'\n",
      "b'Set-Cookie: __Secure-ENID=20.SE=kKRkyQqeR9CCnFuaaLJm_5Kh5eaIpOjXp833foTg0-VTDgLS-o3je4KctUDMDaZhc6xpUflgk3YRWs7s9WSFE7a8iPgtvb1OTNsi2pZr42ZYxp56J03-q3tvjZe0dw07-DON5BHYBx7YUmH88PN6aH33MxS1MvW9UOg_2yIlIBFJF7sXh8_i0ZAnvrE8FaprVhjFdVUarRFNhJq4D9Of; expires=Thu, 07-Aug-2025 12:53:52 GMT; path=/; domain=.google.com; Secure; HttpOnly; SameSite=lax\\r\\n'\n",
      "b'Alt-Svc: h3=\":443\"; ma=2592000,h3-29=\":443\"; ma=2592000\\r\\n'\n",
      "b'Accept-Ranges: none\\r\\n'\n",
      "b'Vary: Accept-Encoding\\r\\n'\n",
      "b'Transfer-Encoding: chunked\\r\\n'\n",
      "got chunked\n",
      "b'\\r\\n'\n"
     ]
    }
   ],
   "source": [
    "content_length = None\n",
    "chunked = False\n",
    "\n",
    "while True:\n",
    "    header = http_reader.read_line()\n",
    "    print(header)\n",
    "    if header == b'\\r\\n':\n",
    "        break\n",
    "    if header.lower().startswith(b'content-length:'):\n",
    "        content_length = int(i.split(':').strip())\n",
    "        print('got content length', content_length)\n",
    "    elif header.lower().startswith(b'transfer-encoding: chunked'):\n",
    "        chunked = True\n",
    "        print('got chunked')\n"
   ]
  },
  {
   "cell_type": "code",
   "execution_count": 60,
   "metadata": {
    "ExecuteTime": {
     "end_time": "2022-02-17T12:50:12.400544Z",
     "start_time": "2022-02-17T12:50:12.396673Z"
    }
   },
   "outputs": [],
   "source": [
    "body = b''"
   ]
  },
  {
   "cell_type": "code",
   "execution_count": 61,
   "metadata": {
    "ExecuteTime": {
     "end_time": "2022-02-17T12:50:12.658329Z",
     "start_time": "2022-02-17T12:50:12.636440Z"
    }
   },
   "outputs": [
    {
     "name": "stdout",
     "output_type": "stream",
     "text": [
      "reading chunks\n",
      "length line b'4bfa\\r\\n'\n",
      "got body b'/googleg_standard_color_128dp.png\" itemprop=\"image\"><title>Google</title><script nonce=\"8J4GA4QOXqRL'\n",
      "got body b',248,846,1031,139,218,1283,96,225,191,311,23,1040,9,907,667,377,1,8,1,1,180,1528,208,1,1,2,93,308,44'\n",
      "got body b'og=function(a,b,c,d,k,e){e=e===void 0?l:e;c||(c=t(a,b,e,d,k));if(c=r(c)){a=new Image;var g=n.length;'\n",
      "got body b'z-index:1000}#gbz{left:0;padding-left:4px}#gbg{right:0;padding-right:5px}#gbs{background:transparent'\n",
      "got body b't:-5px;*right:5px;*bottom:4px;-ms-filter:\"progid:DXImageTransform.Microsoft.Blur(pixelradius=5)\";opa'\n",
      "got body b'!important}.gbtb2{display:block;border-top:2px solid transparent}.gbto .gbzt .gbtb2,.gbto .gbgt .gbt'\n",
      "got body b'{padding:5px !important}.gbto #gbgs5{padding:7px 5px 6px !important}#gbi5{background:url(https://ssl'\n",
      "got body b'.gbsbic::-webkit-scrollbar-track:vertical{background-color:#f5f5f5;margin-top:2px}#gbmpdv{background'\n",
      "got body b'ld;white-space:nowrap}#gbmpal{*border-collapse:collapse;border-spacing:0;border:0;margin:0;white-spa'\n",
      "got body b'0,0,.1);-moz-box-shadow:inset 0 0 0 1px #fff,0 1px 1px rgba(0,0,0,.1);box-shadow:inset 0 0 0 1px #ff'\n",
      "got body b'webkit-linear-gradient(top,#4d90fe,#357ae8);background-image:-moz-linear-gradient(top,#4d90fe,#357ae'\n",
      "got body b\"adient(top,#f8f8f8,#f1f1f1);filter:progid:DXImageTransform.Microsoft.gradient(startColorStr='#f8f8f8\"\n",
      "got body b'e{-webkit-box-shadow:inset 0 1px 2px rgba(0,0,0,.1);-moz-box-shadow:inset 0 1px 2px rgba(0,0,0,.1);b'\n",
      "got body b'kground:-webkit-gradient(linear,left bottom,left top,from(rgba(0,0,0,.2)),to(rgba(0,0,0,0)));backgro'\n",
      "got chunk 19450 b'<!doctype html><html itemscope=\"\" itemtype=\"http://schema.org/WebPage\" lang=\"nl\"><head><meta content'\n",
      "reading chunks\n",
      "got body b'18f\\r\\ndadce0;height:30px}.lsbb{display:block}#WqQANb a{display:inline-block;margin:0 12px}.lsb{backgr'\n",
      "length line b'18f\\r\\n'\n",
      "got chunk 399 b'dadce0;height:30px}.lsbb{display:block}#WqQANb a{display:inline-block;margin:0 12px}.lsb{background:'\n",
      "reading chunks\n",
      "got body b'8000\\r\\n1,bv:2037,de:true};\\nvar h=this||self;var k,l=(k=h.mei)!=null?k:1,n,p=(n=h.sdo)!=null?n:!0,q=0,'\n",
      "length line b'8000\\r\\n'\n",
      "got body b',11)===\"SyntaxError\"||a.message.indexOf(\"Script error\")!==-1?3:0));r=null;p&&q>=l&&(window.onerror=n'\n",
      "got body b'nline\",x):x;\\nvar ma={},y=[],na=h.b(\"0.1\",.1),oa=h.a(\"1\",!0),pa=function(a,b){y.push([a,b])},qa=funct'\n",
      "got body b'&&xa[b];);return!b},E=function(a){function b(){for(var c=a.split(\":\"),d,g=0;d=c[g];++g)xa[d]=1;for(c'\n",
      "got body b'rn b};function Ka(a){r=a;n(\"_itl\",Ga,v);n(\"_aem\",Ja,v);n(\"ml\",r,v);a=\"er\";var b={};w[a]=b}h.a(\"\")?Ka'\n",
      "got body b'b\",\"pq\")}}\\nvar Wa=function(){for(var a=[],b,c=0;b=Qa[c];++c)(b=document.getElementById(b))&&a.push(b'\n",
      "got body b'odes.length;g=!1;for(var l=-1,t,Da=0;t=c[Da];Da++){for(var ba=void 0,Ea=0;ba=t[Ea];Ea++){for(;d<p&&M'\n",
      "got body b'ion(a){T();a&&(U(a,!1),sb(a,\"\"))},tb=function(a){try{T();var b=a||document.getElementById(S);b&&(sb('\n",
      "got body b'),tie:h.c(\"30000\",0)};w[Bb]=Cb;var Db=\"wm\",Eb={thi:h.c(\"10000\",0),thp:h.c(\"180000\",0),tho:h.c(\"5000\"'\n",
      "got body b'geerd)\",md:\"%1$s (standaard)\",mh:\"220\",s:\"1\",pp:Sb,ppl:h.a(\"\"),ppa:h.a(\"\"),\\nppm:\"Google+-pagina\"};w['\n",
      "got body b'etAttribute(b,c),a.save(a.id)))}catch(g){g.code!=DOMException.QUOTA_EXCEEDED_ERR&&q(g,\"up\",\"spd\")}},'\n",
      "got body b'db\",a):c?ea(window,\"load\",b):b()}n(\"rdl\",lc);}catch(e){window.gbar&&gbar.logger&&gbar.logger.ml(e,{\"'\n",
      "got body b'ar&&gbar.logger&&gbar.logger.ml(e,{\"_sn\":\"cfg.init\"});}})();\\n(function(){try{/*\\n\\n Copyright The Clos'\n",
      "got body b'v id=gbz><span class=gbtcb></span><ol id=gbzc class=gbtc><li class=gbt><a class=\"gbzt gbz0l gbp1\" id'\n",
      "got body b'<span id=gbztms class=\"gbts gbtsa\"><span id=gbztms1>Meer</span><span class=gbma></span></span></a><s'\n",
      "got body b\"e='8J4GA4QOXqRLGtwa1I_73Q'>document.querySelector('li > a.gbmt').addEventListener('click', function \"\n",
      "got body b\"></div></li></ol></div></div><div id=gbx3></div><div id=gbx4></div><script nonce='8J4GA4QOXqRLGtwa1I\"\n",
      "got body b\"1;if (this.form.iflsig)this.form.iflsig.disabled = false;}\\nelse top.location='/doodles/';};})();</sc\"\n",
      "got body b'0 2px}</style><div id=\"SIvCob\">Google aangeboden in:  <a href=\"https://www.google.com/setprefs?sig=0'\n",
      "got body b'h([\"opi\",l.toString()]);for(var m=0;m<k.length;m++){if(m===0||m>0)h+=\"&\";h+=k[m][0]+\"=\"+k[m][1]}f.ca'\n",
      "got body b' st=1;var amd=1000;var mmd=0;var pod=true;\\nvar f=this||self,g=function(a){return a};var h;var k=func'\n",
      "got body b'load;a.onload=function(d){c&&c(d);google.ps=google.ps.filter(function(e){return a!==e})};google.ps.p'\n",
      "got body b' M(){G||H||I||(J(),G=!0)}setTimeout(function(){google&&google.tick&&google.timers&&google.timers.loa'\n",
      "got body b'22Verwijderen\\\\x22,\\\\x22sbit\\\\x22:\\\\x22Zoeken op afbeelding\\\\x22,\\\\x22srch\\\\x22:\\\\x22Google Zoeken\\\\x22},\\\\x22'\n",
      "got chunk 32768 b'1,bv:2037,de:true};\\nvar h=this||self;var k,l=(k=h.mei)!=null?k:1,n,p=(n=h.sdo)!=null?n:!0,q=0,r,t=go'\n",
      "reading chunks\n",
      "got body b'528\\r\\n\"))||u(\"Silk\")}function y(){return u(\"Android\")&&!(x()||u(\"Firefox\")||u(\"FxiOS\")||(v()?0:u(\"Ope'\n",
      "length line b'528\\r\\n'\n",
      "got chunk 1320 b'\"))||u(\"Silk\")}function y(){return u(\"Android\")&&!(x()||u(\"Firefox\")||u(\"FxiOS\")||(v()?0:u(\"Opera\"))'\n",
      "reading chunks\n",
      "length line b'0\\r\\n'\n",
      "got chunk 0 b''\n"
     ]
    }
   ],
   "source": [
    "while chunked:\n",
    "    print(\"reading chunks\")\n",
    "    length = http_reader.read_line()\n",
    "    print(\"length line\", length)\n",
    "    l = int(length[:-2], 16)\n",
    "\n",
    "    ch = http_reader.read_len(l)\n",
    "    print(\"got chunk\", len(ch), ch[:100])\n",
    "    body += ch\n",
    "    http_reader.read_line()\n",
    "    if l == 0:\n",
    "        break"
   ]
  },
  {
   "cell_type": "code",
   "execution_count": 62,
   "metadata": {
    "ExecuteTime": {
     "end_time": "2022-02-17T12:50:12.940621Z",
     "start_time": "2022-02-17T12:50:12.932996Z"
    }
   },
   "outputs": [
    {
     "name": "stderr",
     "output_type": "stream",
     "text": [
      "/tmp/ipykernel_2444675/449586190.py:1: DeprecationWarning: Importing display from IPython.core.display is deprecated since IPython 7.14, please import from IPython display\n",
      "  from IPython.core.display import display, HTML\n"
     ]
    },
    {
     "data": {
      "text/html": [
       "<!doctype html><html itemscope=\"\" itemtype=\"http://schema.org/WebPage\" lang=\"nl\"><head><meta content=\"text/html; charset=UTF-8\" http-equiv=\"Content-Type\"><meta content=\"/images/branding/googleg/1x/googleg_standard_color_128dp.png\" itemprop=\"image\"><title>Google</title><script nonce=\"8J4GA4QOXqRLGtwa1I_73Q\">(function(){var _g={kEI:'FvyKZuSnA9yO9u8PyeGfwA4',kEXPI:'0,3700268,681,432,7,19,448505,90133,2872,2891,561,3365,4423,3405,31274,124346,85640,2,38003,1758,6699,41943,84377,8155,23350,8703,13166,567,9779,45601,17057,44507,17437,11234,3030,17620,35269,11813,477,1158,5268143,891,622,5991809,2840302,263,4,15,2,10,24,1,37,10,1,9,26711170,1270287,14298,2375,43886,3,318,4,1281,3,2124363,23034775,2530,1,4844,8408,16665,28027,36870,12881,6407,2863,1674,9308,12953,2212,3823,4,4354,14873,30417,14225,11584,3009,3745,156,2483,4401,9103,1006,6730,6600,2540,739,2,1,765,3091,208,120,398,1145,1,208,1465,5,3004,7560,4,2853,3480,260,135,26,3,1270,1379,2704,409,518,3301,1107,3,88,2230,660,1642,56,3935,688,5227,456,990,1122,3,53,24,397,1297,156,422,3360,1544,2669,263,975,708,212,1914,2,2379,113,1704,333,3530,683,664,14,5657,171,338,4893,715,37,239,498,1,766,374,338,7,1,1146,1,432,287,2,9,623,1457,273,1644,3,625,193,454,654,263,2128,5,244,295,834,365,298,1994,3,186,292,3,2,573,122,1,6,263,412,1574,367,3,93,1021,10,306,345,24,112,168,2,11,529,66,448,75,3,1,1103,162,2,2169,466,65,181,289,1492,86,152,95,555,1274,159,62,4,243,572,14,1155,624,235,687,452,111,129,419,16,345,2133,912,578,57,628,113,1123,18,1201,38,708,223,400,539,463,72,1029,18,983,436,123,29,69,108,12,2470,2,248,846,1031,139,218,1283,96,225,191,311,23,1040,9,907,667,377,1,8,1,1,180,1528,208,1,1,2,93,308,443,346,26,67,21180230,365638,3,980,5,2784,6427,4,8139,2206,20,390,1010,2313',kBL:'LUEQ',kOPI:89978449};(function(){var a;((a=window.google)==null?0:a.stvsc)?google.kEI=_g.kEI:window.google=_g;}).call(this);})();(function(){google.sn='webhp';google.kHL='nl';})();(function(){\n",
       "var h=this||self;function l(){return window.google!==void 0&&window.google.kOPI!==void 0&&window.google.kOPI!==0?window.google.kOPI:null};var m,n=[];function p(a){for(var b;a&&(!a.getAttribute||!(b=a.getAttribute(\"eid\")));)a=a.parentNode;return b||m}function q(a){for(var b=null;a&&(!a.getAttribute||!(b=a.getAttribute(\"leid\")));)a=a.parentNode;return b}function r(a){/^http:/i.test(a)&&window.location.protocol===\"https:\"&&(google.ml&&google.ml(Error(\"a\"),!1,{src:a,glmm:1}),a=\"\");return a}\n",
       "function t(a,b,c,d,k){var e=\"\";b.search(\"&ei=\")===-1&&(e=\"&ei=\"+p(d),b.search(\"&lei=\")===-1&&(d=q(d))&&(e+=\"&lei=\"+d));d=\"\";var g=b.search(\"&cshid=\")===-1&&a!==\"slh\",f=[];f.push([\"zx\",Date.now().toString()]);h._cshid&&g&&f.push([\"cshid\",h._cshid]);c=c();c!=null&&f.push([\"opi\",c.toString()]);for(c=0;c<f.length;c++){if(c===0||c>0)d+=\"&\";d+=f[c][0]+\"=\"+f[c][1]}return\"/\"+(k||\"gen_204\")+\"?atyp=i&ct=\"+String(a)+\"&cad=\"+(b+e+d)};m=google.kEI;google.getEI=p;google.getLEI=q;google.ml=function(){return null};google.log=function(a,b,c,d,k,e){e=e===void 0?l:e;c||(c=t(a,b,e,d,k));if(c=r(c)){a=new Image;var g=n.length;n[g]=a;a.onerror=a.onload=a.onabort=function(){delete n[g]};a.src=c}};google.logUrl=function(a,b){b=b===void 0?l:b;return t(\"\",a,b)};}).call(this);(function(){google.y={};google.sy=[];google.x=function(a,b){if(a)var c=a.id;else{do c=Math.random();while(google.y[c])}google.y[c]=[a,b];return!1};google.sx=function(a){google.sy.push(a)};google.lm=[];google.plm=function(a){google.lm.push.apply(google.lm,a)};google.lq=[];google.load=function(a,b,c){google.lq.push([[a],b,c])};google.loadAll=function(a,b){google.lq.push([a,b])};google.bx=!1;google.lx=function(){};var d=[];google.fce=function(a,b,c,e){d.push([a,b,c,e])};google.qce=d;}).call(this);google.f={};(function(){\n",
       "document.documentElement.addEventListener(\"submit\",function(b){var a;if(a=b.target){var c=a.getAttribute(\"data-submitfalse\");a=c===\"1\"||c===\"q\"&&!a.elements.q.value?!0:!1}else a=!1;a&&(b.preventDefault(),b.stopPropagation())},!0);document.documentElement.addEventListener(\"click\",function(b){var a;a:{for(a=b.target;a&&a!==document.documentElement;a=a.parentElement)if(a.tagName===\"A\"){a=a.getAttribute(\"data-nohref\")===\"1\";break a}a=!1}a&&b.preventDefault()},!0);}).call(this);</script><style>#gb{font:13px/27px Arial,sans-serif;height:30px}#gbz,#gbg{position:absolute;white-space:nowrap;top:0;height:30px;z-index:1000}#gbz{left:0;padding-left:4px}#gbg{right:0;padding-right:5px}#gbs{background:transparent;position:absolute;top:-999px;visibility:hidden;z-index:998;right:0}.gbto #gbs{background:#fff}#gbx3,#gbx4{background-color:#2d2d2d;background-image:none;_background-image:none;background-position:0 -138px;background-repeat:repeat-x;border-bottom:1px solid #000;font-size:24px;height:29px;_height:30px;opacity:1;filter:alpha(opacity=100);position:absolute;top:0;width:100%;z-index:990}#gbx3{left:0}#gbx4{right:0}#gbb{position:relative}#gbbw{left:0;position:absolute;top:30px;width:100%}.gbtcb{position:absolute;visibility:hidden}#gbz .gbtcb{right:0}#gbg .gbtcb{left:0}.gbxx{display:none !important}.gbxo{opacity:0 !important;filter:alpha(opacity=0) !important}.gbm{position:absolute;z-index:999;top:-999px;visibility:hidden;text-align:left;border:1px solid #bebebe;background:#fff;-moz-box-shadow:-1px 1px 1px rgba(0,0,0,.2);-webkit-box-shadow:0 2px 4px rgba(0,0,0,.2);box-shadow:0 2px 4px rgba(0,0,0,.2)}.gbrtl .gbm{-moz-box-shadow:1px 1px 1px rgba(0,0,0,.2)}.gbto .gbm,.gbto #gbs{top:29px;visibility:visible}#gbz .gbm{left:0}#gbg .gbm{right:0}.gbxms{background-color:#ccc;display:block;position:absolute;z-index:1;top:-1px;left:-2px;right:-2px;bottom:-2px;opacity:.4;-moz-border-radius:3px;filter:progid:DXImageTransform.Microsoft.Blur(pixelradius=5);*opacity:1;*top:-2px;*left:-5px;*right:5px;*bottom:4px;-ms-filter:\"progid:DXImageTransform.Microsoft.Blur(pixelradius=5)\";opacity:1\\0/;top:-4px\\0/;left:-6px\\0/;right:5px\\0/;bottom:4px\\0/}.gbma{position:relative;top:-1px;border-style:solid dashed dashed;border-color:transparent;border-top-color:#c0c0c0;display:-moz-inline-box;display:inline-block;font-size:0;height:0;line-height:0;width:0;border-width:3px 3px 0;padding-top:1px;left:4px}#gbztms1,#gbi4m1,#gbi4s,#gbi4t{zoom:1}.gbtc,.gbmc,.gbmcc{display:block;list-style:none;margin:0;padding:0}.gbmc{background:#fff;padding:10px 0;position:relative;z-index:2;zoom:1}.gbt{position:relative;display:-moz-inline-box;display:inline-block;line-height:27px;padding:0;vertical-align:top}.gbt{*display:inline}.gbto{box-shadow:0 2px 4px rgba(0,0,0,.2);-moz-box-shadow:0 2px 4px rgba(0,0,0,.2);-webkit-box-shadow:0 2px 4px rgba(0,0,0,.2)}.gbzt,.gbgt{cursor:pointer;display:block;text-decoration:none !important}span#gbg6,span#gbg4{cursor:default}.gbts{border-left:1px solid transparent;border-right:1px solid transparent;display:block;*display:inline-block;padding:0 5px;position:relative;z-index:1000}.gbts{*display:inline}.gbzt .gbts{display:inline;zoom:1}.gbto .gbts{background:#fff;border-color:#bebebe;color:#36c;padding-bottom:1px;padding-top:2px}.gbz0l .gbts{color:#fff;font-weight:bold}.gbtsa{padding-right:9px}#gbz .gbzt,#gbz .gbgt,#gbg .gbgt{color:#ccc!important}.gbtb2{display:block;border-top:2px solid transparent}.gbto .gbzt .gbtb2,.gbto .gbgt .gbtb2{border-top-width:0}.gbtb .gbts{background:url(https://ssl.gstatic.com/gb/images/b_8d5afc09.png);_background:url(https://ssl.gstatic.com/gb/images/b8_3615d64d.png);background-position:-27px -22px;border:0;font-size:0;padding:29px 0 0;*padding:27px 0 0;width:1px}.gbzt:hover,.gbzt:focus,.gbgt-hvr,.gbgt:focus{background-color:#4c4c4c;background-image:none;_background-image:none;background-position:0 -102px;background-repeat:repeat-x;outline:none;text-decoration:none !important}.gbpdjs .gbto .gbm{min-width:99%}.gbz0l .gbtb2{border-top-color:#dd4b39!important}#gbi4s,#gbi4s1{font-weight:bold}#gbg6.gbgt-hvr,#gbg6.gbgt:focus{background-color:transparent;background-image:none}.gbg4a{font-size:0;line-height:0}.gbg4a .gbts{padding:27px 5px 0;*padding:25px 5px 0}.gbto .gbg4a .gbts{padding:29px 5px 1px;*padding:27px 5px 1px}#gbi4i,#gbi4id{left:5px;border:0;height:24px;position:absolute;top:1px;width:24px}.gbto #gbi4i,.gbto #gbi4id{top:3px}.gbi4p{display:block;width:24px}#gbi4id{background-position:-44px -101px}#gbmpid{background-position:0 0}#gbmpi,#gbmpid{border:none;display:inline-block;height:48px;width:48px}#gbmpiw{display:inline-block;line-height:9px;padding-left:20px;margin-top:10px;position:relative}#gbmpi,#gbmpid,#gbmpiw{*display:inline}#gbg5{font-size:0}#gbgs5{padding:5px !important}.gbto #gbgs5{padding:7px 5px 6px !important}#gbi5{background:url(https://ssl.gstatic.com/gb/images/b_8d5afc09.png);_background:url(https://ssl.gstatic.com/gb/images/b8_3615d64d.png);background-position:0 0;display:block;font-size:0;height:17px;width:16px}.gbto #gbi5{background-position:-6px -22px}.gbn .gbmt,.gbn .gbmt:visited,.gbnd .gbmt,.gbnd .gbmt:visited{color:#dd8e27 !important}.gbf .gbmt,.gbf .gbmt:visited{color:#900 !important}.gbmt,.gbml1,.gbmlb,.gbmt:visited,.gbml1:visited,.gbmlb:visited{color:#36c !important;text-decoration:none !important}.gbmt,.gbmt:visited{display:block}.gbml1,.gbmlb,.gbml1:visited,.gbmlb:visited{display:inline-block;margin:0 10px}.gbml1,.gbmlb,.gbml1:visited,.gbmlb:visited{*display:inline}.gbml1,.gbml1:visited{padding:0 10px}.gbml1-hvr,.gbml1:focus{outline:none;text-decoration:underline !important}#gbpm .gbml1{display:inline;margin:0;padding:0;white-space:nowrap}.gbmlb,.gbmlb:visited{line-height:27px}.gbmlb-hvr,.gbmlb:focus{outline:none;text-decoration:underline !important}.gbmlbw{color:#ccc;margin:0 10px}.gbmt{padding:0 20px}.gbmt:hover,.gbmt:focus{background:#eee;cursor:pointer;outline:0 solid black;text-decoration:none !important}.gbm0l,.gbm0l:visited{color:#000 !important;font-weight:bold}.gbmh{border-top:1px solid #bebebe;font-size:0;margin:10px 0}#gbd4 .gbmc{background:#f5f5f5;padding-top:0}#gbd4 .gbsbic::-webkit-scrollbar-track:vertical{background-color:#f5f5f5;margin-top:2px}#gbmpdv{background:#fff;border-bottom:1px solid #bebebe;-moz-box-shadow:0 2px 4px rgba(0,0,0,.12);-o-box-shadow:0 2px 4px rgba(0,0,0,.12);-webkit-box-shadow:0 2px 4px rgba(0,0,0,.12);box-shadow:0 2px 4px rgba(0,0,0,.12);position:relative;z-index:1}#gbd4 .gbmh{margin:0}.gbmtc{padding:0;margin:0;line-height:27px}.GBMCC:last-child:after,#GBMPAL:last-child:after{content:'\\0A\\0A';white-space:pre;position:absolute}#gbmps{*zoom:1}#gbd4 .gbpc,#gbmpas .gbmt{line-height:17px}#gbd4 .gbpgs .gbmtc{line-height:27px}#gbd4 .gbmtc{border-bottom:1px solid #bebebe}#gbd4 .gbpc{display:inline-block;margin:16px 0 10px;padding-right:50px;vertical-align:top}#gbd4 .gbpc{*display:inline}.gbpc .gbps,.gbpc .gbps2{display:block;margin:0 20px}#gbmplp.gbps{margin:0 10px}.gbpc .gbps{color:#000;font-weight:bold}.gbpc .gbpd{margin-bottom:5px}.gbpd .gbmt,.gbpd .gbps{color:#666 !important}.gbpd .gbmt{opacity:.4;filter:alpha(opacity=40)}.gbps2{color:#666;display:block}.gbp0{display:none}.gbp0 .gbps2{font-weight:bold}#gbd4 .gbmcc{margin-top:5px}.gbpmc{background:#fef9db}.gbpmc .gbpmtc{padding:10px 20px}#gbpm{border:0;*border-collapse:collapse;border-spacing:0;margin:0;white-space:normal}#gbpm .gbpmtc{border-top:none;color:#000 !important;font:11px Arial,sans-serif}#gbpms{*white-space:nowrap}.gbpms2{font-weight:bold;white-space:nowrap}#gbmpal{*border-collapse:collapse;border-spacing:0;border:0;margin:0;white-space:nowrap;width:100%}.gbmpala,.gbmpalb{font:13px Arial,sans-serif;line-height:27px;padding:10px 20px 0;white-space:nowrap}.gbmpala{padding-left:0;text-align:left}.gbmpalb{padding-right:0;text-align:right}#gbmpasb .gbps{color:#000}#gbmpal .gbqfbb{margin:0 20px}.gbp0 .gbps{*display:inline}a.gbiba{margin:8px 20px 10px}.gbmpiaw{display:inline-block;padding-right:10px;margin-bottom:6px;margin-top:10px}.gbxv{visibility:hidden}.gbmpiaa{display:block;margin-top:10px}.gbmpia{border:none;display:block;height:48px;width:48px}.gbmpnw{display:inline-block;height:auto;margin:10px 0;vertical-align:top}\n",
       ".gbqfb,.gbqfba,.gbqfbb{-moz-border-radius:2px;-webkit-border-radius:2px;border-radius:2px;cursor:default !important;display:inline-block;font-weight:bold;height:29px;line-height:29px;min-width:54px;*min-width:70px;padding:0 8px;text-align:center;text-decoration:none !important;-moz-user-select:none;-webkit-user-select:none}.gbqfb:focus,.gbqfba:focus,.gbqfbb:focus{border:1px solid #4d90fe;-moz-box-shadow:inset 0 0 0 1px rgba(255, 255, 255, 0.5);-webkit-box-shadow:inset 0 0 0 1px rgba(255, 255, 255, 0.5);box-shadow:inset 0 0 0 1px rgba(255, 255, 255, 0.5);outline:none}.gbqfb-hvr:focus,.gbqfba-hvr:focus,.gbqfbb-hvr:focus{-webkit-box-shadow:inset 0 0 0 1px #fff,0 1px 1px rgba(0,0,0,.1);-moz-box-shadow:inset 0 0 0 1px #fff,0 1px 1px rgba(0,0,0,.1);box-shadow:inset 0 0 0 1px #fff,0 1px 1px rgba(0,0,0,.1)}.gbqfb-no-focus:focus{border:1px solid #3079ed;-moz-box-shadow:none;-webkit-box-shadow:none;box-shadow:none}.gbqfb-hvr,.gbqfba-hvr,.gbqfbb-hvr{-webkit-box-shadow:0 1px 1px rgba(0,0,0,.1);-moz-box-shadow:0 1px 1px rgba(0,0,0,.1);box-shadow:0 1px 1px rgba(0,0,0,.1)}.gbqfb::-moz-focus-inner,.gbqfba::-moz-focus-inner,.gbqfbb::-moz-focus-inner{border:0}.gbqfba,.gbqfbb{border:1px solid #dcdcdc;border-color:rgba(0,0,0,.1);color:#444 !important;font-size:11px}.gbqfb{background-color:#4d90fe;background-image:-webkit-gradient(linear,left top,left bottom,from(#4d90fe),to(#4787ed));background-image:-webkit-linear-gradient(top,#4d90fe,#4787ed);background-image:-moz-linear-gradient(top,#4d90fe,#4787ed);background-image:-ms-linear-gradient(top,#4d90fe,#4787ed);background-image:-o-linear-gradient(top,#4d90fe,#4787ed);background-image:linear-gradient(top,#4d90fe,#4787ed);filter:progid:DXImageTransform.Microsoft.gradient(startColorStr='#4d90fe',EndColorStr='#4787ed');border:1px solid #3079ed;color:#fff!important;margin:0 0}.gbqfb-hvr{border-color:#2f5bb7}.gbqfb-hvr:focus{border-color:#2f5bb7}.gbqfb-hvr,.gbqfb-hvr:focus{background-color:#357ae8;background-image:-webkit-gradient(linear,left top,left bottom,from(#4d90fe),to(#357ae8));background-image:-webkit-linear-gradient(top,#4d90fe,#357ae8);background-image:-moz-linear-gradient(top,#4d90fe,#357ae8);background-image:-ms-linear-gradient(top,#4d90fe,#357ae8);background-image:-o-linear-gradient(top,#4d90fe,#357ae8);background-image:linear-gradient(top,#4d90fe,#357ae8)}.gbqfb:active{background-color:inherit;-webkit-box-shadow:inset 0 1px 2px rgba(0, 0, 0, 0.3);-moz-box-shadow:inset 0 1px 2px rgba(0, 0, 0, 0.3);box-shadow:inset 0 1px 2px rgba(0, 0, 0, 0.3)}.gbqfba{background-color:#f5f5f5;background-image:-webkit-gradient(linear,left top,left bottom,from(#f5f5f5),to(#f1f1f1));background-image:-webkit-linear-gradient(top,#f5f5f5,#f1f1f1);background-image:-moz-linear-gradient(top,#f5f5f5,#f1f1f1);background-image:-ms-linear-gradient(top,#f5f5f5,#f1f1f1);background-image:-o-linear-gradient(top,#f5f5f5,#f1f1f1);background-image:linear-gradient(top,#f5f5f5,#f1f1f1);filter:progid:DXImageTransform.Microsoft.gradient(startColorStr='#f5f5f5',EndColorStr='#f1f1f1')}.gbqfba-hvr,.gbqfba-hvr:active{background-color:#f8f8f8;background-image:-webkit-gradient(linear,left top,left bottom,from(#f8f8f8),to(#f1f1f1));background-image:-webkit-linear-gradient(top,#f8f8f8,#f1f1f1);background-image:-moz-linear-gradient(top,#f8f8f8,#f1f1f1);background-image:-ms-linear-gradient(top,#f8f8f8,#f1f1f1);background-image:-o-linear-gradient(top,#f8f8f8,#f1f1f1);background-image:linear-gradient(top,#f8f8f8,#f1f1f1);filter:progid:DXImageTransform.Microsoft.gradient(startColorStr='#f8f8f8',EndColorStr='#f1f1f1')}.gbqfbb{background-color:#fff;background-image:-webkit-gradient(linear,left top,left bottom,from(#fff),to(#fbfbfb));background-image:-webkit-linear-gradient(top,#fff,#fbfbfb);background-image:-moz-linear-gradient(top,#fff,#fbfbfb);background-image:-ms-linear-gradient(top,#fff,#fbfbfb);background-image:-o-linear-gradient(top,#fff,#fbfbfb);background-image:linear-gradient(top,#fff,#fbfbfb);filter:progid:DXImageTransform.Microsoft.gradient(startColorStr='#ffffff',EndColorStr='#fbfbfb')}.gbqfbb-hvr,.gbqfbb-hvr:active{background-color:#fff;background-image:-webkit-gradient(linear,left top,left bottom,from(#fff),to(#f8f8f8));background-image:-webkit-linear-gradient(top,#fff,#f8f8f8);background-image:-moz-linear-gradient(top,#fff,#f8f8f8);background-image:-ms-linear-gradient(top,#fff,#f8f8f8);background-image:-o-linear-gradient(top,#fff,#f8f8f8);background-image:linear-gradient(top,#fff,#f8f8f8);filter:progid:DXImageTransform.Microsoft.gradient(startColorStr='#ffffff',EndColorStr='#f8f8f8')}.gbqfba-hvr,.gbqfba-hvr:active,.gbqfbb-hvr,.gbqfbb-hvr:active{border-color:#c6c6c6;-webkit-box-shadow:0 1px 1px rgba(0,0,0,.1);-moz-box-shadow:0 1px 1px rgba(0,0,0,.1);box-shadow:0 1px 1px rgba(0,0,0,.1);color:#222 !important}.gbqfba:active,.gbqfbb:active{-webkit-box-shadow:inset 0 1px 2px rgba(0,0,0,.1);-moz-box-shadow:inset 0 1px 2px rgba(0,0,0,.1);box-shadow:inset 0 1px 2px rgba(0,0,0,.1)}\n",
       "#gbmpas{max-height:220px}#gbmm{max-height:530px}.gbsb{-webkit-box-sizing:border-box;display:block;position:relative;*zoom:1}.gbsbic{overflow:auto}.gbsbis .gbsbt,.gbsbis .gbsbb{-webkit-mask-box-image:-webkit-gradient(linear,left top,right top,color-stop(0,rgba(0,0,0,.1)),color-stop(.5,rgba(0,0,0,.8)),color-stop(1,rgba(0,0,0,.1)));left:0;margin-right:0;opacity:0;position:absolute;width:100%}.gbsb .gbsbt:after,.gbsb .gbsbb:after{content:\"\";display:block;height:0;left:0;position:absolute;width:100%}.gbsbis .gbsbt{background:-webkit-gradient(linear,left top,left bottom,from(rgba(0,0,0,.2)),to(rgba(0,0,0,0)));background-image:-webkit-linear-gradient(top,rgba(0,0,0,.2),rgba(0,0,0,0));background-image:-moz-linear-gradient(top,rgba(0,0,0,.2),rgba(0,0,0,0));background-image:-ms-linear-gradient(top,rgba(0,0,0,.2),rgba(0,0,0,0));background-image:-o-linear-gradient(top,rgba(0,0,0,.2),rgba(0,0,0,0));background-image:linear-gradient(top,rgba(0,0,0,.2),rgba(0,0,0,0));height:6px;top:0}.gbsb .gbsbt:after{border-top:1px solid #ebebeb;border-color:rgba(0,0,0,.3);top:0}.gbsb .gbsbb{-webkit-mask-box-image:-webkit-gradient(linear,left top,right top,color-stop(0,rgba(0,0,0,.1)),color-stop(.5,rgba(0,0,0,.8)),color-stop(1,rgba(0,0,0,.1)));background:-webkit-gradient(linear,left bottom,left top,from(rgba(0,0,0,.2)),to(rgba(0,0,0,0)));background-image:-webkit-linear-gradient(bottom,rgba(0,0,0,.2),rgba(0,0,0,0));background-image:-moz-linear-gradient(bottom,rgba(0,0,0,.2),rgba(0,0,0,0));background-image:-ms-linear-gradient(bottom,rgba(0,0,0,.2),rgba(0,0,0,0));background-image:-o-linear-gradient(bottom,rgba(0,0,0,.2),rgba(0,0,0,0));background-image:linear-gradient(bottom,rgba(0,0,0,.2),rgba(0,0,0,0));bottom:0;height:4px}.gbsb .gbsbb:after{border-bottom:1px solid #ebebeb;border-color:rgba(0,0,0,.3);bottom:0}\n",
       "</style><style>body,td,a,p,.h{font-family:arial,sans-serif}body{margin:0;overflow-y:scroll}#gog{padding:3px 8px 0}td{line-height:.8em}.gac_m td{line-height:17px}form{margin-bottom:20px}.h{color:#1967d2}em{font-weight:bold;font-style:normal}.lst{height:25px;width:496px}.gsfi,.lst{font:18px arial,sans-serif}.gsfs{font:17px arial,sans-serif}.ds{display:inline-box;display:inline-block;margin:3px 0 4px;margin-left:4px}input{font-family:inherit}body{background:#fff;color:#000}a{color:#681da8;text-decoration:none}a:hover,a:active{text-decoration:underline}.fl a{color:#1967d2}a:visited{color:#681da8}.sblc{padding-top:5px}.sblc a{display:block;margin:2px 0;margin-left:13px;font-size:11px}.lsbb{background:#f8f9fa;border:solid 1px;border-color:#dadce0 #70757a #70757a #dadce0;height:30px}.lsbb{display:block}#WqQANb a{display:inline-block;margin:0 12px}.lsb{background:url(/images/nav_logo229.png) 0 -261px repeat-x;color:#000;border:none;cursor:pointer;height:30px;margin:0;outline:0;font:15px arial,sans-serif;vertical-align:top}.lsb:active{background:#dadce0}.lst:focus{outline:none}</style><script nonce=\"8J4GA4QOXqRLGtwa1I_73Q\">(function(){window.google.erd={jsr:1,bv:2037,de:true};\n",
       "var h=this||self;var k,l=(k=h.mei)!=null?k:1,n,p=(n=h.sdo)!=null?n:!0,q=0,r,t=google.erd,v=t.jsr;google.ml=function(a,b,d,m,e){e=e===void 0?2:e;b&&(r=a&&a.message);d===void 0&&(d={});d.cad=\"ple_\"+google.ple+\".aple_\"+google.aple;if(google.dl)return google.dl(a,e,d,!0),null;b=d;if(v<0){window.console&&console.error(a,b);if(v===-2)throw a;b=!1}else b=!a||!a.message||a.message===\"Error loading script\"||q>=l&&!m?!1:!0;if(!b)return null;q++;d=d||{};b=encodeURIComponent;var c=\"/gen_204?atyp=i&ei=\"+b(google.kEI);google.kEXPI&&(c+=\"&jexpid=\"+b(google.kEXPI));c+=\"&srcpg=\"+b(google.sn)+\"&jsr=\"+b(t.jsr)+\n",
       "\"&bver=\"+b(t.bv);var f=a.lineNumber;f!==void 0&&(c+=\"&line=\"+f);var g=a.fileName;g&&(g.indexOf(\"-extension:/\")>0&&(e=3),c+=\"&script=\"+b(g),f&&g===window.location.href&&(f=document.documentElement.outerHTML.split(\"\\n\")[f],c+=\"&cad=\"+b(f?f.substring(0,300):\"No script found.\")));google.ple&&google.ple===1&&(e=2);c+=\"&jsel=\"+e;for(var u in d)c+=\"&\",c+=b(u),c+=\"=\",c+=b(d[u]);c=c+\"&emsg=\"+b(a.name+\": \"+a.message);c=c+\"&jsst=\"+b(a.stack||\"N/A\");c.length>=12288&&(c=c.substr(0,12288));a=c;m||google.log(0,\"\",a);return a};window.onerror=function(a,b,d,m,e){r!==a&&(a=e instanceof Error?e:Error(a),d===void 0||\"lineNumber\"in a||(a.lineNumber=d),b===void 0||\"fileName\"in a||(a.fileName=b),google.ml(a,!1,void 0,!1,a.name===\"SyntaxError\"||a.message.substring(0,11)===\"SyntaxError\"||a.message.indexOf(\"Script error\")!==-1?3:0));r=null;p&&q>=l&&(window.onerror=null)};})();(function(){try{/*\n",
       "\n",
       " Copyright The Closure Library Authors.\n",
       " SPDX-License-Identifier: Apache-2.0\n",
       "*/\n",
       "var e=this||self;var aa=function(a,b,c,d){d=d||{};d._sn=[\"cfg\",b,c].join(\".\");window.gbar.logger.ml(a,d)};var f=window.gbar=window.gbar||{},h=window.gbar.i=window.gbar.i||{},da;function _tvn(a,b){a=parseInt(a,10);return isNaN(a)?b:a}function _tvf(a,b){a=parseFloat(a);return isNaN(a)?b:a}function _tvv(a){return!!a}function n(a,b,c){(c||f)[a]=b}f.bv={n:_tvn(\"2\",0),r:\"\",f:\".66.\",e:\"\",m:_tvn(\"1\",1)};\n",
       "function ea(a,b,c){var d=\"on\"+b;if(a.addEventListener)a.addEventListener(b,c,!1);else if(a.attachEvent)a.attachEvent(d,c);else{var g=a[d];a[d]=function(){var k=g.apply(this,arguments),m=c.apply(this,arguments);return k==void 0?m:m==void 0?k:m&&k}}}var fa=function(a){return function(){return f.bv.m==a}},ha=fa(1),ia=fa(2);n(\"sb\",ha);n(\"kn\",ia);h.a=_tvv;h.b=_tvf;h.c=_tvn;h.i=aa;var q=window.gbar.i.i;var r=function(){},u=function(){},la=function(a){var b=new Image,c=ja;b.onerror=b.onload=b.onabort=function(){try{delete ka[c]}catch(d){}};ka[c]=b;b.src=a;ja=c+1},ka=[],ja=0;n(\"logger\",{il:u,ml:r,log:la});var v=window.gbar.logger;var w={},x={createScript:function(a){return a}};x=self.trustedTypes&&self.trustedTypes.createPolicy?self.trustedTypes.createPolicy(\"ogb#inline\",x):x;\n",
       "var ma={},y=[],na=h.b(\"0.1\",.1),oa=h.a(\"1\",!0),pa=function(a,b){y.push([a,b])},qa=function(a,b){w[a]=b},ra=function(a){return a in w},z={},A=function(a,b){z[a]||(z[a]=[]);z[a].push(b)},B=function(a){A(\"m\",a)},C=function(a,b){var c=document.createElement(\"script\");c.src=x.createScript(a);c.async=oa;Math.random()<na&&(c.onerror=function(){c.onerror=null;r(Error(\"Bundle load failed: name=\"+(b||\"UNK\")+\" url=\"+a))});(document.getElementById(\"xjsc\")||\n",
       "document.getElementsByTagName(\"body\")[0]||document.getElementsByTagName(\"head\")[0]).appendChild(c)},F=function(a){for(var b,c=0;(b=y[c])&&b[0]!=a;++c);!b||b[1].l||b[1].s||(b[1].s=!0,D(2,a),b[1].url&&C(b[1].url,a),b[1].libs&&E&&E(b[1].libs))},sa=function(a){A(\"gc\",a)},G=null,ta=function(a){G=a},D=function(a,b,c){if(G){a={t:a,b:b};if(c)for(var d in c)a[d]=c[d];try{G(a)}catch(g){}}};n(\"mdc\",w);n(\"mdi\",ma);n(\"bnc\",y);n(\"qGC\",sa);n(\"qm\",B);n(\"qd\",z);n(\"lb\",F);n(\"mcf\",qa);n(\"bcf\",pa);n(\"aq\",A);\n",
       "n(\"mdd\",\"\");n(\"has\",ra);n(\"trh\",ta);n(\"tev\",D);if(h.a(\"m;/_/scs/abc-static/_/js/k=gapi.gapi.en.iZZZ0XsR8bM.O/am=AAAQ/d=1/rs=AHpOoo_0-97nH_2IxP0suYF105-PdJv4zg/m=__features__\")){var H=function(a,b){return ua?a||b:b},I=h.a(\"1\"),va=h.a(\"\"),wa=h.a(\"\"),ua=h.a(\"\"),J=window.gapi=H(window.gapi,{}),K=function(a,b){var c=function(){f.dgl(a,b)};I?B(c):(A(\"gl\",c),F(\"gl\"))},xa={},ya=function(a){a=a.split(\":\");for(var b;(b=a.pop())&&xa[b];);return!b},E=function(a){function b(){for(var c=a.split(\":\"),d,g=0;d=c[g];++g)xa[d]=1;for(c=0;d=y[c];++c)d=d[1],(g=d.libs)&&!d.l&&d.i&&ya(g)&&\n",
       "d.i()}f.dgl(a,b)},L=window.___jsl=H(window.___jsl,{});L.h=H(L.h,\"m;/_/scs/abc-static/_/js/k=gapi.gapi.en.iZZZ0XsR8bM.O/am=AAAQ/d=1/rs=AHpOoo_0-97nH_2IxP0suYF105-PdJv4zg/m=__features__\");L.ms=H(L.ms,\"https://apis.google.com\");L.m=H(L.m,\"\");L.l=H(L.l,[]);L.dpo=H(L.dpo,\"\");I||y.push([\"gl\",{url:\"//ssl.gstatic.com/gb/js/abc/glm_e7bb39a7e1a24581ff4f8d199678b1b9.js\"}]);var za=\"gl\",Aa={pu:va,sh:\"\",si:wa,hl:\"nl\"};w[za]=Aa;ua?J.load||n(\"load\",K,J):n(\"load\",K,J);n(\"dgl\",K);n(\"agl\",ya);h.o=I};var Ba=h.b(\"0.1\",.001),Ca=0;\n",
       "function _mlToken(a,b){try{if(Ca<1){Ca++;var c=a;b=b||{};var d=encodeURIComponent,g=[\"//www.google.com/gen_204?atyp=i&zx=\",(new Date).getTime(),\"&jexpid=\",d(\"28834\"),\"&srcpg=\",d(\"prop=1\"),\"&jsr=\",Math.round(1/Ba),\"&ogev=\",d(\"FvyKZrS1BLC2i-gP26i82Ac\"),\"&ogf=\",f.bv.f,\"&ogrp=\",d(\"\"),\"&ogv=\",d(\"648210890.0\"),\"&oggv=\"+d(\"es_plusone_gc_20240606.0_p0\"),\"&ogd=\",d(\"com\"),\"&ogc=\",d(\"NLD\"),\"&ogl=\",d(\"nl\")];b._sn&&(b._sn=\n",
       "\"og.\"+b._sn);for(var k in b)g.push(\"&\"),g.push(d(k)),g.push(\"=\"),g.push(d(b[k]));g.push(\"&emsg=\");g.push(d(c.name+\":\"+c.message));var m=g.join(\"\");Ga(m)&&(m=m.substr(0,2E3));var p=m;var l=window.gbar.logger._aem(a,p);la(l)}}catch(t){}}var Ga=function(a){return a.length>=2E3},Ja=function(a,b){return b};function Ka(a){r=a;n(\"_itl\",Ga,v);n(\"_aem\",Ja,v);n(\"ml\",r,v);a=\"er\";var b={};w[a]=b}h.a(\"\")?Ka(function(a){throw a;}):h.a(\"1\")&&Math.random()<Ba&&Ka(_mlToken);var _E=\"left\",La=h.a(\"\"),Ma=h.a(\"\"),N=function(a,b){var c=a.className;M(a,b)||(a.className+=(c!=\"\"?\" \":\"\")+b)},O=function(a,b){var c=a.className;b=new RegExp(\"\\\\s?\\\\b\"+b+\"\\\\b\");c&&c.match(b)&&(a.className=c.replace(b,\"\"))},M=function(a,b){b=new RegExp(\"\\\\b\"+b+\"\\\\b\");a=a.className;return!(!a||!a.match(b))},Na=function(a,b){M(a,b)?O(a,b):N(a,b)},Oa=function(a,b){a[b]=function(c){var d=arguments;f.qm(function(){a[b].apply(this,d)})}},Pa=function(a){a=\n",
       "[Ma?\"\":\"https://www.gstatic.com\",\"/og/_/js/d=1/k=\",\"og.og.en_US.xOYnRoNndd8.es5.O\",\"/rt=j/m=\",a,\"/rs=\",\"AA2YrTtoeh0aV7cRXXqFemUOO17tMBsRCw\"];La&&a.push(\"?host=www.gstatic.com&bust=og.og.en_US.ej6jQxp5kTo.es5.DU\");a=a.join(\"\");C(a)};n(\"ca\",N);n(\"cr\",O);n(\"cc\",M);h.k=N;h.l=O;h.m=M;h.n=Na;h.p=Pa;h.q=Oa;var Qa=[\"gb_71\",\"gb_155\"],Ra;function Sa(a){Ra=a}function Ta(a){var b=Ra&&!a.href.match(/.*\\/accounts\\/ClearSID[?]/)&&encodeURIComponent(Ra());b&&(a.href=a.href.replace(/([?&]continue=)[^&]*/,\"$1\"+b))}function Ua(a){window.gApplication&&(a.href=window.gApplication.getTabUrl(a.href))}function Va(a){try{var b=(document.forms[0].q||\"\").value;b&&(a.href=a.href.replace(/([?&])q=[^&]*|$/,function(c,d){return(d||\"&\")+\"q=\"+encodeURIComponent(b)}))}catch(c){q(c,\"sb\",\"pq\")}}\n",
       "var Wa=function(){for(var a=[],b,c=0;b=Qa[c];++c)(b=document.getElementById(b))&&a.push(b);return a},Xa=function(){var a=Wa();return a.length>0?a[0]:null},Ya=function(){return document.getElementById(\"gb_70\")},P={},Q={},Za={},R={},S=void 0,db=function(a,b){try{var c=document.getElementById(\"gb\");N(c,\"gbpdjs\");T();$a(document.getElementById(\"gb\"))&&N(c,\"gbrtl\");if(b&&b.getAttribute){var d=b.getAttribute(\"aria-owns\");if(d.length){var g=document.getElementById(d);if(g){var k=b.parentNode;if(S==d)S=void 0,\n",
       "O(k,\"gbto\");else{if(S){var m=document.getElementById(S);if(m&&m.getAttribute){var p=m.getAttribute(\"aria-owner\");if(p.length){var l=document.getElementById(p);l&&l.parentNode&&O(l.parentNode,\"gbto\")}}}ab(g)&&bb(g);S=d;N(k,\"gbto\")}}}}B(function(){f.tg(a,b,!0)});cb(a)}catch(t){q(t,\"sb\",\"tg\")}},eb=function(a){B(function(){f.close(a)})},fb=function(a){B(function(){f.rdd(a)})},$a=function(a){var b,c=document.defaultView;c&&c.getComputedStyle?(a=c.getComputedStyle(a,\"\"))&&(b=a.direction):b=a.currentStyle?\n",
       "a.currentStyle.direction:a.style.direction;return b==\"rtl\"},hb=function(a,b,c){if(a)try{var d=document.getElementById(\"gbd5\");if(d){var g=d.firstChild,k=g.firstChild,m=document.createElement(\"li\");m.className=b+\" gbmtc\";m.id=c;a.className=\"gbmt\";m.appendChild(a);if(k.hasChildNodes()){c=[[\"gbkc\"],[\"gbf\",\"gbe\",\"gbn\"],[\"gbkp\"],[\"gbnd\"]];d=0;var p=k.childNodes.length;g=!1;for(var l=-1,t,Da=0;t=c[Da];Da++){for(var ba=void 0,Ea=0;ba=t[Ea];Ea++){for(;d<p&&M(k.childNodes[d],ba);)d++;if(ba==b){k.insertBefore(m,\n",
       "k.childNodes[d]||null);g=!0;break}}if(g){if(d+1<k.childNodes.length){var Fa=k.childNodes[d+1];M(Fa.firstChild,\"gbmh\")||gb(Fa,t)||(l=d+1)}else if(d-1>=0){var Ha=k.childNodes[d-1];M(Ha.firstChild,\"gbmh\")||gb(Ha,t)||(l=d)}break}d>0&&d+1<p&&d++}if(l>=0){var ca=document.createElement(\"li\"),Ia=document.createElement(\"div\");ca.className=\"gbmtc\";Ia.className=\"gbmt gbmh\";ca.appendChild(Ia);k.insertBefore(ca,k.childNodes[l])}f.addHover&&f.addHover(a)}else k.appendChild(m)}}catch(vb){q(vb,\"sb\",\"al\")}},gb=function(a,\n",
       "b){for(var c=b.length,d=0;d<c;d++)if(M(a,b[d]))return!0;return!1},ib=function(a,b,c){hb(a,b,c)},jb=function(a,b){hb(a,\"gbe\",b)},kb=function(){B(function(){f.pcm&&f.pcm()})},lb=function(){B(function(){f.pca&&f.pca()})},mb=function(a,b,c,d,g,k,m,p,l,t){B(function(){f.paa&&f.paa(a,b,c,d,g,k,m,p,l,t)})},nb=function(a,b){P[a]||(P[a]=[]);P[a].push(b)},ob=function(a,b){Q[a]||(Q[a]=[]);Q[a].push(b)},pb=function(a,b){Za[a]=b},qb=function(a,b){R[a]||(R[a]=[]);R[a].push(b)},cb=function(a){a.preventDefault&&\n",
       "a.preventDefault();a.returnValue=!1;a.cancelBubble=!0},rb=null,bb=function(a,b){T();if(a){sb(a,\"Openen&hellip;\");U(a,!0);b=typeof b!=\"undefined\"?b:1E4;var c=function(){tb(a)};rb=window.setTimeout(c,b)}},ub=function(a){T();a&&(U(a,!1),sb(a,\"\"))},tb=function(a){try{T();var b=a||document.getElementById(S);b&&(sb(b,\"Deze service is momenteel niet beschikbaar.%1$sProbeer het later opnieuw.\",\"%1$s\"),U(b,!0))}catch(c){q(c,\"sb\",\"sdhe\")}},sb=function(a,b,c){if(a&&b){var d=ab(a);if(d){if(c){d.textContent=\"\";b=b.split(c);for(var g=0;c=\n",
       "b[g];g++){var k=document.createElement(\"div\");k.innerHTML=c;d.appendChild(k)}}else d.innerHTML=b;U(a,!0)}}},U=function(a,b){(b=b!==void 0?b:!0)?N(a,\"gbmsgo\"):O(a,\"gbmsgo\")},ab=function(a){for(var b,c=0;b=a.childNodes[c];c++)if(M(b,\"gbmsg\"))return b},T=function(){rb&&window.clearTimeout(rb)},wb=function(a){var b=\"inner\"+a;a=\"offset\"+a;return window[b]?window[b]:document.documentElement&&document.documentElement[a]?document.documentElement[a]:0},xb=function(){return!1},yb=function(){return!!S};\n",
       "n(\"so\",Xa);n(\"sos\",Wa);n(\"si\",Ya);n(\"tg\",db);n(\"close\",eb);n(\"rdd\",fb);n(\"addLink\",ib);n(\"addExtraLink\",jb);n(\"pcm\",kb);n(\"pca\",lb);n(\"paa\",mb);n(\"ddld\",bb);n(\"ddrd\",ub);n(\"dderr\",tb);n(\"rtl\",$a);n(\"op\",yb);n(\"bh\",P);n(\"abh\",nb);n(\"dh\",Q);n(\"adh\",ob);n(\"ch\",R);n(\"ach\",qb);n(\"eh\",Za);n(\"aeh\",pb);da=h.a(\"\")?Ua:Va;n(\"qs\",da);n(\"setContinueCb\",Sa);n(\"pc\",Ta);n(\"bsy\",xb);h.d=cb;h.j=wb;var zb=\"base\",Ab={};w[zb]=Ab;y.push([\"m\",{url:\"//ssl.gstatic.com/gb/js/sem_45f00f6418a8f33e9c27cc3da4175ec8.js\"}]);f.sg={c:\"1\"};n(\"wg\",{rg:{}});var Bb=\"wg\",Cb={tiw:h.c(\"15000\",0),tie:h.c(\"30000\",0)};w[Bb]=Cb;var Db=\"wm\",Eb={thi:h.c(\"10000\",0),thp:h.c(\"180000\",0),tho:h.c(\"5000\",0),tet:h.b(\"0.5\",0)};w[Db]=Eb;if(h.a(\"1\")){var Fb=h.a(\"\");y.push([\"gc\",{auto:Fb,url:\"//ssl.gstatic.com/gb/js/abc/gci_91f30755d6a6b787dcc2a4062e6e9824.js\",libs:\"googleapis.client:gapi.iframes\"}]);var Gb=\"gc\",Hb={version:\"gci_91f30755d6a6b787dcc2a4062e6e9824.js\",index:\"\",lang:\"nl\"};w[Gb]=Hb;var Ib=function(a){window.googleapis&&window.iframes?a&&a():(a&&sa(a),F(\"gc\"))};n(\"lGC\",Ib);h.a(\"1\")&&n(\"lPWF\",Ib)};window.__PVT=\"\";function Jb(){}u=Jb;n(\"il\",u,v);var Kb=\"il\",Lb={};w[Kb]=Lb;var Mb=function(a,b,c,d,g,k,m,p,l,t){B(function(){f.paa(a,b,c,d,g,k,m,p,l,t)})},Nb=function(){B(function(){f.prm()})},Ob=function(a){B(function(){f.spn(a)})},Pb=function(a){B(function(){f.sps(a)})},Qb=function(a){B(function(){f.spp(a)})},Rb={\"27\":\"https://lh3.googleusercontent.com/ogw/default-user=s24\",\"27\":\"https://lh3.googleusercontent.com/ogw/default-user=s24\",\"27\":\"https://lh3.googleusercontent.com/ogw/default-user=s24\"},Sb=function(a){return(a=Rb[a])||\"https://lh3.googleusercontent.com/ogw/default-user=s24\"},\n",
       "Tb=function(){B(function(){f.spd()})};n(\"spn\",Ob);n(\"spp\",Qb);n(\"sps\",Pb);n(\"spd\",Tb);n(\"paa\",Mb);n(\"prm\",Nb);nb(\"gbd4\",Nb);\n",
       "if(h.a(\"\")){var Ub=\"prf\",Vb={d:h.a(\"\"),e:\"\",sanw:h.a(\"\"),p:\"https://lh3.googleusercontent.com/ogw/default-user=s96\",cp:\"1\",xp:h.a(\"1\"),mg:\"%1$s (gedelegeerd)\",md:\"%1$s (standaard)\",mh:\"220\",s:\"1\",pp:Sb,ppl:h.a(\"\"),ppa:h.a(\"\"),\n",
       "ppm:\"Google+-pagina\"};w[Ub]=Vb};var V,Wb,W,Xb,X=0,Yb=function(a,b,c){if(a.indexOf)return a.indexOf(b,c);if(Array.indexOf)return Array.indexOf(a,b,c);for(c=c==null?0:c<0?Math.max(0,a.length+c):c;c<a.length;c++)if(c in a&&a[c]===b)return c;return-1},Y=function(a,b){return Yb(a,X)==-1?(q(Error(X+\"_\"+b),\"up\",\"caa\"),!1):!0},$b=function(a,b){Y([1,2],\"r\")&&(V[a]=V[a]||[],V[a].push(b),X==2&&window.setTimeout(function(){b(Zb(a))},0))},ac=function(a,b,c){if(Y([1],\"nap\")&&c){for(var d=0;d<c.length;d++)Wb[c[d]]=!0;f.up.spl(a,b,\"nap\",c)}},bc=\n",
       "function(a,b,c){if(Y([1],\"aop\")&&c){if(W)for(var d in W)W[d]=W[d]&&Yb(c,d)!=-1;else for(W={},d=0;d<c.length;d++)W[c[d]]=!0;f.up.spl(a,b,\"aop\",c)}},cc=function(){try{if(X=2,!Xb){Xb=!0;for(var a in V)for(var b=V[a],c=0;c<b.length;c++)try{b[c](Zb(a))}catch(d){q(d,\"up\",\"tp\")}}}catch(d){q(d,\"up\",\"mtp\")}},Zb=function(a){if(Y([2],\"ssp\")){var b=!Wb[a];W&&(b=b&&!!W[a]);return b}};Xb=!1;V={};Wb={};W=null;X=1;\n",
       "var dc=function(a){var b=!1;try{b=a.cookie&&a.cookie.match(\"PREF\")}catch(c){}return!b},ec=function(){try{return!!e.localStorage&&typeof e.localStorage==\"object\"}catch(a){return!1}},fc=function(a){return a&&a.style&&a.style.behavior&&typeof a.load!=\"undefined\"},gc=function(a,b,c,d){try{dc(document)||(d||(b=\"og-up-\"+b),ec()?e.localStorage.setItem(b,c):fc(a)&&(a.setAttribute(b,c),a.save(a.id)))}catch(g){g.code!=DOMException.QUOTA_EXCEEDED_ERR&&q(g,\"up\",\"spd\")}},hc=function(a,b,c){try{if(dc(document))return\"\";\n",
       "c||(b=\"og-up-\"+b);if(ec())return e.localStorage.getItem(b);if(fc(a))return a.load(a.id),a.getAttribute(b)}catch(d){d.code!=DOMException.QUOTA_EXCEEDED_ERR&&q(d,\"up\",\"gpd\")}return\"\"},ic=function(a,b,c){a.addEventListener?a.addEventListener(b,c,!1):a.attachEvent&&a.attachEvent(\"on\"+b,c)},jc=function(a){for(var b,c=0;b=a[c];c++){var d=f.up;b=b in d&&d[b];if(!b)return!1}return!0},kc=function(a,b){try{if(dc(a))return-1;var c=a.cookie.match(/OGPC=([^;]*)/);if(c&&c[1]){var d=c[1].match(new RegExp(\"\\\\b\"+\n",
       "b+\"-([0-9]+):\"));if(d&&d[1])return parseInt(d[1],10)}}catch(g){g.code!=DOMException.QUOTA_EXCEEDED_ERR&&q(g,\"up\",\"gcc\")}return-1};n(\"up\",{r:$b,nap:ac,aop:bc,tp:cc,ssp:Zb,spd:gc,gpd:hc,aeh:ic,aal:jc,gcc:kc});var Z=function(a,b){a[b]=function(c){var d=arguments;f.qm(function(){a[b].apply(this,d)})}};Z(f.up,\"sl\");Z(f.up,\"si\");Z(f.up,\"spl\");Z(f.up,\"dpc\");Z(f.up,\"iic\");f.mcf(\"up\",{sp:h.b(\"0.01\",1),tld:\"nl\",prid:\"1\"});function lc(){function a(){for(var l;(l=k[m++])&&l[0]!=\"m\"&&!l[1].auto;);l&&(D(2,l[0]),l[1].url&&C(l[1].url,l[0]),l[1].libs&&E&&E(l[1].libs));m<k.length&&setTimeout(a,0)}function b(){g-- >0?setTimeout(b,0):a()}var c=h.a(\"1\"),d=h.a(\"\"),g=3,k=y,m=0,p=window.gbarOnReady;if(p)try{p()}catch(l){q(l,\"ml\",\"or\")}d?n(\"ldb\",a):c?ea(window,\"load\",b):b()}n(\"rdl\",lc);}catch(e){window.gbar&&gbar.logger&&gbar.logger.ml(e,{\"_sn\":\"cfg.init\"});}})();\n",
       "(function(){try{var b=window.gbar.i.i;var c=window.gbar;var f=function(d){try{var a=document.getElementById(\"gbom\");a&&d.appendChild(a.cloneNode(!0))}catch(e){b(e,\"omas\",\"aomc\")}};c.aomc=f;}catch(e){window.gbar&&gbar.logger&&gbar.logger.ml(e,{\"_sn\":\"cfg.init\"});}})();\n",
       "(function(){try{var a=window.gbar;a.mcf(\"pm\",{p:\"\"});}catch(e){window.gbar&&gbar.logger&&gbar.logger.ml(e,{\"_sn\":\"cfg.init\"});}})();\n",
       "(function(){try{var a=window.gbar;a.mcf(\"mm\",{s:\"1\"});}catch(e){window.gbar&&gbar.logger&&gbar.logger.ml(e,{\"_sn\":\"cfg.init\"});}})();\n",
       "(function(){try{var d=window.gbar.i.i;var e=window.gbar;var f=e.i;var g=f.c(\"1\",0),h=/\\bgbmt\\b/,k=function(a){try{var b=document.getElementById(\"gb_\"+g),c=document.getElementById(\"gb_\"+a);b&&f.l(b,h.test(b.className)?\"gbm0l\":\"gbz0l\");c&&f.k(c,h.test(c.className)?\"gbm0l\":\"gbz0l\")}catch(l){d(l,\"sj\",\"ssp\")}g=a},m=e.qs,n=function(a){var b=a.href;var c=window.location.href.match(/.*?:\\/\\/[^\\/]*/)[0];c=new RegExp(\"^\"+c+\"/search\\\\?\");(b=c.test(b))&&!/(^|\\\\?|&)ei=/.test(a.href)&&(b=window.google)&&b.kEXPI&&(a.href+=\"&ei=\"+b.kEI)},p=function(a){m(a);\n",
       "n(a)},q=function(){if(window.google&&window.google.sn){var a=/.*hp$/;return a.test(window.google.sn)?\"\":\"1\"}return\"-1\"};e.rp=q;e.slp=k;e.qs=p;e.qsi=n;}catch(e){window.gbar&&gbar.logger&&gbar.logger.ml(e,{\"_sn\":\"cfg.init\"});}})();\n",
       "(function(){try{/*\n",
       "\n",
       " Copyright The Closure Library Authors.\n",
       " SPDX-License-Identifier: Apache-2.0\n",
       "*/\n",
       "var a=this||self;var b=window.gbar;var c=b.i;var d=c.a,e=c.c,f={cty:\"NLD\",cv:\"648210890\",dbg:d(\"\"),ecv:\"0\",ei:e(\"FvyKZrS1BLC2i-gP26i82Ac\"),ele:d(\"1\"),esr:e(\"0.1\"),evts:[\"mousedown\",\"touchstart\",\"touchmove\",\"wheel\",\"keydown\"],gbl:\"es_plusone_gc_20240606.0_p0\",hd:\"com\",hl:\"nl\",irp:d(\"\"),pid:e(\"1\"),\n",
       "snid:e(\"28834\"),to:e(\"300000\"),u:e(\"\"),vf:\".66.\"},g=\"bndcfg\",h=f,k=g.split(\".\"),l=a;k[0]in l||typeof l.execScript==\"undefined\"||l.execScript(\"var \"+k[0]);for(var m;k.length&&(m=k.shift());)k.length||h===void 0?l=l[m]&&l[m]!==Object.prototype[m]?l[m]:l[m]={}:l[m]=h;}catch(e){window.gbar&&gbar.logger&&gbar.logger.ml(e,{\"_sn\":\"cfg.init\"});}})();\n",
       "(function(){try{window.gbar.rdl();}catch(e){window.gbar&&gbar.logger&&gbar.logger.ml(e,{\"_sn\":\"cfg.init\"});}})();\n",
       "</script></head><body bgcolor=\"#fff\"><script nonce=\"8J4GA4QOXqRLGtwa1I_73Q\">(function(){var src='/images/nav_logo229.png';var iesg=false;document.body.onload = function(){window.n && window.n();if (document.images){new Image().src=src;}\n",
       "if (!iesg){document.f&&document.f.q.focus();document.gbqf&&document.gbqf.q.focus();}\n",
       "}\n",
       "})();</script><div id=\"mngb\"><div id=gb><script nonce='8J4GA4QOXqRLGtwa1I_73Q'>window.gbar&&gbar.eli&&gbar.eli()</script><div id=gbw><div id=gbz><span class=gbtcb></span><ol id=gbzc class=gbtc><li class=gbt><a class=\"gbzt gbz0l gbp1\" id=gb_1 href=\"https://www.google.nl/webhp?tab=ww\"><span class=gbtb2></span><span class=gbts>Zoeken</span></a></li><li class=gbt><a class=gbzt id=gb_2 href=\"https://www.google.com/imghp?hl=nl&tab=wi\"><span class=gbtb2></span><span class=gbts>Afbeeldingen</span></a></li><li class=gbt><a class=gbzt id=gb_8 href=\"https://maps.google.nl/maps?hl=nl&tab=wl\"><span class=gbtb2></span><span class=gbts>Maps</span></a></li><li class=gbt><a class=gbzt id=gb_78 href=\"https://play.google.com/?hl=nl&tab=w8\"><span class=gbtb2></span><span class=gbts>Play</span></a></li><li class=gbt><a class=gbzt id=gb_36 href=\"https://www.youtube.com/?tab=w1\"><span class=gbtb2></span><span class=gbts>YouTube</span></a></li><li class=gbt><a class=gbzt id=gb_426 href=\"https://news.google.com/?tab=wn\"><span class=gbtb2></span><span class=gbts>Nieuws</span></a></li><li class=gbt><a class=gbzt id=gb_23 href=\"https://mail.google.com/mail/?tab=wm\"><span class=gbtb2></span><span class=gbts>Gmail</span></a></li><li class=gbt><a class=gbzt id=gb_49 href=\"https://drive.google.com/?tab=wo\"><span class=gbtb2></span><span class=gbts>Drive</span></a></li><li class=gbt><a class=gbgt id=gbztm href=\"https://www.google.nl/intl/nl/about/products?tab=wh\"  aria-haspopup=true aria-owns=gbd><span class=gbtb2></span><span id=gbztms class=\"gbts gbtsa\"><span id=gbztms1>Meer</span><span class=gbma></span></span></a><script nonce='8J4GA4QOXqRLGtwa1I_73Q'>document.getElementById('gbztm').addEventListener('click', function clickHandler() { gbar.tg(event,this); });</script><div class=gbm id=gbd aria-owner=gbztm><div id=gbmmb class=\"gbmc gbsb gbsbis\"><ol id=gbmm class=\"gbmcc gbsbic\"><li class=gbmtc><a class=gbmt id=gb_24 href=\"https://calendar.google.com/calendar?tab=wc\">Agenda</a></li><li class=gbmtc><a class=gbmt id=gb_51 href=\"https://translate.google.nl/?hl=nl&tab=wT\">Vertalen</a></li><li class=gbmtc><a class=gbmt id=gb_10 href=\"https://books.google.nl/?hl=nl&tab=wp\">Boeken</a></li><li class=gbmtc><a class=gbmt id=gb_6 href=\"https://www.google.nl/shopping?hl=nl&source=og&tab=wf\">Shopping</a></li><li class=gbmtc><a class=gbmt id=gb_30 href=\"https://www.blogger.com/?tab=wj\">Blogger</a></li><li class=gbmtc><a class=gbmt id=gb_27 href=\"https://www.google.com/finance?tab=we\">Financiën</a></li><li class=gbmtc><a class=gbmt id=gb_31 href=\"https://photos.google.com/?tab=wq&pageId=none\">Foto's</a></li><li class=gbmtc><a class=gbmt id=gb_25 href=\"https://docs.google.com/document/?usp=docs_alc\">Documenten</a></li><li class=gbmtc><div class=\"gbmt gbmh\"></div></li><li class=gbmtc><a  href=\"https://www.google.nl/intl/nl/about/products?tab=wh\" class=gbmt>Nog meer &raquo;</a><script nonce='8J4GA4QOXqRLGtwa1I_73Q'>document.querySelector('li > a.gbmt').addEventListener('click', function clickHandler() { gbar.logger.il(1,{t:66});; });</script></li></ol><div class=gbsbt></div><div class=gbsbb></div></div></div></li></ol></div><div id=gbg><h2 class=gbxx>Account Options</h2><span class=gbtcb></span><ol class=gbtc><li class=gbt><a target=_top href=\"https://accounts.google.com/ServiceLogin?hl=nl&passive=true&continue=https://www.google.com/&ec=GAZAAQ\" onclick=\"gbar.logger.il(9,{l:'i'})\" id=gb_70 class=gbgt><span class=gbtb2></span><span id=gbgs4 class=gbts><span id=gbi4s1>Inloggen</span></span></a></li><li class=\"gbt gbtb\"><span class=gbts></span></li><li class=gbt><a class=gbgt id=gbg5 href=\"http://www.google.nl/preferences?hl=nl\" title=\"Opties\" aria-haspopup=true aria-owns=gbd5><span class=gbtb2></span><span id=gbgs5 class=gbts><span id=gbi5></span></span></a><script nonce='8J4GA4QOXqRLGtwa1I_73Q'>document.getElementById('gbg5').addEventListener('click', function clickHandler() { gbar.tg(event,this); });</script><div class=gbm id=gbd5 aria-owner=gbg5><div class=gbmc><ol id=gbom class=gbmcc><li class=\"gbkc gbmtc\"><a  class=gbmt href=\"/preferences?hl=nl\">Zoekinstellingen</a></li><li class=gbmtc><div class=\"gbmt gbmh\"></div></li><li class=\"gbkp gbmtc\"><a class=gbmt href=\"http://www.google.nl/history/optout?hl=nl\">Webgeschiedenis</a></li></ol></div></div></li></ol></div></div><div id=gbx3></div><div id=gbx4></div><script nonce='8J4GA4QOXqRLGtwa1I_73Q'>window.gbar&&gbar.elp&&gbar.elp()</script></div></div><center><br clear=\"all\" id=\"lgpd\"><div id=\"lga\"><img alt=\"Google\" height=\"92\" src=\"/images/branding/googlelogo/1x/googlelogo_white_background_color_272x92dp.png\" style=\"padding:28px 0 14px\" width=\"272\" id=\"hplogo\"><br><br></div><form action=\"/search\" name=\"f\"><table cellpadding=\"0\" cellspacing=\"0\"><tr valign=\"top\"><td width=\"25%\">&nbsp;</td><td align=\"center\" nowrap=\"\"><input name=\"ie\" value=\"ISO-8859-1\" type=\"hidden\"><input value=\"nl\" name=\"hl\" type=\"hidden\"><input name=\"source\" type=\"hidden\" value=\"hp\"><input name=\"biw\" type=\"hidden\"><input name=\"bih\" type=\"hidden\"><div class=\"ds\" style=\"height:32px;margin:4px 0\"><input class=\"lst\" style=\"margin:0;padding:5px 8px 0 6px;vertical-align:top;color:#000\" autocomplete=\"off\" value=\"\" title=\"Google Zoeken\" maxlength=\"2048\" name=\"q\" size=\"57\"></div><br style=\"line-height:0\"><span class=\"ds\"><span class=\"lsbb\"><input class=\"lsb\" value=\"Google Zoeken\" name=\"btnG\" type=\"submit\"></span></span><span class=\"ds\"><span class=\"lsbb\"><input class=\"lsb\" id=\"tsuid_1\" value=\"Ik doe een gok\" name=\"btnI\" type=\"submit\"><script nonce=\"8J4GA4QOXqRLGtwa1I_73Q\">(function(){var id='tsuid_1';document.getElementById(id).onclick = function(){if (this.form.q.value){this.checked = 1;if (this.form.iflsig)this.form.iflsig.disabled = false;}\n",
       "else top.location='/doodles/';};})();</script><input value=\"AL9hbdgAAAAAZosKJupwcY1ZsUDey3m-pp6WHUfVCVTm\" name=\"iflsig\" type=\"hidden\"></span></span></td><td class=\"fl sblc\" align=\"left\" nowrap=\"\" width=\"25%\"><a href=\"/advanced_search?hl=nl&amp;authuser=0\">Geavanceerd zoeken</a></td></tr></table><input id=\"gbv\" name=\"gbv\" type=\"hidden\" value=\"1\"><script nonce=\"8J4GA4QOXqRLGtwa1I_73Q\">(function(){var a,b=\"1\";if(document&&document.getElementById)if(typeof XMLHttpRequest!=\"undefined\")b=\"2\";else if(typeof ActiveXObject!=\"undefined\"){var c,d,e=[\"MSXML2.XMLHTTP.6.0\",\"MSXML2.XMLHTTP.3.0\",\"MSXML2.XMLHTTP\",\"Microsoft.XMLHTTP\"];for(c=0;d=e[c++];)try{new ActiveXObject(d),b=\"2\"}catch(h){}}a=b;if(a==\"2\"&&location.search.indexOf(\"&gbv=2\")==-1){var f=google.gbvu,g=document.getElementById(\"gbv\");g&&(g.value=a);f&&window.setTimeout(function(){location.href=f},0)};}).call(this);</script></form><div id=\"gac_scont\"></div><div style=\"font-size:83%;min-height:3.5em\"><br><div id=\"gws-output-pages-elements-homepage_additional_languages__als\"><style>#gws-output-pages-elements-homepage_additional_languages__als{font-size:small;margin-bottom:24px}#SIvCob{color:#474747;display:inline-block;line-height:28px;}#SIvCob a{padding:0 3px;}.H6sW5{display:inline-block;margin:0 2px;white-space:nowrap}.z4hgWe{display:inline-block;margin:0 2px}</style><div id=\"SIvCob\">Google aangeboden in:  <a href=\"https://www.google.com/setprefs?sig=0_43eMfiuxitw1cmb05lqZOR3wa9M%3D&amp;hl=fy&amp;source=homepage&amp;sa=X&amp;ved=0ahUKEwjkip7o45WHAxVch_0HHcnwB-gQ2ZgBCAY\">Frysk</a>  </div></div></div><span id=\"footer\"><div style=\"font-size:10pt\"><div style=\"margin:19px auto;text-align:center\" id=\"WqQANb\"><a href=\"/intl/nl/ads/\">Adverteren</a><a href=\"http://www.google.nl/intl/nl/services/\">Bedrijfsoplossingen</a><a href=\"/intl/nl/about.html\">Alles over Google</a><a href=\"https://www.google.com/setprefdomain?prefdom=NL&amp;prev=https://www.google.nl/&amp;sig=K_eViUf68sZKeXFqWbNdNtATGckBk%3D\">Google.nl</a></div></div><p style=\"font-size:8pt;color:#70757a\">&copy; 2024 - <a href=\"/intl/nl/policies/privacy/\">Privacy</a> - <a href=\"/intl/nl/policies/terms/\">Voorwaarden</a></p></span></center><script nonce=\"8J4GA4QOXqRLGtwa1I_73Q\">(function(){window.google.cdo={height:757,width:1440};(function(){var a=window.innerWidth,b=window.innerHeight;if(!a||!b){var c=window.document,d=c.compatMode==\"CSS1Compat\"?c.documentElement:c.body;a=d.clientWidth;b=d.clientHeight}\n",
       "if(a&&b&&(a!=google.cdo.width||b!=google.cdo.height)){var e=google,f=e.log,g=\"/client_204?&atyp=i&biw=\"+a+\"&bih=\"+b+\"&ei=\"+google.kEI,h=\"\",k=[],l=window.google!==void 0&&window.google.kOPI!==void 0&&window.google.kOPI!==0?window.google.kOPI:null;l!=null&&k.push([\"opi\",l.toString()]);for(var m=0;m<k.length;m++){if(m===0||m>0)h+=\"&\";h+=k[m][0]+\"=\"+k[m][1]}f.call(e,\"\",\"\",g+h)};}).call(this);})();</script>  <script nonce=\"8J4GA4QOXqRLGtwa1I_73Q\">(function(){google.xjs={basecomb:'/xjs/_/js/k\\x3dxjs.hp.en.HgLHjPu_MWc.O/ck\\x3dxjs.hp.qib_DqlLCZs.L.X.O/am\\x3dAQAAEAAAAAAAAAAAAAAAAAAAAAAAIAAAAAAAAAAYAAcAAABAAIBAAAAAAAA8AAAAAAAAAIAAAAMQEAAH4jsCAAGwCAAALw/d\\x3d1/ed\\x3d1/dg\\x3d0/ujg\\x3d1/rs\\x3dACT90oEj-7TRSu-4VS4Nys1tcsFfRv0BNQ',basecss:'/xjs/_/ss/k\\x3dxjs.hp.qib_DqlLCZs.L.X.O/am\\x3dAQAAEAAAAAAAAAAAAAAAAAAAAAAAAAAAAAAAAAAAAAAAAABAAIBAAAAAAAAAAAAAAAAAAIAAAAMQEA/rs\\x3dACT90oHGK1IYvMIVJ7JcuFbe7Pa4bH23iQ',basejs:'/xjs/_/js/k\\x3dxjs.hp.en.HgLHjPu_MWc.O/am\\x3dAAAAAAAAAAAAAAAAAAAAAAAAAAAAIAAAAAAAAAAYAAcAAAAAAAAAAAAAAAA8AAAAAAAAAAAAAAAAAAAH4jsCAAGwCAAALw/dg\\x3d0/rs\\x3dACT90oHzj4LuGogobrM2l-5zpnEn0abxSA',excm:[]};})();</script>  <link href=\"/xjs/_/ss/k=xjs.hp.qib_DqlLCZs.L.X.O/am=AQAAEAAAAAAAAAAAAAAAAAAAAAAAAAAAAAAAAAAAAAAAAABAAIBAAAAAAAAAAAAAAAAAAIAAAAMQEA/d=1/ed=1/rs=ACT90oHGK1IYvMIVJ7JcuFbe7Pa4bH23iQ/m=sb_he,d\" rel=\"stylesheet\" nonce=\"8J4GA4QOXqRLGtwa1I_73Q\">      <script nonce=\"8J4GA4QOXqRLGtwa1I_73Q\">(function(){var u='/xjs/_/js/k\\x3dxjs.hp.en.HgLHjPu_MWc.O/am\\x3dAAAAAAAAAAAAAAAAAAAAAAAAAAAAIAAAAAAAAAAYAAcAAAAAAAAAAAAAAAA8AAAAAAAAAAAAAAAAAAAH4jsCAAGwCAAALw/d\\x3d1/ed\\x3d1/rs\\x3dACT90oHzj4LuGogobrM2l-5zpnEn0abxSA/m\\x3dsb_he,d';var st=1;var amd=1000;var mmd=0;var pod=true;\n",
       "var f=this||self,g=function(a){return a};var h;var k=function(a){this.g=a};k.prototype.toString=function(){return this.g+\"\"};var l=function(a){return a instanceof k&&a.constructor===k?a.g:\"type_error:TrustedResourceUrl\"},m={};\n",
       "var n=/^\\s*(?!javascript:)(?:[\\w+.-]+:|[^:/?#]*(?:[/?#]|$))/i;var p=\"alternate author bookmark canonical cite help icon license modulepreload next prefetch dns-prefetch prerender preconnect preload prev search subresource\".split(\" \");function q(a,b){a.src=l(b);var c,d;(c=(b=(d=(c=(a.ownerDocument&&a.ownerDocument.defaultView||window).document).querySelector)==null?void 0:d.call(c,\"script[nonce]\"))?b.nonce||b.getAttribute(\"nonce\")||\"\":\"\")&&a.setAttribute(\"nonce\",c)};var r=function(a){var b=document;a=String(a);b.contentType===\"application/xhtml+xml\"&&(a=a.toLowerCase());return b.createElement(a)};function t(a){a=a===null?\"null\":a===void 0?\"undefined\":a;if(h===void 0){var b=null;var c=f.trustedTypes;if(c&&c.createPolicy){try{b=c.createPolicy(\"goog#html\",{createHTML:g,createScript:g,createScriptURL:g})}catch(d){f.console&&f.console.error(d.message)}h=b}else h=b}a=(b=h)?b.createScriptURL(a):a;return new k(a,m)};google.ps===void 0&&(google.ps=[]);function w(){var a=u,b=function(){};google.lx=google.stvsc?b:function(){x(a);google.lx=b};google.bx||google.lx()}function y(a,b){b&&q(a,t(b));var c=a.onload;a.onload=function(d){c&&c(d);google.ps=google.ps.filter(function(e){return a!==e})};google.ps.push(a);document.body.appendChild(a)}google.as=y;function x(a){google.timers&&google.timers.load&&google.tick&&google.tick(\"load\",\"xjsls\");var b=r(\"SCRIPT\");b.onerror=function(){google.ple=1};b.onload=function(){google.ple=0};google.xjsus=void 0;y(b,a);google.aple=-1;google.dp=!0}\n",
       "function z(){var a=[u];if(!google.dp){for(var b=0;b<a.length;b++){var c=r(\"LINK\");a:{var d=c,e=t(a[b]);if(e instanceof k)d.href=l(e).toString();else{if(p.indexOf(\"preload\")===-1)throw Error(\"a`preload\");e=n.test(e)?e:void 0;if(e===void 0)break a;d.href=e}d.rel=\"preload\"}c.setAttribute(\"as\",\"script\");document.body.appendChild(c)}google.dp=!0}};function A(a){var b=a.getAttribute(\"jscontroller\");return(b===\"UBXHI\"||b===\"R3fhkb\"||b===\"TSZEqd\")&&a.hasAttribute(\"data-src\")}function B(){for(var a=document.getElementsByTagName(\"img\"),b=0,c=a.length;b<c;b++){var d=a[b];if(d.hasAttribute(\"data-lzy_\")&&Number(d.getAttribute(\"data-atf\"))&1&&!A(d))return!0}return!1}for(var C=document.getElementsByTagName(\"img\"),D=0,E=C.length;D<E;++D){var F=C[D];Number(F.getAttribute(\"data-atf\"))&1&&A(F)&&(F.src=F.getAttribute(\"data-src\"))};var G,H,I,J,K;function L(){google.xjsu=u;f._F_jsUrl=u;J=function(){w()};G=!1;H=(st===1||st===3)&&!!google.caft&&!B();I=(st===2||st===3)&&!!google.rairicb&&!B();K=pod}function M(){G||H||I||(J(),G=!0)}setTimeout(function(){google&&google.tick&&google.timers&&google.timers.load&&google.tick(\"load\",\"xjspls\");L();if(H||I){if(H){var a=function(){H=!1;M()};google.caft(a);window.setTimeout(a,amd)}I&&(a=function(){I=!1;M()},(0,google.rairicb)(a),window.setTimeout(a,mmd));K&&(G||z())}else J()},0);})();window._ = window._ || {};window._DumpException = _._DumpException = function(e){throw e;};window._s = window._s || {};_s._DumpException = _._DumpException;window._qs = window._qs || {};_qs._DumpException = _._DumpException;(function(){var t=[268435457,0,0,0,0,10485760,0,641810432,302253824,65536,1032,251659394,0,0,137363464,29361156,146402,2277892,192512];window._F_toggles = window._xjs_toggles = t;})();function _F_installCss(c){}\n",
       "(function(){google.jl={bfl:0,dw:false,ine:false,ubm:false,uwp:true,vs:false};})();(function(){var pmc='{\\x22d\\x22:{},\\x22sb_he\\x22:{\\x22agen\\x22:false,\\x22cgen\\x22:false,\\x22client\\x22:\\x22heirloom-hp\\x22,\\x22dh\\x22:true,\\x22ds\\x22:\\x22\\x22,\\x22fl\\x22:true,\\x22host\\x22:\\x22google.com\\x22,\\x22jsonp\\x22:true,\\x22msgs\\x22:{\\x22cibl\\x22:\\x22Zoekopdracht wissen\\x22,\\x22dym\\x22:\\x22Bedoelde je:\\x22,\\x22lcky\\x22:\\x22Ik doe een gok\\x22,\\x22lml\\x22:\\x22Meer informatie\\x22,\\x22psrc\\x22:\\x22Deze zoekopdracht is verwijderd uit je \\\\u003Ca href\\x3d\\\\\\x22/history\\\\\\x22\\\\u003EWebgeschiedenis\\\\u003C/a\\\\u003E\\x22,\\x22psrl\\x22:\\x22Verwijderen\\x22,\\x22sbit\\x22:\\x22Zoeken op afbeelding\\x22,\\x22srch\\x22:\\x22Google Zoeken\\x22},\\x22ovr\\x22:{},\\x22pq\\x22:\\x22\\x22,\\x22rfs\\x22:[],\\x22stok\\x22:\\x22kpdV2lQg9yXcwvFhCbM_IRaI2UU\\x22}}';google.pmc=JSON.parse(pmc);})();(function(){var b=function(a){var c=0;return function(){return c<a.length?{done:!1,value:a[c++]}:{done:!0}}};\n",
       "var e=this||self;var g,h;a:{for(var k=[\"CLOSURE_FLAGS\"],l=e,n=0;n<k.length;n++)if(l=l[k[n]],l==null){h=null;break a}h=l}var p=h&&h[610401301];g=p!=null?p:!1;var q,r=e.navigator;q=r?r.userAgentData||null:null;function t(a){return g?q?q.brands.some(function(c){return(c=c.brand)&&c.indexOf(a)!=-1}):!1:!1}function u(a){var c;a:{if(c=e.navigator)if(c=c.userAgent)break a;c=\"\"}return c.indexOf(a)!=-1};function v(){return g?!!q&&q.brands.length>0:!1}function w(){return u(\"Safari\")&&!(x()||(v()?0:u(\"Coast\"))||(v()?0:u(\"Opera\"))||(v()?0:u(\"Edge\"))||(v()?t(\"Microsoft Edge\"):u(\"Edg/\"))||(v()?t(\"Opera\"):u(\"OPR\"))||u(\"Firefox\")||u(\"FxiOS\")||u(\"Silk\")||u(\"Android\"))}function x(){return v()?t(\"Chromium\"):(u(\"Chrome\")||u(\"CriOS\"))&&!(v()?0:u(\"Edge\"))||u(\"Silk\")}function y(){return u(\"Android\")&&!(x()||u(\"Firefox\")||u(\"FxiOS\")||(v()?0:u(\"Opera\"))||u(\"Silk\"))};var z=v()?!1:u(\"Trident\")||u(\"MSIE\");y();x();w();var A=!z&&!w(),D=function(a){if(/-[a-z]/.test(\"ved\"))return null;if(A&&a.dataset){if(y()&&!(\"ved\"in a.dataset))return null;a=a.dataset.ved;return a===void 0?null:a}return a.getAttribute(\"data-\"+\"ved\".replace(/([A-Z])/g,\"-$1\").toLowerCase())};var E=[],F=null;function G(a){a=a.target;var c=performance.now(),f=[],H=f.concat,d=E;if(!(d instanceof Array)){var m=typeof Symbol!=\"undefined\"&&Symbol.iterator&&d[Symbol.iterator];if(m)d=m.call(d);else if(typeof d.length==\"number\")d={next:b(d)};else throw Error(\"b`\"+String(d));for(var B=[];!(m=d.next()).done;)B.push(m.value);d=B}E=H.call(f,d,[c]);if(a&&a instanceof HTMLElement)if(a===F){if(c=E.length>=4)c=(E[E.length-1]-E[E.length-4])/1E3<5;if(c){c=google.getEI(a);a.hasAttribute(\"data-ved\")?f=a?D(a)||\"\":\"\":f=(f=\n",
       "a.closest(\"[data-ved]\"))?D(f)||\"\":\"\";f=f||\"\";if(a.hasAttribute(\"jsname\"))a=a.getAttribute(\"jsname\");else{var C;a=(C=a.closest(\"[jsname]\"))==null?void 0:C.getAttribute(\"jsname\")}google.log(\"rcm\",\"&ei=\"+c+\"&tgtved=\"+f+\"&jsname=\"+(a||\"\"))}}else F=a,E=[c]}window.document.addEventListener(\"DOMContentLoaded\",function(){document.body.addEventListener(\"click\",G)});}).call(this);</script></body></html>"
      ],
      "text/plain": [
       "<IPython.core.display.HTML object>"
      ]
     },
     "metadata": {},
     "output_type": "display_data"
    }
   ],
   "source": [
    "from IPython.core.display import display, HTML\n",
    "display(HTML(body.decode(\"latin1\")))"
   ]
  },
  {
   "cell_type": "code",
   "execution_count": 63,
   "metadata": {
    "ExecuteTime": {
     "end_time": "2022-02-17T12:50:15.631407Z",
     "start_time": "2022-02-17T12:50:15.626531Z"
    }
   },
   "outputs": [],
   "source": [
    "sock.close()"
   ]
  },
  {
   "cell_type": "code",
   "execution_count": null,
   "metadata": {},
   "outputs": [],
   "source": []
  }
 ],
 "metadata": {
  "kernelspec": {
   "display_name": "Python 3 (ipykernel)",
   "language": "python",
   "name": "python3"
  },
  "language_info": {
   "codemirror_mode": {
    "name": "ipython",
    "version": 3
   },
   "file_extension": ".py",
   "mimetype": "text/x-python",
   "name": "python",
   "nbconvert_exporter": "python",
   "pygments_lexer": "ipython3",
   "version": "3.12.4"
  }
 },
 "nbformat": 4,
 "nbformat_minor": 4
}
