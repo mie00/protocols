{
 "cells": [
  {
   "cell_type": "code",
   "execution_count": 1,
   "metadata": {},
   "outputs": [],
   "source": [
    "running = False\n",
    "try:\n",
    "    sock.close()\n",
    "except:\n",
    "    pass"
   ]
  },
  {
   "cell_type": "code",
   "execution_count": 2,
   "metadata": {
    "ExecuteTime": {
     "end_time": "2022-02-17T12:21:51.131085Z",
     "start_time": "2022-02-17T12:21:51.115973Z"
    }
   },
   "outputs": [],
   "source": [
    "from parser import public_construct, public_match"
   ]
  },
  {
   "cell_type": "code",
   "execution_count": 3,
   "metadata": {
    "ExecuteTime": {
     "end_time": "2022-02-17T12:21:51.932612Z",
     "start_time": "2022-02-17T12:21:51.926891Z"
    }
   },
   "outputs": [],
   "source": [
    "from utils import SocketReader"
   ]
  },
  {
   "cell_type": "code",
   "execution_count": 4,
   "metadata": {},
   "outputs": [],
   "source": [
    "rmeote_offer = \"\"\"v=0\n",
    "o=- 4905540758590263656 2 IN IP4 127.0.0.1\n",
    "s=-\n",
    "t=0 0\n",
    "a=group:BUNDLE 0\n",
    "a=extmap-allow-mixed\n",
    "a=msid-semantic: WMS\n",
    "m=application 51796 UDP/DTLS/SCTP webrtc-datachannel\n",
    "c=IN IP4 34.42.107.192\n",
    "a=candidate:1432319694 1 udp 2113937151 5aefde91-14a2-4eb7-b69d-c3d5a39338d2.local 51796 typ host generation 0 network-cost 999\n",
    "a=candidate:2690825085 1 udp 1677729535 34.42.107.192 51796 typ srflx raddr 0.0.0.0 rport 0 generation 0 network-cost 999\n",
    "a=ice-ufrag:28Hw\n",
    "a=ice-pwd:yL3N6bzhVdea8Yf5cbpgYz2L\n",
    "a=ice-options:trickle\n",
    "a=fingerprint:sha-256 EB:67:CB:B8:04:53:FA:94:41:77:1F:4D:E1:A4:4E:05:A7:DB:94:67:D4:2C:31:A1:F2:7B:B6:DC:3E:B7:7B:D8\n",
    "a=setup:actpass\n",
    "a=mid:0\n",
    "a=sctp-port:5000\n",
    "a=max-message-size:262144\n",
    "\n",
    "\"\"\""
   ]
  },
  {
   "cell_type": "code",
   "execution_count": 5,
   "metadata": {},
   "outputs": [
    {
     "data": {
      "text/plain": [
       "('34.42.107.192', 51796, '28Hw', 'yL3N6bzhVdea8Yf5cbpgYz2L')"
      ]
     },
     "execution_count": 5,
     "metadata": {},
     "output_type": "execute_result"
    }
   ],
   "source": [
    "for line in rmeote_offer.splitlines():\n",
    "    if 'a=candidate:' in line and '.local' not in line:\n",
    "        res = line.split(' ')\n",
    "        target_ip = res[4]\n",
    "        target_port = int(res[5])\n",
    "    if 'a=ice-ufrag:' in line:\n",
    "        remote_ufrag = line.split(':')[1]\n",
    "    if 'a=ice-pwd:' in line:\n",
    "        remote_pwd = line.split(':')[1]\n",
    "\n",
    "target_ip_num = 0\n",
    "for i, seg in enumerate(target_ip.split('.')):\n",
    "    target_ip_num += int(seg) * (256**(3-i))\n",
    "\n",
    "target_ip, target_port, remote_ufrag, remote_pwd"
   ]
  },
  {
   "cell_type": "code",
   "execution_count": 6,
   "metadata": {},
   "outputs": [
    {
     "data": {
      "text/plain": [
       "'JIqQD69kEv6'"
      ]
     },
     "execution_count": 6,
     "metadata": {},
     "output_type": "execute_result"
    }
   ],
   "source": [
    "import random, string\n",
    "len_remote_ufrag = len(remote_ufrag)\n",
    "# len_remote_ufrag = 4 # chrome\n",
    "local_ufrag = ''.join(random.choice(string.ascii_uppercase + string.ascii_lowercase + string.digits) for _ in range(16 - len_remote_ufrag - 1))\n",
    "local_pwd = 'AgLw44VDUK531eYVCMpZMAjF'\n",
    "local_ufrag"
   ]
  },
  {
   "cell_type": "code",
   "execution_count": 7,
   "metadata": {},
   "outputs": [
    {
     "data": {
      "text/plain": [
       "'found 143.178.72.250:46973 while source port is 46973'"
      ]
     },
     "execution_count": 7,
     "metadata": {},
     "output_type": "execute_result"
    }
   ],
   "source": [
    "from stun import do_stun\n",
    "import random\n",
    "sport = random.randrange(30000, 50000)\n",
    "ip, port = do_stun(sport)\n",
    "f\"found {ip}:{port} while source port is {sport}\""
   ]
  },
  {
   "cell_type": "code",
   "execution_count": 8,
   "metadata": {},
   "outputs": [
    {
     "name": "stdout",
     "output_type": "stream",
     "text": [
      "Certificate:\n",
      "    Data:\n",
      "        Version: 1 (0x0)\n",
      "        Serial Number:\n",
      "                    Signature Algorithm: ecdsa-with-SHA256\n",
      "        Issuer: CN=WebRTC\n",
      "        Validity\n",
      "            Not Before: Jun 18 20:42:34 2024 GMT\n",
      "            Not After : Jun 19 20:42:34 2024 GMT\n",
      "        Subject: CN=WebRTC\n",
      "        Subject Public Key Info:\n",
      "            Public Key Algorithm: id-ecPublicKey\n",
      "                Public-Key: (256 bit)\n",
      "                pub:\n",
      "                    04:95:61:36:b0:55:3f:d4:9f:ec:36:cf:71:fd:86:\n",
      "                    33:dd:5d:18:1c:7c:8f:a2:04:24:f6:5c:cf:3d:de:\n",
      "                    fa:dc:a5:dc:53:f9:86:84:5c:25:03:cf:ce:f9:b8:\n",
      "                    cb:3b:cd:69:25:6a:23:c4:e7:00:3a:97:22:ab:1d:\n",
      "                    57:ba:36:1c:f6\n",
      "                ASN1 OID: prime256v1\n",
      "                NIST CURVE: P-256\n",
      "    Signature Algorithm: ecdsa-with-SHA256\n",
      "    Signature Value:\n",
      "        30:45:02:21:00:af:76:71:6e:16:2f:51:a0:0d:73:49:58:28:\n",
      "        62:11:80:ad:75:c3:ff:5d:3b:b0:81:9f:3e:af:1b:5e:e6:e6:\n",
      "        1e:02:20:3e:2d:8c:1e:c5:5d:86:77:7e:5a:0e:cc:8b:84:b1:\n",
      "        1a:15:01:d0:a7:9d:e8:f3:15:b3:30:be:da:10:7b:d3:57\n",
      "\n"
     ]
    },
    {
     "data": {
      "text/plain": [
       "'24:6A:49:57:D6:22:F1:0B:0A:17:30:57:A3:53:64:11:C4:3A:98:AC:43:0A:D3:18:30:56:07:F2:8B:13:D8:19'"
      ]
     },
     "execution_count": 8,
     "metadata": {},
     "output_type": "execute_result"
    }
   ],
   "source": [
    "from cryptography.hazmat.primitives.asymmetric import ec\n",
    "from cryptography.hazmat.primitives import serialization\n",
    "import OpenSSL.crypto\n",
    "\n",
    "own_cert_private_key = ec.generate_private_key(ec.SECP256R1())\n",
    "\n",
    "own_cert_private_key_bytes = own_cert_private_key.private_bytes(\n",
    "    encoding=serialization.Encoding.PEM,\n",
    "    format=serialization.PrivateFormat.PKCS8,\n",
    "    encryption_algorithm=serialization.NoEncryption()\n",
    ")\n",
    "\n",
    "\n",
    "pkey = OpenSSL.crypto.load_privatekey(OpenSSL.crypto.FILETYPE_PEM, own_cert_private_key_bytes)\n",
    "\n",
    "\n",
    "cert_req = OpenSSL.crypto.X509Req()\n",
    "\n",
    "cert_req.get_subject().CN = 'WebRTC'\n",
    "\n",
    "cert = OpenSSL.crypto.X509()\n",
    "cert.gmtime_adj_notBefore(0)\n",
    "cert.gmtime_adj_notAfter(1 * 24 * 60 * 60)\n",
    "cert.set_issuer(cert_req.get_subject())\n",
    "cert.set_subject(cert_req.get_subject())\n",
    "cert.set_pubkey(pkey)\n",
    "cert.sign(pkey, 'sha256') \n",
    "print(OpenSSL.crypto.dump_certificate(OpenSSL.crypto.FILETYPE_TEXT, cert).decode('utf-8')) \n",
    "local_cert_sha = cert.digest('sha256').decode('utf-8')\n",
    "local_cert_sha"
   ]
  },
  {
   "cell_type": "code",
   "execution_count": 9,
   "metadata": {},
   "outputs": [
    {
     "name": "stdout",
     "output_type": "stream",
     "text": [
      "v=0\n",
      "o=- 7407514470269221864 2 IN IP4 127.0.0.1\n",
      "s=-\n",
      "t=0 0\n",
      "a=group:BUNDLE 0\n",
      "a=extmap-allow-mixed\n",
      "a=msid-semantic: WMS\n",
      "m=application 46973 UDP/DTLS/SCTP webrtc-datachannel\n",
      "c=IN IP4 143.178.72.250\n",
      "a=candidate:3055715734 1 udp 1677729535 143.178.72.250 46973 typ srflx raddr 0.0.0.0 rport 0 generation 0 network-cost 999\n",
      "a=ice-ufrag:JIqQD69kEv6\n",
      "a=ice-pwd:AgLw44VDUK531eYVCMpZMAjF\n",
      "a=ice-options:trickle\n",
      "a=fingerprint:sha-256 24:6A:49:57:D6:22:F1:0B:0A:17:30:57:A3:53:64:11:C4:3A:98:AC:43:0A:D3:18:30:56:07:F2:8B:13:D8:19\n",
      "a=setup:passive\n",
      "a=mid:0\n",
      "a=sctp-port:5000\n",
      "a=max-message-size:262144\n",
      "\n"
     ]
    }
   ],
   "source": [
    "local_offer = f\"\"\"v=0\n",
    "o=- 7407514470269221864 2 IN IP4 127.0.0.1\n",
    "s=-\n",
    "t=0 0\n",
    "a=group:BUNDLE 0\n",
    "a=extmap-allow-mixed\n",
    "a=msid-semantic: WMS\n",
    "m=application {port} UDP/DTLS/SCTP webrtc-datachannel\n",
    "c=IN IP4 {ip}\n",
    "a=candidate:3055715734 1 udp 1677729535 {ip} {port} typ srflx raddr 0.0.0.0 rport 0 generation 0 network-cost 999\n",
    "a=ice-ufrag:{local_ufrag}\n",
    "a=ice-pwd:{local_pwd}\n",
    "a=ice-options:trickle\n",
    "a=fingerprint:sha-256 {local_cert_sha}\n",
    "a=setup:passive\n",
    "a=mid:0\n",
    "a=sctp-port:5000\n",
    "a=max-message-size:262144\n",
    "\"\"\"\n",
    "print(local_offer)"
   ]
  },
  {
   "cell_type": "code",
   "execution_count": 10,
   "metadata": {},
   "outputs": [],
   "source": [
    "stun_header_spec = \"\"\"\n",
    "2@zeroes\n",
    "-14@message_type\n",
    "-16@message_length\n",
    "-32@magic_cookie\n",
    "-96@transaction_id\n",
    "\"\"\"\n",
    "\n",
    "padding_0_attribute_spec = \"\"\"\n",
    "...(\n",
    "    16==0x20?16@xor_mapped_ip(\n",
    "        8@zeroes\n",
    "        -8@family\n",
    "        -16@port\n",
    "        -32@ip\n",
    "    )\n",
    "    :16==0x06?16@username()\n",
    "    :16==0x08?16@message_integrity(20B@hmac)\n",
    "    :16==0x25?16@use_candidate()\n",
    "    :16==0x8029?16@ice_controlled(8B@tie_breaker)\n",
    "    :16==0x802a?16@ice_controlling(8B@tie_breaker)\n",
    "    :16==0x24?16@priority(4B@priority)\n",
    "    :16==0x8028?16@fingerprint(4B@crc32)\n",
    "    :16@selector-16@data()\n",
    ")\n",
    "\"\"\"\n",
    "\n",
    "import random\n",
    "magic_cookie = 0x2112A442 # constant"
   ]
  },
  {
   "cell_type": "code",
   "execution_count": 11,
   "metadata": {},
   "outputs": [],
   "source": [
    "from cryptography.hazmat.primitives import hashes\n",
    "from cryptography.hazmat.primitives.hmac import HMAC\n",
    "\n",
    "def get_message_integrity(msg, key):\n",
    "    msg = bytearray(msg)\n",
    "    msg[3] = len(msg) + 24 - 20\n",
    "    hm = HMAC(key, hashes.SHA1())\n",
    "    hm.update(msg)\n",
    "    return hm.finalize()\n",
    "\n",
    "def append_message_integrity(msg, key):\n",
    "    hmac = get_message_integrity(msg, key)\n",
    "    attrs = [{\"message_integrity\": {\"hmac\": hmac}, \"_selector\": 0x08}]\n",
    "    msg = bytearray(msg)\n",
    "    msg += public_construct(padding_0_attribute_spec, attrs)\n",
    "    msg[3] = len(msg) - 20\n",
    "    return msg\n",
    "\n",
    "import binascii\n",
    "def append_fingerprint(msg):\n",
    "    msg = bytearray(msg)\n",
    "    msg[3] = len(msg) + 8 - 20\n",
    "    crc32 = binascii.crc32(msg) ^ 0x5354554e\n",
    "    attrs = [{\"fingerprint\": {\"crc32\": crc32}, \"_selector\": 0x8028}]\n",
    "    msg += public_construct(padding_0_attribute_spec, attrs)\n",
    "    return msg\n",
    "    \n",
    "\n",
    "\n",
    "# v = \"\"\"000100502112a4427139396c466f2b2f642f48650006000952556d333a4e6b4b36000000c0570004000003e7802a00084f02cc537c6985ff00250000002400046e001eff00080014ed4243520504f6eeefe90146a25142054ab03a4380280004f0c40a27\"\"\"\n",
    "# msgm = bytes.fromhex(v)\n",
    "# should_be = msgm[-28:-8].hex()\n",
    "# print('should be', should_be)\n",
    "# msgm = bytearray(msgm[:-8][:-24])\n",
    "# key = b'7bjW8vqNNZPvdFDCa3IJ3J7E'\n",
    "# print(v)\n",
    "# print(append_fingerprint(append_message_integrity(msgm, key)).hex())\n"
   ]
  },
  {
   "cell_type": "code",
   "execution_count": 12,
   "metadata": {},
   "outputs": [],
   "source": [
    "def create_response(transaction_id):\n",
    "    attributes = [\n",
    "        {'xor_mapped_ip': {'zeroes': 0x00,\n",
    "       'family': 0x01,\n",
    "       'port': target_port  ^ (magic_cookie >> 16),\n",
    "       'ip': target_ip_num  ^ (magic_cookie)},\n",
    "      '_selector': 0x0020}\n",
    "    ]\n",
    "    \n",
    "    msg = public_construct(padding_0_attribute_spec, attributes)\n",
    "    \n",
    "    stun_header = {\n",
    "        \"zeroes\": 0,\n",
    "        # +--+--+-+-+-+-+-+-+-+-+-+-+-+-+\n",
    "        # |M |M |M|M|M|C|M|M|M|C|M|M|M|M|\n",
    "        # |11|10|9|8|7|1|6|5|4|0|3|2|1|0|\n",
    "        # +--+--+-+-+-+-+-+-+-+-+-+-+-+-+\n",
    "        \"message_type\": 0b00000100000001,\n",
    "        \"message_length\": len(msg)+24,\n",
    "        \"magic_cookie\": magic_cookie,\n",
    "        \"transaction_id\": transaction_id,\n",
    "    }\n",
    "    \n",
    "    msg = public_construct(stun_header_spec, stun_header) + msg\n",
    "    msg = append_message_integrity(msg, local_pwd.encode('utf-8'))\n",
    "    msg = append_fingerprint(msg)\n",
    "    return msg\n",
    "\n",
    "def create_request():\n",
    "    attributes = [\n",
    "        {\"username\": remote_ufrag+':'+local_ufrag, \"_selector\": 0x06},\n",
    "        # {\"use_candidate\": \"\", \"_selector\": 0x25},\n",
    "        # {\"ice_controlling\": {\"tie_breaker\": 0x6569bb58ab364c66}, \"_selector\": 0x802a},\n",
    "        {\"ice_controlled\": {\"tie_breaker\": 0x6569bb58ab364c66}, \"_selector\": 0x8029},\n",
    "        {\"priority\": {\"priority\": 0x6e001eff}, \"_selector\": 0x24},\n",
    "    ]\n",
    "    \n",
    "    msg = public_construct(padding_0_attribute_spec, attributes)\n",
    "    \n",
    "    stun_header = {\n",
    "        \"zeroes\": 0,\n",
    "        # +--+--+-+-+-+-+-+-+-+-+-+-+-+-+\n",
    "        # |M |M |M|M|M|C|M|M|M|C|M|M|M|M|\n",
    "        # |11|10|9|8|7|1|6|5|4|0|3|2|1|0|\n",
    "        # +--+--+-+-+-+-+-+-+-+-+-+-+-+-+\n",
    "        \"message_type\": 0b00000000000001,\n",
    "        \"message_length\": len(msg)+24,\n",
    "        \"magic_cookie\": magic_cookie,\n",
    "        \"transaction_id\": random.randrange(1<<96),\n",
    "    }\n",
    "    \n",
    "    msg = public_construct(stun_header_spec, stun_header) + msg\n",
    "    msg = append_message_integrity(msg, remote_pwd.encode('utf-8'))\n",
    "    msg = append_fingerprint(msg)\n",
    "    return msg\n"
   ]
  },
  {
   "cell_type": "code",
   "execution_count": 13,
   "metadata": {
    "ExecuteTime": {
     "end_time": "2022-02-17T12:21:52.581795Z",
     "start_time": "2022-02-17T12:21:52.576699Z"
    }
   },
   "outputs": [],
   "source": [
    "try:\n",
    "    sock.close()\n",
    "except:\n",
    "    pass\n",
    "\n",
    "sock = SocketReader(target_ip, target_port, 'udp')\n",
    "\n",
    "sock.connect(source_port=sport)"
   ]
  },
  {
   "cell_type": "code",
   "execution_count": 14,
   "metadata": {
    "scrolled": true
   },
   "outputs": [
    {
     "name": "stdout",
     "output_type": "stream",
     "text": [
      "*+++++*+*****+*************+*************+*************+**************+*************+*************+*************+**************+*************+*************+*************+*************+**************+*************+*************+*************+*************+**************+*************+*************+*************+**************+*************+*************+*************+**************+*************+*************+*************+*************+**************+*************+*************+*************+**************+*************+*************+*************+**************+*************+*************+*************+*************+**************+*************+*************+*************+**************+*************+*************+*************+*************+**************+*************+*************+*************+*************+**************+*************+*************+*************+**************+*************+*************+*************+*************+**************+*************+*************+*************+**************+*************+*************+*************+*************+**************+*************+*************+**************+*************+*************+*************+*************+**************+*************+*************+*************+**************+*************+*************+*************+*************+**************+*************+*************+*************+*************+**************+*************+*************+*************+**************+*************+*************+*************+*************+**************+*************+*************+*************+***********************************************************************************************************************************************************************************************************************************************************************************************************************************************************************************************************************************************************************************************************************"
     ]
    },
    {
     "name": "stderr",
     "output_type": "stream",
     "text": [
      "Exception in thread Thread-6 (sender):\n",
      "Traceback (most recent call last):\n",
      "  File \"/usr/lib/python3.12/threading.py\", line 1073, in _bootstrap_inner\n",
      "    self.run()\n",
      "  File \"/home/mie/.virtualenvs/notebooks/lib/python3.12/site-packages/ipykernel/ipkernel.py\", line 766, in run_closure\n",
      "    _threading_Thread_run(self)\n",
      "  File \"/usr/lib/python3.12/threading.py\", line 1010, in run\n",
      "    self._target(*self._args, **self._kwargs)\n",
      "  File \"/tmp/ipykernel_948445/2590931976.py\", line 24, in sender\n",
      "  File \"/home/mie/notebooks/utils.py\", line 17, in send\n",
      "    self.sock.sendall(data)\n",
      "ConnectionRefusedError: [Errno 111] Connection refused\n"
     ]
    }
   ],
   "source": [
    "running = True\n",
    "import time\n",
    "from queue import Queue\n",
    "\n",
    "dts_queue = Queue(maxsize=10)\n",
    "\n",
    "last_received = time.time()\n",
    "\n",
    "def handler():\n",
    "    while running:\n",
    "        resp = sock.read_once()\n",
    "        if resp[1] == 0xfe and (resp[2] == 0xfd or resp[2] == 0xff):\n",
    "            dts_queue.put(resp)\n",
    "        res, rem = public_match(stun_header_spec, resp)\n",
    "        if res['message_type'].int() != 0b00000000000001:\n",
    "            continue\n",
    "        pkg = create_response(res['transaction_id'])\n",
    "        sock.send(pkg)\n",
    "        print('+', end='')\n",
    "        last_received = time.time()\n",
    "\n",
    "def sender():\n",
    "    while running:\n",
    "        sock.send(create_request())\n",
    "        print('*', end='')\n",
    "        time.sleep(2 if time.time() - last_received < 6 else 0.2)\n",
    "\n",
    "import threading\n",
    "threading.Thread(target=handler).start()\n",
    "threading.Thread(target=sender).start()"
   ]
  },
  {
   "cell_type": "code",
   "execution_count": 15,
   "metadata": {
    "ExecuteTime": {
     "end_time": "2022-02-17T12:25:43.264567Z",
     "start_time": "2022-02-17T12:25:43.259208Z"
    }
   },
   "outputs": [],
   "source": [
    "# running = False\n",
    "# sock.close()\n"
   ]
  },
  {
   "cell_type": "code",
   "execution_count": 16,
   "metadata": {},
   "outputs": [],
   "source": [
    "transcript = b''"
   ]
  },
  {
   "cell_type": "code",
   "execution_count": 17,
   "metadata": {},
   "outputs": [],
   "source": [
    "handshake_spec = \"\"\"\n",
    "8==1?24@client_hello(\n",
    "    16@version\n",
    "    -32B@random\n",
    "    -8@session_id()\n",
    "    -8@cookie()\n",
    "    -16@suites(...16)\n",
    "    -8@compression()\n",
    "    -16@extensions(\n",
    "        ...(\n",
    "            16==23?16@extended_master_secret()\n",
    "            :16==0xff01?16@renegotiation_info(8@renegotiation_info())\n",
    "            :16==10?16@ext_supported_curves(\n",
    "                16@data(...16)\n",
    "            )\n",
    "            :16==11?16@ext_supported_points(\n",
    "                8@supported_points()\n",
    "            )\n",
    "            :16==35?16@ext_session_tickets()\n",
    "            :16==13?16@ext_signature_algorithms(\n",
    "                16@data(...16)\n",
    "            )\n",
    "            :16==14?16@use_srtp(\n",
    "                16@data(...16)\n",
    "                -8@mki()\n",
    "            )\n",
    "            :16@selector-16@raw_extension()\n",
    "        )\n",
    "    )\n",
    ")\n",
    ":8==2?24@server_hello(\n",
    "    16@version\n",
    "    -32B@random\n",
    "    -8@session_id()\n",
    "    -16@suite\n",
    "    -8@compression\n",
    "    -16@extensions(\n",
    "        ...(\n",
    "            16==23?16@ext_master_secret()\n",
    "            :16==11?16@ext_supported_points(\n",
    "                8@supported_points()\n",
    "            )\n",
    "            :16==35?16@ext_session_tickets()\n",
    "            :16==5?16@ext_status_request(\n",
    "                8@status_type\n",
    "                -16@responder_id_list\n",
    "                -16@request_extensions\n",
    "            )\n",
    "            :16==0xff01?16@ext_renegotiation_info(\n",
    "                8@secure_renegotitation()\n",
    "            )\n",
    "            :16==14?16@use_srtp(\n",
    "                16@data(...16)\n",
    "                -8@mki()\n",
    "            )\n",
    "            :16@selector-16@raw_extension()\n",
    "        )\n",
    "    )\n",
    ")\n",
    ":8==11?24@certificates_data(\n",
    "    24@certificates(\n",
    "        ...(\n",
    "            24@certificate()\n",
    "        )\n",
    "    )\n",
    ")\n",
    ":8==12?24@server_key_exchange(\n",
    "    8@curve_type\n",
    "    -16@named_curve\n",
    "    -8@pubkey()\n",
    "    -16@sig_algorithm\n",
    "    -16@signature()\n",
    ")\n",
    ":8==13?24@certificate_request(\n",
    "    8@cert_types(...(8@cert_type))\n",
    "    -16@sig_hash_algs(...(16@sig_hash_alg))\n",
    "    -16@distinguished_names()\n",
    ")\n",
    ":8==14?24@server_hello_done()\n",
    ":8==16?24@client_key_exchange(\n",
    "    8@pubkey()\n",
    ")\n",
    ":8==15?24@certificate_verify(\n",
    "    16@sig_algorithm\n",
    "    -16@signature()\n",
    ")\n",
    ":8==20?24@finished()\n",
    "\"\"\"\n",
    "\n",
    "fragment_spec = \"\"\"\n",
    "4B@type_and_length\n",
    "-16@message_sequence\n",
    "-24@fragment_offset\n",
    "-24@fragment()\n",
    "\"\"\"\n",
    "\n",
    "dtls_record_spec = \"\"\"\n",
    "8==22?16@tls_version-16@epoch-6B@sequence_number-16@tls_handshake(%s)\n",
    ":8==20?16@tls_version-16@epoch-6B@sequence_number-16@change_cipher_spec_message()\n",
    "\"\"\"%fragment_spec"
   ]
  },
  {
   "cell_type": "code",
   "execution_count": 18,
   "metadata": {},
   "outputs": [],
   "source": [
    "msg = dts_queue.get()"
   ]
  },
  {
   "cell_type": "code",
   "execution_count": 19,
   "metadata": {},
   "outputs": [
    {
     "data": {
      "text/plain": [
       "''"
      ]
     },
     "execution_count": 19,
     "metadata": {},
     "output_type": "execute_result"
    }
   ],
   "source": [
    "a = 'aaa'\n",
    "a[1:-0]"
   ]
  },
  {
   "cell_type": "code",
   "execution_count": 20,
   "metadata": {},
   "outputs": [
    {
     "name": "stdout",
     "output_type": "stream",
     "text": [
      "b'\\x01\\x00\\x00\\x84\\x00\\x00\\x00\\x00\\x00\\x00\\x00\\x84\\xfe\\xfdR\\xf8\\x88\\xda,\\x91<`\\xe9>r\\xf04\\xae\\x8d\\xd3\\xb2\\x06y\\x170X)\\xad\\xe0%\\x80\\xfc\\x17O4!\\x00\\x00\\x00\\x16\\xc0+\\xc0/\\xcc\\xa9\\xcc\\xa8\\xc0\\t\\xc0\\x13\\xc0\\n\\xc0\\x14\\x00\\x9c\\x00/\\x005\\x01\\x00\\x00D\\x00\\x17\\x00\\x00\\xff\\x01\\x00\\x01\\x00\\x00\\n\\x00\\x08\\x00\\x06\\x00\\x1d\\x00\\x17\\x00\\x18\\x00\\x0b\\x00\\x02\\x01\\x00\\x00#\\x00\\x00\\x00\\r\\x00\\x14\\x00\\x12\\x04\\x03\\x08\\x04\\x04\\x01\\x05\\x03\\x08\\x05\\x05\\x01\\x08\\x06\\x06\\x01\\x02\\x01\\x00\\x0e\\x00\\t\\x00\\x06\\x00\\x01\\x00\\x08\\x00\\x07\\x00'\n"
     ]
    },
    {
     "data": {
      "text/plain": [
       "{'tls_version': 0xfeff,\n",
       " '_selector': 0x16,\n",
       " 'epoch': 0x0000,\n",
       " 'sequence_number': 0x000000000000,\n",
       " 'tls_handshake': {'type_and_length': 0x01000084,\n",
       "  'message_sequence': 0x0000,\n",
       "  'fragment_offset': 0x000000,\n",
       "  'fragment': 0xfefd52f888da2c913c60e93e72f034ae8dd3b2067917305829ade02580fc174f342100000016c02bc02fcca9cca8c009c013c00ac014009c002f00350100004400170000ff01000100000a00080006001d00170018000b0002010000230000000d00140012040308040401050308050501080606010201000e0009000600010008000700}}"
      ]
     },
     "execution_count": 20,
     "metadata": {},
     "output_type": "execute_result"
    }
   ],
   "source": [
    "packet, rem = public_match(dtls_record_spec, msg)\n",
    "transcript += msg[13:]\n",
    "print(transcript)\n",
    "packet"
   ]
  },
  {
   "cell_type": "code",
   "execution_count": 21,
   "metadata": {},
   "outputs": [
    {
     "data": {
      "text/plain": [
       "{'client_hello': {'version': 0xfefd,\n",
       "  'random': 0x52f888da2c913c60e93e72f034ae8dd3b2067917305829ade02580fc174f3421,\n",
       "  'session_id': '',\n",
       "  'cookie': '',\n",
       "  'suites': [0xc02b,\n",
       "   0xc02f,\n",
       "   0xcca9,\n",
       "   0xcca8,\n",
       "   0xc009,\n",
       "   0xc013,\n",
       "   0xc00a,\n",
       "   0xc014,\n",
       "   0x009c,\n",
       "   0x002f,\n",
       "   0x0035],\n",
       "  'compression': 0x00,\n",
       "  'extensions': [{'extended_master_secret': '', '_selector': 0x0017},\n",
       "   {'renegotiation_info': {'renegotiation_info': ''}, '_selector': 0xff01},\n",
       "   {'ext_supported_curves': {'data': [0x001d, 0x0017, 0x0018]},\n",
       "    '_selector': 0x000a},\n",
       "   {'ext_supported_points': {'supported_points': 0x00}, '_selector': 0x000b},\n",
       "   {'ext_session_tickets': '', '_selector': 0x0023},\n",
       "   {'ext_signature_algorithms': {'data': [0x0403,\n",
       "      0x0804,\n",
       "      0x0401,\n",
       "      0x0503,\n",
       "      0x0805,\n",
       "      0x0501,\n",
       "      0x0806,\n",
       "      0x0601,\n",
       "      0x0201]},\n",
       "    '_selector': 0x000d},\n",
       "   {'use_srtp': {'data': [0x0001, 0x0008, 0x0007], 'mki': ''},\n",
       "    '_selector': 0x000e}]},\n",
       " '_selector': 0x01}"
      ]
     },
     "execution_count": 21,
     "metadata": {},
     "output_type": "execute_result"
    }
   ],
   "source": [
    "record = packet['tls_handshake']['type_and_length'].bytes() + packet['tls_handshake']['fragment'].bytes()\n",
    "client_hello, _ = public_match(handshake_spec, record)\n",
    "client_hello"
   ]
  },
  {
   "cell_type": "code",
   "execution_count": 22,
   "metadata": {},
   "outputs": [],
   "source": [
    "dtls_message_encoded = b''"
   ]
  },
  {
   "cell_type": "code",
   "execution_count": 23,
   "metadata": {},
   "outputs": [],
   "source": [
    "server_hello = {\n",
    "  'server_hello': {\n",
    "      'version': 0xfefd,\n",
    "      'random': bytes.fromhex('2dd93a4dd171b16cef3fd22029ab20c59938934d74b4c597b762f16ff261735b'),\n",
    "      'session_id': '',\n",
    "      'suite': 0xc02b,\n",
    "      'compression': 0x00,\n",
    "      'extensions': [{'ext_master_secret': '', '_selector': 0x0017},\n",
    "       {'ext_renegotiation_info': {'secure_renegotitation': ''},\n",
    "        '_selector': 0xff01},\n",
    "       {'ext_supported_points': {'supported_points': 0x00}, '_selector': 0x000b},\n",
    "       {'ext_session_tickets': '', '_selector': 0x0023},\n",
    "       {'use_srtp': {'data': [0x0001], 'mki': ''}, '_selector': 0x000e}]\n",
    "  },\n",
    "  '_selector': 0x02\n",
    "}\n",
    "\n",
    "server_hello_encoded = public_construct(handshake_spec, server_hello)\n",
    "\n",
    "\n",
    "\n",
    "dtls_record = {\n",
    "    \"tls_version\": 0xfeff,\n",
    "    \"tls_handshake\": {\n",
    "        'type_and_length': server_hello_encoded[:4],\n",
    "        'message_sequence': 0,\n",
    "        'fragment_offset': 0,\n",
    "        'fragment': server_hello_encoded[4:],\n",
    "    },\n",
    "    \"epoch\": 0,\n",
    "    \"sequence_number\": 0,\n",
    "    \"_selector\": 22\n",
    "}\n",
    "dtls_record_encoded = public_construct(dtls_record_spec, dtls_record)\n",
    "transcript += dtls_record_encoded[13:]\n",
    "dtls_message_encoded += dtls_record_encoded\n"
   ]
  },
  {
   "cell_type": "code",
   "execution_count": 24,
   "metadata": {},
   "outputs": [],
   "source": [
    "\n",
    "certificate_message = {\n",
    "'certificates_data': {'certificates': [{'certificate': OpenSSL.crypto.dump_certificate(OpenSSL.crypto.FILETYPE_ASN1, cert)}]},\n",
    " '_selector': 11}\n",
    "\n",
    "certificate_message_encoded = public_construct(handshake_spec, certificate_message)\n",
    "\n",
    "\n",
    "dtls_record = {\n",
    "    \"tls_version\": 0xfeff,\n",
    "    \"tls_handshake\": {\n",
    "        'type_and_length': certificate_message_encoded[:4],\n",
    "        'message_sequence': 1,\n",
    "        'fragment_offset': 0,\n",
    "        'fragment': certificate_message_encoded[4:],\n",
    "    },\n",
    "    \"epoch\": 0,\n",
    "    \"sequence_number\": 1,\n",
    "    \"_selector\": 22\n",
    "}\n",
    "dtls_record_encoded = public_construct(dtls_record_spec, dtls_record)\n",
    "transcript += dtls_record_encoded[13:]\n",
    "dtls_message_encoded += dtls_record_encoded"
   ]
  },
  {
   "cell_type": "code",
   "execution_count": 25,
   "metadata": {},
   "outputs": [],
   "source": [
    "from cryptography.hazmat.primitives.asymmetric.x25519 import X25519PrivateKey, X25519PublicKey\n",
    "\n",
    "server_private_key = X25519PrivateKey.generate()\n",
    "server_public_key = server_private_key.public_key().public_bytes(serialization.Encoding.Raw, serialization.PublicFormat.Raw)\n"
   ]
  },
  {
   "cell_type": "code",
   "execution_count": 26,
   "metadata": {},
   "outputs": [],
   "source": [
    "server_key_sign_spec = \"\"\"32B@client_random-32B@server_random-8@curve_type-16@named_curve-8@pubkey()\"\"\"\n",
    "server_key_sign = {\n",
    "    \"client_random\": client_hello['client_hello']['random'],\n",
    "    \"server_random\": server_hello['server_hello']['random'],\n",
    "    \"curve_type\": 3,\n",
    "    \"named_curve\": 0x001d,\n",
    "    \"pubkey\": server_public_key,\n",
    "    \"sig_algorithm\": 0x0403,\n",
    "    \"_selector\": 12,\n",
    "}\n",
    "\n",
    "enc = public_construct(server_key_sign_spec, server_key_sign)\n",
    "\n",
    "server_key_sign['signature'] = own_cert_private_key.sign(enc, ec.ECDSA(hashes.SHA256()))\n",
    "\n",
    "server_key_sign_encoded = public_construct(handshake_spec, server_key_sign)\n",
    "\n",
    "\n",
    "\n",
    "dtls_record = {\n",
    "    \"tls_version\": 0xfeff,\n",
    "    \"tls_handshake\": {\n",
    "        'type_and_length': server_key_sign_encoded[:4],\n",
    "        'message_sequence': 2,\n",
    "        'fragment_offset': 0,\n",
    "        'fragment': server_key_sign_encoded[4:],\n",
    "    },\n",
    "    \"epoch\": 0,\n",
    "    \"sequence_number\": 2,\n",
    "    \"_selector\": 22\n",
    "}\n",
    "dtls_record_encoded = public_construct(dtls_record_spec, dtls_record)\n",
    "transcript += dtls_record_encoded[13:]\n",
    "dtls_message_encoded += dtls_record_encoded"
   ]
  },
  {
   "cell_type": "code",
   "execution_count": 27,
   "metadata": {},
   "outputs": [],
   "source": [
    "cert_req = {'certificate_request': {'cert_types': [{'cert_type': 0x01},\n",
    "   {'cert_type': \"@\"}],\n",
    "  'sig_hash_algs': [{'sig_hash_alg': 0x0403},\n",
    "   {'sig_hash_alg': 0x0804},\n",
    "   {'sig_hash_alg': 0x0401},\n",
    "   {'sig_hash_alg': 0x0503},\n",
    "   {'sig_hash_alg': 0x0805},\n",
    "   {'sig_hash_alg': 0x0501},\n",
    "   {'sig_hash_alg': 0x0806},\n",
    "   {'sig_hash_alg': 0x0601},\n",
    "   {'sig_hash_alg': 0x0201}],\n",
    "  'distinguished_names': ''},\n",
    " '_selector': 13}\n",
    "\n",
    "cert_req_encoded = public_construct(handshake_spec, cert_req)\n",
    "\n",
    "\n",
    "dtls_record = {\n",
    "    \"tls_version\": 0xfeff,\n",
    "    \"tls_handshake\": {\n",
    "        'type_and_length': cert_req_encoded[:4],\n",
    "        'message_sequence': 3,\n",
    "        'fragment_offset': 0,\n",
    "        'fragment': cert_req_encoded[4:],\n",
    "    },\n",
    "    \"epoch\": 0,\n",
    "    \"sequence_number\": 3,\n",
    "    \"_selector\": 22\n",
    "}\n",
    "dtls_record_encoded = public_construct(dtls_record_spec, dtls_record)\n",
    "transcript += dtls_record_encoded[13:]\n",
    "dtls_message_encoded += dtls_record_encoded"
   ]
  },
  {
   "cell_type": "code",
   "execution_count": 28,
   "metadata": {},
   "outputs": [],
   "source": [
    "server_hello_done = {'server_hello_done': '', '_selector': 0x0e}\n",
    "server_hello_done_encoded = public_construct(handshake_spec, server_hello_done)\n",
    "\n",
    "\n",
    "dtls_record = {\n",
    "    \"tls_version\": 0xfeff,\n",
    "    \"tls_handshake\": {\n",
    "        'type_and_length': server_hello_done_encoded[:4],\n",
    "        'message_sequence': 4,\n",
    "        'fragment_offset': 0,\n",
    "        'fragment': server_hello_done_encoded[4:],\n",
    "    },\n",
    "    \"epoch\": 0,\n",
    "    \"sequence_number\": 4,\n",
    "    \"_selector\": 22\n",
    "}\n",
    "dtls_record_encoded = public_construct(dtls_record_spec, dtls_record)\n",
    "transcript += dtls_record_encoded[13:]\n",
    "dtls_message_encoded += dtls_record_encoded"
   ]
  },
  {
   "cell_type": "code",
   "execution_count": 29,
   "metadata": {},
   "outputs": [],
   "source": [
    "sock.send(dtls_message_encoded)"
   ]
  },
  {
   "cell_type": "code",
   "execution_count": 30,
   "metadata": {},
   "outputs": [
    {
     "data": {
      "text/plain": [
       "b\"\\x16\\xfe\\xfd\\x00\\x00\\x00\\x00\\x00\\x00\\x00\\x01\\x01+\\x0b\\x00\\x01\\x1f\\x00\\x01\\x00\\x00\\x00\\x00\\x01\\x1f\\x00\\x01\\x1c\\x00\\x01\\x190\\x82\\x01\\x150\\x81\\xbc\\xa0\\x03\\x02\\x01\\x02\\x02\\x08\\x7f\\x02\\xa3\\xf4\\x19\\xcc`\\xac0\\n\\x06\\x08*\\x86H\\xce=\\x04\\x03\\x020\\x111\\x0f0\\r\\x06\\x03U\\x04\\x03\\x0c\\x06WebRTC0\\x1e\\x17\\r240617204224Z\\x17\\r240718204224Z0\\x111\\x0f0\\r\\x06\\x03U\\x04\\x03\\x0c\\x06WebRTC0Y0\\x13\\x06\\x07*\\x86H\\xce=\\x02\\x01\\x06\\x08*\\x86H\\xce=\\x03\\x01\\x07\\x03B\\x00\\x04\\xb1\\xdd\\xf6C\\x18\\x12g\\xa5\\xfby\\xb8\\xa7\\x95\\xe0\\xb5\\xecULs\\r\\xeaT\\x9b,\\xc7\\xb3\\xdcb\\x12t\\xe9\\xfdqeC\\xa7\\xa1\\xb4\\xe7\\x19\\xa6\\t\\xcf\\xc0\\xd31\\xdf~48\\x00z\\x0b\\xcbcn\\xf3O\\x16\\xa4\\x04R\\xbce0\\n\\x06\\x08*\\x86H\\xce=\\x04\\x03\\x02\\x03H\\x000E\\x02 `\\xc0\\xdf\\xb3\\xed\\x0f\\xfc\\xfb')\\x12\\x18\\xb55\\x81\\xc9\\x918\\x93\\x8d*:\\x81-qJ;\\xc9\\xd4\\xee\\xad\\xb1\\x02!\\x00\\xb3\\x13\\x8e\\xf3\\x93b\\xbc\\x90\\x83\\xb7\\xca\\x15\\x14\\xdd\\n\\xc6\\\\\\x07\\xc4\\xfb\\x9eM\\xea\\x1fg\\xd5\\xebe\\xad\\xcb\\x04\\x91\\x16\\xfe\\xfd\\x00\\x00\\x00\\x00\\x00\\x00\\x00\\x02\\x00-\\x10\\x00\\x00!\\x00\\x02\\x00\\x00\\x00\\x00\\x00! \\x0e\\x00\\x8a>\\xeaz\\x85b\\x00\\xd2\\xbd\\xe1T[\\x1d\\xbe\\x18\\xdd\\n\\xf4\\xba\\x8c\\x14\\xae%\\xa1u0\\x0e\\xdfm\\r\\x16\\xfe\\xfd\\x00\\x00\\x00\\x00\\x00\\x00\\x00\\x03\\x00W\\x0f\\x00\\x00K\\x00\\x03\\x00\\x00\\x00\\x00\\x00K\\x04\\x03\\x00G0E\\x02!\\x00\\xc35\\x0bi\\x90hz\\xd1[\\xc50\\x1a/\\xa5\\x92N\\rG\\x01\\xd3\\xa2|\\xcf\\x15\\x98u\\xd1=k\\x1a\\\\\\x7f\\x02 6\\x04~\\x06?;\\xce{/\\xaa\\x7f\\x8f\\x01\\xdfE\\xfe\\x99\\xed1\\xcb\\xb7*\\x07\\xd0\\xe6U\\x9e\\xc96\\xae4\\x14\\x14\\xfe\\xfd\\x00\\x00\\x00\\x00\\x00\\x00\\x00\\x04\\x00\\x01\\x01\\x16\\xfe\\xfd\\x00\\x01\\x00\\x00\\x00\\x00\\x00\\x00\\x000\\x00\\x01\\x00\\x00\\x00\\x00\\x00\\x00\\xea\\xd8\\x1dA\\xbe\\xe8\\xcc>\\x14\\x81\\xc4\\x10G\\xc3a9\\x9e\\xeaB\\xa9\\x1a\\x1bm\\x80\\xfd\\xb9^`5-\\x7f\\x0e\\x80\\xfa\\xe53!\\xab{\\x1c\""
      ]
     },
     "execution_count": 30,
     "metadata": {},
     "output_type": "execute_result"
    }
   ],
   "source": [
    "msg = dts_queue.get()\n",
    "msg"
   ]
  },
  {
   "cell_type": "code",
   "execution_count": null,
   "metadata": {},
   "outputs": [],
   "source": []
  },
  {
   "cell_type": "code",
   "execution_count": 31,
   "metadata": {},
   "outputs": [
    {
     "data": {
      "text/plain": [
       "{'tls_version': 0xfefd,\n",
       " '_selector': 0x16,\n",
       " 'epoch': 0x0000,\n",
       " 'sequence_number': 0x000000000001,\n",
       " 'tls_handshake': {'type_and_length': 0x0b00011f,\n",
       "  'message_sequence': 0x0001,\n",
       "  'fragment_offset': 0x000000,\n",
       "  'fragment': 0x00011c000119308201153081bca00302010202087f02a3f419cc60ac300a06082a8648ce3d0403023011310f300d06035504030c06576562525443301e170d3234303631373230343232345a170d3234303731383230343232345a3011310f300d06035504030c065765625254433059301306072a8648ce3d020106082a8648ce3d03010703420004b1ddf643181267a5fb79b8a795e0b5ec554c730dea549b2cc7b3dc621274e9fd716543a7a1b4e719a609cfc0d331df7e3438007a0bcb636ef34f16a40452bc65300a06082a8648ce3d0403020348003045022060c0dfb3ed0ffcfb27291218b53581c99138938d2a3a812d714a3bc9d4eeadb1022100b3138ef39362bc9083b7ca1514dd0ac65c07c4fb9e4dea1f67d5eb65adcb0491}}"
      ]
     },
     "execution_count": 31,
     "metadata": {},
     "output_type": "execute_result"
    }
   ],
   "source": [
    "packet, rem = public_match(dtls_record_spec, msg)\n",
    "packet"
   ]
  },
  {
   "cell_type": "code",
   "execution_count": 32,
   "metadata": {},
   "outputs": [
    {
     "data": {
      "text/plain": [
       "{'certificates_data': {'certificates': [{'certificate': 0x308201153081bca00302010202087f02a3f419cc60ac300a06082a8648ce3d0403023011310f300d06035504030c06576562525443301e170d3234303631373230343232345a170d3234303731383230343232345a3011310f300d06035504030c065765625254433059301306072a8648ce3d020106082a8648ce3d03010703420004b1ddf643181267a5fb79b8a795e0b5ec554c730dea549b2cc7b3dc621274e9fd716543a7a1b4e719a609cfc0d331df7e3438007a0bcb636ef34f16a40452bc65300a06082a8648ce3d0403020348003045022060c0dfb3ed0ffcfb27291218b53581c99138938d2a3a812d714a3bc9d4eeadb1022100b3138ef39362bc9083b7ca1514dd0ac65c07c4fb9e4dea1f67d5eb65adcb0491}]},\n",
       " '_selector': \"\n",
       " \"}"
      ]
     },
     "execution_count": 32,
     "metadata": {},
     "output_type": "execute_result"
    }
   ],
   "source": [
    "record = packet['tls_handshake']['type_and_length'].bytes() + packet['tls_handshake']['fragment'].bytes()\n",
    "peer_cert, _ = public_match(handshake_spec, record)\n",
    "peer_cert"
   ]
  },
  {
   "cell_type": "code",
   "execution_count": 33,
   "metadata": {},
   "outputs": [],
   "source": [
    "if 'certificates_data' not in peer_cert:\n",
    "    raise RuntimeError(\"repeated package, retry from dts_queue.get()\")\n",
    "transcript += msg[13:-len(rem)]"
   ]
  },
  {
   "cell_type": "code",
   "execution_count": 34,
   "metadata": {},
   "outputs": [
    {
     "name": "stdout",
     "output_type": "stream",
     "text": [
      "Certificate:\n",
      "    Data:\n",
      "        Version: 3 (0x2)\n",
      "        Serial Number: 9152057661570441388 (0x7f02a3f419cc60ac)\n",
      "        Signature Algorithm: ecdsa-with-SHA256\n",
      "        Issuer: CN=WebRTC\n",
      "        Validity\n",
      "            Not Before: Jun 17 20:42:24 2024 GMT\n",
      "            Not After : Jul 18 20:42:24 2024 GMT\n",
      "        Subject: CN=WebRTC\n",
      "        Subject Public Key Info:\n",
      "            Public Key Algorithm: id-ecPublicKey\n",
      "                Public-Key: (256 bit)\n",
      "                pub:\n",
      "                    04:b1:dd:f6:43:18:12:67:a5:fb:79:b8:a7:95:e0:\n",
      "                    b5:ec:55:4c:73:0d:ea:54:9b:2c:c7:b3:dc:62:12:\n",
      "                    74:e9:fd:71:65:43:a7:a1:b4:e7:19:a6:09:cf:c0:\n",
      "                    d3:31:df:7e:34:38:00:7a:0b:cb:63:6e:f3:4f:16:\n",
      "                    a4:04:52:bc:65\n",
      "                ASN1 OID: prime256v1\n",
      "                NIST CURVE: P-256\n",
      "    Signature Algorithm: ecdsa-with-SHA256\n",
      "    Signature Value:\n",
      "        30:45:02:20:60:c0:df:b3:ed:0f:fc:fb:27:29:12:18:b5:35:\n",
      "        81:c9:91:38:93:8d:2a:3a:81:2d:71:4a:3b:c9:d4:ee:ad:b1:\n",
      "        02:21:00:b3:13:8e:f3:93:62:bc:90:83:b7:ca:15:14:dd:0a:\n",
      "        c6:5c:07:c4:fb:9e:4d:ea:1f:67:d5:eb:65:ad:cb:04:91\n",
      "\n"
     ]
    }
   ],
   "source": [
    "first_client_cert = None\n",
    "for cert in peer_cert['certificates_data']['certificates']:\n",
    "    x509 = OpenSSL.crypto.load_certificate(OpenSSL.crypto.FILETYPE_ASN1, cert['certificate'].bytes())\n",
    "    if first_client_cert is None:\n",
    "        first_client_cert = x509\n",
    "    print(OpenSSL.crypto.dump_certificate(OpenSSL.crypto.FILETYPE_TEXT, x509).decode('utf-8')) "
   ]
  },
  {
   "cell_type": "code",
   "execution_count": 35,
   "metadata": {},
   "outputs": [
    {
     "data": {
      "text/plain": [
       "b'EB:67:CB:B8:04:53:FA:94:41:77:1F:4D:E1:A4:4E:05:A7:DB:94:67:D4:2C:31:A1:F2:7B:B6:DC:3E:B7:7B:D8'"
      ]
     },
     "execution_count": 35,
     "metadata": {},
     "output_type": "execute_result"
    }
   ],
   "source": [
    "first_client_cert.digest('sha256')\n",
    "# TODO: assert digest"
   ]
  },
  {
   "cell_type": "code",
   "execution_count": 36,
   "metadata": {},
   "outputs": [
    {
     "data": {
      "text/plain": [
       "{'tls_version': 0xfefd,\n",
       " '_selector': 0x16,\n",
       " 'epoch': 0x0000,\n",
       " 'sequence_number': 0x000000000002,\n",
       " 'tls_handshake': {'type_and_length': 0x10000021,\n",
       "  'message_sequence': 0x0002,\n",
       "  'fragment_offset': 0x000000,\n",
       "  'fragment': 0x200e008a3eea7a856200d2bde1545b1dbe18dd0af4ba8c14ae25a175300edf6d0d}}"
      ]
     },
     "execution_count": 36,
     "metadata": {},
     "output_type": "execute_result"
    }
   ],
   "source": [
    "packet, rem1 = public_match(dtls_record_spec, rem)\n",
    "transcript += rem[13:-len(rem1)]\n",
    "packet"
   ]
  },
  {
   "cell_type": "code",
   "execution_count": 37,
   "metadata": {},
   "outputs": [
    {
     "data": {
      "text/plain": [
       "{'client_key_exchange': {'pubkey': 0x0e008a3eea7a856200d2bde1545b1dbe18dd0af4ba8c14ae25a175300edf6d0d},\n",
       " '_selector': 0x10}"
      ]
     },
     "execution_count": 37,
     "metadata": {},
     "output_type": "execute_result"
    }
   ],
   "source": [
    "record = packet['tls_handshake']['type_and_length'].bytes() + packet['tls_handshake']['fragment'].bytes()\n",
    "client_key_exchange, _ = public_match(handshake_spec, record)\n",
    "client_key_exchange"
   ]
  },
  {
   "cell_type": "code",
   "execution_count": 38,
   "metadata": {},
   "outputs": [
    {
     "data": {
      "text/plain": [
       "{'tls_version': 0xfefd,\n",
       " '_selector': 0x16,\n",
       " 'epoch': 0x0000,\n",
       " 'sequence_number': 0x000000000003,\n",
       " 'tls_handshake': {'type_and_length': 0x0f00004b,\n",
       "  'message_sequence': 0x0003,\n",
       "  'fragment_offset': 0x000000,\n",
       "  'fragment': 0x040300473045022100c3350b6990687ad15bc5301a2fa5924e0d4701d3a27ccf159875d13d6b1a5c7f022036047e063f3bce7b2faa7f8f01df45fe99ed31cbb72a07d0e6559ec936ae3414}}"
      ]
     },
     "execution_count": 38,
     "metadata": {},
     "output_type": "execute_result"
    }
   ],
   "source": [
    "packet, rem2 = public_match(dtls_record_spec, rem1)\n",
    "packet"
   ]
  },
  {
   "cell_type": "code",
   "execution_count": 39,
   "metadata": {},
   "outputs": [
    {
     "data": {
      "text/plain": [
       "{'certificate_verify': {'sig_algorithm': 0x0403,\n",
       "  'signature': 0x3045022100c3350b6990687ad15bc5301a2fa5924e0d4701d3a27ccf159875d13d6b1a5c7f022036047e063f3bce7b2faa7f8f01df45fe99ed31cbb72a07d0e6559ec936ae3414},\n",
       " '_selector': 0x0f}"
      ]
     },
     "execution_count": 39,
     "metadata": {},
     "output_type": "execute_result"
    }
   ],
   "source": [
    "record = packet['tls_handshake']['type_and_length'].bytes() + packet['tls_handshake']['fragment'].bytes()\n",
    "certificate_verify, _ = public_match(handshake_spec, record)\n",
    "certificate_verify"
   ]
  },
  {
   "cell_type": "code",
   "execution_count": 40,
   "metadata": {},
   "outputs": [],
   "source": [
    "first_client_cert.get_pubkey().to_cryptography_key().verify(\n",
    "    certificate_verify['certificate_verify']['signature'].bytes(),\n",
    "    transcript,\n",
    "    ec.ECDSA(hashes.SHA256()),\n",
    ")"
   ]
  },
  {
   "cell_type": "code",
   "execution_count": 41,
   "metadata": {},
   "outputs": [],
   "source": [
    "# transcript += rem1[13:-len(rem2)]\n",
    "# hhh = rem1[13:-len(rem2)]\n",
    "# transcript = transcript[:-len(hhh)]"
   ]
  },
  {
   "cell_type": "code",
   "execution_count": 42,
   "metadata": {},
   "outputs": [
    {
     "data": {
      "text/plain": [
       "{'tls_version': 0xfefd,\n",
       " '_selector': 0x14,\n",
       " 'epoch': 0x0000,\n",
       " 'sequence_number': 0x000000000004,\n",
       " 'change_cipher_spec_message': 0x01}"
      ]
     },
     "execution_count": 42,
     "metadata": {},
     "output_type": "execute_result"
    }
   ],
   "source": [
    "packet, rem3 = public_match(dtls_record_spec, rem2)\n",
    "packet"
   ]
  },
  {
   "cell_type": "code",
   "execution_count": 43,
   "metadata": {},
   "outputs": [
    {
     "name": "stdout",
     "output_type": "stream",
     "text": [
      "--------------\n",
      "{'client_hello': {'ms': 0x0000, 'fo': 0x000000, 'fl': 0x000084, 'version': 0xfefd, 'random': 0x52f888da2c913c60e93e72f034ae8dd3b2067917305829ade02580fc174f3421, 'session_id': '', 'cookie': '', 'suites': [0xc02b, 0xc02f, 0xcca9, 0xcca8, 0xc009, 0xc013, 0xc00a, 0xc014, 0x009c, 0x002f, 0x0035], 'compression': 0x00, 'extensions': [{'extended_master_secret': '', '_selector': 0x0017}, {'renegotiation_info': {'renegotiation_info': ''}, '_selector': 0xff01}, {'ext_supported_curves': {'data': [0x001d, 0x0017, 0x0018]}, '_selector': 0x000a}, {'ext_supported_points': {'supported_points': 0x00}, '_selector': 0x000b}, {'ext_session_tickets': '', '_selector': 0x0023}, {'ext_signature_algorithms': {'data': [0x0403, 0x0804, 0x0401, 0x0503, 0x0805, 0x0501, 0x0806, 0x0601, 0x0201]}, '_selector': 0x000d}, {'use_srtp': {'data': [0x0001, 0x0008, 0x0007], 'mki': ''}, '_selector': 0x000e}]}, '_selector': 0x01}\n",
      "--------------\n",
      "{'server_hello': {'ms': 0x0000, 'fo': 0x000000, 'fl': 0x000044, 'version': 0xfefd, 'random': 0x2dd93a4dd171b16cef3fd22029ab20c59938934d74b4c597b762f16ff261735b, 'session_id': '', 'suite': 0xc02b, 'compression': 0x00, 'extensions': [{'ext_master_secret': '', '_selector': 0x0017}, {'ext_renegotiation_info': {'secure_renegotitation': ''}, '_selector': 0xff01}, {'ext_supported_points': {'supported_points': 0x00}, '_selector': 0x000b}, {'ext_session_tickets': '', '_selector': 0x0023}, {'use_srtp': {'data': [0x0001], 'mki': ''}, '_selector': 0x000e}]}, '_selector': 0x02}\n",
      "--------------\n",
      "{'certificates_data': {'ms': 0x0001, 'fo': 0x000000, 'fl': 0x000113, 'certificates': [{'certificate': 0x308201093081b0020100300a06082a8648ce3d0403023011310f300d06035504030c06576562525443301e170d3234303631383230343233345a170d3234303631393230343233345a3011310f300d06035504030c065765625254433059301306072a8648ce3d020106082a8648ce3d03010703420004956136b0553fd49fec36cf71fd8633dd5d181c7c8fa20424f65ccf3ddefadca5dc53f986845c2503cfcef9b8cb3bcd69256a23c4e7003a9722ab1d57ba361cf6300a06082a8648ce3d0403020348003045022100af76716e162f51a00d73495828621180ad75c3ff5d3bb0819f3eaf1b5ee6e61e02203e2d8c1ec55d86777e5a0ecc8b84b11a1501d0a79de8f315b330beda107bd357}]}, '_selector': \"\u000b",
      "\"}\n",
      "--------------\n",
      "{'server_key_exchange': {'ms': 0x0002, 'fo': 0x000000, 'fl': 0x000070, 'curve_type': 0x03, 'named_curve': 0x001d, 'pubkey': 0x7a5d23220ea1de8a27804259a7ad02c31ad30c85f3f276df8bdd67c982226a40, 'sig_algorithm': 0x0403, 'signature': 0x3046022100c04e752f998a4481413bfcfdc5585506c2b1ad8e56be167110ac63fc4ff9a094022100cf8be68fd11d1a58b0917bdbfe854a719144cc3940d4b42c7021dd1f4bd69c93}, '_selector': \"\f",
      "\"}\n",
      "--------------\n",
      "\"}certificate_request': {'ms': 0x0003, 'fo': 0x000000, 'fl': 0x000019, 'cert_types': [{'cert_type': 0x01}, {'cert_type': \"@\"}], 'sig_hash_algs': [{'sig_hash_alg': 0x0403}, {'sig_hash_alg': 0x0804}, {'sig_hash_alg': 0x0401}, {'sig_hash_alg': 0x0503}, {'sig_hash_alg': 0x0805}, {'sig_hash_alg': 0x0501}, {'sig_hash_alg': 0x0806}, {'sig_hash_alg': 0x0601}, {'sig_hash_alg': 0x0201}], 'distinguished_names': ''}, '_selector': \"\n",
      "--------------\n",
      "{'server_hello_done': {'ms': 0x0004, 'fo': 0x000000, 'fl': 0x000000, '_undefined': ''}, '_selector': 0x0e}\n",
      "--------------\n",
      "{'certificates_data': {'ms': 0x0001, 'fo': 0x000000, 'fl': 0x00011f, 'certificates': [{'certificate': 0x308201153081bca00302010202087f02a3f419cc60ac300a06082a8648ce3d0403023011310f300d06035504030c06576562525443301e170d3234303631373230343232345a170d3234303731383230343232345a3011310f300d06035504030c065765625254433059301306072a8648ce3d020106082a8648ce3d03010703420004b1ddf643181267a5fb79b8a795e0b5ec554c730dea549b2cc7b3dc621274e9fd716543a7a1b4e719a609cfc0d331df7e3438007a0bcb636ef34f16a40452bc65300a06082a8648ce3d0403020348003045022060c0dfb3ed0ffcfb27291218b53581c99138938d2a3a812d714a3bc9d4eeadb1022100b3138ef39362bc9083b7ca1514dd0ac65c07c4fb9e4dea1f67d5eb65adcb0491}]}, '_selector': \"\u000b",
      "\"}\n",
      "--------------\n",
      "{'client_key_exchange': {'ms': 0x0002, 'fo': 0x000000, 'fl': 0x000021, 'pubkey': 0x0e008a3eea7a856200d2bde1545b1dbe18dd0af4ba8c14ae25a175300edf6d0d}, '_selector': 0x10}\n"
     ]
    }
   ],
   "source": [
    "import re\n",
    "handshake_spec2 = re.sub(r'^(:?8.+\\()', r'\\1 16@ms-24@fo-24@fl-', handshake_spec, count=0, flags=re.M)\n",
    "# print(handshake_spec2)\n",
    "asd = bytearray(transcript)\n",
    "while asd:\n",
    "    asd = bytearray(asd)\n",
    "    asd[3] += 8\n",
    "    rec, asd = public_match(handshake_spec2, asd)\n",
    "    print('--------------')\n",
    "    print(rec)"
   ]
  },
  {
   "cell_type": "code",
   "execution_count": 44,
   "metadata": {},
   "outputs": [],
   "source": [
    "encrypted_dtls_record_spec = \"\"\"\n",
    "8@content_type-16@tls_version-16@epoch-6B@sequence_number-16@encrypted_data()\n",
    "\"\"\""
   ]
  },
  {
   "cell_type": "code",
   "execution_count": 45,
   "metadata": {},
   "outputs": [
    {
     "data": {
      "text/plain": [
       "{'content_type': 0x16,\n",
       " 'tls_version': 0xfefd,\n",
       " 'epoch': 0x0001,\n",
       " 'sequence_number': 0x000000000000,\n",
       " 'encrypted_data': 0x0001000000000000ead81d41bee8cc3e1481c41047c361399eea42a91a1b6d80fdb95e60352d7f0e80fae53321ab7b1c}"
      ]
     },
     "execution_count": 45,
     "metadata": {},
     "output_type": "execute_result"
    }
   ],
   "source": [
    "packet, rem4 = public_match(encrypted_dtls_record_spec, rem3)\n",
    "# transcript += rem3[13:-len(rem4)]\n",
    "packet"
   ]
  },
  {
   "cell_type": "code",
   "execution_count": 46,
   "metadata": {},
   "outputs": [],
   "source": [
    "from cryptography.hazmat.primitives import hashes, hmac\n",
    "\n",
    "def HMAC_SHA256(secret, val):\n",
    "    h = hmac.HMAC(secret, hashes.SHA256())\n",
    "    h.update(val)\n",
    "    return h.finalize()\n",
    "\n",
    "def P_SHA256(secret, seed, l):\n",
    "    b = bytearray()\n",
    "    A = HMAC_SHA256(secret, seed)\n",
    "    while len(b) < l:\n",
    "        b += HMAC_SHA256(secret, A + seed)\n",
    "        A = HMAC_SHA256(secret, A)\n",
    "    return b[:l]\n",
    "\n",
    "def PRF(secret, label, seed, l):\n",
    "    return P_SHA256(secret, label + seed, l)"
   ]
  },
  {
   "cell_type": "code",
   "execution_count": 47,
   "metadata": {},
   "outputs": [],
   "source": [
    "def calculate_sha256(data):\n",
    "    digest = hashes.Hash(hashes.SHA256())\n",
    "    digest.update(data)\n",
    "    return digest.finalize()"
   ]
  },
  {
   "cell_type": "code",
   "execution_count": 48,
   "metadata": {},
   "outputs": [
    {
     "name": "stdout",
     "output_type": "stream",
     "text": [
      "calculated shared key b'\\x14\\x12\\x08\\xe9R\\xdb\\x9c\\x92[\\xff\\xf0[\\xfa_$\\xb4!,\\xd8\\x0f\\x88\\xf1\\x1a&\\x91\\x9b\\x84\\xd1\\xb1=@b'\n"
     ]
    }
   ],
   "source": [
    "shared_key = server_private_key.exchange(X25519PublicKey.from_public_bytes(client_key_exchange['client_key_exchange']['pubkey'].bytes()))\n",
    "print(\"calculated shared key\", shared_key)"
   ]
  },
  {
   "cell_type": "code",
   "execution_count": 49,
   "metadata": {},
   "outputs": [
    {
     "data": {
      "text/plain": [
       "'1c16fe213b147ace798e1e19f910a8a8e4c8247fe2192f5bfa071caa43aa709232e30260f524309d788185ad0ebf6322'"
      ]
     },
     "execution_count": 49,
     "metadata": {},
     "output_type": "execute_result"
    }
   ],
   "source": [
    "master_key = PRF(\n",
    "    shared_key,\n",
    "    b\"extended master secret\",\n",
    "    # client_hello['client_hello']['random'].bytes() + server_hello['server_hello']['random'],\n",
    "    calculate_sha256(transcript),\n",
    "    48,\n",
    ")\n",
    "master_key.hex()"
   ]
  },
  {
   "cell_type": "code",
   "execution_count": 50,
   "metadata": {},
   "outputs": [],
   "source": [
    "keyLen = 16\n",
    "ivLen  = 4\n",
    "\n",
    "raw_keys = PRF(\n",
    "    master_key,\n",
    "    b\"key expansion\",\n",
    "    server_hello['server_hello']['random'] + client_hello['client_hello']['random'].bytes(),\n",
    "    40,\n",
    ")\n",
    "\n",
    "client_write_key = raw_keys[:keyLen]\n",
    "raw_keys = raw_keys[keyLen:]\n",
    "\n",
    "server_write_key = raw_keys[:keyLen]\n",
    "raw_keys = raw_keys[keyLen:]\n",
    "\n",
    "client_write_iv = raw_keys[:ivLen]\n",
    "raw_keys = raw_keys[ivLen:]\n",
    "\n",
    "server_write_iv = raw_keys[:ivLen]"
   ]
  },
  {
   "cell_type": "code",
   "execution_count": 58,
   "metadata": {},
   "outputs": [],
   "source": [
    "from cryptography.hazmat.primitives.ciphers.aead import AESGCM\n",
    "\n",
    "aad_spec = \"\"\"16@epoch-6B@sequence_number-8@content_type-16@tls_version-16@data_length\"\"\"\n",
    "\n",
    "def decrypt_packet(packet, key, iv):\n",
    "    encrypted = packet['encrypted_data']\n",
    "    if not isinstance(encrypted, bytes):\n",
    "        encrypted = encrypted.bytes()\n",
    "\n",
    "    aad = packet.copy()\n",
    "    aad['data_length'] = len(encrypted) - 8 - 16\n",
    "    aad_encoded = bytearray(public_construct(aad_spec, aad))\n",
    "    aad_encoded[:8] = encrypted[:8]\n",
    "\n",
    "    cipher = AESGCM(key)\n",
    "    all_server_cert_packet_encoded = cipher.decrypt(iv + encrypted[:8], encrypted[8:], aad_encoded)\n",
    "    print(all_server_cert_packet_encoded)\n",
    "    all_server_cert_packet, _ = public_match(fragment_spec, all_server_cert_packet_encoded)\n",
    "    packet['tls_handshake'] = all_server_cert_packet\n",
    "    return packet\n",
    "    \n",
    "\n",
    "def encrypt_packet(packet, key, iv):\n",
    "    to_encrypt = public_construct(fragment_spec, packet['tls_handshake'])\n",
    "\n",
    "    aad = packet.copy()\n",
    "    aad['data_length'] = len(to_encrypt)\n",
    "    # aad['sequence_number'] = aad['tls_handshake']['message_sequence']\n",
    "    aad_encoded = public_construct(aad_spec, aad)\n",
    "    cipher = AESGCM(key)\n",
    "    encrypted_app_data = cipher.encrypt(iv + aad_encoded[:8], to_encrypt, aad_encoded)\n",
    "    packet['encrypted_data'] = aad_encoded[:8] + encrypted_app_data\n",
    "    packet['data_length'] = len(packet['encrypted_data'])\n",
    "    return packet"
   ]
  },
  {
   "cell_type": "code",
   "execution_count": 59,
   "metadata": {},
   "outputs": [
    {
     "name": "stdout",
     "output_type": "stream",
     "text": [
      "b'\\x14\\x00\\x00\\x0c\\x00\\x04\\x00\\x00\\x00\\x00\\x00\\x0c\\x00u\\x7f\\x1fy\\xa5#\\n\\x05v\\xd3_'\n",
      "{'content_type': 0x16, 'tls_version': 0xfefd, 'epoch': 0x0001, 'sequence_number': 0x000000000000, 'encrypted_data': 0x0001000000000000ead81d41bee8cc3e1481c41047c361399eea42a91a1b6d80fdb95e60352d7f0e80fae53321ab7b1c, 'tls_handshake': {'type_and_length': 0x1400000c, 'message_sequence': 0x0004, 'fragment_offset': 0x000000, 'fragment': 0x00757f1f79a5230a0576d35f}}\n"
     ]
    }
   ],
   "source": [
    "# print(len(client_write_iv + packet['epoch'].bytes()+packet['sequence_number'].bytes()))\n",
    "finished_fragment = decrypt_packet(\n",
    "    packet,\n",
    "    client_write_key,\n",
    "    client_write_iv,\n",
    ")\n",
    "finished_fragment\n",
    "print(finished_fragment)\n"
   ]
  },
  {
   "cell_type": "code",
   "execution_count": 53,
   "metadata": {},
   "outputs": [
    {
     "data": {
      "text/plain": [
       "'00757f1f79a5230a0576d35f'"
      ]
     },
     "execution_count": 53,
     "metadata": {},
     "output_type": "execute_result"
    }
   ],
   "source": [
    "record = finished_fragment['tls_handshake']['type_and_length'].bytes() + finished_fragment['tls_handshake']['fragment'].bytes()\n",
    "finished_msg, _ = public_match(handshake_spec, record)\n",
    "finished_msg['finished'].bytes().hex()"
   ]
  },
  {
   "cell_type": "code",
   "execution_count": 54,
   "metadata": {},
   "outputs": [],
   "source": [
    "# Add certificate verify message\n",
    "transcript += rem1[13:-len(rem2)]"
   ]
  },
  {
   "cell_type": "code",
   "execution_count": 55,
   "metadata": {},
   "outputs": [
    {
     "data": {
      "text/plain": [
       "'00757f1f79a5230a0576d35f'"
      ]
     },
     "execution_count": 55,
     "metadata": {},
     "output_type": "execute_result"
    }
   ],
   "source": [
    "client_verify_data = PRF(master_key, b\"client finished\", calculate_sha256(transcript), 12)\n",
    "client_verify_data.hex()"
   ]
  },
  {
   "cell_type": "code",
   "execution_count": 56,
   "metadata": {},
   "outputs": [],
   "source": [
    "assert client_verify_data == finished_msg['finished'].bytes(), \"client verify data mismatch\""
   ]
  },
  {
   "cell_type": "code",
   "execution_count": 57,
   "metadata": {},
   "outputs": [
    {
     "ename": "NameError",
     "evalue": "name 'finished' is not defined",
     "output_type": "error",
     "traceback": [
      "\u001b[0;31m---------------------------------------------------------------------------\u001b[0m",
      "\u001b[0;31mNameError\u001b[0m                                 Traceback (most recent call last)",
      "Cell \u001b[0;32mIn[57], line 5\u001b[0m\n\u001b[1;32m      1\u001b[0m encrypted_dtls_record \u001b[38;5;241m=\u001b[39m {\n\u001b[1;32m      2\u001b[0m     \u001b[38;5;124m\"\u001b[39m\u001b[38;5;124mtls_version\u001b[39m\u001b[38;5;124m\"\u001b[39m: \u001b[38;5;241m0xfeff\u001b[39m,\n\u001b[1;32m      3\u001b[0m     \u001b[38;5;124m\"\u001b[39m\u001b[38;5;124mepoch\u001b[39m\u001b[38;5;124m\"\u001b[39m: \u001b[38;5;241m1\u001b[39m,\n\u001b[1;32m      4\u001b[0m     \u001b[38;5;124m\"\u001b[39m\u001b[38;5;124msequence_number\u001b[39m\u001b[38;5;124m\"\u001b[39m: \u001b[38;5;241m0\u001b[39m,\n\u001b[0;32m----> 5\u001b[0m     \u001b[38;5;124m\"\u001b[39m\u001b[38;5;124mhandshake_data\u001b[39m\u001b[38;5;124m\"\u001b[39m: \u001b[38;5;28mbytes\u001b[39m(\u001b[43mfinished\u001b[49m),\n\u001b[1;32m      6\u001b[0m     \u001b[38;5;124m\"\u001b[39m\u001b[38;5;124m_selector\u001b[39m\u001b[38;5;124m\"\u001b[39m: \u001b[38;5;241m22\u001b[39m\n\u001b[1;32m      7\u001b[0m }\n\u001b[1;32m      8\u001b[0m encrypted_dtls_record_encoded \u001b[38;5;241m=\u001b[39m public_construct(encrypted_dtls_record_spec, encrypted_dtls_record)\n\u001b[1;32m      9\u001b[0m \u001b[38;5;66;03m# transcript += dtls_record_encoded[13:]\u001b[39;00m\n",
      "\u001b[0;31mNameError\u001b[0m: name 'finished' is not defined"
     ]
    }
   ],
   "source": [
    "encrypted_dtls_record = {\n",
    "    \"tls_version\": 0xfeff,\n",
    "    \"epoch\": 1,\n",
    "    \"sequence_number\": 0,\n",
    "    \"handshake_data\": bytes(finished),\n",
    "    \"_selector\": 22\n",
    "}\n",
    "encrypted_dtls_record_encoded = public_construct(encrypted_dtls_record_spec, encrypted_dtls_record)\n",
    "# transcript += dtls_record_encoded[13:]\n",
    "dtls_message_encoded += encrypted_dtls_record_encoded"
   ]
  },
  {
   "cell_type": "code",
   "execution_count": null,
   "metadata": {},
   "outputs": [],
   "source": [
    "len(aad['handshake_data'].bytes()) - 16"
   ]
  },
  {
   "cell_type": "code",
   "execution_count": null,
   "metadata": {},
   "outputs": [],
   "source": [
    "cipher = AESGCM(client_write_key)\n",
    "cipher.encrypt?"
   ]
  }
 ],
 "metadata": {
  "kernelspec": {
   "display_name": "Python 3 (ipykernel)",
   "language": "python",
   "name": "python3"
  },
  "language_info": {
   "codemirror_mode": {
    "name": "ipython",
    "version": 3
   },
   "file_extension": ".py",
   "mimetype": "text/x-python",
   "name": "python",
   "nbconvert_exporter": "python",
   "pygments_lexer": "ipython3",
   "version": "3.12.3"
  }
 },
 "nbformat": 4,
 "nbformat_minor": 4
}
