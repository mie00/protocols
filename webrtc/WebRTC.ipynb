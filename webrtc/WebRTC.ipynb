{
 "cells": [
  {
   "cell_type": "code",
   "execution_count": null,
   "metadata": {},
   "outputs": [],
   "source": [
    "import sys\n",
    "sys.path.append('..')"
   ]
  },
  {
   "cell_type": "code",
   "execution_count": 1,
   "metadata": {},
   "outputs": [],
   "source": [
    "running = False\n",
    "try:\n",
    "    sock.close()\n",
    "except:\n",
    "    pass"
   ]
  },
  {
   "cell_type": "code",
   "execution_count": 3,
   "metadata": {},
   "outputs": [],
   "source": [
    "from new_parser import construct, match, match_exact"
   ]
  },
  {
   "cell_type": "code",
   "execution_count": 4,
   "metadata": {
    "ExecuteTime": {
     "end_time": "2022-02-17T12:21:51.932612Z",
     "start_time": "2022-02-17T12:21:51.926891Z"
    }
   },
   "outputs": [],
   "source": [
    "from utils import SocketReader"
   ]
  },
  {
   "cell_type": "code",
   "execution_count": 5,
   "metadata": {},
   "outputs": [],
   "source": [
    "import math"
   ]
  },
  {
   "cell_type": "code",
   "execution_count": 6,
   "metadata": {},
   "outputs": [],
   "source": [
    "rmeote_offer = \"\"\"v=0\n",
    "o=- 4912609901749366419 2 IN IP4 127.0.0.1\n",
    "s=-\n",
    "t=0 0\n",
    "a=group:BUNDLE 0\n",
    "a=extmap-allow-mixed\n",
    "a=msid-semantic: WMS\n",
    "m=application 60976 UDP/DTLS/SCTP webrtc-datachannel\n",
    "c=IN IP4 35.226.7.11\n",
    "a=candidate:1864292712 1 udp 2113937151 63118ac4-e909-4fa4-84e1-2bcf0c4999e3.local 60976 typ host generation 0 network-cost 999\n",
    "a=candidate:916458619 1 udp 1677729535 35.226.7.11 60976 typ srflx raddr 0.0.0.0 rport 0 generation 0 network-cost 999\n",
    "a=ice-ufrag:pXw2\n",
    "a=ice-pwd:A21AA3M8FWVJQ/QFDFxon+tg\n",
    "a=ice-options:trickle\n",
    "a=fingerprint:sha-256 FB:53:9E:49:62:01:25:B8:4F:3E:2B:F7:8C:C0:3D:FC:52:35:6E:9A:6A:4D:3B:26:F8:71:1C:FC:6E:4D:F0:F4\n",
    "a=setup:actpass\n",
    "a=mid:0\n",
    "a=sctp-port:5000\n",
    "a=max-message-size:262144\n",
    "\n",
    "\"\"\""
   ]
  },
  {
   "cell_type": "code",
   "execution_count": 7,
   "metadata": {},
   "outputs": [
    {
     "data": {
      "text/plain": [
       "('35.226.7.11', 60976, 'pXw2', 'A21AA3M8FWVJQ/QFDFxon+tg')"
      ]
     },
     "execution_count": 7,
     "metadata": {},
     "output_type": "execute_result"
    }
   ],
   "source": [
    "for line in rmeote_offer.splitlines():\n",
    "    if 'a=candidate:' in line and '.local' not in line:\n",
    "        res = line.split(' ')\n",
    "        target_ip = res[4]\n",
    "        target_port = int(res[5])\n",
    "    if 'a=ice-ufrag:' in line:\n",
    "        remote_ufrag = line.split(':')[1]\n",
    "    if 'a=ice-pwd:' in line:\n",
    "        remote_pwd = line.split(':')[1]\n",
    "\n",
    "target_ip_num = 0\n",
    "for i, seg in enumerate(target_ip.split('.')):\n",
    "    target_ip_num += int(seg) * (256**(3-i))\n",
    "\n",
    "target_ip, target_port, remote_ufrag, remote_pwd"
   ]
  },
  {
   "cell_type": "code",
   "execution_count": 8,
   "metadata": {},
   "outputs": [
    {
     "data": {
      "text/plain": [
       "'bpSftNCsadQ'"
      ]
     },
     "execution_count": 8,
     "metadata": {},
     "output_type": "execute_result"
    }
   ],
   "source": [
    "import random, string\n",
    "len_remote_ufrag = len(remote_ufrag)\n",
    "# len_remote_ufrag = 4 # chrome\n",
    "local_ufrag = ''.join(random.choice(string.ascii_uppercase + string.ascii_lowercase + string.digits) for _ in range(16 - len_remote_ufrag - 1))\n",
    "local_pwd = 'AgLw44VDUK531eYVCMpZMAjF'\n",
    "local_ufrag"
   ]
  },
  {
   "cell_type": "code",
   "execution_count": 9,
   "metadata": {},
   "outputs": [
    {
     "data": {
      "text/plain": [
       "'found 87.212.158.114:45459 while source port is 45459'"
      ]
     },
     "execution_count": 9,
     "metadata": {},
     "output_type": "execute_result"
    }
   ],
   "source": [
    "from stun import do_stun\n",
    "import random\n",
    "sport = random.randrange(30000, 50000)\n",
    "ip, port = do_stun(sport)\n",
    "f\"found {ip}:{port} while source port is {sport}\""
   ]
  },
  {
   "cell_type": "code",
   "execution_count": 10,
   "metadata": {},
   "outputs": [
    {
     "name": "stdout",
     "output_type": "stream",
     "text": [
      "Certificate:\n",
      "    Data:\n",
      "        Version: 3 (0x2)\n",
      "        Serial Number:\n",
      "            b8:7b:0d:9a:c9:14:2e:f9\n",
      "        Signature Algorithm: ecdsa-with-SHA256\n",
      "        Issuer: CN=WebRTC\n",
      "        Validity\n",
      "            Not Before: Jul  8 12:54:15 2024 GMT\n",
      "            Not After : Jul  9 12:54:15 2024 GMT\n",
      "        Subject: CN=WebRTC\n",
      "        Subject Public Key Info:\n",
      "            Public Key Algorithm: id-ecPublicKey\n",
      "                Public-Key: (256 bit)\n",
      "                pub:\n",
      "                    04:da:5d:9c:c0:ee:1f:5f:9b:59:dd:93:96:ba:5a:\n",
      "                    54:a5:0d:45:6e:1f:15:6e:e1:c7:d3:0b:90:3e:3b:\n",
      "                    b4:1c:d9:ec:6c:9f:8a:94:55:80:5d:7f:57:63:ac:\n",
      "                    83:cb:fd:56:c3:66:df:97:ac:d3:12:d9:81:91:5e:\n",
      "                    25:87:88:73:8d\n",
      "                ASN1 OID: prime256v1\n",
      "                NIST CURVE: P-256\n",
      "    Signature Algorithm: ecdsa-with-SHA256\n",
      "    Signature Value:\n",
      "        30:46:02:21:00:d4:36:94:84:01:88:fd:2c:04:06:d1:78:12:\n",
      "        6e:36:82:4d:4c:c3:c9:22:c2:9c:4f:f0:91:17:43:4a:f6:87:\n",
      "        53:02:21:00:c6:6c:07:f2:76:14:74:5b:db:76:a4:6d:e8:1d:\n",
      "        6a:ee:8f:d3:e4:f5:8d:88:aa:65:c8:bd:78:34:ef:21:2b:52\n",
      "\n"
     ]
    },
    {
     "data": {
      "text/plain": [
       "'FD:04:01:01:24:3E:40:8E:F7:4A:A2:A6:4C:78:5D:FE:D3:E5:1E:30:97:1D:02:01:F0:BD:1A:59:F6:28:39:D3'"
      ]
     },
     "execution_count": 10,
     "metadata": {},
     "output_type": "execute_result"
    }
   ],
   "source": [
    "from cryptography.hazmat.primitives.asymmetric import ec\n",
    "from cryptography.hazmat.primitives import serialization\n",
    "import OpenSSL.crypto\n",
    "\n",
    "own_cert_private_key = ec.generate_private_key(ec.SECP256R1())\n",
    "\n",
    "own_cert_private_key_bytes = own_cert_private_key.private_bytes(\n",
    "    encoding=serialization.Encoding.PEM,\n",
    "    format=serialization.PrivateFormat.PKCS8,\n",
    "    encryption_algorithm=serialization.NoEncryption()\n",
    ")\n",
    "\n",
    "\n",
    "privkey = OpenSSL.crypto.load_privatekey(OpenSSL.crypto.FILETYPE_PEM, own_cert_private_key_bytes)\n",
    "\n",
    "pubkey = OpenSSL.crypto.load_publickey(OpenSSL.crypto.FILETYPE_PEM,\n",
    "                                     own_cert_private_key.public_key().public_bytes(\n",
    "                                         encoding=serialization.Encoding.PEM,\n",
    "                                         format=serialization.PublicFormat.SubjectPublicKeyInfo,\n",
    "                                     )\n",
    "                                    )\n",
    "\n",
    "local_cert = OpenSSL.crypto.X509()\n",
    "local_cert.set_version(2)\n",
    "local_cert.gmtime_adj_notBefore(0)\n",
    "local_cert.gmtime_adj_notAfter(1 * 24 * 60 * 60)\n",
    "local_cert.get_issuer().CN = 'WebRTC'\n",
    "local_cert.get_subject().CN = 'WebRTC'\n",
    "local_cert.set_serial_number(random.randrange(1<<63, 1<<64))\n",
    "local_cert.set_pubkey(pubkey)\n",
    "local_cert.sign(privkey, 'sha256') \n",
    "print(OpenSSL.crypto.dump_certificate(OpenSSL.crypto.FILETYPE_TEXT, local_cert).decode('utf-8')) \n",
    "local_cert_sha = local_cert.digest('sha256').decode('utf-8')\n",
    "local_cert_sha"
   ]
  },
  {
   "cell_type": "code",
   "execution_count": 11,
   "metadata": {},
   "outputs": [
    {
     "name": "stdout",
     "output_type": "stream",
     "text": [
      "v=0\n",
      "o=- 7407514470269221864 2 IN IP4 127.0.0.1\n",
      "s=-\n",
      "t=0 0\n",
      "a=group:BUNDLE 0\n",
      "a=extmap-allow-mixed\n",
      "a=msid-semantic: WMS\n",
      "m=application 45459 UDP/DTLS/SCTP webrtc-datachannel\n",
      "c=IN IP4 87.212.158.114\n",
      "a=candidate:3055715734 1 udp 1677729535 87.212.158.114 45459 typ srflx raddr 0.0.0.0 rport 0 generation 0 network-cost 999\n",
      "a=ice-ufrag:bpSftNCsadQ\n",
      "a=ice-pwd:AgLw44VDUK531eYVCMpZMAjF\n",
      "a=ice-options:trickle\n",
      "a=fingerprint:sha-256 FD:04:01:01:24:3E:40:8E:F7:4A:A2:A6:4C:78:5D:FE:D3:E5:1E:30:97:1D:02:01:F0:BD:1A:59:F6:28:39:D3\n",
      "a=setup:active\n",
      "a=mid:0\n",
      "a=sctp-port:5000\n",
      "a=max-message-size:262144\n",
      "\n"
     ]
    }
   ],
   "source": [
    "local_offer = f\"\"\"v=0\n",
    "o=- 7407514470269221864 2 IN IP4 127.0.0.1\n",
    "s=-\n",
    "t=0 0\n",
    "a=group:BUNDLE 0\n",
    "a=extmap-allow-mixed\n",
    "a=msid-semantic: WMS\n",
    "m=application {port} UDP/DTLS/SCTP webrtc-datachannel\n",
    "c=IN IP4 {ip}\n",
    "a=candidate:3055715734 1 udp 1677729535 {ip} {port} typ srflx raddr 0.0.0.0 rport 0 generation 0 network-cost 999\n",
    "a=ice-ufrag:{local_ufrag}\n",
    "a=ice-pwd:{local_pwd}\n",
    "a=ice-options:trickle\n",
    "a=fingerprint:sha-256 {local_cert_sha}\n",
    "a=setup:active\n",
    "a=mid:0\n",
    "a=sctp-port:5000\n",
    "a=max-message-size:262144\n",
    "\"\"\"\n",
    "print(local_offer)"
   ]
  },
  {
   "cell_type": "code",
   "execution_count": 12,
   "metadata": {},
   "outputs": [],
   "source": [
    "stun_header_spec = \"\"\"\n",
    "2@zeroes\n",
    "-14@message_type\n",
    "-16@message_length\n",
    "-32@magic_cookie\n",
    "-96@transaction_id\n",
    "\"\"\"\n",
    "\n",
    "padding_0_attribute_spec = \"\"\"\n",
    "...(\n",
    "    16==0x20@_selector-16@xor_mapped_ip(\n",
    "        8@zeroes\n",
    "        -8@family\n",
    "        -16@port\n",
    "        -32@ip\n",
    "    )\n",
    "    |16==0x06@_selector-16@username()\n",
    "    |16==0x08@_selector-16@message_integrity(20B@hmac)\n",
    "    |16==0x25@_selector-16@use_candidate()\n",
    "    |16==0x8029@_selector-16@ice_controlled(8B@tie_breaker)\n",
    "    |16==0x802a@_selector-16@ice_controlling(8B@tie_breaker)\n",
    "    |16==0x24@_selector-16@priority(4B@priority)\n",
    "    |16==0x8028@_selector-16@fingerprint(4B@crc32)\n",
    "    |16@selector-16@data()\n",
    ")\n",
    "\"\"\"\n",
    "\n",
    "import random\n",
    "magic_cookie = 0x2112A442 # constant"
   ]
  },
  {
   "cell_type": "code",
   "execution_count": 13,
   "metadata": {},
   "outputs": [],
   "source": [
    "from cryptography.hazmat.primitives import hashes\n",
    "from cryptography.hazmat.primitives.hmac import HMAC\n",
    "\n",
    "def get_message_integrity(msg, key):\n",
    "    msg = bytearray(msg)\n",
    "    msg[3] = len(msg) + 24 - 20\n",
    "    hm = HMAC(key, hashes.SHA1())\n",
    "    hm.update(msg)\n",
    "    return hm.finalize()\n",
    "\n",
    "def append_message_integrity(msg, key):\n",
    "    hmac = get_message_integrity(msg, key)\n",
    "    attrs = [{\"message_integrity\": {\"hmac\": hmac}, \"_selector\": 0x08}]\n",
    "    msg = bytearray(msg)\n",
    "    msg += construct(padding_0_attribute_spec, attrs)\n",
    "    msg[3] = len(msg) - 20\n",
    "    return msg\n",
    "\n",
    "import binascii\n",
    "def append_fingerprint(msg):\n",
    "    msg = bytearray(msg)\n",
    "    msg[3] = len(msg) + 8 - 20\n",
    "    crc32 = binascii.crc32(msg) ^ 0x5354554e\n",
    "    attrs = [{\"fingerprint\": {\"crc32\": crc32}, \"_selector\": 0x8028}]\n",
    "    msg += construct(padding_0_attribute_spec, attrs)\n",
    "    return msg\n",
    "    \n",
    "\n",
    "\n",
    "# v = \"\"\"000100502112a4427139396c466f2b2f642f48650006000952556d333a4e6b4b36000000c0570004000003e7802a00084f02cc537c6985ff00250000002400046e001eff00080014ed4243520504f6eeefe90146a25142054ab03a4380280004f0c40a27\"\"\"\n",
    "# msgm = bytes.fromhex(v)\n",
    "# should_be = msgm[-28:-8].hex()\n",
    "# print('should be', should_be)\n",
    "# msgm = bytearray(msgm[:-8][:-24])\n",
    "# key = b'7bjW8vqNNZPvdFDCa3IJ3J7E'\n",
    "# print(v)\n",
    "# print(append_fingerprint(append_message_integrity(msgm, key)).hex())\n"
   ]
  },
  {
   "cell_type": "code",
   "execution_count": 14,
   "metadata": {},
   "outputs": [],
   "source": [
    "def create_response(transaction_id):\n",
    "    attributes = [\n",
    "        {'xor_mapped_ip': {'zeroes': 0x00,\n",
    "       'family': 0x01,\n",
    "       'port': target_port  ^ (magic_cookie >> 16),\n",
    "       'ip': target_ip_num  ^ (magic_cookie)},\n",
    "      '_selector': 0x0020}\n",
    "    ]\n",
    "    \n",
    "    msg = construct(padding_0_attribute_spec, attributes)\n",
    "    \n",
    "    stun_header = {\n",
    "        \"zeroes\": 0,\n",
    "        # +--+--+-+-+-+-+-+-+-+-+-+-+-+-+\n",
    "        # |M |M |M|M|M|C|M|M|M|C|M|M|M|M|\n",
    "        # |11|10|9|8|7|1|6|5|4|0|3|2|1|0|\n",
    "        # +--+--+-+-+-+-+-+-+-+-+-+-+-+-+\n",
    "        \"message_type\": 0b00000100000001,\n",
    "        \"message_length\": len(msg)+24,\n",
    "        \"magic_cookie\": magic_cookie,\n",
    "        \"transaction_id\": transaction_id,\n",
    "    }\n",
    "    \n",
    "    msg = construct(stun_header_spec, stun_header) + msg\n",
    "    msg = append_message_integrity(msg, local_pwd.encode('utf-8'))\n",
    "    msg = append_fingerprint(msg)\n",
    "    return msg\n",
    "\n",
    "def create_request():\n",
    "    attributes = [\n",
    "        {\"username\": remote_ufrag+':'+local_ufrag, \"_selector\": 0x06},\n",
    "        # {\"use_candidate\": \"\", \"_selector\": 0x25},\n",
    "        # {\"ice_controlling\": {\"tie_breaker\": 0x6569bb58ab364c66}, \"_selector\": 0x802a},\n",
    "        {\"ice_controlled\": {\"tie_breaker\": 0x6569bb58ab364c66}, \"_selector\": 0x8029},\n",
    "        {\"priority\": {\"priority\": 0x6e001eff}, \"_selector\": 0x24},\n",
    "    ]\n",
    "    \n",
    "    msg = construct(padding_0_attribute_spec, attributes)\n",
    "    \n",
    "    stun_header = {\n",
    "        \"zeroes\": 0,\n",
    "        # +--+--+-+-+-+-+-+-+-+-+-+-+-+-+\n",
    "        # |M |M |M|M|M|C|M|M|M|C|M|M|M|M|\n",
    "        # |11|10|9|8|7|1|6|5|4|0|3|2|1|0|\n",
    "        # +--+--+-+-+-+-+-+-+-+-+-+-+-+-+\n",
    "        \"message_type\": 0b00000000000001,\n",
    "        \"message_length\": len(msg)+24,\n",
    "        \"magic_cookie\": magic_cookie,\n",
    "        \"transaction_id\": random.randrange(1<<96),\n",
    "    }\n",
    "    \n",
    "    msg = construct(stun_header_spec, stun_header) + msg\n",
    "    msg = append_message_integrity(msg, remote_pwd.encode('utf-8'))\n",
    "    msg = append_fingerprint(msg)\n",
    "    return msg\n"
   ]
  },
  {
   "cell_type": "code",
   "execution_count": 15,
   "metadata": {
    "ExecuteTime": {
     "end_time": "2022-02-17T12:21:52.581795Z",
     "start_time": "2022-02-17T12:21:52.576699Z"
    }
   },
   "outputs": [],
   "source": [
    "try:\n",
    "    sock.close()\n",
    "except:\n",
    "    pass\n",
    "\n",
    "sock = SocketReader(target_ip, target_port, 'udp')\n",
    "\n",
    "sock.connect(source_port=sport)"
   ]
  },
  {
   "cell_type": "code",
   "execution_count": null,
   "metadata": {
    "scrolled": true
   },
   "outputs": [],
   "source": [
    "running = True\n",
    "import time\n",
    "from queue import Queue\n",
    "\n",
    "dts_queue = Queue(maxsize=10)\n",
    "\n",
    "last_received = time.time()\n",
    "\n",
    "def handler():\n",
    "    while running:\n",
    "        resp = sock.read_once()\n",
    "        if resp[1] == 0xfe and resp[2] == 0xfd:\n",
    "            dts_queue.put(resp)\n",
    "        res, rem = match(stun_header_spec, resp)\n",
    "        if res['message_type'] != 0b00000000000001:\n",
    "            continue\n",
    "        pkg = create_response(res['transaction_id'])\n",
    "        sock.send(pkg)\n",
    "        print('+', end='')\n",
    "        last_received = time.time()\n",
    "\n",
    "def sender():\n",
    "    while running:\n",
    "        sock.send(create_request())\n",
    "        print('*', end='')\n",
    "        time.sleep(2 if time.time() - last_received < 6 else 0.2)\n",
    "\n",
    "import threading\n",
    "threading.Thread(target=handler).start()\n",
    "threading.Thread(target=sender).start()"
   ]
  },
  {
   "cell_type": "code",
   "execution_count": 17,
   "metadata": {
    "ExecuteTime": {
     "end_time": "2022-02-17T12:25:43.264567Z",
     "start_time": "2022-02-17T12:25:43.259208Z"
    }
   },
   "outputs": [],
   "source": [
    "# resp = b'\\x00\\x01\\x00T!\\x12\\xa4BCoSb+9vJZAMc\\x00\\x06\\x00\\x10MbsxgZXWdKc:RqEE\\xc0W\\x00\\x04\\x00\\x00\\x03\\xe7\\x80*\\x00\\x08\\xaba\\x05\\x95\\x95\\xf0.\\xd4\\x00%\\x00\\x00\\x00$\\x00\\x04n\\x00\\x1e\\xff\\x00\\x08\\x00\\x14\\xa2*6)\\xef(\"\\x05,~oB\\x1e~,\\x1dO\\x0c\\xc1\\xea\\x80(\\x00\\x04\\xca\\r\\xec\\x89'\n",
    "# from new_parser import match\n",
    "# match(stun_header_spec, resp)\n"
   ]
  },
  {
   "cell_type": "code",
   "execution_count": 18,
   "metadata": {},
   "outputs": [],
   "source": [
    "transcript = b''"
   ]
  },
  {
   "cell_type": "code",
   "execution_count": 19,
   "metadata": {},
   "outputs": [],
   "source": [
    "handshake_spec = \"\"\"\n",
    "8==1@_selector-24@client_hello(\n",
    "    16@version\n",
    "    -32B@random\n",
    "    -8@session_id()\n",
    "    -8@cookie()\n",
    "    -16@suites(...16)\n",
    "    -8@compression(...8)\n",
    "    -16(\n",
    "        ...@extensions(\n",
    "            16==23@_selector-16@extended_master_secret()\n",
    "            |16==0xff01@_selector-16@renegotiation_info(8@renegotiation_info())\n",
    "            |16==10@_selector-16@ext_supported_curves(\n",
    "                16@data(...16)\n",
    "            )\n",
    "            |16==11@_selector-16@ext_supported_points(\n",
    "                8@supported_points(...8)\n",
    "            )\n",
    "            |16==35@_selector-16@ext_session_tickets()\n",
    "            |16==13@_selector-16@ext_signature_algorithms(\n",
    "                16@data(...16)\n",
    "            )\n",
    "            |16==14@_selector-16@use_srtp(\n",
    "                16@data(...16)\n",
    "                -8@mki()\n",
    "            )\n",
    "            |16@selector-16@raw_extension()\n",
    "        )\n",
    "    )\n",
    ")\n",
    "|8==2@_selector-24@server_hello(\n",
    "    16@version\n",
    "    -32B@random\n",
    "    -8@session_id()\n",
    "    -16@suite\n",
    "    -8@compression\n",
    "    -16(\n",
    "        ...@extensions(\n",
    "            16==23@_selector-16@ext_master_secret()\n",
    "            |16==11@_selector-16@ext_supported_points(\n",
    "                8@supported_points(...8)\n",
    "            )\n",
    "            |16==35@_selector-16@ext_session_tickets()\n",
    "            |16==5@_selector-16@ext_status_request(\n",
    "                8@status_type\n",
    "                -16@responder_id_list\n",
    "                -16@request_extensions\n",
    "            )\n",
    "            |16==0xff01@_selector-16@ext_renegotiation_info(\n",
    "                8@secure_renegotitation()\n",
    "            )\n",
    "            |16==14@_selector-16@use_srtp(\n",
    "                16@data(...16)\n",
    "                -8@mki()\n",
    "            )\n",
    "            |16@selector-16@raw_extension()\n",
    "        )\n",
    "    )\n",
    ")\n",
    "|8==11@_selector-24@certificates_data(\n",
    "    24@certificates(\n",
    "        ...(\n",
    "            24@certificate()\n",
    "        )\n",
    "    )\n",
    ")\n",
    "|8==12@_selector-24@server_key_exchange(\n",
    "    8@curve_type\n",
    "    -16@named_curve\n",
    "    -8@pubkey()\n",
    "    -16@sig_algorithm\n",
    "    -16@signature()\n",
    ")\n",
    "|8==13@_selector-24@certificate_request(\n",
    "    8@cert_types(...(8@cert_type))\n",
    "    -16@sig_hash_algs(...(16@sig_hash_alg))\n",
    "    -16@distinguished_names()\n",
    ")\n",
    "|8==14@_selector-24@server_hello_done()\n",
    "|8==16@_selector-24@client_key_exchange(\n",
    "    8@pubkey()\n",
    ")\n",
    "|8==15@_selector-24@certificate_verify(\n",
    "    16@sig_algorithm\n",
    "    -16@signature()\n",
    ")\n",
    "|8==4@_selector-24@new_session_ticket(\n",
    "    4B@lifetime_hint\n",
    "    -16@session_ticket()\n",
    ")\n",
    "|8==20@_selector-24@finished(12B@checksum)\n",
    "\"\"\"\n",
    "\n",
    "fragment_spec = \"\"\"\n",
    "4B@type_and_length\n",
    "-16@message_sequence\n",
    "-24@fragment_offset\n",
    "-24@fragment()\n",
    "\"\"\"\n",
    "\n",
    "dtls_record_spec = \"\"\"\n",
    "8==22@_selector-16@tls_version-16@epoch-6B@sequence_number-16@tls_handshake(%s)\n",
    "|8==20@_selector-16@tls_version-16@epoch-6B@sequence_number-16@change_cipher_spec_message()\n",
    "\"\"\"%fragment_spec"
   ]
  },
  {
   "cell_type": "code",
   "execution_count": 20,
   "metadata": {},
   "outputs": [
    {
     "data": {
      "text/plain": [
       "b'\\x16\\xfe\\xfd\\x00\\x00\\x00\\x00\\x00\\x00\\x00\\x00\\x00\\x90\\x01\\x00\\x00\\x84\\x00\\x00\\x00\\x00\\x00\\x00\\x00\\x84\\xfe\\xfd-\\xd9:M\\xd1q\\xb1l\\xef?\\xd2 )\\xab \\xc5\\x998\\x93Mt\\xb4\\xc5\\x97\\xb7b\\xf1o\\xf2as[\\x00\\x00\\x00\\x16\\xc0+\\xc0/\\xcc\\xa9\\xcc\\xa8\\xc0\\t\\xc0\\x13\\xc0\\n\\xc0\\x14\\x00\\x9c\\x00/\\x005\\x01\\x00\\x00D\\x00\\x17\\x00\\x00\\xff\\x01\\x00\\x01\\x00\\x00\\n\\x00\\x08\\x00\\x06\\x00\\x1d\\x00\\x17\\x00\\x18\\x00\\x0b\\x00\\x02\\x01\\x00\\x00#\\x00\\x00\\x00\\r\\x00\\x14\\x00\\x12\\x04\\x03\\x08\\x04\\x04\\x01\\x05\\x03\\x08\\x05\\x05\\x01\\x08\\x06\\x06\\x01\\x02\\x01\\x00\\x0e\\x00\\t\\x00\\x06\\x00\\x01\\x00\\x08\\x00\\x07\\x00'"
      ]
     },
     "execution_count": 20,
     "metadata": {},
     "output_type": "execute_result"
    }
   ],
   "source": [
    "client_hello = {\n",
    "    'client_hello': {\n",
    "        'version': 0xfefd,\n",
    "        'random': bytes.fromhex('2dd93a4dd171b16cef3fd22029ab20c59938934d74b4c597b762f16ff261735b'),\n",
    "        'session_id': '',\n",
    "        'cookie': '',\n",
    "        # 'suites': [0xc02b],\n",
    "        'suites': [0xc02b, 0xc02f, 0xcca9, 0xcca8, 0xc009, 0xc013, 0xc00a, 0xc014, 0x009c, 0x002f, 0x0035],\n",
    "        'compression': [0x00],\n",
    "        'extensions': [\n",
    "            {\n",
    "                'extended_master_secret': '', '_selector': 23\n",
    "            },\n",
    "            {\n",
    "                'renegotiation_info': {\n",
    "                    'renegotiation_info': '',\n",
    "                }, '_selector': 0xff01\n",
    "            },\n",
    "            {\n",
    "                'ext_supported_curves': {\n",
    "                    # 'data': [0x001d]\n",
    "                    'data': [0x001d, 0x0017, 0x0018]\n",
    "                }, '_selector': 0x000a\n",
    "            },\n",
    "            {\n",
    "                'ext_supported_points': {\n",
    "                    'supported_points': [0x00]\n",
    "                }, '_selector': 0x000b\n",
    "            },\n",
    "            {\n",
    "                'ext_session_tickets': '', '_selector': 35\n",
    "            },\n",
    "            {\n",
    "                'ext_signature_algorithms': {\n",
    "                    # 'data': [0x0403]\n",
    "                    'data': [0x0403, 0x0804, 0x0401, 0x0503, 0x0805, 0x0501, 0x0806, 0x0601, 0x0201]\n",
    "                }, '_selector': 0x000d\n",
    "            },\n",
    "            {\n",
    "                'use_srtp': {\n",
    "                    # 'data': [0x0001],\n",
    "                    'data': [0x0001, 0x0008, 0x0007],\n",
    "                    'mki': ''\n",
    "                }, '_selector': 14\n",
    "            }\n",
    "        ]\n",
    "    },\n",
    "    '_selector': 0x01\n",
    "}\n",
    "\n",
    "client_hello_encoded = construct(handshake_spec, client_hello)\n",
    "\n",
    "\n",
    "\n",
    "dtls_record = {\n",
    "    \"tls_version\": 0xfefd,\n",
    "    \"tls_handshake\": {\n",
    "        'type_and_length': client_hello_encoded[:4],\n",
    "        'message_sequence': 0,\n",
    "        'fragment_offset': 0,\n",
    "        'fragment': client_hello_encoded[4:],\n",
    "    },\n",
    "    \"epoch\": 0,\n",
    "    \"sequence_number\": 0,\n",
    "    \"_selector\": 22\n",
    "}\n",
    "dtls_record_encoded = construct(dtls_record_spec, dtls_record)\n",
    "\n",
    "dtls_record_encoded"
   ]
  },
  {
   "cell_type": "code",
   "execution_count": 21,
   "metadata": {},
   "outputs": [],
   "source": [
    "transcript += dtls_record_encoded[13:]\n",
    "sock.send(dtls_record_encoded)"
   ]
  },
  {
   "cell_type": "code",
   "execution_count": 22,
   "metadata": {},
   "outputs": [],
   "source": [
    "# msg = bytes.fromhex(\"16fefd00000000000000000050020000440000000000000044fefd666d5aac48243def6a5466b05ba62cbf15f4eea136c99df59f782732ef9d558900c02b00001c00170000ff01000100000b0002010000230000000e0005000200010016fefd0000000000000001012c0b000120000100000000012000011d00011a308201163081bda0030201020209008bff228a3f27c618300a06082a8648ce3d0403023011310f300d06035504030c06576562525443301e170d3234303631343039303932315a170d3234303731353039303932315a3011310f300d06035504030c065765625254433059301306072a8648ce3d020106082a8648ce3d03010703420004a7990ef7c6e5f1a8c29e5cdb4b3e4cb1dc376b48ffd392751dc6fd763de583ee77a65da77341fbeed4e83fb1a09d4f1c621c89d9d974e50a0339ed4d380c46bb300a06082a8648ce3d0403020348003045022100a07ff3282ccb96a42387a8851d0b26a42a5f1082789fe8f682df50fbccb35a8202201dc64921ff9358f5bdec2a644c0597312f5cea62f295b875daf0e6bb1fe3c3e916fefd0000000000000002007c0c000070000200000000007003001d20eb7088c2a60f227ef9bdb01a5082a34048ff182b9e142afcb40c07b368fea016040300483046022100fec9df11479090a9553f1497c7707e4146100af1f9e5f36c60f9a4c421c5f419022100e494e6bb2765926893edd08f028cf692d69e7534affa89756802768a7bdc956816fefd000000000000000300250d00001900030000000000190201400012040308040401050308050501080606010201000016fefd0000000000000004000c0e0000000004000000000000\")\n",
    "msg = dts_queue.get()"
   ]
  },
  {
   "cell_type": "code",
   "execution_count": 23,
   "metadata": {},
   "outputs": [
    {
     "data": {
      "text/plain": [
       "{'_selector': 22,\n",
       " 'tls_version': 0xfefd,\n",
       " 'epoch': 0x0000,\n",
       " 'sequence_number': 0x000000000000,\n",
       " 'tls_handshake': {'type_and_length': 0x02000044,\n",
       "  'message_sequence': 0x0000,\n",
       "  'fragment_offset': 0x000000,\n",
       "  'fragment': 0xfefd668be17ff346db688bb2d247e88965d6d4ce89b32fc043cfaee6511d92847df400c02b00001c00170000ff01000100000b0002010000230000000e00050002000100}}"
      ]
     },
     "execution_count": 23,
     "metadata": {},
     "output_type": "execute_result"
    }
   ],
   "source": [
    "packet, rem = match(dtls_record_spec, msg)\n",
    "transcript += msg[13:-len(rem)]\n",
    "packet"
   ]
  },
  {
   "cell_type": "code",
   "execution_count": 24,
   "metadata": {},
   "outputs": [
    {
     "data": {
      "text/plain": [
       "{'_selector': 2,\n",
       " 'server_hello': {'version': 0xfefd,\n",
       "  'random': 0x668be17ff346db688bb2d247e88965d6d4ce89b32fc043cfaee6511d92847df4,\n",
       "  'session_id': 0x,\n",
       "  'suite': 0xc02b,\n",
       "  'compression': 0,\n",
       "  'extensions': [{'_selector': 0x0017, 'ext_master_secret': 0x},\n",
       "   {'_selector': 0xff01,\n",
       "    'ext_renegotiation_info': {'secure_renegotitation': 0x}},\n",
       "   {'selector': 0x000b, 'raw_extension': 0x0100},\n",
       "   {'_selector': 0x0023, 'ext_session_tickets': 0x},\n",
       "   {'selector': 0x000e, 'raw_extension': 0x0002000100}]}}"
      ]
     },
     "execution_count": 24,
     "metadata": {},
     "output_type": "execute_result"
    }
   ],
   "source": [
    "record = packet['tls_handshake']['type_and_length'] + packet['tls_handshake']['fragment']\n",
    "server_hello, _ = match(handshake_spec, record)\n",
    "server_hello"
   ]
  },
  {
   "cell_type": "code",
   "execution_count": 25,
   "metadata": {},
   "outputs": [
    {
     "data": {
      "text/plain": [
       "{'_selector': 22,\n",
       " 'tls_version': 0xfefd,\n",
       " 'epoch': 0x0000,\n",
       " 'sequence_number': 0x000000000001,\n",
       " 'tls_handshake': {'type_and_length': 0x0b00011f,\n",
       "  'message_sequence': 0x0001,\n",
       "  'fragment_offset': 0x000000,\n",
       "  'fragment': 0x00011c000119308201153081bda003020102020900e9f5564ad0e4d673300a06082a8648ce3d0403023011310f300d06035504030c06576562525443301e170d3234303730373132353430385a170d3234303830373132353430385a3011310f300d06035504030c065765625254433059301306072a8648ce3d020106082a8648ce3d030107034200045d549c50f60bc90f648909c11950a29bfb1df3667844d4819914b558f291f259d4730dc90e8b8147a0c5c0c78e5c6cdc4624b825b7dfd61197a05c348407ad79300a06082a8648ce3d040302034700304402202d53605401a678e90e204758a5c823b683e6b571de3bb84bf4a39730716608b602207ac82322b53c8c4ab54a5644e850e96688830916d4bc193531cc1158622be470}}"
      ]
     },
     "execution_count": 25,
     "metadata": {},
     "output_type": "execute_result"
    }
   ],
   "source": [
    "# rem = bytes.fromhex('16fefd0000000000000001012c0b000120000100000000012000011d00011a308201163081bda003020102020900b388ba8f0397e380300a06082a8648ce3d0403023011310f300d06035504030c06576562525443301e170d3234303631343039303931365a170d3234303731353039303931365a3011310f300d06035504030c065765625254433059301306072a8648ce3d020106082a8648ce3d030107034200045d4f0a2e4e3e0bfe83012c62d4649a43fa9bb46aa4579fa59b739e6463a0a8c0395545195f81f8895480128cda85a9c79699baca8b413065c7ef013c226be5e6300a06082a8648ce3d040302034800304502206e8136052a4d8689988d3f1205882d1d224cd9b2543c1e9463ac9bae5aee87f90221009c4d8b5e119541c461c4d704121abb097ee983dddb0c7ea4c8fd06ba08623cea')\n",
    "packet, rem1 = match(dtls_record_spec, rem)\n",
    "transcript += rem[13:-len(rem1)]\n",
    "packet"
   ]
  },
  {
   "cell_type": "code",
   "execution_count": 26,
   "metadata": {},
   "outputs": [
    {
     "data": {
      "text/plain": [
       "{'_selector': 11,\n",
       " 'certificates_data': {'certificates': {'certificate': [0x308201153081bda003020102020900e9f5564ad0e4d673300a06082a8648ce3d0403023011310f300d06035504030c06576562525443301e170d3234303730373132353430385a170d3234303830373132353430385a3011310f300d06035504030c065765625254433059301306072a8648ce3d020106082a8648ce3d030107034200045d549c50f60bc90f648909c11950a29bfb1df3667844d4819914b558f291f259d4730dc90e8b8147a0c5c0c78e5c6cdc4624b825b7dfd61197a05c348407ad79300a06082a8648ce3d040302034700304402202d53605401a678e90e204758a5c823b683e6b571de3bb84bf4a39730716608b602207ac82322b53c8c4ab54a5644e850e96688830916d4bc193531cc1158622be470]}}}"
      ]
     },
     "execution_count": 26,
     "metadata": {},
     "output_type": "execute_result"
    }
   ],
   "source": [
    "record = packet['tls_handshake']['type_and_length'] + packet['tls_handshake']['fragment']\n",
    "peer_cert, _ = match(handshake_spec, record)\n",
    "peer_cert"
   ]
  },
  {
   "cell_type": "code",
   "execution_count": 27,
   "metadata": {},
   "outputs": [
    {
     "name": "stdout",
     "output_type": "stream",
     "text": [
      "Certificate:\n",
      "    Data:\n",
      "        Version: 3 (0x2)\n",
      "        Serial Number:\n",
      "            e9:f5:56:4a:d0:e4:d6:73\n",
      "        Signature Algorithm: ecdsa-with-SHA256\n",
      "        Issuer: CN=WebRTC\n",
      "        Validity\n",
      "            Not Before: Jul  7 12:54:08 2024 GMT\n",
      "            Not After : Aug  7 12:54:08 2024 GMT\n",
      "        Subject: CN=WebRTC\n",
      "        Subject Public Key Info:\n",
      "            Public Key Algorithm: id-ecPublicKey\n",
      "                Public-Key: (256 bit)\n",
      "                pub:\n",
      "                    04:5d:54:9c:50:f6:0b:c9:0f:64:89:09:c1:19:50:\n",
      "                    a2:9b:fb:1d:f3:66:78:44:d4:81:99:14:b5:58:f2:\n",
      "                    91:f2:59:d4:73:0d:c9:0e:8b:81:47:a0:c5:c0:c7:\n",
      "                    8e:5c:6c:dc:46:24:b8:25:b7:df:d6:11:97:a0:5c:\n",
      "                    34:84:07:ad:79\n",
      "                ASN1 OID: prime256v1\n",
      "                NIST CURVE: P-256\n",
      "    Signature Algorithm: ecdsa-with-SHA256\n",
      "    Signature Value:\n",
      "        30:44:02:20:2d:53:60:54:01:a6:78:e9:0e:20:47:58:a5:c8:\n",
      "        23:b6:83:e6:b5:71:de:3b:b8:4b:f4:a3:97:30:71:66:08:b6:\n",
      "        02:20:7a:c8:23:22:b5:3c:8c:4a:b5:4a:56:44:e8:50:e9:66:\n",
      "        88:83:09:16:d4:bc:19:35:31:cc:11:58:62:2b:e4:70\n",
      "\n"
     ]
    }
   ],
   "source": [
    "\n",
    "first_server_cert = None\n",
    "for cert in peer_cert['certificates_data']['certificates']['certificate']:\n",
    "    x509 = OpenSSL.crypto.load_certificate(OpenSSL.crypto.FILETYPE_ASN1, cert._value('bytes'))\n",
    "    if first_server_cert is None:\n",
    "        first_server_cert = x509\n",
    "    print(OpenSSL.crypto.dump_certificate(OpenSSL.crypto.FILETYPE_TEXT, x509).decode('utf-8')) "
   ]
  },
  {
   "cell_type": "code",
   "execution_count": 28,
   "metadata": {},
   "outputs": [
    {
     "data": {
      "text/plain": [
       "b'FB:53:9E:49:62:01:25:B8:4F:3E:2B:F7:8C:C0:3D:FC:52:35:6E:9A:6A:4D:3B:26:F8:71:1C:FC:6E:4D:F0:F4'"
      ]
     },
     "execution_count": 28,
     "metadata": {},
     "output_type": "execute_result"
    }
   ],
   "source": [
    "first_server_cert.digest('sha256')\n",
    "# TODO: assert digest"
   ]
  },
  {
   "cell_type": "code",
   "execution_count": 29,
   "metadata": {},
   "outputs": [
    {
     "data": {
      "text/plain": [
       "{'_selector': 22,\n",
       " 'tls_version': 0xfefd,\n",
       " 'epoch': 0x0000,\n",
       " 'sequence_number': 0x000000000002,\n",
       " 'tls_handshake': {'type_and_length': 0x0c000070,\n",
       "  'message_sequence': 0x0002,\n",
       "  'fragment_offset': 0x000000,\n",
       "  'fragment': 0x03001d20af5377ca4f6de05a0f76d3d76f8b8fe59dba452129a33734946da4277c047b23040300483046022100ed608c23a6739c46da09b70e2c3c891f45a76dc9da2f9ba4a7e227e2137b8cbf02210094315400add760239b3712cef7e21a466bc793f0e9c41ca5e3a4bf069d2b32b0}}"
      ]
     },
     "execution_count": 29,
     "metadata": {},
     "output_type": "execute_result"
    }
   ],
   "source": [
    "packet, rem2 = match(dtls_record_spec, rem1)\n",
    "transcript += rem1[13:-len(rem2)]\n",
    "packet"
   ]
  },
  {
   "cell_type": "code",
   "execution_count": 30,
   "metadata": {},
   "outputs": [
    {
     "data": {
      "text/plain": [
       "{'_selector': 12,\n",
       " 'server_key_exchange': {'curve_type': 3,\n",
       "  'named_curve': 0x001d,\n",
       "  'pubkey': 0xaf5377ca4f6de05a0f76d3d76f8b8fe59dba452129a33734946da4277c047b23,\n",
       "  'sig_algorithm': 0x0403,\n",
       "  'signature': 0x3046022100ed608c23a6739c46da09b70e2c3c891f45a76dc9da2f9ba4a7e227e2137b8cbf02210094315400add760239b3712cef7e21a466bc793f0e9c41ca5e3a4bf069d2b32b0}}"
      ]
     },
     "execution_count": 30,
     "metadata": {},
     "output_type": "execute_result"
    }
   ],
   "source": [
    "record = packet['tls_handshake']['type_and_length'] + packet['tls_handshake']['fragment']\n",
    "server_key, _ = match(handshake_spec, record)\n",
    "server_key"
   ]
  },
  {
   "cell_type": "code",
   "execution_count": 31,
   "metadata": {},
   "outputs": [],
   "source": [
    "server_key_sign_spec = \"\"\"32B@client_random-32B@server_random-8@curve_type-16@named_curve-8@pubkey()\"\"\"\n",
    "server_key_sign = {\n",
    "    \"client_random\": client_hello['client_hello']['random'],\n",
    "    \"server_random\": server_hello['server_hello']['random'],\n",
    "    \"curve_type\": server_key['server_key_exchange']['curve_type'],\n",
    "    \"named_curve\": server_key['server_key_exchange']['named_curve'],\n",
    "    \"pubkey\": server_key['server_key_exchange']['pubkey'],\n",
    "}\n",
    "\n",
    "enc = construct(server_key_sign_spec, server_key_sign)\n",
    "\n",
    "first_server_cert.get_pubkey().to_cryptography_key().verify(server_key['server_key_exchange']['signature']._value('bytes'), enc, ec.ECDSA(hashes.SHA256()))\n"
   ]
  },
  {
   "cell_type": "code",
   "execution_count": 32,
   "metadata": {},
   "outputs": [
    {
     "data": {
      "text/plain": [
       "{'_selector': 22,\n",
       " 'tls_version': 0xfefd,\n",
       " 'epoch': 0x0000,\n",
       " 'sequence_number': 0x000000000003,\n",
       " 'tls_handshake': {'type_and_length': 0x0d000019,\n",
       "  'message_sequence': 0x0003,\n",
       "  'fragment_offset': 0x000000,\n",
       "  'fragment': 0x02014000120403080404010503080505010806060102010000}}"
      ]
     },
     "execution_count": 32,
     "metadata": {},
     "output_type": "execute_result"
    }
   ],
   "source": [
    "packet, rem3 = match(dtls_record_spec, rem2)\n",
    "transcript += rem2[13:-len(rem3)]\n",
    "packet"
   ]
  },
  {
   "cell_type": "code",
   "execution_count": 33,
   "metadata": {},
   "outputs": [
    {
     "data": {
      "text/plain": [
       "{'_selector': 13,\n",
       " 'certificate_request': {'cert_types': {'cert_type': [1, 64]},\n",
       "  'sig_hash_algs': {'sig_hash_alg': [0x0403,\n",
       "    0x0804,\n",
       "    0x0401,\n",
       "    0x0503,\n",
       "    0x0805,\n",
       "    0x0501,\n",
       "    0x0806,\n",
       "    0x0601,\n",
       "    0x0201]},\n",
       "  'distinguished_names': 0x}}"
      ]
     },
     "execution_count": 33,
     "metadata": {},
     "output_type": "execute_result"
    }
   ],
   "source": [
    "record = packet['tls_handshake']['type_and_length'] + packet['tls_handshake']['fragment']\n",
    "certificate_request, _ = match(handshake_spec, record)\n",
    "certificate_request"
   ]
  },
  {
   "cell_type": "code",
   "execution_count": 34,
   "metadata": {},
   "outputs": [
    {
     "data": {
      "text/plain": [
       "{'_selector': 22,\n",
       " 'tls_version': 0xfefd,\n",
       " 'epoch': 0x0000,\n",
       " 'sequence_number': 0x000000000004,\n",
       " 'tls_handshake': {'type_and_length': 0x0e000000,\n",
       "  'message_sequence': 0x0004,\n",
       "  'fragment_offset': 0x000000,\n",
       "  'fragment': 0x}}"
      ]
     },
     "execution_count": 34,
     "metadata": {},
     "output_type": "execute_result"
    }
   ],
   "source": [
    "packet, rem4 = match(dtls_record_spec, rem3)\n",
    "transcript += rem3[13:]\n",
    "packet"
   ]
  },
  {
   "cell_type": "code",
   "execution_count": 35,
   "metadata": {},
   "outputs": [
    {
     "data": {
      "text/plain": [
       "{'_selector': 14, 'server_hello_done': 0x}"
      ]
     },
     "execution_count": 35,
     "metadata": {},
     "output_type": "execute_result"
    }
   ],
   "source": [
    "record = packet['tls_handshake']['type_and_length'] + packet['tls_handshake']['fragment']\n",
    "server_hello_done, _ = match(handshake_spec, record)\n",
    "server_hello_done"
   ]
  },
  {
   "cell_type": "code",
   "execution_count": 36,
   "metadata": {},
   "outputs": [],
   "source": [
    "dtls_message_encoded = b''"
   ]
  },
  {
   "cell_type": "code",
   "execution_count": 37,
   "metadata": {},
   "outputs": [],
   "source": [
    "certificate = {\n",
    "    'certificates_data':\n",
    "        {\n",
    "            'certificates':\n",
    "                 [{'certificate': OpenSSL.crypto.dump_certificate(OpenSSL.crypto.FILETYPE_ASN1, local_cert)}]\n",
    "        },\n",
    " '_selector': 11\n",
    "}\n",
    "\n",
    "certificate_encoded = construct(handshake_spec, certificate)\n",
    "\n",
    "\n",
    "\n",
    "dtls_record = {\n",
    "    \"tls_version\": 0xfefd,\n",
    "    \"tls_handshake\": {\n",
    "        'type_and_length': certificate_encoded[:4],\n",
    "        'message_sequence': 1,\n",
    "        'fragment_offset': 0,\n",
    "        'fragment': certificate_encoded[4:],\n",
    "    },\n",
    "    \"epoch\": 0,\n",
    "    \"sequence_number\": 1,\n",
    "    \"_selector\": 22\n",
    "}\n",
    "dtls_record_encoded = construct(dtls_record_spec, dtls_record)\n",
    "transcript += dtls_record_encoded[13:]\n",
    "dtls_message_encoded += dtls_record_encoded"
   ]
  },
  {
   "cell_type": "raw",
   "metadata": {},
   "source": [
    "from cryptography.hazmat.primitives.asymmetric.x25519 import X25519PrivateKey, X25519PublicKey\n",
    "\n",
    "client_private_key = X25519PrivateKey.generate()\n",
    "client_public_key = client_private_key.public_key().public_bytes(serialization.Encoding.Raw, serialization.PublicFormat.Raw)\n"
   ]
  },
  {
   "cell_type": "code",
   "execution_count": 38,
   "metadata": {},
   "outputs": [],
   "source": [
    "from cryptography.hazmat.primitives.asymmetric.x25519 import X25519PrivateKey, X25519PublicKey\n",
    "\n",
    "client_private_key = X25519PrivateKey.generate()\n",
    "client_public_key = client_private_key.public_key().public_bytes(serialization.Encoding.Raw, serialization.PublicFormat.Raw)\n"
   ]
  },
  {
   "cell_type": "code",
   "execution_count": 39,
   "metadata": {},
   "outputs": [],
   "source": [
    "\n",
    "client_key_exchange = {\n",
    "    'client_key_exchange': {\n",
    "        'pubkey': client_public_key,\n",
    "    },\n",
    " '_selector': 16\n",
    "}\n",
    "\n",
    "client_key_exchange_encoded = construct(handshake_spec, client_key_exchange)\n",
    "\n",
    "\n",
    "\n",
    "dtls_record = {\n",
    "    \"tls_version\": 0xfefd,\n",
    "    \"tls_handshake\": {\n",
    "        'type_and_length': client_key_exchange_encoded[:4],\n",
    "        'message_sequence': 2,\n",
    "        'fragment_offset': 0,\n",
    "        'fragment': client_key_exchange_encoded[4:],\n",
    "    },\n",
    "    \"epoch\": 0,\n",
    "    \"sequence_number\": 2,\n",
    "    \"_selector\": 22\n",
    "}\n",
    "dtls_record_encoded = construct(dtls_record_spec, dtls_record)\n",
    "transcript += dtls_record_encoded[13:]\n",
    "dtls_message_encoded += dtls_record_encoded"
   ]
  },
  {
   "cell_type": "code",
   "execution_count": 40,
   "metadata": {},
   "outputs": [],
   "source": [
    "signature = own_cert_private_key.sign(transcript, ec.ECDSA(hashes.SHA256()))"
   ]
  },
  {
   "cell_type": "code",
   "execution_count": 41,
   "metadata": {},
   "outputs": [],
   "source": [
    "\n",
    "certificate_verify = {\n",
    "    'certificate_verify': {\n",
    "        'sig_algorithm': 0x0403,\n",
    "        'signature': signature,\n",
    "    },\n",
    " '_selector': 15\n",
    "}\n",
    "\n",
    "certificate_verify_encoded = construct(handshake_spec, certificate_verify)\n",
    "\n",
    "\n",
    "\n",
    "dtls_record = {\n",
    "    \"tls_version\": 0xfefd,\n",
    "    \"tls_handshake\": {\n",
    "        'type_and_length': certificate_verify_encoded[:4],\n",
    "        'message_sequence': 3,\n",
    "        'fragment_offset': 0,\n",
    "        'fragment': certificate_verify_encoded[4:],\n",
    "    },\n",
    "    \"epoch\": 0,\n",
    "    \"sequence_number\": 3,\n",
    "    \"_selector\": 22\n",
    "}\n",
    "dtls_record_encoded = construct(dtls_record_spec, dtls_record)\n",
    "# transcript += dtls_record_encoded[13:]\n",
    "certificate_verify_message_encoded = dtls_record_encoded\n",
    "dtls_message_encoded += dtls_record_encoded"
   ]
  },
  {
   "cell_type": "code",
   "execution_count": 42,
   "metadata": {},
   "outputs": [],
   "source": [
    "\n",
    "dtls_record = {\n",
    "    \"tls_version\": 0xfefd,\n",
    "    \"epoch\": 0,\n",
    "    \"sequence_number\": 4,\n",
    "    \"change_cipher_spec_message\": b'\\x01',\n",
    "    \"_selector\": 20\n",
    "}\n",
    "dtls_record_encoded = construct(dtls_record_spec, dtls_record)\n",
    "dtls_message_encoded += dtls_record_encoded"
   ]
  },
  {
   "cell_type": "code",
   "execution_count": 43,
   "metadata": {},
   "outputs": [],
   "source": [
    "from cryptography.hazmat.primitives import hashes, hmac\n",
    "\n",
    "def HMAC_SHA256(secret, val):\n",
    "    h = hmac.HMAC(secret, hashes.SHA256())\n",
    "    h.update(val)\n",
    "    return h.finalize()\n",
    "\n",
    "def P_SHA256(secret, seed, l):\n",
    "    b = bytearray()\n",
    "    A = HMAC_SHA256(secret, seed)\n",
    "    while len(b) < l:\n",
    "        b += HMAC_SHA256(secret, A + seed)\n",
    "        A = HMAC_SHA256(secret, A)\n",
    "    return b[:l]\n",
    "\n",
    "def PRF(secret, label, seed, l):\n",
    "    return P_SHA256(secret, label + seed, l)"
   ]
  },
  {
   "cell_type": "code",
   "execution_count": 44,
   "metadata": {},
   "outputs": [],
   "source": [
    "def calculate_sha256(data):\n",
    "    digest = hashes.Hash(hashes.SHA256())\n",
    "    digest.update(data)\n",
    "    return digest.finalize()"
   ]
  },
  {
   "cell_type": "code",
   "execution_count": 45,
   "metadata": {},
   "outputs": [
    {
     "name": "stdout",
     "output_type": "stream",
     "text": [
      "calculated shared key b'\\x1e\\x01\\xbf\\r\\x9dHT\\xe7\\xd7\\xc3\\xa6Ga\\xa7\\x928+\\xa2\\x9a\\xe9Y\\xf6$\\xb1\\x9d\\xc7@\\xfbo\\x1e\\xf4c'\n"
     ]
    }
   ],
   "source": [
    "shared_key = client_private_key.exchange(X25519PublicKey.from_public_bytes(server_key['server_key_exchange']['pubkey']._value('bytes')))\n",
    "print(\"calculated shared key\", shared_key)"
   ]
  },
  {
   "cell_type": "code",
   "execution_count": 46,
   "metadata": {},
   "outputs": [
    {
     "data": {
      "text/plain": [
       "'54885a5ebd61d76a58866d3520b12a8a9c62dcc0ddcddc2853851b47107d801a6b48065fad713a586c87ed0044bb6d6f'"
      ]
     },
     "execution_count": 46,
     "metadata": {},
     "output_type": "execute_result"
    }
   ],
   "source": [
    "master_key = PRF(\n",
    "    shared_key,\n",
    "    b\"extended master secret\",\n",
    "    # client_hello['client_hello']['random'].bytes() + server_hello['server_hello']['random'],\n",
    "    calculate_sha256(transcript),\n",
    "    48,\n",
    ")\n",
    "master_key.hex()"
   ]
  },
  {
   "cell_type": "code",
   "execution_count": 95,
   "metadata": {},
   "outputs": [],
   "source": [
    "keyLen = 16\n",
    "ivLen  = 4\n",
    "\n",
    "raw_keys = PRF(\n",
    "    master_key,\n",
    "    b\"key expansion\",\n",
    "    server_hello['server_hello']['random'] + client_hello['client_hello']['random'],\n",
    "    40,\n",
    ")\n",
    "\n",
    "client_write_key = raw_keys[:keyLen]\n",
    "raw_keys = raw_keys[keyLen:]\n",
    "\n",
    "server_write_key = raw_keys[:keyLen]\n",
    "raw_keys = raw_keys[keyLen:]\n",
    "\n",
    "client_write_iv = raw_keys[:ivLen]\n",
    "raw_keys = raw_keys[ivLen:]\n",
    "\n",
    "server_write_iv = raw_keys[:ivLen]"
   ]
  },
  {
   "cell_type": "code",
   "execution_count": 48,
   "metadata": {},
   "outputs": [],
   "source": [
    "transcript += certificate_verify_message_encoded[13:]"
   ]
  },
  {
   "cell_type": "code",
   "execution_count": 49,
   "metadata": {},
   "outputs": [
    {
     "data": {
      "text/plain": [
       "'cc28c28173d1a2326cc23112'"
      ]
     },
     "execution_count": 49,
     "metadata": {},
     "output_type": "execute_result"
    }
   ],
   "source": [
    "client_verify_data = PRF(master_key, b\"client finished\", calculate_sha256(transcript), 12)\n",
    "client_verify_data.hex()"
   ]
  },
  {
   "cell_type": "code",
   "execution_count": 50,
   "metadata": {},
   "outputs": [],
   "source": [
    "encrypted_dtls_record_spec = \"\"\"\n",
    "8@content_type-16@tls_version-16@epoch-6B@sequence_number-16@encrypted_data()\n",
    "\"\"\""
   ]
  },
  {
   "cell_type": "code",
   "execution_count": 51,
   "metadata": {},
   "outputs": [],
   "source": [
    "from cryptography.hazmat.primitives.ciphers.aead import AESGCM\n",
    "\n",
    "aad_spec = \"\"\"16@epoch-6B@sequence_number-8@content_type-16@tls_version-16@data_length\"\"\"\n",
    "\n",
    "def decrypt_packet(packet, key, iv):\n",
    "    encrypted = packet['encrypted_data']\n",
    "\n",
    "    aad = packet.copy()\n",
    "    aad['data_length'] = len(encrypted) - 16 - 8\n",
    "    aad_encoded = bytearray(construct(aad_spec, aad))\n",
    "    aad_encoded[:8] = encrypted[:8]\n",
    "\n",
    "    cipher = AESGCM(key)\n",
    "    all_server_cert_packet_encoded = cipher.decrypt(iv + encrypted[:8], encrypted[8:], aad_encoded)\n",
    "    if packet['content_type'] == 0x16:\n",
    "        all_server_cert_packet, _ = match(fragment_spec, all_server_cert_packet_encoded)\n",
    "        packet['tls_handshake'] = all_server_cert_packet\n",
    "    else:\n",
    "        packet['decrypted'] = all_server_cert_packet_encoded\n",
    "    return packet\n",
    "    \n",
    "\n",
    "def encrypt_packet(packet, key, iv):\n",
    "    if packet['content_type'] == 0x16:\n",
    "        to_encrypt = construct(fragment_spec, packet['tls_handshake'])\n",
    "    else:\n",
    "        to_encrypt = packet['decrypted']\n",
    "\n",
    "    aad = packet.copy()\n",
    "    aad['data_length'] = len(to_encrypt)\n",
    "    # aad['sequence_number'] = aad['tls_handshake']['message_sequence']\n",
    "    aad_encoded = construct(aad_spec, aad)\n",
    "    cipher = AESGCM(key)\n",
    "    encrypted_app_data = cipher.encrypt(iv + aad_encoded[:8], to_encrypt, aad_encoded)\n",
    "    packet['encrypted_data'] = aad_encoded[:8] + encrypted_app_data\n",
    "    packet['data_length'] = len(packet['encrypted_data'])\n",
    "    return packet"
   ]
  },
  {
   "cell_type": "code",
   "execution_count": 52,
   "metadata": {},
   "outputs": [
    {
     "name": "stdout",
     "output_type": "stream",
     "text": [
      "{'tls_version': 65277, 'epoch': 1, 'sequence_number': 0, 'tls_handshake': {'type_and_length': 335544332, 'message_sequence': 4, 'fragment_offset': 0, 'fragment': b'\\xcc(\\xc2\\x81s\\xd1\\xa22l\\xc21\\x12'}, 'content_type': 22, '_selector': 22, 'encrypted_data': b'\\x00\\x01\\x00\\x00\\x00\\x00\\x00\\x00\\x8b\\x83\\xa4\\t\\x95\\x7f\\xf2}\\x80\\x86\\xd5\\xfb\\x00\\xc8G\\x85\\xac}\\x12t\\x03$A\\xde?I\\xf0\\xd0\\xbc\\x01\\x0c\\xb5\\xb1k\\x90\\xe4M\\xf3\\xcc\\xaf', 'data_length': 48}\n"
     ]
    }
   ],
   "source": [
    "finshed_record = {\n",
    "    \"tls_version\": 0xfefd,\n",
    "    \"epoch\": 1,\n",
    "    \"sequence_number\": 0,\n",
    "    \"tls_handshake\": {\n",
    "        'type_and_length': 0x1400000c,\n",
    "      'message_sequence': 4,\n",
    "      'fragment_offset': 0x000000,\n",
    "      'fragment': bytes(client_verify_data)\n",
    "    },\n",
    "    \"content_type\": 22,\n",
    "    \"_selector\": 22,\n",
    "}\n",
    "encrypted_finished_record = encrypt_packet(finshed_record, client_write_key, client_write_iv)\n",
    "print(encrypted_finished_record)\n",
    "encrypted_dtls_record_encoded = construct(encrypted_dtls_record_spec, encrypted_finished_record)\n",
    "\n",
    "# transcript += dtls_record_encoded[13:]\n",
    "dtls_message_encoded += encrypted_dtls_record_encoded"
   ]
  },
  {
   "cell_type": "code",
   "execution_count": 53,
   "metadata": {},
   "outputs": [
    {
     "name": "stdout",
     "output_type": "stream",
     "text": [
      "b'\\x14\\x00\\x00\\x0c\\x00\\x04\\x00\\x00\\x00\\x00\\x00\\x0c\\xcc(\\xc2\\x81s\\xd1\\xa22l\\xc21\\x12'\n"
     ]
    }
   ],
   "source": [
    "aaa = construct(dtls_record_spec, finshed_record)\n",
    "print(aaa[13:])\n",
    "transcript += aaa[13:]\n",
    "# transcript = transcript[:-len(aaa)+13]"
   ]
  },
  {
   "cell_type": "code",
   "execution_count": 54,
   "metadata": {},
   "outputs": [],
   "source": [
    "sock.send(dtls_message_encoded)\n",
    "dtls_message_encoded = b''"
   ]
  },
  {
   "cell_type": "code",
   "execution_count": 58,
   "metadata": {
    "scrolled": true
   },
   "outputs": [
    {
     "data": {
      "text/plain": [
       "b\"\\x16\\xfe\\xfd\\x00\\x00\\x00\\x00\\x00\\x00\\x00\\n\\x01\\xe2\\x04\\x00\\x01\\xd6\\x00\\x05\\x00\\x00\\x00\\x00\\x01\\xd6\\x00\\x00\\x1c\\x1f\\x01\\xd0\\xe7\\xbd\\x99\\xe5\\x1du\\xa1\\x12\\xe3\\x93\\x04A\\xe3\\x00*n'mW/j\\xbb\\xf5\\xe0I*\\x8d\\xd8\\xbaK\\x91\\x8e|\\xd0\\xe0e\\xf6\\xbc\\xb0P\\xa9\\x04\\xfef\\x14=\\xbb\\x8c0\\xe3\\x9cM\\xe4\\xfa\\xdaJ\\x15\\r\\x11\\x015\\xa0\\x0e\\x03<\\x00\\n}\\x16\\xb0\\x8cTu\\xb9ip\\x0fR\\xc1\\xc6\\x1c[\\xd1\\xa93^\\xcc&\\xa1\\xb1\\x87\\x0fE\\x84\\xc1`\\xc1Q!-$N\\xfe(\\xfb\\xc1\\x8e/\\xe9Lp\\xc0b\\xde\\t\\x88\\xe3\\xad\\xd4m\\xe4\\xbc\\\\\\xec\\x9e\\x07{\\xf2b\\xd7T\\x0b\\x01@\\x99\\xb3\\xfbg1i\\xab#7\\xfd\\xe8\\xca\\x7fB\\xbe\\xddf6\\xd1{R\\xdb!\\x18V\\x91ZU*\\xd5\\x97\\xe4\\xcc\\xd5\\x9d\\xcf\\xf29V\\x1d:\\x98K\\xdc\\xd9[l\\xcd\\xfe3\\xfe\\xedAv)\\x99\\xcf[\\xcf\\xed\\xf3fm@k\\xafU\\x01S\\x1b\\x97\\x08\\xd7\\xdc\\x9dn\\x1dw\\x11*\\xf2\\xac\\xa6\\x07G\\xb8\\xa9\\x89K\\xceSz\\xc5f\\x1eu\\x02\\xee\\xf9Q\\xbcFl8\\xa8\\xad:\\xe6\\xaeO\\xf7\\x19\\xa9\\xb4\\x83\\x98B6!i\\x1f\\xcc\\xae/\\xf8<1\\xdeR\\xf59\\x7f\\x19+sY\\x02\\xadb}USV\\xd4,.\\x9d\\xc7\\xa2\\xf5\\xb4\\xc5\\xc4\\xbc\\xe0\\x93\\x00\\x97Z''\\xbf\\xcc1\\xe7\\x90\\xe4\\xb5\\xbd\\x9f\\xdc\\xc6\\xad\\xf1\\x9c)l\\xf7\\xed\\xd4\\xbcz\\xd2vk\\xd0~K\\xd5\\x9b\\xf5O\\x83{\\xb4\\xc6$\\xcf\\xc5\\x12V\\xe8\\xd6~Q6f\\x8bQiO\\x95C^\\x82\\xf3\\x18\\\\\\xc1\\x18\\xd2\\xe5+\\x18\\x10\\x8d\\xf3\\x16\\xd7n\\xa9\\xb0\\xf7\\x1a\\xba\\x85\\x9c^\\x98\\xa5\\x13\\xa8Ii\\x01QOyG\\xfa\\r\\xeb7\\xad\\x00B\\xcc\\x8e\\xe3!\\x1c5@\\xc6\\xc3\\xfe\\x97f\\x9a'-\\xb9\\xed\\xd2wl\\x7fe\\xcf\\xd5\\x92y\\x8e_yA\\rx\\xe0\\xb3\\xdc\\x91\\\\]\\x9cEnE\\x9cc\\xbc\\x0b\\xe4\\x8e\\x1d\\x0f\\xf5\\xcc\\xed6\\x93\\xda!\\x17x\\xd6S7!)N\\xfa4\\x96\\xd8\\xe8\\xe8*)\\xb9\\x14\\xfe\\xfd\\x00\\x00\\x00\\x00\\x00\\x00\\x00\\x0b\\x00\\x01\\x01\\x16\\xfe\\xfd\\x00\\x01\\x00\\x00\\x00\\x00\\x00\\x00\\x000\\x00\\x01\\x00\\x00\\x00\\x00\\x00\\x00[\\n\\xb5yr\\xd1\\x02\\x9f\\xd2]\\x07\\x06\\xbb\\x1c\\xdf\\xfb>\\xac\\xb3\\xd8\\xcet\\x0c\\x9d\\xd0\\x0b;d?\\xbc\\xe5\\xe3\\x94\\xa9nT#\\xb9\\x18|\""
      ]
     },
     "execution_count": 58,
     "metadata": {},
     "output_type": "execute_result"
    }
   ],
   "source": [
    "msg = dts_queue.get()\n",
    "msg"
   ]
  },
  {
   "cell_type": "code",
   "execution_count": 59,
   "metadata": {},
   "outputs": [
    {
     "data": {
      "text/plain": [
       "{'_selector': 4,\n",
       " 'new_session_ticket': {'lifetime_hint': 0x00001c1f,\n",
       "  'session_ticket': 0xe7bd99e51d75a112e3930441e3002a6e276d572f6abbf5e0492a8dd8ba4b918e7cd0e065f6bcb050a904fe66143dbb8c30e39c4de4fada4a150d110135a00e033c000a7d16b08c5475b969700f52c1c61c5bd1a9335ecc26a1b1870f4584c160c151212d244efe28fbc18e2fe94c70c062de0988e3add46de4bc5cec9e077bf262d7540b014099b3fb673169ab2337fde8ca7f42bedd6636d17b52db211856915a552ad597e4ccd59dcff239561d3a984bdcd95b6ccdfe33feed41762999cf5bcfedf3666d406baf5501531b9708d7dc9d6e1d77112af2aca60747b8a9894bce537ac5661e7502eef951bc466c38a8ad3ae6ae4ff719a9b48398423621691fccae2ff83c31de52f5397f192b735902ad627d555356d42c2e9dc7a2f5b4c5c4bce09300975a2727bfcc31e790e4b5bd9fdcc6adf19c296cf7edd4bc7ad2766bd07e4bd59bf54f837bb4c624cfc51256e8d67e5136668b51694f95435e82f3185cc118d2e52b18108df316d76ea9b0f71aba859c5e98a513a8496901514f7947fa0deb37ad0042cc8ee3211c3540c6c3fe97669a272db9edd2776c7f65cfd592798e5f79410d78e0b3dc915c5d9c456e459c63bc0be48e1d0ff5cced3693da211778d6533721294efa3496d8e8e82a29b9}}"
      ]
     },
     "execution_count": 59,
     "metadata": {},
     "output_type": "execute_result"
    }
   ],
   "source": [
    "packet, rem = match(dtls_record_spec, msg)\n",
    "record = packet['tls_handshake']['type_and_length'] + packet['tls_handshake']['fragment']\n",
    "peer_cert, _ = match(handshake_spec, record)\n",
    "peer_cert"
   ]
  },
  {
   "cell_type": "code",
   "execution_count": 60,
   "metadata": {},
   "outputs": [],
   "source": [
    "if 'new_session_ticket' not in peer_cert:\n",
    "    raise RuntimeError(\"repeated package, retry from dts_queue.get()\")\n",
    "transcript += msg[13:-len(rem)]\n"
   ]
  },
  {
   "cell_type": "code",
   "execution_count": 61,
   "metadata": {},
   "outputs": [
    {
     "data": {
      "text/plain": [
       "{'_selector': 20,\n",
       " 'tls_version': 0xfefd,\n",
       " 'epoch': 0x0000,\n",
       " 'sequence_number': 0x00000000000b,\n",
       " 'change_cipher_spec_message': 1}"
      ]
     },
     "execution_count": 61,
     "metadata": {},
     "output_type": "execute_result"
    }
   ],
   "source": [
    "packet, rem1 = match(dtls_record_spec, rem)\n",
    "packet"
   ]
  },
  {
   "cell_type": "code",
   "execution_count": 62,
   "metadata": {},
   "outputs": [
    {
     "data": {
      "text/plain": [
       "{'content_type': 22,\n",
       " 'tls_version': 0xfefd,\n",
       " 'epoch': 0x0001,\n",
       " 'sequence_number': 0x000000000000,\n",
       " 'encrypted_data': 0x00010000000000005b0ab57972d1029fd25d0706bb1cdffb3eacb3d8ce740c9dd00b3b643fbce5e394a96e5423b9187c}"
      ]
     },
     "execution_count": 62,
     "metadata": {},
     "output_type": "execute_result"
    }
   ],
   "source": [
    "packet, rem2 = match(encrypted_dtls_record_spec, rem1)\n",
    "packet"
   ]
  },
  {
   "cell_type": "code",
   "execution_count": 63,
   "metadata": {},
   "outputs": [
    {
     "data": {
      "text/plain": [
       "{'content_type': 22,\n",
       " 'tls_version': 0xfefd,\n",
       " 'epoch': 0x0001,\n",
       " 'sequence_number': 0x000000000000,\n",
       " 'encrypted_data': 0x00010000000000005b0ab57972d1029fd25d0706bb1cdffb3eacb3d8ce740c9dd00b3b643fbce5e394a96e5423b9187c,\n",
       " 'tls_handshake': {'type_and_length': 0x1400000c,\n",
       "  'message_sequence': 0x0006,\n",
       "  'fragment_offset': 0x000000,\n",
       "  'fragment': 0xa7481124c0158007fc45c477}}"
      ]
     },
     "execution_count": 63,
     "metadata": {},
     "output_type": "execute_result"
    }
   ],
   "source": [
    "finished_fragment = decrypt_packet(\n",
    "    packet,\n",
    "    server_write_key,\n",
    "    server_write_iv,\n",
    ")\n",
    "finished_fragment"
   ]
  },
  {
   "cell_type": "code",
   "execution_count": 64,
   "metadata": {},
   "outputs": [
    {
     "data": {
      "text/plain": [
       "'a7481124c0158007fc45c477'"
      ]
     },
     "execution_count": 64,
     "metadata": {},
     "output_type": "execute_result"
    }
   ],
   "source": [
    "server_verify_data = PRF(master_key, b\"server finished\", calculate_sha256(transcript), 12)\n",
    "server_verify_data.hex()"
   ]
  },
  {
   "cell_type": "code",
   "execution_count": 65,
   "metadata": {},
   "outputs": [],
   "source": [
    "assert finished_fragment['tls_handshake']['fragment'] == server_verify_data, \"server verify data mismatch\""
   ]
  },
  {
   "cell_type": "code",
   "execution_count": 66,
   "metadata": {},
   "outputs": [],
   "source": [
    "import crc"
   ]
  },
  {
   "cell_type": "code",
   "execution_count": 67,
   "metadata": {},
   "outputs": [],
   "source": [
    "sctp_chunks_spec = \"\"\"\n",
    "8==1@_selector-8@chunk_flags\n",
    "    -16@chunk_length\n",
    "    -32@initiate_tag\n",
    "    -32@a_rwnc\n",
    "    -16@num_out_streams-16@num_in_streams\n",
    "    -32@initial_tsn\n",
    "    -@optional_attributes_encoded\n",
    "|8==2@_selector-8@chunk_flags\n",
    "    -16@chunk_length\n",
    "    -32@initiate_tag\n",
    "    -32@a_rwnc\n",
    "    -16@num_out_streams-16@num_in_streams\n",
    "    -32@initial_tsn\n",
    "    -@optional_attributes_encoded\n",
    "|8==10@_selector-8@chunk_flags\n",
    "    -16@chunk_length\n",
    "    -@cookie\n",
    "|8==11@_selector-8@chunk_flags\n",
    "    -16@chunk_length\n",
    "|8==0@_selector-4@res\n",
    "    -1@i-1@u-1@b-1@e\n",
    "    -16@chunk_length\n",
    "    -32@tsn\n",
    "    -16@s-16@n\n",
    "    -32@payload_protocol_id\n",
    "    -@data\n",
    "|8==3@_selector-8@flags\n",
    "    -16@chunk_length\n",
    "    -32@tsn_ack\n",
    "    -32@a_rwnd\n",
    "    -16@n_gap_ack_blocks\n",
    "    -16@n_duplicate_tsns\n",
    "    -@gap_ack_duplicate_tsns\n",
    "|8==4@_selector-8@flags\n",
    "    -16@chunk_length\n",
    "    -@optional_attributes_encoded\n",
    "|8==5@_selector-8@flags\n",
    "    -16@chunk_length\n",
    "    -@optional_attributes_encoded\n",
    "\"\"\"\n",
    "\n",
    "optional_header_spec = \"\"\"16@type-16@length\"\"\"\n",
    "sctp_chunk_header_spec = \"8@chunk_type-8@chunk_flags-16@chunk_size\"\n",
    "\n",
    "def parse_sctp_chunk(sctp_chunk):\n",
    "    sctp_chunk_header, _ = match(sctp_chunk_header_spec, sctp_chunk)\n",
    "    data_len = sctp_chunk_header['chunk_size']._value('int')\n",
    "    sctp_chunk_value, sctp_chunk = sctp_chunk[:data_len], sctp_chunk[math.ceil(data_len /4) * 4:]\n",
    "    res, _ = match(sctp_chunks_spec, sctp_chunk_value)\n",
    "    if 'optional_attributes_encoded' in res:\n",
    "        oares = res['optional_attributes_encoded']\n",
    "        res['optional_attributes'] = []\n",
    "        while oares:\n",
    "            optional_attribute_header, _ = match(optional_header_spec, oares)\n",
    "            optional_attribute_header['data'] = oares[4:optional_attribute_header['length']._value('int')]\n",
    "            oares = oares[optional_attribute_header['length']._value('int'):]\n",
    "            res['optional_attributes'].append(optional_attribute_header)\n",
    "    return res, sctp_chunk\n",
    "            \n",
    "        "
   ]
  },
  {
   "cell_type": "code",
   "execution_count": 68,
   "metadata": {},
   "outputs": [],
   "source": [
    "sctp_common_header_spec = \"\"\"\n",
    "16@source_port\n",
    "-16@dst_port\n",
    "-32@verification_tag\n",
    "-32@checksum\"\"\"\n",
    "\n",
    "def get_sctp_message(dtls_message):\n",
    "    packet, _ = match(encrypted_dtls_record_spec, dtls_message)\n",
    "    decrypted = decrypt_packet(\n",
    "        packet,\n",
    "        server_write_key,\n",
    "        server_write_iv,\n",
    "    )\n",
    "    raw = decrypted['decrypted']\n",
    "    raw_clone = bytearray(raw)\n",
    "    raw_clone[8:12] = b'\\0\\0\\0\\0'\n",
    "    crc_res = construct('32@data', {'data': crc.crc(raw_clone)})[::-1]\n",
    "    \n",
    "    sctp_header, rem = match(sctp_common_header_spec, raw)\n",
    "    assert crc_res == sctp_header['checksum'], \"invalid checksum\"\n",
    "    chunks = []\n",
    "    while rem:\n",
    "        chunk, rem = parse_sctp_chunk(rem)\n",
    "        chunks.append(chunk)\n",
    "    return {\"header\": sctp_header, \"chunks\": chunks, \"epoch\": decrypted[\"epoch\"], \"sequence_number\": decrypted[\"sequence_number\"]}"
   ]
  },
  {
   "cell_type": "code",
   "execution_count": 69,
   "metadata": {},
   "outputs": [],
   "source": [
    "optional_full_header_spec = \"\"\"16@type-16@length-@data\"\"\"\n",
    "def construct_sctp_chunk(sctp_chunk):\n",
    "    if 'optional_attributes' in sctp_chunk:\n",
    "        sctp_chunk['optional_attributes_encoded'] = b''\n",
    "        for attr in sctp_chunk['optional_attributes']:\n",
    "            attr['length'] = len(attr['data']) + 4\n",
    "            sctp_chunk['optional_attributes_encoded'] += construct(optional_full_header_spec, attr)\n",
    "    sctp_chunk['chunk_length'] = 0\n",
    "    res = construct(sctp_chunks_spec, sctp_chunk)\n",
    "    sctp_chunk['chunk_length'] = len(res)\n",
    "    res = construct(sctp_chunks_spec, sctp_chunk)\n",
    "    if sctp_chunk['chunk_length'] % 4 != 0:\n",
    "        res += b'\\0' * (4-(sctp_chunk['chunk_length']%4))\n",
    "    return res\n",
    "    "
   ]
  },
  {
   "cell_type": "code",
   "execution_count": 70,
   "metadata": {},
   "outputs": [],
   "source": [
    "def create_sctp_message(sctp_message):\n",
    "    sctp_message['header']['checksum'] = 0\n",
    "    buff = construct(sctp_common_header_spec, sctp_message['header'])\n",
    "    for chunk in sctp_message['chunks']:\n",
    "        buff += construct_sctp_chunk(chunk)\n",
    "\n",
    "    buff = bytearray(buff)\n",
    "    crc_res = construct('32@data', {'data': crc.crc(buff)})[::-1]\n",
    "    buff[8:12] = crc_res\n",
    "    \n",
    "    packet = {\n",
    "        \"tls_version\": 0xfefd,\n",
    "        \"epoch\": sctp_message[\"epoch\"],\n",
    "        \"sequence_number\": sctp_message[\"sequence_number\"],\n",
    "        \"decrypted\": bytes(buff),\n",
    "        \"content_type\": 23,\n",
    "        \"_selector\": 23,\n",
    "    }\n",
    "    encrypted = encrypt_packet(\n",
    "        packet,\n",
    "        client_write_key,\n",
    "        client_write_iv,\n",
    "    )\n",
    "    return construct(encrypted_dtls_record_spec, encrypted)\n",
    "    "
   ]
  },
  {
   "cell_type": "code",
   "execution_count": 71,
   "metadata": {},
   "outputs": [
    {
     "name": "stdout",
     "output_type": "stream",
     "text": [
      "got app data\n"
     ]
    },
    {
     "data": {
      "text/plain": [
       "{'header': {'source_port': 0x1388,\n",
       "  'dst_port': 0x1388,\n",
       "  'verification_tag': 0x00000000,\n",
       "  'checksum': 0x490f13e8},\n",
       " 'chunks': [{'_selector': 1,\n",
       "   'chunk_flags': 0,\n",
       "   'chunk_length': 0x001e,\n",
       "   'initiate_tag': 0xc9066be1,\n",
       "   'a_rwnc': 0x00500000,\n",
       "   'num_out_streams': 0xffff,\n",
       "   'num_in_streams': 0xffff,\n",
       "   'initial_tsn': 0xee7dd972,\n",
       "   'optional_attributes_encoded': 0xc00000048008000682c0,\n",
       "   'optional_attributes': [{'type': 0xc000, 'length': 0x0004, 'data': b''},\n",
       "    {'type': 0x8008, 'length': 0x0006, 'data': b'\\x82\\xc0'}]}],\n",
       " 'epoch': 0x0001,\n",
       " 'sequence_number': 0x000000000001}"
      ]
     },
     "execution_count": 71,
     "metadata": {},
     "output_type": "execute_result"
    }
   ],
   "source": [
    "while True:\n",
    "    msg = dts_queue.get()\n",
    "    if msg[0] != 0x17:\n",
    "        print('not an app data, retrying')\n",
    "        continue\n",
    "    print('got app data')\n",
    "    break\n",
    "\n",
    "sctp_init = get_sctp_message(msg)\n",
    "client_verification_tag = sctp_init['chunks'][0]['initiate_tag']\n",
    "sctp_init"
   ]
  },
  {
   "cell_type": "code",
   "execution_count": 72,
   "metadata": {},
   "outputs": [],
   "source": [
    "tsn = 0xe306eef2\n",
    "own_dtls_seq = 2"
   ]
  },
  {
   "cell_type": "code",
   "execution_count": 73,
   "metadata": {},
   "outputs": [],
   "source": [
    "# sctp_init = create_sctp_message({'header': {'source_port': 0x1388,\n",
    "#   'dst_port': 0x1388,\n",
    "#   'verification_tag': 0x00000000,\n",
    "#   'checksum': 0x9e2630c2},\n",
    "#  'chunks': [{'chunk_flags': 0x00,\n",
    "#    '_selector': 0x01,\n",
    "#    'chunk_length': 0x001e,\n",
    "#    'initiate_tag': 0x6ee08c30,\n",
    "#    'a_rwnc': 0x00500000,\n",
    "#    'num_out_streams': 0xffff,\n",
    "#    'num_in_streams': 0xffff,\n",
    "#    'initial_tsn': tsn,\n",
    "#    'optional_attributes_encoded': 0xc00000048008000682c0,\n",
    "#    'optional_attributes': [{'type': 0xc000, 'length': 0x0004, 'data': b''},\n",
    "#     {'type': 0x8008, 'length': 0x0006, 'data': b'\\x82\\xc0'}]}],\n",
    "#  'epoch': 0x0001,\n",
    "#  'sequence_number': 0x000000000007})\n",
    "# sock.send(sctp_init)"
   ]
  },
  {
   "cell_type": "code",
   "execution_count": 74,
   "metadata": {},
   "outputs": [],
   "source": [
    "sctp_init_ack = create_sctp_message({'header': {'source_port': 0x1388,\n",
    "  'dst_port': 0x1388,\n",
    "  'verification_tag': client_verification_tag,\n",
    "  'checksum': 0x378def6c},\n",
    " 'chunks': [{'chunk_flags': 0x00,\n",
    "   '_selector': 0x02,\n",
    "   'chunk_length': 0x0052,\n",
    "   'initiate_tag': 0xff448058,\n",
    "   'a_rwnc': 0x00500000,\n",
    "   'num_out_streams': 0xffff,\n",
    "   'num_in_streams': 0xffff,\n",
    "   'initial_tsn': tsn,\n",
    "   'optional_attributes_encoded': 0x0007003164635343545030306ee08c30ff4480589170927fe306eef200500000000000000000000001000100ffffffff00000000c00000048008000682c0,\n",
    "   'optional_attributes': [{'type': 0x0007,\n",
    "     'length': 0x0031,\n",
    "     'data': b'dcSCTP00n\\xe0\\x8c0\\xffD\\x80X\\x91p\\x92\\x7f\\xe3\\x06\\xee\\xf2\\x00P\\x00\\x00\\x00\\x00\\x00\\x00\\x00\\x00\\x00\\x00\\x01\\x00\\x01\\x00\\xff\\xff\\xff\\xff\\x00'},\n",
    "    {'type': 0x0000,\n",
    "     'length': 0x00c0,\n",
    "     'data': b'\\x00\\x00\\x04\\x80\\x08\\x00\\x06\\x82\\xc0'}]}],\n",
    " 'epoch': 0x0001,\n",
    " 'sequence_number': own_dtls_seq})\n",
    "own_dtls_seq += 1\n",
    "sock.send(sctp_init_ack)\n"
   ]
  },
  {
   "cell_type": "code",
   "execution_count": 75,
   "metadata": {},
   "outputs": [],
   "source": [
    "# while True:\n",
    "#     msg = dts_queue.get()\n",
    "#     pkt = get_sctp_message(msg)\n",
    "#     if pkt['chunks'][0]['_selector'].int() != 2:\n",
    "#         continue\n",
    "#     print('found init ack')    \n",
    "#     cookie = next(i['data'] for i in pkt['chunks'][0]['optional_attributes'] if i['type'].int() == 7)\n",
    "#     server_verification_tag = pkt['header']['verification_tag']\n",
    "#     break\n",
    "# pkt"
   ]
  },
  {
   "cell_type": "code",
   "execution_count": 76,
   "metadata": {},
   "outputs": [
    {
     "name": "stdout",
     "output_type": "stream",
     "text": [
      "not found cookie echo, got 1 instead\n",
      "not found cookie echo, got 1 instead\n",
      "not found cookie echo, got 1 instead\n",
      "found cookie echo\n"
     ]
    },
    {
     "data": {
      "text/plain": [
       "{'header': {'source_port': 0x1388,\n",
       "  'dst_port': 0x1388,\n",
       "  'verification_tag': 0xff448058,\n",
       "  'checksum': 0xa804049c},\n",
       " 'chunks': [{'_selector': 10,\n",
       "   'chunk_flags': 0,\n",
       "   'chunk_length': 0x0031,\n",
       "   'cookie': 0x64635343545030306ee08c30ff4480589170927fe306eef200500000000000000000000001000100ffffffff00}],\n",
       " 'epoch': 0x0001,\n",
       " 'sequence_number': 0x000000000005}"
      ]
     },
     "execution_count": 76,
     "metadata": {},
     "output_type": "execute_result"
    }
   ],
   "source": [
    "while True:\n",
    "    msg = dts_queue.get()\n",
    "    pkt = get_sctp_message(msg)\n",
    "    if pkt['chunks'][0]['_selector'] != 10:\n",
    "        print('not found cookie echo, got', pkt['chunks'][0]['_selector'], \"instead\")    \n",
    "        continue\n",
    "    print('found cookie echo')\n",
    "    break\n",
    "pkt"
   ]
  },
  {
   "cell_type": "code",
   "execution_count": 77,
   "metadata": {},
   "outputs": [],
   "source": [
    "# sctp_cookie_echo = create_sctp_message({'header': {'source_port': 0x1388,\n",
    "#   'dst_port': 0x1388,\n",
    "#   'verification_tag': server_verification_tag},\n",
    "#  'chunks': [{'chunk_flags': 0x00,\n",
    "#    '_selector': 10,\n",
    "#     'cookie': cookie}],\n",
    "#  'epoch': 0x0001,\n",
    "#  'sequence_number': 0x000000000009})\n",
    "# sock.send(sctp_cookie_echo)"
   ]
  },
  {
   "cell_type": "code",
   "execution_count": 78,
   "metadata": {},
   "outputs": [],
   "source": [
    "sctp_cookie_ack = create_sctp_message({'header': {'source_port': 0x1388,\n",
    "  'dst_port': 0x1388,\n",
    "  'verification_tag': client_verification_tag},\n",
    " 'chunks': [{'chunk_flags': 0x00,\n",
    "   '_selector': 11}],\n",
    " 'epoch': 0x0001,\n",
    " 'sequence_number': own_dtls_seq})\n",
    "own_dtls_seq += 1\n",
    "sock.send(sctp_cookie_ack)"
   ]
  },
  {
   "cell_type": "code",
   "execution_count": 79,
   "metadata": {},
   "outputs": [],
   "source": [
    "# sctp_cookie_ack = create_sctp_message({'header': {'source_port': 0x1388,\n",
    "#   'dst_port': 0x1388,\n",
    "#   'verification_tag': client_verification_tag},\n",
    "#  'chunks': [{'chunk_flags': 0x00,\n",
    "#    '_selector': 11}],\n",
    "#  'epoch': 0x0001,\n",
    "#  'sequence_number': 0x000000000009})\n",
    "# sock.send(sctp_cookie_ack)"
   ]
  },
  {
   "cell_type": "code",
   "execution_count": 80,
   "metadata": {},
   "outputs": [],
   "source": [
    "sctp_data_sequence_number = 0"
   ]
  },
  {
   "cell_type": "code",
   "execution_count": 81,
   "metadata": {},
   "outputs": [],
   "source": [
    "data_send = create_sctp_message({'header': {'source_port': 0x1388,\n",
    "  'dst_port': 0x1388,\n",
    "  'verification_tag': client_verification_tag,\n",
    "  'checksum': 0x14fad29b},\n",
    " 'chunks': [{'res': 0b0000,\n",
    "   '_selector': 0x00,\n",
    "   'i': 0b0,\n",
    "   'u': 0b0,\n",
    "   'b': 0b1,\n",
    "   'e': 0b1,\n",
    "   'chunk_length': 0x0013,\n",
    "   'tsn': tsn,\n",
    "   's': 0x0000,\n",
    "   'n': sctp_data_sequence_number,\n",
    "   'payload_protocol_id': 0x00000033,\n",
    "   'data': \"hello, my name is mie2\"}],\n",
    " 'epoch': 0x0001,\n",
    " 'sequence_number': own_dtls_seq})\n",
    "own_dtls_seq += 1\n",
    "tsn += 1\n",
    "sctp_data_sequence_number += 1\n",
    "sock.send(data_send)"
   ]
  },
  {
   "cell_type": "code",
   "execution_count": 82,
   "metadata": {},
   "outputs": [
    {
     "data": {
      "text/plain": [
       "{'header': {'source_port': 0x1388,\n",
       "  'dst_port': 0x1388,\n",
       "  'verification_tag': 0xff448058,\n",
       "  'checksum': 0xe02faf3e},\n",
       " 'chunks': [{'_selector': 3,\n",
       "   'flags': 0,\n",
       "   'chunk_length': 0x0010,\n",
       "   'tsn_ack': 0xe306eef2,\n",
       "   'a_rwnd': 0x00480000,\n",
       "   'n_gap_ack_blocks': 0x0000,\n",
       "   'n_duplicate_tsns': 0x0000,\n",
       "   'gap_ack_duplicate_tsns': 0x}],\n",
       " 'epoch': 0x0001,\n",
       " 'sequence_number': 0x000000000006}"
      ]
     },
     "execution_count": 82,
     "metadata": {},
     "output_type": "execute_result"
    }
   ],
   "source": [
    "msg = dts_queue.get()\n",
    "data_ack_received = get_sctp_message(msg)\n",
    "data_ack_received"
   ]
  },
  {
   "cell_type": "code",
   "execution_count": 83,
   "metadata": {},
   "outputs": [
    {
     "name": "stdout",
     "output_type": "stream",
     "text": [
      "waiting for a message, please send a message from the other side...\n"
     ]
    },
    {
     "data": {
      "text/plain": [
       "{'header': {'source_port': 0x1388,\n",
       "  'dst_port': 0x1388,\n",
       "  'verification_tag': 0xff448058,\n",
       "  'checksum': 0x0cb06fc9},\n",
       " 'chunks': [{'_selector': 0,\n",
       "   'res': 0b0000,\n",
       "   'i': 0b0,\n",
       "   'u': 0b0,\n",
       "   'b': 0b1,\n",
       "   'e': 0b1,\n",
       "   'chunk_length': 0x0013,\n",
       "   'tsn': 0xee7dd972,\n",
       "   's': 0x0000,\n",
       "   'n': 0x0000,\n",
       "   'payload_protocol_id': 0x00000033,\n",
       "   'data': 0x617364}],\n",
       " 'epoch': 0x0001,\n",
       " 'sequence_number': 0x000000000007}"
      ]
     },
     "execution_count": 83,
     "metadata": {},
     "output_type": "execute_result"
    }
   ],
   "source": [
    "print('waiting for a message, please send a message from the other side...')\n",
    "msg = dts_queue.get()\n",
    "data_received = get_sctp_message(msg)\n",
    "data_received"
   ]
  },
  {
   "cell_type": "code",
   "execution_count": 84,
   "metadata": {},
   "outputs": [],
   "source": [
    "sack = create_sctp_message({'header': {'source_port': 0x1388,\n",
    "  'dst_port': 0x1388,\n",
    "  'verification_tag': client_verification_tag,\n",
    "  'checksum': 0xe02faf3e},\n",
    " 'chunks': [{'flags': 0x00,\n",
    "   '_selector': 0x03,\n",
    "   'chunk_length': 0x0010,\n",
    "   'tsn_ack': data_received['chunks'][-1]['tsn'],\n",
    "   'a_rwnd': 0x00480000,\n",
    "   'n_gap_ack_blocks': 0x0000,\n",
    "   'n_duplicate_tsns': 0x0000,\n",
    "   'gap_ack_duplicate_tsns': ''}],\n",
    " 'epoch': 0x0001,\n",
    " 'sequence_number': own_dtls_seq})\n",
    "own_dtls_seq += 1\n",
    "sock.send(sack)"
   ]
  },
  {
   "cell_type": "code",
   "execution_count": 85,
   "metadata": {},
   "outputs": [
    {
     "name": "stdout",
     "output_type": "stream",
     "text": [
      "waiting for a heartbeat, you can just wait...\n"
     ]
    },
    {
     "data": {
      "text/plain": [
       "{'header': {'source_port': 0x1388,\n",
       "  'dst_port': 0x1388,\n",
       "  'verification_tag': 0xff448058,\n",
       "  'checksum': 0xbd662d46},\n",
       " 'chunks': [{'_selector': 4,\n",
       "   'flags': 0,\n",
       "   'chunk_length': 0x0010,\n",
       "   'optional_attributes_encoded': 0x0001000c000000000653f318,\n",
       "   'optional_attributes': [{'type': 0x0001,\n",
       "     'length': 0x000c,\n",
       "     'data': b'\\x00\\x00\\x00\\x00\\x06S\\xf3\\x18'}]}],\n",
       " 'epoch': 0x0001,\n",
       " 'sequence_number': 0x000000000008}"
      ]
     },
     "execution_count": 85,
     "metadata": {},
     "output_type": "execute_result"
    }
   ],
   "source": [
    "print('waiting for a heartbeat, you can just wait...')\n",
    "msg = dts_queue.get()\n",
    "heartbeat_received = get_sctp_message(msg)\n",
    "heartbeat_received"
   ]
  },
  {
   "cell_type": "code",
   "execution_count": 86,
   "metadata": {},
   "outputs": [],
   "source": [
    "heartbeat_ack = create_sctp_message({'header': {'source_port': 0x1388,\n",
    "  'dst_port': 0x1388,\n",
    "  'verification_tag': client_verification_tag,\n",
    "  'checksum': 0x30743be0},\n",
    " 'chunks': [{'flags': 0x00,\n",
    "   '_selector': 0x05,\n",
    "   'chunk_length': 0x0010,\n",
    "   'optional_attributes_encoded': 0x0001000c00000000a92c0797,\n",
    "   'optional_attributes': [{'type': 0x0001,\n",
    "     'length': 0x000c,\n",
    "     'data': heartbeat_received['chunks'][0]['optional_attributes'][0]['data']}]}],\n",
    " 'epoch': 0x0001,\n",
    " 'sequence_number': own_dtls_seq})\n",
    "own_dtls_seq += 1\n",
    "sock.send(heartbeat_ack)"
   ]
  },
  {
   "cell_type": "code",
   "execution_count": 87,
   "metadata": {},
   "outputs": [],
   "source": [
    "background_sctp_handler_running = False\n",
    "try:\n",
    "    background_sctp_thread.join()\n",
    "except:\n",
    "    pass\n",
    "def message_handler(msg):\n",
    "    global own_dtls_seq\n",
    "    decoded = get_sctp_message(msg)\n",
    "    ret = []\n",
    "    for chunk in decoded['chunks']:\n",
    "        if chunk['_selector'] == 0: # data\n",
    "            sack = create_sctp_message({'header': {'source_port': 0x1388,\n",
    "                'dst_port': 0x1388,\n",
    "                'verification_tag': client_verification_tag,\n",
    "                'checksum': 0xe02faf3e},\n",
    "                'chunks': [{'flags': 0x00,\n",
    "                    '_selector': 0x03,\n",
    "                    'chunk_length': 0x0010,\n",
    "                    'tsn_ack': chunk['tsn'],\n",
    "                    'a_rwnd': 0x00480000,\n",
    "                    'n_gap_ack_blocks': 0x0000,\n",
    "                    'n_duplicate_tsns': 0x0000,\n",
    "                    'gap_ack_duplicate_tsns': ''}],\n",
    "                'epoch': 0x0001,\n",
    "                'sequence_number': own_dtls_seq})\n",
    "            own_dtls_seq += 1\n",
    "            sock.send(sack)\n",
    "            ret.append(chunk['data'])\n",
    "        elif chunk['_selector'] == 4: # heartbeat\n",
    "            heartbeat_ack = create_sctp_message({'header': {'source_port': 0x1388,\n",
    "                'dst_port': 0x1388,\n",
    "                'verification_tag': client_verification_tag,\n",
    "                'checksum': 0x30743be0},\n",
    "                'chunks': [{'flags': 0x00,\n",
    "                    '_selector': 0x05,\n",
    "                    'chunk_length': 0x0010,\n",
    "                    'optional_attributes_encoded': 0x0001000c00000000a92c0797,\n",
    "                    'optional_attributes': [{'type': 0x0001,\n",
    "                    'length': 0x000c,\n",
    "                    'data': chunk['optional_attributes'][0]['data']}]}],\n",
    "                'epoch': 0x0001,\n",
    "                'sequence_number': own_dtls_seq})\n",
    "            own_dtls_seq += 1\n",
    "            sock.send(heartbeat_ack)\n",
    "    return ret\n"
   ]
  },
  {
   "cell_type": "code",
   "execution_count": 88,
   "metadata": {},
   "outputs": [
    {
     "name": "stdout",
     "output_type": "stream",
     "text": [
      "b'\\x17\\xfe\\xfd\\x00\\x01\\x00\\x00\\x00\\x00\\x00\\t\\x004\\x00\\x01\\x00\\x00\\x00\\x00\\x00\\t\\xe1\\x98(\\xad\\xc0@\\x8dy\\xc0\\xd8\\xdd\\xc4\\xb0w\"w\\x85\\xf2`\\xf6\\x10\\xdf\\n5E\\xe7y\\xcb\\x88\\x8dS\\x07u\\x94\\xe1\\xae\\x82\\xdb\\xb3Rs\\xbd\\xa5\\xf2'\n",
      "[]\n",
      "exiting\n"
     ]
    }
   ],
   "source": [
    "background_sctp_handler_running = True\n",
    "def background_sctp_handler():\n",
    "    while background_sctp_handler_running:\n",
    "        msg = dts_queue.get()\n",
    "        print(msg)\n",
    "        print(message_handler(msg))\n",
    "    print(\"exiting\")\n",
    "\n",
    "background_sctp_thread = threading.Thread(target=background_sctp_handler)\n",
    "background_sctp_thread.start()"
   ]
  },
  {
   "cell_type": "code",
   "execution_count": 89,
   "metadata": {},
   "outputs": [],
   "source": [
    "def send_message(data):\n",
    "    global own_dtls_seq\n",
    "    global tsn\n",
    "    global sctp_data_sequence_number\n",
    "    data_send = create_sctp_message({'header': {'source_port': 0x1388,\n",
    "        'dst_port': 0x1388,\n",
    "        'verification_tag': client_verification_tag,\n",
    "        'checksum': 0x14fad29b},\n",
    "        'chunks': [{'res': 0b0000,\n",
    "            '_selector': 0x00,\n",
    "            'i': 0b0,\n",
    "            'u': 0b0,\n",
    "            'b': 0b1,\n",
    "            'e': 0b1,\n",
    "            'chunk_length': 0x0013,\n",
    "            'tsn': tsn,\n",
    "            's': 0x0000,\n",
    "            'n': sctp_data_sequence_number,\n",
    "            'payload_protocol_id': 0x00000033,\n",
    "            'data': data}],\n",
    "        'epoch': 0x0001,\n",
    "        'sequence_number': own_dtls_seq})\n",
    "    own_dtls_seq += 1\n",
    "    tsn += 1\n",
    "    sctp_data_sequence_number += 1\n",
    "    sock.send(data_send)"
   ]
  },
  {
   "cell_type": "code",
   "execution_count": 90,
   "metadata": {},
   "outputs": [],
   "source": [
    "send_message(\"hello a second time\")"
   ]
  },
  {
   "cell_type": "code",
   "execution_count": 91,
   "metadata": {},
   "outputs": [],
   "source": [
    "background_sctp_handler_running = False\n",
    "background_sctp_thread.join()"
   ]
  },
  {
   "cell_type": "code",
   "execution_count": 92,
   "metadata": {},
   "outputs": [
    {
     "name": "stdin",
     "output_type": "stream",
     "text": [
      " asd\n"
     ]
    },
    {
     "name": "stdout",
     "output_type": "stream",
     "text": [
      "> sfd\n"
     ]
    },
    {
     "ename": "KeyboardInterrupt",
     "evalue": "Interrupted by user",
     "output_type": "error",
     "traceback": [
      "\u001b[0;31m---------------------------------------------------------------------------\u001b[0m",
      "\u001b[0;31mKeyboardInterrupt\u001b[0m                         Traceback (most recent call last)",
      "Cell \u001b[0;32mIn[92], line 13\u001b[0m\n\u001b[1;32m     11\u001b[0m background_sctp_thread\u001b[38;5;241m.\u001b[39mstart()\n\u001b[1;32m     12\u001b[0m \u001b[38;5;28;01mwhile\u001b[39;00m \u001b[38;5;28;01mTrue\u001b[39;00m:\n\u001b[0;32m---> 13\u001b[0m     send_message(\u001b[38;5;28;43minput\u001b[39;49m\u001b[43m(\u001b[49m\u001b[43m)\u001b[49m)\n",
      "File \u001b[0;32m~/.virtualenvs/notebooks/lib/python3.12/site-packages/ipykernel/kernelbase.py:1282\u001b[0m, in \u001b[0;36mKernel.raw_input\u001b[0;34m(self, prompt)\u001b[0m\n\u001b[1;32m   1280\u001b[0m     msg \u001b[38;5;241m=\u001b[39m \u001b[38;5;124m\"\u001b[39m\u001b[38;5;124mraw_input was called, but this frontend does not support input requests.\u001b[39m\u001b[38;5;124m\"\u001b[39m\n\u001b[1;32m   1281\u001b[0m     \u001b[38;5;28;01mraise\u001b[39;00m StdinNotImplementedError(msg)\n\u001b[0;32m-> 1282\u001b[0m \u001b[38;5;28;01mreturn\u001b[39;00m \u001b[38;5;28;43mself\u001b[39;49m\u001b[38;5;241;43m.\u001b[39;49m\u001b[43m_input_request\u001b[49m\u001b[43m(\u001b[49m\n\u001b[1;32m   1283\u001b[0m \u001b[43m    \u001b[49m\u001b[38;5;28;43mstr\u001b[39;49m\u001b[43m(\u001b[49m\u001b[43mprompt\u001b[49m\u001b[43m)\u001b[49m\u001b[43m,\u001b[49m\n\u001b[1;32m   1284\u001b[0m \u001b[43m    \u001b[49m\u001b[38;5;28;43mself\u001b[39;49m\u001b[38;5;241;43m.\u001b[39;49m\u001b[43m_parent_ident\u001b[49m\u001b[43m[\u001b[49m\u001b[38;5;124;43m\"\u001b[39;49m\u001b[38;5;124;43mshell\u001b[39;49m\u001b[38;5;124;43m\"\u001b[39;49m\u001b[43m]\u001b[49m\u001b[43m,\u001b[49m\n\u001b[1;32m   1285\u001b[0m \u001b[43m    \u001b[49m\u001b[38;5;28;43mself\u001b[39;49m\u001b[38;5;241;43m.\u001b[39;49m\u001b[43mget_parent\u001b[49m\u001b[43m(\u001b[49m\u001b[38;5;124;43m\"\u001b[39;49m\u001b[38;5;124;43mshell\u001b[39;49m\u001b[38;5;124;43m\"\u001b[39;49m\u001b[43m)\u001b[49m\u001b[43m,\u001b[49m\n\u001b[1;32m   1286\u001b[0m \u001b[43m    \u001b[49m\u001b[43mpassword\u001b[49m\u001b[38;5;241;43m=\u001b[39;49m\u001b[38;5;28;43;01mFalse\u001b[39;49;00m\u001b[43m,\u001b[49m\n\u001b[1;32m   1287\u001b[0m \u001b[43m\u001b[49m\u001b[43m)\u001b[49m\n",
      "File \u001b[0;32m~/.virtualenvs/notebooks/lib/python3.12/site-packages/ipykernel/kernelbase.py:1325\u001b[0m, in \u001b[0;36mKernel._input_request\u001b[0;34m(self, prompt, ident, parent, password)\u001b[0m\n\u001b[1;32m   1322\u001b[0m \u001b[38;5;28;01mexcept\u001b[39;00m \u001b[38;5;167;01mKeyboardInterrupt\u001b[39;00m:\n\u001b[1;32m   1323\u001b[0m     \u001b[38;5;66;03m# re-raise KeyboardInterrupt, to truncate traceback\u001b[39;00m\n\u001b[1;32m   1324\u001b[0m     msg \u001b[38;5;241m=\u001b[39m \u001b[38;5;124m\"\u001b[39m\u001b[38;5;124mInterrupted by user\u001b[39m\u001b[38;5;124m\"\u001b[39m\n\u001b[0;32m-> 1325\u001b[0m     \u001b[38;5;28;01mraise\u001b[39;00m \u001b[38;5;167;01mKeyboardInterrupt\u001b[39;00m(msg) \u001b[38;5;28;01mfrom\u001b[39;00m \u001b[38;5;28;01mNone\u001b[39;00m\n\u001b[1;32m   1326\u001b[0m \u001b[38;5;28;01mexcept\u001b[39;00m \u001b[38;5;167;01mException\u001b[39;00m:\n\u001b[1;32m   1327\u001b[0m     \u001b[38;5;28mself\u001b[39m\u001b[38;5;241m.\u001b[39mlog\u001b[38;5;241m.\u001b[39mwarning(\u001b[38;5;124m\"\u001b[39m\u001b[38;5;124mInvalid Message:\u001b[39m\u001b[38;5;124m\"\u001b[39m, exc_info\u001b[38;5;241m=\u001b[39m\u001b[38;5;28;01mTrue\u001b[39;00m)\n",
      "\u001b[0;31mKeyboardInterrupt\u001b[0m: Interrupted by user"
     ]
    }
   ],
   "source": [
    "background_sctp_handler_running = True\n",
    "def background_sctp_handler():\n",
    "    while background_sctp_handler_running:\n",
    "        msg = dts_queue.get()\n",
    "        ret = message_handler(msg)\n",
    "        for i in ret:\n",
    "            print('>', i._value('str'))\n",
    "    print(\"exiting\")\n",
    "\n",
    "background_sctp_thread = threading.Thread(target=background_sctp_handler)\n",
    "background_sctp_thread.start()\n",
    "while True:\n",
    "    send_message(input())"
   ]
  },
  {
   "cell_type": "code",
   "execution_count": null,
   "metadata": {},
   "outputs": [],
   "source": []
  }
 ],
 "metadata": {
  "kernelspec": {
   "display_name": "Python 3 (ipykernel)",
   "language": "python",
   "name": "python3"
  },
  "language_info": {
   "codemirror_mode": {
    "name": "ipython",
    "version": 3
   },
   "file_extension": ".py",
   "mimetype": "text/x-python",
   "name": "python",
   "nbconvert_exporter": "python",
   "pygments_lexer": "ipython3",
   "version": "3.12.4"
  }
 },
 "nbformat": 4,
 "nbformat_minor": 4
}
