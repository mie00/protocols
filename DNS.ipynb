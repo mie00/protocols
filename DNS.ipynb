{
 "cells": [
  {
   "cell_type": "code",
   "execution_count": 246,
   "metadata": {
    "ExecuteTime": {
     "end_time": "2022-02-17T12:21:51.131085Z",
     "start_time": "2022-02-17T12:21:51.115973Z"
    }
   },
   "outputs": [],
   "source": [
    "from parser import public_construct, public_match"
   ]
  },
  {
   "cell_type": "code",
   "execution_count": 247,
   "metadata": {
    "ExecuteTime": {
     "end_time": "2022-02-17T12:21:51.932612Z",
     "start_time": "2022-02-17T12:21:51.926891Z"
    }
   },
   "outputs": [],
   "source": [
    "from utils import SocketReader"
   ]
  },
  {
   "cell_type": "code",
   "execution_count": 248,
   "metadata": {
    "ExecuteTime": {
     "end_time": "2022-02-17T12:21:52.581795Z",
     "start_time": "2022-02-17T12:21:52.576699Z"
    }
   },
   "outputs": [],
   "source": [
    "try:\n",
    "    sock.close()\n",
    "except:\n",
    "    pass\n",
    "\n",
    "sock = SocketReader(\"8.8.8.8\", 53, 'udp')\n",
    "\n",
    "sock.connect()"
   ]
  },
  {
   "cell_type": "code",
   "execution_count": 249,
   "metadata": {
    "ExecuteTime": {
     "end_time": "2022-02-17T12:24:51.841768Z",
     "start_time": "2022-02-17T12:24:51.837130Z"
    }
   },
   "outputs": [],
   "source": [
    "dns_header_spec = \"\"\"\n",
    "16@id\n",
    "-1@qr-4@opcode-1@aa-1@tc-1@rd-1@ra-3@z-4@rcode\n",
    "-16@qcount\n",
    "-16@ancount\n",
    "-16@nscount\n",
    "-16@arcount\n",
    "\"\"\"\n",
    "\n",
    "hostname_spec = \"\"\"\n",
    "~\\0@question(\n",
    "    ...8@parts()\n",
    ")\n",
    "\"\"\"\n",
    "\n",
    "dns_question_spec = hostname_spec + \"\"\"\n",
    "-16@type\n",
    "-16@class\n",
    "\"\"\"\n",
    "\n",
    "\n",
    "dns_answer_spec = dns_question_spec + \"\"\"\n",
    "-32@ttl\n",
    "-16@answer()\n",
    "\"\"\"\n",
    "\n",
    "compressed_dns_answer_spec = \"\"\"\n",
    "2@ones\n",
    "-14@pointer\n",
    "-16@type\n",
    "-16@class\n",
    "-32@ttl\n",
    "-16@answer()\n",
    "\"\"\""
   ]
  },
  {
   "cell_type": "code",
   "execution_count": 250,
   "metadata": {
    "ExecuteTime": {
     "end_time": "2022-02-17T12:25:11.550434Z",
     "start_time": "2022-02-17T12:25:11.544180Z"
    }
   },
   "outputs": [],
   "source": [
    "dns_header = {\n",
    "    'id': 0x911f,\n",
    "    'qr': 0b0,\n",
    "    'opcode': 0b0000,\n",
    "    'aa': 0b0,\n",
    "    'tc': 0b0,\n",
    "    'rd': 0b1,\n",
    "    'ra': 0b0,\n",
    "    'z': 0b000,\n",
    "    'rcode': 0b0000,\n",
    "    'qcount': 1,\n",
    "    'ancount': 0,\n",
    "    'nscount': 0,\n",
    "    'arcount': 0\n",
    "}\n",
    "\n",
    "dns_question = {\n",
    "    'question': {\n",
    "        'parts': [\n",
    "            \"www\", \"google\", \"com\"\n",
    "        ],\n",
    "    },\n",
    "    'type': 1,\n",
    "    'class': 1\n",
    "}"
   ]
  },
  {
   "cell_type": "code",
   "execution_count": 251,
   "metadata": {
    "ExecuteTime": {
     "end_time": "2022-02-17T12:25:16.715378Z",
     "start_time": "2022-02-17T12:25:16.706779Z"
    }
   },
   "outputs": [
    {
     "name": "stdout",
     "output_type": "stream",
     "text": [
      "b'\\x91\\x1f\\x01\\x00\\x00\\x01\\x00\\x00\\x00\\x00\\x00\\x00\\x03www\\x06google\\x03com\\x00\\x00\\x01\\x00\\x01'\n"
     ]
    }
   ],
   "source": [
    "req = b''\n",
    "header_data = public_construct(dns_header_spec, dns_header)\n",
    "req += header_data\n",
    "\n",
    "question_data = public_construct(dns_question_spec, dns_question)\n",
    "req += question_data\n",
    "print(req)"
   ]
  },
  {
   "cell_type": "code",
   "execution_count": 252,
   "metadata": {
    "ExecuteTime": {
     "end_time": "2022-02-17T12:25:43.264567Z",
     "start_time": "2022-02-17T12:25:43.259208Z"
    }
   },
   "outputs": [],
   "source": [
    "sock.send(req)"
   ]
  },
  {
   "cell_type": "code",
   "execution_count": 253,
   "metadata": {
    "ExecuteTime": {
     "end_time": "2022-02-17T12:25:44.517058Z",
     "start_time": "2022-02-17T12:25:44.512700Z"
    }
   },
   "outputs": [],
   "source": [
    "resp = sock.read_once()"
   ]
  },
  {
   "cell_type": "code",
   "execution_count": 254,
   "metadata": {
    "ExecuteTime": {
     "end_time": "2022-02-17T12:25:46.050203Z",
     "start_time": "2022-02-17T12:25:46.033648Z"
    }
   },
   "outputs": [
    {
     "data": {
      "text/plain": [
       "{'id': 0x911f,\n",
       " 'qr': 0b1,\n",
       " 'opcode': 0b0000,\n",
       " 'aa': 0b0,\n",
       " 'tc': 0b0,\n",
       " 'rd': 0b1,\n",
       " 'ra': 0b1,\n",
       " 'z': 0b000,\n",
       " 'rcode': 0b0000,\n",
       " 'qcount': 0x0001,\n",
       " 'ancount': 0x0001,\n",
       " 'nscount': 0x0000,\n",
       " 'arcount': 0x0000}"
      ]
     },
     "execution_count": 254,
     "metadata": {},
     "output_type": "execute_result"
    }
   ],
   "source": [
    "res, rem = public_match(dns_header_spec, resp)\n",
    "res"
   ]
  },
  {
   "cell_type": "code",
   "execution_count": 255,
   "metadata": {
    "ExecuteTime": {
     "end_time": "2022-02-17T12:26:05.984833Z",
     "start_time": "2022-02-17T12:26:05.979915Z"
    }
   },
   "outputs": [
    {
     "data": {
      "text/plain": [
       "[{'question': {'parts': [\"www\", \"google\", \"com\"]},\n",
       "  'type': 0x0001,\n",
       "  'class': 0x0001}]"
      ]
     },
     "execution_count": 255,
     "metadata": {},
     "output_type": "execute_result"
    }
   ],
   "source": [
    "questions = []\n",
    "for i in range(res['qcount'].int()):\n",
    "    question, rem = public_match(dns_question_spec, rem)\n",
    "    questions.append(question)\n",
    "\n",
    "questions"
   ]
  },
  {
   "cell_type": "code",
   "execution_count": 256,
   "metadata": {
    "ExecuteTime": {
     "end_time": "2022-02-17T12:26:13.807697Z",
     "start_time": "2022-02-17T12:26:13.799490Z"
    }
   },
   "outputs": [
    {
     "name": "stdout",
     "output_type": "stream",
     "text": [
      "b'\\xc0\\x0c\\x00\\x01\\x00\\x01\\x00\\x00\\x00I\\x00\\x04\\xac\\xd9\\x17\\xc4'\n",
      "192\n"
     ]
    },
    {
     "data": {
      "text/plain": [
       "[{'ones': 0b11,\n",
       "  'pointer': 0b00000000001100,\n",
       "  'type': 0x0001,\n",
       "  'class': 0x0001,\n",
       "  'ttl': 0x00000049,\n",
       "  'answer': 0xacd917c4}]"
      ]
     },
     "execution_count": 256,
     "metadata": {},
     "output_type": "execute_result"
    }
   ],
   "source": [
    "print(rem)\n",
    "answers = []\n",
    "for i in range(res['ancount'].int()):\n",
    "    print(rem[0])\n",
    "    if rem[0] & 0b11<<6 == 0b11<<6:\n",
    "        answer, rem = public_match(compressed_dns_answer_spec, rem)\n",
    "        answers.append(answer)\n",
    "    else:\n",
    "        answer, rem = public_match(dns_answer_spec, rem)\n",
    "        answers.append(answer)\n",
    "\n",
    "answers"
   ]
  },
  {
   "cell_type": "code",
   "execution_count": 257,
   "metadata": {
    "ExecuteTime": {
     "end_time": "2022-02-17T12:26:24.209582Z",
     "start_time": "2022-02-17T12:26:24.202899Z"
    }
   },
   "outputs": [
    {
     "name": "stdout",
     "output_type": "stream",
     "text": [
      "found ip 172.217.23.196 for www.google.com\n"
     ]
    }
   ],
   "source": [
    "for answer in answers:\n",
    "    if answer['type'].int() == 1 and answer['class'].int() == 1:\n",
    "        ip_bytes = answer['answer'].bytes()\n",
    "        ip = '%d.%d.%d.%d'%tuple([int(s) for s in ip_bytes])\n",
    "        if 'question' in answer:\n",
    "            for_ = '.'.join(x.str() for x in answer['question']['parts'])\n",
    "        else:\n",
    "            tmp, _ = public_match(hostname_spec, resp[answers[0]['pointer'].int():])\n",
    "            for_ = '.'.join(x.str() for x in tmp['question']['parts'])\n",
    "        print(\"found ip\", ip, \"for\", for_)"
   ]
  },
  {
   "cell_type": "code",
   "execution_count": 258,
   "metadata": {},
   "outputs": [],
   "source": [
    "sock.close()"
   ]
  },
  {
   "cell_type": "code",
   "execution_count": null,
   "metadata": {},
   "outputs": [],
   "source": []
  }
 ],
 "metadata": {
  "kernelspec": {
   "display_name": "Python 3 (ipykernel)",
   "language": "python",
   "name": "python3"
  },
  "language_info": {
   "codemirror_mode": {
    "name": "ipython",
    "version": 3
   },
   "file_extension": ".py",
   "mimetype": "text/x-python",
   "name": "python",
   "nbconvert_exporter": "python",
   "pygments_lexer": "ipython3",
   "version": "3.12.3"
  }
 },
 "nbformat": 4,
 "nbformat_minor": 4
}
