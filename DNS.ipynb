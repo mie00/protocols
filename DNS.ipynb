{
 "cells": [
  {
   "cell_type": "code",
   "execution_count": 1,
   "metadata": {
    "ExecuteTime": {
     "end_time": "2022-02-17T12:21:51.131085Z",
     "start_time": "2022-02-17T12:21:51.115973Z"
    }
   },
   "outputs": [
    {
     "name": "stderr",
     "output_type": "stream",
     "text": [
      "Generating LALR tables\n",
      "WARNING: 5 shift/reduce conflicts\n"
     ]
    }
   ],
   "source": [
    "from new_parser import construct, match, parser"
   ]
  },
  {
   "cell_type": "code",
   "execution_count": 2,
   "metadata": {
    "ExecuteTime": {
     "end_time": "2022-02-17T12:21:51.932612Z",
     "start_time": "2022-02-17T12:21:51.926891Z"
    }
   },
   "outputs": [],
   "source": [
    "from utils import SocketReader"
   ]
  },
  {
   "cell_type": "code",
   "execution_count": 3,
   "metadata": {
    "ExecuteTime": {
     "end_time": "2022-02-17T12:21:52.581795Z",
     "start_time": "2022-02-17T12:21:52.576699Z"
    }
   },
   "outputs": [],
   "source": [
    "try:\n",
    "    sock.close()\n",
    "except:\n",
    "    pass\n",
    "\n",
    "sock = SocketReader(\"8.8.8.8\", 53, 'udp')\n",
    "\n",
    "sock.connect()"
   ]
  },
  {
   "cell_type": "code",
   "execution_count": 4,
   "metadata": {
    "ExecuteTime": {
     "end_time": "2022-02-17T12:24:51.841768Z",
     "start_time": "2022-02-17T12:24:51.837130Z"
    }
   },
   "outputs": [],
   "source": [
    "dns_packet_spec = r\"\"\"\n",
    "16@id[hex]\n",
    "-1@qr-4@opcode[int]-1@aa-1@tc-1@rd-1@ra-3==0-4@rcode[int]\n",
    "-16@qcount[int]\n",
    "-16@ancount[int]\n",
    "-16@nscount[int]\n",
    "-16@arcount[int]\n",
    "-{qcount}...@questions(\n",
    "    ~\\0@question(\n",
    "        ...8@parts[str]()\n",
    "    )\n",
    "    -16@type\n",
    "    -16@class\n",
    ")\n",
    "-{ancount}...@answers(\n",
    "    (\n",
    "        2==0b11\n",
    "        -14@pointer[int]\n",
    "        |\n",
    "        ~\\0@question(\n",
    "            ...8@parts()\n",
    "        )\n",
    "    )\n",
    "    -16==1@type\n",
    "    -16@class\n",
    "    -32@ttl\n",
    "    -16@answer[ip]()\n",
    ")\n",
    "\"\"\"\n",
    "dns_mappings = {\n",
    "    'type': [('A', 1), ('CNAME', 5)],\n",
    "    'class': [('IN', 1)],\n",
    "}"
   ]
  },
  {
   "cell_type": "code",
   "execution_count": 5,
   "metadata": {
    "ExecuteTime": {
     "end_time": "2022-02-17T12:25:11.550434Z",
     "start_time": "2022-02-17T12:25:11.544180Z"
    }
   },
   "outputs": [],
   "source": [
    "dns_packet = {\n",
    "    'id': 0x911f,\n",
    "    'qr': 0b0,\n",
    "    'opcode': 0b0000,\n",
    "    'aa': 0b0,\n",
    "    'tc': 0b0,\n",
    "    'rd': 0b1,\n",
    "    'ra': 0b0,\n",
    "    'z': 0b000,\n",
    "    'rcode': 0b0000,\n",
    "    'qcount': 1,\n",
    "    'ancount': 0,\n",
    "    'nscount': 0,\n",
    "    'arcount': 0,\n",
    "    'questions': [{\n",
    "        'question': {\n",
    "            'parts': [\n",
    "                \"www\", \"google\", \"com\"\n",
    "            ],\n",
    "        },\n",
    "        'type': 'A',\n",
    "        'class': 'IN'\n",
    "    }]\n",
    "}"
   ]
  },
  {
   "cell_type": "code",
   "execution_count": 6,
   "metadata": {
    "ExecuteTime": {
     "end_time": "2022-02-17T12:25:16.715378Z",
     "start_time": "2022-02-17T12:25:16.706779Z"
    }
   },
   "outputs": [
    {
     "name": "stdout",
     "output_type": "stream",
     "text": [
      "b'\\x91\\x1f\\x01\\x00\\x00\\x01\\x00\\x00\\x00\\x00\\x00\\x00\\x03www\\x06google\\x03com\\x00\\x00\\x01\\x00\\x01'\n"
     ]
    }
   ],
   "source": [
    "question = construct(dns_packet_spec, dns_packet, mappings=dns_mappings)\n",
    "print(question)"
   ]
  },
  {
   "cell_type": "code",
   "execution_count": 7,
   "metadata": {
    "ExecuteTime": {
     "end_time": "2022-02-17T12:25:43.264567Z",
     "start_time": "2022-02-17T12:25:43.259208Z"
    }
   },
   "outputs": [],
   "source": [
    "sock.send(question)"
   ]
  },
  {
   "cell_type": "code",
   "execution_count": 8,
   "metadata": {
    "ExecuteTime": {
     "end_time": "2022-02-17T12:25:44.517058Z",
     "start_time": "2022-02-17T12:25:44.512700Z"
    }
   },
   "outputs": [],
   "source": [
    "resp = sock.read_once()"
   ]
  },
  {
   "cell_type": "code",
   "execution_count": 9,
   "metadata": {},
   "outputs": [
    {
     "data": {
      "text/plain": [
       "b'\\x91\\x1f\\x81\\x80\\x00\\x01\\x00\\x01\\x00\\x00\\x00\\x00\\x03www\\x06google\\x03com\\x00\\x00\\x01\\x00\\x01\\xc0\\x0c\\x00\\x01\\x00\\x01\\x00\\x00\\x00#\\x00\\x04\\xac\\xd9\\xa8\\xe4'"
      ]
     },
     "execution_count": 9,
     "metadata": {},
     "output_type": "execute_result"
    }
   ],
   "source": [
    "resp"
   ]
  },
  {
   "cell_type": "code",
   "execution_count": 10,
   "metadata": {
    "ExecuteTime": {
     "end_time": "2022-02-17T12:25:46.050203Z",
     "start_time": "2022-02-17T12:25:46.033648Z"
    }
   },
   "outputs": [
    {
     "data": {
      "text/plain": [
       "{'id': 0x911f,\n",
       " 'qr': 0b1,\n",
       " 'opcode': 0,\n",
       " 'aa': 0b0,\n",
       " 'tc': 0b0,\n",
       " 'rd': 0b1,\n",
       " 'ra': 0b1,\n",
       " 'rcode': 0,\n",
       " 'qcount': 1,\n",
       " 'ancount': 1,\n",
       " 'nscount': 0,\n",
       " 'arcount': 0,\n",
       " 'questions': [{'question': {'parts': ['www', 'google', 'com']},\n",
       "   'type': 'A',\n",
       "   'class': 'IN'}],\n",
       " 'answers': [{'pointer': 12,\n",
       "   'type': 'A',\n",
       "   'class': 'IN',\n",
       "   'ttl': 0x00000023,\n",
       "   'answer': '172.217.168.228'}]}"
      ]
     },
     "execution_count": 10,
     "metadata": {},
     "output_type": "execute_result"
    }
   ],
   "source": [
    "res, rem = match(dns_packet_spec, resp, mappings=dns_mappings, verbose=True)\n",
    "res"
   ]
  },
  {
   "cell_type": "code",
   "execution_count": 17,
   "metadata": {},
   "outputs": [
    {
     "name": "stdout",
     "output_type": "stream",
     "text": [
      "found www.google.com -> '172.217.168.228'\n"
     ]
    }
   ],
   "source": [
    "for answer in res['answers']:\n",
    "    parts = None\n",
    "    if 'question' in answer:\n",
    "        parts = answer['question']['parts']\n",
    "    else:\n",
    "        m, _ = match(r\"\"\"~\\0@question(\n",
    "            ...8@parts[str]()\n",
    "        )\"\"\", resp[answer['pointer']._value():])\n",
    "        parts = m['question']['parts']\n",
    "    ip = '.'.join(i._value() for i in parts)\n",
    "    print('found {} -> {}'.format(ip, answer['answer']))\n",
    "        "
   ]
  },
  {
   "cell_type": "code",
   "execution_count": 18,
   "metadata": {},
   "outputs": [],
   "source": [
    "sock.close()"
   ]
  },
  {
   "cell_type": "code",
   "execution_count": null,
   "metadata": {},
   "outputs": [],
   "source": []
  }
 ],
 "metadata": {
  "kernelspec": {
   "display_name": "Python 3 (ipykernel)",
   "language": "python",
   "name": "python3"
  },
  "language_info": {
   "codemirror_mode": {
    "name": "ipython",
    "version": 3
   },
   "file_extension": ".py",
   "mimetype": "text/x-python",
   "name": "python",
   "nbconvert_exporter": "python",
   "pygments_lexer": "ipython3",
   "version": "3.12.4"
  }
 },
 "nbformat": 4,
 "nbformat_minor": 4
}
