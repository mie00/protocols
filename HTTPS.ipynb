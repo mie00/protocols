{
 "cells": [
  {
   "cell_type": "code",
   "execution_count": 1,
   "metadata": {
    "ExecuteTime": {
     "end_time": "2022-02-17T12:50:06.755618Z",
     "start_time": "2022-02-17T12:50:06.751671Z"
    }
   },
   "outputs": [],
   "source": [
    "from parser import public_construct, public_match, public_match_exact"
   ]
  },
  {
   "cell_type": "code",
   "execution_count": 2,
   "metadata": {
    "ExecuteTime": {
     "end_time": "2022-02-17T12:50:06.781094Z",
     "start_time": "2022-02-17T12:50:06.760315Z"
    }
   },
   "outputs": [],
   "source": [
    "from utils import SocketReader, ReaderWrapper"
   ]
  },
  {
   "cell_type": "code",
   "execution_count": 3,
   "metadata": {
    "ExecuteTime": {
     "end_time": "2022-02-17T12:50:06.806627Z",
     "start_time": "2022-02-17T12:50:06.782923Z"
    }
   },
   "outputs": [],
   "source": [
    "from cryptography.hazmat.primitives.asymmetric.x25519 import X25519PrivateKey, X25519PublicKey\n",
    "from cryptography.hazmat.primitives import serialization\n",
    "from cryptography.hazmat.primitives import hashes\n",
    "from cryptography.hazmat.primitives.kdf.hkdf import HKDFExpand, HKDF\n",
    "from cryptography.hazmat.primitives.hmac import HMAC\n",
    "from cryptography.hazmat.primitives.ciphers.aead import AESGCM\n",
    "from cryptography.hazmat.primitives.asymmetric import ec"
   ]
  },
  {
   "cell_type": "code",
   "execution_count": 4,
   "metadata": {
    "ExecuteTime": {
     "end_time": "2022-02-17T12:50:06.853077Z",
     "start_time": "2022-02-17T12:50:06.808329Z"
    }
   },
   "outputs": [],
   "source": [
    "try:\n",
    "    sock.close()\n",
    "except:\n",
    "    pass\n",
    "\n",
    "sock = SocketReader(\"www.google.com\", 443, 'tcp')\n",
    "\n",
    "sock.connect()"
   ]
  },
  {
   "cell_type": "code",
   "execution_count": 5,
   "metadata": {
    "ExecuteTime": {
     "end_time": "2022-02-17T12:50:06.857879Z",
     "start_time": "2022-02-17T12:50:06.854416Z"
    }
   },
   "outputs": [],
   "source": [
    "client_hello_spec = \"\"\"\n",
    "8==1?24@client_hello(\n",
    "    16@version\n",
    "    -32B@random\n",
    "    -8@session_id()\n",
    "    -16@suites(...16)\n",
    "    -8@compression()\n",
    "    -16@extensions(\n",
    "        ...(\n",
    "            16==0?16@ext_server_name(\n",
    "                16@data(\n",
    "                    8@name_type\n",
    "                    -16@host_name()\n",
    "                )\n",
    "            )\n",
    "            :16==5?16@ext_status_request(\n",
    "                8@status_type\n",
    "                -16@responder_id_list\n",
    "                -16@request_extensions\n",
    "            )\n",
    "            :16==10?16@ext_supported_curves(\n",
    "                16@data(...16)\n",
    "            )\n",
    "            :16==11?16@ext_supported_points(\n",
    "                8@supported_points()\n",
    "            )\n",
    "            :16==35?16@ext_session_tickets()\n",
    "            :16==13?16@ext_signature_algorithms(\n",
    "                16@data(...16)\n",
    "            )\n",
    "            :16==50?16@ext_signature_algorithms_cert(\n",
    "                16@data(...16)\n",
    "            )\n",
    "            :16==0xff01?16@ext_renegotiation_info(\n",
    "                8@secure_renegotitation()\n",
    "            )\n",
    "            :16==16?16@ext_alpn(\n",
    "                16@alpn_protocols(...8())\n",
    "            )\n",
    "            :16==43?16@ext_suppoerted_versions(\n",
    "                8@supported_versions(...16)\n",
    "            )\n",
    "            :16==44?16@ext_cookie(\n",
    "                16@cookie()\n",
    "            )\n",
    "            :16==51?16@ext_key_share(\n",
    "                16@key_shares(\n",
    "                    ...(\n",
    "                        16@group\n",
    "                        -16@data()\n",
    "                    )\n",
    "                )\n",
    "            )\n",
    "            :16==18?16@ext_sct(\n",
    "                16@scts(\n",
    "                    ...16@data()\n",
    "                )\n",
    "            )\n",
    "            :16==24?16@ext_token_binding(\n",
    "\n",
    "            )\n",
    "            :16==42?16@empty()\n",
    "            :16==45?16@ext_psk_modes(\n",
    "                8@psk_modes()\n",
    "            )\n",
    "            :16==41?16@ext_pre_shared_key(\n",
    "                16@psk_identities(\n",
    "                    ...(\n",
    "                        16@label()\n",
    "                        -32@obfuscated_ticket_age\n",
    "                    )\n",
    "                )\n",
    "                -16@psk_binders(\n",
    "                    ...8()\n",
    "                )\n",
    "            )\n",
    "            :16@selector-16@raw_extension()\n",
    "        )\n",
    "    )\n",
    ")\"\"\"\n",
    "\n",
    "client_hello_packet_spec = \"\"\"\n",
    "8==22?16@tls_version-16@tls_handshake(%s)\n",
    "\"\"\"%client_hello_spec"
   ]
  },
  {
   "cell_type": "code",
   "execution_count": 6,
   "metadata": {
    "ExecuteTime": {
     "end_time": "2022-02-17T12:50:06.882927Z",
     "start_time": "2022-02-17T12:50:06.859625Z"
    }
   },
   "outputs": [],
   "source": [
    "private_key = X25519PrivateKey.generate()\n",
    "\n",
    "public_key = private_key.public_key().public_bytes(serialization.Encoding.Raw, serialization.PublicFormat.Raw)"
   ]
  },
  {
   "cell_type": "code",
   "execution_count": 7,
   "metadata": {
    "ExecuteTime": {
     "end_time": "2022-02-17T12:50:06.908085Z",
     "start_time": "2022-02-17T12:50:06.885764Z"
    }
   },
   "outputs": [],
   "source": [
    "transcript = hashes.Hash(hashes.SHA256())"
   ]
  },
  {
   "cell_type": "code",
   "execution_count": 8,
   "metadata": {
    "ExecuteTime": {
     "end_time": "2022-02-17T12:50:06.933281Z",
     "start_time": "2022-02-17T12:50:06.909992Z"
    }
   },
   "outputs": [],
   "source": [
    "client_hello = {\n",
    "    'client_hello': {\n",
    "        'version': 0x0303,\n",
    "        'random': 0xab6618b2bf3898950c1f4820897760317c348c3b9c8288a05e436d4ba4631d9d,\n",
    "        'session_id': 0x130262b1ed623d15dae118905cde48936edcf578fa422d946c5285423d6234e6,\n",
    "        'suites': [0x1301],\n",
    "        'compression': 0x00,\n",
    "        'extensions': [\n",
    "            {\n",
    "                'ext_server_name': {\n",
    "                    'data': {\n",
    "                        'name_type': 0x00, 'host_name': \"www.google.com\"\n",
    "                    }\n",
    "                }, '_selector': 0x0000\n",
    "            },\n",
    "            {\n",
    "                'ext_status_request': {\n",
    "                    'status_type': 0x01, 'responder_id_list': 0x0000, 'request_extensions': 0x0000\n",
    "                },\n",
    "                '_selector': 0x0005\n",
    "            },\n",
    "            {\n",
    "                'ext_supported_curves': {\n",
    "                    'data': [0x001d]\n",
    "                }, '_selector': 0x000a\n",
    "            },\n",
    "            {\n",
    "                'ext_supported_points': {\n",
    "                    'supported_points': 0x00\n",
    "                }, '_selector': 0x000b\n",
    "            },\n",
    "            {\n",
    "                'ext_signature_algorithms': {\n",
    "                    'data': [0x0403]\n",
    "                }, '_selector': 0x000d\n",
    "            },\n",
    "            {\n",
    "                'ext_renegotiation_info': {\n",
    "                    'secure_renegotitation': ''\n",
    "                }, '_selector': 0xff01\n",
    "            },\n",
    "            {\n",
    "                'ext_alpn': {\n",
    "                    'alpn_protocols': [\"http/1.1\"]\n",
    "                }, '_selector': 0x0010\n",
    "            },\n",
    "            {\n",
    "                'ext_sct': '', '_selector': 0x0012\n",
    "            },\n",
    "            {\n",
    "                'ext_suppoerted_versions': {\n",
    "                    'supported_versions': [0x0304, 0x0303, 0x0302, 0x0301]\n",
    "                },\n",
    "                '_selector': 0x002b\n",
    "            },\n",
    "            {\n",
    "                'ext_key_share': {\n",
    "                    'key_shares': [\n",
    "                        {\n",
    "                            'group': 0x001d, 'data': public_key\n",
    "                        }\n",
    "                    ]\n",
    "                },\n",
    "                '_selector': 0x0033\n",
    "            }\n",
    "        ]\n",
    "    },\n",
    "    '_selector': 0x01\n",
    "}\n",
    "\n",
    "client_hello_packet = {\n",
    "    \"tls_version\": 0x0301,\n",
    "    \"tls_handshake\": client_hello,\n",
    "    \"_selector\": 22\n",
    "}"
   ]
  },
  {
   "cell_type": "code",
   "execution_count": 9,
   "metadata": {
    "ExecuteTime": {
     "end_time": "2022-02-17T12:50:06.961215Z",
     "start_time": "2022-02-17T12:50:06.934671Z"
    }
   },
   "outputs": [
    {
     "data": {
      "text/plain": [
       "b'\\x16\\x03\\x01\\x00\\xd4\\x01\\x00\\x00\\xd0\\x03\\x03\\xabf\\x18\\xb2\\xbf8\\x98\\x95\\x0c\\x1fH \\x89w`1|4\\x8c;\\x9c\\x82\\x88\\xa0^CmK\\xa4c\\x1d\\x9d \\x13\\x02b\\xb1\\xedb=\\x15\\xda\\xe1\\x18\\x90\\\\\\xdeH\\x93n\\xdc\\xf5x\\xfaB-\\x94lR\\x85B=b4\\xe6\\x00\\x02\\x13\\x01\\x01\\x00\\x00\\x85\\x00\\x00\\x00\\x13\\x00\\x11\\x00\\x00\\x0ewww.google.com\\x00\\x05\\x00\\x05\\x01\\x00\\x00\\x00\\x00\\x00\\n\\x00\\x04\\x00\\x02\\x00\\x1d\\x00\\x0b\\x00\\x02\\x01\\x00\\x00\\r\\x00\\x04\\x00\\x02\\x04\\x03\\xff\\x01\\x00\\x01\\x00\\x00\\x10\\x00\\x0b\\x00\\t\\x08http/1.1\\x00\\x12\\x00\\x00\\x00+\\x00\\t\\x08\\x03\\x04\\x03\\x03\\x03\\x02\\x03\\x01\\x003\\x00&\\x00$\\x00\\x1d\\x00 =\\xcc\\x13h\\xe8<\\xf8\\xf3!\\xf8\\x138\\x158\\x98\\xff\\x89\\x87\\xac\\xa6\\x16b^\\x07jE\\xe1\\x97\\xa0\\xdd\\x85g'"
      ]
     },
     "execution_count": 9,
     "metadata": {},
     "output_type": "execute_result"
    }
   ],
   "source": [
    "client_hello_encoded = public_construct(client_hello_packet_spec, client_hello_packet)\n",
    "client_hello_encoded"
   ]
  },
  {
   "cell_type": "code",
   "execution_count": 10,
   "metadata": {
    "ExecuteTime": {
     "end_time": "2022-02-17T12:50:06.985807Z",
     "start_time": "2022-02-17T12:50:06.962881Z"
    }
   },
   "outputs": [],
   "source": [
    "transcript.update(client_hello_encoded[5:])"
   ]
  },
  {
   "cell_type": "code",
   "execution_count": 11,
   "metadata": {
    "ExecuteTime": {
     "end_time": "2022-02-17T12:50:07.010840Z",
     "start_time": "2022-02-17T12:50:06.987859Z"
    }
   },
   "outputs": [],
   "source": [
    "sock.send(client_hello_encoded)"
   ]
  },
  {
   "cell_type": "code",
   "execution_count": 12,
   "metadata": {
    "ExecuteTime": {
     "end_time": "2022-02-17T12:50:07.035831Z",
     "start_time": "2022-02-17T12:50:07.012453Z"
    }
   },
   "outputs": [],
   "source": [
    "def read_tls(sock):\n",
    "    header = bytearray(sock.read_len(5))\n",
    "    l = (header[3] << 8) + header[4]\n",
    "    body = sock.read_len(l)\n",
    "    return header + body"
   ]
  },
  {
   "cell_type": "code",
   "execution_count": 13,
   "metadata": {
    "ExecuteTime": {
     "end_time": "2022-02-17T12:50:07.061814Z",
     "start_time": "2022-02-17T12:50:07.037079Z"
    }
   },
   "outputs": [],
   "source": [
    "server_hello_encoded = read_tls(sock)"
   ]
  },
  {
   "cell_type": "code",
   "execution_count": 14,
   "metadata": {
    "ExecuteTime": {
     "end_time": "2022-02-17T12:50:07.088239Z",
     "start_time": "2022-02-17T12:50:07.064938Z"
    }
   },
   "outputs": [],
   "source": [
    "transcript.update(server_hello_encoded[5:])"
   ]
  },
  {
   "cell_type": "code",
   "execution_count": 15,
   "metadata": {
    "ExecuteTime": {
     "end_time": "2022-02-17T12:50:07.115193Z",
     "start_time": "2022-02-17T12:50:07.091520Z"
    }
   },
   "outputs": [],
   "source": [
    "server_hello_spec = \"\"\"\n",
    "8==2?24@server_hello(\n",
    "    16@version\n",
    "    -32B@random\n",
    "    -8@session_id()\n",
    "    -16@suite\n",
    "    -8@compression\n",
    "    -16@extensions(\n",
    "        ...(\n",
    "            16==5?16@ext_status_request(\n",
    "                8@status_type\n",
    "                -16@responder_id_list\n",
    "                -16@request_extensions\n",
    "            )\n",
    "            :16==11?16@ext_supported_points(\n",
    "                8@supported_points()\n",
    "            )\n",
    "            :16==35?16@ext_session_tickets()\n",
    "            :16==0xff01?16@ext_renegotiation_info(\n",
    "                8@secure_renegotitation()\n",
    "            )\n",
    "            :16==16?16@ext_alpn(\n",
    "                16@alpn_protocols(8())\n",
    "            )\n",
    "            :16==18?16@ext_sct(\n",
    "                16@scts(\n",
    "                    ...16@data()\n",
    "                )\n",
    "            )\n",
    "            :16==43?16@ext_suppoerted_versions(\n",
    "                16@supported_versions\n",
    "            )\n",
    "            :16==44?16@ext_cookie(\n",
    "                16@cookie()\n",
    "            )\n",
    "            :16==51?16@ext_key_share(\n",
    "                16@group\n",
    "                -16@data()\n",
    "            )\n",
    "            :16==41?16@ext_pre_shared_key(\n",
    "                16@label()\n",
    "            )\n",
    "            :16==16?16@ext_alpn(\n",
    "                16@alpn(\n",
    "                    8@data()\n",
    "                )\n",
    "            )\n",
    "            :16@selector-16@raw_extension()\n",
    "        )\n",
    "    )\n",
    ")\n",
    "\"\"\"\n",
    "\n",
    "\n",
    "server_hello_packet_spec = \"\"\"\n",
    " 8==22?16@tls_version-16@tls_handshake(%s)\n",
    ":8==20?16@tls_version-16@change_cypher()\n",
    ":8==21?16@tls_version-16@alert()\n",
    ":8==23?16@tls_version-16@application_data()\n",
    "\"\"\"%server_hello_spec\n"
   ]
  },
  {
   "cell_type": "code",
   "execution_count": 16,
   "metadata": {
    "ExecuteTime": {
     "end_time": "2022-02-17T12:50:07.141826Z",
     "start_time": "2022-02-17T12:50:07.117896Z"
    }
   },
   "outputs": [],
   "source": [
    "server_hello = public_match_exact(server_hello_packet_spec, server_hello_encoded)"
   ]
  },
  {
   "cell_type": "code",
   "execution_count": 17,
   "metadata": {
    "ExecuteTime": {
     "end_time": "2022-02-17T12:50:07.168215Z",
     "start_time": "2022-02-17T12:50:07.143464Z"
    }
   },
   "outputs": [
    {
     "data": {
      "text/plain": [
       "{'tls_version': 0x0303,\n",
       " '_selector': 0x16,\n",
       " 'tls_handshake': {'server_hello': {'version': 0x0303,\n",
       "   'random': 0xf649fef16f2bf1274b4572507cabc2fb0eb3250e893ac43efb0d0b95d69ffafe,\n",
       "   'session_id': 0x130262b1ed623d15dae118905cde48936edcf578fa422d946c5285423d6234e6,\n",
       "   'suite': 0x1301,\n",
       "   'compression': 0x00,\n",
       "   'extensions': [{'ext_key_share': {'group': 0x001d,\n",
       "      'data': 0x213427092b5e244878008e28c657819c48130cda61ae91f36570f7cb6f8b7a6a},\n",
       "     '_selector': 0x0033},\n",
       "    {'ext_suppoerted_versions': {'supported_versions': 0x0304},\n",
       "     '_selector': 0x002b}]},\n",
       "  '_selector': 0x02}}"
      ]
     },
     "execution_count": 17,
     "metadata": {},
     "output_type": "execute_result"
    }
   ],
   "source": [
    "server_hello"
   ]
  },
  {
   "cell_type": "code",
   "execution_count": 18,
   "metadata": {
    "ExecuteTime": {
     "end_time": "2022-02-17T12:50:07.193268Z",
     "start_time": "2022-02-17T12:50:07.169660Z"
    },
    "scrolled": true
   },
   "outputs": [
    {
     "name": "stdout",
     "output_type": "stream",
     "text": [
      "found public key\n"
     ]
    }
   ],
   "source": [
    "server_public_key = None\n",
    "for extension in server_hello['tls_handshake']['server_hello']['extensions']:\n",
    "    if 'ext_key_share' in extension:\n",
    "        print(\"found public key\")\n",
    "        server_public_key = extension['ext_key_share']['data'].bytes()\n",
    "        break\n",
    "    else:\n",
    "        raise RuntimeError(\"unable to find server public key\")\n"
   ]
  },
  {
   "cell_type": "code",
   "execution_count": 19,
   "metadata": {
    "ExecuteTime": {
     "end_time": "2022-02-17T12:50:07.219433Z",
     "start_time": "2022-02-17T12:50:07.197466Z"
    }
   },
   "outputs": [
    {
     "name": "stdout",
     "output_type": "stream",
     "text": [
      "calculated shared key b'\\x91b8\\xab_\\x1d\\xc0M\\xf3t@\\x0e\\xff\\xb3\\xef\\xe4\\xd0\\xf6\\x18B\\xfe\\x01\\x05Y\\xaf{\\xb6\\xf1U-\\xc0S'\n"
     ]
    }
   ],
   "source": [
    "shared_key = private_key.exchange(X25519PublicKey.from_public_bytes(server_public_key))\n",
    "print(\"calculated shared key\", shared_key)"
   ]
  },
  {
   "cell_type": "code",
   "execution_count": 20,
   "metadata": {
    "ExecuteTime": {
     "end_time": "2022-02-17T12:50:07.244023Z",
     "start_time": "2022-02-17T12:50:07.221803Z"
    }
   },
   "outputs": [],
   "source": [
    "server_change_cipher_encoded = read_tls(sock)"
   ]
  },
  {
   "cell_type": "code",
   "execution_count": 21,
   "metadata": {
    "ExecuteTime": {
     "end_time": "2022-02-17T12:50:07.272664Z",
     "start_time": "2022-02-17T12:50:07.245552Z"
    }
   },
   "outputs": [
    {
     "data": {
      "text/plain": [
       "{'tls_version': 0x0303, '_selector': 0x14, 'change_cypher': 0x01}"
      ]
     },
     "execution_count": 21,
     "metadata": {},
     "output_type": "execute_result"
    }
   ],
   "source": [
    "server_change_cipher = public_match_exact(server_hello_packet_spec, server_change_cipher_encoded)\n",
    "server_change_cipher"
   ]
  },
  {
   "cell_type": "code",
   "execution_count": 22,
   "metadata": {
    "ExecuteTime": {
     "end_time": "2022-02-17T12:50:07.296551Z",
     "start_time": "2022-02-17T12:50:07.274987Z"
    }
   },
   "outputs": [],
   "source": [
    "sock.send(server_change_cipher_encoded)"
   ]
  },
  {
   "cell_type": "code",
   "execution_count": 23,
   "metadata": {
    "ExecuteTime": {
     "end_time": "2022-02-17T12:50:07.326074Z",
     "start_time": "2022-02-17T12:50:07.297859Z"
    }
   },
   "outputs": [],
   "source": [
    "def get_info(label, length, context=b''):\n",
    "    return b'\\x00' + bytearray((length, len(b'tls13 '+label),)) + b'tls13 ' + label + bytearray((len(context),)) + context\n",
    "\n",
    "def extract(secret, salt):\n",
    "    return HKDF(hashes.SHA256(), 32, salt, b'')._extract(secret)    \n",
    "    \n",
    "def derive(secret, label, prev=None):\n",
    "    context = get_hash(prev)\n",
    "    return expand(secret, label, 32, context)\n",
    "    \n",
    "def expand(secret, label, l, context=b''):\n",
    "    return HKDFExpand(hashes.SHA256(), l, get_info(label, l, context)).derive(secret)\n",
    "\n",
    "def get_hash(prev):\n",
    "    if prev is None:\n",
    "        prev = hashes.Hash(hashes.SHA256())\n",
    "    c = prev.copy()\n",
    "    return c.finalize()\n",
    "\n",
    "def finished_hash(secret, prev=None):\n",
    "    finished_key = expand(secret, b'finished', 32)\n",
    "    context = get_hash(prev)\n",
    "    h = HMAC(finished_key, hashes.SHA256())\n",
    "    h.update(context)\n",
    "    return h.finalize()\n",
    "    "
   ]
  },
  {
   "cell_type": "code",
   "execution_count": 24,
   "metadata": {
    "ExecuteTime": {
     "end_time": "2022-02-17T12:50:07.350583Z",
     "start_time": "2022-02-17T12:50:07.328336Z"
    }
   },
   "outputs": [],
   "source": [
    "early_secret = extract(b'\\0'*32, None)\n",
    "\n",
    "extractor = derive(early_secret, b\"derived\")\n",
    "\n",
    "handshake_secret = extract(shared_key, extractor)"
   ]
  },
  {
   "cell_type": "code",
   "execution_count": 25,
   "metadata": {
    "ExecuteTime": {
     "end_time": "2022-02-17T12:50:07.375340Z",
     "start_time": "2022-02-17T12:50:07.352553Z"
    }
   },
   "outputs": [],
   "source": [
    "server_handshake_secret = derive(handshake_secret, b\"s hs traffic\", transcript)\n",
    "\n",
    "server_handshake_key = expand(server_handshake_secret, b'key', 16)\n",
    "server_handshake_nonce = (expand(server_handshake_secret, b'iv', 12), 0)"
   ]
  },
  {
   "cell_type": "code",
   "execution_count": 26,
   "metadata": {
    "ExecuteTime": {
     "end_time": "2022-02-17T12:50:07.399388Z",
     "start_time": "2022-02-17T12:50:07.376999Z"
    }
   },
   "outputs": [],
   "source": [
    "client_handshake_secret = derive(handshake_secret, b\"c hs traffic\", transcript)\n",
    "\n",
    "client_handshake_key = expand(client_handshake_secret, b'key', 16)\n",
    "client_handshake_nonce = (expand(client_handshake_secret, b'iv', 12), 0)"
   ]
  },
  {
   "cell_type": "code",
   "execution_count": 27,
   "metadata": {
    "ExecuteTime": {
     "end_time": "2022-02-17T12:50:07.423105Z",
     "start_time": "2022-02-17T12:50:07.400656Z"
    }
   },
   "outputs": [],
   "source": [
    "server_cert_encrypted_encoded = read_tls(sock)"
   ]
  },
  {
   "cell_type": "code",
   "execution_count": 28,
   "metadata": {
    "ExecuteTime": {
     "end_time": "2022-02-17T12:50:07.457524Z",
     "start_time": "2022-02-17T12:50:07.424822Z"
    }
   },
   "outputs": [
    {
     "data": {
      "text/plain": [
       "{'tls_version': 0x0303,\n",
       " '_selector': 0x17,\n",
       " 'application_data': 0x921699d459b71083f942f47c71ae23df0f11423edfb0295dfa804b7d635c89dac351dfd3350fe201559c4b7e10cb5a4beca797dd6b1d054906498fd41c95c30d789690c9587478999560acc777e5aec7f8c424a3cf0c976eb7f5eabcc1a393464f9bdc8e3bed3e95406a58a2d66312e1dee37a69473ea44a4f73b656d93387a604810da6487840b2367edef030628f23b9721e292b2dcd0b865211dd23afb9a3f4123f3bd753047cfff7be5b6d7e9bfe7ec1fd4e86c799acedb1284f4287f89d1cab66244ed0b70e545d01b4964951c8aa756c99e93c2012603172913da8f9984fb4ca53424ae274c222b56f362fac1d6f16bb9cc0b27da3cfe0b385df29c8a7e790474f3aef5e63e720b8a5d196ccacc481e5bbb608da73a316dc3b37a94829b47f5e8b37c824fece2a855b68ae1bd31f93de54264ade2bfcfffe2c2fddd87723db638a42b1c464488da39d56fade90d2cd049615c11daaf4b442d070364181a48167d8f186ee7cd0491a1c458c9162b1711e664ec1e99b9c15c0d4bf5f832bf27c80be3bf170de2106ca49f5c059b2c8a4631e94652b51cbab9992f4d8ec745a8aee501fc585c9628d6f42cf934dc35883d494a565243c55673ad5f4f0c1b50690b6203eb32f3bc050e09298be1bc24227ec4f65af04b1ce094b6e16f5201231355de36027baf863ebb5e6428131f8e3272b16a8bf495fc55774d1f4aab7e7d89736afe67bf47562577b23f7bb6286b85e7d6644de376ea69502ffb5cfc308379396470b764fa30887480b50b3da8710cdb56f2096dab1bbaab11afbdc818eec0e65ff69e13b2ebe67732e1294c2225aafb3a55473f348bcbc76047a201f6c99f8dbfd7058a9bddb354db77a06af0350ddae1ab98df68d5a2cba67401b8be0d6e27501d68eadcde9d3853654bed3659ee6da210ce552c410023a8775e1b0aad622339ce0dbae1841c9cd3ac7a9ae47f3aebaf60d2f20e4c903899c935ddeb3e7fea4a13cd3f0df0d522d68158fa43ac2a85e65e58bc79549195ef273c89aaeb9e114ec88025a9999d39f400f50098783c84c38a24a35eb9785befa4a783c0ba10f6653bfa164f1e5e672b299a72b7f84f6e458a70345377e2002298eaccabe121d79c183c6f4f796271b23ac50c27b63354aa1e7c5b10f2e3a2b2259ede3bd7ed8e0bc5160bdc91ed835519dfbe37bf9552401cb75bc3159df5fc9e878293b1fee7bbcdb34753e6d866091ccede54eb678115ab7d9def3cd7e397853e84b91b7b36fb8a35f8cb70e19aba1e6fa2fd65b847e4818138caa36406f64a3ccd1b0267fdb6f517fdd2b2c37d2a7c1d92b7ab6b54fed01bd554297b8090cd4196bd4a263b6d65a5eadb2485965f37725e6befb61bc5953b429c2c4085ee19b88a8a33b08aa3746e167be8222a7fa746692aa68f430fa25dacaba2ab8792675febf03e5a7dfb5d09444bf71c4b0da667a213cde36eea2c4834e0a21ffc7344a3c763cfceb16cfcfb77566697f4671498756a1dcacef6571009ea2e0f5951608e11efa606ed9bbe8badb3068e2d4a653ae29fe45d64fa2f16da9481620ba97aeb6ccbecde6ac4990818b3326569f9455f7cfe5112c625ee1ccc947390b3a41a2ffa14947eeff2ef024905904f8d5e8302dc1770be417c464ac6c8eabfaac87c14ddc036d0e1cf823de416a29a52ad65a49e094dbbc6b2f0c58d9d43aa30c93633d3ecd361a5a2d50f1863a10d147a2a10a3ef84070c16953e3c06fc0d3e2786cb0c8b4cf2345f83483d59c77511c608b86ee7cb5c75886bf5c988fa25cc302ecb1f7451e38afc409f8569e2c15917bae85c0da3a149f4f173591b054b07df415980b0020d8036d0db36c2bf93df52c252027e6226766afd31444f6b79be4dc33547f8029a6995ac60eb61bac501f17432e99398db9fd20c23425f0c6c91591ca7670b5705b79177d78ce76dee42cd8a7b59720789b49a71c39ec6f0637e14ab8ddb194ffcd97ebfb7d7637b0ce911aa845b3d76584c84120aef13a2070f985b45ed8cc300d3242e51d885a96f4243ea583423de73b23b05a09737a062ef0dfe319e82ab8230158e10a96feaf9c3573b22a2e9a0aa848dca51434e9ca20ef0b3e33ec8277b41a9e83bd7a10ddb7490bebf5a350534c752be6862d27593343ac17b24d5f85e650d19ea9b9c34bead60a20c54d54019db4cc1c45e359ce7eb4773d3a01513c8b8c43636f00fdfc9c794b1072a27def992e7868128cfb5b1cf28c859b222bc4140c1d067f4e5b1442dd8d5a58fd75f1a9293ef571b32094586ff8c41d25420c5f1176137bd900e2949b88cb6ca5b9bae356379d38c0fcb7a8c4506087777e56d896e876d7f3b9938200f07e9bbef1ac3b71f55917096ab54bb86a05cd1014a2e3e69382015a96967f203147b41b33033f83bbada55104fa39b56ead588b5121a46024ceb08b2ae66a3c724861bd310d5b3681d1f81cd5e20ea88491dbe9ae7a4a9690833e86ca0012911b7c82df150cf25e2f2ae2d6372750c4e11ccbcf88564cd479bfe5a652b7169a2a0ec3c4a7c58345c75017f295f7460f04752362af99c34ec27e3f167dc544370cf92127c0eab45f35f0c5235dda78f58988499902246ff431795d50ae17927ae7af5b9ff5cbcd0fc2f69ddde275e779282bf11a7bbcbc264fd0d5243e1c2411f42c4d3f50385836fbbb863ff6931b87dd1b9a13ce287485d50f9e892a7e9439dd1ef4c54f23943a591ce31e73a9e781dd0e3938b480fecb6235e437a8de4e4b2727fec404960b745d4c2ecb27983f5c8ddfe12b4556e2a27b5bea10296c8c618fcc9dfb2aa7015da93cb889d434edc4d1da3c020234933d840b352782d3bd5198f97e38105e07487a407666b3ec7c0c88f0003244522f1d3f4e3246f21e02e3de183f5e6ca1bb0043fe7d9c2b94b08e616c7b0d021e850dbcf381f9d27d9e840151d6109f1a587fc079560b0067136683fb7d211b096a3c5debf6147fc69cbbea16c194530c4a5736b2d519e023783ed78e23188459f983b7c82de1a672fbc4cee30a843f1c3cfd2e8ac8313de38415dad6e403ca4039b9a91b2eadd89124b00f70389458196141b0c954e7499fee3513f6e7258486ceadf54563b96370820bf0e427b66ec4dbbe9c222394025dea2f7ed6e1989fb9571c2004b61035334d5cef271338c79264924cb612f9774520085a4ead48d5960c6283ccf8585c8ddb5739d85db824ab633176573804cdbd6fcec65f82db2e3f5462f0435ca68aac498788450feebcc0565a61307d3e1ac6d30a68a7b6be78780553444dbd2056bc8ceb22abfad161929f6409c868beda432d052aac141921bff85472bccd59dbdc31a59c7c355ba121946a5de79291ef98154acfaa13420b984fc6ab4757abae7e5540c21564bc57f6dc2dbe8002f720dd7c965fe2c5b4a928124f188ae91e6960e9f6696467abb66eec0d51799b15241b54fd2c65fd4a6cc278dd54ed678d64dd16feeaeb53d9aa50b58c7e1dc92610883fbaa7090d6a567eb3e3bf93cd1cdc5d7604ebc720ff116ac409bf89a3aca4c3fbfb929049147e1112bd54f9041e0a0753651e80e8e20f058119d1940ccdbac9ff264a81f7a942c160c63503a3103d0a5d3b5e65a4fce3799bf4c821c4185e644fdc350a92cce6afe35092a22aeb673c86e2fccfe2f132d6b88898f02215d4485688087a0a4d2b1cb8d81c167cf4c428513e8c136d94cb09e1d24ff81ee0c1a1f9651884511fbc1a9641898445f627784a0e48d913851307f1b0d1f24f4b3f085d935d03c2d1038300e19de192d8ce2ccf222dc7adcd939f503fc4039b850717817785581433ed02eed12e2d4b6e98f4ac7955949289777c1546b172c2ab64c1749f6754b483bc7651c5fb89bfc9527ae16d14e8e2fb243de4edd88dcfe36373b76a5ba3aabd62c0b38596a7a2b649f16e109fc5b227bf5a87624d3690bb5742498fb4bc26de7e4466fc9b48a80277348f373abcc2e2bd238b6d6566cc2977ab336a268814c4f5830c81f882ead5c25c3fcbc867c08c3b858c12a6be0dfe84ebe624cb265ab4bb4878cacd8f816bf8b983b963ff0292c5a4a8159d3c6339d72f707220751025cb22b3e5c21ea31d92646ce7c4586fb48869aa56c07e406e0f3fff47ffbcc2fc6a6dce4ae67a561e7ea82f1d6a9df2d1905f17f37eaf90bd84d99ca79c633d84820ea3c5b1e82cbca4c765d6c9ee253b2b97521567e8a833c0dde6761b0bc557b34c911031312fb03d86087422923c1fe35fa57348ddd370636386a8227e45d09074955ce51db617c4aa43eee6b78a50e7fafc89d5b31cbb15b5c8db9fadfc157c7abb3879306e210be6e236bb1d9ce3388305785096203e539d53a36349ccb584d15e8ade02e1cebb5218aa2930d002aab7d96ee6bd3452dfaa0db12002b1700cf4410b740f8d03e712d6e30048c26de46c8afb396651a660dc840e7b1270b36acbba1c7dbc1ab7a520496778ba5793d6da109f819b85042f6c0b33cfa7d8d1fa84b96ecc131489d77c3ff6e9ef84dab306463a6049fe13580b47dfe846a748dc017a20742d4921543deeca224a7692692b48919ff94060f023a48a8c7f144b40363a04a1ce1bca0233f38107d28d10b176f85690820d18bcf5c4d918ea11e239690e5f981fbdbe4821aac51a939cddb493642e522c4a7000fb34c17061eb7b8bd3730f8654f5b5e01bd43be95c14f5ab5359a3d0b6655be2aded0f2887f87019ba1b9120e060918174297aa134097e21301577f45745cf85c35cc983673e3302cb5ef4fc9707d43b6eb4e11914b4eafa40e388291bf35f203f9e102efc42f2660491b0923b66c29992b3ab088d1e3411d40524547a8d9a43e6d1ccfc025a80f1d548409ad3e208e6420206bf16b6f3071dd10726bbc431b161a9f92bcefee225ad31efa57abf694700c5130a4aa534f52fe193cda85d425fca5fc1920d6bf997c240c641b9a1da680b340f7f1e505cce8c30a8160525d83e9f3aaa29da16fe3a1f18eba838741964778c2a9358a2183ed62e1f4c1f3c2c3a794a9fe78e6ea955259c0ce8b24556534e65486994928e8ca22e97539c72842d410169818bc06096e738b1d16804ad17eeac3adb8fcb64b20c16dac3bacdfa60c7878cbfec9e60c9179b418ceb617bac97d6dedb5a338b762829d456242e92eeb385b0f7be04fcb2279a8ee7b61b48f28d614fc16d87493561f750f693c428ccf0152eb0bfdbe3799997b83a14a68f2ea494d781cd303dde38950bc699fde40254add313a868e0de8120849710fe596ef246fc35e0718429ab456d5379995baf2f282d40f9d525873cbe23db3762edd70ee4ad09ad1b6f5a5870a7fc42141339c5251ca0ae92e2892ff3afe019ac286190565a1f176b2fada3d952a636af15e5a3a010a012c469c39f09a86e0057ebc838f55ac41ef24adedf3f37d174922f54057a7797ecc546c2d1e148ec60fbeea8abe91f7e032e8e02b03cb3ad03b4cd2de338b6f9ff407f8b91919a1056dd3da1761f5189ef52bc5791aba268fe2dd36f80ce97764dfbab7db75e2c9f074e83063b215a750115a5de81401ba21927b6c11f1cce11e2cc71}"
      ]
     },
     "execution_count": 28,
     "metadata": {},
     "output_type": "execute_result"
    }
   ],
   "source": [
    "server_cert_encrypted = public_match_exact(server_hello_packet_spec, server_cert_encrypted_encoded)\n",
    "server_cert_encrypted"
   ]
  },
  {
   "cell_type": "code",
   "execution_count": 29,
   "metadata": {
    "ExecuteTime": {
     "end_time": "2022-02-17T12:50:07.481432Z",
     "start_time": "2022-02-17T12:50:07.459203Z"
    }
   },
   "outputs": [],
   "source": [
    "def update_nonce(nonce):\n",
    "    return (nonce[0], nonce[1]+1)\n",
    "\n",
    "def get_nonce(nonce):\n",
    "    return bytes(a ^ b for a, b in zip(nonce[0], nonce[1].to_bytes(len(nonce[0]), 'big')))"
   ]
  },
  {
   "cell_type": "code",
   "execution_count": 30,
   "metadata": {
    "ExecuteTime": {
     "end_time": "2022-02-17T12:50:07.507038Z",
     "start_time": "2022-02-17T12:50:07.482725Z"
    }
   },
   "outputs": [],
   "source": [
    "def decrypt_packet(packet, key, nonce):\n",
    "    packet = bytes(packet)\n",
    "    cipher = AESGCM(key)\n",
    "    all_server_cert_packet = cipher.decrypt(get_nonce(nonce), packet[5:], packet[:5])\n",
    "    server_cert_packet, server_cert_packet_suffix = all_server_cert_packet[:-1], all_server_cert_packet[-1]\n",
    "    return server_cert_packet, server_cert_packet_suffix, update_nonce(nonce)\n",
    "\n",
    "def encrypt_packet(packet, suffix, key, nonce):\n",
    "    app_header_spec = \"8@packet_type-16@tls_version-16@application_data_length\"\n",
    "\n",
    "    raw_packet = packet + suffix\n",
    "\n",
    "    header_encoded = public_construct(app_header_spec, {\n",
    "        \"packet_type\": 23,\n",
    "        \"tls_version\": 0x0303,\n",
    "        \"application_data_length\": len(raw_packet) + 16,\n",
    "    })\n",
    "\n",
    "    \n",
    "    cipher = AESGCM(key)\n",
    "    encrypted_app_data = cipher.encrypt(get_nonce(nonce), raw_packet, header_encoded)\n",
    "    packet = header_encoded + encrypted_app_data\n",
    "    return packet, update_nonce(nonce)"
   ]
  },
  {
   "cell_type": "code",
   "execution_count": 31,
   "metadata": {
    "ExecuteTime": {
     "end_time": "2022-02-17T12:50:07.534078Z",
     "start_time": "2022-02-17T12:50:07.508753Z"
    }
   },
   "outputs": [
    {
     "name": "stdout",
     "output_type": "stream",
     "text": [
      "22\n"
     ]
    },
    {
     "data": {
      "text/plain": [
       "b'\\x08\\x00\\x00\\x11\\x00\\x0f\\x00\\x10\\x00\\x0b\\x00\\t\\x08http/1.1\\x0b\\x00\\x0e\\xe2\\x00\\x00\\x0e\\xde\\x00\\x04Z0\\x82\\x04V0\\x82\\x03>\\xa0\\x03\\x02\\x01\\x02\\x02\\x10I|M\\xc1\\x05\\x88O\\x96\\x12f\\xe5\\x85\\x9eT\\x17F0\\r\\x06\\t*\\x86H\\x86\\xf7\\r\\x01\\x01\\x0b\\x05\\x000;1\\x0b0\\t\\x06\\x03U\\x04\\x06\\x13\\x02US1\\x1e0\\x1c\\x06\\x03U\\x04\\n\\x13\\x15Google Trust Services1\\x0c0\\n\\x06\\x03U\\x04\\x03\\x13\\x03WR20\\x1e\\x17\\r240603073532Z\\x17\\r240826073531Z0\\x191\\x170\\x15\\x06\\x03U\\x04\\x03\\x13\\x0ewww.google.com0Y0\\x13\\x06\\x07*\\x86H\\xce=\\x02\\x01\\x06\\x08*\\x86H\\xce=\\x03\\x01\\x07\\x03B\\x00\\x044\\xd1\\xe9\\x05\\xf5\\x8f.\\x968\\xd3\\xa2\\xc77H\\xbb\\xea\\xe9\\x10\\x1d/q\\xff\\x94\\xc2\\xa0\\x93n\\xf0\\x9dw \\xd8\\x95\\x949@\\x9d\\x8d%\\xf5!\\x07\\x83LDu\\xbcY\\xaa\\x9b\\xf5\\x9d?\\x17\\x1e\\xb6G\\xfc\\xd6\\xbc\\xb5\\xdav\\xcb\\xa3\\x82\\x02A0\\x82\\x02=0\\x0e\\x06\\x03U\\x1d\\x0f\\x01\\x01\\xff\\x04\\x04\\x03\\x02\\x07\\x800\\x13\\x06\\x03U\\x1d%\\x04\\x0c0\\n\\x06\\x08+\\x06\\x01\\x05\\x05\\x07\\x03\\x010\\x0c\\x06\\x03U\\x1d\\x13\\x01\\x01\\xff\\x04\\x020\\x000\\x1d\\x06\\x03U\\x1d\\x0e\\x04\\x16\\x04\\x14\\xdf\\xa3\\xbc\\x18\\x00\\xb3\\x9e\\xe9\\xbda]w\\xb1\\'\\xa3T5\\rTJ0\\x1f\\x06\\x03U\\x1d#\\x04\\x180\\x16\\x80\\x14\\xde\\x1b\\x1e\\xedy\\x15\\xd4>7$\\xc3!\\xbb\\xec49mB\\xb200X\\x06\\x08+\\x06\\x01\\x05\\x05\\x07\\x01\\x01\\x04L0J0!\\x06\\x08+\\x06\\x01\\x05\\x05\\x070\\x01\\x86\\x15http://o.pki.goog/wr20%\\x06\\x08+\\x06\\x01\\x05\\x05\\x070\\x02\\x86\\x19http://i.pki.goog/wr2.crt0\\x19\\x06\\x03U\\x1d\\x11\\x04\\x120\\x10\\x82\\x0ewww.google.com0\\x13\\x06\\x03U\\x1d \\x04\\x0c0\\n0\\x08\\x06\\x06g\\x81\\x0c\\x01\\x02\\x0106\\x06\\x03U\\x1d\\x1f\\x04/0-0+\\xa0)\\xa0\\'\\x86%http://c.pki.goog/wr2/oQ6nyr8F0m0.crl0\\x82\\x01\\x04\\x06\\n+\\x06\\x01\\x04\\x01\\xd6y\\x02\\x04\\x02\\x04\\x81\\xf5\\x04\\x81\\xf2\\x00\\xf0\\x00v\\x00\\xee\\xcd\\xd0d\\xd5\\xdb\\x1a\\xce\\xc5\\\\\\xb7\\x9d\\xb4\\xcd\\x13\\xa22\\x87F|\\xbc\\xec\\xde\\xc3QHYFq\\x1f\\xb5\\x9b\\x00\\x00\\x01\\x8f\\xdd=N\\xa5\\x00\\x00\\x04\\x03\\x00G0E\\x02 \\x1c\\x94\\xb6}\\x1f\\x18\\x1f\\xfd\\x9f\\xc6A\\xe7MY\\xe8\\x96:\\x8d\\xd5\\x84\\xb1R\\xd7\\x98o{\\x88|\\xf0\\x93S\\x89\\x02!\\x00\\xcfs\\x89\\x8fz\\x92d\\xc7a-H;\\xf3\\xf7\\xc4\\x8c\"-]\\xd9\\x11\\xaa%\\xda\\x0e\\xc2\\x81\\xdbq4\\xd4T\\x00v\\x00?\\x17KO\\xd7\"GX\\x94\\x1de\\x1c\\x84\\xbe\\r\\x12\\xed\\x907\\x7f\\x1f\\x85j\\xeb\\xc1\\xbf(\\x85\\xec\\xf8dn\\x00\\x00\\x01\\x8f\\xdd=N\\xbb\\x00\\x00\\x04\\x03\\x00G0E\\x02 \\x13\\xb2\\xd4\\xd2\\xafz\\x9d\\x0e\\xe3\\xe8\\xf9\\xc3\\xd7\\xdet\\xa6\\xd91\\xb3\\x14\\x95\\xcf\\x94}\\t\\xcf\\xc13*\\x1c\\x06\\x1a\\x02!\\x00\\x90wB9\\xb0\\x00\\x85{3vV\\x15\\xc83\\xbc\\x8d#/\\xfb\\xeap\\xf3.]8aG\\xe5\\xc5\\xbdI\\x9b0\\r\\x06\\t*\\x86H\\x86\\xf7\\r\\x01\\x01\\x0b\\x05\\x00\\x03\\x82\\x01\\x01\\x00`d\\xe4pf=\\x89:u\\x1a\\xb5\\xe4\\x8d\\xe1\\x02\\xc1\\x0cI>?\\xf2\\xc4\\xa1\\x14\\x0e\\xbf\\xd8\\x83\\xf9mn\\xa8\\x01x\\xf1y\\x81>=[\"\\xc4\\xa3\\xbagh\\x1d\\x85\\xaaCm\\xbb\\x9f1@\\xef\\xaa\\xb1H\\x05$\\xb2qS\\xfa\\x04+]\\xf7\\xb0\\x93\\x18\\xdfi\\x9b\\x82\\x9d\\x12\\xe9rF\\xac\\x87\\xb3\\xe0\\xfc\\x8b\\x87\\xad\\xb2\\x84o\\xdf\\xef\\x9cW\\x1a\\x7f\\x15/|\\xd5\\x91\\x06\\x84\\x95\\xc6\\x98\\xbf1\\xbb\\xe7H(\\r\\x0c\\x952J+L\\x8a\\xd3\\xc50\\x96\\x99\\x17\\xc5\\x94|\\xc6\\x08(yOr\\xa1\\x0b\\xb0\\x1f\\n\\xe2\\xf5\\xeb\\xdf\\x8a)\\xbdB\\xaf\\xe5m\\xcbs\\xf0\\xba\\x19\\xa0\\xa0\\xfc=\\xa1\\x9a\\x18E\\x99\\xe69I\\xd8]\\x7f\\x98\\r\\xb5\\xbe\\xaaj\\xf1J\\'\\x81n\\xe1\\xc4\\x1f\\xac\\xba\\x01\\x95u!\\t\\xa0hm\\x93\\xd1\\xde\\xe7>\\r\\x04w\\xec\\x8c\\x92\\x8d\\xb8|\\xda~i\\x01,]\\xfa\\xae\\xea\\xa9\\x95\\x03\\xd6\\xa1}p5\\x06\\x80\\xa7TL\\xbaF\\x872\\x06e\\x16\\x81\\x06\\x1f\\xe2yy\\xbe\\x1b\\x8bC-C\\xdc\\x94C\\xf5\\x00\\x00\\x00\\x05\\x0f0\\x82\\x05\\x0b0\\x82\\x02\\xf3\\xa0\\x03\\x02\\x01\\x02\\x02\\x10\\x7f\\xf0\\x05\\xa0|L\\xde\\xd1\\x00\\xad\\x9df\\xa5\\x10{\\x980\\r\\x06\\t*\\x86H\\x86\\xf7\\r\\x01\\x01\\x0b\\x05\\x000G1\\x0b0\\t\\x06\\x03U\\x04\\x06\\x13\\x02US1\"0 \\x06\\x03U\\x04\\n\\x13\\x19Google Trust Services LLC1\\x140\\x12\\x06\\x03U\\x04\\x03\\x13\\x0bGTS Root R10\\x1e\\x17\\r231213090000Z\\x17\\r290220140000Z0;1\\x0b0\\t\\x06\\x03U\\x04\\x06\\x13\\x02US1\\x1e0\\x1c\\x06\\x03U\\x04\\n\\x13\\x15Google Trust Services1\\x0c0\\n\\x06\\x03U\\x04\\x03\\x13\\x03WR20\\x82\\x01\"0\\r\\x06\\t*\\x86H\\x86\\xf7\\r\\x01\\x01\\x01\\x05\\x00\\x03\\x82\\x01\\x0f\\x000\\x82\\x01\\n\\x02\\x82\\x01\\x01\\x00\\xa9\\xff\\x9c\\x7fE\\x1ep\\xa8S\\x9f\\xca\\xd9\\xe5\\r\\xdeFWW}\\xbc\\x8f\\x9aZ\\xacF\\xf1\\x84\\x9a\\xbb\\x91\\xdb\\xc9\\xfb/\\x01\\xfb\\x92\\t\\x00\\x16^\\xa0\\x1c\\xf8\\xc1\\xab\\xf9x/J\\xcc\\xd8\\x85\\xa2\\xd8Y<\\x0e\\xd3\\x18\\xfb\\xb1\\xf5$\\r&\\xee\\xb6[dv|\\x14\\xc7/z\\xce\\xa8L\\xb7\\xf4\\xd9\\x08\\xfc\\xdf\\x87#5 \\xa8\\xe2i\\xe2\\x8cN?\\xb1Y\\xfa`\\xa2\\x1e\\xb3\\xc9 S\\x19\\x82\\xca6Sm`M\\xe9\\x00\\x91\\xfcv\\x8d\\\\\\x08\\x0f\\n\\xc2\\xdc\\xf1sk\\xc5\\x13n\\nOz\\xc2\\xf2\\x02\\x1c.\\xb4c\\x83\\xda1\\xf6-u0\\xb2\\xfb\\xab\\xc2n\\xdb\\xa9\\xc0\\x0e\\xb9\\xf9g\\xd4\\xc3%Wt\\xeb\\x05\\xb4\\xe9\\x8e\\xb5\\xde(\\xcd\\xccz\\x14\\xe4q\\x03\\xcbMa.aW\\xc5\\x19\\xa9\\x0b\\x98\\x84\\x1a\\xe8y)\\xd9\\xb2\\x8d/\\xffWjf\\xe0\\xce\\xab\\x95\\xa8)\\x96cp\\x12g\\x1e:\\xe1\\xdb\\xb0!q\\xd7|\\x9e\\xfd\\xaa\\x17n\\xfe+\\xfb8\\x17\\x14\\xd1f\\xa7\\xaf\\x9a\\xb5p\\xcc\\xc8c\\x81:\\x8c\\xc0*\\xa9v7\\xce\\xe3\\x02\\x03\\x01\\x00\\x01\\xa3\\x81\\xfe0\\x81\\xfb0\\x0e\\x06\\x03U\\x1d\\x0f\\x01\\x01\\xff\\x04\\x04\\x03\\x02\\x01\\x860\\x1d\\x06\\x03U\\x1d%\\x04\\x160\\x14\\x06\\x08+\\x06\\x01\\x05\\x05\\x07\\x03\\x01\\x06\\x08+\\x06\\x01\\x05\\x05\\x07\\x03\\x020\\x12\\x06\\x03U\\x1d\\x13\\x01\\x01\\xff\\x04\\x080\\x06\\x01\\x01\\xff\\x02\\x01\\x000\\x1d\\x06\\x03U\\x1d\\x0e\\x04\\x16\\x04\\x14\\xde\\x1b\\x1e\\xedy\\x15\\xd4>7$\\xc3!\\xbb\\xec49mB\\xb200\\x1f\\x06\\x03U\\x1d#\\x04\\x180\\x16\\x80\\x14\\xe4\\xaf+&q\\x1a+H\\'\\x85/Rf,\\xef\\xf0\\x89\\x13q>04\\x06\\x08+\\x06\\x01\\x05\\x05\\x07\\x01\\x01\\x04(0&0$\\x06\\x08+\\x06\\x01\\x05\\x05\\x070\\x02\\x86\\x18http://i.pki.goog/r1.crt0+\\x06\\x03U\\x1d\\x1f\\x04$0\"0 \\xa0\\x1e\\xa0\\x1c\\x86\\x1ahttp://c.pki.goog/r/r1.crl0\\x13\\x06\\x03U\\x1d \\x04\\x0c0\\n0\\x08\\x06\\x06g\\x81\\x0c\\x01\\x02\\x010\\r\\x06\\t*\\x86H\\x86\\xf7\\r\\x01\\x01\\x0b\\x05\\x00\\x03\\x82\\x02\\x01\\x00Eu\\x8b\\xe5\\x1f;D\\x13\\x96\\x1a\\xabX\\xf15\\xc9o=\\xd2\\xd03J\\x863\\xbaWQO\\xee\\xc44\\xda\\x16\\x12L\\xbf\\x13\\x9f\\r\\xd4T\\xe9Hy\\xc00<\\x94%\\xf2\\x1a\\xf4\\xba2\\x94\\xb63r\\x0b\\x85\\xee\\t\\x11%4\\x94\\xe1oB\\xdb\\x82\\x9b{\\x7f*\\x9a\\xa9\\xff\\x7f\\xa9\\xd2\\xdeJ \\xcb\\xb3\\xfb\\x03\\x03\\xb8\\xf8\\x07\\x05\\xdaY\\x92/\\x18F\\x98\\xce\\xafr\\xbe$&\\xb1\\x1e\\x00M\\xbd\\x08\\xad\\x93AD\\n\\xbb\\xc7\\xd5\\x01\\x85\\xbf\\x93W\\xe3\\xdft\\x12S\\x0e\\x11%\\xd3\\x9b\\xdc\\xde\\xcb\\'n\\xb3\\xc2\\xb93b9\\xc2\\xe05\\xe1[\\xa7\\t.\\x19\\xcb\\x91*v\\\\\\xf1\\xdf\\xca#\\x84@\\xa5o\\xff\\x9aA\\xe0\\xb5\\xef2\\xd1\\x85\\xae\\xaf%\\t\\xf0b\\xc5n\\xc2\\xc8n2\\xfd\\xb8\\xda\\xe2\\xceJ\\x91J\\xf3\\x85UN\\xb1u\\xd6H3/o\\x84\\xd9\\x12\\\\\\x9f\\xd4q\\x98c%\\x8di\\\\\\nk}\\xf2A\\xbd\\xe8\\xbb\\x8f\\xe4\"\\xd7\\x9deE\\xe8L\\n\\x87\\xda\\xe9`f\\x88\\x0e\\x1f\\xc7\\xe1NV\\xc5v\\xff\\xb4zWi\\xf2\\x02\"\\t&A\\x1d\\xdat\\xa2\\xe5)\\xf3\\xc4\\x9a\\xe5]\\xd6\\xaaz\\xfd\\xe1\\xb7+f8\\xfb\\xe8)f\\xba\\xef\\xa0\\x13/\\xf8s~\\xf0\\xda@\\x11\\x1c]\\xdd\\x8f\\xa6\\xfc\\xbe\\xdb\\xbeV\\xf82\\x9c\\x1fAAm~\\xb6\\xc5\\xeb\\xc6\\x8b6\\xb7\\x17\\x8c\\x9d\\xcf\\x19z4\\x9f!\\x93\\xc4~t5\\xd2\\xaa\\xfdLm\\x14\\xf5\\xc9\\xb0y[I<\\xf3\\xbf\\x17H\\xe8\\xef\\x9a&\\x13\\x0c\\x87\\xf2s\\xd6\\x9c\\xc5Rkc\\xf72\\x90x\\xa9k\\xeb^\\xd6\\x93\\xa1\\xbf\\xbc\\x18=\\x8bY\\xf6\\x8a\\xc6\\x05^R\\x18\\xe2f\\xe0\\xda\\xc1\\xdc\\xadZ%\\xaa\\xf4E\\xfc\\xf1\\x0bx\\xa4\\xaf\\xb0\\xf2s\\xa40\\xa84\\xc1S\\x7fB\\x96\\xe5HA\\xeb\\x90F\\x0c\\x06\\xdc\\xcb\\x92\\xc6^\\xf3DDCF)F\\xa0\\xa6\\xfc\\xb9\\x8e9\\'9\\xb1Z\\xe2\\xb1\\xad\\xfc\\x13\\xff\\x8e\\xfc&\\xe1\\xd4\\xfe\\x84\\xf1PZ\\x8e\\x97k-*y\\xfb@d\\xea\\xf3=\\xbd[\\xe1\\xa0\\x04\\xb0\\x97H\\x1cB\\xf5\\xeaZ\\x1c\\xcd&\\xc8Q\\xff\\x14\\x99g\\x89r_\\x1d\\xec\\xadZ\\xdd\\x00\\x00\\x00\\x05f0\\x82\\x05b0\\x82\\x04J\\xa0\\x03\\x02\\x01\\x02\\x02\\x10w\\xbd\\rl\\xdb6\\xf9\\x1a\\xea!\\x0f\\xc4\\xf0X\\xd3\\r0\\r\\x06\\t*\\x86H\\x86\\xf7\\r\\x01\\x01\\x0b\\x05\\x000W1\\x0b0\\t\\x06\\x03U\\x04\\x06\\x13\\x02BE1\\x190\\x17\\x06\\x03U\\x04\\n\\x13\\x10GlobalSign nv-sa1\\x100\\x0e\\x06\\x03U\\x04\\x0b\\x13\\x07Root CA1\\x1b0\\x19\\x06\\x03U\\x04\\x03\\x13\\x12GlobalSign Root CA0\\x1e\\x17\\r200619000042Z\\x17\\r280128000042Z0G1\\x0b0\\t\\x06\\x03U\\x04\\x06\\x13\\x02US1\"0 \\x06\\x03U\\x04\\n\\x13\\x19Google Trust Services LLC1\\x140\\x12\\x06\\x03U\\x04\\x03\\x13\\x0bGTS Root R10\\x82\\x02\"0\\r\\x06\\t*\\x86H\\x86\\xf7\\r\\x01\\x01\\x01\\x05\\x00\\x03\\x82\\x02\\x0f\\x000\\x82\\x02\\n\\x02\\x82\\x02\\x01\\x00\\xb6\\x11\\x02\\x8b\\x1e\\xe3\\xa1w\\x9b;\\xdc\\xbf\\x94>\\xb7\\x95\\xa7@<\\xa1\\xfd\\x82\\xf9}2\\x06\\x82q\\xf6\\xf6\\x8c\\x7f\\xfb\\xe8\\xdb\\xbcj.\\x97\\x97\\xa3\\x8cK\\xf9+\\xf6\\xb1\\xf9\\xce\\x84\\x1d\\xb1\\xf9\\xc5\\x97\\xde\\xef\\xb9\\xf2\\xa3\\xe9\\xbc\\x12\\x89^\\xa7\\xaaR\\xab\\xf8#\\'\\xcb\\xa4\\xb1\\x9cc\\xdb\\xd7\\x99~\\xf0\\n^\\xebh\\xa6\\xf4\\xc6ZG\\rM\\x103\\xe3N\\xb1\\x13\\xa3\\xc8\\x18lK\\xec\\xfc\\t\\x90\\xdf\\x9dd)%#\\x07\\xa1\\xb4\\xd2=.`\\xe0\\xcf\\xd2\\t\\x87\\xbb\\xcdH\\xf0M\\xc2\\xc2z\\x88\\x8a\\xbb\\xba\\xcfY\\x19\\xd6\\xaf\\x8f\\xb0\\x07\\xb0\\x9e1\\xf1\\x82\\xc1\\xc0\\xdf.\\xa6ml\\x19\\x0e\\xb5\\xd8~&\\x1aE\\x03=\\xb0y\\xa4\\x94(\\xad\\x0f\\x7f&\\xe5\\xa8\\x08\\xfe\\x96\\xe8<h\\x94S\\xee\\x83:\\x88+\\x15\\x96\\t\\xb2\\xe0z\\x8c.u\\xd6\\x9c\\xeb\\xa7Vd\\x8f\\x96Oh\\xae=\\x97\\xc2\\x84\\x8f\\xc0\\xbc@\\xc0\\x0b\\\\\\xbd\\xf6\\x87\\xb35l\\xac\\x18P\\x7f\\x84\\xe0L\\xcd\\x92\\xd3 \\xe93\\xbcR\\x99\\xaf2\\xb5)\\xb3%*\\xb4H\\xf9r\\xe1\\xcad\\xf7\\xe6\\x82\\x10\\x8d\\xe8\\x9d\\xc2\\x8a\\x88\\xfa8f\\x8a\\xfcc\\xf9\\x01\\xf9x\\xfd{\\\\w\\xfav\\x87\\xfa\\xec\\xdf\\xb1\\x0ey\\x95W\\xb4\\xbd&\\xef\\xd6\\x01\\xd1\\xeb\\x16\\n\\xbb\\x8e\\x0b\\xb5\\xc5\\xc5\\x8aU\\xab\\xd3\\xac\\xea\\x91K)\\xcc\\x19\\xa42%N*\\xf1eD\\xd0\\x02\\xce\\xaa\\xceI\\xb4\\xea\\x9f|\\x83\\xb0@{\\xe7C\\xab\\xa7l\\xa3\\x8f}\\x89\\x81\\xfaL\\xa5\\xff\\xd5\\x8e\\xc3\\xceK\\xe0\\xb5\\xd8\\xb3\\x8eE\\xcfv\\xc0\\xed@+\\xfdS\\x0f\\xb0\\xa7\\xd5;\\r\\xb1\\x8a\\xa2\\x03\\xde1\\xad\\xccw\\xeao{>\\xd6\\xdf\\x91\"\\x12\\xe6\\xbe\\xfa\\xd82\\xfc\\x10c\\x14Qr\\xde]\\xd6\\x16\\x93\\xbd)h3\\xef:f\\xec\\x07\\x8a&\\xdf\\x13\\xd7Wex\\'\\xde^I\\x14\\x00\\xa2\\x00\\x7f\\x9a\\xa8!\\xb6\\xa9\\xb1\\x95\\xb0\\xa5\\xb9\\r\\x16\\x11\\xda\\xc7lH<@\\xe0~\\rZ\\xcdV<\\xd1\\x97\\x05\\xb9\\xcbK\\xed9K\\x9c\\xc4?\\xd2U\\x13n$\\xb0\\xd6q\\xfa\\xf4\\xc1\\xba\\xcc\\xed\\x1b\\xf5\\xfe\\x81A\\xd8\\x00\\x98=:\\xc8\\xaez\\x987\\x18\\x05\\x95\\x02\\x03\\x01\\x00\\x01\\xa3\\x82\\x0180\\x82\\x0140\\x0e\\x06\\x03U\\x1d\\x0f\\x01\\x01\\xff\\x04\\x04\\x03\\x02\\x01\\x860\\x0f\\x06\\x03U\\x1d\\x13\\x01\\x01\\xff\\x04\\x050\\x03\\x01\\x01\\xff0\\x1d\\x06\\x03U\\x1d\\x0e\\x04\\x16\\x04\\x14\\xe4\\xaf+&q\\x1a+H\\'\\x85/Rf,\\xef\\xf0\\x89\\x13q>0\\x1f\\x06\\x03U\\x1d#\\x04\\x180\\x16\\x80\\x14`{f\\x1aE\\r\\x97\\xca\\x89P/}\\x04\\xcd4\\xa8\\xff\\xfc\\xfdK0`\\x06\\x08+\\x06\\x01\\x05\\x05\\x07\\x01\\x01\\x04T0R0%\\x06\\x08+\\x06\\x01\\x05\\x05\\x070\\x01\\x86\\x19http://ocsp.pki.goog/gsr10)\\x06\\x08+\\x06\\x01\\x05\\x05\\x070\\x02\\x86\\x1dhttp://pki.goog/gsr1/gsr1.crt02\\x06\\x03U\\x1d\\x1f\\x04+0)0\\'\\xa0%\\xa0#\\x86!http://crl.pki.goog/gsr1/gsr1.crl0;\\x06\\x03U\\x1d \\x044020\\x08\\x06\\x06g\\x81\\x0c\\x01\\x02\\x010\\x08\\x06\\x06g\\x81\\x0c\\x01\\x02\\x020\\r\\x06\\x0b+\\x06\\x01\\x04\\x01\\xd6y\\x02\\x05\\x03\\x020\\r\\x06\\x0b+\\x06\\x01\\x04\\x01\\xd6y\\x02\\x05\\x03\\x030\\r\\x06\\t*\\x86H\\x86\\xf7\\r\\x01\\x01\\x0b\\x05\\x00\\x03\\x82\\x01\\x01\\x004\\xa4\\x1e\\xb1(\\xa3\\xd0\\xb4v\\x17\\xa61z!\\xe9\\xd1R>\\xc8\\xdbt\\x16A\\x88\\xb8=5\\x1d\\xed\\xe4\\xff\\x93\\xe1\\\\_\\xab\\xbb\\xea|\\xcf\\xdb\\xe4\\r\\xd1\\x8bW\\xf2&o[\\xbe\\x17Fh\\x947okz\\xc8\\xc0\\x187\\xfa%Q\\xac\\xech\\xbf\\xb2\\xc8I\\xfdZ\\x9a\\xca\\x01#\\xac\\x84\\x80+\\x02\\x8c\\x99\\x97\\xebIj\\x8cu\\xd7\\xc7\\xde\\xb2\\xc9\\x97\\x9fXHW\\x0e5\\xa1\\xe4\\x1a\\xd6\\xfdo\\x83\\x81o\\xef\\x8c\\xcf\\x97\\xaf\\xc0\\x85*\\xf0\\xf5Ni\\t\\x91-\\xe1h\\xb8\\xc1+s\\xe9\\xd4\\xd9\\xfc\"\\xc07\\x1f\\x0bf\\x1dI\\xed\\x02U\\x8fg\\xe12\\xd7\\xd3&\\xbfp\\xe3=\\xf4gm=|\\xe54\\x88\\xe32\\xfa\\xa7n\\x06jo\\xbd\\x8b\\x91\\xee\\x16K\\xe8;\\xa9\\xb37\\xe7\\xc3D\\xa4~\\xd8l\\xd7\\xc7F\\xf5\\x92\\x9b\\xe7\\xd5!\\xbef\\x92\\x19\\x94Ul\\xd4)\\xb2\\r\\xc1f[\\xe2wIH(\\xed\\x9d\\xd7\\x1a3rS\\xb3\\x825\\xcfb\\x8b\\xc9$\\x8b\\xa5\\xb79\\x0c\\xbb~*A\\xbfR\\xcf\\xfc\\xa2\\x96\\xb6\\xc2\\x82?\\x00\\x00\\x0f\\x00\\x00K\\x04\\x03\\x00G0E\\x02!\\x00\\xf1\\xef\\x17\\xd5q\\x1ch\\x8b\\r\\x01\\xf9^\\xe8[\\xe7\\xda_\\n\\x05\\xd2%xe\\xafc\\xc4s\\xc5\\xe7\\\\\\xba\\xbb\\x02 ;t\\x03\\xae\\xd0|\\x15\\xf5\\xbax\\xdf)u\\xf8\\x8bW\\xaf#\\xce\\xef\\xe4\\x93\\x0e8\\xf2H/\\xa3%)\\x1c\\xc7\\x14\\x00\\x00 \\xc7\\xf4\\x0e\\xfd+<\\xb3\\x8e\\x07\\xf4r\\x17vB7\\xee\\x0b\\x9b\\xe1\\xce\\xe3\\r\\xd5i\\x1cs\\n\\xec\\xd7\\xedK\\xa1'"
      ]
     },
     "execution_count": 31,
     "metadata": {},
     "output_type": "execute_result"
    }
   ],
   "source": [
    "server_cert_packet, server_cert_packet_suffix, server_handshake_nonce = decrypt_packet(server_cert_encrypted_encoded, server_handshake_key, server_handshake_nonce)\n",
    "print(server_cert_packet_suffix)\n",
    "server_cert_packet"
   ]
  },
  {
   "cell_type": "code",
   "execution_count": 32,
   "metadata": {
    "ExecuteTime": {
     "end_time": "2022-02-17T12:50:07.556379Z",
     "start_time": "2022-02-17T12:50:07.535589Z"
    }
   },
   "outputs": [],
   "source": [
    "multiple_packets = server_cert_packet\n",
    "\n",
    "packet_len = (multiple_packets[1] << 16) + (multiple_packets[2] << 8) + multiple_packets[3]\n",
    "encrypted_extensions_packet, multiple_packets = multiple_packets[:4+packet_len], multiple_packets[4+packet_len:]\n",
    "\n",
    "packet_len = (multiple_packets[1] << 16) + (multiple_packets[2] << 8) + multiple_packets[3]\n",
    "certificates_packet, multiple_packets = multiple_packets[:4+packet_len], multiple_packets[4+packet_len:]\n",
    "\n",
    "packet_len = (multiple_packets[1] << 16) + (multiple_packets[2] << 8) + multiple_packets[3]\n",
    "certificate_verify_packet, multiple_packets = multiple_packets[:4+packet_len], multiple_packets[4+packet_len:]\n",
    "\n",
    "packet_len = (multiple_packets[1] << 16) + (multiple_packets[2] << 8) + multiple_packets[3]\n",
    "finished_message_packet, multiple_packets = multiple_packets[:4+packet_len], multiple_packets[4+packet_len:]"
   ]
  },
  {
   "cell_type": "code",
   "execution_count": 33,
   "metadata": {
    "ExecuteTime": {
     "end_time": "2022-02-17T12:50:07.579759Z",
     "start_time": "2022-02-17T12:50:07.558327Z"
    }
   },
   "outputs": [],
   "source": [
    "handshake_app_data_spec = \"\"\"\n",
    "    8==8?24@encrypted_extenstions(\n",
    "        16@data(\n",
    "            16@alpn\n",
    "            -16@data(\n",
    "                16@data(\n",
    "                    8@data()\n",
    "                )\n",
    "            )\n",
    "        )\n",
    "    )\n",
    "    :8==11?24@certificates_data(\n",
    "        8@certificate_request_context-24@certificates_data(\n",
    "            ...(\n",
    "                24@certificate()\n",
    "                -16@extensions(\n",
    "                    16==5?16@status_request(\n",
    "                        8@status_type_ocsp\n",
    "                        -24@ocsp_staple(\n",
    "                        )\n",
    "                    )\n",
    "                    :16==18?16@sct(\n",
    "                        16@data(\n",
    "                            ...16@data()\n",
    "                        )\n",
    "                    )\n",
    "                )\n",
    "            )\n",
    "        )\n",
    "    )\n",
    "    :8==15?24@certificate_verify(\n",
    "        16@signature_algorithm-16@signature()\n",
    "    )\n",
    "    :8==20?24@finished_verify_data()\n",
    "    :8==22?24@certificate_status(\n",
    "        8@status_type\n",
    "        -24@response()\n",
    "    )\n",
    "    :8@selector-24@data()\n",
    "\"\"\""
   ]
  },
  {
   "cell_type": "code",
   "execution_count": 34,
   "metadata": {
    "ExecuteTime": {
     "end_time": "2022-02-17T12:50:07.602736Z",
     "start_time": "2022-02-17T12:50:07.581370Z"
    }
   },
   "outputs": [
    {
     "data": {
      "text/plain": [
       "{'encrypted_extenstions': {'data': {'alpn': 0x0010,\n",
       "   'data': {'data': {'data': \"http/1.1\"}}}},\n",
       " '_selector': 0x08}"
      ]
     },
     "execution_count": 34,
     "metadata": {},
     "output_type": "execute_result"
    }
   ],
   "source": [
    "encrypted_extensions = public_match_exact(handshake_app_data_spec, encrypted_extensions_packet)\n",
    "encrypted_extensions"
   ]
  },
  {
   "cell_type": "code",
   "execution_count": 35,
   "metadata": {
    "ExecuteTime": {
     "end_time": "2022-02-17T12:50:07.626207Z",
     "start_time": "2022-02-17T12:50:07.604122Z"
    }
   },
   "outputs": [
    {
     "data": {
      "text/plain": [
       "{'certificates_data': {'certificate_request_context': 0x00,\n",
       "  'certificates_data': [{'certificate': 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,\n",
       "    'extensions': ''},\n",
       "   {'certificate': 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,\n",
       "    'extensions': ''},\n",
       "   {'certificate': 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,\n",
       "    'extensions': ''}]},\n",
       " '_selector': \"\n",
       " \"}"
      ]
     },
     "execution_count": 35,
     "metadata": {},
     "output_type": "execute_result"
    }
   ],
   "source": [
    "server_cert = public_match_exact(handshake_app_data_spec, certificates_packet)\n",
    "server_cert"
   ]
  },
  {
   "cell_type": "code",
   "execution_count": 36,
   "metadata": {
    "ExecuteTime": {
     "end_time": "2022-02-17T12:50:07.644245Z",
     "start_time": "2022-02-17T12:50:07.627503Z"
    }
   },
   "outputs": [
    {
     "name": "stdout",
     "output_type": "stream",
     "text": [
      "Certificate:\n",
      "    Data:\n",
      "        Version: 3 (0x2)\n",
      "        Serial Number:\n",
      "            49:7c:4d:c1:05:88:4f:96:12:66:e5:85:9e:54:17:46\n",
      "        Signature Algorithm: sha256WithRSAEncryption\n",
      "        Issuer: C=US, O=Google Trust Services, CN=WR2\n",
      "        Validity\n",
      "            Not Before: Jun  3 07:35:32 2024 GMT\n",
      "            Not After : Aug 26 07:35:31 2024 GMT\n",
      "        Subject: CN=www.google.com\n",
      "        Subject Public Key Info:\n",
      "            Public Key Algorithm: id-ecPublicKey\n",
      "                Public-Key: (256 bit)\n",
      "                pub:\n",
      "                    04:34:d1:e9:05:f5:8f:2e:96:38:d3:a2:c7:37:48:\n",
      "                    bb:ea:e9:10:1d:2f:71:ff:94:c2:a0:93:6e:f0:9d:\n",
      "                    77:20:d8:95:94:39:40:9d:8d:25:f5:21:07:83:4c:\n",
      "                    44:75:bc:59:aa:9b:f5:9d:3f:17:1e:b6:47:fc:d6:\n",
      "                    bc:b5:da:76:cb\n",
      "                ASN1 OID: prime256v1\n",
      "                NIST CURVE: P-256\n",
      "        X509v3 extensions:\n",
      "            X509v3 Key Usage: critical\n",
      "                Digital Signature\n",
      "            X509v3 Extended Key Usage: \n",
      "                TLS Web Server Authentication\n",
      "            X509v3 Basic Constraints: critical\n",
      "                CA:FALSE\n",
      "            X509v3 Subject Key Identifier: \n",
      "                DF:A3:BC:18:00:B3:9E:E9:BD:61:5D:77:B1:27:A3:54:35:0D:54:4A\n",
      "            X509v3 Authority Key Identifier: \n",
      "                DE:1B:1E:ED:79:15:D4:3E:37:24:C3:21:BB:EC:34:39:6D:42:B2:30\n",
      "            Authority Information Access: \n",
      "                OCSP - URI:http://o.pki.goog/wr2\n",
      "                CA Issuers - URI:http://i.pki.goog/wr2.crt\n",
      "            X509v3 Subject Alternative Name: \n",
      "                DNS:www.google.com\n",
      "            X509v3 Certificate Policies: \n",
      "                Policy: 2.23.140.1.2.1\n",
      "            X509v3 CRL Distribution Points: \n",
      "                Full Name:\n",
      "                  URI:http://c.pki.goog/wr2/oQ6nyr8F0m0.crl\n",
      "            CT Precertificate SCTs: \n",
      "                Signed Certificate Timestamp:\n",
      "                    Version   : v1 (0x0)\n",
      "                    Log ID    : EE:CD:D0:64:D5:DB:1A:CE:C5:5C:B7:9D:B4:CD:13:A2:\n",
      "                                32:87:46:7C:BC:EC:DE:C3:51:48:59:46:71:1F:B5:9B\n",
      "                    Timestamp : Jun  3 08:35:33.669 2024 GMT\n",
      "                    Extensions: none\n",
      "                    Signature : ecdsa-with-SHA256\n",
      "                                30:45:02:20:1C:94:B6:7D:1F:18:1F:FD:9F:C6:41:E7:\n",
      "                                4D:59:E8:96:3A:8D:D5:84:B1:52:D7:98:6F:7B:88:7C:\n",
      "                                F0:93:53:89:02:21:00:CF:73:89:8F:7A:92:64:C7:61:\n",
      "                                2D:48:3B:F3:F7:C4:8C:22:2D:5D:D9:11:AA:25:DA:0E:\n",
      "                                C2:81:DB:71:34:D4:54\n",
      "                Signed Certificate Timestamp:\n",
      "                    Version   : v1 (0x0)\n",
      "                    Log ID    : 3F:17:4B:4F:D7:22:47:58:94:1D:65:1C:84:BE:0D:12:\n",
      "                                ED:90:37:7F:1F:85:6A:EB:C1:BF:28:85:EC:F8:64:6E\n",
      "                    Timestamp : Jun  3 08:35:33.691 2024 GMT\n",
      "                    Extensions: none\n",
      "                    Signature : ecdsa-with-SHA256\n",
      "                                30:45:02:20:13:B2:D4:D2:AF:7A:9D:0E:E3:E8:F9:C3:\n",
      "                                D7:DE:74:A6:D9:31:B3:14:95:CF:94:7D:09:CF:C1:33:\n",
      "                                2A:1C:06:1A:02:21:00:90:77:42:39:B0:00:85:7B:33:\n",
      "                                76:56:15:C8:33:BC:8D:23:2F:FB:EA:70:F3:2E:5D:38:\n",
      "                                61:47:E5:C5:BD:49:9B\n",
      "    Signature Algorithm: sha256WithRSAEncryption\n",
      "    Signature Value:\n",
      "        60:64:e4:70:66:3d:89:3a:75:1a:b5:e4:8d:e1:02:c1:0c:49:\n",
      "        3e:3f:f2:c4:a1:14:0e:bf:d8:83:f9:6d:6e:a8:01:78:f1:79:\n",
      "        81:3e:3d:5b:22:c4:a3:ba:67:68:1d:85:aa:43:6d:bb:9f:31:\n",
      "        40:ef:aa:b1:48:05:24:b2:71:53:fa:04:2b:5d:f7:b0:93:18:\n",
      "        df:69:9b:82:9d:12:e9:72:46:ac:87:b3:e0:fc:8b:87:ad:b2:\n",
      "        84:6f:df:ef:9c:57:1a:7f:15:2f:7c:d5:91:06:84:95:c6:98:\n",
      "        bf:31:bb:e7:48:28:0d:0c:95:32:4a:2b:4c:8a:d3:c5:30:96:\n",
      "        99:17:c5:94:7c:c6:08:28:79:4f:72:a1:0b:b0:1f:0a:e2:f5:\n",
      "        eb:df:8a:29:bd:42:af:e5:6d:cb:73:f0:ba:19:a0:a0:fc:3d:\n",
      "        a1:9a:18:45:99:e6:39:49:d8:5d:7f:98:0d:b5:be:aa:6a:f1:\n",
      "        4a:27:81:6e:e1:c4:1f:ac:ba:01:95:75:21:09:a0:68:6d:93:\n",
      "        d1:de:e7:3e:0d:04:77:ec:8c:92:8d:b8:7c:da:7e:69:01:2c:\n",
      "        5d:fa:ae:ea:a9:95:03:d6:a1:7d:70:35:06:80:a7:54:4c:ba:\n",
      "        46:87:32:06:65:16:81:06:1f:e2:79:79:be:1b:8b:43:2d:43:\n",
      "        dc:94:43:f5\n",
      "\n",
      "Certificate:\n",
      "    Data:\n",
      "        Version: 3 (0x2)\n",
      "        Serial Number:\n",
      "            7f:f0:05:a0:7c:4c:de:d1:00:ad:9d:66:a5:10:7b:98\n",
      "        Signature Algorithm: sha256WithRSAEncryption\n",
      "        Issuer: C=US, O=Google Trust Services LLC, CN=GTS Root R1\n",
      "        Validity\n",
      "            Not Before: Dec 13 09:00:00 2023 GMT\n",
      "            Not After : Feb 20 14:00:00 2029 GMT\n",
      "        Subject: C=US, O=Google Trust Services, CN=WR2\n",
      "        Subject Public Key Info:\n",
      "            Public Key Algorithm: rsaEncryption\n",
      "                Public-Key: (2048 bit)\n",
      "                Modulus:\n",
      "                    00:a9:ff:9c:7f:45:1e:70:a8:53:9f:ca:d9:e5:0d:\n",
      "                    de:46:57:57:7d:bc:8f:9a:5a:ac:46:f1:84:9a:bb:\n",
      "                    91:db:c9:fb:2f:01:fb:92:09:00:16:5e:a0:1c:f8:\n",
      "                    c1:ab:f9:78:2f:4a:cc:d8:85:a2:d8:59:3c:0e:d3:\n",
      "                    18:fb:b1:f5:24:0d:26:ee:b6:5b:64:76:7c:14:c7:\n",
      "                    2f:7a:ce:a8:4c:b7:f4:d9:08:fc:df:87:23:35:20:\n",
      "                    a8:e2:69:e2:8c:4e:3f:b1:59:fa:60:a2:1e:b3:c9:\n",
      "                    20:53:19:82:ca:36:53:6d:60:4d:e9:00:91:fc:76:\n",
      "                    8d:5c:08:0f:0a:c2:dc:f1:73:6b:c5:13:6e:0a:4f:\n",
      "                    7a:c2:f2:02:1c:2e:b4:63:83:da:31:f6:2d:75:30:\n",
      "                    b2:fb:ab:c2:6e:db:a9:c0:0e:b9:f9:67:d4:c3:25:\n",
      "                    57:74:eb:05:b4:e9:8e:b5:de:28:cd:cc:7a:14:e4:\n",
      "                    71:03:cb:4d:61:2e:61:57:c5:19:a9:0b:98:84:1a:\n",
      "                    e8:79:29:d9:b2:8d:2f:ff:57:6a:66:e0:ce:ab:95:\n",
      "                    a8:29:96:63:70:12:67:1e:3a:e1:db:b0:21:71:d7:\n",
      "                    7c:9e:fd:aa:17:6e:fe:2b:fb:38:17:14:d1:66:a7:\n",
      "                    af:9a:b5:70:cc:c8:63:81:3a:8c:c0:2a:a9:76:37:\n",
      "                    ce:e3\n",
      "                Exponent: 65537 (0x10001)\n",
      "        X509v3 extensions:\n",
      "            X509v3 Key Usage: critical\n",
      "                Digital Signature, Certificate Sign, CRL Sign\n",
      "            X509v3 Extended Key Usage: \n",
      "                TLS Web Server Authentication, TLS Web Client Authentication\n",
      "            X509v3 Basic Constraints: critical\n",
      "                CA:TRUE, pathlen:0\n",
      "            X509v3 Subject Key Identifier: \n",
      "                DE:1B:1E:ED:79:15:D4:3E:37:24:C3:21:BB:EC:34:39:6D:42:B2:30\n",
      "            X509v3 Authority Key Identifier: \n",
      "                E4:AF:2B:26:71:1A:2B:48:27:85:2F:52:66:2C:EF:F0:89:13:71:3E\n",
      "            Authority Information Access: \n",
      "                CA Issuers - URI:http://i.pki.goog/r1.crt\n",
      "            X509v3 CRL Distribution Points: \n",
      "                Full Name:\n",
      "                  URI:http://c.pki.goog/r/r1.crl\n",
      "            X509v3 Certificate Policies: \n",
      "                Policy: 2.23.140.1.2.1\n",
      "    Signature Algorithm: sha256WithRSAEncryption\n",
      "    Signature Value:\n",
      "        45:75:8b:e5:1f:3b:44:13:96:1a:ab:58:f1:35:c9:6f:3d:d2:\n",
      "        d0:33:4a:86:33:ba:57:51:4f:ee:c4:34:da:16:12:4c:bf:13:\n",
      "        9f:0d:d4:54:e9:48:79:c0:30:3c:94:25:f2:1a:f4:ba:32:94:\n",
      "        b6:33:72:0b:85:ee:09:11:25:34:94:e1:6f:42:db:82:9b:7b:\n",
      "        7f:2a:9a:a9:ff:7f:a9:d2:de:4a:20:cb:b3:fb:03:03:b8:f8:\n",
      "        07:05:da:59:92:2f:18:46:98:ce:af:72:be:24:26:b1:1e:00:\n",
      "        4d:bd:08:ad:93:41:44:0a:bb:c7:d5:01:85:bf:93:57:e3:df:\n",
      "        74:12:53:0e:11:25:d3:9b:dc:de:cb:27:6e:b3:c2:b9:33:62:\n",
      "        39:c2:e0:35:e1:5b:a7:09:2e:19:cb:91:2a:76:5c:f1:df:ca:\n",
      "        23:84:40:a5:6f:ff:9a:41:e0:b5:ef:32:d1:85:ae:af:25:09:\n",
      "        f0:62:c5:6e:c2:c8:6e:32:fd:b8:da:e2:ce:4a:91:4a:f3:85:\n",
      "        55:4e:b1:75:d6:48:33:2f:6f:84:d9:12:5c:9f:d4:71:98:63:\n",
      "        25:8d:69:5c:0a:6b:7d:f2:41:bd:e8:bb:8f:e4:22:d7:9d:65:\n",
      "        45:e8:4c:0a:87:da:e9:60:66:88:0e:1f:c7:e1:4e:56:c5:76:\n",
      "        ff:b4:7a:57:69:f2:02:22:09:26:41:1d:da:74:a2:e5:29:f3:\n",
      "        c4:9a:e5:5d:d6:aa:7a:fd:e1:b7:2b:66:38:fb:e8:29:66:ba:\n",
      "        ef:a0:13:2f:f8:73:7e:f0:da:40:11:1c:5d:dd:8f:a6:fc:be:\n",
      "        db:be:56:f8:32:9c:1f:41:41:6d:7e:b6:c5:eb:c6:8b:36:b7:\n",
      "        17:8c:9d:cf:19:7a:34:9f:21:93:c4:7e:74:35:d2:aa:fd:4c:\n",
      "        6d:14:f5:c9:b0:79:5b:49:3c:f3:bf:17:48:e8:ef:9a:26:13:\n",
      "        0c:87:f2:73:d6:9c:c5:52:6b:63:f7:32:90:78:a9:6b:eb:5e:\n",
      "        d6:93:a1:bf:bc:18:3d:8b:59:f6:8a:c6:05:5e:52:18:e2:66:\n",
      "        e0:da:c1:dc:ad:5a:25:aa:f4:45:fc:f1:0b:78:a4:af:b0:f2:\n",
      "        73:a4:30:a8:34:c1:53:7f:42:96:e5:48:41:eb:90:46:0c:06:\n",
      "        dc:cb:92:c6:5e:f3:44:44:43:46:29:46:a0:a6:fc:b9:8e:39:\n",
      "        27:39:b1:5a:e2:b1:ad:fc:13:ff:8e:fc:26:e1:d4:fe:84:f1:\n",
      "        50:5a:8e:97:6b:2d:2a:79:fb:40:64:ea:f3:3d:bd:5b:e1:a0:\n",
      "        04:b0:97:48:1c:42:f5:ea:5a:1c:cd:26:c8:51:ff:14:99:67:\n",
      "        89:72:5f:1d:ec:ad:5a:dd\n",
      "\n",
      "Certificate:\n",
      "    Data:\n",
      "        Version: 3 (0x2)\n",
      "        Serial Number:\n",
      "            77:bd:0d:6c:db:36:f9:1a:ea:21:0f:c4:f0:58:d3:0d\n",
      "        Signature Algorithm: sha256WithRSAEncryption\n",
      "        Issuer: C=BE, O=GlobalSign nv-sa, OU=Root CA, CN=GlobalSign Root CA\n",
      "        Validity\n",
      "            Not Before: Jun 19 00:00:42 2020 GMT\n",
      "            Not After : Jan 28 00:00:42 2028 GMT\n",
      "        Subject: C=US, O=Google Trust Services LLC, CN=GTS Root R1\n",
      "        Subject Public Key Info:\n",
      "            Public Key Algorithm: rsaEncryption\n",
      "                Public-Key: (4096 bit)\n",
      "                Modulus:\n",
      "                    00:b6:11:02:8b:1e:e3:a1:77:9b:3b:dc:bf:94:3e:\n",
      "                    b7:95:a7:40:3c:a1:fd:82:f9:7d:32:06:82:71:f6:\n",
      "                    f6:8c:7f:fb:e8:db:bc:6a:2e:97:97:a3:8c:4b:f9:\n",
      "                    2b:f6:b1:f9:ce:84:1d:b1:f9:c5:97:de:ef:b9:f2:\n",
      "                    a3:e9:bc:12:89:5e:a7:aa:52:ab:f8:23:27:cb:a4:\n",
      "                    b1:9c:63:db:d7:99:7e:f0:0a:5e:eb:68:a6:f4:c6:\n",
      "                    5a:47:0d:4d:10:33:e3:4e:b1:13:a3:c8:18:6c:4b:\n",
      "                    ec:fc:09:90:df:9d:64:29:25:23:07:a1:b4:d2:3d:\n",
      "                    2e:60:e0:cf:d2:09:87:bb:cd:48:f0:4d:c2:c2:7a:\n",
      "                    88:8a:bb:ba:cf:59:19:d6:af:8f:b0:07:b0:9e:31:\n",
      "                    f1:82:c1:c0:df:2e:a6:6d:6c:19:0e:b5:d8:7e:26:\n",
      "                    1a:45:03:3d:b0:79:a4:94:28:ad:0f:7f:26:e5:a8:\n",
      "                    08:fe:96:e8:3c:68:94:53:ee:83:3a:88:2b:15:96:\n",
      "                    09:b2:e0:7a:8c:2e:75:d6:9c:eb:a7:56:64:8f:96:\n",
      "                    4f:68:ae:3d:97:c2:84:8f:c0:bc:40:c0:0b:5c:bd:\n",
      "                    f6:87:b3:35:6c:ac:18:50:7f:84:e0:4c:cd:92:d3:\n",
      "                    20:e9:33:bc:52:99:af:32:b5:29:b3:25:2a:b4:48:\n",
      "                    f9:72:e1:ca:64:f7:e6:82:10:8d:e8:9d:c2:8a:88:\n",
      "                    fa:38:66:8a:fc:63:f9:01:f9:78:fd:7b:5c:77:fa:\n",
      "                    76:87:fa:ec:df:b1:0e:79:95:57:b4:bd:26:ef:d6:\n",
      "                    01:d1:eb:16:0a:bb:8e:0b:b5:c5:c5:8a:55:ab:d3:\n",
      "                    ac:ea:91:4b:29:cc:19:a4:32:25:4e:2a:f1:65:44:\n",
      "                    d0:02:ce:aa:ce:49:b4:ea:9f:7c:83:b0:40:7b:e7:\n",
      "                    43:ab:a7:6c:a3:8f:7d:89:81:fa:4c:a5:ff:d5:8e:\n",
      "                    c3:ce:4b:e0:b5:d8:b3:8e:45:cf:76:c0:ed:40:2b:\n",
      "                    fd:53:0f:b0:a7:d5:3b:0d:b1:8a:a2:03:de:31:ad:\n",
      "                    cc:77:ea:6f:7b:3e:d6:df:91:22:12:e6:be:fa:d8:\n",
      "                    32:fc:10:63:14:51:72:de:5d:d6:16:93:bd:29:68:\n",
      "                    33:ef:3a:66:ec:07:8a:26:df:13:d7:57:65:78:27:\n",
      "                    de:5e:49:14:00:a2:00:7f:9a:a8:21:b6:a9:b1:95:\n",
      "                    b0:a5:b9:0d:16:11:da:c7:6c:48:3c:40:e0:7e:0d:\n",
      "                    5a:cd:56:3c:d1:97:05:b9:cb:4b:ed:39:4b:9c:c4:\n",
      "                    3f:d2:55:13:6e:24:b0:d6:71:fa:f4:c1:ba:cc:ed:\n",
      "                    1b:f5:fe:81:41:d8:00:98:3d:3a:c8:ae:7a:98:37:\n",
      "                    18:05:95\n",
      "                Exponent: 65537 (0x10001)\n",
      "        X509v3 extensions:\n",
      "            X509v3 Key Usage: critical\n",
      "                Digital Signature, Certificate Sign, CRL Sign\n",
      "            X509v3 Basic Constraints: critical\n",
      "                CA:TRUE\n",
      "            X509v3 Subject Key Identifier: \n",
      "                E4:AF:2B:26:71:1A:2B:48:27:85:2F:52:66:2C:EF:F0:89:13:71:3E\n",
      "            X509v3 Authority Key Identifier: \n",
      "                60:7B:66:1A:45:0D:97:CA:89:50:2F:7D:04:CD:34:A8:FF:FC:FD:4B\n",
      "            Authority Information Access: \n",
      "                OCSP - URI:http://ocsp.pki.goog/gsr1\n",
      "                CA Issuers - URI:http://pki.goog/gsr1/gsr1.crt\n",
      "            X509v3 CRL Distribution Points: \n",
      "                Full Name:\n",
      "                  URI:http://crl.pki.goog/gsr1/gsr1.crl\n",
      "            X509v3 Certificate Policies: \n",
      "                Policy: 2.23.140.1.2.1\n",
      "                Policy: 2.23.140.1.2.2\n",
      "                Policy: 1.3.6.1.4.1.11129.2.5.3.2\n",
      "                Policy: 1.3.6.1.4.1.11129.2.5.3.3\n",
      "    Signature Algorithm: sha256WithRSAEncryption\n",
      "    Signature Value:\n",
      "        34:a4:1e:b1:28:a3:d0:b4:76:17:a6:31:7a:21:e9:d1:52:3e:\n",
      "        c8:db:74:16:41:88:b8:3d:35:1d:ed:e4:ff:93:e1:5c:5f:ab:\n",
      "        bb:ea:7c:cf:db:e4:0d:d1:8b:57:f2:26:6f:5b:be:17:46:68:\n",
      "        94:37:6f:6b:7a:c8:c0:18:37:fa:25:51:ac:ec:68:bf:b2:c8:\n",
      "        49:fd:5a:9a:ca:01:23:ac:84:80:2b:02:8c:99:97:eb:49:6a:\n",
      "        8c:75:d7:c7:de:b2:c9:97:9f:58:48:57:0e:35:a1:e4:1a:d6:\n",
      "        fd:6f:83:81:6f:ef:8c:cf:97:af:c0:85:2a:f0:f5:4e:69:09:\n",
      "        91:2d:e1:68:b8:c1:2b:73:e9:d4:d9:fc:22:c0:37:1f:0b:66:\n",
      "        1d:49:ed:02:55:8f:67:e1:32:d7:d3:26:bf:70:e3:3d:f4:67:\n",
      "        6d:3d:7c:e5:34:88:e3:32:fa:a7:6e:06:6a:6f:bd:8b:91:ee:\n",
      "        16:4b:e8:3b:a9:b3:37:e7:c3:44:a4:7e:d8:6c:d7:c7:46:f5:\n",
      "        92:9b:e7:d5:21:be:66:92:19:94:55:6c:d4:29:b2:0d:c1:66:\n",
      "        5b:e2:77:49:48:28:ed:9d:d7:1a:33:72:53:b3:82:35:cf:62:\n",
      "        8b:c9:24:8b:a5:b7:39:0c:bb:7e:2a:41:bf:52:cf:fc:a2:96:\n",
      "        b6:c2:82:3f\n",
      "\n"
     ]
    }
   ],
   "source": [
    "import OpenSSL.crypto\n",
    "\n",
    "first_cert = None\n",
    "for cert in server_cert['certificates_data']['certificates_data']:\n",
    "    x509 = OpenSSL.crypto.load_certificate(OpenSSL.crypto.FILETYPE_ASN1, cert['certificate'].bytes())\n",
    "    if first_cert is None:\n",
    "        first_cert = x509\n",
    "    print(OpenSSL.crypto.dump_certificate(OpenSSL.crypto.FILETYPE_TEXT, x509).decode('utf-8')) "
   ]
  },
  {
   "cell_type": "code",
   "execution_count": 37,
   "metadata": {
    "ExecuteTime": {
     "end_time": "2022-02-17T12:50:07.651693Z",
     "start_time": "2022-02-17T12:50:07.645733Z"
    },
    "scrolled": true
   },
   "outputs": [],
   "source": [
    "cert_pub = first_cert.get_pubkey().to_cryptography_key()"
   ]
  },
  {
   "cell_type": "code",
   "execution_count": 38,
   "metadata": {
    "ExecuteTime": {
     "end_time": "2022-02-17T12:50:07.659958Z",
     "start_time": "2022-02-17T12:50:07.653226Z"
    }
   },
   "outputs": [],
   "source": [
    "transcript.update(encrypted_extensions_packet)\n",
    "transcript.update(certificates_packet)"
   ]
  },
  {
   "cell_type": "code",
   "execution_count": 39,
   "metadata": {
    "ExecuteTime": {
     "end_time": "2022-02-17T12:50:07.671132Z",
     "start_time": "2022-02-17T12:50:07.661321Z"
    }
   },
   "outputs": [
    {
     "data": {
      "text/plain": [
       "{'certificate_verify': {'signature_algorithm': 0x0403,\n",
       "  'signature': 0x3045022100f1ef17d5711c688b0d01f95ee85be7da5f0a05d2257865af63c473c5e75cbabb02203b7403aed07c15f5ba78df2975f88b57af23ceefe4930e38f2482fa325291cc7},\n",
       " '_selector': 0x0f}"
      ]
     },
     "execution_count": 39,
     "metadata": {},
     "output_type": "execute_result"
    }
   ],
   "source": [
    "cert_verify_message = public_match_exact(handshake_app_data_spec, certificate_verify_packet)\n",
    "cert_verify_message"
   ]
  },
  {
   "cell_type": "code",
   "execution_count": 40,
   "metadata": {
    "ExecuteTime": {
     "end_time": "2022-02-17T12:50:07.680693Z",
     "start_time": "2022-02-17T12:50:07.673090Z"
    }
   },
   "outputs": [
    {
     "name": "stdout",
     "output_type": "stream",
     "text": [
      "certificate verify succeeded\n"
     ]
    }
   ],
   "source": [
    "sign_data = b'\\x20' * 64 + \\\n",
    "    b'TLS 1.3, server CertificateVerify\\x00' + \\\n",
    "    get_hash(transcript)\n",
    "\n",
    "signature = cert_verify_message['certificate_verify']['signature'].bytes()\n",
    "\n",
    "cert_pub.verify(signature, sign_data, ec.ECDSA(hashes.SHA256()))\n",
    "print(\"certificate verify succeeded\")"
   ]
  },
  {
   "cell_type": "code",
   "execution_count": 41,
   "metadata": {
    "ExecuteTime": {
     "end_time": "2022-02-17T12:50:07.688964Z",
     "start_time": "2022-02-17T12:50:07.682070Z"
    }
   },
   "outputs": [],
   "source": [
    "transcript.update(certificate_verify_packet)"
   ]
  },
  {
   "cell_type": "code",
   "execution_count": 42,
   "metadata": {
    "ExecuteTime": {
     "end_time": "2022-02-17T12:50:07.772403Z",
     "start_time": "2022-02-17T12:50:07.690624Z"
    }
   },
   "outputs": [
    {
     "data": {
      "text/plain": [
       "{'finished_verify_data': 0xc7f40efd2b3cb38e07f47217764237ee0b9be1cee30dd5691c730aecd7ed4ba1,\n",
       " '_selector': 0x14}"
      ]
     },
     "execution_count": 42,
     "metadata": {},
     "output_type": "execute_result"
    }
   ],
   "source": [
    "finished_message = public_match_exact(handshake_app_data_spec, finished_message_packet)\n",
    "finished_message"
   ]
  },
  {
   "cell_type": "code",
   "execution_count": 43,
   "metadata": {
    "ExecuteTime": {
     "end_time": "2022-02-17T12:50:07.796705Z",
     "start_time": "2022-02-17T12:50:07.776043Z"
    }
   },
   "outputs": [
    {
     "name": "stdout",
     "output_type": "stream",
     "text": [
      "matching finished hash\n"
     ]
    }
   ],
   "source": [
    "if finished_hash(server_handshake_secret, transcript) == finished_message['finished_verify_data'].bytes():\n",
    "    print(\"matching finished hash\")\n",
    "else:\n",
    "    raise RuntimeError(\"not matching finished hash\")"
   ]
  },
  {
   "cell_type": "code",
   "execution_count": 44,
   "metadata": {
    "ExecuteTime": {
     "end_time": "2022-02-17T12:50:07.817083Z",
     "start_time": "2022-02-17T12:50:07.799236Z"
    }
   },
   "outputs": [],
   "source": [
    "transcript.update(finished_message_packet)"
   ]
  },
  {
   "cell_type": "code",
   "execution_count": 45,
   "metadata": {
    "ExecuteTime": {
     "end_time": "2022-02-17T12:50:07.843868Z",
     "start_time": "2022-02-17T12:50:07.818921Z"
    }
   },
   "outputs": [],
   "source": [
    "client_finished_hash = finished_hash(client_handshake_secret, transcript)\n",
    "client_verify_unencrypted = public_construct(handshake_app_data_spec, {'finished_verify_data': client_finished_hash, '_selector': 0x14})"
   ]
  },
  {
   "cell_type": "code",
   "execution_count": 46,
   "metadata": {
    "ExecuteTime": {
     "end_time": "2022-02-17T12:50:07.869505Z",
     "start_time": "2022-02-17T12:50:07.845530Z"
    }
   },
   "outputs": [],
   "source": [
    "client_verify_packet, client_handshake_nonce = encrypt_packet(\n",
    "    client_verify_unencrypted, b'\\x16', client_handshake_key, client_handshake_nonce\n",
    ")"
   ]
  },
  {
   "cell_type": "code",
   "execution_count": 47,
   "metadata": {
    "ExecuteTime": {
     "end_time": "2022-02-17T12:50:07.895782Z",
     "start_time": "2022-02-17T12:50:07.871371Z"
    }
   },
   "outputs": [],
   "source": [
    "sock.send(client_verify_packet)"
   ]
  },
  {
   "cell_type": "code",
   "execution_count": 48,
   "metadata": {
    "ExecuteTime": {
     "end_time": "2022-02-17T12:50:07.921589Z",
     "start_time": "2022-02-17T12:50:07.897221Z"
    }
   },
   "outputs": [],
   "source": [
    "master_secret = extract(b'\\0' * 32, derive(handshake_secret, b\"derived\"))\n",
    "server_app_secret = derive(master_secret, b\"s ap traffic\", transcript)\n",
    "server_app_key = expand(server_app_secret, b'key', 16)\n",
    "server_app_nonce = (expand(server_app_secret, b'iv', 12), 0)\n",
    "client_app_secret = derive(master_secret, b\"c ap traffic\", transcript)\n",
    "client_app_key = expand(client_app_secret, b'key', 16)\n",
    "client_app_nonce = (expand(client_app_secret, b'iv', 12), 0)"
   ]
  },
  {
   "cell_type": "code",
   "execution_count": 49,
   "metadata": {
    "ExecuteTime": {
     "end_time": "2022-02-17T12:50:07.946457Z",
     "start_time": "2022-02-17T12:50:07.922919Z"
    }
   },
   "outputs": [],
   "source": [
    "transcript.update(client_verify_packet)"
   ]
  },
  {
   "cell_type": "code",
   "execution_count": 50,
   "metadata": {
    "ExecuteTime": {
     "end_time": "2022-02-17T12:50:07.973555Z",
     "start_time": "2022-02-17T12:50:07.948133Z"
    }
   },
   "outputs": [],
   "source": [
    "http_req = b\"\"\"GET / HTTP/1.1\n",
    "Host: www.google.com\n",
    "\n",
    "\"\"\"\n",
    "packet, client_app_nonce = encrypt_packet(\n",
    "    http_req, b'\\x17', client_app_key, client_app_nonce\n",
    ")"
   ]
  },
  {
   "cell_type": "code",
   "execution_count": 51,
   "metadata": {
    "ExecuteTime": {
     "end_time": "2022-02-17T12:50:08.001446Z",
     "start_time": "2022-02-17T12:50:07.978030Z"
    },
    "scrolled": true
   },
   "outputs": [],
   "source": [
    "sock.send(packet)"
   ]
  },
  {
   "cell_type": "code",
   "execution_count": 52,
   "metadata": {
    "ExecuteTime": {
     "end_time": "2022-02-17T12:50:08.508198Z",
     "start_time": "2022-02-17T12:50:08.504370Z"
    }
   },
   "outputs": [],
   "source": [
    "http_resp = read_tls(sock)"
   ]
  },
  {
   "cell_type": "code",
   "execution_count": 53,
   "metadata": {
    "ExecuteTime": {
     "end_time": "2022-02-17T12:50:09.242997Z",
     "start_time": "2022-02-17T12:50:09.235468Z"
    }
   },
   "outputs": [
    {
     "data": {
      "text/plain": [
       "(b'HTTP/1.1 200 OK\\r\\nDate: Wed, 26 Jun 2024 19:38:46 GMT\\r\\nExpires: -1\\r\\nCache-Control: private, max-age=0\\r\\nContent-Type: text/html; charset=ISO-8859-1\\r\\nContent-Security-Policy-Report-Only: object-src \\'none\\';base-uri \\'self\\';script-src \\'nonce-kqlvBJHCflREQSM_IbhCfQ\\' \\'strict-dynamic\\' \\'report-sample\\' \\'unsafe-eval\\' \\'unsafe-inline\\' https: http:;report-uri https://csp.withgoogle.com/csp/gws/other-hp\\r\\nP3P: CP=\"This is not a P3P policy! See g.co/p3phelp for more info.\"\\r\\nServer: gws\\r\\nX-XSS-Protection: 0\\r\\nX-Frame-Options: SAMEORIGIN\\r\\nSet-Cookie: AEC=AQTF6Hz-xLEeKuYABFlb23W4pdq4NLL2KRJjX0Y74AT563hk1wU_NkFZow; expires=Mon, 23-Dec-2024 19:38:46 GMT; path=/; domain=.google.com; Secure; HttpOnly; SameSite=lax\\r\\nSet-Cookie: __Secure-ENID=20.SE=hSKvJq9I3MKIQuc5t5xoNdp7mHTvpX5rOamo9Ke0iun-PttRqK70ZwDDXVjgLeYcHQBvK81yaTBkwzJxqfJeoZUo3Ot-GBfEcCesDOvz-0TLqvnkVwFXf14mmTpanvHmT26RVqFvZQYPTFw4l9M77sflZpxX4PtaHS_C-2fClJpF367XjWTbB9P4unIDaJc5-66ItrVoQYWUzjbK; expires=Sun, 27-Jul-2025 11:57:04 GMT; path=/; domain=.google.com; Secure; HttpOnly; SameSite=lax\\r\\nAlt-Svc: h3=\":443\"; ma=2592000,h3-29=\":443\"; ma=2592000\\r\\nAccept-Ranges: none\\r\\nVary: Accept-Encoding\\r\\nTransfer-Encoding: chunked\\r\\n\\r\\n4f8e\\r\\n<!doctype html><html itemscope=\"\" itemtype=\"http://schema.org/WebPage\" lang=\"nl\"><head><meta content=\"text/html; charset=UTF-8\" http-equiv=\"Content-Type\"><meta content=\"/images/branding/googleg/1x/goog',\n",
       " 23,\n",
       " (b'G~\\xe4\\x0b5M\\x08U\\x8bP\\xbaY', 1))"
      ]
     },
     "execution_count": 53,
     "metadata": {},
     "output_type": "execute_result"
    }
   ],
   "source": [
    "data, packet_type, server_app_nonce = decrypt_packet(http_resp, server_app_key, server_app_nonce)\n",
    "(data, packet_type, server_app_nonce)"
   ]
  },
  {
   "cell_type": "code",
   "execution_count": 54,
   "metadata": {
    "ExecuteTime": {
     "end_time": "2022-02-17T12:50:09.909536Z",
     "start_time": "2022-02-17T12:50:09.900556Z"
    }
   },
   "outputs": [],
   "source": [
    "class HttpsReader(ReaderWrapper):\n",
    "    def _read(self):\n",
    "        global server_app_nonce\n",
    "        http_resp = read_tls(sock)\n",
    "        data, packet_type, server_app_nonce = decrypt_packet(http_resp, server_app_key, server_app_nonce)\n",
    "        print(\"got body\", data[:100])\n",
    "        return data"
   ]
  },
  {
   "cell_type": "code",
   "execution_count": 55,
   "metadata": {
    "ExecuteTime": {
     "end_time": "2022-02-17T12:50:10.393677Z",
     "start_time": "2022-02-17T12:50:10.389987Z"
    }
   },
   "outputs": [],
   "source": [
    "http_reader = HttpsReader(initial_value=data)"
   ]
  },
  {
   "cell_type": "code",
   "execution_count": 56,
   "metadata": {
    "ExecuteTime": {
     "end_time": "2022-02-17T12:50:10.766739Z",
     "start_time": "2022-02-17T12:50:10.760849Z"
    }
   },
   "outputs": [
    {
     "data": {
      "text/plain": [
       "b'HTTP/1.1 200 OK\\r\\n'"
      ]
     },
     "execution_count": 56,
     "metadata": {},
     "output_type": "execute_result"
    }
   ],
   "source": [
    "http_reader.read_line()"
   ]
  },
  {
   "cell_type": "code",
   "execution_count": 57,
   "metadata": {
    "ExecuteTime": {
     "end_time": "2022-02-17T12:50:12.063275Z",
     "start_time": "2022-02-17T12:50:12.057252Z"
    }
   },
   "outputs": [
    {
     "name": "stdout",
     "output_type": "stream",
     "text": [
      "b'Date: Wed, 26 Jun 2024 19:38:46 GMT\\r\\n'\n",
      "b'Expires: -1\\r\\n'\n",
      "b'Cache-Control: private, max-age=0\\r\\n'\n",
      "b'Content-Type: text/html; charset=ISO-8859-1\\r\\n'\n",
      "b\"Content-Security-Policy-Report-Only: object-src 'none';base-uri 'self';script-src 'nonce-kqlvBJHCflREQSM_IbhCfQ' 'strict-dynamic' 'report-sample' 'unsafe-eval' 'unsafe-inline' https: http:;report-uri https://csp.withgoogle.com/csp/gws/other-hp\\r\\n\"\n",
      "b'P3P: CP=\"This is not a P3P policy! See g.co/p3phelp for more info.\"\\r\\n'\n",
      "b'Server: gws\\r\\n'\n",
      "b'X-XSS-Protection: 0\\r\\n'\n",
      "b'X-Frame-Options: SAMEORIGIN\\r\\n'\n",
      "b'Set-Cookie: AEC=AQTF6Hz-xLEeKuYABFlb23W4pdq4NLL2KRJjX0Y74AT563hk1wU_NkFZow; expires=Mon, 23-Dec-2024 19:38:46 GMT; path=/; domain=.google.com; Secure; HttpOnly; SameSite=lax\\r\\n'\n",
      "b'Set-Cookie: __Secure-ENID=20.SE=hSKvJq9I3MKIQuc5t5xoNdp7mHTvpX5rOamo9Ke0iun-PttRqK70ZwDDXVjgLeYcHQBvK81yaTBkwzJxqfJeoZUo3Ot-GBfEcCesDOvz-0TLqvnkVwFXf14mmTpanvHmT26RVqFvZQYPTFw4l9M77sflZpxX4PtaHS_C-2fClJpF367XjWTbB9P4unIDaJc5-66ItrVoQYWUzjbK; expires=Sun, 27-Jul-2025 11:57:04 GMT; path=/; domain=.google.com; Secure; HttpOnly; SameSite=lax\\r\\n'\n",
      "b'Alt-Svc: h3=\":443\"; ma=2592000,h3-29=\":443\"; ma=2592000\\r\\n'\n",
      "b'Accept-Ranges: none\\r\\n'\n",
      "b'Vary: Accept-Encoding\\r\\n'\n",
      "b'Transfer-Encoding: chunked\\r\\n'\n",
      "got chunked\n",
      "b'\\r\\n'\n"
     ]
    }
   ],
   "source": [
    "content_length = None\n",
    "chunked = False\n",
    "\n",
    "while True:\n",
    "    header = http_reader.read_line()\n",
    "    print(header)\n",
    "    if header == b'\\r\\n':\n",
    "        break\n",
    "    if header.lower().startswith(b'content-length:'):\n",
    "        content_length = int(i.split(':').strip())\n",
    "        print('got content length', content_length)\n",
    "    elif header.lower().startswith(b'transfer-encoding: chunked'):\n",
    "        chunked = True\n",
    "        print('got chunked')\n"
   ]
  },
  {
   "cell_type": "code",
   "execution_count": 58,
   "metadata": {
    "ExecuteTime": {
     "end_time": "2022-02-17T12:50:12.400544Z",
     "start_time": "2022-02-17T12:50:12.396673Z"
    }
   },
   "outputs": [],
   "source": [
    "body = b''"
   ]
  },
  {
   "cell_type": "code",
   "execution_count": 59,
   "metadata": {
    "ExecuteTime": {
     "end_time": "2022-02-17T12:50:12.658329Z",
     "start_time": "2022-02-17T12:50:12.636440Z"
    }
   },
   "outputs": [
    {
     "name": "stdout",
     "output_type": "stream",
     "text": [
      "reading chunks\n",
      "length line b'4f8e\\r\\n'\n",
      "got body b'leg_standard_color_128dp.png\" itemprop=\"image\"><title>Google</title><script nonce=\"kqlvBJHCflREQSM_I'\n",
      "got body b\"436,120,3,96,2,54,138,693,204,1519,2,21191038,365637,3,980,5,9211,4,8136,1381,1183,906',kBL:'jpKz',k\"\n",
      "got body b' g=n.length;n[g]=a;a.onerror=a.onload=a.onabort=function(){delete n[g]};a.src=c}};google.logUrl=func'\n",
      "got body b':transparent;position:absolute;top:-999px;visibility:hidden;z-index:998;right:0}.gbto #gbs{backgroun'\n",
      "got body b'dius=5)\";opacity:1\\\\0/;top:-4px\\\\0/;left:-6px\\\\0/;right:5px\\\\0/;bottom:4px\\\\0/}.gbma{position:relative;to'\n",
      "got body b'o .gbgt .gbtb2{border-top-width:0}.gbtb .gbts{background:url(https://ssl.gstatic.com/gb/images/b_8d5'\n",
      "got body b'(https://ssl.gstatic.com/gb/images/b_8d5afc09.png);_background:url(https://ssl.gstatic.com/gb/images'\n",
      "got body b'v{background:#fff;border-bottom:1px solid #bebebe;-moz-box-shadow:0 2px 4px rgba(0,0,0,.12);-o-box-s'\n",
      "got body b':0;white-space:nowrap;width:100%}.gbmpala,.gbmpalb{font:13px Arial,sans-serif;line-height:27px;paddi'\n",
      "got body b' 0 0 1px #fff,0 1px 1px rgba(0,0,0,.1)}.gbqfb-no-focus:focus{border:1px solid #3079ed;-moz-box-shado'\n",
      "got body b'd90fe,#357ae8);background-image:-ms-linear-gradient(top,#4d90fe,#357ae8);background-image:-o-linear-'\n",
      "got body b\"Str='#f8f8f8',EndColorStr='#f1f1f1')}.gbqfbb{background-color:#fff;background-image:-webkit-gradient\"\n",
      "got body b'(0,0,0,.1);box-shadow:inset 0 1px 2px rgba(0,0,0,.1)}\\n#gbmpas{max-height:220px}#gbmm{max-height:530p'\n",
      "got body b'0)));background-image:-webkit-linear-gradient(bottom,rgba(0,0,0,.2),rgba(0,0,0,0));background-image:'\n",
      "got body b'g) 0 -261px repeat-x;color:#000;border:none;cursor:pointer;height:30px;margin:0;outline:0;font:15px '\n",
      "got chunk 20366 b'<!doctype html><html itemscope=\"\" itemtype=\"http://schema.org/WebPage\" lang=\"nl\"><head><meta content'\n",
      "reading chunks\n",
      "got body b'd8\\r\\n)+\"&jsr=\"+b(t.jsr)+\\n\"&bver=\"+b(t.bv);var f=a.lineNumber;f!==void 0&&(c+=\"&line=\"+f);var g=a.file'\n",
      "length line b'd8\\r\\n'\n",
      "got chunk 216 b')+\"&jsr=\"+b(t.jsr)+\\n\"&bver=\"+b(t.bv);var f=a.lineNumber;f!==void 0&&(c+=\"&line=\"+f);var g=a.fileName'\n",
      "reading chunks\n",
      "got body b'8000\\r\\nouterHTML.split(\"\\\\n\")[f],c+=\"&cad=\"+b(f?f.substring(0,300):\"No script found.\")));google.ple&&g'\n",
      "length line b'8000\\r\\n'\n",
      "got body b'nts);return k==void 0?m:m==void 0?k:m&&k}}}var fa=function(a){return function(){return f.bv.m==a}},h'\n",
      "got body b'd]=c[d];try{G(a)}catch(g){}}};n(\"mdc\",w);n(\"mdi\",ma);n(\"bnc\",y);n(\"qGC\",sa);n(\"qm\",B);n(\"qd\",z);n(\"l'\n",
      "got body b'pid=\",d(\"28834\"),\"&srcpg=\",d(\"prop=1\"),\"&jsr=\",Math.round(1/Ba),\"&ogev=\",d(\"Rm58ZpiSJKiji-gPgIWV0A0\"'\n",
      "got body b'anzrM.es5.DU\");a=a.join(\"\");C(a)};n(\"ca\",N);n(\"cr\",O);n(\"cc\",M);h.k=N;h.l=O;h.m=M;h.n=Na;h.p=Pa;h.q='\n",
      "got body b'unction(a){B(function(){f.close(a)})},fb=function(a){B(function(){f.rdd(a)})},$a=function(a){var b,c'\n",
      "got body b'n(){f.pcm&&f.pcm()})},lb=function(){B(function(){f.pca&&f.pca()})},mb=function(a,b,c,d,g,k,m,p,l,t){'\n",
      "got body b';\\nn(\"so\",Xa);n(\"sos\",Wa);n(\"si\",Ya);n(\"tg\",db);n(\"close\",eb);n(\"rdd\",fb);n(\"addLink\",ib);n(\"addExtra'\n",
      "got body b'})},Rb={\"27\":\"https://lh3.googleusercontent.com/ogw/default-user=s24\",\"27\":\"https://lh3.googleuserco'\n",
      "got body b'r b=V[a],c=0;c<b.length;c++)try{b[c](Zb(a))}catch(d){q(d,\"up\",\"tp\")}}}catch(d){q(d,\"up\",\"mtp\")}},Zb='\n",
      "got body b'p:Zb,spd:gc,gpd:hc,aeh:ic,aal:jc,gcc:kc});var Z=function(a,b){a[b]=function(c){var d=arguments;f.qm('\n",
      "got body b'document.getElementById(\"gb_\"+a);b&&f.l(b,h.test(b.className)?\"gbm0l\":\"gbz0l\");c&&f.k(c,h.test(c.cla'\n",
      "got body b'try{window.gbar.rdl();}catch(e){window.gbar&&gbar.logger&&gbar.logger.ml(e,{\"_sn\":\"cfg.init\"});}})()'\n",
      "got body b'lass=gbzt id=gb_426 href=\"https://news.google.com/?tab=wn\"><span class=gbtb2></span><span class=gbts'\n",
      "got body b'gbmt id=gb_30 href=\"https://www.blogger.com/?tab=wj\">Blogger</a></li><li class=gbmtc><a class=gbmt i'\n",
      "got body b\"b2></span><span id=gbgs5 class=gbts><span id=gbi5></span></span></a><script nonce='kqlvBJHCflREQSM_I\"\n",
      "got body b'0;padding:5px 8px 0 6px;vertical-align:top;color:#000\" autocomplete=\"off\" value=\"\" title=\"Google Zoe'\n",
      "got body b'g=document.getElementById(\"gbv\");g&&(g.value=a);f&&window.setTimeout(function(){location.href=f},0)}'\n",
      "got body b'waarden</a></p></span></center><script nonce=\"kqlvBJHCflREQSM_IbhCfQ\">(function(){window.google.cdo='\n",
      "got body b'S1Vq2mzk6nMxSyxjeFuQQ\\',excm:[]};})();</script> <link href=\"/xjs/_/ss/k=xjs.hp.4KrmAvBNyIg.L.X.O/am=A'\n",
      "got body b'{e.console&&e.console.error(d.message)}g=b}else g=b}a=(b=g)?b.createScriptURL(a):a;return new h(a,k)'\n",
      "got body b'1}a?st!==2||!google.rairicb||v&&document.visibilityState!==\"visible\"?p():(window.setTimeout(C,amd),g'\n",
      "got body b'3px 8px 0 rgba(0,0,0,0.2),0 0 0 1px rgba(0,0,0,0.08)\\\\x22,\\\\x22stok\\\\x22:\\\\x224mvKInDyzopQG1fTvM3OcDQX_D'\n",
      "got body b'es(a,{g:{value:b,configurable:!0,writable:!0,enumerable:!1}})})(C,55);Object.freeze(C);var D=functio'\n",
      "got chunk 32768 b'outerHTML.split(\"\\\\n\")[f],c+=\"&cad=\"+b(f?f.substring(0,300):\"No script found.\")));google.ple&&google.'\n",
      "reading chunks\n",
      "got body b'101\\r\\n=null?void 0:F.getAttribute(\"jsname\")}google.log(\"rcm\",\"&ei=\"+b+\"&tgtved=\"+f+\"&jsname=\"+(a||\"\")'\n",
      "length line b'101\\r\\n'\n",
      "got chunk 257 b'=null?void 0:F.getAttribute(\"jsname\")}google.log(\"rcm\",\"&ei=\"+b+\"&tgtved=\"+f+\"&jsname=\"+(a||\"\"))}}el'\n",
      "reading chunks\n",
      "got body b'0\\r\\n\\r\\n'\n",
      "length line b'0\\r\\n'\n",
      "got chunk 0 b''\n"
     ]
    }
   ],
   "source": [
    "while chunked:\n",
    "    print(\"reading chunks\")\n",
    "    length = http_reader.read_line()\n",
    "    print(\"length line\", length)\n",
    "    l = int(length[:-2], 16)\n",
    "\n",
    "    ch = http_reader.read_len(l)\n",
    "    print(\"got chunk\", len(ch), ch[:100])\n",
    "    body += ch\n",
    "    http_reader.read_line()\n",
    "    if l == 0:\n",
    "        break"
   ]
  },
  {
   "cell_type": "code",
   "execution_count": 60,
   "metadata": {
    "ExecuteTime": {
     "end_time": "2022-02-17T12:50:12.940621Z",
     "start_time": "2022-02-17T12:50:12.932996Z"
    }
   },
   "outputs": [
    {
     "name": "stderr",
     "output_type": "stream",
     "text": [
      "/tmp/ipykernel_1112368/449586190.py:1: DeprecationWarning: Importing display from IPython.core.display is deprecated since IPython 7.14, please import from IPython display\n",
      "  from IPython.core.display import display, HTML\n"
     ]
    },
    {
     "data": {
      "text/html": [
       "<!doctype html><html itemscope=\"\" itemtype=\"http://schema.org/WebPage\" lang=\"nl\"><head><meta content=\"text/html; charset=UTF-8\" http-equiv=\"Content-Type\"><meta content=\"/images/branding/googleg/1x/googleg_standard_color_128dp.png\" itemprop=\"image\"><title>Google</title><script nonce=\"kqlvBJHCflREQSM_IbhCfQ\">(function(){var _g={kEI:'Rm58ZuSTI9j5i-gPtpWtoAE',kEXPI:'0,18168,3682164,617,432,6,58,6,503750,34844,2872,2891,3926,7828,61296,16105,107481,56378,2,39761,6699,41949,68695,15676,8155,23351,22435,9779,62658,73178,3030,15816,1804,26407,8586,275,11814,342,1293,5259556,8587,891,623,5991808,690,2839085,68,504,197,2,17,23937863,4043709,14298,2374,43887,3,318,4,1281,3,2124363,23029351,12799,8408,16665,28027,36870,12881,4834,1573,13846,10474,2478,2212,7968,214,390,22462,4,22434,6099,1,8124,11582,2098,913,1792,1953,156,2483,4401,9103,1006,6730,732,2,5866,84,2456,679,4,285,3630,207,121,3217,5,3004,2949,4611,4,409,1979,4341,43,3,1253,4081,410,518,2805,1,6,1596,3,88,1221,3163,4139,24,1593,1999,2308,1440,1119,3,473,1454,422,553,113,2837,2868,37,3,1429,1679,4620,1704,334,1816,1670,44,682,659,19,6167,914,92,659,2904,215,108,714,38,236,3,495,1,769,373,325,7,1,24,1134,435,920,1376,189,164,8,1638,3,612,158,502,917,2133,201,43,295,834,365,157,1887,436,871,391,244,28,141,1572,181,180,1,3,1437,370,48,59,178,2,6,270,37,221,65,449,51,9,1,3,1,101,85,2163,33,1774,3,3,2115,216,338,882,330,1639,52,21,670,162,1,8,1,1,340,115,92,273,69,139,56,188,2,680,126,294,15,98,252,452,129,2,130,968,245,84,672,938,493,83,11,96,786,287,189,612,580,17,22,119,747,89,865,515,378,880,5,59,574,204,436,120,3,96,2,54,138,693,204,1519,2,21191038,365637,3,980,5,9211,4,8136,1381,1183,906',kBL:'jpKz',kOPI:89978449};(function(){var a;((a=window.google)==null?0:a.stvsc)?google.kEI=_g.kEI:window.google=_g;}).call(this);})();(function(){google.sn='webhp';google.kHL='nl';})();(function(){\n",
       "var h=this||self;function l(){return window.google!==void 0&&window.google.kOPI!==void 0&&window.google.kOPI!==0?window.google.kOPI:null};var m,n=[];function p(a){for(var b;a&&(!a.getAttribute||!(b=a.getAttribute(\"eid\")));)a=a.parentNode;return b||m}function q(a){for(var b=null;a&&(!a.getAttribute||!(b=a.getAttribute(\"leid\")));)a=a.parentNode;return b}function r(a){/^http:/i.test(a)&&window.location.protocol===\"https:\"&&(google.ml&&google.ml(Error(\"a\"),!1,{src:a,glmm:1}),a=\"\");return a}\n",
       "function t(a,b,c,d,k){var e=\"\";b.search(\"&ei=\")===-1&&(e=\"&ei=\"+p(d),b.search(\"&lei=\")===-1&&(d=q(d))&&(e+=\"&lei=\"+d));d=\"\";var g=b.search(\"&cshid=\")===-1&&a!==\"slh\",f=[];f.push([\"zx\",Date.now().toString()]);h._cshid&&g&&f.push([\"cshid\",h._cshid]);c=c();c!=null&&f.push([\"opi\",c.toString()]);for(c=0;c<f.length;c++){if(c===0||c>0)d+=\"&\";d+=f[c][0]+\"=\"+f[c][1]}return\"/\"+(k||\"gen_204\")+\"?atyp=i&ct=\"+String(a)+\"&cad=\"+(b+e+d)};m=google.kEI;google.getEI=p;google.getLEI=q;google.ml=function(){return null};google.log=function(a,b,c,d,k,e){e=e===void 0?l:e;c||(c=t(a,b,e,d,k));if(c=r(c)){a=new Image;var g=n.length;n[g]=a;a.onerror=a.onload=a.onabort=function(){delete n[g]};a.src=c}};google.logUrl=function(a,b){b=b===void 0?l:b;return t(\"\",a,b)};}).call(this);(function(){google.y={};google.sy=[];google.x=function(a,b){if(a)var c=a.id;else{do c=Math.random();while(google.y[c])}google.y[c]=[a,b];return!1};google.sx=function(a){google.sy.push(a)};google.lm=[];google.plm=function(a){google.lm.push.apply(google.lm,a)};google.lq=[];google.load=function(a,b,c){google.lq.push([[a],b,c])};google.loadAll=function(a,b){google.lq.push([a,b])};google.bx=!1;google.lx=function(){};var d=[];google.fce=function(a,b,c,e){d.push([a,b,c,e])};google.qce=d;}).call(this);google.f={};(function(){\n",
       "document.documentElement.addEventListener(\"submit\",function(b){var a;if(a=b.target){var c=a.getAttribute(\"data-submitfalse\");a=c===\"1\"||c===\"q\"&&!a.elements.q.value?!0:!1}else a=!1;a&&(b.preventDefault(),b.stopPropagation())},!0);document.documentElement.addEventListener(\"click\",function(b){var a;a:{for(a=b.target;a&&a!==document.documentElement;a=a.parentElement)if(a.tagName===\"A\"){a=a.getAttribute(\"data-nohref\")===\"1\";break a}a=!1}a&&b.preventDefault()},!0);}).call(this);</script><style>#gb{font:13px/27px Arial,sans-serif;height:30px}#gbz,#gbg{position:absolute;white-space:nowrap;top:0;height:30px;z-index:1000}#gbz{left:0;padding-left:4px}#gbg{right:0;padding-right:5px}#gbs{background:transparent;position:absolute;top:-999px;visibility:hidden;z-index:998;right:0}.gbto #gbs{background:#fff}#gbx3,#gbx4{background-color:#2d2d2d;background-image:none;_background-image:none;background-position:0 -138px;background-repeat:repeat-x;border-bottom:1px solid #000;font-size:24px;height:29px;_height:30px;opacity:1;filter:alpha(opacity=100);position:absolute;top:0;width:100%;z-index:990}#gbx3{left:0}#gbx4{right:0}#gbb{position:relative}#gbbw{left:0;position:absolute;top:30px;width:100%}.gbtcb{position:absolute;visibility:hidden}#gbz .gbtcb{right:0}#gbg .gbtcb{left:0}.gbxx{display:none !important}.gbxo{opacity:0 !important;filter:alpha(opacity=0) !important}.gbm{position:absolute;z-index:999;top:-999px;visibility:hidden;text-align:left;border:1px solid #bebebe;background:#fff;-moz-box-shadow:-1px 1px 1px rgba(0,0,0,.2);-webkit-box-shadow:0 2px 4px rgba(0,0,0,.2);box-shadow:0 2px 4px rgba(0,0,0,.2)}.gbrtl .gbm{-moz-box-shadow:1px 1px 1px rgba(0,0,0,.2)}.gbto .gbm,.gbto #gbs{top:29px;visibility:visible}#gbz .gbm{left:0}#gbg .gbm{right:0}.gbxms{background-color:#ccc;display:block;position:absolute;z-index:1;top:-1px;left:-2px;right:-2px;bottom:-2px;opacity:.4;-moz-border-radius:3px;filter:progid:DXImageTransform.Microsoft.Blur(pixelradius=5);*opacity:1;*top:-2px;*left:-5px;*right:5px;*bottom:4px;-ms-filter:\"progid:DXImageTransform.Microsoft.Blur(pixelradius=5)\";opacity:1\\0/;top:-4px\\0/;left:-6px\\0/;right:5px\\0/;bottom:4px\\0/}.gbma{position:relative;top:-1px;border-style:solid dashed dashed;border-color:transparent;border-top-color:#c0c0c0;display:-moz-inline-box;display:inline-block;font-size:0;height:0;line-height:0;width:0;border-width:3px 3px 0;padding-top:1px;left:4px}#gbztms1,#gbi4m1,#gbi4s,#gbi4t{zoom:1}.gbtc,.gbmc,.gbmcc{display:block;list-style:none;margin:0;padding:0}.gbmc{background:#fff;padding:10px 0;position:relative;z-index:2;zoom:1}.gbt{position:relative;display:-moz-inline-box;display:inline-block;line-height:27px;padding:0;vertical-align:top}.gbt{*display:inline}.gbto{box-shadow:0 2px 4px rgba(0,0,0,.2);-moz-box-shadow:0 2px 4px rgba(0,0,0,.2);-webkit-box-shadow:0 2px 4px rgba(0,0,0,.2)}.gbzt,.gbgt{cursor:pointer;display:block;text-decoration:none !important}span#gbg6,span#gbg4{cursor:default}.gbts{border-left:1px solid transparent;border-right:1px solid transparent;display:block;*display:inline-block;padding:0 5px;position:relative;z-index:1000}.gbts{*display:inline}.gbzt .gbts{display:inline;zoom:1}.gbto .gbts{background:#fff;border-color:#bebebe;color:#36c;padding-bottom:1px;padding-top:2px}.gbz0l .gbts{color:#fff;font-weight:bold}.gbtsa{padding-right:9px}#gbz .gbzt,#gbz .gbgt,#gbg .gbgt{color:#ccc!important}.gbtb2{display:block;border-top:2px solid transparent}.gbto .gbzt .gbtb2,.gbto .gbgt .gbtb2{border-top-width:0}.gbtb .gbts{background:url(https://ssl.gstatic.com/gb/images/b_8d5afc09.png);_background:url(https://ssl.gstatic.com/gb/images/b8_3615d64d.png);background-position:-27px -22px;border:0;font-size:0;padding:29px 0 0;*padding:27px 0 0;width:1px}.gbzt:hover,.gbzt:focus,.gbgt-hvr,.gbgt:focus{background-color:#4c4c4c;background-image:none;_background-image:none;background-position:0 -102px;background-repeat:repeat-x;outline:none;text-decoration:none !important}.gbpdjs .gbto .gbm{min-width:99%}.gbz0l .gbtb2{border-top-color:#dd4b39!important}#gbi4s,#gbi4s1{font-weight:bold}#gbg6.gbgt-hvr,#gbg6.gbgt:focus{background-color:transparent;background-image:none}.gbg4a{font-size:0;line-height:0}.gbg4a .gbts{padding:27px 5px 0;*padding:25px 5px 0}.gbto .gbg4a .gbts{padding:29px 5px 1px;*padding:27px 5px 1px}#gbi4i,#gbi4id{left:5px;border:0;height:24px;position:absolute;top:1px;width:24px}.gbto #gbi4i,.gbto #gbi4id{top:3px}.gbi4p{display:block;width:24px}#gbi4id{background-position:-44px -101px}#gbmpid{background-position:0 0}#gbmpi,#gbmpid{border:none;display:inline-block;height:48px;width:48px}#gbmpiw{display:inline-block;line-height:9px;padding-left:20px;margin-top:10px;position:relative}#gbmpi,#gbmpid,#gbmpiw{*display:inline}#gbg5{font-size:0}#gbgs5{padding:5px !important}.gbto #gbgs5{padding:7px 5px 6px !important}#gbi5{background:url(https://ssl.gstatic.com/gb/images/b_8d5afc09.png);_background:url(https://ssl.gstatic.com/gb/images/b8_3615d64d.png);background-position:0 0;display:block;font-size:0;height:17px;width:16px}.gbto #gbi5{background-position:-6px -22px}.gbn .gbmt,.gbn .gbmt:visited,.gbnd .gbmt,.gbnd .gbmt:visited{color:#dd8e27 !important}.gbf .gbmt,.gbf .gbmt:visited{color:#900 !important}.gbmt,.gbml1,.gbmlb,.gbmt:visited,.gbml1:visited,.gbmlb:visited{color:#36c !important;text-decoration:none !important}.gbmt,.gbmt:visited{display:block}.gbml1,.gbmlb,.gbml1:visited,.gbmlb:visited{display:inline-block;margin:0 10px}.gbml1,.gbmlb,.gbml1:visited,.gbmlb:visited{*display:inline}.gbml1,.gbml1:visited{padding:0 10px}.gbml1-hvr,.gbml1:focus{outline:none;text-decoration:underline !important}#gbpm .gbml1{display:inline;margin:0;padding:0;white-space:nowrap}.gbmlb,.gbmlb:visited{line-height:27px}.gbmlb-hvr,.gbmlb:focus{outline:none;text-decoration:underline !important}.gbmlbw{color:#ccc;margin:0 10px}.gbmt{padding:0 20px}.gbmt:hover,.gbmt:focus{background:#eee;cursor:pointer;outline:0 solid black;text-decoration:none !important}.gbm0l,.gbm0l:visited{color:#000 !important;font-weight:bold}.gbmh{border-top:1px solid #bebebe;font-size:0;margin:10px 0}#gbd4 .gbmc{background:#f5f5f5;padding-top:0}#gbd4 .gbsbic::-webkit-scrollbar-track:vertical{background-color:#f5f5f5;margin-top:2px}#gbmpdv{background:#fff;border-bottom:1px solid #bebebe;-moz-box-shadow:0 2px 4px rgba(0,0,0,.12);-o-box-shadow:0 2px 4px rgba(0,0,0,.12);-webkit-box-shadow:0 2px 4px rgba(0,0,0,.12);box-shadow:0 2px 4px rgba(0,0,0,.12);position:relative;z-index:1}#gbd4 .gbmh{margin:0}.gbmtc{padding:0;margin:0;line-height:27px}.GBMCC:last-child:after,#GBMPAL:last-child:after{content:'\\0A\\0A';white-space:pre;position:absolute}#gbmps{*zoom:1}#gbd4 .gbpc,#gbmpas .gbmt{line-height:17px}#gbd4 .gbpgs .gbmtc{line-height:27px}#gbd4 .gbmtc{border-bottom:1px solid #bebebe}#gbd4 .gbpc{display:inline-block;margin:16px 0 10px;padding-right:50px;vertical-align:top}#gbd4 .gbpc{*display:inline}.gbpc .gbps,.gbpc .gbps2{display:block;margin:0 20px}#gbmplp.gbps{margin:0 10px}.gbpc .gbps{color:#000;font-weight:bold}.gbpc .gbpd{margin-bottom:5px}.gbpd .gbmt,.gbpd .gbps{color:#666 !important}.gbpd .gbmt{opacity:.4;filter:alpha(opacity=40)}.gbps2{color:#666;display:block}.gbp0{display:none}.gbp0 .gbps2{font-weight:bold}#gbd4 .gbmcc{margin-top:5px}.gbpmc{background:#fef9db}.gbpmc .gbpmtc{padding:10px 20px}#gbpm{border:0;*border-collapse:collapse;border-spacing:0;margin:0;white-space:normal}#gbpm .gbpmtc{border-top:none;color:#000 !important;font:11px Arial,sans-serif}#gbpms{*white-space:nowrap}.gbpms2{font-weight:bold;white-space:nowrap}#gbmpal{*border-collapse:collapse;border-spacing:0;border:0;margin:0;white-space:nowrap;width:100%}.gbmpala,.gbmpalb{font:13px Arial,sans-serif;line-height:27px;padding:10px 20px 0;white-space:nowrap}.gbmpala{padding-left:0;text-align:left}.gbmpalb{padding-right:0;text-align:right}#gbmpasb .gbps{color:#000}#gbmpal .gbqfbb{margin:0 20px}.gbp0 .gbps{*display:inline}a.gbiba{margin:8px 20px 10px}.gbmpiaw{display:inline-block;padding-right:10px;margin-bottom:6px;margin-top:10px}.gbxv{visibility:hidden}.gbmpiaa{display:block;margin-top:10px}.gbmpia{border:none;display:block;height:48px;width:48px}.gbmpnw{display:inline-block;height:auto;margin:10px 0;vertical-align:top}\n",
       ".gbqfb,.gbqfba,.gbqfbb{-moz-border-radius:2px;-webkit-border-radius:2px;border-radius:2px;cursor:default !important;display:inline-block;font-weight:bold;height:29px;line-height:29px;min-width:54px;*min-width:70px;padding:0 8px;text-align:center;text-decoration:none !important;-moz-user-select:none;-webkit-user-select:none}.gbqfb:focus,.gbqfba:focus,.gbqfbb:focus{border:1px solid #4d90fe;-moz-box-shadow:inset 0 0 0 1px rgba(255, 255, 255, 0.5);-webkit-box-shadow:inset 0 0 0 1px rgba(255, 255, 255, 0.5);box-shadow:inset 0 0 0 1px rgba(255, 255, 255, 0.5);outline:none}.gbqfb-hvr:focus,.gbqfba-hvr:focus,.gbqfbb-hvr:focus{-webkit-box-shadow:inset 0 0 0 1px #fff,0 1px 1px rgba(0,0,0,.1);-moz-box-shadow:inset 0 0 0 1px #fff,0 1px 1px rgba(0,0,0,.1);box-shadow:inset 0 0 0 1px #fff,0 1px 1px rgba(0,0,0,.1)}.gbqfb-no-focus:focus{border:1px solid #3079ed;-moz-box-shadow:none;-webkit-box-shadow:none;box-shadow:none}.gbqfb-hvr,.gbqfba-hvr,.gbqfbb-hvr{-webkit-box-shadow:0 1px 1px rgba(0,0,0,.1);-moz-box-shadow:0 1px 1px rgba(0,0,0,.1);box-shadow:0 1px 1px rgba(0,0,0,.1)}.gbqfb::-moz-focus-inner,.gbqfba::-moz-focus-inner,.gbqfbb::-moz-focus-inner{border:0}.gbqfba,.gbqfbb{border:1px solid #dcdcdc;border-color:rgba(0,0,0,.1);color:#444 !important;font-size:11px}.gbqfb{background-color:#4d90fe;background-image:-webkit-gradient(linear,left top,left bottom,from(#4d90fe),to(#4787ed));background-image:-webkit-linear-gradient(top,#4d90fe,#4787ed);background-image:-moz-linear-gradient(top,#4d90fe,#4787ed);background-image:-ms-linear-gradient(top,#4d90fe,#4787ed);background-image:-o-linear-gradient(top,#4d90fe,#4787ed);background-image:linear-gradient(top,#4d90fe,#4787ed);filter:progid:DXImageTransform.Microsoft.gradient(startColorStr='#4d90fe',EndColorStr='#4787ed');border:1px solid #3079ed;color:#fff!important;margin:0 0}.gbqfb-hvr{border-color:#2f5bb7}.gbqfb-hvr:focus{border-color:#2f5bb7}.gbqfb-hvr,.gbqfb-hvr:focus{background-color:#357ae8;background-image:-webkit-gradient(linear,left top,left bottom,from(#4d90fe),to(#357ae8));background-image:-webkit-linear-gradient(top,#4d90fe,#357ae8);background-image:-moz-linear-gradient(top,#4d90fe,#357ae8);background-image:-ms-linear-gradient(top,#4d90fe,#357ae8);background-image:-o-linear-gradient(top,#4d90fe,#357ae8);background-image:linear-gradient(top,#4d90fe,#357ae8)}.gbqfb:active{background-color:inherit;-webkit-box-shadow:inset 0 1px 2px rgba(0, 0, 0, 0.3);-moz-box-shadow:inset 0 1px 2px rgba(0, 0, 0, 0.3);box-shadow:inset 0 1px 2px rgba(0, 0, 0, 0.3)}.gbqfba{background-color:#f5f5f5;background-image:-webkit-gradient(linear,left top,left bottom,from(#f5f5f5),to(#f1f1f1));background-image:-webkit-linear-gradient(top,#f5f5f5,#f1f1f1);background-image:-moz-linear-gradient(top,#f5f5f5,#f1f1f1);background-image:-ms-linear-gradient(top,#f5f5f5,#f1f1f1);background-image:-o-linear-gradient(top,#f5f5f5,#f1f1f1);background-image:linear-gradient(top,#f5f5f5,#f1f1f1);filter:progid:DXImageTransform.Microsoft.gradient(startColorStr='#f5f5f5',EndColorStr='#f1f1f1')}.gbqfba-hvr,.gbqfba-hvr:active{background-color:#f8f8f8;background-image:-webkit-gradient(linear,left top,left bottom,from(#f8f8f8),to(#f1f1f1));background-image:-webkit-linear-gradient(top,#f8f8f8,#f1f1f1);background-image:-moz-linear-gradient(top,#f8f8f8,#f1f1f1);background-image:-ms-linear-gradient(top,#f8f8f8,#f1f1f1);background-image:-o-linear-gradient(top,#f8f8f8,#f1f1f1);background-image:linear-gradient(top,#f8f8f8,#f1f1f1);filter:progid:DXImageTransform.Microsoft.gradient(startColorStr='#f8f8f8',EndColorStr='#f1f1f1')}.gbqfbb{background-color:#fff;background-image:-webkit-gradient(linear,left top,left bottom,from(#fff),to(#fbfbfb));background-image:-webkit-linear-gradient(top,#fff,#fbfbfb);background-image:-moz-linear-gradient(top,#fff,#fbfbfb);background-image:-ms-linear-gradient(top,#fff,#fbfbfb);background-image:-o-linear-gradient(top,#fff,#fbfbfb);background-image:linear-gradient(top,#fff,#fbfbfb);filter:progid:DXImageTransform.Microsoft.gradient(startColorStr='#ffffff',EndColorStr='#fbfbfb')}.gbqfbb-hvr,.gbqfbb-hvr:active{background-color:#fff;background-image:-webkit-gradient(linear,left top,left bottom,from(#fff),to(#f8f8f8));background-image:-webkit-linear-gradient(top,#fff,#f8f8f8);background-image:-moz-linear-gradient(top,#fff,#f8f8f8);background-image:-ms-linear-gradient(top,#fff,#f8f8f8);background-image:-o-linear-gradient(top,#fff,#f8f8f8);background-image:linear-gradient(top,#fff,#f8f8f8);filter:progid:DXImageTransform.Microsoft.gradient(startColorStr='#ffffff',EndColorStr='#f8f8f8')}.gbqfba-hvr,.gbqfba-hvr:active,.gbqfbb-hvr,.gbqfbb-hvr:active{border-color:#c6c6c6;-webkit-box-shadow:0 1px 1px rgba(0,0,0,.1);-moz-box-shadow:0 1px 1px rgba(0,0,0,.1);box-shadow:0 1px 1px rgba(0,0,0,.1);color:#222 !important}.gbqfba:active,.gbqfbb:active{-webkit-box-shadow:inset 0 1px 2px rgba(0,0,0,.1);-moz-box-shadow:inset 0 1px 2px rgba(0,0,0,.1);box-shadow:inset 0 1px 2px rgba(0,0,0,.1)}\n",
       "#gbmpas{max-height:220px}#gbmm{max-height:530px}.gbsb{-webkit-box-sizing:border-box;display:block;position:relative;*zoom:1}.gbsbic{overflow:auto}.gbsbis .gbsbt,.gbsbis .gbsbb{-webkit-mask-box-image:-webkit-gradient(linear,left top,right top,color-stop(0,rgba(0,0,0,.1)),color-stop(.5,rgba(0,0,0,.8)),color-stop(1,rgba(0,0,0,.1)));left:0;margin-right:0;opacity:0;position:absolute;width:100%}.gbsb .gbsbt:after,.gbsb .gbsbb:after{content:\"\";display:block;height:0;left:0;position:absolute;width:100%}.gbsbis .gbsbt{background:-webkit-gradient(linear,left top,left bottom,from(rgba(0,0,0,.2)),to(rgba(0,0,0,0)));background-image:-webkit-linear-gradient(top,rgba(0,0,0,.2),rgba(0,0,0,0));background-image:-moz-linear-gradient(top,rgba(0,0,0,.2),rgba(0,0,0,0));background-image:-ms-linear-gradient(top,rgba(0,0,0,.2),rgba(0,0,0,0));background-image:-o-linear-gradient(top,rgba(0,0,0,.2),rgba(0,0,0,0));background-image:linear-gradient(top,rgba(0,0,0,.2),rgba(0,0,0,0));height:6px;top:0}.gbsb .gbsbt:after{border-top:1px solid #ebebeb;border-color:rgba(0,0,0,.3);top:0}.gbsb .gbsbb{-webkit-mask-box-image:-webkit-gradient(linear,left top,right top,color-stop(0,rgba(0,0,0,.1)),color-stop(.5,rgba(0,0,0,.8)),color-stop(1,rgba(0,0,0,.1)));background:-webkit-gradient(linear,left bottom,left top,from(rgba(0,0,0,.2)),to(rgba(0,0,0,0)));background-image:-webkit-linear-gradient(bottom,rgba(0,0,0,.2),rgba(0,0,0,0));background-image:-moz-linear-gradient(bottom,rgba(0,0,0,.2),rgba(0,0,0,0));background-image:-ms-linear-gradient(bottom,rgba(0,0,0,.2),rgba(0,0,0,0));background-image:-o-linear-gradient(bottom,rgba(0,0,0,.2),rgba(0,0,0,0));background-image:linear-gradient(bottom,rgba(0,0,0,.2),rgba(0,0,0,0));bottom:0;height:4px}.gbsb .gbsbb:after{border-bottom:1px solid #ebebeb;border-color:rgba(0,0,0,.3);bottom:0}\n",
       "</style><style>body,td,a,p,.h{font-family:arial,sans-serif}body{margin:0;overflow-y:scroll}#gog{padding:3px 8px 0}td{line-height:.8em}.gac_m td{line-height:17px}form{margin-bottom:20px}.h{color:#1967d2}em{font-weight:bold;font-style:normal}.lst{height:25px;width:496px}.gsfi,.lst{font:18px arial,sans-serif}.gsfs{font:17px arial,sans-serif}.ds{display:inline-box;display:inline-block;margin:3px 0 4px;margin-left:4px}input{font-family:inherit}body{background:#fff;color:#000}a{color:#681da8;text-decoration:none}a:hover,a:active{text-decoration:underline}.fl a{color:#1967d2}a:visited{color:#681da8}.sblc{padding-top:5px}.sblc a{display:block;margin:2px 0;margin-left:13px;font-size:11px}.lsbb{background:#f8f9fa;border:solid 1px;border-color:#dadce0 #70757a #70757a #dadce0;height:30px}.lsbb{display:block}#WqQANb a{display:inline-block;margin:0 12px}.lsb{background:url(/images/nav_logo229.png) 0 -261px repeat-x;color:#000;border:none;cursor:pointer;height:30px;margin:0;outline:0;font:15px arial,sans-serif;vertical-align:top}.lsb:active{background:#dadce0}.lst:focus{outline:none}</style><script nonce=\"kqlvBJHCflREQSM_IbhCfQ\">(function(){window.google.erd={jsr:1,bv:2032,de:true};\n",
       "var h=this||self;var k,l=(k=h.mei)!=null?k:1,n,p=(n=h.sdo)!=null?n:!0,q=0,r,t=google.erd,v=t.jsr;google.ml=function(a,b,d,m,e){e=e===void 0?2:e;b&&(r=a&&a.message);d===void 0&&(d={});d.cad=\"ple_\"+google.ple+\".aple_\"+google.aple;if(google.dl)return google.dl(a,e,d,!0),null;b=d;if(v<0){window.console&&console.error(a,b);if(v===-2)throw a;b=!1}else b=!a||!a.message||a.message===\"Error loading script\"||q>=l&&!m?!1:!0;if(!b)return null;q++;d=d||{};b=encodeURIComponent;var c=\"/gen_204?atyp=i&ei=\"+b(google.kEI);google.kEXPI&&(c+=\"&jexpid=\"+b(google.kEXPI));c+=\"&srcpg=\"+b(google.sn)+\"&jsr=\"+b(t.jsr)+\n",
       "\"&bver=\"+b(t.bv);var f=a.lineNumber;f!==void 0&&(c+=\"&line=\"+f);var g=a.fileName;g&&(g.indexOf(\"-extension:/\")>0&&(e=3),c+=\"&script=\"+b(g),f&&g===window.location.href&&(f=document.documentElement.outerHTML.split(\"\\n\")[f],c+=\"&cad=\"+b(f?f.substring(0,300):\"No script found.\")));google.ple&&google.ple===1&&(e=2);c+=\"&jsel=\"+e;for(var u in d)c+=\"&\",c+=b(u),c+=\"=\",c+=b(d[u]);c=c+\"&emsg=\"+b(a.name+\": \"+a.message);c=c+\"&jsst=\"+b(a.stack||\"N/A\");c.length>=12288&&(c=c.substr(0,12288));a=c;m||google.log(0,\"\",a);return a};window.onerror=function(a,b,d,m,e){r!==a&&(a=e instanceof Error?e:Error(a),d===void 0||\"lineNumber\"in a||(a.lineNumber=d),b===void 0||\"fileName\"in a||(a.fileName=b),google.ml(a,!1,void 0,!1,a.name===\"SyntaxError\"||a.message.substring(0,11)===\"SyntaxError\"||a.message.indexOf(\"Script error\")!==-1?3:0));r=null;p&&q>=l&&(window.onerror=null)};})();(function(){try{/*\n",
       "\n",
       " Copyright The Closure Library Authors.\n",
       " SPDX-License-Identifier: Apache-2.0\n",
       "*/\n",
       "var e=this||self;var aa=function(a,b,c,d){d=d||{};d._sn=[\"cfg\",b,c].join(\".\");window.gbar.logger.ml(a,d)};var f=window.gbar=window.gbar||{},h=window.gbar.i=window.gbar.i||{},da;function _tvn(a,b){a=parseInt(a,10);return isNaN(a)?b:a}function _tvf(a,b){a=parseFloat(a);return isNaN(a)?b:a}function _tvv(a){return!!a}function n(a,b,c){(c||f)[a]=b}f.bv={n:_tvn(\"2\",0),r:\"\",f:\".66.\",e:\"\",m:_tvn(\"1\",1)};\n",
       "function ea(a,b,c){var d=\"on\"+b;if(a.addEventListener)a.addEventListener(b,c,!1);else if(a.attachEvent)a.attachEvent(d,c);else{var g=a[d];a[d]=function(){var k=g.apply(this,arguments),m=c.apply(this,arguments);return k==void 0?m:m==void 0?k:m&&k}}}var fa=function(a){return function(){return f.bv.m==a}},ha=fa(1),ia=fa(2);n(\"sb\",ha);n(\"kn\",ia);h.a=_tvv;h.b=_tvf;h.c=_tvn;h.i=aa;var q=window.gbar.i.i;var r=function(){},u=function(){},la=function(a){var b=new Image,c=ja;b.onerror=b.onload=b.onabort=function(){try{delete ka[c]}catch(d){}};ka[c]=b;b.src=a;ja=c+1},ka=[],ja=0;n(\"logger\",{il:u,ml:r,log:la});var v=window.gbar.logger;var w={},x={createScript:function(a){return a}};x=self.trustedTypes&&self.trustedTypes.createPolicy?self.trustedTypes.createPolicy(\"ogb#inline\",x):x;\n",
       "var ma={},y=[],na=h.b(\"0.1\",.1),oa=h.a(\"1\",!0),pa=function(a,b){y.push([a,b])},qa=function(a,b){w[a]=b},ra=function(a){return a in w},z={},A=function(a,b){z[a]||(z[a]=[]);z[a].push(b)},B=function(a){A(\"m\",a)},C=function(a,b){var c=document.createElement(\"script\");c.src=x.createScript(a);c.async=oa;Math.random()<na&&(c.onerror=function(){c.onerror=null;r(Error(\"Bundle load failed: name=\"+(b||\"UNK\")+\" url=\"+a))});(document.getElementById(\"xjsc\")||\n",
       "document.getElementsByTagName(\"body\")[0]||document.getElementsByTagName(\"head\")[0]).appendChild(c)},F=function(a){for(var b,c=0;(b=y[c])&&b[0]!=a;++c);!b||b[1].l||b[1].s||(b[1].s=!0,D(2,a),b[1].url&&C(b[1].url,a),b[1].libs&&E&&E(b[1].libs))},sa=function(a){A(\"gc\",a)},G=null,ta=function(a){G=a},D=function(a,b,c){if(G){a={t:a,b:b};if(c)for(var d in c)a[d]=c[d];try{G(a)}catch(g){}}};n(\"mdc\",w);n(\"mdi\",ma);n(\"bnc\",y);n(\"qGC\",sa);n(\"qm\",B);n(\"qd\",z);n(\"lb\",F);n(\"mcf\",qa);n(\"bcf\",pa);n(\"aq\",A);\n",
       "n(\"mdd\",\"\");n(\"has\",ra);n(\"trh\",ta);n(\"tev\",D);if(h.a(\"m;/_/scs/abc-static/_/js/k=gapi.gapi.en.iZZZ0XsR8bM.O/am=AAAQ/d=1/rs=AHpOoo_0-97nH_2IxP0suYF105-PdJv4zg/m=__features__\")){var H=function(a,b){return ua?a||b:b},I=h.a(\"1\"),va=h.a(\"\"),wa=h.a(\"\"),ua=h.a(\"\"),J=window.gapi=H(window.gapi,{}),K=function(a,b){var c=function(){f.dgl(a,b)};I?B(c):(A(\"gl\",c),F(\"gl\"))},xa={},ya=function(a){a=a.split(\":\");for(var b;(b=a.pop())&&xa[b];);return!b},E=function(a){function b(){for(var c=a.split(\":\"),d,g=0;d=c[g];++g)xa[d]=1;for(c=0;d=y[c];++c)d=d[1],(g=d.libs)&&!d.l&&d.i&&ya(g)&&\n",
       "d.i()}f.dgl(a,b)},L=window.___jsl=H(window.___jsl,{});L.h=H(L.h,\"m;/_/scs/abc-static/_/js/k=gapi.gapi.en.iZZZ0XsR8bM.O/am=AAAQ/d=1/rs=AHpOoo_0-97nH_2IxP0suYF105-PdJv4zg/m=__features__\");L.ms=H(L.ms,\"https://apis.google.com\");L.m=H(L.m,\"\");L.l=H(L.l,[]);L.dpo=H(L.dpo,\"\");I||y.push([\"gl\",{url:\"//ssl.gstatic.com/gb/js/abc/glm_e7bb39a7e1a24581ff4f8d199678b1b9.js\"}]);var za=\"gl\",Aa={pu:va,sh:\"\",si:wa,hl:\"nl\"};w[za]=Aa;ua?J.load||n(\"load\",K,J):n(\"load\",K,J);n(\"dgl\",K);n(\"agl\",ya);h.o=I};var Ba=h.b(\"0.1\",.001),Ca=0;\n",
       "function _mlToken(a,b){try{if(Ca<1){Ca++;var c=a;b=b||{};var d=encodeURIComponent,g=[\"//www.google.com/gen_204?atyp=i&zx=\",(new Date).getTime(),\"&jexpid=\",d(\"28834\"),\"&srcpg=\",d(\"prop=1\"),\"&jsr=\",Math.round(1/Ba),\"&ogev=\",d(\"Rm58ZpiSJKiji-gPgIWV0A0\"),\"&ogf=\",f.bv.f,\"&ogrp=\",d(\"\"),\"&ogv=\",d(\"645933554.0\"),\"&oggv=\"+d(\"es_plusone_gc_20240606.0_p0\"),\"&ogd=\",d(\"com\"),\"&ogc=\",d(\"NLD\"),\"&ogl=\",d(\"nl\")];b._sn&&(b._sn=\n",
       "\"og.\"+b._sn);for(var k in b)g.push(\"&\"),g.push(d(k)),g.push(\"=\"),g.push(d(b[k]));g.push(\"&emsg=\");g.push(d(c.name+\":\"+c.message));var m=g.join(\"\");Ga(m)&&(m=m.substr(0,2E3));var p=m;var l=window.gbar.logger._aem(a,p);la(l)}}catch(t){}}var Ga=function(a){return a.length>=2E3},Ja=function(a,b){return b};function Ka(a){r=a;n(\"_itl\",Ga,v);n(\"_aem\",Ja,v);n(\"ml\",r,v);a=\"er\";var b={};w[a]=b}h.a(\"\")?Ka(function(a){throw a;}):h.a(\"1\")&&Math.random()<Ba&&Ka(_mlToken);var _E=\"left\",La=h.a(\"\"),Ma=h.a(\"\"),N=function(a,b){var c=a.className;M(a,b)||(a.className+=(c!=\"\"?\" \":\"\")+b)},O=function(a,b){var c=a.className;b=new RegExp(\"\\\\s?\\\\b\"+b+\"\\\\b\");c&&c.match(b)&&(a.className=c.replace(b,\"\"))},M=function(a,b){b=new RegExp(\"\\\\b\"+b+\"\\\\b\");a=a.className;return!(!a||!a.match(b))},Na=function(a,b){M(a,b)?O(a,b):N(a,b)},Oa=function(a,b){a[b]=function(c){var d=arguments;f.qm(function(){a[b].apply(this,d)})}},Pa=function(a){a=\n",
       "[Ma?\"\":\"https://www.gstatic.com\",\"/og/_/js/d=1/k=\",\"og.og.en_US.34pmVG-ILl4.es5.O\",\"/rt=j/m=\",a,\"/rs=\",\"AA2YrTvaEUmbo0AMKpdDwsytpblPJ6qTbQ\"];La&&a.push(\"?host=www.gstatic.com&bust=og.og.en_US.QUuO-SanzrM.es5.DU\");a=a.join(\"\");C(a)};n(\"ca\",N);n(\"cr\",O);n(\"cc\",M);h.k=N;h.l=O;h.m=M;h.n=Na;h.p=Pa;h.q=Oa;var Qa=[\"gb_71\",\"gb_155\"],Ra;function Sa(a){Ra=a}function Ta(a){var b=Ra&&!a.href.match(/.*\\/accounts\\/ClearSID[?]/)&&encodeURIComponent(Ra());b&&(a.href=a.href.replace(/([?&]continue=)[^&]*/,\"$1\"+b))}function Ua(a){window.gApplication&&(a.href=window.gApplication.getTabUrl(a.href))}function Va(a){try{var b=(document.forms[0].q||\"\").value;b&&(a.href=a.href.replace(/([?&])q=[^&]*|$/,function(c,d){return(d||\"&\")+\"q=\"+encodeURIComponent(b)}))}catch(c){q(c,\"sb\",\"pq\")}}\n",
       "var Wa=function(){for(var a=[],b,c=0;b=Qa[c];++c)(b=document.getElementById(b))&&a.push(b);return a},Xa=function(){var a=Wa();return a.length>0?a[0]:null},Ya=function(){return document.getElementById(\"gb_70\")},P={},Q={},Za={},R={},S=void 0,db=function(a,b){try{var c=document.getElementById(\"gb\");N(c,\"gbpdjs\");T();$a(document.getElementById(\"gb\"))&&N(c,\"gbrtl\");if(b&&b.getAttribute){var d=b.getAttribute(\"aria-owns\");if(d.length){var g=document.getElementById(d);if(g){var k=b.parentNode;if(S==d)S=void 0,\n",
       "O(k,\"gbto\");else{if(S){var m=document.getElementById(S);if(m&&m.getAttribute){var p=m.getAttribute(\"aria-owner\");if(p.length){var l=document.getElementById(p);l&&l.parentNode&&O(l.parentNode,\"gbto\")}}}ab(g)&&bb(g);S=d;N(k,\"gbto\")}}}}B(function(){f.tg(a,b,!0)});cb(a)}catch(t){q(t,\"sb\",\"tg\")}},eb=function(a){B(function(){f.close(a)})},fb=function(a){B(function(){f.rdd(a)})},$a=function(a){var b,c=document.defaultView;c&&c.getComputedStyle?(a=c.getComputedStyle(a,\"\"))&&(b=a.direction):b=a.currentStyle?\n",
       "a.currentStyle.direction:a.style.direction;return b==\"rtl\"},hb=function(a,b,c){if(a)try{var d=document.getElementById(\"gbd5\");if(d){var g=d.firstChild,k=g.firstChild,m=document.createElement(\"li\");m.className=b+\" gbmtc\";m.id=c;a.className=\"gbmt\";m.appendChild(a);if(k.hasChildNodes()){c=[[\"gbkc\"],[\"gbf\",\"gbe\",\"gbn\"],[\"gbkp\"],[\"gbnd\"]];d=0;var p=k.childNodes.length;g=!1;for(var l=-1,t,Da=0;t=c[Da];Da++){for(var ba=void 0,Ea=0;ba=t[Ea];Ea++){for(;d<p&&M(k.childNodes[d],ba);)d++;if(ba==b){k.insertBefore(m,\n",
       "k.childNodes[d]||null);g=!0;break}}if(g){if(d+1<k.childNodes.length){var Fa=k.childNodes[d+1];M(Fa.firstChild,\"gbmh\")||gb(Fa,t)||(l=d+1)}else if(d-1>=0){var Ha=k.childNodes[d-1];M(Ha.firstChild,\"gbmh\")||gb(Ha,t)||(l=d)}break}d>0&&d+1<p&&d++}if(l>=0){var ca=document.createElement(\"li\"),Ia=document.createElement(\"div\");ca.className=\"gbmtc\";Ia.className=\"gbmt gbmh\";ca.appendChild(Ia);k.insertBefore(ca,k.childNodes[l])}f.addHover&&f.addHover(a)}else k.appendChild(m)}}catch(vb){q(vb,\"sb\",\"al\")}},gb=function(a,\n",
       "b){for(var c=b.length,d=0;d<c;d++)if(M(a,b[d]))return!0;return!1},ib=function(a,b,c){hb(a,b,c)},jb=function(a,b){hb(a,\"gbe\",b)},kb=function(){B(function(){f.pcm&&f.pcm()})},lb=function(){B(function(){f.pca&&f.pca()})},mb=function(a,b,c,d,g,k,m,p,l,t){B(function(){f.paa&&f.paa(a,b,c,d,g,k,m,p,l,t)})},nb=function(a,b){P[a]||(P[a]=[]);P[a].push(b)},ob=function(a,b){Q[a]||(Q[a]=[]);Q[a].push(b)},pb=function(a,b){Za[a]=b},qb=function(a,b){R[a]||(R[a]=[]);R[a].push(b)},cb=function(a){a.preventDefault&&\n",
       "a.preventDefault();a.returnValue=!1;a.cancelBubble=!0},rb=null,bb=function(a,b){T();if(a){sb(a,\"Openen&hellip;\");U(a,!0);b=typeof b!=\"undefined\"?b:1E4;var c=function(){tb(a)};rb=window.setTimeout(c,b)}},ub=function(a){T();a&&(U(a,!1),sb(a,\"\"))},tb=function(a){try{T();var b=a||document.getElementById(S);b&&(sb(b,\"Deze service is momenteel niet beschikbaar.%1$sProbeer het later opnieuw.\",\"%1$s\"),U(b,!0))}catch(c){q(c,\"sb\",\"sdhe\")}},sb=function(a,b,c){if(a&&b){var d=ab(a);if(d){if(c){d.textContent=\"\";b=b.split(c);for(var g=0;c=\n",
       "b[g];g++){var k=document.createElement(\"div\");k.innerHTML=c;d.appendChild(k)}}else d.innerHTML=b;U(a,!0)}}},U=function(a,b){(b=b!==void 0?b:!0)?N(a,\"gbmsgo\"):O(a,\"gbmsgo\")},ab=function(a){for(var b,c=0;b=a.childNodes[c];c++)if(M(b,\"gbmsg\"))return b},T=function(){rb&&window.clearTimeout(rb)},wb=function(a){var b=\"inner\"+a;a=\"offset\"+a;return window[b]?window[b]:document.documentElement&&document.documentElement[a]?document.documentElement[a]:0},xb=function(){return!1},yb=function(){return!!S};\n",
       "n(\"so\",Xa);n(\"sos\",Wa);n(\"si\",Ya);n(\"tg\",db);n(\"close\",eb);n(\"rdd\",fb);n(\"addLink\",ib);n(\"addExtraLink\",jb);n(\"pcm\",kb);n(\"pca\",lb);n(\"paa\",mb);n(\"ddld\",bb);n(\"ddrd\",ub);n(\"dderr\",tb);n(\"rtl\",$a);n(\"op\",yb);n(\"bh\",P);n(\"abh\",nb);n(\"dh\",Q);n(\"adh\",ob);n(\"ch\",R);n(\"ach\",qb);n(\"eh\",Za);n(\"aeh\",pb);da=h.a(\"\")?Ua:Va;n(\"qs\",da);n(\"setContinueCb\",Sa);n(\"pc\",Ta);n(\"bsy\",xb);h.d=cb;h.j=wb;var zb=\"base\",Ab={};w[zb]=Ab;y.push([\"m\",{url:\"//ssl.gstatic.com/gb/js/sem_45f00f6418a8f33e9c27cc3da4175ec8.js\"}]);f.sg={c:\"1\"};n(\"wg\",{rg:{}});var Bb=\"wg\",Cb={tiw:h.c(\"15000\",0),tie:h.c(\"30000\",0)};w[Bb]=Cb;var Db=\"wm\",Eb={thi:h.c(\"10000\",0),thp:h.c(\"180000\",0),tho:h.c(\"5000\",0),tet:h.b(\"0.5\",0)};w[Db]=Eb;if(h.a(\"1\")){var Fb=h.a(\"\");y.push([\"gc\",{auto:Fb,url:\"//ssl.gstatic.com/gb/js/abc/gci_91f30755d6a6b787dcc2a4062e6e9824.js\",libs:\"googleapis.client:gapi.iframes\"}]);var Gb=\"gc\",Hb={version:\"gci_91f30755d6a6b787dcc2a4062e6e9824.js\",index:\"\",lang:\"nl\"};w[Gb]=Hb;var Ib=function(a){window.googleapis&&window.iframes?a&&a():(a&&sa(a),F(\"gc\"))};n(\"lGC\",Ib);h.a(\"1\")&&n(\"lPWF\",Ib)};window.__PVT=\"\";function Jb(){}u=Jb;n(\"il\",u,v);var Kb=\"il\",Lb={};w[Kb]=Lb;var Mb=function(a,b,c,d,g,k,m,p,l,t){B(function(){f.paa(a,b,c,d,g,k,m,p,l,t)})},Nb=function(){B(function(){f.prm()})},Ob=function(a){B(function(){f.spn(a)})},Pb=function(a){B(function(){f.sps(a)})},Qb=function(a){B(function(){f.spp(a)})},Rb={\"27\":\"https://lh3.googleusercontent.com/ogw/default-user=s24\",\"27\":\"https://lh3.googleusercontent.com/ogw/default-user=s24\",\"27\":\"https://lh3.googleusercontent.com/ogw/default-user=s24\"},Sb=function(a){return(a=Rb[a])||\"https://lh3.googleusercontent.com/ogw/default-user=s24\"},\n",
       "Tb=function(){B(function(){f.spd()})};n(\"spn\",Ob);n(\"spp\",Qb);n(\"sps\",Pb);n(\"spd\",Tb);n(\"paa\",Mb);n(\"prm\",Nb);nb(\"gbd4\",Nb);\n",
       "if(h.a(\"\")){var Ub=\"prf\",Vb={d:h.a(\"\"),e:\"\",sanw:h.a(\"\"),p:\"https://lh3.googleusercontent.com/ogw/default-user=s96\",cp:\"1\",xp:h.a(\"1\"),mg:\"%1$s (gedelegeerd)\",md:\"%1$s (standaard)\",mh:\"220\",s:\"1\",pp:Sb,ppl:h.a(\"\"),ppa:h.a(\"\"),\n",
       "ppm:\"Google+-pagina\"};w[Ub]=Vb};var V,Wb,W,Xb,X=0,Yb=function(a,b,c){if(a.indexOf)return a.indexOf(b,c);if(Array.indexOf)return Array.indexOf(a,b,c);for(c=c==null?0:c<0?Math.max(0,a.length+c):c;c<a.length;c++)if(c in a&&a[c]===b)return c;return-1},Y=function(a,b){return Yb(a,X)==-1?(q(Error(X+\"_\"+b),\"up\",\"caa\"),!1):!0},$b=function(a,b){Y([1,2],\"r\")&&(V[a]=V[a]||[],V[a].push(b),X==2&&window.setTimeout(function(){b(Zb(a))},0))},ac=function(a,b,c){if(Y([1],\"nap\")&&c){for(var d=0;d<c.length;d++)Wb[c[d]]=!0;f.up.spl(a,b,\"nap\",c)}},bc=\n",
       "function(a,b,c){if(Y([1],\"aop\")&&c){if(W)for(var d in W)W[d]=W[d]&&Yb(c,d)!=-1;else for(W={},d=0;d<c.length;d++)W[c[d]]=!0;f.up.spl(a,b,\"aop\",c)}},cc=function(){try{if(X=2,!Xb){Xb=!0;for(var a in V)for(var b=V[a],c=0;c<b.length;c++)try{b[c](Zb(a))}catch(d){q(d,\"up\",\"tp\")}}}catch(d){q(d,\"up\",\"mtp\")}},Zb=function(a){if(Y([2],\"ssp\")){var b=!Wb[a];W&&(b=b&&!!W[a]);return b}};Xb=!1;V={};Wb={};W=null;X=1;\n",
       "var dc=function(a){var b=!1;try{b=a.cookie&&a.cookie.match(\"PREF\")}catch(c){}return!b},ec=function(){try{return!!e.localStorage&&typeof e.localStorage==\"object\"}catch(a){return!1}},fc=function(a){return a&&a.style&&a.style.behavior&&typeof a.load!=\"undefined\"},gc=function(a,b,c,d){try{dc(document)||(d||(b=\"og-up-\"+b),ec()?e.localStorage.setItem(b,c):fc(a)&&(a.setAttribute(b,c),a.save(a.id)))}catch(g){g.code!=DOMException.QUOTA_EXCEEDED_ERR&&q(g,\"up\",\"spd\")}},hc=function(a,b,c){try{if(dc(document))return\"\";\n",
       "c||(b=\"og-up-\"+b);if(ec())return e.localStorage.getItem(b);if(fc(a))return a.load(a.id),a.getAttribute(b)}catch(d){d.code!=DOMException.QUOTA_EXCEEDED_ERR&&q(d,\"up\",\"gpd\")}return\"\"},ic=function(a,b,c){a.addEventListener?a.addEventListener(b,c,!1):a.attachEvent&&a.attachEvent(\"on\"+b,c)},jc=function(a){for(var b,c=0;b=a[c];c++){var d=f.up;b=b in d&&d[b];if(!b)return!1}return!0},kc=function(a,b){try{if(dc(a))return-1;var c=a.cookie.match(/OGPC=([^;]*)/);if(c&&c[1]){var d=c[1].match(new RegExp(\"\\\\b\"+\n",
       "b+\"-([0-9]+):\"));if(d&&d[1])return parseInt(d[1],10)}}catch(g){g.code!=DOMException.QUOTA_EXCEEDED_ERR&&q(g,\"up\",\"gcc\")}return-1};n(\"up\",{r:$b,nap:ac,aop:bc,tp:cc,ssp:Zb,spd:gc,gpd:hc,aeh:ic,aal:jc,gcc:kc});var Z=function(a,b){a[b]=function(c){var d=arguments;f.qm(function(){a[b].apply(this,d)})}};Z(f.up,\"sl\");Z(f.up,\"si\");Z(f.up,\"spl\");Z(f.up,\"dpc\");Z(f.up,\"iic\");f.mcf(\"up\",{sp:h.b(\"0.01\",1),tld:\"nl\",prid:\"1\"});function lc(){function a(){for(var l;(l=k[m++])&&l[0]!=\"m\"&&!l[1].auto;);l&&(D(2,l[0]),l[1].url&&C(l[1].url,l[0]),l[1].libs&&E&&E(l[1].libs));m<k.length&&setTimeout(a,0)}function b(){g-- >0?setTimeout(b,0):a()}var c=h.a(\"1\"),d=h.a(\"\"),g=3,k=y,m=0,p=window.gbarOnReady;if(p)try{p()}catch(l){q(l,\"ml\",\"or\")}d?n(\"ldb\",a):c?ea(window,\"load\",b):b()}n(\"rdl\",lc);}catch(e){window.gbar&&gbar.logger&&gbar.logger.ml(e,{\"_sn\":\"cfg.init\"});}})();\n",
       "(function(){try{var b=window.gbar.i.i;var c=window.gbar;var f=function(d){try{var a=document.getElementById(\"gbom\");a&&d.appendChild(a.cloneNode(!0))}catch(e){b(e,\"omas\",\"aomc\")}};c.aomc=f;}catch(e){window.gbar&&gbar.logger&&gbar.logger.ml(e,{\"_sn\":\"cfg.init\"});}})();\n",
       "(function(){try{var a=window.gbar;a.mcf(\"pm\",{p:\"\"});}catch(e){window.gbar&&gbar.logger&&gbar.logger.ml(e,{\"_sn\":\"cfg.init\"});}})();\n",
       "(function(){try{var a=window.gbar;a.mcf(\"mm\",{s:\"1\"});}catch(e){window.gbar&&gbar.logger&&gbar.logger.ml(e,{\"_sn\":\"cfg.init\"});}})();\n",
       "(function(){try{var d=window.gbar.i.i;var e=window.gbar;var f=e.i;var g=f.c(\"1\",0),h=/\\bgbmt\\b/,k=function(a){try{var b=document.getElementById(\"gb_\"+g),c=document.getElementById(\"gb_\"+a);b&&f.l(b,h.test(b.className)?\"gbm0l\":\"gbz0l\");c&&f.k(c,h.test(c.className)?\"gbm0l\":\"gbz0l\")}catch(l){d(l,\"sj\",\"ssp\")}g=a},m=e.qs,n=function(a){var b=a.href;var c=window.location.href.match(/.*?:\\/\\/[^\\/]*/)[0];c=new RegExp(\"^\"+c+\"/search\\\\?\");(b=c.test(b))&&!/(^|\\\\?|&)ei=/.test(a.href)&&(b=window.google)&&b.kEXPI&&(a.href+=\"&ei=\"+b.kEI)},p=function(a){m(a);\n",
       "n(a)},q=function(){if(window.google&&window.google.sn){var a=/.*hp$/;return a.test(window.google.sn)?\"\":\"1\"}return\"-1\"};e.rp=q;e.slp=k;e.qs=p;e.qsi=n;}catch(e){window.gbar&&gbar.logger&&gbar.logger.ml(e,{\"_sn\":\"cfg.init\"});}})();\n",
       "(function(){try{/*\n",
       "\n",
       " Copyright The Closure Library Authors.\n",
       " SPDX-License-Identifier: Apache-2.0\n",
       "*/\n",
       "var a=this||self;var b=window.gbar;var c=b.i;var d=c.a,e=c.c,f={cty:\"NLD\",cv:\"645933554\",dbg:d(\"\"),ecv:\"0\",ei:e(\"Rm58ZpiSJKiji-gPgIWV0A0\"),ele:d(\"1\"),esr:e(\"0.1\"),evts:[\"mousedown\",\"touchstart\",\"touchmove\",\"wheel\",\"keydown\"],gbl:\"es_plusone_gc_20240606.0_p0\",hd:\"com\",hl:\"nl\",irp:d(\"\"),pid:e(\"1\"),\n",
       "snid:e(\"28834\"),to:e(\"300000\"),u:e(\"\"),vf:\".66.\"},g=\"bndcfg\",h=f,k=g.split(\".\"),l=a;k[0]in l||typeof l.execScript==\"undefined\"||l.execScript(\"var \"+k[0]);for(var m;k.length&&(m=k.shift());)k.length||h===void 0?l=l[m]&&l[m]!==Object.prototype[m]?l[m]:l[m]={}:l[m]=h;}catch(e){window.gbar&&gbar.logger&&gbar.logger.ml(e,{\"_sn\":\"cfg.init\"});}})();\n",
       "(function(){try{window.gbar.rdl();}catch(e){window.gbar&&gbar.logger&&gbar.logger.ml(e,{\"_sn\":\"cfg.init\"});}})();\n",
       "</script></head><body bgcolor=\"#fff\"><script nonce=\"kqlvBJHCflREQSM_IbhCfQ\">(function(){var src='/images/nav_logo229.png';var iesg=false;document.body.onload = function(){window.n && window.n();if (document.images){new Image().src=src;}\n",
       "if (!iesg){document.f&&document.f.q.focus();document.gbqf&&document.gbqf.q.focus();}\n",
       "}\n",
       "})();</script><div id=\"mngb\"><div id=gb><script nonce='kqlvBJHCflREQSM_IbhCfQ'>window.gbar&&gbar.eli&&gbar.eli()</script><div id=gbw><div id=gbz><span class=gbtcb></span><ol id=gbzc class=gbtc><li class=gbt><a class=\"gbzt gbz0l gbp1\" id=gb_1 href=\"https://www.google.nl/webhp?tab=ww\"><span class=gbtb2></span><span class=gbts>Zoeken</span></a></li><li class=gbt><a class=gbzt id=gb_2 href=\"https://www.google.com/imghp?hl=nl&tab=wi\"><span class=gbtb2></span><span class=gbts>Afbeeldingen</span></a></li><li class=gbt><a class=gbzt id=gb_8 href=\"https://maps.google.nl/maps?hl=nl&tab=wl\"><span class=gbtb2></span><span class=gbts>Maps</span></a></li><li class=gbt><a class=gbzt id=gb_78 href=\"https://play.google.com/?hl=nl&tab=w8\"><span class=gbtb2></span><span class=gbts>Play</span></a></li><li class=gbt><a class=gbzt id=gb_36 href=\"https://www.youtube.com/?tab=w1\"><span class=gbtb2></span><span class=gbts>YouTube</span></a></li><li class=gbt><a class=gbzt id=gb_426 href=\"https://news.google.com/?tab=wn\"><span class=gbtb2></span><span class=gbts>Nieuws</span></a></li><li class=gbt><a class=gbzt id=gb_23 href=\"https://mail.google.com/mail/?tab=wm\"><span class=gbtb2></span><span class=gbts>Gmail</span></a></li><li class=gbt><a class=gbzt id=gb_49 href=\"https://drive.google.com/?tab=wo\"><span class=gbtb2></span><span class=gbts>Drive</span></a></li><li class=gbt><a class=gbgt id=gbztm href=\"https://www.google.nl/intl/nl/about/products?tab=wh\"  aria-haspopup=true aria-owns=gbd><span class=gbtb2></span><span id=gbztms class=\"gbts gbtsa\"><span id=gbztms1>Meer</span><span class=gbma></span></span></a><script nonce='kqlvBJHCflREQSM_IbhCfQ'>document.getElementById('gbztm').addEventListener('click', function clickHandler() { gbar.tg(event,this); });</script><div class=gbm id=gbd aria-owner=gbztm><div id=gbmmb class=\"gbmc gbsb gbsbis\"><ol id=gbmm class=\"gbmcc gbsbic\"><li class=gbmtc><a class=gbmt id=gb_24 href=\"https://calendar.google.com/calendar?tab=wc\">Agenda</a></li><li class=gbmtc><a class=gbmt id=gb_51 href=\"https://translate.google.nl/?hl=nl&tab=wT\">Vertalen</a></li><li class=gbmtc><a class=gbmt id=gb_10 href=\"https://books.google.nl/?hl=nl&tab=wp\">Boeken</a></li><li class=gbmtc><a class=gbmt id=gb_6 href=\"https://www.google.nl/shopping?hl=nl&source=og&tab=wf\">Shopping</a></li><li class=gbmtc><a class=gbmt id=gb_30 href=\"https://www.blogger.com/?tab=wj\">Blogger</a></li><li class=gbmtc><a class=gbmt id=gb_27 href=\"https://www.google.com/finance?tab=we\">Financiën</a></li><li class=gbmtc><a class=gbmt id=gb_31 href=\"https://photos.google.com/?tab=wq&pageId=none\">Foto's</a></li><li class=gbmtc><a class=gbmt id=gb_25 href=\"https://docs.google.com/document/?usp=docs_alc\">Documenten</a></li><li class=gbmtc><div class=\"gbmt gbmh\"></div></li><li class=gbmtc><a  href=\"https://www.google.nl/intl/nl/about/products?tab=wh\" class=gbmt>Nog meer &raquo;</a><script nonce='kqlvBJHCflREQSM_IbhCfQ'>document.querySelector('li > a.gbmt').addEventListener('click', function clickHandler() { gbar.logger.il(1,{t:66});; });</script></li></ol><div class=gbsbt></div><div class=gbsbb></div></div></div></li></ol></div><div id=gbg><h2 class=gbxx>Account Options</h2><span class=gbtcb></span><ol class=gbtc><li class=gbt><a target=_top href=\"https://accounts.google.com/ServiceLogin?hl=nl&passive=true&continue=https://www.google.com/&ec=GAZAAQ\" onclick=\"gbar.logger.il(9,{l:'i'})\" id=gb_70 class=gbgt><span class=gbtb2></span><span id=gbgs4 class=gbts><span id=gbi4s1>Inloggen</span></span></a></li><li class=\"gbt gbtb\"><span class=gbts></span></li><li class=gbt><a class=gbgt id=gbg5 href=\"http://www.google.nl/preferences?hl=nl\" title=\"Opties\" aria-haspopup=true aria-owns=gbd5><span class=gbtb2></span><span id=gbgs5 class=gbts><span id=gbi5></span></span></a><script nonce='kqlvBJHCflREQSM_IbhCfQ'>document.getElementById('gbg5').addEventListener('click', function clickHandler() { gbar.tg(event,this); });</script><div class=gbm id=gbd5 aria-owner=gbg5><div class=gbmc><ol id=gbom class=gbmcc><li class=\"gbkc gbmtc\"><a  class=gbmt href=\"/preferences?hl=nl\">Zoekinstellingen</a></li><li class=gbmtc><div class=\"gbmt gbmh\"></div></li><li class=\"gbkp gbmtc\"><a class=gbmt href=\"http://www.google.nl/history/optout?hl=nl\">Webgeschiedenis</a></li></ol></div></div></li></ol></div></div><div id=gbx3></div><div id=gbx4></div><script nonce='kqlvBJHCflREQSM_IbhCfQ'>window.gbar&&gbar.elp&&gbar.elp()</script></div></div><center><br clear=\"all\" id=\"lgpd\"><div id=\"lga\"><img alt=\"Google\" height=\"92\" src=\"/images/branding/googlelogo/1x/googlelogo_white_background_color_272x92dp.png\" style=\"padding:28px 0 14px\" width=\"272\" id=\"hplogo\"><br><br></div><form action=\"/search\" name=\"f\"><table cellpadding=\"0\" cellspacing=\"0\"><tr valign=\"top\"><td width=\"25%\">&nbsp;</td><td align=\"center\" nowrap=\"\"><input name=\"ie\" value=\"ISO-8859-1\" type=\"hidden\"><input value=\"nl\" name=\"hl\" type=\"hidden\"><input name=\"source\" type=\"hidden\" value=\"hp\"><input name=\"biw\" type=\"hidden\"><input name=\"bih\" type=\"hidden\"><div class=\"ds\" style=\"height:32px;margin:4px 0\"><input class=\"lst\" style=\"margin:0;padding:5px 8px 0 6px;vertical-align:top;color:#000\" autocomplete=\"off\" value=\"\" title=\"Google Zoeken\" maxlength=\"2048\" name=\"q\" size=\"57\"></div><br style=\"line-height:0\"><span class=\"ds\"><span class=\"lsbb\"><input class=\"lsb\" value=\"Google Zoeken\" name=\"btnG\" type=\"submit\"></span></span><span class=\"ds\"><span class=\"lsbb\"><input class=\"lsb\" id=\"tsuid_1\" value=\"Ik doe een gok\" name=\"btnI\" type=\"submit\"><script nonce=\"kqlvBJHCflREQSM_IbhCfQ\">(function(){var id='tsuid_1';document.getElementById(id).onclick = function(){if (this.form.q.value){this.checked = 1;if (this.form.iflsig)this.form.iflsig.disabled = false;}\n",
       "else top.location='/doodles/';};})();</script><input value=\"AL9hbdgAAAAAZnx8VjIAaddgZpvkRK1_GyFW0JL8AagQ\" name=\"iflsig\" type=\"hidden\"></span></span></td><td class=\"fl sblc\" align=\"left\" nowrap=\"\" width=\"25%\"><a href=\"/advanced_search?hl=nl&amp;authuser=0\">Geavanceerd zoeken</a></td></tr></table><input id=\"gbv\" name=\"gbv\" type=\"hidden\" value=\"1\"><script nonce=\"kqlvBJHCflREQSM_IbhCfQ\">(function(){var a,b=\"1\";if(document&&document.getElementById)if(typeof XMLHttpRequest!=\"undefined\")b=\"2\";else if(typeof ActiveXObject!=\"undefined\"){var c,d,e=[\"MSXML2.XMLHTTP.6.0\",\"MSXML2.XMLHTTP.3.0\",\"MSXML2.XMLHTTP\",\"Microsoft.XMLHTTP\"];for(c=0;d=e[c++];)try{new ActiveXObject(d),b=\"2\"}catch(h){}}a=b;if(a==\"2\"&&location.search.indexOf(\"&gbv=2\")==-1){var f=google.gbvu,g=document.getElementById(\"gbv\");g&&(g.value=a);f&&window.setTimeout(function(){location.href=f},0)};}).call(this);</script></form><div id=\"gac_scont\"></div><div style=\"font-size:83%;min-height:3.5em\"><br><div id=\"gws-output-pages-elements-homepage_additional_languages__als\"><style>#gws-output-pages-elements-homepage_additional_languages__als{font-size:small;margin-bottom:24px}#SIvCob{color:#474747;display:inline-block;line-height:28px;}#SIvCob a{padding:0 3px;}.H6sW5{display:inline-block;margin:0 2px;white-space:nowrap}.z4hgWe{display:inline-block;margin:0 2px}</style><div id=\"SIvCob\">Google aangeboden in:  <a href=\"https://www.google.com/setprefs?sig=0_rkKtehhjDd8KvNWWPCyuUvzM5uI%3D&amp;hl=fy&amp;source=homepage&amp;sa=X&amp;ved=0ahUKEwjkzrHNgvqGAxXY_AIHHbZKCxQQ2ZgBCAY\">Frysk</a>  </div></div></div><span id=\"footer\"><div style=\"font-size:10pt\"><div style=\"margin:19px auto;text-align:center\" id=\"WqQANb\"><a href=\"/intl/nl/ads/\">Adverteren</a><a href=\"http://www.google.nl/intl/nl/services/\">Bedrijfsoplossingen</a><a href=\"/intl/nl/about.html\">Alles over Google</a><a href=\"https://www.google.com/setprefdomain?prefdom=NL&amp;prev=https://www.google.nl/&amp;sig=K_V52A9Oqd__gfLrOjeRKES7Iz1o0%3D\">Google.nl</a></div></div><p style=\"font-size:8pt;color:#70757a\">&copy; 2024 - <a href=\"/intl/nl/policies/privacy/\">Privacy</a> - <a href=\"/intl/nl/policies/terms/\">Voorwaarden</a></p></span></center><script nonce=\"kqlvBJHCflREQSM_IbhCfQ\">(function(){window.google.cdo={height:757,width:1440};(function(){var a=window.innerWidth,b=window.innerHeight;if(!a||!b){var c=window.document,d=c.compatMode==\"CSS1Compat\"?c.documentElement:c.body;a=d.clientWidth;b=d.clientHeight}\n",
       "if(a&&b&&(a!=google.cdo.width||b!=google.cdo.height)){var e=google,f=e.log,g=\"/client_204?&atyp=i&biw=\"+a+\"&bih=\"+b+\"&ei=\"+google.kEI,h=\"\",k=[],l=window.google!==void 0&&window.google.kOPI!==void 0&&window.google.kOPI!==0?window.google.kOPI:null;l!=null&&k.push([\"opi\",l.toString()]);for(var m=0;m<k.length;m++){if(m===0||m>0)h+=\"&\";h+=k[m][0]+\"=\"+k[m][1]}f.call(e,\"\",\"\",g+h)};}).call(this);})();</script>  <script nonce=\"kqlvBJHCflREQSM_IbhCfQ\">(function(){google.xjs={basecomb:'/xjs/_/js/k\\x3dxjs.hp.en.ZzNVZXNZDJk.O/ck\\x3dxjs.hp.4KrmAvBNyIg.L.X.O/am\\x3dAQAAgAAAAAAAAAAAAAAAAAAAAAAAAAEAAAAAAAAAGAAHAAAAIABAIAAAAAB4AAAAAAAAAIAAAAMQCIAD8R0BgAAsAgDACw/d\\x3d1/ed\\x3d1/dg\\x3d0/ujg\\x3d1/rs\\x3dACT90oE-Y2ICyFKzmewvPa2d5iddD6Sa5A',basecss:'/xjs/_/ss/k\\x3dxjs.hp.4KrmAvBNyIg.L.X.O/am\\x3dAQAAgAAAAAAAAAAAAAAAAAAAAAAAAAAAAAAAAAAAAAAAAAAAIABAIAAAAAAAAAAAAAAAAIAAAAMQCA/rs\\x3dACT90oGpLB-UYP_w15uxcdVNMoXfcy_xaQ',basejs:'/xjs/_/js/k\\x3dxjs.hp.en.ZzNVZXNZDJk.O/am\\x3dAAAAAAAAAAAAAAAAAAAAAAAAAAAAAAEAAAAAAAAAGAAHAAAAAAAAAAAAAAB4AAAAAAAAAAAAAAAAAIAD8R0BgAAsAgDACw/dg\\x3d0/rs\\x3dACT90oFOlxb_nS1Vq2mzk6nMxSyxjeFuQQ',excm:[]};})();</script> <link href=\"/xjs/_/ss/k=xjs.hp.4KrmAvBNyIg.L.X.O/am=AQAAgAAAAAAAAAAAAAAAAAAAAAAAAAAAAAAAAAAAAAAAAAAAIABAIAAAAAAAAAAAAAAAAIAAAAMQCA/d=1/ed=1/rs=ACT90oGpLB-UYP_w15uxcdVNMoXfcy_xaQ/m=sb_he,d\" rel=\"stylesheet\" nonce=\"kqlvBJHCflREQSM_IbhCfQ\">    <script nonce=\"kqlvBJHCflREQSM_IbhCfQ\">(function(){var u='/xjs/_/js/k\\x3dxjs.hp.en.ZzNVZXNZDJk.O/am\\x3dAAAAAAAAAAAAAAAAAAAAAAAAAAAAAAEAAAAAAAAAGAAHAAAAAAAAAAAAAAB4AAAAAAAAAAAAAAAAAIAD8R0BgAAsAgDACw/d\\x3d1/ed\\x3d1/rs\\x3dACT90oFOlxb_nS1Vq2mzk6nMxSyxjeFuQQ/m\\x3dsb_he,d';var st=1;var amd=1000;var v=false;\n",
       "var e=this||self,f=function(a){return a};var g;var h=function(a){this.g=a};h.prototype.toString=function(){return this.g+\"\"};var k={};\n",
       "function l(a,b){a.src=b instanceof h&&b.constructor===h?b.g:\"type_error:TrustedResourceUrl\";var c,d;(c=(b=(d=(c=(a.ownerDocument&&a.ownerDocument.defaultView||window).document).querySelector)==null?void 0:d.call(c,\"script[nonce]\"))?b.nonce||b.getAttribute(\"nonce\")||\"\":\"\")&&a.setAttribute(\"nonce\",c)};var m=function(){var a=document;var b=\"SCRIPT\";a.contentType===\"application/xhtml+xml\"&&(b=b.toLowerCase());return a.createElement(b)};function n(a){a=a===null?\"null\":a===void 0?\"undefined\":a;if(g===void 0){var b=null;var c=e.trustedTypes;if(c&&c.createPolicy){try{b=c.createPolicy(\"goog#html\",{createHTML:f,createScript:f,createScriptURL:f})}catch(d){e.console&&e.console.error(d.message)}g=b}else g=b}a=(b=g)?b.createScriptURL(a):a;return new h(a,k)};google.ps===void 0&&(google.ps=[]);function p(){var a=u,b=function(){};google.lx=google.stvsc?b:function(){q(a);google.lx=b};google.bx||google.lx()}function r(a,b){b&&l(a,n(b));var c=a.onload;a.onload=function(d){c&&c(d);google.ps=google.ps.filter(function(B){return a!==B})};google.ps.push(a);document.body.appendChild(a)}google.as=r;function q(a){google.timers&&google.timers.load&&google.tick&&google.tick(\"load\",\"xjsls\");var b=m();b.onerror=function(){google.ple=1};b.onload=function(){google.ple=0};google.xjsus=void 0;r(b,a);google.aple=-1;google.psa=!0};function t(a){var b=a.getAttribute(\"jscontroller\");return(b===\"UBXHI\"||b===\"R3fhkb\"||b===\"TSZEqd\")&&a.hasAttribute(\"data-src\")}for(var w=document.getElementsByTagName(\"img\"),x=0,y=w.length;x<y;++x){var z=w[x];Number(z.getAttribute(\"data-atf\"))&1&&t(z)&&(z.src=z.getAttribute(\"data-src\"))};google.xjsu=u;e._F_jsUrl=u;var A=!1;function C(){A||(p(),A=!0)}\n",
       "setTimeout(function(){google&&google.tick&&google.timers&&google.timers.load&&google.tick(\"load\",\"xjspls\");var a;if(!(a=st!==1||!google.caft||v&&document.visibilityState!==\"visible\"))a:{a=document.getElementsByTagName(\"img\");for(var b=0,c=a.length;b<c;b++){var d=a[b];if(d.hasAttribute(\"data-lzy_\")&&Number(d.getAttribute(\"data-atf\"))&1&&!t(d)){a=!0;break a}}a=!1}a?st!==2||!google.rairicb||v&&document.visibilityState!==\"visible\"?p():(window.setTimeout(C,amd),google.rairicb(C)):(window.setTimeout(C,amd),google.caft(C))},0);})();window._ = window._ || {};window._DumpException = _._DumpException = function(e){throw e;};window._s = window._s || {};_s._DumpException = _._DumpException;window._qs = window._qs || {};_qs._DumpException = _._DumpException;(function(){var t=[1,2,0,0,0,83886080,0,655872,67567769,8388652,132096,503318784,0,0,137363464,14680580,73201,569602,48128];window._F_toggles = window._xjs_toggles = t;})();function _F_installCss(c){}\n",
       "(function(){google.jl={bfl:0,dw:false,ine:false,ubm:false,uwp:true,vs:false};})();(function(){var pmc='{\\x22d\\x22:{},\\x22sb_he\\x22:{\\x22agen\\x22:false,\\x22cgen\\x22:false,\\x22client\\x22:\\x22heirloom-hp\\x22,\\x22dh\\x22:true,\\x22ds\\x22:\\x22\\x22,\\x22fl\\x22:true,\\x22host\\x22:\\x22google.com\\x22,\\x22jsonp\\x22:true,\\x22msgs\\x22:{\\x22cibl\\x22:\\x22Zoekopdracht wissen\\x22,\\x22dym\\x22:\\x22Bedoelde je:\\x22,\\x22lcky\\x22:\\x22Ik doe een gok\\x22,\\x22lml\\x22:\\x22Meer informatie\\x22,\\x22psrc\\x22:\\x22Deze zoekopdracht is verwijderd uit je \\\\u003Ca href\\x3d\\\\\\x22/history\\\\\\x22\\\\u003EWebgeschiedenis\\\\u003C/a\\\\u003E\\x22,\\x22psrl\\x22:\\x22Verwijderen\\x22,\\x22sbit\\x22:\\x22Zoeken op afbeelding\\x22,\\x22srch\\x22:\\x22Google Zoeken\\x22},\\x22ovr\\x22:{},\\x22pq\\x22:\\x22\\x22,\\x22rfs\\x22:[],\\x22sbas\\x22:\\x220 3px 8px 0 rgba(0,0,0,0.2),0 0 0 1px rgba(0,0,0,0.08)\\x22,\\x22stok\\x22:\\x224mvKInDyzopQG1fTvM3OcDQX_Dg\\x22}}';google.pmc=JSON.parse(pmc);})();(function(){var c=function(a){var b=0;return function(){return b<a.length?{done:!1,value:a[b++]}:{done:!0}}};\n",
       "var e=this||self;var g,h;a:{for(var k=[\"CLOSURE_FLAGS\"],l=e,n=0;n<k.length;n++)if(l=l[k[n]],l==null){h=null;break a}h=l}var p=h&&h[610401301];g=p!=null?p:!1;var q,r=e.navigator;q=r?r.userAgentData||null:null;function t(a){return g?q?q.brands.some(function(b){return(b=b.brand)&&b.indexOf(a)!=-1}):!1:!1}function u(a){var b;a:{if(b=e.navigator)if(b=b.userAgent)break a;b=\"\"}return b.indexOf(a)!=-1};function v(){return g?!!q&&q.brands.length>0:!1}function w(){return u(\"Safari\")&&!(x()||(v()?0:u(\"Coast\"))||(v()?0:u(\"Opera\"))||(v()?0:u(\"Edge\"))||(v()?t(\"Microsoft Edge\"):u(\"Edg/\"))||(v()?t(\"Opera\"):u(\"OPR\"))||u(\"Firefox\")||u(\"FxiOS\")||u(\"Silk\")||u(\"Android\"))}function x(){return v()?t(\"Chromium\"):(u(\"Chrome\")||u(\"CriOS\"))&&!(v()?0:u(\"Edge\"))||u(\"Silk\")}function y(){return u(\"Android\")&&!(x()||u(\"Firefox\")||u(\"FxiOS\")||(v()?0:u(\"Opera\"))||u(\"Silk\"))};var z=v()?!1:u(\"Trident\")||u(\"MSIE\");y();x();w();var A=typeof Symbol===\"function\"&&typeof Symbol()===\"symbol\",B;B=typeof Symbol===\"function\"&&typeof Symbol()===\"symbol\"?Symbol():void 0;var C=[];(A?function(a,b){a[B]=b}:function(a,b){a.g!==void 0?a.g=b:Object.defineProperties(a,{g:{value:b,configurable:!0,writable:!0,enumerable:!1}})})(C,55);Object.freeze(C);var D=function(){};Object.freeze(new function(){});Object.freeze(new D);Object.freeze(new D);var G=!z&&!w(),H=function(a){if(/-[a-z]/.test(\"ved\"))return null;if(G&&a.dataset){if(y()&&!(\"ved\"in a.dataset))return null;a=a.dataset.ved;return a===void 0?null:a}return a.getAttribute(\"data-\"+\"ved\".replace(/([A-Z])/g,\"-$1\").toLowerCase())};var I=[],J=null;function K(a){a=a.target;var b=performance.now(),f=[],L=f.concat,d=I;if(!(d instanceof Array)){var m=typeof Symbol!=\"undefined\"&&Symbol.iterator&&d[Symbol.iterator];if(m)d=m.call(d);else if(typeof d.length==\"number\")d={next:c(d)};else throw Error(\"b`\"+String(d));for(var E=[];!(m=d.next()).done;)E.push(m.value);d=E}I=L.call(f,d,[b]);if(a&&a instanceof HTMLElement)if(a===J){if(b=I.length>=4)b=(I[I.length-1]-I[I.length-4])/1E3<5;if(b){b=google.getEI(a);a.hasAttribute(\"data-ved\")?f=a?H(a)||\"\":\"\":f=(f=\n",
       "a.closest(\"[data-ved]\"))?H(f)||\"\":\"\";f=f||\"\";if(a.hasAttribute(\"jsname\"))a=a.getAttribute(\"jsname\");else{var F;a=(F=a.closest(\"[jsname]\"))==null?void 0:F.getAttribute(\"jsname\")}google.log(\"rcm\",\"&ei=\"+b+\"&tgtved=\"+f+\"&jsname=\"+(a||\"\"))}}else J=a,I=[b]}window.document.addEventListener(\"DOMContentLoaded\",function(){document.body.addEventListener(\"click\",K)});}).call(this);</script></body></html>"
      ],
      "text/plain": [
       "<IPython.core.display.HTML object>"
      ]
     },
     "metadata": {},
     "output_type": "display_data"
    }
   ],
   "source": [
    "from IPython.core.display import display, HTML\n",
    "display(HTML(body.decode(\"latin1\")))"
   ]
  },
  {
   "cell_type": "code",
   "execution_count": 61,
   "metadata": {
    "ExecuteTime": {
     "end_time": "2022-02-17T12:50:15.631407Z",
     "start_time": "2022-02-17T12:50:15.626531Z"
    }
   },
   "outputs": [],
   "source": [
    "sock.close()"
   ]
  },
  {
   "cell_type": "code",
   "execution_count": null,
   "metadata": {},
   "outputs": [],
   "source": []
  }
 ],
 "metadata": {
  "kernelspec": {
   "display_name": "Python 3 (ipykernel)",
   "language": "python",
   "name": "python3"
  },
  "language_info": {
   "codemirror_mode": {
    "name": "ipython",
    "version": 3
   },
   "file_extension": ".py",
   "mimetype": "text/x-python",
   "name": "python",
   "nbconvert_exporter": "python",
   "pygments_lexer": "ipython3",
   "version": "3.12.4"
  }
 },
 "nbformat": 4,
 "nbformat_minor": 4
}
