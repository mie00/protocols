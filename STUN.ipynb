{
 "cells": [
  {
   "cell_type": "code",
   "execution_count": 1,
   "metadata": {
    "ExecuteTime": {
     "end_time": "2022-02-17T12:21:51.131085Z",
     "start_time": "2022-02-17T12:21:51.115973Z"
    }
   },
   "outputs": [],
   "source": [
    "from new_parser import construct, match"
   ]
  },
  {
   "cell_type": "code",
   "execution_count": 2,
   "metadata": {
    "ExecuteTime": {
     "end_time": "2022-02-17T12:21:51.932612Z",
     "start_time": "2022-02-17T12:21:51.926891Z"
    }
   },
   "outputs": [],
   "source": [
    "from utils import SocketReader"
   ]
  },
  {
   "cell_type": "code",
   "execution_count": 3,
   "metadata": {
    "ExecuteTime": {
     "end_time": "2022-02-17T12:21:52.581795Z",
     "start_time": "2022-02-17T12:21:52.576699Z"
    }
   },
   "outputs": [],
   "source": [
    "try:\n",
    "    sock.close()\n",
    "except:\n",
    "    pass\n",
    "\n",
    "sock = SocketReader(\"stun2.l.google.com\", 19302, 'udp')\n",
    "\n",
    "sock.connect(source_port=45677)"
   ]
  },
  {
   "cell_type": "code",
   "execution_count": 4,
   "metadata": {
    "ExecuteTime": {
     "end_time": "2022-02-17T12:24:51.841768Z",
     "start_time": "2022-02-17T12:24:51.837130Z"
    }
   },
   "outputs": [],
   "source": [
    "stun_header_spec = \"\"\"\n",
    "2==0\n",
    "-14@message_type\n",
    "-16@message_length\n",
    "-32@magic_cookie\n",
    "-96@transaction_id\n",
    "-{message_length}@message(\n",
    "    ...@attributes(\n",
    "        16==0x20-16@xor_mapped_ip(\n",
    "            8==0\n",
    "            -8@family\n",
    "            -16@port[int]\n",
    "            -32@ip[ip]\n",
    "        )\n",
    "    )\n",
    ")\n",
    "\"\"\""
   ]
  },
  {
   "cell_type": "code",
   "execution_count": 5,
   "metadata": {
    "ExecuteTime": {
     "end_time": "2022-02-17T12:25:11.550434Z",
     "start_time": "2022-02-17T12:25:11.544180Z"
    }
   },
   "outputs": [],
   "source": [
    "import random\n",
    "magic_cookie = 0x2112A442 # constant\n",
    "stun_header = {\n",
    "    # +--+--+-+-+-+-+-+-+-+-+-+-+-+-+\n",
    "    # |M |M |M|M|M|C|M|M|M|C|M|M|M|M|\n",
    "    # |11|10|9|8|7|1|6|5|4|0|3|2|1|0|\n",
    "    # +--+--+-+-+-+-+-+-+-+-+-+-+-+-+\n",
    "    \"message_type\": 0b00000000000001,\n",
    "    \"message_length\": 0,\n",
    "    \"magic_cookie\": magic_cookie,\n",
    "    \"transaction_id\": random.randrange(1<<96),\n",
    "    'message': {'attributes': []},\n",
    "}"
   ]
  },
  {
   "cell_type": "code",
   "execution_count": 6,
   "metadata": {},
   "outputs": [
    {
     "data": {
      "text/plain": [
       "b'\\x00\\x01\\x00\\x00!\\x12\\xa4B\\x13+\\x0eU?\\x14`U\\x0f\\x8c<\\xa1'"
      ]
     },
     "execution_count": 6,
     "metadata": {},
     "output_type": "execute_result"
    }
   ],
   "source": [
    "stun_header_encoded = construct(stun_header_spec, stun_header)\n",
    "stun_header_encoded"
   ]
  },
  {
   "cell_type": "code",
   "execution_count": 7,
   "metadata": {
    "ExecuteTime": {
     "end_time": "2022-02-17T12:25:43.264567Z",
     "start_time": "2022-02-17T12:25:43.259208Z"
    }
   },
   "outputs": [],
   "source": [
    "sock.send(stun_header_encoded)"
   ]
  },
  {
   "cell_type": "code",
   "execution_count": 8,
   "metadata": {
    "ExecuteTime": {
     "end_time": "2022-02-17T12:25:44.517058Z",
     "start_time": "2022-02-17T12:25:44.512700Z"
    }
   },
   "outputs": [],
   "source": [
    "resp = sock.read_once()"
   ]
  },
  {
   "cell_type": "code",
   "execution_count": 9,
   "metadata": {},
   "outputs": [
    {
     "data": {
      "text/plain": [
       "{'message_type': 0b00000100000001,\n",
       " 'magic_cookie': 0x2112a442,\n",
       " 'transaction_id': 0x132b0e553f1460550f8c3ca1,\n",
       " 'message': {'attributes': [{'xor_mapped_ip': {'family': 1,\n",
       "     'port': 37759,\n",
       "     'ip': '174.160.236.184'}}]}}"
      ]
     },
     "execution_count": 9,
     "metadata": {},
     "output_type": "execute_result"
    }
   ],
   "source": [
    "res, rem = match(stun_header_spec, resp)\n",
    "res"
   ]
  },
  {
   "cell_type": "code",
   "execution_count": 10,
   "metadata": {
    "scrolled": true
   },
   "outputs": [
    {
     "data": {
      "text/plain": [
       "45677"
      ]
     },
     "execution_count": 10,
     "metadata": {},
     "output_type": "execute_result"
    }
   ],
   "source": [
    "port = res['message']['attributes'][0]['xor_mapped_ip']['port'].value('int') ^ (magic_cookie >> 16)\n",
    "port"
   ]
  },
  {
   "cell_type": "code",
   "execution_count": 11,
   "metadata": {},
   "outputs": [
    {
     "data": {
      "text/plain": [
       "'143.178.72.250'"
      ]
     },
     "execution_count": 11,
     "metadata": {},
     "output_type": "execute_result"
    }
   ],
   "source": [
    "ip_number = res['message']['attributes'][0]['xor_mapped_ip']['ip'].value('int') ^ (magic_cookie)\n",
    "ip = '%d.%d.%d.%d'%tuple([(ip_number >> (8 * s)) & (255) for s in range(3, -1, -1)])\n",
    "ip"
   ]
  },
  {
   "cell_type": "code",
   "execution_count": 12,
   "metadata": {},
   "outputs": [],
   "source": [
    "sock.close()"
   ]
  }
 ],
 "metadata": {
  "kernelspec": {
   "display_name": "Python 3 (ipykernel)",
   "language": "python",
   "name": "python3"
  },
  "language_info": {
   "codemirror_mode": {
    "name": "ipython",
    "version": 3
   },
   "file_extension": ".py",
   "mimetype": "text/x-python",
   "name": "python",
   "nbconvert_exporter": "python",
   "pygments_lexer": "ipython3",
   "version": "3.12.4"
  }
 },
 "nbformat": 4,
 "nbformat_minor": 4
}
