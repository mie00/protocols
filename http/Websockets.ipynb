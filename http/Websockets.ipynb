{
 "cells": [
  {
   "cell_type": "code",
   "execution_count": null,
   "metadata": {},
   "outputs": [],
   "source": [
    "import sys\n",
    "sys.path.append('..')"
   ]
  },
  {
   "cell_type": "code",
   "execution_count": 1,
   "metadata": {},
   "outputs": [],
   "source": [
    "from utils import SocketReader"
   ]
  },
  {
   "cell_type": "code",
   "execution_count": 2,
   "metadata": {},
   "outputs": [],
   "source": [
    "from new_parser import construct, match, match_exact"
   ]
  },
  {
   "cell_type": "code",
   "execution_count": 3,
   "metadata": {},
   "outputs": [],
   "source": [
    "try:\n",
    "    sock.close()\n",
    "except:\n",
    "    pass\n",
    "\n",
    "sock = SocketReader(\"echo.websocket.org\", 443, 'tls')\n",
    "\n",
    "sock.connect()"
   ]
  },
  {
   "cell_type": "code",
   "execution_count": 4,
   "metadata": {},
   "outputs": [],
   "source": [
    "message = b\"\"\"GET /.ws HTTP/1.1\n",
    "Host: echo.websocket.org\n",
    "Upgrade: websocket\n",
    "Connection: Upgrade\n",
    "Sec-WebSocket-Key: x3JJHMbDL1EzLkh9GBhXDw==\n",
    "Sec-WebSocket-Version: 13\n",
    "Origin: http://echo.websocket.org\n",
    "\n",
    "\"\"\"\n",
    "sock.send(message)"
   ]
  },
  {
   "cell_type": "code",
   "execution_count": 5,
   "metadata": {},
   "outputs": [
    {
     "data": {
      "text/plain": [
       "b'HTTP/1.1 101 Switching Protocols\\r\\n'"
      ]
     },
     "execution_count": 5,
     "metadata": {},
     "output_type": "execute_result"
    }
   ],
   "source": [
    "sock.read_line()"
   ]
  },
  {
   "cell_type": "code",
   "execution_count": 6,
   "metadata": {},
   "outputs": [
    {
     "data": {
      "text/plain": [
       "b'upgrade: websocket\\r\\n'"
      ]
     },
     "execution_count": 6,
     "metadata": {},
     "output_type": "execute_result"
    }
   ],
   "source": [
    "sock.read_line()"
   ]
  },
  {
   "cell_type": "code",
   "execution_count": 7,
   "metadata": {},
   "outputs": [
    {
     "name": "stdout",
     "output_type": "stream",
     "text": [
      "b'connection: Upgrade\\r\\n'\n",
      "b'sec-websocket-accept: HSmrc0sMlYUkAGmm5OPpG2HaGWk=\\r\\n'\n",
      "b'date: Mon, 08 Jul 2024 15:26:01 GMT\\r\\n'\n",
      "b'server: Fly/577378ac (2024-07-02)\\r\\n'\n",
      "b'via: 1.1 fly.io\\r\\n'\n",
      "b'fly-request-id: 01J29F7BN5YHP06QGVA74P9S11-ams\\r\\n'\n",
      "b'\\r\\n'\n"
     ]
    }
   ],
   "source": [
    "from base64 import b64encode\n",
    "from hashlib import sha1\n",
    "\n",
    "content_length = None\n",
    "chunked = False\n",
    "\n",
    "while True:\n",
    "    header = sock.read_line()\n",
    "    print(header)\n",
    "    if header == b'\\r\\n':\n",
    "        break\n",
    "    if header.lower().startswith(b'sec-websocket-accept:'):\n",
    "        result_hash = header.split(b':')[1].strip()\n",
    "        key = b\"x3JJHMbDL1EzLkh9GBhXDw==\" # The key sent by the client\n",
    "        magic = b\"258EAFA5-E914-47DA-95CA-C5AB0DC85B11\" # Protocol constant\n",
    "        assert b64encode(sha1(key + magic).digest()) == result_hash, \"the result hash doesn't match the expected hash\"\n",
    "        \n"
   ]
  },
  {
   "cell_type": "code",
   "execution_count": 8,
   "metadata": {},
   "outputs": [],
   "source": [
    "# message_spec = \"\"\"\n",
    "# 1@fin\n",
    "# -3@rsv\n",
    "# -4@opcode\n",
    "# -1@masked\n",
    "# -(\n",
    "#         7==127-64<@size\n",
    "#         |7==126-16@size\n",
    "#         |7@size\n",
    "# )\n",
    "# -{masked}...@masking_key(32)\n",
    "# -{size}@payload\n",
    "# \"\"\"\n",
    "\n",
    "# maskval = random.randrange(1<<32)\n",
    "\n",
    "# message = bytearray(b\"hello\")\n",
    "\n",
    "# for i in range(len(message)):\n",
    "#     message[i] = message[i] ^ mask[i % 4]\n",
    "    \n",
    "# frame = {\n",
    "#     \"fin\": 0b1,\n",
    "#     \"rsv\": 0b000,\n",
    "#     \"opcode\": 1, # text\n",
    "#     \"masking_key\": [maskval],\n",
    "#     \"payload\": message\n",
    "# }\n",
    "\n",
    "\n",
    "\n",
    "# print(construct(message_spec, frame))\n",
    "\n",
    "\n",
    "# frame = {\n",
    "#     \"fin\": 0b1,\n",
    "#     \"rsv\": 0b000,\n",
    "#     \"opcode\": 1, # text\n",
    "#     \"masked\": 1,\n",
    "#     \"payload_length_prefix\": len(message), # <= 125\n",
    "# }\n",
    "\n",
    "# import random\n",
    "# mask = construct(mask_spec, {'mask': maskval})\n",
    "# message\n",
    "# frame_encoded = construct(frame_spec, frame) + mask + bytes(message)\n",
    "# print(frame_encoded)"
   ]
  },
  {
   "cell_type": "code",
   "execution_count": 9,
   "metadata": {},
   "outputs": [],
   "source": [
    "server_to_client_message_spec = \"\"\"\n",
    "1@fin\n",
    "-3@rsv\n",
    "-4@opcode\n",
    "-1==0@masked\n",
    "-(\n",
    "        7==127-64@size\n",
    "        |7==126-16@size\n",
    "        |7@size\n",
    ")\n",
    "-{masked}...@masking_key(32)\n",
    "-{size}@payload\n",
    "\"\"\"\n",
    "\n",
    "# TODO: fix 126, 127 message size\n",
    "client_to_server_message_spec = \"\"\"\n",
    "1@fin\n",
    "-3@rsv\n",
    "-4@opcode\n",
    "-1==1@masked\n",
    "-(\n",
    "        7@size\n",
    "        |7==126-16@size\n",
    "        |7==127-64@size\n",
    ")\n",
    "-{masked}...@masking_key(32)\n",
    "-{size}@payload\n",
    "\"\"\"\n"
   ]
  },
  {
   "cell_type": "code",
   "execution_count": 10,
   "metadata": {},
   "outputs": [
    {
     "name": "stdout",
     "output_type": "stream",
     "text": [
      "b'Request served by 1781505b56ee58'\n",
      "b'hello'\n",
      "b'p---ping'\n"
     ]
    },
    {
     "name": "stderr",
     "output_type": "stream",
     "text": [
      "Exception in thread Thread-5 (reader):\n",
      "Traceback (most recent call last):\n",
      "  File \"/usr/lib/python3.12/threading.py\", line 1073, in _bootstrap_inner\n",
      "    self.run()\n",
      "  File \"/home/mie/.virtualenvs/notebooks/lib/python3.12/site-packages/ipykernel/ipkernel.py\", line 766, in run_closure\n",
      "    _threading_Thread_run(self)\n",
      "  File \"/usr/lib/python3.12/threading.py\", line 1010, in run\n",
      "    self._target(*self._args, **self._kwargs)\n",
      "  File \"/tmp/ipykernel_2068270/2230967281.py\", line 4, in reader\n",
      "  File \"/home/mie/notebooks/new_parser.py\", line 689, in match_exact\n",
      "    res, rem = match(expression, data, **kwargs)\n",
      "               ^^^^^^^^^^^^^^^^^^^^^^^^^^^^^^^^^\n",
      "  File \"/home/mie/notebooks/new_parser.py\", line 683, in match\n",
      "    res, rem = deevaluate(parse_tree, binary_string, **kwargs)\n",
      "               ^^^^^^^^^^^^^^^^^^^^^^^^^^^^^^^^^^^^^^^^^^^^^^^\n",
      "  File \"/home/mie/notebooks/new_parser.py\", line 579, in deevaluate\n",
      "    res, data = deevaluate(tree[1], data, curr=context, **kwargs)\n",
      "                ^^^^^^^^^^^^^^^^^^^^^^^^^^^^^^^^^^^^^^^^^^^^^^^^^\n",
      "  File \"/home/mie/notebooks/new_parser.py\", line 579, in deevaluate\n",
      "    res, data = deevaluate(tree[1], data, curr=context, **kwargs)\n",
      "                ^^^^^^^^^^^^^^^^^^^^^^^^^^^^^^^^^^^^^^^^^^^^^^^^^\n",
      "  File \"/home/mie/notebooks/new_parser.py\", line 579, in deevaluate\n",
      "    res, data = deevaluate(tree[1], data, curr=context, **kwargs)\n",
      "                ^^^^^^^^^^^^^^^^^^^^^^^^^^^^^^^^^^^^^^^^^^^^^^^^^\n",
      "  File \"/home/mie/notebooks/new_parser.py\", line 581, in deevaluate\n",
      "    res, data = deevaluate(tree[2], data, curr=context, **kwargs)\n",
      "                ^^^^^^^^^^^^^^^^^^^^^^^^^^^^^^^^^^^^^^^^^^^^^^^^^\n",
      "  File \"/home/mie/notebooks/new_parser.py\", line 596, in deevaluate\n",
      "    if res.value('int') != size_option[2]:\n",
      "       ^^^^^^^^^^^^^^^^^^^^^^^^^^^^^^^^^^\n",
      "  File \"/home/mie/notebooks/new_parser.py\", line 379, in __eq__\n",
      "    return self._value(other_type) == other\n",
      "           ^^^^^^^^^^^^^^^^^^^^^^^\n",
      "  File \"/home/mie/notebooks/new_parser.py\", line 345, in _value\n",
      "    return int(binary_string, 2)\n",
      "           ^^^^^^^^^^^^^^^^^^^^^\n",
      "ValueError: invalid literal for int() with base 2: ''\n"
     ]
    }
   ],
   "source": [
    "def reader():\n",
    "    while True:\n",
    "        message = sock.read_once()\n",
    "        received_frame = match_exact(server_to_client_message_spec, message, verbose=True)\n",
    "        if received_frame['size'] != 0:\n",
    "            print(received_frame['payload']._value('bytes'))\n",
    "import threading\n",
    "\n",
    "threading.Thread(target=reader).start()"
   ]
  },
  {
   "cell_type": "code",
   "execution_count": 11,
   "metadata": {},
   "outputs": [],
   "source": [
    "data = bytearray(b\"hello\")"
   ]
  },
  {
   "cell_type": "code",
   "execution_count": 12,
   "metadata": {},
   "outputs": [
    {
     "data": {
      "text/plain": [
       "bytearray(b'n\\xc6+\\x8ei')"
      ]
     },
     "execution_count": 12,
     "metadata": {},
     "output_type": "execute_result"
    }
   ],
   "source": [
    "import random\n",
    "maskval = random.randrange(1<<32)\n",
    "for i in range(len(data)):\n",
    "    data[i] = data[i] ^ ((maskval >> (8*(3-(i%4)))) & 0xFF)\n",
    "data"
   ]
  },
  {
   "cell_type": "code",
   "execution_count": 13,
   "metadata": {},
   "outputs": [
    {
     "data": {
      "text/plain": [
       "b'\\x81\\x85\\x06\\xa3G\\xe2n\\xc6+\\x8ei'"
      ]
     },
     "execution_count": 13,
     "metadata": {},
     "output_type": "execute_result"
    }
   ],
   "source": [
    "frame = {\n",
    "    \"fin\": 0b1,\n",
    "    \"rsv\": 0b000,\n",
    "    \"opcode\": 1, # text\n",
    "    \"masking_key\": [maskval],\n",
    "    \"payload\": data\n",
    "}\n",
    "\n",
    "frame_encoded = construct(client_to_server_message_spec, frame)\n",
    "frame_encoded"
   ]
  },
  {
   "cell_type": "code",
   "execution_count": 14,
   "metadata": {},
   "outputs": [],
   "source": [
    "sock.send(frame_encoded)"
   ]
  },
  {
   "cell_type": "code",
   "execution_count": 15,
   "metadata": {},
   "outputs": [
    {
     "data": {
      "text/plain": [
       "bytearray(b'\\xa1[^\\x8b\\xa1\\x1f\\x1d\\xc1')"
      ]
     },
     "execution_count": 15,
     "metadata": {},
     "output_type": "execute_result"
    }
   ],
   "source": [
    "data = bytearray(b\"p---ping\")\n",
    "maskval = random.randrange(1<<32)\n",
    "for i in range(len(data)):\n",
    "    data[i] = data[i] ^ ((maskval >> (8*(3-(i%4)))) & 0xFF)\n",
    "data\n"
   ]
  },
  {
   "cell_type": "code",
   "execution_count": 16,
   "metadata": {},
   "outputs": [
    {
     "data": {
      "text/plain": [
       "b'\\x89\\x88\\xd1vs\\xa6\\xa1[^\\x8b\\xa1\\x1f\\x1d\\xc1'"
      ]
     },
     "execution_count": 16,
     "metadata": {},
     "output_type": "execute_result"
    }
   ],
   "source": [
    "frame = {\n",
    "    \"fin\": 0b1,\n",
    "    \"rsv\": 0b000,\n",
    "    \"opcode\": 9, # ping\n",
    "    \"masking_key\": [maskval],\n",
    "    \"payload\": data\n",
    "}\n",
    "\n",
    "frame_encoded = construct(client_to_server_message_spec, frame)\n",
    "frame_encoded"
   ]
  },
  {
   "cell_type": "code",
   "execution_count": 17,
   "metadata": {},
   "outputs": [],
   "source": [
    "sock.send(frame_encoded)"
   ]
  },
  {
   "cell_type": "code",
   "execution_count": 18,
   "metadata": {},
   "outputs": [],
   "source": [
    "sock.close()"
   ]
  },
  {
   "cell_type": "code",
   "execution_count": null,
   "metadata": {},
   "outputs": [],
   "source": []
  }
 ],
 "metadata": {
  "kernelspec": {
   "display_name": "Python 3 (ipykernel)",
   "language": "python",
   "name": "python3"
  },
  "language_info": {
   "codemirror_mode": {
    "name": "ipython",
    "version": 3
   },
   "file_extension": ".py",
   "mimetype": "text/x-python",
   "name": "python",
   "nbconvert_exporter": "python",
   "pygments_lexer": "ipython3",
   "version": "3.12.4"
  }
 },
 "nbformat": 4,
 "nbformat_minor": 4
}
