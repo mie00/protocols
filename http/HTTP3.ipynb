{
 "cells": [
  {
   "cell_type": "code",
   "execution_count": null,
   "metadata": {},
   "outputs": [],
   "source": [
    "import sys\n",
    "sys.path.append('..')"
   ]
  },
  {
   "cell_type": "code",
   "execution_count": 1,
   "metadata": {
    "ExecuteTime": {
     "end_time": "2022-02-07T11:06:29.144315Z",
     "start_time": "2022-02-07T11:06:29.137115Z"
    }
   },
   "outputs": [],
   "source": [
    "from parser import public_construct, public_match, public_match_exact"
   ]
  },
  {
   "cell_type": "code",
   "execution_count": 2,
   "metadata": {
    "ExecuteTime": {
     "end_time": "2022-02-07T11:06:29.364388Z",
     "start_time": "2022-02-07T11:06:29.360210Z"
    }
   },
   "outputs": [],
   "source": [
    "from utils import SocketReader, ReaderWrapper"
   ]
  },
  {
   "cell_type": "code",
   "execution_count": 3,
   "metadata": {
    "ExecuteTime": {
     "end_time": "2022-02-07T11:06:29.604937Z",
     "start_time": "2022-02-07T11:06:29.544531Z"
    }
   },
   "outputs": [
    {
     "ename": "ModuleNotFoundError",
     "evalue": "No module named 'cryptography'",
     "output_type": "error",
     "traceback": [
      "\u001b[0;31m---------------------------------------------------------------------------\u001b[0m",
      "\u001b[0;31mModuleNotFoundError\u001b[0m                       Traceback (most recent call last)",
      "Cell \u001b[0;32mIn[3], line 1\u001b[0m\n\u001b[0;32m----> 1\u001b[0m \u001b[38;5;28;01mfrom\u001b[39;00m \u001b[38;5;21;01mcryptography\u001b[39;00m\u001b[38;5;21;01m.\u001b[39;00m\u001b[38;5;21;01mhazmat\u001b[39;00m\u001b[38;5;21;01m.\u001b[39;00m\u001b[38;5;21;01mprimitives\u001b[39;00m\u001b[38;5;21;01m.\u001b[39;00m\u001b[38;5;21;01masymmetric\u001b[39;00m\u001b[38;5;21;01m.\u001b[39;00m\u001b[38;5;21;01mx25519\u001b[39;00m \u001b[38;5;28;01mimport\u001b[39;00m X25519PrivateKey, X25519PublicKey\n\u001b[1;32m      2\u001b[0m \u001b[38;5;28;01mfrom\u001b[39;00m \u001b[38;5;21;01mcryptography\u001b[39;00m\u001b[38;5;21;01m.\u001b[39;00m\u001b[38;5;21;01mhazmat\u001b[39;00m\u001b[38;5;21;01m.\u001b[39;00m\u001b[38;5;21;01mprimitives\u001b[39;00m \u001b[38;5;28;01mimport\u001b[39;00m serialization\n\u001b[1;32m      3\u001b[0m \u001b[38;5;28;01mfrom\u001b[39;00m \u001b[38;5;21;01mcryptography\u001b[39;00m\u001b[38;5;21;01m.\u001b[39;00m\u001b[38;5;21;01mhazmat\u001b[39;00m\u001b[38;5;21;01m.\u001b[39;00m\u001b[38;5;21;01mprimitives\u001b[39;00m \u001b[38;5;28;01mimport\u001b[39;00m hashes\n",
      "\u001b[0;31mModuleNotFoundError\u001b[0m: No module named 'cryptography'"
     ]
    }
   ],
   "source": [
    "from cryptography.hazmat.primitives.asymmetric.x25519 import X25519PrivateKey, X25519PublicKey\n",
    "from cryptography.hazmat.primitives import serialization\n",
    "from cryptography.hazmat.primitives import hashes\n",
    "from cryptography.hazmat.primitives.kdf.hkdf import HKDFExpand, HKDF\n",
    "from cryptography.hazmat.primitives.hmac import HMAC\n",
    "from cryptography.hazmat.primitives.ciphers.aead import AESGCM\n",
    "from cryptography.hazmat.primitives.asymmetric import ec"
   ]
  },
  {
   "cell_type": "code",
   "execution_count": 4,
   "metadata": {
    "ExecuteTime": {
     "end_time": "2022-02-07T11:06:29.741039Z",
     "start_time": "2022-02-07T11:06:29.726988Z"
    }
   },
   "outputs": [],
   "source": [
    "try:\n",
    "    sock.close()\n",
    "except:\n",
    "    pass\n",
    "\n",
    "sock = SocketReader(\"www.google.com\", 443, 'udp')\n",
    "\n",
    "sock.connect()"
   ]
  },
  {
   "cell_type": "code",
   "execution_count": 9,
   "metadata": {
    "ExecuteTime": {
     "end_time": "2022-02-07T11:08:13.860100Z",
     "start_time": "2022-02-07T11:08:13.792811Z"
    }
   },
   "outputs": [
    {
     "name": "stdout",
     "output_type": "stream",
     "text": [
      "40 0001000000110011111101000100010001100101\n",
      "['8@pla_length', '8@asd', 'l@pla!0', '8@ddd']\n",
      "8\n",
      "8\n",
      "l!0\n",
      "111101000100010001100101 24 16\n",
      "8\n"
     ]
    },
    {
     "ename": "ValueError",
     "evalue": "invalid literal for int() with base 10: 'l'",
     "output_type": "error",
     "traceback": [
      "\u001b[0;31m---------------------------------------------------------------------------\u001b[0m",
      "\u001b[0;31mValueError\u001b[0m                                Traceback (most recent call last)",
      "\u001b[0;32m<ipython-input-9-5d113acbf452>\u001b[0m in \u001b[0;36m<module>\u001b[0;34m\u001b[0m\n\u001b[1;32m      5\u001b[0m \u001b[0;34m-\u001b[0m\u001b[0;36m8\u001b[0m\u001b[0;34m@\u001b[0m\u001b[0mddd\u001b[0m\u001b[0;34m\u001b[0m\u001b[0;34m\u001b[0m\u001b[0m\n\u001b[1;32m      6\u001b[0m \"\"\"\n\u001b[0;32m----> 7\u001b[0;31m \u001b[0mpublic_construct\u001b[0m\u001b[0;34m(\u001b[0m\u001b[0ms\u001b[0m\u001b[0;34m,\u001b[0m \u001b[0mpublic_match\u001b[0m\u001b[0;34m(\u001b[0m\u001b[0ms\u001b[0m\u001b[0;34m,\u001b[0m \u001b[0;34mb'\\x10\\x33\\xf4\\x44\\x65'\u001b[0m\u001b[0;34m,\u001b[0m \u001b[0mprint\u001b[0m\u001b[0;34m=\u001b[0m\u001b[0mprint\u001b[0m\u001b[0;34m)\u001b[0m\u001b[0;34m[\u001b[0m\u001b[0;36m0\u001b[0m\u001b[0;34m]\u001b[0m\u001b[0;34m)\u001b[0m\u001b[0;34m\u001b[0m\u001b[0;34m\u001b[0m\u001b[0m\n\u001b[0m",
      "\u001b[0;32m~/notebooks/parser.py\u001b[0m in \u001b[0;36mpublic_construct\u001b[0;34m(spec, data)\u001b[0m\n\u001b[1;32m    366\u001b[0m \u001b[0;34m\u001b[0m\u001b[0m\n\u001b[1;32m    367\u001b[0m \u001b[0;32mdef\u001b[0m \u001b[0mpublic_construct\u001b[0m\u001b[0;34m(\u001b[0m\u001b[0mspec\u001b[0m\u001b[0;34m,\u001b[0m \u001b[0mdata\u001b[0m\u001b[0;34m)\u001b[0m\u001b[0;34m:\u001b[0m\u001b[0;34m\u001b[0m\u001b[0;34m\u001b[0m\u001b[0m\n\u001b[0;32m--> 368\u001b[0;31m     \u001b[0;32mreturn\u001b[0m \u001b[0mconstruct\u001b[0m\u001b[0;34m(\u001b[0m\u001b[0mprocess_spec\u001b[0m\u001b[0;34m(\u001b[0m\u001b[0mspec\u001b[0m\u001b[0;34m)\u001b[0m\u001b[0;34m,\u001b[0m \u001b[0mdata\u001b[0m\u001b[0;34m)\u001b[0m\u001b[0;34m\u001b[0m\u001b[0;34m\u001b[0m\u001b[0m\n\u001b[0m\u001b[1;32m    369\u001b[0m \u001b[0;34m\u001b[0m\u001b[0m\n\u001b[1;32m    370\u001b[0m \u001b[0;32mdef\u001b[0m \u001b[0mpublic_match\u001b[0m\u001b[0;34m(\u001b[0m\u001b[0mspec\u001b[0m\u001b[0;34m,\u001b[0m \u001b[0mdata\u001b[0m\u001b[0;34m,\u001b[0m \u001b[0mprint\u001b[0m\u001b[0;34m=\u001b[0m\u001b[0;32mlambda\u001b[0m \u001b[0;34m*\u001b[0m\u001b[0mx\u001b[0m\u001b[0;34m:\u001b[0m\u001b[0;36m1\u001b[0m\u001b[0;34m)\u001b[0m\u001b[0;34m:\u001b[0m\u001b[0;34m\u001b[0m\u001b[0;34m\u001b[0m\u001b[0m\n",
      "\u001b[0;32m~/notebooks/parser.py\u001b[0m in \u001b[0;36mconstruct\u001b[0;34m(p, obj, print)\u001b[0m\n\u001b[1;32m    345\u001b[0m \u001b[0;34m\u001b[0m\u001b[0m\n\u001b[1;32m    346\u001b[0m \u001b[0;32mdef\u001b[0m \u001b[0mconstruct\u001b[0m\u001b[0;34m(\u001b[0m\u001b[0mp\u001b[0m\u001b[0;34m,\u001b[0m \u001b[0mobj\u001b[0m\u001b[0;34m,\u001b[0m \u001b[0mprint\u001b[0m\u001b[0;34m=\u001b[0m\u001b[0;32mlambda\u001b[0m \u001b[0;34m*\u001b[0m\u001b[0mx\u001b[0m\u001b[0;34m:\u001b[0m \u001b[0;36m1\u001b[0m\u001b[0;34m)\u001b[0m\u001b[0;34m:\u001b[0m\u001b[0;34m\u001b[0m\u001b[0;34m\u001b[0m\u001b[0m\n\u001b[0;32m--> 347\u001b[0;31m     \u001b[0;32mreturn\u001b[0m \u001b[0mbin2bytes\u001b[0m\u001b[0;34m(\u001b[0m\u001b[0m_construct\u001b[0m\u001b[0;34m(\u001b[0m\u001b[0mp\u001b[0m\u001b[0;34m,\u001b[0m \u001b[0mpreconstruct\u001b[0m\u001b[0;34m(\u001b[0m\u001b[0mobj\u001b[0m\u001b[0;34m)\u001b[0m\u001b[0;34m,\u001b[0m \u001b[0mprint\u001b[0m\u001b[0;34m=\u001b[0m\u001b[0mprint\u001b[0m\u001b[0;34m)\u001b[0m\u001b[0;34m)\u001b[0m\u001b[0;34m\u001b[0m\u001b[0;34m\u001b[0m\u001b[0m\n\u001b[0m\u001b[1;32m    348\u001b[0m \u001b[0;34m\u001b[0m\u001b[0m\n\u001b[1;32m    349\u001b[0m \u001b[0;34m\u001b[0m\u001b[0m\n",
      "\u001b[0;32m~/notebooks/parser.py\u001b[0m in \u001b[0;36m_construct\u001b[0;34m(p, obj, print)\u001b[0m\n\u001b[1;32m    286\u001b[0m                             \u001b[0mspec_len\u001b[0m \u001b[0;34m=\u001b[0m \u001b[0msegs\u001b[0m\u001b[0;34m[\u001b[0m\u001b[0;36m0\u001b[0m\u001b[0;34m]\u001b[0m\u001b[0;34m\u001b[0m\u001b[0;34m\u001b[0m\u001b[0m\n\u001b[1;32m    287\u001b[0m                             \u001b[0mmod\u001b[0m \u001b[0;34m=\u001b[0m \u001b[0mint\u001b[0m\u001b[0;34m(\u001b[0m\u001b[0msegs\u001b[0m\u001b[0;34m[\u001b[0m\u001b[0;36m1\u001b[0m\u001b[0;34m]\u001b[0m\u001b[0;34m)\u001b[0m\u001b[0;34m\u001b[0m\u001b[0;34m\u001b[0m\u001b[0m\n\u001b[0;32m--> 288\u001b[0;31m                         \u001b[0mll\u001b[0m \u001b[0;34m=\u001b[0m \u001b[0mint\u001b[0m\u001b[0;34m(\u001b[0m\u001b[0mspec_len\u001b[0m\u001b[0;34m)\u001b[0m\u001b[0;34m\u001b[0m\u001b[0;34m\u001b[0m\u001b[0m\n\u001b[0m\u001b[1;32m    289\u001b[0m                         \u001b[0mprint\u001b[0m\u001b[0;34m(\u001b[0m\u001b[0;34m'chm'\u001b[0m\u001b[0;34m,\u001b[0m \u001b[0mchm\u001b[0m\u001b[0;34m,\u001b[0m \u001b[0mlen\u001b[0m\u001b[0;34m(\u001b[0m\u001b[0mchm\u001b[0m\u001b[0;34m)\u001b[0m\u001b[0;34m)\u001b[0m\u001b[0;34m\u001b[0m\u001b[0;34m\u001b[0m\u001b[0m\n\u001b[1;32m    290\u001b[0m                         \u001b[0mret\u001b[0m \u001b[0;34m+=\u001b[0m \u001b[0mexpand_length\u001b[0m\u001b[0;34m(\u001b[0m\u001b[0mint\u001b[0m\u001b[0;34m(\u001b[0m\u001b[0mlen\u001b[0m\u001b[0;34m(\u001b[0m\u001b[0mchm\u001b[0m\u001b[0;34m)\u001b[0m\u001b[0;34m/\u001b[0m\u001b[0;36m8\u001b[0m\u001b[0;34m)\u001b[0m \u001b[0;34m-\u001b[0m \u001b[0mmod\u001b[0m\u001b[0;34m,\u001b[0m \u001b[0mll\u001b[0m\u001b[0;34m)\u001b[0m\u001b[0;34m\u001b[0m\u001b[0;34m\u001b[0m\u001b[0m\n",
      "\u001b[0;31mValueError\u001b[0m: invalid literal for int() with base 10: 'l'"
     ]
    }
   ],
   "source": [
    "s = \"\"\"\n",
    "8@pla_length\n",
    "-8@asd\n",
    "-l@pla()\n",
    "-8@ddd\n",
    "\"\"\"\n",
    "public_construct(s, public_match(s, b'\\x10\\x33\\xf4\\x44\\x65', print=print)[0])"
   ]
  },
  {
   "cell_type": "code",
   "execution_count": 6,
   "metadata": {
    "ExecuteTime": {
     "end_time": "2022-02-07T10:59:25.400823Z",
     "start_time": "2022-02-07T10:58:15.527973Z"
    }
   },
   "outputs": [
    {
     "name": "stdout",
     "output_type": "stream",
     "text": [
      "> \u001b[0;32m/home/mie/notebooks/parser.py\u001b[0m(137)\u001b[0;36mmatch\u001b[0;34m()\u001b[0m\n",
      "\u001b[0;32m    135 \u001b[0;31m                    \u001b[0mspec_len\u001b[0m \u001b[0;34m=\u001b[0m \u001b[0mc\u001b[0m\u001b[0;34m.\u001b[0m\u001b[0msplit\u001b[0m\u001b[0;34m(\u001b[0m\u001b[0;34m'!'\u001b[0m\u001b[0;34m)\u001b[0m\u001b[0;34m[\u001b[0m\u001b[0;36m0\u001b[0m\u001b[0;34m]\u001b[0m\u001b[0;34m\u001b[0m\u001b[0;34m\u001b[0m\u001b[0m\n",
      "\u001b[0m\u001b[0;32m    136 \u001b[0;31m                    \u001b[0;32mif\u001b[0m \u001b[0mc\u001b[0m\u001b[0;34m[\u001b[0m\u001b[0;36m0\u001b[0m\u001b[0;34m]\u001b[0m \u001b[0;34m==\u001b[0m \u001b[0;34m'l'\u001b[0m\u001b[0;34m:\u001b[0m\u001b[0;34m\u001b[0m\u001b[0;34m\u001b[0m\u001b[0m\n",
      "\u001b[0m\u001b[0;32m--> 137 \u001b[0;31m                        \u001b[0mcline\u001b[0m\u001b[0;34m=\u001b[0m\u001b[0mcline\u001b[0m\u001b[0;34m[\u001b[0m\u001b[0;34m:\u001b[0m\u001b[0mms\u001b[0m\u001b[0;34m[\u001b[0m\u001b[0mname\u001b[0m\u001b[0;34m+\u001b[0m\u001b[0;34m'_length'\u001b[0m\u001b[0;34m]\u001b[0m\u001b[0;34m]\u001b[0m\u001b[0;34m\u001b[0m\u001b[0;34m\u001b[0m\u001b[0m\n",
      "\u001b[0m\u001b[0;32m    138 \u001b[0;31m                    \u001b[0;32melif\u001b[0m \u001b[0mc\u001b[0m\u001b[0;34m[\u001b[0m\u001b[0;36m0\u001b[0m\u001b[0;34m]\u001b[0m \u001b[0;34m!=\u001b[0m \u001b[0;34m'~'\u001b[0m\u001b[0;34m:\u001b[0m\u001b[0;34m\u001b[0m\u001b[0;34m\u001b[0m\u001b[0m\n",
      "\u001b[0m\u001b[0;32m    139 \u001b[0;31m                        \u001b[0mmod\u001b[0m \u001b[0;34m=\u001b[0m \u001b[0;36m0\u001b[0m\u001b[0;34m\u001b[0m\u001b[0;34m\u001b[0m\u001b[0m\n",
      "\u001b[0m\n",
      "ipdb> ms\n",
      "{'pla_length': 0x16, 'asd': \"3\"}\n",
      "ipdb> ms\n",
      "{'pla_length': 0x16, 'asd': \"3\"}\n",
      "ipdb> ms['pla_length']\n",
      "0x16\n",
      "ipdb> type(ms['pla_length'])\n",
      "<class 'parser.Repr'>\n",
      "ipdb> dir(ms['pla_length'])\n",
      "['__class__', '__delattr__', '__dict__', '__dir__', '__doc__', '__eq__', '__format__', '__ge__', '__getattribute__', '__gt__', '__hash__', '__init__', '__init_subclass__', '__le__', '__len__', '__lt__', '__module__', '__ne__', '__new__', '__reduce__', '__reduce_ex__', '__repr__', '__setattr__', '__sizeof__', '__str__', '__subclasshook__', '__weakref__', 'bytes', 'hex', 'int', 'r', 'str', 'strict_length', 'val', 'value']\n",
      "ipdb> ms['pla_length'].int\n",
      "<bound method Repr.int of 0x16>\n",
      "ipdb> ms['pla_length'].int()\n",
      "22\n",
      "ipdb> c\n"
     ]
    }
   ],
   "source": [
    "%debug"
   ]
  },
  {
   "cell_type": "code",
   "execution_count": null,
   "metadata": {},
   "outputs": [],
   "source": [
    "initial_packet_spec = \"\"\"\n",
    "1==1?(\n",
    "    1@fixed_bit\n",
    "    -2==0(\n",
    "        2@reserved\n",
    "        -2@packet_number_length\n",
    "        -32@version\n",
    "        -8@destination_connection_id()\n",
    "        -8@source_connection_id()\n",
    "    )\n",
    ")\n",
    ":1==0?(\n",
    "    1@fixed_bit=1\n",
    "    -2long_packet_type\n",
    "    -4@type_specific_bits\n",
    "    -32@version\n",
    "    -8@destination_connection_id()\n",
    "    -8@source_connection_id()\n",
    ")\n",
    "\"\"\""
   ]
  },
  {
   "cell_type": "code",
   "execution_count": 112,
   "metadata": {},
   "outputs": [],
   "source": [
    "client_hello_spec = \"\"\"\n",
    "8==1?24@client_hello(\n",
    "    16@version\n",
    "    -32B@random\n",
    "    -8@session_id()\n",
    "    -16@suites(...16)\n",
    "    -8@compression()\n",
    "    -16@extensions(\n",
    "        ...(\n",
    "            16==0?16@ext_server_name(\n",
    "                16@data(\n",
    "                    8@name_type\n",
    "                    -16@host_name()\n",
    "                )\n",
    "            )\n",
    "            :16==5?16@ext_status_request(\n",
    "                8@status_type\n",
    "                -16@responder_id_list\n",
    "                -16@request_extensions\n",
    "            )\n",
    "            :16==10?16@ext_supported_curves(\n",
    "                16@data(...16)\n",
    "            )\n",
    "            :16==11?16@ext_supported_points(\n",
    "                8@supported_points()\n",
    "            )\n",
    "            :16==35?16@ext_session_tickets()\n",
    "            :16==13?16@ext_signature_algorithms(\n",
    "                16@data(...16)\n",
    "            )\n",
    "            :16==50?16@ext_signature_algorithms_cert(\n",
    "                16@data(...16)\n",
    "            )\n",
    "            :16==0xff01?16@ext_renegotiation_info(\n",
    "                8@secure_renegotitation()\n",
    "            )\n",
    "            :16==16?16@ext_alpn(\n",
    "                16@alpn_protocols(...8())\n",
    "            )\n",
    "            :16==43?16@ext_suppoerted_versions(\n",
    "                8@supported_versions(...16)\n",
    "            )\n",
    "            :16==44?16@ext_cookie(\n",
    "                16@cookie()\n",
    "            )\n",
    "            :16==51?16@ext_key_share(\n",
    "                16@key_shares(\n",
    "                    ...(\n",
    "                        16@group\n",
    "                        -16@data()\n",
    "                    )\n",
    "                )\n",
    "            )\n",
    "            :16==18?16@ext_sct(\n",
    "                16@scts(\n",
    "                    ...16@data()\n",
    "                )\n",
    "            )\n",
    "            :16==24?16@ext_token_binding(\n",
    "\n",
    "            )\n",
    "            :16==42?16@empty()\n",
    "            :16==45?16@ext_psk_modes(\n",
    "                8@psk_modes()\n",
    "            )\n",
    "            :16==41?16@ext_pre_shared_key(\n",
    "                16@psk_identities(\n",
    "                    ...(\n",
    "                        16@label()\n",
    "                        -32@obfuscated_ticket_age\n",
    "                    )\n",
    "                )\n",
    "                -16@psk_binders(\n",
    "                    ...8()\n",
    "                )\n",
    "            )\n",
    "            :16@selector-16@raw_extension()\n",
    "        )\n",
    "    )\n",
    ")\"\"\"\n",
    "\n",
    "client_hello_packet_spec = \"\"\"\n",
    "8==22?16@tls_version-16@tls_handshake(%s)\n",
    "\"\"\"%client_hello_spec"
   ]
  },
  {
   "cell_type": "code",
   "execution_count": 113,
   "metadata": {},
   "outputs": [],
   "source": [
    "private_key = X25519PrivateKey.generate()\n",
    "\n",
    "public_key = private_key.public_key().public_bytes(serialization.Encoding.Raw, serialization.PublicFormat.Raw)"
   ]
  },
  {
   "cell_type": "code",
   "execution_count": 114,
   "metadata": {},
   "outputs": [],
   "source": [
    "transcript = hashes.Hash(hashes.SHA256())"
   ]
  },
  {
   "cell_type": "code",
   "execution_count": 115,
   "metadata": {},
   "outputs": [],
   "source": [
    "client_hello = {\n",
    "    'client_hello': {\n",
    "        'version': 0x0303,\n",
    "        'random': 0xab6618b2bf3898950c1f4820897760317c348c3b9c8288a05e436d4ba4631d9d,\n",
    "        'session_id': 0x130262b1ed623d15dae118905cde48936edcf578fa422d946c5285423d6234e6,\n",
    "        'suites': [0x1301],\n",
    "        'compression': 0x00,\n",
    "        'extensions': [\n",
    "            {\n",
    "                'ext_server_name': {\n",
    "                    'data': {\n",
    "                        'name_type': 0x00, 'host_name': \"www.google.com\"\n",
    "                    }\n",
    "                }, '_selector': 0x0000\n",
    "            },\n",
    "            {\n",
    "                'ext_status_request': {\n",
    "                    'status_type': 0x01, 'responder_id_list': 0x0000, 'request_extensions': 0x0000\n",
    "                },\n",
    "                '_selector': 0x0005\n",
    "            },\n",
    "            {\n",
    "                'ext_supported_curves': {\n",
    "                    'data': [0x001d]\n",
    "                }, '_selector': 0x000a\n",
    "            },\n",
    "            {\n",
    "                'ext_supported_points': {\n",
    "                    'supported_points': 0x00\n",
    "                }, '_selector': 0x000b\n",
    "            },\n",
    "            {\n",
    "                'ext_signature_algorithms': {\n",
    "                    'data': [0x0403]\n",
    "                }, '_selector': 0x000d\n",
    "            },\n",
    "            {\n",
    "                'ext_renegotiation_info': {\n",
    "                    'secure_renegotitation': ''\n",
    "                }, '_selector': 0xff01\n",
    "            },\n",
    "            {\n",
    "                'ext_alpn': {\n",
    "                    'alpn_protocols': [\"http/1.1\"]\n",
    "                }, '_selector': 0x0010\n",
    "            },\n",
    "            {\n",
    "                'ext_sct': '', '_selector': 0x0012\n",
    "            },\n",
    "            {\n",
    "                'ext_suppoerted_versions': {\n",
    "                    'supported_versions': [0x0304, 0x0303, 0x0302, 0x0301]\n",
    "                },\n",
    "                '_selector': 0x002b\n",
    "            },\n",
    "            {\n",
    "                'ext_key_share': {\n",
    "                    'key_shares': [\n",
    "                        {\n",
    "                            'group': 0x001d, 'data': public_key\n",
    "                        }\n",
    "                    ]\n",
    "                },\n",
    "                '_selector': 0x0033\n",
    "            }\n",
    "        ]\n",
    "    },\n",
    "    '_selector': 0x01\n",
    "}\n",
    "\n",
    "client_hello_packet = {\n",
    "    \"tls_version\": 0x0301,\n",
    "    \"tls_handshake\": client_hello,\n",
    "    \"_selector\": 22\n",
    "}"
   ]
  },
  {
   "cell_type": "code",
   "execution_count": 116,
   "metadata": {},
   "outputs": [
    {
     "data": {
      "text/plain": [
       "b'\\x16\\x03\\x01\\x00\\xd4\\x01\\x00\\x00\\xd0\\x03\\x03\\xabf\\x18\\xb2\\xbf8\\x98\\x95\\x0c\\x1fH \\x89w`1|4\\x8c;\\x9c\\x82\\x88\\xa0^CmK\\xa4c\\x1d\\x9d \\x13\\x02b\\xb1\\xedb=\\x15\\xda\\xe1\\x18\\x90\\\\\\xdeH\\x93n\\xdc\\xf5x\\xfaB-\\x94lR\\x85B=b4\\xe6\\x00\\x02\\x13\\x01\\x01\\x00\\x00\\x85\\x00\\x00\\x00\\x13\\x00\\x11\\x00\\x00\\x0ewww.google.com\\x00\\x05\\x00\\x05\\x01\\x00\\x00\\x00\\x00\\x00\\n\\x00\\x04\\x00\\x02\\x00\\x1d\\x00\\x0b\\x00\\x02\\x01\\x00\\x00\\r\\x00\\x04\\x00\\x02\\x04\\x03\\xff\\x01\\x00\\x01\\x00\\x00\\x10\\x00\\x0b\\x00\\t\\x08http/1.1\\x00\\x12\\x00\\x00\\x00+\\x00\\t\\x08\\x03\\x04\\x03\\x03\\x03\\x02\\x03\\x01\\x003\\x00&\\x00$\\x00\\x1d\\x00 \\xefi\\xb5\\xd8\\x9e\\xe5\\xdc\\r\\xa0\\xfd\\x87G\\x94\\x16p\\xf9\\x1b\\xb4B\\x91V\\xa8\\x1c\\xa8\\x89\\x9c\\xda\\xd9\\x9c\\xaf\\x9a!'"
      ]
     },
     "execution_count": 116,
     "metadata": {},
     "output_type": "execute_result"
    }
   ],
   "source": [
    "client_hello_encoded = public_construct(client_hello_packet_spec, client_hello_packet)\n",
    "client_hello_encoded"
   ]
  },
  {
   "cell_type": "code",
   "execution_count": 117,
   "metadata": {},
   "outputs": [],
   "source": [
    "transcript.update(client_hello_encoded[5:])"
   ]
  },
  {
   "cell_type": "code",
   "execution_count": 118,
   "metadata": {},
   "outputs": [],
   "source": [
    "sock.send(client_hello_encoded)"
   ]
  },
  {
   "cell_type": "code",
   "execution_count": 119,
   "metadata": {},
   "outputs": [],
   "source": [
    "def read_tls(sock):\n",
    "    header = bytearray(sock.read_len(5))\n",
    "    l = (header[3] << 8) + header[4]\n",
    "    body = sock.read_len(l)\n",
    "    return header + body"
   ]
  },
  {
   "cell_type": "code",
   "execution_count": 120,
   "metadata": {},
   "outputs": [],
   "source": [
    "server_hello_encoded = read_tls(sock)"
   ]
  },
  {
   "cell_type": "code",
   "execution_count": 121,
   "metadata": {},
   "outputs": [],
   "source": [
    "transcript.update(server_hello_encoded[5:])"
   ]
  },
  {
   "cell_type": "code",
   "execution_count": 122,
   "metadata": {},
   "outputs": [],
   "source": [
    "server_hello_spec = \"\"\"\n",
    "8==2?24@server_hello(\n",
    "    16@version\n",
    "    -32B@random\n",
    "    -8@session_id()\n",
    "    -16@suite\n",
    "    -8@compression\n",
    "    -16@extensions(\n",
    "        ...(\n",
    "            16==5?16@ext_status_request(\n",
    "                8@status_type\n",
    "                -16@responder_id_list\n",
    "                -16@request_extensions\n",
    "            )\n",
    "            :16==11?16@ext_supported_points(\n",
    "                8@supported_points()\n",
    "            )\n",
    "            :16==35?16@ext_session_tickets()\n",
    "            :16==0xff01?16@ext_renegotiation_info(\n",
    "                8@secure_renegotitation()\n",
    "            )\n",
    "            :16==16?16@ext_alpn(\n",
    "                16@alpn_protocols(8())\n",
    "            )\n",
    "            :16==18?16@ext_sct(\n",
    "                16@scts(\n",
    "                    ...16@data()\n",
    "                )\n",
    "            )\n",
    "            :16==43?16@ext_suppoerted_versions(\n",
    "                16@supported_versions\n",
    "            )\n",
    "            :16==44?16@ext_cookie(\n",
    "                16@cookie()\n",
    "            )\n",
    "            :16==51?16@ext_key_share(\n",
    "                16@group\n",
    "                -16@data()\n",
    "            )\n",
    "            :16==41?16@ext_pre_shared_key(\n",
    "                16@label()\n",
    "            )\n",
    "            :16==16?16@ext_alpn(\n",
    "                16@alpn(\n",
    "                    8@data()\n",
    "                )\n",
    "            )\n",
    "            :16@selector-16@raw_extension()\n",
    "        )\n",
    "    )\n",
    ")\n",
    "\"\"\"\n",
    "\n",
    "\n",
    "server_hello_packet_spec = \"\"\"\n",
    " 8==22?16@tls_version-16@tls_handshake(%s)\n",
    ":8==20?16@tls_version-16@change_cypher()\n",
    ":8==21?16@tls_version-16@alert()\n",
    ":8==23?16@tls_version-16@application_data()\n",
    "\"\"\"%server_hello_spec\n"
   ]
  },
  {
   "cell_type": "code",
   "execution_count": 123,
   "metadata": {},
   "outputs": [],
   "source": [
    "server_hello = public_match_exact(server_hello_packet_spec, server_hello_encoded)"
   ]
  },
  {
   "cell_type": "code",
   "execution_count": 124,
   "metadata": {},
   "outputs": [
    {
     "data": {
      "text/plain": [
       "{'tls_version': 0x0303,\n",
       " '_selector': 0x16,\n",
       " 'tls_handshake': {'server_hello': {'version': 0x0303,\n",
       "   'random': 0x29ef579c8aab89748fb6c50b49235e409a65b21281f6f04579ca96163b19798d,\n",
       "   'session_id': 0x130262b1ed623d15dae118905cde48936edcf578fa422d946c5285423d6234e6,\n",
       "   'suite': 0x1301,\n",
       "   'compression': 0x00,\n",
       "   'extensions': [{'ext_key_share': {'group': 0x001d,\n",
       "      'data': 0xc71704c192e0da854bfb18abe82134b4a6916c8ad5e55e23c9db9374f0199e35},\n",
       "     '_selector': 0x0033},\n",
       "    {'ext_suppoerted_versions': {'supported_versions': 0x0304},\n",
       "     '_selector': 0x002b}]},\n",
       "  '_selector': 0x02}}"
      ]
     },
     "execution_count": 124,
     "metadata": {},
     "output_type": "execute_result"
    }
   ],
   "source": [
    "server_hello"
   ]
  },
  {
   "cell_type": "code",
   "execution_count": 125,
   "metadata": {
    "scrolled": true
   },
   "outputs": [
    {
     "name": "stdout",
     "output_type": "stream",
     "text": [
      "found public key\n"
     ]
    }
   ],
   "source": [
    "server_public_key = None\n",
    "for extension in server_hello['tls_handshake']['server_hello']['extensions']:\n",
    "    if 'ext_key_share' in extension:\n",
    "        print(\"found public key\")\n",
    "        server_public_key = extension['ext_key_share']['data'].bytes()\n",
    "        break\n",
    "    else:\n",
    "        raise RuntimeError(\"unable to find server public key\")\n"
   ]
  },
  {
   "cell_type": "code",
   "execution_count": 126,
   "metadata": {},
   "outputs": [
    {
     "name": "stdout",
     "output_type": "stream",
     "text": [
      "calculated shared key b'\\x83=\\x83\\xe2\\xdc\\xfd\\x9c\\xd9\\x98\\xceb\\x8eX\"\\xc3\\xfaG9\\x10\\xb2\\x89\\xd8\"\\xafE}$\\xcd\\xcc\\x1a\\x9a/'\n"
     ]
    }
   ],
   "source": [
    "shared_key = private_key.exchange(X25519PublicKey.from_public_bytes(server_public_key))\n",
    "print(\"calculated shared key\", shared_key)"
   ]
  },
  {
   "cell_type": "code",
   "execution_count": 127,
   "metadata": {},
   "outputs": [],
   "source": [
    "server_change_cipher_encoded = read_tls(sock)"
   ]
  },
  {
   "cell_type": "code",
   "execution_count": 128,
   "metadata": {},
   "outputs": [
    {
     "data": {
      "text/plain": [
       "{'tls_version': 0x0303, '_selector': 0x14, 'change_cypher': 0x01}"
      ]
     },
     "execution_count": 128,
     "metadata": {},
     "output_type": "execute_result"
    }
   ],
   "source": [
    "server_change_cipher = public_match_exact(server_hello_packet_spec, server_change_cipher_encoded)\n",
    "server_change_cipher"
   ]
  },
  {
   "cell_type": "code",
   "execution_count": 129,
   "metadata": {},
   "outputs": [],
   "source": [
    "sock.send(server_change_cipher_encoded)"
   ]
  },
  {
   "cell_type": "code",
   "execution_count": 130,
   "metadata": {},
   "outputs": [],
   "source": [
    "def get_info(label, length, context=b''):\n",
    "    return b'\\x00' + bytearray((length, len(b'tls13 '+label),)) + b'tls13 ' + label + bytearray((len(context),)) + context\n",
    "\n",
    "def extract(secret, salt):\n",
    "    return HKDF(hashes.SHA256(), 32, salt, b'')._extract(secret)    \n",
    "    \n",
    "def derive(secret, label, prev=None):\n",
    "    context = get_hash(prev)\n",
    "    return expand(secret, label, 32, context)\n",
    "    \n",
    "def expand(secret, label, l, context=b''):\n",
    "    return HKDFExpand(hashes.SHA256(), l, get_info(label, l, context)).derive(secret)\n",
    "\n",
    "def get_hash(prev):\n",
    "    if prev is None:\n",
    "        prev = hashes.Hash(hashes.SHA256())\n",
    "    c = prev.copy()\n",
    "    return c.finalize()\n",
    "\n",
    "def finished_hash(secret, prev=None):\n",
    "    finished_key = expand(secret, b'finished', 32)\n",
    "    context = get_hash(prev)\n",
    "    h = HMAC(finished_key, hashes.SHA256())\n",
    "    h.update(context)\n",
    "    return h.finalize()\n",
    "    "
   ]
  },
  {
   "cell_type": "code",
   "execution_count": 131,
   "metadata": {},
   "outputs": [],
   "source": [
    "early_secret = extract(b'\\0'*32, None)\n",
    "\n",
    "extractor = derive(early_secret, b\"derived\")\n",
    "\n",
    "handshake_secret = extract(shared_key, extractor)"
   ]
  },
  {
   "cell_type": "code",
   "execution_count": 132,
   "metadata": {},
   "outputs": [],
   "source": [
    "server_handshake_secret = derive(handshake_secret, b\"s hs traffic\", transcript)\n",
    "\n",
    "server_handshake_key = expand(server_handshake_secret, b'key', 16)\n",
    "server_handshake_nonce = (expand(server_handshake_secret, b'iv', 12), 0)"
   ]
  },
  {
   "cell_type": "code",
   "execution_count": 133,
   "metadata": {},
   "outputs": [],
   "source": [
    "client_handshake_secret = derive(handshake_secret, b\"c hs traffic\", transcript)\n",
    "\n",
    "client_handshake_key = expand(client_handshake_secret, b'key', 16)\n",
    "client_handshake_nonce = (expand(client_handshake_secret, b'iv', 12), 0)"
   ]
  },
  {
   "cell_type": "code",
   "execution_count": 134,
   "metadata": {},
   "outputs": [],
   "source": [
    "server_cert_encrypted_encoded = read_tls(sock)"
   ]
  },
  {
   "cell_type": "code",
   "execution_count": 135,
   "metadata": {},
   "outputs": [
    {
     "data": {
      "text/plain": [
       "{'tls_version': 0x0303,\n",
       " '_selector': 0x17,\n",
       " 'application_data': 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}"
      ]
     },
     "execution_count": 135,
     "metadata": {},
     "output_type": "execute_result"
    }
   ],
   "source": [
    "server_cert_encrypted = public_match_exact(server_hello_packet_spec, server_cert_encrypted_encoded)\n",
    "server_cert_encrypted"
   ]
  },
  {
   "cell_type": "code",
   "execution_count": 136,
   "metadata": {},
   "outputs": [],
   "source": [
    "def update_nonce(nonce):\n",
    "    return (nonce[0], nonce[1]+1)\n",
    "\n",
    "def get_nonce(nonce):\n",
    "    return bytes(a ^ b for a, b in zip(nonce[0], nonce[1].to_bytes(len(nonce[0]), 'big')))"
   ]
  },
  {
   "cell_type": "code",
   "execution_count": 137,
   "metadata": {},
   "outputs": [],
   "source": [
    "def decrypt_packet(packet, key, nonce):\n",
    "    packet = bytes(packet)\n",
    "    cipher = AESGCM(key)\n",
    "    all_server_cert_packet = cipher.decrypt(get_nonce(nonce), packet[5:], packet[:5])\n",
    "    server_cert_packet, server_cert_packet_suffix = all_server_cert_packet[:-1], all_server_cert_packet[-1]\n",
    "    return server_cert_packet, server_cert_packet_suffix, update_nonce(nonce)\n",
    "\n",
    "def encrypt_packet(packet, suffix, key, nonce):\n",
    "    app_header_spec = \"8@packet_type-16@tls_version-16@application_data_length\"\n",
    "\n",
    "    raw_packet = packet + suffix\n",
    "\n",
    "    header_encoded = public_construct(app_header_spec, {\n",
    "        \"packet_type\": 23,\n",
    "        \"tls_version\": 0x0303,\n",
    "        \"application_data_length\": len(raw_packet) + 16,\n",
    "    })\n",
    "\n",
    "    \n",
    "    cipher = AESGCM(key)\n",
    "    encrypted_app_data = cipher.encrypt(get_nonce(nonce), raw_packet, header_encoded)\n",
    "    packet = header_encoded + encrypted_app_data\n",
    "    return packet, update_nonce(nonce)"
   ]
  },
  {
   "cell_type": "code",
   "execution_count": 138,
   "metadata": {},
   "outputs": [
    {
     "name": "stdout",
     "output_type": "stream",
     "text": [
      "22\n"
     ]
    },
    {
     "data": {
      "text/plain": [
       "b'\\x08\\x00\\x00\\x11\\x00\\x0f\\x00\\x10\\x00\\x0b\\x00\\t\\x08http/1.1\\x0b\\x00\\x0f\\x9d\\x00\\x00\\x0f\\x99\\x00\\x04\\x8a0\\x82\\x04\\x860\\x82\\x03n\\xa0\\x03\\x02\\x01\\x02\\x02\\x10$Wu\\xfe\\xc4S\\xb4\\xb0\\n\\x00\\x00\\x00\\x00\\xfff\\x0b0\\r\\x06\\t*\\x86H\\x86\\xf7\\r\\x01\\x01\\x0b\\x05\\x000F1\\x0b0\\t\\x06\\x03U\\x04\\x06\\x13\\x02US1\"0 \\x06\\x03U\\x04\\n\\x13\\x19Google Trust Services LLC1\\x130\\x11\\x06\\x03U\\x04\\x03\\x13\\nGTS CA 1C30\\x1e\\x17\\r210913040713Z\\x17\\r211120040712Z0\\x191\\x170\\x15\\x06\\x03U\\x04\\x03\\x13\\x0ewww.google.com0Y0\\x13\\x06\\x07*\\x86H\\xce=\\x02\\x01\\x06\\x08*\\x86H\\xce=\\x03\\x01\\x07\\x03B\\x00\\x04O\\xb7\\x02\\xc1\\xaaV\\xb5\\xa2a`\\xc7\\x04\\x9fl)65\\xd9K\\xc9\\x9b3e\\xb0\\xe4qUY\\xa6\\n\\x98X\\xcb\\xebq\\xde\\xcd\\x06\\xd5\\xdf\\xbb\\x8dcX\\xca.Z\\xca\\xd2\\x8b\\xd7\\x0e\\x9c\\xb2\\xe3\\xcbdK@\\xb2\\x90\\'^3\\xa3\\x82\\x02f0\\x82\\x02b0\\x0e\\x06\\x03U\\x1d\\x0f\\x01\\x01\\xff\\x04\\x04\\x03\\x02\\x07\\x800\\x13\\x06\\x03U\\x1d%\\x04\\x0c0\\n\\x06\\x08+\\x06\\x01\\x05\\x05\\x07\\x03\\x010\\x0c\\x06\\x03U\\x1d\\x13\\x01\\x01\\xff\\x04\\x020\\x000\\x1d\\x06\\x03U\\x1d\\x0e\\x04\\x16\\x04\\x14bz\\x0b\\xc0\\x8d\\x9f\\x13\\x9c\\x9e\\x97\\x88\\r\\x93\\xc1\\xdeN\\x10\\xa9\\x91\\xfc0\\x1f\\x06\\x03U\\x1d#\\x04\\x180\\x16\\x80\\x14\\x8at\\x7f\\xaf\\x85\\xcd\\xee\\x95\\xcd=\\x9c\\xd0\\xe2F\\x14\\xf3q5\\x1d\\'0j\\x06\\x08+\\x06\\x01\\x05\\x05\\x07\\x01\\x01\\x04^0\\\\0\\'\\x06\\x08+\\x06\\x01\\x05\\x05\\x070\\x01\\x86\\x1bhttp://ocsp.pki.goog/gts1c301\\x06\\x08+\\x06\\x01\\x05\\x05\\x070\\x02\\x86%http://pki.goog/repo/certs/gts1c3.der0\\x19\\x06\\x03U\\x1d\\x11\\x04\\x120\\x10\\x82\\x0ewww.google.com0!\\x06\\x03U\\x1d \\x04\\x1a0\\x180\\x08\\x06\\x06g\\x81\\x0c\\x01\\x02\\x010\\x0c\\x06\\n+\\x06\\x01\\x04\\x01\\xd6y\\x02\\x05\\x030<\\x06\\x03U\\x1d\\x1f\\x0450301\\xa0/\\xa0-\\x86+http://crls.pki.goog/gts1c3/fVJxbV-Ktmk.crl0\\x82\\x01\\x03\\x06\\n+\\x06\\x01\\x04\\x01\\xd6y\\x02\\x04\\x02\\x04\\x81\\xf4\\x04\\x81\\xf1\\x00\\xef\\x00u\\x00\\\\\\xdcC\\x92\\xfe\\xe6\\xabED\\xb1^\\x9a\\xd4V\\xe6\\x107\\xfb\\xd5\\xfaG\\xdc\\xa1s\\x94\\xb2^\\xe6\\xf6\\xc7\\x0e\\xca\\x00\\x00\\x01{\\xdd\\x8d[@\\x00\\x00\\x04\\x03\\x00F0D\\x02 ~\\xa6\\x10\\xb9\\xf6Z*\\x0b6\\xc6\\x9b\\xba\\xf2\\x08\\x9a-\\xd8\\x04\\xca\\x020wQ}i\\xc4.Q\\xbbW\\xdc*\\x02 j\\xb2\\x97@j\\xa3\\xfaw>\\xbfwuHu 9\\xeb\"\\xd0\\xc4P1=U\\xb4sF\\xe7|\\x1b%X\\x00v\\x00}>\\xf2\\xf8\\x8f\\xff\\x88Uh$\\xc2\\xc0\\xca\\x9eR\\x89y+\\xc5\\x0ex\\t\\x7f.j\\x97h\\x99~\"\\xf0\\xd7\\x00\\x00\\x01{\\xdd\\x8d[R\\x00\\x00\\x04\\x03\\x00G0E\\x02!\\x00\\xc3Q7\\xe0\\x86\\xa4\\xd8i=\\x98\\xdf\\x13\\x02@.\\xa0oC\\xa2\\xbe\\xba\\xe1\\xfc\\\\A\\n\\xeb\\x85\\x9a;\\xa1\\x84\\x02 \\x0f6\\xb5\\x17\\x0f3>\\xc2\\xab\\x86\\x17\\xa2\\x87\\x19\\xde\\x08\\x12\\x9e\\xd1\\x96\\xac\\xc2\\xc3\\xb4T(re\\xa3\\xea>q0\\r\\x06\\t*\\x86H\\x86\\xf7\\r\\x01\\x01\\x0b\\x05\\x00\\x03\\x82\\x01\\x01\\x00\\x9f\\xc9Z\\\\\\xa0$E\\xb6\\xb1HOn\\xbd\\xc6\\xac\\'P\\x9f\"\\xef3b\\x82BEo\\x0e\\x1c\\x92dw\\x92\\xd4KN&)_>\\x82W\\xc7\\x88\\x93k\\x96\\xc3\\xdb\\x00V\\xc6\\xf8 \\xa9\\xb4\\xbd\\xf6\\x1d9\\x82\\xeb\\xd5q\\xaa9+\\x80\\xc4F\\xf3\\xd6\\x82\\xea%\\x19\\x90b\\xd6\\x1f\\x16\\xa3\\xc4\\x81\\x17\\x8c\\x0f%\\xc0\\xab\\xe6\\xf1\\xd8j&\\xc0[\\x85\\xf7R\\xa8\\xf2\\x17r\\xb6\\xfe\\x8bl\\xcb\\xc7)\\xd5C<\\xe3>>\\xbc+C\\xa6\\xb4\\xdeWA\\xa5\\x03@?\\xb7\\xc4R\\xc5\\x9f\\x90z\\xeb\\xcb|\\x83\\xd6M=yQ\\xf3FJt\\x1c\\r\\xfc\\rQ\\xdb/\\xa3\\xda\\xf1h\\xbb\\x93I\\xd6\\x90\\xca*)\\xd0\\xcc\\xb6\\x19\\x8a=Blv\\x0f\\xadc;\\xb0:\\xa9H\\x80\\x01\\xed\\x92q\\x85\\x14)\\x85\\x14\\x05\\x12zy:\\x07\\x15\\x1d\"\\xd2\\xc7*5z\\xd7\\x1d\\x87\\x88jCQ\\x96ub\\xf7\\xf7\\x9f\\x17\\xca\\xa0\\x16`|\\n\\x9f\\xbfF\\xfdYA**\\xa9\\x19\\xe8jm\\xca\\x9dVSL8\\xd8\\xc0\\t\\x16\\x0b&\\x13\\x7fI\\x00\\x00\\x00\\x05\\x9a0\\x82\\x05\\x960\\x82\\x03~\\xa0\\x03\\x02\\x01\\x02\\x02\\r\\x02\\x03\\xbcSYk4\\xc7\\x18\\xf5\\x01Pf0\\r\\x06\\t*\\x86H\\x86\\xf7\\r\\x01\\x01\\x0b\\x05\\x000G1\\x0b0\\t\\x06\\x03U\\x04\\x06\\x13\\x02US1\"0 \\x06\\x03U\\x04\\n\\x13\\x19Google Trust Services LLC1\\x140\\x12\\x06\\x03U\\x04\\x03\\x13\\x0bGTS Root R10\\x1e\\x17\\r200813000042Z\\x17\\r270930000042Z0F1\\x0b0\\t\\x06\\x03U\\x04\\x06\\x13\\x02US1\"0 \\x06\\x03U\\x04\\n\\x13\\x19Google Trust Services LLC1\\x130\\x11\\x06\\x03U\\x04\\x03\\x13\\nGTS CA 1C30\\x82\\x01\"0\\r\\x06\\t*\\x86H\\x86\\xf7\\r\\x01\\x01\\x01\\x05\\x00\\x03\\x82\\x01\\x0f\\x000\\x82\\x01\\n\\x02\\x82\\x01\\x01\\x00\\xf5\\x88\\xdf\\xe7b\\x8c\\x1e7\\xf87B\\x90\\x7fl\\x87\\xd0\\xfbe\\x82%\\xfd\\xe8\\xcbk\\xa4\\xffm\\xe9Z#\\xe2\\x99\\xf6\\x1c\\xe9\\x92\\x03\\x99\\x13|\\t\\n\\x8a\\xfaB\\xd6^V$\\xaaz3\\x84\\x1f\\xd1\\xe9i\\xbb\\xb9t\\xecWLfh\\x93w7US\\xfe9\\x10M\\xb74\\xbb_%w7;\\x17\\x94\\xea<\\xe5\\x9d\\xd5\\xbc\\xc3\\xb4C\\xeb.\\xa7G\\xef\\xb0D\\x11c\\xd8\\xb4A\\x85\\xddA0H\\x93\\x1b\\xbf\\xb7\\xf6\\xe0E\\x02!\\xe0\\x96B\\x17\\xcf\\xd9+eV4\\x07&\\x04\\r\\xa8\\xfd}\\xca.\\xef\\xeaH|7M?\\x00\\x9f\\x83\\xdf\\xefu\\x84.yW\\\\\\xfcWn\\x1a\\x96\\xff\\xfc\\x8c\\x9a\\xa6\\x99\\xbe%\\xd9\\x7f\\x96,\\x06\\xf7\\x11*\\x02\\x80\\x80\\xebc\\x18<PI\\x87\\xe5\\x8a\\xca_\\x19+Y\\x96\\x81\\x00\\xa0\\xfbQ\\xdb\\xcaw\\x0b\\x0b\\xc9\\x96O\\xefpI\\xc7\\\\m \\xfd\\x99\\xb4\\xb4\\xe2\\xca.w\\xfd-\\xdc\\x0b\\xb6k\\x13\\x0c\\x8c\\x19+\\x17\\x96\\x98\\xb9\\xf0\\x8b\\xf6\\xa0\\'\\xbb\\xb6\\xe3\\x8dQ\\x8f\\xbd\\xae\\xc7\\x9b\\xb1\\x89\\x9d\\x02\\x03\\x01\\x00\\x01\\xa3\\x82\\x01\\x800\\x82\\x01|0\\x0e\\x06\\x03U\\x1d\\x0f\\x01\\x01\\xff\\x04\\x04\\x03\\x02\\x01\\x860\\x1d\\x06\\x03U\\x1d%\\x04\\x160\\x14\\x06\\x08+\\x06\\x01\\x05\\x05\\x07\\x03\\x01\\x06\\x08+\\x06\\x01\\x05\\x05\\x07\\x03\\x020\\x12\\x06\\x03U\\x1d\\x13\\x01\\x01\\xff\\x04\\x080\\x06\\x01\\x01\\xff\\x02\\x01\\x000\\x1d\\x06\\x03U\\x1d\\x0e\\x04\\x16\\x04\\x14\\x8at\\x7f\\xaf\\x85\\xcd\\xee\\x95\\xcd=\\x9c\\xd0\\xe2F\\x14\\xf3q5\\x1d\\'0\\x1f\\x06\\x03U\\x1d#\\x04\\x180\\x16\\x80\\x14\\xe4\\xaf+&q\\x1a+H\\'\\x85/Rf,\\xef\\xf0\\x89\\x13q>0h\\x06\\x08+\\x06\\x01\\x05\\x05\\x07\\x01\\x01\\x04\\\\0Z0&\\x06\\x08+\\x06\\x01\\x05\\x05\\x070\\x01\\x86\\x1ahttp://ocsp.pki.goog/gtsr100\\x06\\x08+\\x06\\x01\\x05\\x05\\x070\\x02\\x86$http://pki.goog/repo/certs/gtsr1.der04\\x06\\x03U\\x1d\\x1f\\x04-0+0)\\xa0\\'\\xa0%\\x86#http://crl.pki.goog/gtsr1/gtsr1.crl0W\\x06\\x03U\\x1d \\x04P0N08\\x06\\n+\\x06\\x01\\x04\\x01\\xd6y\\x02\\x05\\x030*0(\\x06\\x08+\\x06\\x01\\x05\\x05\\x07\\x02\\x01\\x16\\x1chttps://pki.goog/repository/0\\x08\\x06\\x06g\\x81\\x0c\\x01\\x02\\x010\\x08\\x06\\x06g\\x81\\x0c\\x01\\x02\\x020\\r\\x06\\t*\\x86H\\x86\\xf7\\r\\x01\\x01\\x0b\\x05\\x00\\x03\\x82\\x02\\x01\\x00\\x89}\\xac \\\\\\x0c<\\xbe\\x9a\\xa8W\\x95\\x1b\\xb4\\xae\\xfa\\xab\\xa5rq\\xb46\\x95\\xfd\\xdf@\\x11\\x03L\\xc2F\\x14\\xbb\\x14$\\xab\\xf0Pq\"\\xdb\\xad\\xc4n\\x7f\\xcf\\xf1jo\\xc8\\x83\\x1b\\xd8\\xce\\x89_\\x87l\\x87\\xb8\\xa9\\x0c\\xa3\\x9b\\xa1b\\x94\\x93\\x95\\xdf[\\xaef\\x19\\x0b\\x02\\x96\\x9e\\xfc\\xb5\\xe7\\x10i>z\\xcbFI_F\\xe1A\\xb1\\xd7\\x98Me4\\x00\\x80\\x1a?O\\x9fl\\x7fI\\x00\\x81SA\\xa4\\x92!\\x82\\x82\\x1a\\xf1\\xa3D[*P\\x12\\x13M\\xc1S6\\xf3B\\x08\\xafT\\xfa\\x8ewS\\x1bd8\\'\\x17\\t\\xbdX\\xc9\\x1b|9-[\\xf3\\xce\\xd4\\xed\\x97\\xdb\\x14\\x03\\xbf\\tS$\\x1f\\xc2\\x0c\\x04y\\x98&\\xf2a\\xf1SR\\xfdB\\x8c\\x1bf+?\\x15\\xa1\\xbb\\xff\\xf6\\x9b\\xe3\\x81\\x9a\\x01\\x06q\\x895($\\xdd\\xe1\\xbd\\xeb\\x19-\\xe1H\\xcb=Y\\x83Q\\xb4t\\xc6\\x9d|\\xc6\\xb1\\x86[\\xaf\\xcc4\\xc4\\xd3\\xcc\\xd4\\x81\\x11\\x95\\x00\\xa1\\xf4\\x12\"\\x01\\xfa\\xb4\\x83q\\xaf\\x8c\\xb7\\x8cs$\\xac7S\\xc2\\x00\\x90?\\x11\\xfe\\\\\\xed6\\x94\\x10;\\xbd)\\xae\\xe2\\xc7:b;lc\\xd9\\x80\\xbfYq\\xacc\\'\\xb9L\\x17\\xa0\\xda\\xf6s\\x15\\xbf*\\xde\\x8f\\xf3\\xa5l2\\x813\\x03\\xd0\\x86Qq\\x994\\xba\\x93\\x8d]\\xb5QX\\xf7\\xb2\\x93\\xe8\\x01\\xf6Y\\xbeq\\x9b\\xfdM(\\xce\\xcfm\\xc7\\x16\\xdc\\xf7\\xd1\\xd6F\\x9b\\xa7\\xcak\\xe9w\\x0f\\xfd\\xa0\\xb6\\x1b#\\x83\\x1d\\x10\\x1a\\xd9\\t\\x00\\x84\\xe0D\\xd3\\xa2u#\\xb34\\x86\\xf6 \\xb0\\xa4^\\x10\\x1d\\xe0RF\\x00\\x9d\\xb1\\x0f\\x1f!pQ\\xf5\\x9a\\xdd\\x06\\xfcU\\xf4+\\x0e3w\\xc3KB\\xc2\\xf1w\\x13\\xfcs\\x80\\x94\\xeb\\x1f\\xbb7?\\xce\\x02*f\\xb0s\\x1d2\\xa52l2\\xb0\\x8e\\xe0\\xc4#\\xff[}Mep\\xac+\\x9b=\\xce\\xdb\\xe0m\\x8e2\\x80\\xbe\\x96\\x9f\\x92c\\xbc\\x97\\xbb]\\xb9\\xf4\\xe1q^*\\xe4\\xef\\x03\"\\xb1\\x8ae:\\x8f\\xc0\\x93e\\xd4\\x85\\xcd\\x0f\\x0f[\\x83Y\\x16G\\x16-\\x9c$:\\xc8\\x80\\xa6&\\x14\\x85\\x9b\\xf67\\x9b\\xaco\\xf9\\xc5\\xc3\\x06Q\\xf3\\xe2\\x7f\\xc5\\xb1\\x10\\xbaQ\\xf4\\xdd\\x00\\x00\\x00\\x05f0\\x82\\x05b0\\x82\\x04J\\xa0\\x03\\x02\\x01\\x02\\x02\\x10w\\xbd\\rl\\xdb6\\xf9\\x1a\\xea!\\x0f\\xc4\\xf0X\\xd3\\r0\\r\\x06\\t*\\x86H\\x86\\xf7\\r\\x01\\x01\\x0b\\x05\\x000W1\\x0b0\\t\\x06\\x03U\\x04\\x06\\x13\\x02BE1\\x190\\x17\\x06\\x03U\\x04\\n\\x13\\x10GlobalSign nv-sa1\\x100\\x0e\\x06\\x03U\\x04\\x0b\\x13\\x07Root CA1\\x1b0\\x19\\x06\\x03U\\x04\\x03\\x13\\x12GlobalSign Root CA0\\x1e\\x17\\r200619000042Z\\x17\\r280128000042Z0G1\\x0b0\\t\\x06\\x03U\\x04\\x06\\x13\\x02US1\"0 \\x06\\x03U\\x04\\n\\x13\\x19Google Trust Services LLC1\\x140\\x12\\x06\\x03U\\x04\\x03\\x13\\x0bGTS Root R10\\x82\\x02\"0\\r\\x06\\t*\\x86H\\x86\\xf7\\r\\x01\\x01\\x01\\x05\\x00\\x03\\x82\\x02\\x0f\\x000\\x82\\x02\\n\\x02\\x82\\x02\\x01\\x00\\xb6\\x11\\x02\\x8b\\x1e\\xe3\\xa1w\\x9b;\\xdc\\xbf\\x94>\\xb7\\x95\\xa7@<\\xa1\\xfd\\x82\\xf9}2\\x06\\x82q\\xf6\\xf6\\x8c\\x7f\\xfb\\xe8\\xdb\\xbcj.\\x97\\x97\\xa3\\x8cK\\xf9+\\xf6\\xb1\\xf9\\xce\\x84\\x1d\\xb1\\xf9\\xc5\\x97\\xde\\xef\\xb9\\xf2\\xa3\\xe9\\xbc\\x12\\x89^\\xa7\\xaaR\\xab\\xf8#\\'\\xcb\\xa4\\xb1\\x9cc\\xdb\\xd7\\x99~\\xf0\\n^\\xebh\\xa6\\xf4\\xc6ZG\\rM\\x103\\xe3N\\xb1\\x13\\xa3\\xc8\\x18lK\\xec\\xfc\\t\\x90\\xdf\\x9dd)%#\\x07\\xa1\\xb4\\xd2=.`\\xe0\\xcf\\xd2\\t\\x87\\xbb\\xcdH\\xf0M\\xc2\\xc2z\\x88\\x8a\\xbb\\xba\\xcfY\\x19\\xd6\\xaf\\x8f\\xb0\\x07\\xb0\\x9e1\\xf1\\x82\\xc1\\xc0\\xdf.\\xa6ml\\x19\\x0e\\xb5\\xd8~&\\x1aE\\x03=\\xb0y\\xa4\\x94(\\xad\\x0f\\x7f&\\xe5\\xa8\\x08\\xfe\\x96\\xe8<h\\x94S\\xee\\x83:\\x88+\\x15\\x96\\t\\xb2\\xe0z\\x8c.u\\xd6\\x9c\\xeb\\xa7Vd\\x8f\\x96Oh\\xae=\\x97\\xc2\\x84\\x8f\\xc0\\xbc@\\xc0\\x0b\\\\\\xbd\\xf6\\x87\\xb35l\\xac\\x18P\\x7f\\x84\\xe0L\\xcd\\x92\\xd3 \\xe93\\xbcR\\x99\\xaf2\\xb5)\\xb3%*\\xb4H\\xf9r\\xe1\\xcad\\xf7\\xe6\\x82\\x10\\x8d\\xe8\\x9d\\xc2\\x8a\\x88\\xfa8f\\x8a\\xfcc\\xf9\\x01\\xf9x\\xfd{\\\\w\\xfav\\x87\\xfa\\xec\\xdf\\xb1\\x0ey\\x95W\\xb4\\xbd&\\xef\\xd6\\x01\\xd1\\xeb\\x16\\n\\xbb\\x8e\\x0b\\xb5\\xc5\\xc5\\x8aU\\xab\\xd3\\xac\\xea\\x91K)\\xcc\\x19\\xa42%N*\\xf1eD\\xd0\\x02\\xce\\xaa\\xceI\\xb4\\xea\\x9f|\\x83\\xb0@{\\xe7C\\xab\\xa7l\\xa3\\x8f}\\x89\\x81\\xfaL\\xa5\\xff\\xd5\\x8e\\xc3\\xceK\\xe0\\xb5\\xd8\\xb3\\x8eE\\xcfv\\xc0\\xed@+\\xfdS\\x0f\\xb0\\xa7\\xd5;\\r\\xb1\\x8a\\xa2\\x03\\xde1\\xad\\xccw\\xeao{>\\xd6\\xdf\\x91\"\\x12\\xe6\\xbe\\xfa\\xd82\\xfc\\x10c\\x14Qr\\xde]\\xd6\\x16\\x93\\xbd)h3\\xef:f\\xec\\x07\\x8a&\\xdf\\x13\\xd7Wex\\'\\xde^I\\x14\\x00\\xa2\\x00\\x7f\\x9a\\xa8!\\xb6\\xa9\\xb1\\x95\\xb0\\xa5\\xb9\\r\\x16\\x11\\xda\\xc7lH<@\\xe0~\\rZ\\xcdV<\\xd1\\x97\\x05\\xb9\\xcbK\\xed9K\\x9c\\xc4?\\xd2U\\x13n$\\xb0\\xd6q\\xfa\\xf4\\xc1\\xba\\xcc\\xed\\x1b\\xf5\\xfe\\x81A\\xd8\\x00\\x98=:\\xc8\\xaez\\x987\\x18\\x05\\x95\\x02\\x03\\x01\\x00\\x01\\xa3\\x82\\x0180\\x82\\x0140\\x0e\\x06\\x03U\\x1d\\x0f\\x01\\x01\\xff\\x04\\x04\\x03\\x02\\x01\\x860\\x0f\\x06\\x03U\\x1d\\x13\\x01\\x01\\xff\\x04\\x050\\x03\\x01\\x01\\xff0\\x1d\\x06\\x03U\\x1d\\x0e\\x04\\x16\\x04\\x14\\xe4\\xaf+&q\\x1a+H\\'\\x85/Rf,\\xef\\xf0\\x89\\x13q>0\\x1f\\x06\\x03U\\x1d#\\x04\\x180\\x16\\x80\\x14`{f\\x1aE\\r\\x97\\xca\\x89P/}\\x04\\xcd4\\xa8\\xff\\xfc\\xfdK0`\\x06\\x08+\\x06\\x01\\x05\\x05\\x07\\x01\\x01\\x04T0R0%\\x06\\x08+\\x06\\x01\\x05\\x05\\x070\\x01\\x86\\x19http://ocsp.pki.goog/gsr10)\\x06\\x08+\\x06\\x01\\x05\\x05\\x070\\x02\\x86\\x1dhttp://pki.goog/gsr1/gsr1.crt02\\x06\\x03U\\x1d\\x1f\\x04+0)0\\'\\xa0%\\xa0#\\x86!http://crl.pki.goog/gsr1/gsr1.crl0;\\x06\\x03U\\x1d \\x044020\\x08\\x06\\x06g\\x81\\x0c\\x01\\x02\\x010\\x08\\x06\\x06g\\x81\\x0c\\x01\\x02\\x020\\r\\x06\\x0b+\\x06\\x01\\x04\\x01\\xd6y\\x02\\x05\\x03\\x020\\r\\x06\\x0b+\\x06\\x01\\x04\\x01\\xd6y\\x02\\x05\\x03\\x030\\r\\x06\\t*\\x86H\\x86\\xf7\\r\\x01\\x01\\x0b\\x05\\x00\\x03\\x82\\x01\\x01\\x004\\xa4\\x1e\\xb1(\\xa3\\xd0\\xb4v\\x17\\xa61z!\\xe9\\xd1R>\\xc8\\xdbt\\x16A\\x88\\xb8=5\\x1d\\xed\\xe4\\xff\\x93\\xe1\\\\_\\xab\\xbb\\xea|\\xcf\\xdb\\xe4\\r\\xd1\\x8bW\\xf2&o[\\xbe\\x17Fh\\x947okz\\xc8\\xc0\\x187\\xfa%Q\\xac\\xech\\xbf\\xb2\\xc8I\\xfdZ\\x9a\\xca\\x01#\\xac\\x84\\x80+\\x02\\x8c\\x99\\x97\\xebIj\\x8cu\\xd7\\xc7\\xde\\xb2\\xc9\\x97\\x9fXHW\\x0e5\\xa1\\xe4\\x1a\\xd6\\xfdo\\x83\\x81o\\xef\\x8c\\xcf\\x97\\xaf\\xc0\\x85*\\xf0\\xf5Ni\\t\\x91-\\xe1h\\xb8\\xc1+s\\xe9\\xd4\\xd9\\xfc\"\\xc07\\x1f\\x0bf\\x1dI\\xed\\x02U\\x8fg\\xe12\\xd7\\xd3&\\xbfp\\xe3=\\xf4gm=|\\xe54\\x88\\xe32\\xfa\\xa7n\\x06jo\\xbd\\x8b\\x91\\xee\\x16K\\xe8;\\xa9\\xb37\\xe7\\xc3D\\xa4~\\xd8l\\xd7\\xc7F\\xf5\\x92\\x9b\\xe7\\xd5!\\xbef\\x92\\x19\\x94Ul\\xd4)\\xb2\\r\\xc1f[\\xe2wIH(\\xed\\x9d\\xd7\\x1a3rS\\xb3\\x825\\xcfb\\x8b\\xc9$\\x8b\\xa5\\xb79\\x0c\\xbb~*A\\xbfR\\xcf\\xfc\\xa2\\x96\\xb6\\xc2\\x82?\\x00\\x00\\x0f\\x00\\x00K\\x04\\x03\\x00G0E\\x02 0\\x16\\xfa\\x8d-\\x1b\\xc6\\xb9\\x7f\\x132^a\\xce3&\\xbd\\x81\\xc5,:\\x80\\xe2O\\xd3\\x9a\\xaa\\x87\\x02\\x81J}\\x02!\\x00\\xf7\\xd5U\\n&\\x03\\xda~{\\xef\\xcc\\xc5g.\\x8dR\\xd2y\\x9d\\x90\\x10G\\xcaF/\\xbf\\x956bR\\xcd\\xa4\\x14\\x00\\x00 \\xa1\\xea\\x07k~~\\xa3\\xf3\\x86\\xae\\xdb\\x9e\\x04\\xf5HD\\x1ap\\xd0\\xe4d\\xf1-\\xca\\xa3\\xa8\\xf3\\xd6\\x8e\\x90y)'"
      ]
     },
     "execution_count": 138,
     "metadata": {},
     "output_type": "execute_result"
    }
   ],
   "source": [
    "server_cert_packet, server_cert_packet_suffix, server_handshake_nonce = decrypt_packet(server_cert_encrypted_encoded, server_handshake_key, server_handshake_nonce)\n",
    "print(server_cert_packet_suffix)\n",
    "server_cert_packet"
   ]
  },
  {
   "cell_type": "code",
   "execution_count": 139,
   "metadata": {},
   "outputs": [],
   "source": [
    "multiple_packets = server_cert_packet\n",
    "\n",
    "packet_len = (multiple_packets[1] << 16) + (multiple_packets[2] << 8) + multiple_packets[3]\n",
    "encrypted_extensions_packet, multiple_packets = multiple_packets[:4+packet_len], multiple_packets[4+packet_len:]\n",
    "\n",
    "packet_len = (multiple_packets[1] << 16) + (multiple_packets[2] << 8) + multiple_packets[3]\n",
    "certificates_packet, multiple_packets = multiple_packets[:4+packet_len], multiple_packets[4+packet_len:]\n",
    "\n",
    "packet_len = (multiple_packets[1] << 16) + (multiple_packets[2] << 8) + multiple_packets[3]\n",
    "certificate_verify_packet, multiple_packets = multiple_packets[:4+packet_len], multiple_packets[4+packet_len:]\n",
    "\n",
    "packet_len = (multiple_packets[1] << 16) + (multiple_packets[2] << 8) + multiple_packets[3]\n",
    "finished_message_packet, multiple_packets = multiple_packets[:4+packet_len], multiple_packets[4+packet_len:]"
   ]
  },
  {
   "cell_type": "code",
   "execution_count": 140,
   "metadata": {},
   "outputs": [],
   "source": [
    "handshake_app_data_spec = \"\"\"\n",
    "    8==8?24@encrypted_extenstions(\n",
    "        16@data(\n",
    "            16@alpn\n",
    "            -16@data(\n",
    "                16@data(\n",
    "                    8@data()\n",
    "                )\n",
    "            )\n",
    "        )\n",
    "    )\n",
    "    :8==11?24@certificates_data(\n",
    "        8@certificate_request_context-24@certificates_data(\n",
    "            ...(\n",
    "                24@certificate()\n",
    "                -16@extensions(\n",
    "                    16==5?16@status_request(\n",
    "                        8@status_type_ocsp\n",
    "                        -24@ocsp_staple(\n",
    "                        )\n",
    "                    )\n",
    "                    :16==18?16@sct(\n",
    "                        16@data(\n",
    "                            ...16@data()\n",
    "                        )\n",
    "                    )\n",
    "                )\n",
    "            )\n",
    "        )\n",
    "    )\n",
    "    :8==15?24@certificate_verify(\n",
    "        16@signature_algorithm-16@signature()\n",
    "    )\n",
    "    :8==20?24@finished_verify_data()\n",
    "    :8==22?24@certificate_status(\n",
    "        8@status_type\n",
    "        -24@response()\n",
    "    )\n",
    "    :8@selector-24@data()\n",
    "\"\"\""
   ]
  },
  {
   "cell_type": "code",
   "execution_count": 141,
   "metadata": {},
   "outputs": [
    {
     "data": {
      "text/plain": [
       "{'encrypted_extenstions': {'data': {'alpn': 0x0010,\n",
       "   'data': {'data': {'data': \"http/1.1\"}}}},\n",
       " '_selector': 0x08}"
      ]
     },
     "execution_count": 141,
     "metadata": {},
     "output_type": "execute_result"
    }
   ],
   "source": [
    "encrypted_extensions = public_match_exact(handshake_app_data_spec, encrypted_extensions_packet)\n",
    "encrypted_extensions"
   ]
  },
  {
   "cell_type": "code",
   "execution_count": 142,
   "metadata": {},
   "outputs": [
    {
     "data": {
      "text/plain": [
       "{'certificates_data': {'certificate_request_context': 0x00,\n",
       "  'certificates_data': [{'certificate': 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,\n",
       "    'extensions': ''},\n",
       "   {'certificate': 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,\n",
       "    'extensions': ''},\n",
       "   {'certificate': 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,\n",
       "    'extensions': ''}]},\n",
       " '_selector': \"\n",
       " \"}"
      ]
     },
     "execution_count": 142,
     "metadata": {},
     "output_type": "execute_result"
    }
   ],
   "source": [
    "server_cert = public_match_exact(handshake_app_data_spec, certificates_packet)\n",
    "server_cert"
   ]
  },
  {
   "cell_type": "code",
   "execution_count": 143,
   "metadata": {},
   "outputs": [
    {
     "name": "stdout",
     "output_type": "stream",
     "text": [
      "Certificate:\n",
      "    Data:\n",
      "        Version: 3 (0x2)\n",
      "        Serial Number:\n",
      "            24:57:75:fe:c4:53:b4:b0:0a:00:00:00:00:ff:66:0b\n",
      "        Signature Algorithm: sha256WithRSAEncryption\n",
      "        Issuer: C=US, O=Google Trust Services LLC, CN=GTS CA 1C3\n",
      "        Validity\n",
      "            Not Before: Sep 13 04:07:13 2021 GMT\n",
      "            Not After : Nov 20 04:07:12 2021 GMT\n",
      "        Subject: CN=www.google.com\n",
      "        Subject Public Key Info:\n",
      "            Public Key Algorithm: id-ecPublicKey\n",
      "                Public-Key: (256 bit)\n",
      "                pub:\n",
      "                    04:4f:b7:02:c1:aa:56:b5:a2:61:60:c7:04:9f:6c:\n",
      "                    29:36:35:d9:4b:c9:9b:33:65:b0:e4:71:55:59:a6:\n",
      "                    0a:98:58:cb:eb:71:de:cd:06:d5:df:bb:8d:63:58:\n",
      "                    ca:2e:5a:ca:d2:8b:d7:0e:9c:b2:e3:cb:64:4b:40:\n",
      "                    b2:90:27:5e:33\n",
      "                ASN1 OID: prime256v1\n",
      "                NIST CURVE: P-256\n",
      "        X509v3 extensions:\n",
      "            X509v3 Key Usage: critical\n",
      "                Digital Signature\n",
      "            X509v3 Extended Key Usage: \n",
      "                TLS Web Server Authentication\n",
      "            X509v3 Basic Constraints: critical\n",
      "                CA:FALSE\n",
      "            X509v3 Subject Key Identifier: \n",
      "                62:7A:0B:C0:8D:9F:13:9C:9E:97:88:0D:93:C1:DE:4E:10:A9:91:FC\n",
      "            X509v3 Authority Key Identifier: \n",
      "                keyid:8A:74:7F:AF:85:CD:EE:95:CD:3D:9C:D0:E2:46:14:F3:71:35:1D:27\n",
      "\n",
      "            Authority Information Access: \n",
      "                OCSP - URI:http://ocsp.pki.goog/gts1c3\n",
      "                CA Issuers - URI:http://pki.goog/repo/certs/gts1c3.der\n",
      "\n",
      "            X509v3 Subject Alternative Name: \n",
      "                DNS:www.google.com\n",
      "            X509v3 Certificate Policies: \n",
      "                Policy: 2.23.140.1.2.1\n",
      "                Policy: 1.3.6.1.4.1.11129.2.5.3\n",
      "\n",
      "            X509v3 CRL Distribution Points: \n",
      "\n",
      "                Full Name:\n",
      "                  URI:http://crls.pki.goog/gts1c3/fVJxbV-Ktmk.crl\n",
      "\n",
      "            CT Precertificate SCTs: \n",
      "                Signed Certificate Timestamp:\n",
      "                    Version   : v1 (0x0)\n",
      "                    Log ID    : 5C:DC:43:92:FE:E6:AB:45:44:B1:5E:9A:D4:56:E6:10:\n",
      "                                37:FB:D5:FA:47:DC:A1:73:94:B2:5E:E6:F6:C7:0E:CA\n",
      "                    Timestamp : Sep 13 05:07:13.856 2021 GMT\n",
      "                    Extensions: none\n",
      "                    Signature : ecdsa-with-SHA256\n",
      "                                30:44:02:20:7E:A6:10:B9:F6:5A:2A:0B:36:C6:9B:BA:\n",
      "                                F2:08:9A:2D:D8:04:CA:02:30:77:51:7D:69:C4:2E:51:\n",
      "                                BB:57:DC:2A:02:20:6A:B2:97:40:6A:A3:FA:77:3E:BF:\n",
      "                                77:75:48:75:20:39:EB:22:D0:C4:50:31:3D:55:B4:73:\n",
      "                                46:E7:7C:1B:25:58\n",
      "                Signed Certificate Timestamp:\n",
      "                    Version   : v1 (0x0)\n",
      "                    Log ID    : 7D:3E:F2:F8:8F:FF:88:55:68:24:C2:C0:CA:9E:52:89:\n",
      "                                79:2B:C5:0E:78:09:7F:2E:6A:97:68:99:7E:22:F0:D7\n",
      "                    Timestamp : Sep 13 05:07:13.874 2021 GMT\n",
      "                    Extensions: none\n",
      "                    Signature : ecdsa-with-SHA256\n",
      "                                30:45:02:21:00:C3:51:37:E0:86:A4:D8:69:3D:98:DF:\n",
      "                                13:02:40:2E:A0:6F:43:A2:BE:BA:E1:FC:5C:41:0A:EB:\n",
      "                                85:9A:3B:A1:84:02:20:0F:36:B5:17:0F:33:3E:C2:AB:\n",
      "                                86:17:A2:87:19:DE:08:12:9E:D1:96:AC:C2:C3:B4:54:\n",
      "                                28:72:65:A3:EA:3E:71\n",
      "    Signature Algorithm: sha256WithRSAEncryption\n",
      "         9f:c9:5a:5c:a0:24:45:b6:b1:48:4f:6e:bd:c6:ac:27:50:9f:\n",
      "         22:ef:33:62:82:42:45:6f:0e:1c:92:64:77:92:d4:4b:4e:26:\n",
      "         29:5f:3e:82:57:c7:88:93:6b:96:c3:db:00:56:c6:f8:20:a9:\n",
      "         b4:bd:f6:1d:39:82:eb:d5:71:aa:39:2b:80:c4:46:f3:d6:82:\n",
      "         ea:25:19:90:62:d6:1f:16:a3:c4:81:17:8c:0f:25:c0:ab:e6:\n",
      "         f1:d8:6a:26:c0:5b:85:f7:52:a8:f2:17:72:b6:fe:8b:6c:cb:\n",
      "         c7:29:d5:43:3c:e3:3e:3e:bc:2b:43:a6:b4:de:57:41:a5:03:\n",
      "         40:3f:b7:c4:52:c5:9f:90:7a:eb:cb:7c:83:d6:4d:3d:79:51:\n",
      "         f3:46:4a:74:1c:0d:fc:0d:51:db:2f:a3:da:f1:68:bb:93:49:\n",
      "         d6:90:ca:2a:29:d0:cc:b6:19:8a:3d:42:6c:76:0f:ad:63:3b:\n",
      "         b0:3a:a9:48:80:01:ed:92:71:85:14:29:85:14:05:12:7a:79:\n",
      "         3a:07:15:1d:22:d2:c7:2a:35:7a:d7:1d:87:88:6a:43:51:96:\n",
      "         75:62:f7:f7:9f:17:ca:a0:16:60:7c:0a:9f:bf:46:fd:59:41:\n",
      "         2a:2a:a9:19:e8:6a:6d:ca:9d:56:53:4c:38:d8:c0:09:16:0b:\n",
      "         26:13:7f:49\n",
      "\n",
      "Certificate:\n",
      "    Data:\n",
      "        Version: 3 (0x2)\n",
      "        Serial Number:\n",
      "            02:03:bc:53:59:6b:34:c7:18:f5:01:50:66\n",
      "        Signature Algorithm: sha256WithRSAEncryption\n",
      "        Issuer: C=US, O=Google Trust Services LLC, CN=GTS Root R1\n",
      "        Validity\n",
      "            Not Before: Aug 13 00:00:42 2020 GMT\n",
      "            Not After : Sep 30 00:00:42 2027 GMT\n",
      "        Subject: C=US, O=Google Trust Services LLC, CN=GTS CA 1C3\n",
      "        Subject Public Key Info:\n",
      "            Public Key Algorithm: rsaEncryption\n",
      "                RSA Public-Key: (2048 bit)\n",
      "                Modulus:\n",
      "                    00:f5:88:df:e7:62:8c:1e:37:f8:37:42:90:7f:6c:\n",
      "                    87:d0:fb:65:82:25:fd:e8:cb:6b:a4:ff:6d:e9:5a:\n",
      "                    23:e2:99:f6:1c:e9:92:03:99:13:7c:09:0a:8a:fa:\n",
      "                    42:d6:5e:56:24:aa:7a:33:84:1f:d1:e9:69:bb:b9:\n",
      "                    74:ec:57:4c:66:68:93:77:37:55:53:fe:39:10:4d:\n",
      "                    b7:34:bb:5f:25:77:37:3b:17:94:ea:3c:e5:9d:d5:\n",
      "                    bc:c3:b4:43:eb:2e:a7:47:ef:b0:44:11:63:d8:b4:\n",
      "                    41:85:dd:41:30:48:93:1b:bf:b7:f6:e0:45:02:21:\n",
      "                    e0:96:42:17:cf:d9:2b:65:56:34:07:26:04:0d:a8:\n",
      "                    fd:7d:ca:2e:ef:ea:48:7c:37:4d:3f:00:9f:83:df:\n",
      "                    ef:75:84:2e:79:57:5c:fc:57:6e:1a:96:ff:fc:8c:\n",
      "                    9a:a6:99:be:25:d9:7f:96:2c:06:f7:11:2a:02:80:\n",
      "                    80:eb:63:18:3c:50:49:87:e5:8a:ca:5f:19:2b:59:\n",
      "                    96:81:00:a0:fb:51:db:ca:77:0b:0b:c9:96:4f:ef:\n",
      "                    70:49:c7:5c:6d:20:fd:99:b4:b4:e2:ca:2e:77:fd:\n",
      "                    2d:dc:0b:b6:6b:13:0c:8c:19:2b:17:96:98:b9:f0:\n",
      "                    8b:f6:a0:27:bb:b6:e3:8d:51:8f:bd:ae:c7:9b:b1:\n",
      "                    89:9d\n",
      "                Exponent: 65537 (0x10001)\n",
      "        X509v3 extensions:\n",
      "            X509v3 Key Usage: critical\n",
      "                Digital Signature, Certificate Sign, CRL Sign\n",
      "            X509v3 Extended Key Usage: \n",
      "                TLS Web Server Authentication, TLS Web Client Authentication\n",
      "            X509v3 Basic Constraints: critical\n",
      "                CA:TRUE, pathlen:0\n",
      "            X509v3 Subject Key Identifier: \n",
      "                8A:74:7F:AF:85:CD:EE:95:CD:3D:9C:D0:E2:46:14:F3:71:35:1D:27\n",
      "            X509v3 Authority Key Identifier: \n",
      "                keyid:E4:AF:2B:26:71:1A:2B:48:27:85:2F:52:66:2C:EF:F0:89:13:71:3E\n",
      "\n",
      "            Authority Information Access: \n",
      "                OCSP - URI:http://ocsp.pki.goog/gtsr1\n",
      "                CA Issuers - URI:http://pki.goog/repo/certs/gtsr1.der\n",
      "\n",
      "            X509v3 CRL Distribution Points: \n",
      "\n",
      "                Full Name:\n",
      "                  URI:http://crl.pki.goog/gtsr1/gtsr1.crl\n",
      "\n",
      "            X509v3 Certificate Policies: \n",
      "                Policy: 1.3.6.1.4.1.11129.2.5.3\n",
      "                  CPS: https://pki.goog/repository/\n",
      "                Policy: 2.23.140.1.2.1\n",
      "                Policy: 2.23.140.1.2.2\n",
      "\n",
      "    Signature Algorithm: sha256WithRSAEncryption\n",
      "         89:7d:ac:20:5c:0c:3c:be:9a:a8:57:95:1b:b4:ae:fa:ab:a5:\n",
      "         72:71:b4:36:95:fd:df:40:11:03:4c:c2:46:14:bb:14:24:ab:\n",
      "         f0:50:71:22:db:ad:c4:6e:7f:cf:f1:6a:6f:c8:83:1b:d8:ce:\n",
      "         89:5f:87:6c:87:b8:a9:0c:a3:9b:a1:62:94:93:95:df:5b:ae:\n",
      "         66:19:0b:02:96:9e:fc:b5:e7:10:69:3e:7a:cb:46:49:5f:46:\n",
      "         e1:41:b1:d7:98:4d:65:34:00:80:1a:3f:4f:9f:6c:7f:49:00:\n",
      "         81:53:41:a4:92:21:82:82:1a:f1:a3:44:5b:2a:50:12:13:4d:\n",
      "         c1:53:36:f3:42:08:af:54:fa:8e:77:53:1b:64:38:27:17:09:\n",
      "         bd:58:c9:1b:7c:39:2d:5b:f3:ce:d4:ed:97:db:14:03:bf:09:\n",
      "         53:24:1f:c2:0c:04:79:98:26:f2:61:f1:53:52:fd:42:8c:1b:\n",
      "         66:2b:3f:15:a1:bb:ff:f6:9b:e3:81:9a:01:06:71:89:35:28:\n",
      "         24:dd:e1:bd:eb:19:2d:e1:48:cb:3d:59:83:51:b4:74:c6:9d:\n",
      "         7c:c6:b1:86:5b:af:cc:34:c4:d3:cc:d4:81:11:95:00:a1:f4:\n",
      "         12:22:01:fa:b4:83:71:af:8c:b7:8c:73:24:ac:37:53:c2:00:\n",
      "         90:3f:11:fe:5c:ed:36:94:10:3b:bd:29:ae:e2:c7:3a:62:3b:\n",
      "         6c:63:d9:80:bf:59:71:ac:63:27:b9:4c:17:a0:da:f6:73:15:\n",
      "         bf:2a:de:8f:f3:a5:6c:32:81:33:03:d0:86:51:71:99:34:ba:\n",
      "         93:8d:5d:b5:51:58:f7:b2:93:e8:01:f6:59:be:71:9b:fd:4d:\n",
      "         28:ce:cf:6d:c7:16:dc:f7:d1:d6:46:9b:a7:ca:6b:e9:77:0f:\n",
      "         fd:a0:b6:1b:23:83:1d:10:1a:d9:09:00:84:e0:44:d3:a2:75:\n",
      "         23:b3:34:86:f6:20:b0:a4:5e:10:1d:e0:52:46:00:9d:b1:0f:\n",
      "         1f:21:70:51:f5:9a:dd:06:fc:55:f4:2b:0e:33:77:c3:4b:42:\n",
      "         c2:f1:77:13:fc:73:80:94:eb:1f:bb:37:3f:ce:02:2a:66:b0:\n",
      "         73:1d:32:a5:32:6c:32:b0:8e:e0:c4:23:ff:5b:7d:4d:65:70:\n",
      "         ac:2b:9b:3d:ce:db:e0:6d:8e:32:80:be:96:9f:92:63:bc:97:\n",
      "         bb:5d:b9:f4:e1:71:5e:2a:e4:ef:03:22:b1:8a:65:3a:8f:c0:\n",
      "         93:65:d4:85:cd:0f:0f:5b:83:59:16:47:16:2d:9c:24:3a:c8:\n",
      "         80:a6:26:14:85:9b:f6:37:9b:ac:6f:f9:c5:c3:06:51:f3:e2:\n",
      "         7f:c5:b1:10:ba:51:f4:dd\n",
      "\n",
      "Certificate:\n",
      "    Data:\n",
      "        Version: 3 (0x2)\n",
      "        Serial Number:\n",
      "            77:bd:0d:6c:db:36:f9:1a:ea:21:0f:c4:f0:58:d3:0d\n",
      "        Signature Algorithm: sha256WithRSAEncryption\n",
      "        Issuer: C=BE, O=GlobalSign nv-sa, OU=Root CA, CN=GlobalSign Root CA\n",
      "        Validity\n",
      "            Not Before: Jun 19 00:00:42 2020 GMT\n",
      "            Not After : Jan 28 00:00:42 2028 GMT\n",
      "        Subject: C=US, O=Google Trust Services LLC, CN=GTS Root R1\n",
      "        Subject Public Key Info:\n",
      "            Public Key Algorithm: rsaEncryption\n",
      "                RSA Public-Key: (4096 bit)\n",
      "                Modulus:\n",
      "                    00:b6:11:02:8b:1e:e3:a1:77:9b:3b:dc:bf:94:3e:\n",
      "                    b7:95:a7:40:3c:a1:fd:82:f9:7d:32:06:82:71:f6:\n",
      "                    f6:8c:7f:fb:e8:db:bc:6a:2e:97:97:a3:8c:4b:f9:\n",
      "                    2b:f6:b1:f9:ce:84:1d:b1:f9:c5:97:de:ef:b9:f2:\n",
      "                    a3:e9:bc:12:89:5e:a7:aa:52:ab:f8:23:27:cb:a4:\n",
      "                    b1:9c:63:db:d7:99:7e:f0:0a:5e:eb:68:a6:f4:c6:\n",
      "                    5a:47:0d:4d:10:33:e3:4e:b1:13:a3:c8:18:6c:4b:\n",
      "                    ec:fc:09:90:df:9d:64:29:25:23:07:a1:b4:d2:3d:\n",
      "                    2e:60:e0:cf:d2:09:87:bb:cd:48:f0:4d:c2:c2:7a:\n",
      "                    88:8a:bb:ba:cf:59:19:d6:af:8f:b0:07:b0:9e:31:\n",
      "                    f1:82:c1:c0:df:2e:a6:6d:6c:19:0e:b5:d8:7e:26:\n",
      "                    1a:45:03:3d:b0:79:a4:94:28:ad:0f:7f:26:e5:a8:\n",
      "                    08:fe:96:e8:3c:68:94:53:ee:83:3a:88:2b:15:96:\n",
      "                    09:b2:e0:7a:8c:2e:75:d6:9c:eb:a7:56:64:8f:96:\n",
      "                    4f:68:ae:3d:97:c2:84:8f:c0:bc:40:c0:0b:5c:bd:\n",
      "                    f6:87:b3:35:6c:ac:18:50:7f:84:e0:4c:cd:92:d3:\n",
      "                    20:e9:33:bc:52:99:af:32:b5:29:b3:25:2a:b4:48:\n",
      "                    f9:72:e1:ca:64:f7:e6:82:10:8d:e8:9d:c2:8a:88:\n",
      "                    fa:38:66:8a:fc:63:f9:01:f9:78:fd:7b:5c:77:fa:\n",
      "                    76:87:fa:ec:df:b1:0e:79:95:57:b4:bd:26:ef:d6:\n",
      "                    01:d1:eb:16:0a:bb:8e:0b:b5:c5:c5:8a:55:ab:d3:\n",
      "                    ac:ea:91:4b:29:cc:19:a4:32:25:4e:2a:f1:65:44:\n",
      "                    d0:02:ce:aa:ce:49:b4:ea:9f:7c:83:b0:40:7b:e7:\n",
      "                    43:ab:a7:6c:a3:8f:7d:89:81:fa:4c:a5:ff:d5:8e:\n",
      "                    c3:ce:4b:e0:b5:d8:b3:8e:45:cf:76:c0:ed:40:2b:\n",
      "                    fd:53:0f:b0:a7:d5:3b:0d:b1:8a:a2:03:de:31:ad:\n",
      "                    cc:77:ea:6f:7b:3e:d6:df:91:22:12:e6:be:fa:d8:\n",
      "                    32:fc:10:63:14:51:72:de:5d:d6:16:93:bd:29:68:\n",
      "                    33:ef:3a:66:ec:07:8a:26:df:13:d7:57:65:78:27:\n",
      "                    de:5e:49:14:00:a2:00:7f:9a:a8:21:b6:a9:b1:95:\n",
      "                    b0:a5:b9:0d:16:11:da:c7:6c:48:3c:40:e0:7e:0d:\n",
      "                    5a:cd:56:3c:d1:97:05:b9:cb:4b:ed:39:4b:9c:c4:\n",
      "                    3f:d2:55:13:6e:24:b0:d6:71:fa:f4:c1:ba:cc:ed:\n",
      "                    1b:f5:fe:81:41:d8:00:98:3d:3a:c8:ae:7a:98:37:\n",
      "                    18:05:95\n",
      "                Exponent: 65537 (0x10001)\n",
      "        X509v3 extensions:\n",
      "            X509v3 Key Usage: critical\n",
      "                Digital Signature, Certificate Sign, CRL Sign\n",
      "            X509v3 Basic Constraints: critical\n",
      "                CA:TRUE\n",
      "            X509v3 Subject Key Identifier: \n",
      "                E4:AF:2B:26:71:1A:2B:48:27:85:2F:52:66:2C:EF:F0:89:13:71:3E\n",
      "            X509v3 Authority Key Identifier: \n",
      "                keyid:60:7B:66:1A:45:0D:97:CA:89:50:2F:7D:04:CD:34:A8:FF:FC:FD:4B\n",
      "\n",
      "            Authority Information Access: \n",
      "                OCSP - URI:http://ocsp.pki.goog/gsr1\n",
      "                CA Issuers - URI:http://pki.goog/gsr1/gsr1.crt\n",
      "\n",
      "            X509v3 CRL Distribution Points: \n",
      "\n",
      "                Full Name:\n",
      "                  URI:http://crl.pki.goog/gsr1/gsr1.crl\n",
      "\n",
      "            X509v3 Certificate Policies: \n",
      "                Policy: 2.23.140.1.2.1\n",
      "                Policy: 2.23.140.1.2.2\n",
      "                Policy: 1.3.6.1.4.1.11129.2.5.3.2\n",
      "                Policy: 1.3.6.1.4.1.11129.2.5.3.3\n",
      "\n",
      "    Signature Algorithm: sha256WithRSAEncryption\n",
      "         34:a4:1e:b1:28:a3:d0:b4:76:17:a6:31:7a:21:e9:d1:52:3e:\n",
      "         c8:db:74:16:41:88:b8:3d:35:1d:ed:e4:ff:93:e1:5c:5f:ab:\n",
      "         bb:ea:7c:cf:db:e4:0d:d1:8b:57:f2:26:6f:5b:be:17:46:68:\n",
      "         94:37:6f:6b:7a:c8:c0:18:37:fa:25:51:ac:ec:68:bf:b2:c8:\n",
      "         49:fd:5a:9a:ca:01:23:ac:84:80:2b:02:8c:99:97:eb:49:6a:\n",
      "         8c:75:d7:c7:de:b2:c9:97:9f:58:48:57:0e:35:a1:e4:1a:d6:\n",
      "         fd:6f:83:81:6f:ef:8c:cf:97:af:c0:85:2a:f0:f5:4e:69:09:\n",
      "         91:2d:e1:68:b8:c1:2b:73:e9:d4:d9:fc:22:c0:37:1f:0b:66:\n",
      "         1d:49:ed:02:55:8f:67:e1:32:d7:d3:26:bf:70:e3:3d:f4:67:\n",
      "         6d:3d:7c:e5:34:88:e3:32:fa:a7:6e:06:6a:6f:bd:8b:91:ee:\n",
      "         16:4b:e8:3b:a9:b3:37:e7:c3:44:a4:7e:d8:6c:d7:c7:46:f5:\n",
      "         92:9b:e7:d5:21:be:66:92:19:94:55:6c:d4:29:b2:0d:c1:66:\n",
      "         5b:e2:77:49:48:28:ed:9d:d7:1a:33:72:53:b3:82:35:cf:62:\n",
      "         8b:c9:24:8b:a5:b7:39:0c:bb:7e:2a:41:bf:52:cf:fc:a2:96:\n",
      "         b6:c2:82:3f\n",
      "\n"
     ]
    }
   ],
   "source": [
    "import OpenSSL.crypto\n",
    "\n",
    "first_cert = None\n",
    "for cert in server_cert['certificates_data']['certificates_data']:\n",
    "    x509 = OpenSSL.crypto.load_certificate(OpenSSL.crypto.FILETYPE_ASN1, cert['certificate'].bytes())\n",
    "    if first_cert is None:\n",
    "        first_cert = x509\n",
    "    print(OpenSSL.crypto.dump_certificate(OpenSSL.crypto.FILETYPE_TEXT, x509).decode('utf-8')) "
   ]
  },
  {
   "cell_type": "code",
   "execution_count": 144,
   "metadata": {
    "scrolled": true
   },
   "outputs": [],
   "source": [
    "cert_pub = first_cert.get_pubkey().to_cryptography_key()"
   ]
  },
  {
   "cell_type": "code",
   "execution_count": 145,
   "metadata": {},
   "outputs": [],
   "source": [
    "transcript.update(encrypted_extensions_packet)\n",
    "transcript.update(certificates_packet)"
   ]
  },
  {
   "cell_type": "code",
   "execution_count": 146,
   "metadata": {},
   "outputs": [
    {
     "data": {
      "text/plain": [
       "{'certificate_verify': {'signature_algorithm': 0x0403,\n",
       "  'signature': 0x304502203016fa8d2d1bc6b97f13325e61ce3326bd81c52c3a80e24fd39aaa8702814a7d022100f7d5550a2603da7e7befccc5672e8d52d2799d901047ca462fbf95366252cda4},\n",
       " '_selector': 0x0f}"
      ]
     },
     "execution_count": 146,
     "metadata": {},
     "output_type": "execute_result"
    }
   ],
   "source": [
    "cert_verify_message = public_match_exact(handshake_app_data_spec, certificate_verify_packet)\n",
    "cert_verify_message"
   ]
  },
  {
   "cell_type": "code",
   "execution_count": 147,
   "metadata": {},
   "outputs": [
    {
     "name": "stdout",
     "output_type": "stream",
     "text": [
      "certificate verify succeeded\n"
     ]
    }
   ],
   "source": [
    "sign_data = b'\\x20' * 64 + \\\n",
    "    b'TLS 1.3, server CertificateVerify\\x00' + \\\n",
    "    get_hash(transcript)\n",
    "\n",
    "signature = cert_verify_message['certificate_verify']['signature'].bytes()\n",
    "\n",
    "cert_pub.verify(signature, sign_data, ec.ECDSA(hashes.SHA256()))\n",
    "print(\"certificate verify succeeded\")"
   ]
  },
  {
   "cell_type": "code",
   "execution_count": 148,
   "metadata": {},
   "outputs": [],
   "source": [
    "transcript.update(certificate_verify_packet)"
   ]
  },
  {
   "cell_type": "code",
   "execution_count": 149,
   "metadata": {},
   "outputs": [
    {
     "data": {
      "text/plain": [
       "{'finished_verify_data': 0xa1ea076b7e7ea3f386aedb9e04f548441a70d0e464f12dcaa3a8f3d68e907929,\n",
       " '_selector': 0x14}"
      ]
     },
     "execution_count": 149,
     "metadata": {},
     "output_type": "execute_result"
    }
   ],
   "source": [
    "finished_message = public_match_exact(handshake_app_data_spec, finished_message_packet)\n",
    "finished_message"
   ]
  },
  {
   "cell_type": "code",
   "execution_count": 150,
   "metadata": {},
   "outputs": [
    {
     "name": "stdout",
     "output_type": "stream",
     "text": [
      "matching finished hash\n"
     ]
    }
   ],
   "source": [
    "if finished_hash(server_handshake_secret, transcript) == finished_message['finished_verify_data'].bytes():\n",
    "    print(\"matching finished hash\")\n",
    "else:\n",
    "    raise RuntimeError(\"not matching finished hash\")"
   ]
  },
  {
   "cell_type": "code",
   "execution_count": 151,
   "metadata": {},
   "outputs": [],
   "source": [
    "transcript.update(finished_message_packet)"
   ]
  },
  {
   "cell_type": "code",
   "execution_count": 152,
   "metadata": {},
   "outputs": [],
   "source": [
    "client_finished_hash = finished_hash(client_handshake_secret, transcript)\n",
    "client_verify_unencrypted = public_construct(handshake_app_data_spec, {'finished_verify_data': client_finished_hash, '_selector': 0x14})"
   ]
  },
  {
   "cell_type": "code",
   "execution_count": 153,
   "metadata": {},
   "outputs": [],
   "source": [
    "client_verify_packet, client_handshake_nonce = encrypt_packet(\n",
    "    client_verify_unencrypted, b'\\x16', client_handshake_key, client_handshake_nonce\n",
    ")"
   ]
  },
  {
   "cell_type": "code",
   "execution_count": 154,
   "metadata": {},
   "outputs": [],
   "source": [
    "sock.send(client_verify_packet)"
   ]
  },
  {
   "cell_type": "code",
   "execution_count": 155,
   "metadata": {},
   "outputs": [],
   "source": [
    "master_secret = extract(b'\\0' * 32, derive(handshake_secret, b\"derived\"))\n",
    "server_app_secret = derive(master_secret, b\"s ap traffic\", transcript)\n",
    "server_app_key = expand(server_app_secret, b'key', 16)\n",
    "server_app_nonce = (expand(server_app_secret, b'iv', 12), 0)\n",
    "client_app_secret = derive(master_secret, b\"c ap traffic\", transcript)\n",
    "client_app_key = expand(client_app_secret, b'key', 16)\n",
    "client_app_nonce = (expand(client_app_secret, b'iv', 12), 0)"
   ]
  },
  {
   "cell_type": "code",
   "execution_count": 156,
   "metadata": {},
   "outputs": [],
   "source": [
    "transcript.update(client_verify_packet)"
   ]
  },
  {
   "cell_type": "code",
   "execution_count": 157,
   "metadata": {},
   "outputs": [],
   "source": [
    "http_req = b\"\"\"GET / HTTP/1.1\n",
    "Host: www.google.com\n",
    "\n",
    "\"\"\"\n",
    "packet, client_app_nonce = encrypt_packet(\n",
    "    http_req, b'\\x17', client_app_key, client_app_nonce\n",
    ")"
   ]
  },
  {
   "cell_type": "code",
   "execution_count": 158,
   "metadata": {
    "scrolled": true
   },
   "outputs": [],
   "source": [
    "sock.send(packet)"
   ]
  },
  {
   "cell_type": "code",
   "execution_count": 159,
   "metadata": {},
   "outputs": [],
   "source": [
    "http_resp = read_tls(sock)"
   ]
  },
  {
   "cell_type": "code",
   "execution_count": 160,
   "metadata": {},
   "outputs": [
    {
     "data": {
      "text/plain": [
       "(b'HTTP/1.1 200 OK\\r\\nDate: Tue, 05 Oct 2021 12:46:31 GMT\\r\\nExpires: -1\\r\\nCache-Control: private, max-age=0\\r\\nContent-Type: text/html; charset=ISO-8859-1\\r\\nP3P: CP=\"This is not a P3P policy! See g.co/p3phelp for more info.\"\\r\\nServer: gws\\r\\nX-XSS-Protection: 0\\r\\nX-Frame-Options: SAMEORIGIN\\r\\nSet-Cookie: CONSENT=PENDING+061; expires=Fri, 01-Jan-2038 00:00:00 GMT; path=/; domain=.google.com; Secure\\r\\nAlt-Svc: h3=\":443\"; ma=2592000,h3-29=\":443\"; ma=2592000,h3-T051=\":443\"; ma=2592000,h3-Q050=\":443\"; ma=2592000,h3-Q046=\":443\"; ma=2592000,h3-Q043=\":443\"; ma=2592000,quic=\":443\"; ma=2592000; v=\"46,43\"\\r\\nAccept-Ranges: none\\r\\nVary: Accept-Encoding\\r\\nTransfer-Encoding: chunked\\r\\n\\r\\n5116\\r\\n<!doctype html><html itemscope=\"\" itemtype=\"http://schema.org/WebPage\" lang=\"nl\"><head><meta content=\"text/html; charset=UTF-8\" http-equiv=\"Content-Type\"><meta content=\"/images/branding/googleg/1x/googleg_standard_color_128dp.png\" itemprop=\"image\"><title>Google</title><script nonce=\"CmY+0qKDK4xh+D+EVJT4uA==\">(function(){window.google={kEI:\\'J0lcYZ-UL-bl7_UP4fGO2AM\\',kEXPI:\\'0,202346,1100190,56873,6059,206,4804,2316,383,246,5,1354,5250,1122516,1197783,329484,51224,16114,17444,11240,17572,4859,1361,9290,3030,4745,12834,4998,13228,3847,4192,6430,19044,2779,918,5081,1593,1279,2212,530,149,1103,842,1981,213,4101,109,3405,606,2023,1733,43,521,14670,3227,2845,7,5599,6755,5096,16320,908,2,941,15756,3,576,6459,150,13974,4',\n",
       " 23,\n",
       " (b'A\\xf9\\xb1\\xae\\xc1\\xc1\\x95g\\xeb;\\x8e,', 1))"
      ]
     },
     "execution_count": 160,
     "metadata": {},
     "output_type": "execute_result"
    }
   ],
   "source": [
    "data, packet_type, server_app_nonce = decrypt_packet(http_resp, server_app_key, server_app_nonce)\n",
    "(data, packet_type, server_app_nonce)"
   ]
  },
  {
   "cell_type": "code",
   "execution_count": 161,
   "metadata": {},
   "outputs": [],
   "source": [
    "class HttpsReader(ReaderWrapper):\n",
    "    def _read(self):\n",
    "        global server_app_nonce\n",
    "        http_resp = read_tls(sock)\n",
    "        data, packet_type, server_app_nonce = decrypt_packet(http_resp, server_app_key, server_app_nonce)\n",
    "        print(\"got body\", data[:100])\n",
    "        return data"
   ]
  },
  {
   "cell_type": "code",
   "execution_count": 163,
   "metadata": {},
   "outputs": [],
   "source": [
    "http_reader = HttpsReader(initial_value=data)"
   ]
  },
  {
   "cell_type": "code",
   "execution_count": 164,
   "metadata": {},
   "outputs": [
    {
     "data": {
      "text/plain": [
       "b'HTTP/1.1 200 OK\\r\\n'"
      ]
     },
     "execution_count": 164,
     "metadata": {},
     "output_type": "execute_result"
    }
   ],
   "source": [
    "http_reader.read_line()"
   ]
  },
  {
   "cell_type": "code",
   "execution_count": 165,
   "metadata": {},
   "outputs": [
    {
     "name": "stdout",
     "output_type": "stream",
     "text": [
      "b'Date: Tue, 05 Oct 2021 12:46:31 GMT\\r\\n'\n",
      "b'Expires: -1\\r\\n'\n",
      "b'Cache-Control: private, max-age=0\\r\\n'\n",
      "b'Content-Type: text/html; charset=ISO-8859-1\\r\\n'\n",
      "b'P3P: CP=\"This is not a P3P policy! See g.co/p3phelp for more info.\"\\r\\n'\n",
      "b'Server: gws\\r\\n'\n",
      "b'X-XSS-Protection: 0\\r\\n'\n",
      "b'X-Frame-Options: SAMEORIGIN\\r\\n'\n",
      "b'Set-Cookie: CONSENT=PENDING+061; expires=Fri, 01-Jan-2038 00:00:00 GMT; path=/; domain=.google.com; Secure\\r\\n'\n",
      "b'Alt-Svc: h3=\":443\"; ma=2592000,h3-29=\":443\"; ma=2592000,h3-T051=\":443\"; ma=2592000,h3-Q050=\":443\"; ma=2592000,h3-Q046=\":443\"; ma=2592000,h3-Q043=\":443\"; ma=2592000,quic=\":443\"; ma=2592000; v=\"46,43\"\\r\\n'\n",
      "b'Accept-Ranges: none\\r\\n'\n",
      "b'Vary: Accept-Encoding\\r\\n'\n",
      "b'Transfer-Encoding: chunked\\r\\n'\n",
      "got chunked\n",
      "b'\\r\\n'\n"
     ]
    }
   ],
   "source": [
    "content_length = None\n",
    "chunked = False\n",
    "\n",
    "while True:\n",
    "    header = http_reader.read_line()\n",
    "    print(header)\n",
    "    if header == b'\\r\\n':\n",
    "        break\n",
    "    if header.lower().startswith(b'content-length:'):\n",
    "        content_length = int(i.split(':').strip())\n",
    "        print('got content length', content_length)\n",
    "    elif header.lower().startswith(b'transfer-encoding: chunked'):\n",
    "        chunked = True\n",
    "        print('got chunked')\n"
   ]
  },
  {
   "cell_type": "code",
   "execution_count": 166,
   "metadata": {},
   "outputs": [],
   "source": [
    "body = b''"
   ]
  },
  {
   "cell_type": "code",
   "execution_count": 167,
   "metadata": {},
   "outputs": [
    {
     "name": "stdout",
     "output_type": "stream",
     "text": [
      "reading chunks\n",
      "length line b'5116\\r\\n'\n",
      "got body b',1528,2304,1236,5227,5260,2014,13611,4764,2658,4242,2459,656,30,13628,2305,638,1494,16786,2521,3285,'\n",
      "got body b'+l(d),-1===b.search(\"&lei=\")&&(d=m(d))&&(e+=\"&lei=\"+d));d=\"\";!c&&f._cshid&&-1===b.search(\"&cshid=\")&'\n",
      "got body b'nt;a=a.parentElement)if(\"A\"===a.tagName){a=\"1\"===a.getAttribute(\"data-nohref\");break a}a=!1}a&&b.pre'\n",
      "got body b':0}#gbg .gbm{right:0}.gbxms{background-color:#ccc;display:block;position:absolute;z-index:1;top:-1px'\n",
      "got body b':inline}.gbzt .gbts{display:inline;zoom:1}.gbto .gbts{background:#fff;border-color:#bebebe;color:#36'\n",
      "got body b'on:0 0}#gbmpi,#gbmpid{border:none;display:inline-block;height:48px;width:48px}#gbmpiw{display:inline'\n",
      "got body b'er;outline:0 solid black;text-decoration:none !important}.gbm0l,.gbm0l:visited{color:#000 !important'\n",
      "got body b'px 20px}#gbpm{border:0;*border-collapse:collapse;border-spacing:0;margin:0;white-space:normal}#gbpm '\n",
      "got body b'set 0 0 0 1px rgba(255, 255, 255, 0.5);box-shadow:inset 0 0 0 1px rgba(255, 255, 255, 0.5);outline:n'\n",
      "got body b'#2f5bb7}.gbqfb-hvr:focus{border-color:#2f5bb7}.gbqfb-hvr,.gbqfb-hvr:focus{background-color:#357ae8;b'\n",
      "got body b'ckground-image:-moz-linear-gradient(top,#f8f8f8,#f1f1f1);background-image:-ms-linear-gradient(top,#f'\n",
      "got body b'rder-color:#c6c6c6;-webkit-box-shadow:0 1px 1px rgba(0,0,0,.1);-moz-box-shadow:0 1px 1px rgba(0,0,0,'\n",
      "got body b',.3);top:0}.gbsb .gbsbb{-webkit-mask-box-image:-webkit-gradient(linear,left top,right top,color-stop'\n",
      "got body b'play:block;margin:2px 0;margin-left:13px;font-size:11px}.lsbb{background:#f8f9fa;border:solid 1px;bo'\n",
      "got body b'p!==a&&google.ml(d instanceof Error?d:Error(a),!1,void 0,!1,0);p=null;l&&n>=k&&(window.onerror=null)'\n",
      "got chunk 20758 b'<!doctype html><html itemscope=\"\" itemtype=\"http://schema.org/WebPage\" lang=\"nl\"><head><meta content'\n",
      "reading chunks\n",
      "got body b'119\\r\\n\"+b;if(a.addEventListener)a.addEventListener(b,c,!1);else if(a.attachEvent)a.attachEvent(d,c);e'\n",
      "length line b'119\\r\\n'\n",
      "got chunk 281 b'\"+b;if(a.addEventListener)a.addEventListener(b,c,!1);else if(a.attachEvent)a.attachEvent(d,c);else{v'\n",
      "reading chunks\n",
      "got body b'6f5b\\r\\n(1),fa=da(2);p(\"sb\",ea);p(\"kn\",fa);h.a=_tvv;h.b=_tvf;h.c=_tvn;h.i=aa;var r=window.gbar.i.i;var'\n",
      "length line b'6f5b\\r\\n'\n",
      "got body b'=AHpOoo8z3ZIGbS4Q1hdxlO0-i7gQCAheug/m=__features__\")){var F=function(a,b){return wa?a||b:b},xa=h.a(\"'\n",
      "got body b';for(var k in b)f.push(\"&\"),f.push(d(k)),f.push(\"=\"),f.push(d(b[k]));f.push(\"&emsg=\");f.push(d(c.nam'\n",
      "got body b'w.gApplication&&(a.href=window.gApplication.getTabUrl(a.href))}function Ta(a){try{var b=(document.fo'\n",
      "got body b';if(d){var f=d.firstChild,k=f.firstChild,m=document.createElement(\"li\");m.className=b+\" gbmtc\";m.id='\n",
      "got body b'returnValue=\\n!1;a.cancelBubble=!0},pb=null,$a=function(a,b){P();if(a){qb(a,\"Openen&hellip;\");Q(a,!0)'\n",
      "got body b';h.j=tb;var wb={};v.base=wb;w.push([\"m\",{url:\"//ssl.gstatic.com/gb/js/sem_caaa306fe962d0ecdfbbdab2bf'\n",
      "got body b'];var Kb=h.b(\"0.001\",1E-4),Lb=h.b(\"1\",1),Mb=!1,Nb=!1;if(h.a(\"1\")){var Ob=Math.random();Ob<Kb&&(Mb=!0'\n",
      "got body b'oogleusercontent.com/ogw/default-user=s24\",\"27\":\"https://lh3.googleusercontent.com/ogw/default-user='\n",
      "got body b'atch(d){r(d,\"up\",\"tp\")}}}catch(d){r(d,\"up\",\"mtp\")}},dc=function(a){if(Y([2],\"ssp\")){var b=!ac[a];T&&'\n",
      "got body b'ion(a,b){a[b]=function(c){var d=arguments;g.qm(function(){a[b].apply(this,d)})}};Z(g.up,\"sl\");Z(g.up'\n",
      "got body b'gger.ml(e,{\"_sn\":\"cfg.init\"});}})();\\n(function(){try{/*\\n\\n Copyright The Closure Library Authors.\\n SP'\n",
      "got body b'ed\"==typeof k.execScript||k.execScript(\"var \"+h[0]);for(var l;h.length&&(l=h.shift());)h.length||voi'\n",
      "got body b'class=gbts>Maps</span></a></li><li class=gbt><a class=gbzt id=gb_78 href=\"https://play.google.com/?h'\n",
      "got body b'bmtc><a class=gbmt id=gb_51 href=\"https://translate.google.nl/?hl=nl&tab=wT\">Vertalen</a></li><li cl'\n",
      "got body b',{l:\\'i\\'})\" id=gb_70 class=gbgt><span class=gbtb2></span><span id=gbgs4 class=gbts><span id=gbi4s1>In'\n",
      "got body b'sp;</td><td align=\"center\" nowrap=\"\"><input name=\"ie\" value=\"ISO-8859-1\" type=\"hidden\"><input value='\n",
      "got body b'tById)if(\"undefined\"!=typeof XMLHttpRequest)b=\"2\";else if(\"undefined\"!=typeof ActiveXObject){var c,d'\n",
      "got body b'Alles over Google</a><a href=\"https://www.google.com/setprefdomain?prefdom=NL&amp;prev=https://www.g'\n",
      "got body b'\"xjsls\");var b=document;var c=\"SCRIPT\";\"application/xhtml+xml\"===b.contentType&&(c=c.toLowerCase());'\n",
      "got body b'\\\\x22:28,\\\\x22jsonp\\\\x22:true,\\\\x22msgs\\\\x22:{\\\\x22cibl\\\\x22:\\\\x22Zoekopdracht wissen\\\\x22,\\\\x22dym\\\\x22:\\\\x22Be'\n",
      "got chunk 28507 b'(1),fa=da(2);p(\"sb\",ea);p(\"kn\",fa);h.a=_tvv;h.b=_tvf;h.c=_tvn;h.i=aa;var r=window.gbar.i.i;var t=fun'\n",
      "reading chunks\n",
      "got body b'0\\r\\n\\r\\n'\n",
      "length line b'0\\r\\n'\n",
      "got chunk 0 b''\n"
     ]
    }
   ],
   "source": [
    "while chunked:\n",
    "    print(\"reading chunks\")\n",
    "    length = http_reader.read_line()\n",
    "    print(\"length line\", length)\n",
    "    l = int(length[:-2], 16)\n",
    "\n",
    "    ch = http_reader.read_len(l)\n",
    "    print(\"got chunk\", len(ch), ch[:100])\n",
    "    body += ch\n",
    "    http_reader.read_line()\n",
    "    if l == 0:\n",
    "        break"
   ]
  },
  {
   "cell_type": "code",
   "execution_count": 168,
   "metadata": {},
   "outputs": [
    {
     "data": {
      "text/html": [
       "<!doctype html><html itemscope=\"\" itemtype=\"http://schema.org/WebPage\" lang=\"nl\"><head><meta content=\"text/html; charset=UTF-8\" http-equiv=\"Content-Type\"><meta content=\"/images/branding/googleg/1x/googleg_standard_color_128dp.png\" itemprop=\"image\"><title>Google</title><script nonce=\"CmY+0qKDK4xh+D+EVJT4uA==\">(function(){window.google={kEI:'J0lcYZ-UL-bl7_UP4fGO2AM',kEXPI:'0,202346,1100190,56873,6059,206,4804,2316,383,246,5,1354,5250,1122516,1197783,329484,51224,16114,17444,11240,17572,4859,1361,9290,3030,4745,12834,4998,13228,3847,4192,6430,19044,2779,918,5081,1593,1279,2212,530,149,1103,842,1981,213,4101,109,3405,606,2023,1733,43,521,14670,3227,2845,7,5599,6755,5096,16320,908,2,941,15756,3,576,6459,150,13974,4,1528,2304,1236,5227,5260,2014,13611,4764,2658,4242,2459,656,30,13628,2305,638,1494,16786,2521,3285,2551,4094,3138,6,908,3,3541,1,14713,1811,283,912,5992,16728,1715,2,14022,1931,3909,1680,744,5852,1576,3,8884,1160,1267,5432,2381,2719,4545,3,4046,1427,4149,1239,2887,2,1,12,5539,1412,32,728,4569,242,2335,3120,555,2076,1918,3,23,2,1,3,2612,85,181,2880,720,2,2370,793,5,633,4,1551,570,1371,57,543,113,78,40,1854,318,1581,49,2073,849,3924,2,1,12,713,40,504,301,820,372,131,305,578,950,139,581,238,963,665,753,243,752,1577,1194,514,113,629,323,2,326,2,1020,5,273,5,395,7,141,2,530,53,22,52,11,3,1,2,217,1257,855,15,468,20,235,912,134,6,567,330,68,4,1000,1080,5564046,446,160,1802729,95,4193885,2800696,882,444,1,2,80,1,1796,1,9,2553,1,748,141,795,563,1,4265,1,1,2,1331,4142,2609,155,17,13,72,139,4,2,20,2,169,13,19,46,5,39,96,548,29,2,2,1,2,1,2,2,7,4,1,2,2,2,2,2,2,353,513,186,1,1,158,3,2,2,2,2,2,4,2,3,3,269,551,16,4,7,4,97,14,38,9,1,8,11,45,2,8,10,2,1,2,23953893,4041351,338,3,3905,9,1435,1517,291,113,1421,614,273,851,706',kBL:'sQmO'};google.sn='webhp';google.kHL='nl';})();(function(){\n",
       "var f=this||self;var h,k=[];function l(a){for(var b;a&&(!a.getAttribute||!(b=a.getAttribute(\"eid\")));)a=a.parentNode;return b||h}function m(a){for(var b=null;a&&(!a.getAttribute||!(b=a.getAttribute(\"leid\")));)a=a.parentNode;return b}\n",
       "function n(a,b,c,d,g){var e=\"\";c||-1!==b.search(\"&ei=\")||(e=\"&ei=\"+l(d),-1===b.search(\"&lei=\")&&(d=m(d))&&(e+=\"&lei=\"+d));d=\"\";!c&&f._cshid&&-1===b.search(\"&cshid=\")&&\"slh\"!==a&&(d=\"&cshid=\"+f._cshid);c=c||\"/\"+(g||\"gen_204\")+\"?atyp=i&ct=\"+a+\"&cad=\"+b+e+\"&zx=\"+Date.now()+d;/^http:/i.test(c)&&\"https:\"===window.location.protocol&&(google.ml&&google.ml(Error(\"a\"),!1,{src:c,glmm:1}),c=\"\");return c};h=google.kEI;google.getEI=l;google.getLEI=m;google.ml=function(){return null};google.log=function(a,b,c,d,g){if(c=n(a,b,c,d,g)){a=new Image;var e=k.length;k[e]=a;a.onerror=a.onload=a.onabort=function(){delete k[e]};a.src=c}};google.logUrl=n;}).call(this);(function(){\n",
       "google.y={};google.sy=[];google.x=function(a,b){if(a)var c=a.id;else{do c=Math.random();while(google.y[c])}google.y[c]=[a,b];return!1};google.sx=function(a){google.sy.push(a)};google.lm=[];google.plm=function(a){google.lm.push.apply(google.lm,a)};google.lq=[];google.load=function(a,b,c){google.lq.push([[a],b,c])};google.loadAll=function(a,b){google.lq.push([a,b])};google.bx=!1;google.lx=function(){};}).call(this);google.f={};(function(){\n",
       "document.documentElement.addEventListener(\"submit\",function(b){var a;if(a=b.target){var c=a.getAttribute(\"data-submitfalse\");a=\"1\"===c||\"q\"===c&&!a.elements.q.value?!0:!1}else a=!1;a&&(b.preventDefault(),b.stopPropagation())},!0);document.documentElement.addEventListener(\"click\",function(b){var a;a:{for(a=b.target;a&&a!==document.documentElement;a=a.parentElement)if(\"A\"===a.tagName){a=\"1\"===a.getAttribute(\"data-nohref\");break a}a=!1}a&&b.preventDefault()},!0);}).call(this);</script><style>#gb{font:13px/27px Arial,sans-serif;height:30px}#gbz,#gbg{position:absolute;white-space:nowrap;top:0;height:30px;z-index:1000}#gbz{left:0;padding-left:4px}#gbg{right:0;padding-right:5px}#gbs{background:transparent;position:absolute;top:-999px;visibility:hidden;z-index:998;right:0}.gbto #gbs{background:#fff}#gbx3,#gbx4{background-color:#2d2d2d;background-image:none;_background-image:none;background-position:0 -138px;background-repeat:repeat-x;border-bottom:1px solid #000;font-size:24px;height:29px;_height:30px;opacity:1;filter:alpha(opacity=100);position:absolute;top:0;width:100%;z-index:990}#gbx3{left:0}#gbx4{right:0}#gbb{position:relative}#gbbw{left:0;position:absolute;top:30px;width:100%}.gbtcb{position:absolute;visibility:hidden}#gbz .gbtcb{right:0}#gbg .gbtcb{left:0}.gbxx{display:none !important}.gbxo{opacity:0 !important;filter:alpha(opacity=0) !important}.gbm{position:absolute;z-index:999;top:-999px;visibility:hidden;text-align:left;border:1px solid #bebebe;background:#fff;-moz-box-shadow:-1px 1px 1px rgba(0,0,0,.2);-webkit-box-shadow:0 2px 4px rgba(0,0,0,.2);box-shadow:0 2px 4px rgba(0,0,0,.2)}.gbrtl .gbm{-moz-box-shadow:1px 1px 1px rgba(0,0,0,.2)}.gbto .gbm,.gbto #gbs{top:29px;visibility:visible}#gbz .gbm{left:0}#gbg .gbm{right:0}.gbxms{background-color:#ccc;display:block;position:absolute;z-index:1;top:-1px;left:-2px;right:-2px;bottom:-2px;opacity:.4;-moz-border-radius:3px;filter:progid:DXImageTransform.Microsoft.Blur(pixelradius=5);*opacity:1;*top:-2px;*left:-5px;*right:5px;*bottom:4px;-ms-filter:\"progid:DXImageTransform.Microsoft.Blur(pixelradius=5)\";opacity:1\\0/;top:-4px\\0/;left:-6px\\0/;right:5px\\0/;bottom:4px\\0/}.gbma{position:relative;top:-1px;border-style:solid dashed dashed;border-color:transparent;border-top-color:#c0c0c0;display:-moz-inline-box;display:inline-block;font-size:0;height:0;line-height:0;width:0;border-width:3px 3px 0;padding-top:1px;left:4px}#gbztms1,#gbi4m1,#gbi4s,#gbi4t{zoom:1}.gbtc,.gbmc,.gbmcc{display:block;list-style:none;margin:0;padding:0}.gbmc{background:#fff;padding:10px 0;position:relative;z-index:2;zoom:1}.gbt{position:relative;display:-moz-inline-box;display:inline-block;line-height:27px;padding:0;vertical-align:top}.gbt{*display:inline}.gbto{box-shadow:0 2px 4px rgba(0,0,0,.2);-moz-box-shadow:0 2px 4px rgba(0,0,0,.2);-webkit-box-shadow:0 2px 4px rgba(0,0,0,.2)}.gbzt,.gbgt{cursor:pointer;display:block;text-decoration:none !important}span#gbg6,span#gbg4{cursor:default}.gbts{border-left:1px solid transparent;border-right:1px solid transparent;display:block;*display:inline-block;padding:0 5px;position:relative;z-index:1000}.gbts{*display:inline}.gbzt .gbts{display:inline;zoom:1}.gbto .gbts{background:#fff;border-color:#bebebe;color:#36c;padding-bottom:1px;padding-top:2px}.gbz0l .gbts{color:#fff;font-weight:bold}.gbtsa{padding-right:9px}#gbz .gbzt,#gbz .gbgt,#gbg .gbgt{color:#ccc!important}.gbtb2{display:block;border-top:2px solid transparent}.gbto .gbzt .gbtb2,.gbto .gbgt .gbtb2{border-top-width:0}.gbtb .gbts{background:url(https://ssl.gstatic.com/gb/images/b_8d5afc09.png);_background:url(https://ssl.gstatic.com/gb/images/b8_3615d64d.png);background-position:-27px -22px;border:0;font-size:0;padding:29px 0 0;*padding:27px 0 0;width:1px}.gbzt:hover,.gbzt:focus,.gbgt-hvr,.gbgt:focus{background-color:#4c4c4c;background-image:none;_background-image:none;background-position:0 -102px;background-repeat:repeat-x;outline:none;text-decoration:none !important}.gbpdjs .gbto .gbm{min-width:99%}.gbz0l .gbtb2{border-top-color:#dd4b39!important}#gbi4s,#gbi4s1{font-weight:bold}#gbg6.gbgt-hvr,#gbg6.gbgt:focus{background-color:transparent;background-image:none}.gbg4a{font-size:0;line-height:0}.gbg4a .gbts{padding:27px 5px 0;*padding:25px 5px 0}.gbto .gbg4a .gbts{padding:29px 5px 1px;*padding:27px 5px 1px}#gbi4i,#gbi4id{left:5px;border:0;height:24px;position:absolute;top:1px;width:24px}.gbto #gbi4i,.gbto #gbi4id{top:3px}.gbi4p{display:block;width:24px}#gbi4id{background-position:-44px -101px}#gbmpid{background-position:0 0}#gbmpi,#gbmpid{border:none;display:inline-block;height:48px;width:48px}#gbmpiw{display:inline-block;line-height:9px;padding-left:20px;margin-top:10px;position:relative}#gbmpi,#gbmpid,#gbmpiw{*display:inline}#gbg5{font-size:0}#gbgs5{padding:5px !important}.gbto #gbgs5{padding:7px 5px 6px !important}#gbi5{background:url(https://ssl.gstatic.com/gb/images/b_8d5afc09.png);_background:url(https://ssl.gstatic.com/gb/images/b8_3615d64d.png);background-position:0 0;display:block;font-size:0;height:17px;width:16px}.gbto #gbi5{background-position:-6px -22px}.gbn .gbmt,.gbn .gbmt:visited,.gbnd .gbmt,.gbnd .gbmt:visited{color:#dd8e27 !important}.gbf .gbmt,.gbf .gbmt:visited{color:#900 !important}.gbmt,.gbml1,.gbmlb,.gbmt:visited,.gbml1:visited,.gbmlb:visited{color:#36c !important;text-decoration:none !important}.gbmt,.gbmt:visited{display:block}.gbml1,.gbmlb,.gbml1:visited,.gbmlb:visited{display:inline-block;margin:0 10px}.gbml1,.gbmlb,.gbml1:visited,.gbmlb:visited{*display:inline}.gbml1,.gbml1:visited{padding:0 10px}.gbml1-hvr,.gbml1:focus{outline:none;text-decoration:underline !important}#gbpm .gbml1{display:inline;margin:0;padding:0;white-space:nowrap}.gbmlb,.gbmlb:visited{line-height:27px}.gbmlb-hvr,.gbmlb:focus{outline:none;text-decoration:underline !important}.gbmlbw{color:#ccc;margin:0 10px}.gbmt{padding:0 20px}.gbmt:hover,.gbmt:focus{background:#eee;cursor:pointer;outline:0 solid black;text-decoration:none !important}.gbm0l,.gbm0l:visited{color:#000 !important;font-weight:bold}.gbmh{border-top:1px solid #bebebe;font-size:0;margin:10px 0}#gbd4 .gbmc{background:#f5f5f5;padding-top:0}#gbd4 .gbsbic::-webkit-scrollbar-track:vertical{background-color:#f5f5f5;margin-top:2px}#gbmpdv{background:#fff;border-bottom:1px solid #bebebe;-moz-box-shadow:0 2px 4px rgba(0,0,0,.12);-o-box-shadow:0 2px 4px rgba(0,0,0,.12);-webkit-box-shadow:0 2px 4px rgba(0,0,0,.12);box-shadow:0 2px 4px rgba(0,0,0,.12);position:relative;z-index:1}#gbd4 .gbmh{margin:0}.gbmtc{padding:0;margin:0;line-height:27px}.GBMCC:last-child:after,#GBMPAL:last-child:after{content:'\\0A\\0A';white-space:pre;position:absolute}#gbmps{*zoom:1}#gbd4 .gbpc,#gbmpas .gbmt{line-height:17px}#gbd4 .gbpgs .gbmtc{line-height:27px}#gbd4 .gbmtc{border-bottom:1px solid #bebebe}#gbd4 .gbpc{display:inline-block;margin:16px 0 10px;padding-right:50px;vertical-align:top}#gbd4 .gbpc{*display:inline}.gbpc .gbps,.gbpc .gbps2{display:block;margin:0 20px}#gbmplp.gbps{margin:0 10px}.gbpc .gbps{color:#000;font-weight:bold}.gbpc .gbpd{margin-bottom:5px}.gbpd .gbmt,.gbpd .gbps{color:#666 !important}.gbpd .gbmt{opacity:.4;filter:alpha(opacity=40)}.gbps2{color:#666;display:block}.gbp0{display:none}.gbp0 .gbps2{font-weight:bold}#gbd4 .gbmcc{margin-top:5px}.gbpmc{background:#fef9db}.gbpmc .gbpmtc{padding:10px 20px}#gbpm{border:0;*border-collapse:collapse;border-spacing:0;margin:0;white-space:normal}#gbpm .gbpmtc{border-top:none;color:#000 !important;font:11px Arial,sans-serif}#gbpms{*white-space:nowrap}.gbpms2{font-weight:bold;white-space:nowrap}#gbmpal{*border-collapse:collapse;border-spacing:0;border:0;margin:0;white-space:nowrap;width:100%}.gbmpala,.gbmpalb{font:13px Arial,sans-serif;line-height:27px;padding:10px 20px 0;white-space:nowrap}.gbmpala{padding-left:0;text-align:left}.gbmpalb{padding-right:0;text-align:right}#gbmpasb .gbps{color:#000}#gbmpal .gbqfbb{margin:0 20px}.gbp0 .gbps{*display:inline}a.gbiba{margin:8px 20px 10px}.gbmpiaw{display:inline-block;padding-right:10px;margin-bottom:6px;margin-top:10px}.gbxv{visibility:hidden}.gbmpiaa{display:block;margin-top:10px}.gbmpia{border:none;display:block;height:48px;width:48px}.gbmpnw{display:inline-block;height:auto;margin:10px 0;vertical-align:top}\n",
       ".gbqfb,.gbqfba,.gbqfbb{-moz-border-radius:2px;-webkit-border-radius:2px;border-radius:2px;cursor:default !important;display:inline-block;font-weight:bold;height:29px;line-height:29px;min-width:54px;*min-width:70px;padding:0 8px;text-align:center;text-decoration:none !important;-moz-user-select:none;-webkit-user-select:none}.gbqfb:focus,.gbqfba:focus,.gbqfbb:focus{border:1px solid #4d90fe;-moz-box-shadow:inset 0 0 0 1px rgba(255, 255, 255, 0.5);-webkit-box-shadow:inset 0 0 0 1px rgba(255, 255, 255, 0.5);box-shadow:inset 0 0 0 1px rgba(255, 255, 255, 0.5);outline:none}.gbqfb-hvr:focus,.gbqfba-hvr:focus,.gbqfbb-hvr:focus{-webkit-box-shadow:inset 0 0 0 1px #fff,0 1px 1px rgba(0,0,0,.1);-moz-box-shadow:inset 0 0 0 1px #fff,0 1px 1px rgba(0,0,0,.1);box-shadow:inset 0 0 0 1px #fff,0 1px 1px rgba(0,0,0,.1)}.gbqfb-no-focus:focus{border:1px solid #3079ed;-moz-box-shadow:none;-webkit-box-shadow:none;box-shadow:none}.gbqfb-hvr,.gbqfba-hvr,.gbqfbb-hvr{-webkit-box-shadow:0 1px 1px rgba(0,0,0,.1);-moz-box-shadow:0 1px 1px rgba(0,0,0,.1);box-shadow:0 1px 1px rgba(0,0,0,.1)}.gbqfb::-moz-focus-inner,.gbqfba::-moz-focus-inner,.gbqfbb::-moz-focus-inner{border:0}.gbqfba,.gbqfbb{border:1px solid #dcdcdc;border-color:rgba(0,0,0,.1);color:#444 !important;font-size:11px}.gbqfb{background-color:#4d90fe;background-image:-webkit-gradient(linear,left top,left bottom,from(#4d90fe),to(#4787ed));background-image:-webkit-linear-gradient(top,#4d90fe,#4787ed);background-image:-moz-linear-gradient(top,#4d90fe,#4787ed);background-image:-ms-linear-gradient(top,#4d90fe,#4787ed);background-image:-o-linear-gradient(top,#4d90fe,#4787ed);background-image:linear-gradient(top,#4d90fe,#4787ed);filter:progid:DXImageTransform.Microsoft.gradient(startColorStr='#4d90fe',EndColorStr='#4787ed');border:1px solid #3079ed;color:#fff!important;margin:0 0}.gbqfb-hvr{border-color:#2f5bb7}.gbqfb-hvr:focus{border-color:#2f5bb7}.gbqfb-hvr,.gbqfb-hvr:focus{background-color:#357ae8;background-image:-webkit-gradient(linear,left top,left bottom,from(#4d90fe),to(#357ae8));background-image:-webkit-linear-gradient(top,#4d90fe,#357ae8);background-image:-moz-linear-gradient(top,#4d90fe,#357ae8);background-image:-ms-linear-gradient(top,#4d90fe,#357ae8);background-image:-o-linear-gradient(top,#4d90fe,#357ae8);background-image:linear-gradient(top,#4d90fe,#357ae8)}.gbqfb:active{background-color:inherit;-webkit-box-shadow:inset 0 1px 2px rgba(0, 0, 0, 0.3);-moz-box-shadow:inset 0 1px 2px rgba(0, 0, 0, 0.3);box-shadow:inset 0 1px 2px rgba(0, 0, 0, 0.3)}.gbqfba{background-color:#f5f5f5;background-image:-webkit-gradient(linear,left top,left bottom,from(#f5f5f5),to(#f1f1f1));background-image:-webkit-linear-gradient(top,#f5f5f5,#f1f1f1);background-image:-moz-linear-gradient(top,#f5f5f5,#f1f1f1);background-image:-ms-linear-gradient(top,#f5f5f5,#f1f1f1);background-image:-o-linear-gradient(top,#f5f5f5,#f1f1f1);background-image:linear-gradient(top,#f5f5f5,#f1f1f1);filter:progid:DXImageTransform.Microsoft.gradient(startColorStr='#f5f5f5',EndColorStr='#f1f1f1')}.gbqfba-hvr,.gbqfba-hvr:active{background-color:#f8f8f8;background-image:-webkit-gradient(linear,left top,left bottom,from(#f8f8f8),to(#f1f1f1));background-image:-webkit-linear-gradient(top,#f8f8f8,#f1f1f1);background-image:-moz-linear-gradient(top,#f8f8f8,#f1f1f1);background-image:-ms-linear-gradient(top,#f8f8f8,#f1f1f1);background-image:-o-linear-gradient(top,#f8f8f8,#f1f1f1);background-image:linear-gradient(top,#f8f8f8,#f1f1f1);filter:progid:DXImageTransform.Microsoft.gradient(startColorStr='#f8f8f8',EndColorStr='#f1f1f1')}.gbqfbb{background-color:#fff;background-image:-webkit-gradient(linear,left top,left bottom,from(#fff),to(#fbfbfb));background-image:-webkit-linear-gradient(top,#fff,#fbfbfb);background-image:-moz-linear-gradient(top,#fff,#fbfbfb);background-image:-ms-linear-gradient(top,#fff,#fbfbfb);background-image:-o-linear-gradient(top,#fff,#fbfbfb);background-image:linear-gradient(top,#fff,#fbfbfb);filter:progid:DXImageTransform.Microsoft.gradient(startColorStr='#ffffff',EndColorStr='#fbfbfb')}.gbqfbb-hvr,.gbqfbb-hvr:active{background-color:#fff;background-image:-webkit-gradient(linear,left top,left bottom,from(#fff),to(#f8f8f8));background-image:-webkit-linear-gradient(top,#fff,#f8f8f8);background-image:-moz-linear-gradient(top,#fff,#f8f8f8);background-image:-ms-linear-gradient(top,#fff,#f8f8f8);background-image:-o-linear-gradient(top,#fff,#f8f8f8);background-image:linear-gradient(top,#fff,#f8f8f8);filter:progid:DXImageTransform.Microsoft.gradient(startColorStr='#ffffff',EndColorStr='#f8f8f8')}.gbqfba-hvr,.gbqfba-hvr:active,.gbqfbb-hvr,.gbqfbb-hvr:active{border-color:#c6c6c6;-webkit-box-shadow:0 1px 1px rgba(0,0,0,.1);-moz-box-shadow:0 1px 1px rgba(0,0,0,.1);box-shadow:0 1px 1px rgba(0,0,0,.1);color:#222 !important}.gbqfba:active,.gbqfbb:active{-webkit-box-shadow:inset 0 1px 2px rgba(0,0,0,.1);-moz-box-shadow:inset 0 1px 2px rgba(0,0,0,.1);box-shadow:inset 0 1px 2px rgba(0,0,0,.1)}\n",
       "#gbmpas{max-height:220px}#gbmm{max-height:530px}.gbsb{-webkit-box-sizing:border-box;display:block;position:relative;*zoom:1}.gbsbic{overflow:auto}.gbsbis .gbsbt,.gbsbis .gbsbb{-webkit-mask-box-image:-webkit-gradient(linear,left top,right top,color-stop(0,rgba(0,0,0,.1)),color-stop(.5,rgba(0,0,0,.8)),color-stop(1,rgba(0,0,0,.1)));left:0;margin-right:0;opacity:0;position:absolute;width:100%}.gbsb .gbsbt:after,.gbsb .gbsbb:after{content:\"\";display:block;height:0;left:0;position:absolute;width:100%}.gbsbis .gbsbt{background:-webkit-gradient(linear,left top,left bottom,from(rgba(0,0,0,.2)),to(rgba(0,0,0,0)));background-image:-webkit-linear-gradient(top,rgba(0,0,0,.2),rgba(0,0,0,0));background-image:-moz-linear-gradient(top,rgba(0,0,0,.2),rgba(0,0,0,0));background-image:-ms-linear-gradient(top,rgba(0,0,0,.2),rgba(0,0,0,0));background-image:-o-linear-gradient(top,rgba(0,0,0,.2),rgba(0,0,0,0));background-image:linear-gradient(top,rgba(0,0,0,.2),rgba(0,0,0,0));height:6px;top:0}.gbsb .gbsbt:after{border-top:1px solid #ebebeb;border-color:rgba(0,0,0,.3);top:0}.gbsb .gbsbb{-webkit-mask-box-image:-webkit-gradient(linear,left top,right top,color-stop(0,rgba(0,0,0,.1)),color-stop(.5,rgba(0,0,0,.8)),color-stop(1,rgba(0,0,0,.1)));background:-webkit-gradient(linear,left bottom,left top,from(rgba(0,0,0,.2)),to(rgba(0,0,0,0)));background-image:-webkit-linear-gradient(bottom,rgba(0,0,0,.2),rgba(0,0,0,0));background-image:-moz-linear-gradient(bottom,rgba(0,0,0,.2),rgba(0,0,0,0));background-image:-ms-linear-gradient(bottom,rgba(0,0,0,.2),rgba(0,0,0,0));background-image:-o-linear-gradient(bottom,rgba(0,0,0,.2),rgba(0,0,0,0));background-image:linear-gradient(bottom,rgba(0,0,0,.2),rgba(0,0,0,0));bottom:0;height:4px}.gbsb .gbsbb:after{border-bottom:1px solid #ebebeb;border-color:rgba(0,0,0,.3);bottom:0}\n",
       "</style><style>body,td,a,p,.h{font-family:arial,sans-serif}body{margin:0;overflow-y:scroll}#gog{padding:3px 8px 0}td{line-height:.8em}.gac_m td{line-height:17px}form{margin-bottom:20px}.h{color:#1558d6}em{font-weight:bold;font-style:normal}.lst{height:25px;width:496px}.gsfi,.lst{font:18px arial,sans-serif}.gsfs{font:17px arial,sans-serif}.ds{display:inline-box;display:inline-block;margin:3px 0 4px;margin-left:4px}input{font-family:inherit}body{background:#fff;color:#000}a{color:#4b11a8;text-decoration:none}a:hover,a:active{text-decoration:underline}.fl a{color:#1558d6}a:visited{color:#4b11a8}.sblc{padding-top:5px}.sblc a{display:block;margin:2px 0;margin-left:13px;font-size:11px}.lsbb{background:#f8f9fa;border:solid 1px;border-color:#dadce0 #70757a #70757a #dadce0;height:30px}.lsbb{display:block}#WqQANb a{display:inline-block;margin:0 12px}.lsb{background:url(/images/nav_logo229.png) 0 -261px repeat-x;border:none;color:#000;cursor:pointer;height:30px;margin:0;outline:0;font:15px arial,sans-serif;vertical-align:top}.lsb:active{background:#dadce0}.lst:focus{outline:none}</style><script nonce=\"CmY+0qKDK4xh+D+EVJT4uA==\">(function(){window.google.erd={sp:'hp',jsr:0,bv:1454};\n",
       "var f=this||self;var g,h,k=null!==(g=f.mei)&&void 0!==g?g:1,l=null!==(h=f.sdo)&&void 0!==h?h:!0,n=0,p,q=google.erd,t=q.jsr;google.ml=function(a,b,e,m,d){d=void 0===d?2:d;b&&(p=a&&a.message);if(google.dl)return google.dl(a,d,e),null;if(0>t){window.console&&console.error(a,e);if(-2===t)throw a;b=!1}else b=!a||!a.message||\"Error loading script\"===a.message||n>=k&&!m?!1:!0;if(!b)return null;n++;e=e||{};b=encodeURIComponent;var c=\"/gen_204?atyp=i&ei=\"+b(google.kEI);google.kEXPI&&(c+=\"&jexpid=\"+b(google.kEXPI));c+=\"&srcpg=\"+b(q.sp)+\"&jsr=\"+b(q.jsr)+\"&bver=\"+b(q.bv)+(\"&jsel=\"+d);c+=\"&sn=\"+b(google.sn);for(var r in e)c+=\"&\",c+=b(r),c+=\"=\",c+=b(e[r]);c=c+\"&emsg=\"+b(a.name+\": \"+a.message);c=c+\"&jsst=\"+b(a.stack||\"N/A\");12288<=c.length&&(c=c.substr(0,12288));a=c;m||google.log(0,\"\",a);return a};window.onerror=function(a,b,e,m,d){p!==a&&google.ml(d instanceof Error?d:Error(a),!1,void 0,!1,0);p=null;l&&n>=k&&(window.onerror=null)};})();(function(){try{/*\n",
       "\n",
       " Copyright The Closure Library Authors.\n",
       " SPDX-License-Identifier: Apache-2.0\n",
       "*/\n",
       "var e=this||self;var aa=function(a,b,c,d){d=d||{};d._sn=[\"cfg\",b,c].join(\".\");window.gbar.logger.ml(a,d)};var g=window.gbar=window.gbar||{},h=window.gbar.i=window.gbar.i||{},ba;function _tvn(a,b){a=parseInt(a,10);return isNaN(a)?b:a}function _tvf(a,b){a=parseFloat(a);return isNaN(a)?b:a}function _tvv(a){return!!a}function p(a,b,c){(c||g)[a]=b}g.bv={n:_tvn(\"2\",0),r:\"\",f:\".66.\",e:\"\",m:_tvn(\"1\",1)};\n",
       "function ca(a,b,c){var d=\"on\"+b;if(a.addEventListener)a.addEventListener(b,c,!1);else if(a.attachEvent)a.attachEvent(d,c);else{var f=a[d];a[d]=function(){var k=f.apply(this,arguments),m=c.apply(this,arguments);return void 0==k?m:void 0==m?k:m&&k}}}var da=function(a){return function(){return g.bv.m==a}},ea=da(1),fa=da(2);p(\"sb\",ea);p(\"kn\",fa);h.a=_tvv;h.b=_tvf;h.c=_tvn;h.i=aa;var r=window.gbar.i.i;var t=function(){},ha=function(){},ka=function(a){var b=new Image,c=ia;b.onerror=b.onload=b.onabort=function(){try{delete ja[c]}catch(d){}};ja[c]=b;b.src=a;ia=c+1},ja=[],ia=0;p(\"logger\",{il:ha,ml:t,log:ka});var u=window.gbar.logger;var v={},la={},w=[],ma=h.b(\"0.1\",.1),na=h.a(\"1\",!0),oa=function(a,b){w.push([a,b])},pa=function(a,b){v[a]=b},qa=function(a){return a in v},x={},A=function(a,b){x[a]||(x[a]=[]);x[a].push(b)},B=function(a){A(\"m\",a)},ra=function(a,b){var c=document.createElement(\"script\");c.src=a;c.async=na;Math.random()<ma&&(c.onerror=function(){c.onerror=null;t(Error(\"Bundle load failed: name=\"+(b||\"UNK\")+\" url=\"+a))});(document.getElementById(\"xjsc\")||document.getElementsByTagName(\"body\")[0]||\n",
       "document.getElementsByTagName(\"head\")[0]).appendChild(c)},D=function(a){for(var b=0,c;(c=w[b])&&c[0]!=a;++b);!c||c[1].l||c[1].s||(c[1].s=!0,sa(2,a),c[1].url&&ra(c[1].url,a),c[1].libs&&C&&C(c[1].libs))},ta=function(a){A(\"gc\",a)},ua=null,va=function(a){ua=a},sa=function(a,b,c){if(ua){a={t:a,b:b};if(c)for(var d in c)a[d]=c[d];try{ua(a)}catch(f){}}};p(\"mdc\",v);p(\"mdi\",la);p(\"bnc\",w);p(\"qGC\",ta);p(\"qm\",B);p(\"qd\",x);p(\"lb\",D);p(\"mcf\",pa);p(\"bcf\",oa);p(\"aq\",A);p(\"mdd\",\"\");\n",
       "p(\"has\",qa);p(\"trh\",va);p(\"tev\",sa);if(h.a(\"m;/_/scs/abc-static/_/js/k=gapi.gapi.en.M5RD94rmgZI.O/d=1/rs=AHpOoo8z3ZIGbS4Q1hdxlO0-i7gQCAheug/m=__features__\")){var F=function(a,b){return wa?a||b:b},xa=h.a(\"1\"),ya=h.a(\"\"),za=h.a(\"\"),wa=h.a(\"\"),Aa=window.gapi=F(window.gapi,{}),Ba=function(a,b){var c=function(){g.dgl(a,b)};xa?B(c):(A(\"gl\",c),D(\"gl\"))},Ca={},Da=function(a){a=a.split(\":\");for(var b;(b=a.pop())&&Ca[b];);return!b},C=function(a){function b(){for(var c=a.split(\":\"),d=0,f;f=c[d];++d)Ca[f]=1;for(c=0;d=w[c];++c)d=d[1],(f=d.libs)&&!d.l&&d.i&&\n",
       "Da(f)&&d.i()}g.dgl(a,b)},G=window.___jsl=F(window.___jsl,{});G.h=F(G.h,\"m;/_/scs/abc-static/_/js/k=gapi.gapi.en.M5RD94rmgZI.O/d=1/rs=AHpOoo8z3ZIGbS4Q1hdxlO0-i7gQCAheug/m=__features__\");G.ms=F(G.ms,\"https://apis.google.com\");G.m=F(G.m,\"\");G.l=F(G.l,[]);G.dpo=F(G.dpo,\"\");xa||w.push([\"gl\",{url:\"//ssl.gstatic.com/gb/js/abc/glm_e7bb39a7e1a24581ff4f8d199678b1b9.js\"}]);var Ea={pu:ya,sh:\"\",si:za,hl:\"nl\"};v.gl=Ea;wa?Aa.load||p(\"load\",Ba,Aa):p(\"load\",Ba,Aa);p(\"dgl\",Ba);p(\"agl\",Da);h.o=xa};var Fa=h.b(\"0.1\",.001),Ga=0;\n",
       "function _mlToken(a,b){try{if(1>Ga){Ga++;var c=a;b=b||{};var d=encodeURIComponent,f=[\"//www.google.com/gen_204?atyp=i&zx=\",(new Date).getTime(),\"&jexpid=\",d(\"28834\"),\"&srcpg=\",d(\"prop=1\"),\"&jsr=\",Math.round(1/Fa),\"&ogev=\",d(\"J0lcYZzEMOqN9u8P1Ly8kAg\"),\"&ogf=\",g.bv.f,\"&ogrp=\",d(\"\"),\"&ogv=\",d(\"397607489.0\"),\"&oggv=\"+d(\"es_plusone_gc_20210908.0_p0\"),\"&ogd=\",d(\"com\"),\"&ogc=\",d(\"NLD\"),\"&ogl=\",d(\"nl\")];b._sn&&(b._sn=\n",
       "\"og.\"+b._sn);for(var k in b)f.push(\"&\"),f.push(d(k)),f.push(\"=\"),f.push(d(b[k]));f.push(\"&emsg=\");f.push(d(c.name+\":\"+c.message));var m=f.join(\"\");Ha(m)&&(m=m.substr(0,2E3));var n=m;var l=window.gbar.logger._aem(a,n);ka(l)}}catch(q){}}var Ha=function(a){return 2E3<=a.length},Ia=function(a,b){return b};function Ja(a){t=a;p(\"_itl\",Ha,u);p(\"_aem\",Ia,u);p(\"ml\",t,u);a={};v.er=a}h.a(\"\")?Ja(function(a){throw a;}):h.a(\"1\")&&Math.random()<Fa&&Ja(_mlToken);var _E=\"left\",Ka=h.a(\"\"),J=function(a,b){var c=a.className;H(a,b)||(a.className+=(\"\"!=c?\" \":\"\")+b)},K=function(a,b){var c=a.className;b=new RegExp(\"\\\\s?\\\\b\"+b+\"\\\\b\");c&&c.match(b)&&(a.className=c.replace(b,\"\"))},H=function(a,b){b=new RegExp(\"\\\\b\"+b+\"\\\\b\");a=a.className;return!(!a||!a.match(b))},La=function(a,b){H(a,b)?K(a,b):J(a,b)},Ma=function(a,b){a[b]=function(c){var d=arguments;g.qm(function(){a[b].apply(this,d)})}},Na=function(a){a=[\"//www.gstatic.com\",\"/og/_/js/d=1/k=\",\n",
       "\"og.og2.en_US.RFs2arpLbf8.O\",\"/rt=j/m=\",a,\"/rs=\",\"AA2YrTs0Bn8EPROAMcq8y7gMTEtrKLs9zw\"];Ka&&a.push(\"?host=www.gstatic.com&bust=og.og2.en_US.oixA733hfUU.DU\");a=a.join(\"\");ra(a)};p(\"ca\",J);p(\"cr\",K);p(\"cc\",H);h.k=J;h.l=K;h.m=H;h.n=La;h.p=Na;h.q=Ma;var Oa=[\"gb_71\",\"gb_155\"],Pa;function Qa(a){Pa=a}function Ra(a){var b=Pa&&!a.href.match(/.*\\/accounts\\/ClearSID[?]/)&&encodeURIComponent(Pa());b&&(a.href=a.href.replace(/([?&]continue=)[^&]*/,\"$1\"+b))}function Sa(a){window.gApplication&&(a.href=window.gApplication.getTabUrl(a.href))}function Ta(a){try{var b=(document.forms[0].q||\"\").value;b&&(a.href=a.href.replace(/([?&])q=[^&]*|$/,function(c,d){return(d||\"&\")+\"q=\"+encodeURIComponent(b)}))}catch(c){r(c,\"sb\",\"pq\")}}\n",
       "var Ua=function(){for(var a=[],b=0,c;c=Oa[b];++b)(c=document.getElementById(c))&&a.push(c);return a},Va=function(){var a=Ua();return 0<a.length?a[0]:null},Wa=function(){return document.getElementById(\"gb_70\")},L={},M={},Xa={},N={},O=void 0,bb=function(a,b){try{var c=document.getElementById(\"gb\");J(c,\"gbpdjs\");P();Ya(document.getElementById(\"gb\"))&&J(c,\"gbrtl\");if(b&&b.getAttribute){var d=b.getAttribute(\"aria-owns\");if(d.length){var f=document.getElementById(d);if(f){var k=b.parentNode;if(O==d)O=void 0,\n",
       "K(k,\"gbto\");else{if(O){var m=document.getElementById(O);if(m&&m.getAttribute){var n=m.getAttribute(\"aria-owner\");if(n.length){var l=document.getElementById(n);l&&l.parentNode&&K(l.parentNode,\"gbto\")}}}Za(f)&&$a(f);O=d;J(k,\"gbto\")}}}}B(function(){g.tg(a,b,!0)});ab(a)}catch(q){r(q,\"sb\",\"tg\")}},cb=function(a){B(function(){g.close(a)})},db=function(a){B(function(){g.rdd(a)})},Ya=function(a){var b,c=document.defaultView;c&&c.getComputedStyle?(a=c.getComputedStyle(a,\"\"))&&(b=a.direction):b=a.currentStyle?\n",
       "a.currentStyle.direction:a.style.direction;return\"rtl\"==b},fb=function(a,b,c){if(a)try{var d=document.getElementById(\"gbd5\");if(d){var f=d.firstChild,k=f.firstChild,m=document.createElement(\"li\");m.className=b+\" gbmtc\";m.id=c;a.className=\"gbmt\";m.appendChild(a);if(k.hasChildNodes()){c=[[\"gbkc\"],[\"gbf\",\"gbe\",\"gbn\"],[\"gbkp\"],[\"gbnd\"]];d=0;var n=k.childNodes.length;f=!1;for(var l=-1,q=0,E;E=c[q];q++){for(var U=0,I;I=E[U];U++){for(;d<n&&H(k.childNodes[d],I);)d++;if(I==b){k.insertBefore(m,k.childNodes[d]||\n",
       "null);f=!0;break}}if(f){if(d+1<k.childNodes.length){var V=k.childNodes[d+1];H(V.firstChild,\"gbmh\")||eb(V,E)||(l=d+1)}else if(0<=d-1){var W=k.childNodes[d-1];H(W.firstChild,\"gbmh\")||eb(W,E)||(l=d)}break}0<d&&d+1<n&&d++}if(0<=l){var y=document.createElement(\"li\"),z=document.createElement(\"div\");y.className=\"gbmtc\";z.className=\"gbmt gbmh\";y.appendChild(z);k.insertBefore(y,k.childNodes[l])}g.addHover&&g.addHover(a)}else k.appendChild(m)}}catch(Db){r(Db,\"sb\",\"al\")}},eb=function(a,b){for(var c=b.length,\n",
       "d=0;d<c;d++)if(H(a,b[d]))return!0;return!1},gb=function(a,b,c){fb(a,b,c)},hb=function(a,b){fb(a,\"gbe\",b)},ib=function(){B(function(){g.pcm&&g.pcm()})},jb=function(){B(function(){g.pca&&g.pca()})},kb=function(a,b,c,d,f,k,m,n,l,q){B(function(){g.paa&&g.paa(a,b,c,d,f,k,m,n,l,q)})},lb=function(a,b){L[a]||(L[a]=[]);L[a].push(b)},mb=function(a,b){M[a]||(M[a]=[]);M[a].push(b)},nb=function(a,b){Xa[a]=b},ob=function(a,b){N[a]||(N[a]=[]);N[a].push(b)},ab=function(a){a.preventDefault&&a.preventDefault();a.returnValue=\n",
       "!1;a.cancelBubble=!0},pb=null,$a=function(a,b){P();if(a){qb(a,\"Openen&hellip;\");Q(a,!0);b=\"undefined\"!=typeof b?b:1E4;var c=function(){rb(a)};pb=window.setTimeout(c,b)}},sb=function(a){P();a&&(Q(a,!1),qb(a,\"\"))},rb=function(a){try{P();var b=a||document.getElementById(O);b&&(qb(b,\"Deze service is momenteel niet beschikbaar.%1$sProbeer het later opnieuw.\",\"%1$s\"),Q(b,!0))}catch(c){r(c,\"sb\",\"sdhe\")}},qb=function(a,b,c){if(a&&b){var d=Za(a);if(d){if(c){d.textContent=\"\";b=b.split(c);c=0;for(var f;f=b[c];c++){var k=document.createElement(\"div\");\n",
       "k.innerHTML=f;d.appendChild(k)}}else d.innerHTML=b;Q(a,!0)}}},Q=function(a,b){(b=void 0!==b?b:!0)?J(a,\"gbmsgo\"):K(a,\"gbmsgo\")},Za=function(a){for(var b=0,c;c=a.childNodes[b];b++)if(H(c,\"gbmsg\"))return c},P=function(){pb&&window.clearTimeout(pb)},tb=function(a){var b=\"inner\"+a;a=\"offset\"+a;return window[b]?window[b]:document.documentElement&&document.documentElement[a]?document.documentElement[a]:0},ub=function(){return!1},vb=function(){return!!O};p(\"so\",Va);p(\"sos\",Ua);p(\"si\",Wa);p(\"tg\",bb);\n",
       "p(\"close\",cb);p(\"rdd\",db);p(\"addLink\",gb);p(\"addExtraLink\",hb);p(\"pcm\",ib);p(\"pca\",jb);p(\"paa\",kb);p(\"ddld\",$a);p(\"ddrd\",sb);p(\"dderr\",rb);p(\"rtl\",Ya);p(\"op\",vb);p(\"bh\",L);p(\"abh\",lb);p(\"dh\",M);p(\"adh\",mb);p(\"ch\",N);p(\"ach\",ob);p(\"eh\",Xa);p(\"aeh\",nb);ba=h.a(\"\")?Sa:Ta;p(\"qs\",ba);p(\"setContinueCb\",Qa);p(\"pc\",Ra);p(\"bsy\",ub);h.d=ab;h.j=tb;var wb={};v.base=wb;w.push([\"m\",{url:\"//ssl.gstatic.com/gb/js/sem_caaa306fe962d0ecdfbbdab2bfc3732c.js\"}]);g.sg={c:\"1\"};p(\"wg\",{rg:{}});var xb={tiw:h.c(\"15000\",0),tie:h.c(\"30000\",0)};v.wg=xb;var yb={thi:h.c(\"10000\",0),thp:h.c(\"180000\",0),tho:h.c(\"5000\",0),tet:h.b(\"0.5\",0)};v.wm=yb;if(h.a(\"1\")){var zb=h.a(\"\");w.push([\"gc\",{auto:zb,url:\"//ssl.gstatic.com/gb/js/abc/gci_91f30755d6a6b787dcc2a4062e6e9824.js\",libs:\"googleapis.client:gapi.iframes\"}]);var Ab={version:\"gci_91f30755d6a6b787dcc2a4062e6e9824.js\",index:\"\",lang:\"nl\"};v.gc=Ab;var Bb=function(a){window.googleapis&&window.iframes?a&&a():(a&&ta(a),D(\"gc\"))};p(\"lGC\",Bb);h.a(\"1\")&&p(\"lPWF\",Bb)};window.__PVT=\"\";if(h.a(\"1\")&&h.a(\"1\")){var Cb=function(a){Bb(function(){A(\"pw\",a);D(\"pw\")})};p(\"lPW\",Cb);w.push([\"pw\",{url:\"//ssl.gstatic.com/gb/js/abc/pwm_45f73e4df07a0e388b0fa1f3d30e7280.js\"}]);var Eb=[],Fb=function(a){Eb[0]=a},Gb=function(a,b){b=b||{};b._sn=\"pw\";t(a,b)},Hb={signed:Eb,elog:Gb,base:\"https://plusone.google.com/u/0\",loadTime:(new Date).getTime()};v.pw=Hb;var Ib=function(a,b){var c=b.split(\".\");b=function(){var m=arguments;a(function(){for(var n=g,l=0,q=c.length-1;l<q;++l)n=n[c[l]];n[c[l]].apply(n,m)})};for(var d=g,f=0,k=c.length-1;f<\n",
       "k;++f)d=d[c[f]]=d[c[f]]||{};return d[c[f]]=b};Ib(Cb,\"pw.clk\");Ib(Cb,\"pw.hvr\");p(\"su\",Fb,g.pw)};var Jb=[1,2,3,4,5,6,9,10,11,13,14,28,29,30,34,35,37,38,39,40,41,42,43,48,49,500];var Kb=h.b(\"0.001\",1E-4),Lb=h.b(\"1\",1),Mb=!1,Nb=!1;if(h.a(\"1\")){var Ob=Math.random();Ob<Kb&&(Mb=!0);Ob<Lb&&(Nb=!0)}var R=null;\n",
       "function Pb(a,b){var c=Kb,d=Mb;var f=a;if(!R){R={};for(var k=0;k<Jb.length;k++){var m=Jb[k];R[m]=!0}}if(f=!!R[f])c=Lb,d=Nb;if(d){d=encodeURIComponent;if(g.rp){var n=g.rp();n=\"-1\"!=n?n:\"\"}else n=\"\";f=(new Date).getTime();k=d(\"28834\");m=d(\"J0lcYZzEMOqN9u8P1Ly8kAg\");var l=g.bv.f,q=d(\"1\");n=d(n);c=Math.round(1/c);var E=d(\"397607489.0\"),U=\"&oggv=\"+d(\"es_plusone_gc_20210908.0_p0\"),I=d(\"com\"),V=d(\"nl\"),W=\n",
       "d(\"NLD\");var y=0;h.a(\"\")&&(y|=1);h.a(\"\")&&(y|=2);h.a(\"\")&&(y|=4);a=[\"//www.google.com/gen_204?atyp=i&zx=\",f,\"&oge=\",a,\"&ogex=\",k,\"&ogev=\",m,\"&ogf=\",l,\"&ogp=\",q,\"&ogrp=\",n,\"&ogsr=\",c,\"&ogv=\",E,U,\"&ogd=\",I,\"&ogl=\",V,\"&ogc=\",W,\"&ogus=\",y];if(b){\"ogw\"in b&&(a.push(\"&ogw=\"+b.ogw),delete b.ogw);f=[];for(z in b)0!=f.length&&f.push(\",\"),f.push(Qb(z)),f.push(\".\"),f.push(Qb(b[z]));var z=f.join(\"\");\"\"!=z&&(a.push(\"&ogad=\"),a.push(d(z)))}ka(a.join(\"\"))}}\n",
       "function Qb(a){\"number\"==typeof a&&(a+=\"\");return\"string\"==typeof a?a.replace(\".\",\"%2E\").replace(\",\",\"%2C\"):a}ha=Pb;p(\"il\",ha,u);var Rb={};v.il=Rb;var Sb=function(a,b,c,d,f,k,m,n,l,q){B(function(){g.paa(a,b,c,d,f,k,m,n,l,q)})},Tb=function(){B(function(){g.prm()})},Ub=function(a){B(function(){g.spn(a)})},Vb=function(a){B(function(){g.sps(a)})},Wb=function(a){B(function(){g.spp(a)})},Xb={\"27\":\"https://lh3.googleusercontent.com/ogw/default-user=s24\",\"27\":\"https://lh3.googleusercontent.com/ogw/default-user=s24\",\"27\":\"https://lh3.googleusercontent.com/ogw/default-user=s24\"},Yb=function(a){return(a=Xb[a])||\"https://lh3.googleusercontent.com/ogw/default-user=s24\"},\n",
       "Zb=function(){B(function(){g.spd()})};p(\"spn\",Ub);p(\"spp\",Wb);p(\"sps\",Vb);p(\"spd\",Zb);p(\"paa\",Sb);p(\"prm\",Tb);lb(\"gbd4\",Tb);\n",
       "if(h.a(\"\")){var $b={d:h.a(\"\"),e:\"\",sanw:h.a(\"\"),p:\"https://lh3.googleusercontent.com/ogw/default-user=s96\",cp:\"1\",xp:h.a(\"1\"),mg:\"%1$s (gedelegeerd)\",md:\"%1$s (standaard)\",mh:\"220\",s:\"1\",pp:Yb,ppl:h.a(\"\"),ppa:h.a(\"\"),\n",
       "ppm:\"Google+-pagina\"};v.prf=$b};var S,ac,T,bc,X=0,cc=function(a,b,c){if(a.indexOf)return a.indexOf(b,c);if(Array.indexOf)return Array.indexOf(a,b,c);for(c=null==c?0:0>c?Math.max(0,a.length+c):c;c<a.length;c++)if(c in a&&a[c]===b)return c;return-1},Y=function(a,b){return-1==cc(a,X)?(r(Error(X+\"_\"+b),\"up\",\"caa\"),!1):!0},ec=function(a,b){Y([1,2],\"r\")&&(S[a]=S[a]||[],S[a].push(b),2==X&&window.setTimeout(function(){b(dc(a))},0))},fc=function(a,b,c){if(Y([1],\"nap\")&&c){for(var d=0;d<c.length;d++)ac[c[d]]=!0;g.up.spl(a,b,\"nap\",c)}},gc=\n",
       "function(a,b,c){if(Y([1],\"aop\")&&c){if(T)for(var d in T)T[d]=T[d]&&-1!=cc(c,d);else for(T={},d=0;d<c.length;d++)T[c[d]]=!0;g.up.spl(a,b,\"aop\",c)}},hc=function(){try{if(X=2,!bc){bc=!0;for(var a in S)for(var b=S[a],c=0;c<b.length;c++)try{b[c](dc(a))}catch(d){r(d,\"up\",\"tp\")}}}catch(d){r(d,\"up\",\"mtp\")}},dc=function(a){if(Y([2],\"ssp\")){var b=!ac[a];T&&(b=b&&!!T[a]);return b}};bc=!1;S={};ac={};T=null;X=1;\n",
       "var ic=function(a){var b=!1;try{b=a.cookie&&a.cookie.match(\"PREF\")}catch(c){}return!b},jc=function(){try{return!!e.localStorage&&\"object\"==typeof e.localStorage}catch(a){return!1}},kc=function(a){return a&&a.style&&a.style.behavior&&\"undefined\"!=typeof a.load},lc=function(a,b,c,d){try{ic(document)||(d||(b=\"og-up-\"+b),jc()?e.localStorage.setItem(b,c):kc(a)&&(a.setAttribute(b,c),a.save(a.id)))}catch(f){f.code!=DOMException.QUOTA_EXCEEDED_ERR&&r(f,\"up\",\"spd\")}},mc=function(a,b,c){try{if(ic(document))return\"\";\n",
       "c||(b=\"og-up-\"+b);if(jc())return e.localStorage.getItem(b);if(kc(a))return a.load(a.id),a.getAttribute(b)}catch(d){d.code!=DOMException.QUOTA_EXCEEDED_ERR&&r(d,\"up\",\"gpd\")}return\"\"},nc=function(a,b,c){a.addEventListener?a.addEventListener(b,c,!1):a.attachEvent&&a.attachEvent(\"on\"+b,c)},oc=function(a){for(var b=0,c;c=a[b];b++){var d=g.up;c=c in d&&d[c];if(!c)return!1}return!0},pc=function(a,b){try{if(ic(a))return-1;var c=a.cookie.match(/OGPC=([^;]*)/);if(c&&c[1]){var d=c[1].match(new RegExp(\"\\\\b\"+\n",
       "b+\"-([0-9]+):\"));if(d&&d[1])return parseInt(d[1],10)}}catch(f){f.code!=DOMException.QUOTA_EXCEEDED_ERR&&r(f,\"up\",\"gcc\")}return-1};p(\"up\",{r:ec,nap:fc,aop:gc,tp:hc,ssp:dc,spd:lc,gpd:mc,aeh:nc,aal:oc,gcc:pc});var Z=function(a,b){a[b]=function(c){var d=arguments;g.qm(function(){a[b].apply(this,d)})}};Z(g.up,\"sl\");Z(g.up,\"si\");Z(g.up,\"spl\");Z(g.up,\"dpc\");Z(g.up,\"iic\");g.mcf(\"up\",{sp:h.b(\"0.01\",1),tld:\"nl\",prid:\"1\"});function qc(){function a(){for(var l;(l=k[m++])&&\"m\"!=l[0]&&!l[1].auto;);l&&(sa(2,l[0]),l[1].url&&ra(l[1].url,l[0]),l[1].libs&&C&&C(l[1].libs));m<k.length&&setTimeout(a,0)}function b(){0<f--?setTimeout(b,0):a()}var c=h.a(\"1\"),d=h.a(\"\"),f=3,k=w,m=0,n=window.gbarOnReady;if(n)try{n()}catch(l){r(l,\"ml\",\"or\")}d?p(\"ldb\",a):c?ca(window,\"load\",b):b()}p(\"rdl\",qc);}catch(e){window.gbar&&gbar.logger&&gbar.logger.ml(e,{\"_sn\":\"cfg.init\"});}})();\n",
       "(function(){try{/*\n",
       "\n",
       " Copyright The Closure Library Authors.\n",
       " SPDX-License-Identifier: Apache-2.0\n",
       "*/\n",
       "var b=window.gbar.i.i;var c=window.gbar;var f=function(d){try{var a=document.getElementById(\"gbom\");a&&d.appendChild(a.cloneNode(!0))}catch(e){b(e,\"omas\",\"aomc\")}};c.aomc=f;}catch(e){window.gbar&&gbar.logger&&gbar.logger.ml(e,{\"_sn\":\"cfg.init\"});}})();\n",
       "(function(){try{/*\n",
       "\n",
       " Copyright The Closure Library Authors.\n",
       " SPDX-License-Identifier: Apache-2.0\n",
       "*/\n",
       "var a=window.gbar;a.mcf(\"pm\",{p:\"\"});}catch(e){window.gbar&&gbar.logger&&gbar.logger.ml(e,{\"_sn\":\"cfg.init\"});}})();\n",
       "(function(){try{/*\n",
       "\n",
       " Copyright The Closure Library Authors.\n",
       " SPDX-License-Identifier: Apache-2.0\n",
       "*/\n",
       "var a=window.gbar;a.mcf(\"mm\",{s:\"1\"});}catch(e){window.gbar&&gbar.logger&&gbar.logger.ml(e,{\"_sn\":\"cfg.init\"});}})();\n",
       "(function(){try{/*\n",
       "\n",
       " Copyright The Closure Library Authors.\n",
       " SPDX-License-Identifier: Apache-2.0\n",
       "*/\n",
       "var d=window.gbar.i.i;var e=window.gbar;var f=e.i;var g=f.c(\"1\",0),h=/\\bgbmt\\b/,k=function(a){try{var b=document.getElementById(\"gb_\"+g),c=document.getElementById(\"gb_\"+a);b&&f.l(b,h.test(b.className)?\"gbm0l\":\"gbz0l\");c&&f.k(c,h.test(c.className)?\"gbm0l\":\"gbz0l\")}catch(l){d(l,\"sj\",\"ssp\")}g=a},m=e.qs,n=function(a){var b=a.href;var c=window.location.href.match(/.*?:\\/\\/[^\\/]*/)[0];c=new RegExp(\"^\"+c+\"/search\\\\?\");(b=c.test(b))&&!/(^|\\\\?|&)ei=/.test(a.href)&&(b=window.google)&&b.kEXPI&&(a.href+=\"&ei=\"+b.kEI)},p=function(a){m(a);\n",
       "n(a)},q=function(){if(window.google&&window.google.sn){var a=/.*hp$/;return a.test(window.google.sn)?\"\":\"1\"}return\"-1\"};e.rp=q;e.slp=k;e.qs=p;e.qsi=n;}catch(e){window.gbar&&gbar.logger&&gbar.logger.ml(e,{\"_sn\":\"cfg.init\"});}})();\n",
       "(function(){try{/*\n",
       "\n",
       " Copyright The Closure Library Authors.\n",
       " SPDX-License-Identifier: Apache-2.0\n",
       "*/\n",
       "var a=this||self;var b=window.gbar;var c=b.i;var d=c.a,e=c.c,f={cty:\"NLD\",cv:\"397607489\",dbg:d(\"\"),ecv:\"0\",ei:e(\"J0lcYZzEMOqN9u8P1Ly8kAg\"),ele:d(\"1\"),esr:e(\"0.1\"),evts:[\"mousedown\",\"touchstart\",\"touchmove\",\"wheel\",\"keydown\"],gbl:\"es_plusone_gc_20210908.0_p0\",hd:\"com\",hl:\"nl\",irp:d(\"\"),pid:e(\"1\"),\n",
       "snid:e(\"28834\"),to:e(\"300000\"),u:e(\"\"),vf:\".66.\"},g=f,h=[\"bndcfg\"],k=a;h[0]in k||\"undefined\"==typeof k.execScript||k.execScript(\"var \"+h[0]);for(var l;h.length&&(l=h.shift());)h.length||void 0===g?k=k[l]&&k[l]!==Object.prototype[l]?k[l]:k[l]={}:k[l]=g;}catch(e){window.gbar&&gbar.logger&&gbar.logger.ml(e,{\"_sn\":\"cfg.init\"});}})();\n",
       "(function(){try{/*\n",
       "\n",
       " Copyright The Closure Library Authors.\n",
       " SPDX-License-Identifier: Apache-2.0\n",
       "*/\n",
       "window.gbar.rdl();}catch(e){window.gbar&&gbar.logger&&gbar.logger.ml(e,{\"_sn\":\"cfg.init\"});}})();\n",
       "</script></head><body bgcolor=\"#fff\"><script nonce=\"CmY+0qKDK4xh+D+EVJT4uA==\">(function(){var src='/images/nav_logo229.png';var iesg=false;document.body.onload = function(){window.n && window.n();if (document.images){new Image().src=src;}\n",
       "if (!iesg){document.f&&document.f.q.focus();document.gbqf&&document.gbqf.q.focus();}\n",
       "}\n",
       "})();</script><div id=\"mngb\"><div id=gb><script nonce='CmY+0qKDK4xh+D+EVJT4uA=='>window.gbar&&gbar.eli&&gbar.eli()</script><div id=gbw><div id=gbz><span class=gbtcb></span><ol id=gbzc class=gbtc><li class=gbt><a class=\"gbzt gbz0l gbp1\" id=gb_1 href=\"https://www.google.nl/webhp?tab=ww\"><span class=gbtb2></span><span class=gbts>Zoeken</span></a></li><li class=gbt><a class=gbzt id=gb_2 href=\"https://www.google.nl/imghp?hl=nl&tab=wi\"><span class=gbtb2></span><span class=gbts>Afbeeldingen</span></a></li><li class=gbt><a class=gbzt id=gb_8 href=\"https://maps.google.nl/maps?hl=nl&tab=wl\"><span class=gbtb2></span><span class=gbts>Maps</span></a></li><li class=gbt><a class=gbzt id=gb_78 href=\"https://play.google.com/?hl=nl&tab=w8\"><span class=gbtb2></span><span class=gbts>Play</span></a></li><li class=gbt><a class=gbzt id=gb_36 href=\"https://www.youtube.com/?gl=NL&tab=w1\"><span class=gbtb2></span><span class=gbts>YouTube</span></a></li><li class=gbt><a class=gbzt id=gb_426 href=\"https://news.google.com/?tab=wn\"><span class=gbtb2></span><span class=gbts>Nieuws</span></a></li><li class=gbt><a class=gbzt id=gb_23 href=\"https://mail.google.com/mail/?tab=wm\"><span class=gbtb2></span><span class=gbts>Gmail</span></a></li><li class=gbt><a class=gbzt id=gb_49 href=\"https://drive.google.com/?tab=wo\"><span class=gbtb2></span><span class=gbts>Drive</span></a></li><li class=gbt><a class=gbgt id=gbztm href=\"https://www.google.nl/intl/nl/about/products?tab=wh\"  aria-haspopup=true aria-owns=gbd><span class=gbtb2></span><span id=gbztms class=\"gbts gbtsa\"><span id=gbztms1>Meer</span><span class=gbma></span></span></a><script nonce='CmY+0qKDK4xh+D+EVJT4uA=='>document.getElementById('gbztm').addEventListener('click', function clickHandler() { gbar.tg(event,this); });</script><div class=gbm id=gbd aria-owner=gbztm><div id=gbmmb class=\"gbmc gbsb gbsbis\"><ol id=gbmm class=\"gbmcc gbsbic\"><li class=gbmtc><a class=gbmt id=gb_24 href=\"https://calendar.google.com/calendar?tab=wc\">Agenda</a></li><li class=gbmtc><a class=gbmt id=gb_51 href=\"https://translate.google.nl/?hl=nl&tab=wT\">Vertalen</a></li><li class=gbmtc><a class=gbmt id=gb_10 href=\"https://books.google.nl/?hl=nl&tab=wp\">Boeken</a></li><li class=gbmtc><a class=gbmt id=gb_6 href=\"https://www.google.nl/shopping?hl=nl&source=og&tab=wf\">Shopping</a></li><li class=gbmtc><a class=gbmt id=gb_30 href=\"https://www.blogger.com/?tab=wj\">Blogger</a></li><li class=gbmtc><a class=gbmt id=gb_31 href=\"https://photos.google.com/?tab=wq&pageId=none\">Foto's</a></li><li class=gbmtc><a class=gbmt id=gb_12 href=\"http://video.google.nl/?hl=nl&tab=wv\">Video's</a></li><li class=gbmtc><a class=gbmt id=gb_25 href=\"https://docs.google.com/document/?usp=docs_alc\">Documenten</a></li><li class=gbmtc><div class=\"gbmt gbmh\"></div></li><li class=gbmtc><a  href=\"https://www.google.nl/intl/nl/about/products?tab=wh\" class=gbmt>Nog meer &raquo;</a><script nonce='CmY+0qKDK4xh+D+EVJT4uA=='>document.querySelector('li > a.gbmt').addEventListener('click', function clickHandler() { gbar.logger.il(1,{t:66});; });</script></li></ol><div class=gbsbt></div><div class=gbsbb></div></div></div></li></ol></div><div id=gbg><h2 class=gbxx>Account Options</h2><span class=gbtcb></span><ol class=gbtc><li class=gbt><a target=_top href=\"https://accounts.google.com/ServiceLogin?hl=nl&passive=true&continue=https://www.google.com/&ec=GAZAAQ\" onclick=\"gbar.logger.il(9,{l:'i'})\" id=gb_70 class=gbgt><span class=gbtb2></span><span id=gbgs4 class=gbts><span id=gbi4s1>Inloggen</span></span></a></li><li class=\"gbt gbtb\"><span class=gbts></span></li><li class=gbt><a class=gbgt id=gbg5 href=\"http://www.google.nl/preferences?hl=nl\" title=\"Opties\" aria-haspopup=true aria-owns=gbd5><span class=gbtb2></span><span id=gbgs5 class=gbts><span id=gbi5></span></span></a><script nonce='CmY+0qKDK4xh+D+EVJT4uA=='>document.getElementById('gbg5').addEventListener('click', function clickHandler() { gbar.tg(event,this); });</script><div class=gbm id=gbd5 aria-owner=gbg5><div class=gbmc><ol id=gbom class=gbmcc><li class=\"gbkc gbmtc\"><a  class=gbmt href=\"/preferences?hl=nl\">Zoekinstellingen</a></li><li class=gbmtc><div class=\"gbmt gbmh\"></div></li><li class=\"gbkp gbmtc\"><a class=gbmt href=\"http://www.google.nl/history/optout?hl=nl\">Webgeschiedenis</a></li></ol></div></div></li></ol></div></div><div id=gbx3></div><div id=gbx4></div><script nonce='CmY+0qKDK4xh+D+EVJT4uA=='>window.gbar&&gbar.elp&&gbar.elp()</script></div></div><center><br clear=\"all\" id=\"lgpd\"><div id=\"lga\"><img alt=\"Google\" height=\"92\" src=\"/images/branding/googlelogo/1x/googlelogo_white_background_color_272x92dp.png\" style=\"padding:28px 0 14px\" width=\"272\" id=\"hplogo\"><br><br></div><form action=\"/search\" name=\"f\"><table cellpadding=\"0\" cellspacing=\"0\"><tr valign=\"top\"><td width=\"25%\">&nbsp;</td><td align=\"center\" nowrap=\"\"><input name=\"ie\" value=\"ISO-8859-1\" type=\"hidden\"><input value=\"nl\" name=\"hl\" type=\"hidden\"><input name=\"source\" type=\"hidden\" value=\"hp\"><input name=\"biw\" type=\"hidden\"><input name=\"bih\" type=\"hidden\"><div class=\"ds\" style=\"height:32px;margin:4px 0\"><input class=\"lst\" style=\"margin:0;padding:5px 8px 0 6px;vertical-align:top;color:#000\" autocomplete=\"off\" value=\"\" title=\"Google zoeken\" maxlength=\"2048\" name=\"q\" size=\"57\"></div><br style=\"line-height:0\"><span class=\"ds\"><span class=\"lsbb\"><input class=\"lsb\" value=\"Google zoeken\" name=\"btnG\" type=\"submit\"></span></span><span class=\"ds\"><span class=\"lsbb\"><input class=\"lsb\" id=\"tsuid1\" value=\"Ik doe een gok\" name=\"btnI\" type=\"submit\"><script nonce=\"CmY+0qKDK4xh+D+EVJT4uA==\">(function(){var id='tsuid1';document.getElementById(id).onclick = function(){if (this.form.q.value){this.checked = 1;if (this.form.iflsig)this.form.iflsig.disabled = false;}\n",
       "else top.location='/doodles/';};})();</script><input value=\"ALs-wAMAAAAAYVxXNytmqM3kpx_GXtCx7aJW63vzytgW\" name=\"iflsig\" type=\"hidden\"></span></span></td><td class=\"fl sblc\" align=\"left\" nowrap=\"\" width=\"25%\"><a href=\"/advanced_search?hl=nl&amp;authuser=0\">Geavanceerd zoeken</a></td></tr></table><input id=\"gbv\" name=\"gbv\" type=\"hidden\" value=\"1\"><script nonce=\"CmY+0qKDK4xh+D+EVJT4uA==\">(function(){\n",
       "var a,b=\"1\";if(document&&document.getElementById)if(\"undefined\"!=typeof XMLHttpRequest)b=\"2\";else if(\"undefined\"!=typeof ActiveXObject){var c,d,e=[\"MSXML2.XMLHTTP.6.0\",\"MSXML2.XMLHTTP.3.0\",\"MSXML2.XMLHTTP\",\"Microsoft.XMLHTTP\"];for(c=0;d=e[c++];)try{new ActiveXObject(d),b=\"2\"}catch(h){}}a=b;if(\"2\"==a&&-1==location.search.indexOf(\"&gbv=2\")){var f=google.gbvu,g=document.getElementById(\"gbv\");g&&(g.value=a);f&&window.setTimeout(function(){location.href=f},0)};}).call(this);</script></form><div id=\"gac_scont\"></div><div style=\"font-size:83%;min-height:3.5em\"><br><div id=\"gws-output-pages-elements-homepage_additional_languages__als\"><style>#gws-output-pages-elements-homepage_additional_languages__als{font-size:small;margin-bottom:24px}#SIvCob{color:#3c4043;display:inline-block;line-height:28px;}#SIvCob a{padding:0 3px;}.H6sW5{display:inline-block;margin:0 2px;white-space:nowrap}.z4hgWe{display:inline-block;margin:0 2px}</style><div id=\"SIvCob\">Google aangeboden in:  <a href=\"https://www.google.com/setprefs?sig=0_OrzDcrLliByRsCpZ85NPC-oGOQ4%3D&amp;hl=fy&amp;source=homepage&amp;sa=X&amp;ved=0ahUKEwjfw4zaprPzAhXm8rsIHeG4AzsQ2ZgBCAU\">Frysk</a>  </div></div></div><span id=\"footer\"><div style=\"font-size:10pt\"><div style=\"margin:19px auto;text-align:center\" id=\"WqQANb\"><a href=\"/intl/nl/ads/\">Advertentieprogramma's</a><a href=\"http://www.google.nl/intl/nl/services/\">Bedrijfsoplossingen</a><a href=\"/intl/nl/about.html\">Alles over Google</a><a href=\"https://www.google.com/setprefdomain?prefdom=NL&amp;prev=https://www.google.nl/&amp;sig=K_I4Xj5qLMiCnwKEdT7BFnmQCoxIc%3D\">Google.nl</a></div></div><p style=\"font-size:8pt;color:#70757a\">&copy; 2021 - <a href=\"/intl/nl/policies/privacy/\">Privacy</a> - <a href=\"/intl/nl/policies/terms/\">Voorwaarden</a></p></span></center><script nonce=\"CmY+0qKDK4xh+D+EVJT4uA==\">(function(){window.google.cdo={height:757,width:1440};(function(){\n",
       "var a=window.innerWidth,b=window.innerHeight;if(!a||!b){var c=window.document,d=\"CSS1Compat\"==c.compatMode?c.documentElement:c.body;a=d.clientWidth;b=d.clientHeight}a&&b&&(a!=google.cdo.width||b!=google.cdo.height)&&google.log(\"\",\"\",\"/client_204?&atyp=i&biw=\"+a+\"&bih=\"+b+\"&ei=\"+google.kEI);}).call(this);})();</script> <script nonce=\"CmY+0qKDK4xh+D+EVJT4uA==\">(function(){google.xjs={ck:'',cs:'',excm:[]};})();</script>  <script nonce=\"CmY+0qKDK4xh+D+EVJT4uA==\">(function(){var u='/xjs/_/js/k\\x3dxjs.hp.en.scm1Byk6VYA.O/am\\x3dAPgEWA/d\\x3d1/ed\\x3d1/rs\\x3dACT90oFzH2MYmT03pSqUxHUG1sV8y6JSDA/m\\x3dsb_he,d';\n",
       "var e=this||self,f=function(a){return a};\n",
       "var g;var l=function(a,b){this.g=b===h?a:\"\"};l.prototype.toString=function(){return this.g+\"\"};var h={};function m(){var a=u;google.lx=function(){n(a);google.lx=function(){}};google.bx||google.lx()}\n",
       "function n(a){google.timers&&google.timers.load&&google.tick&&google.tick(\"load\",\"xjsls\");var b=document;var c=\"SCRIPT\";\"application/xhtml+xml\"===b.contentType&&(c=c.toLowerCase());c=b.createElement(c);if(void 0===g){b=null;var k=e.trustedTypes;if(k&&k.createPolicy){try{b=k.createPolicy(\"goog#html\",{createHTML:f,createScript:f,createScriptURL:f})}catch(p){e.console&&e.console.error(p.message)}g=b}else g=b}a=(b=g)?b.createScriptURL(a):a;a=new l(a,h);c.src=a instanceof l&&a.constructor===l?a.g:\"type_error:TrustedResourceUrl\";var d;a=(c.ownerDocument&&c.ownerDocument.defaultView||window).document;(d=(b=null===(d=a.querySelector)||void 0===d?void 0:d.call(a,\"script[nonce]\"))?b.nonce||b.getAttribute(\"nonce\")||\"\":\"\")&&c.setAttribute(\"nonce\",d);document.body.appendChild(c);google.psa=!0};setTimeout(function(){m()},0);})();(function(){window.google.xjsu='/xjs/_/js/k\\x3dxjs.hp.en.scm1Byk6VYA.O/am\\x3dAPgEWA/d\\x3d1/ed\\x3d1/rs\\x3dACT90oFzH2MYmT03pSqUxHUG1sV8y6JSDA/m\\x3dsb_he,d';})();function _DumpException(e){throw e;}\n",
       "function _F_installCss(c){}\n",
       "(function(){google.jl={attn:false,blt:'none',chnk:0,dw:false,dwu:true,emtn:0,end:0,ine:false,lls:'default',pdt:0,rep:0,snet:true,strt:0,ubm:false,uwp:true};})();(function(){var pmc='{\\x22d\\x22:{},\\x22sb_he\\x22:{\\x22agen\\x22:true,\\x22cgen\\x22:true,\\x22client\\x22:\\x22heirloom-hp\\x22,\\x22dh\\x22:true,\\x22dhqt\\x22:true,\\x22ds\\x22:\\x22\\x22,\\x22ffql\\x22:\\x22en\\x22,\\x22fl\\x22:true,\\x22host\\x22:\\x22google.com\\x22,\\x22isbh\\x22:28,\\x22jsonp\\x22:true,\\x22msgs\\x22:{\\x22cibl\\x22:\\x22Zoekopdracht wissen\\x22,\\x22dym\\x22:\\x22Bedoelde je:\\x22,\\x22lcky\\x22:\\x22Ik doe een gok\\x22,\\x22lml\\x22:\\x22Meer informatie\\x22,\\x22oskt\\x22:\\x22Invoertools\\x22,\\x22psrc\\x22:\\x22Deze zoekopdracht is verwijderd uit je \\\\u003Ca href\\x3d\\\\\\x22/history\\\\\\x22\\\\u003EWebgeschiedenis\\\\u003C/a\\\\u003E\\x22,\\x22psrl\\x22:\\x22Verwijderen\\x22,\\x22sbit\\x22:\\x22Zoeken op afbeelding\\x22,\\x22srch\\x22:\\x22Google zoeken\\x22},\\x22ovr\\x22:{},\\x22pq\\x22:\\x22\\x22,\\x22refpd\\x22:true,\\x22rfs\\x22:[],\\x22sbas\\x22:\\x220 3px 8px 0 rgba(0,0,0,0.2),0 0 0 1px rgba(0,0,0,0.08)\\x22,\\x22sbpl\\x22:16,\\x22sbpr\\x22:16,\\x22scd\\x22:10,\\x22stok\\x22:\\x22-TMznsdxKwyFSAMqml3l67IV4zE\\x22,\\x22uhde\\x22:false}}';google.pmc=JSON.parse(pmc);})();</script>        </body></html>"
      ],
      "text/plain": [
       "<IPython.core.display.HTML object>"
      ]
     },
     "metadata": {},
     "output_type": "display_data"
    }
   ],
   "source": [
    "from IPython.core.display import display, HTML\n",
    "display(HTML(body.decode(\"latin1\")))"
   ]
  },
  {
   "cell_type": "code",
   "execution_count": 169,
   "metadata": {},
   "outputs": [],
   "source": [
    "sock.close()"
   ]
  },
  {
   "cell_type": "code",
   "execution_count": null,
   "metadata": {},
   "outputs": [],
   "source": []
  }
 ],
 "metadata": {
  "kernelspec": {
   "display_name": "Python 3 (ipykernel)",
   "language": "python",
   "name": "python3"
  },
  "language_info": {
   "codemirror_mode": {
    "name": "ipython",
    "version": 3
   },
   "file_extension": ".py",
   "mimetype": "text/x-python",
   "name": "python",
   "nbconvert_exporter": "python",
   "pygments_lexer": "ipython3",
   "version": "3.12.4"
  }
 },
 "nbformat": 4,
 "nbformat_minor": 4
}
