{
 "cells": [
  {
   "cell_type": "markdown",
   "id": "e0e45992-2dd2-411f-a1fb-892e63be9b73",
   "metadata": {
    "jp-MarkdownHeadingCollapsed": true
   },
   "source": [
    "# Hashes"
   ]
  },
  {
   "cell_type": "code",
   "execution_count": 1,
   "id": "d8cb68ee-3553-4243-ad39-1c93d913d023",
   "metadata": {},
   "outputs": [
    {
     "data": {
      "text/plain": [
       "(315, 364)"
      ]
     },
     "execution_count": 1,
     "metadata": {},
     "output_type": "execute_result"
    }
   ],
   "source": [
    "text1 = b'mie'\n",
    "text2 = b'mie1'\n",
    "def my_hash(inp):\n",
    "    return sum(i for i in inp)\n",
    "\n",
    "my_hash(text1), my_hash(text2)"
   ]
  },
  {
   "cell_type": "code",
   "execution_count": 2,
   "id": "1dd54921-25cb-4342-aee9-c27aafd87a96",
   "metadata": {},
   "outputs": [
    {
     "data": {
      "text/plain": [
       "364"
      ]
     },
     "execution_count": 2,
     "metadata": {},
     "output_type": "execute_result"
    }
   ],
   "source": [
    "text3 = b'1mie'\n",
    "my_hash(text3)"
   ]
  },
  {
   "cell_type": "code",
   "execution_count": 3,
   "id": "2e7b9355-15f8-48ad-96b3-04b08633adf9",
   "metadata": {},
   "outputs": [
    {
     "data": {
      "text/plain": [
       "(4570851440137395297, 5809751128260945800, 3320911150813771696)"
      ]
     },
     "execution_count": 3,
     "metadata": {},
     "output_type": "execute_result"
    }
   ],
   "source": [
    "hash(text1), hash(text2), hash(text3)"
   ]
  },
  {
   "cell_type": "code",
   "execution_count": 4,
   "id": "acd896e1-78a0-4fbe-b82d-e83103e507a8",
   "metadata": {},
   "outputs": [
    {
     "data": {
      "text/plain": [
       "6474644582388249236"
      ]
     },
     "execution_count": 4,
     "metadata": {},
     "output_type": "execute_result"
    }
   ],
   "source": [
    "hash('☺')"
   ]
  },
  {
   "cell_type": "code",
   "execution_count": 5,
   "id": "e22a0096-7a3f-43c9-9941-11a120fd3fb9",
   "metadata": {},
   "outputs": [
    {
     "data": {
      "text/plain": [
       "6474644582388249236"
      ]
     },
     "execution_count": 5,
     "metadata": {},
     "output_type": "execute_result"
    }
   ],
   "source": [
    "hash(':&')"
   ]
  },
  {
   "cell_type": "code",
   "execution_count": 6,
   "id": "53980b64-f5cc-4e81-b513-53392fedaeba",
   "metadata": {},
   "outputs": [],
   "source": [
    "from cryptography.hazmat.primitives.hashes import Hash, SHA256"
   ]
  },
  {
   "cell_type": "code",
   "execution_count": 7,
   "id": "11107cbe-6954-4145-b868-a8270bda5b9f",
   "metadata": {},
   "outputs": [
    {
     "data": {
      "text/plain": [
       "b')\\x8c\\xf3\\x0c1\\xd3\\xd1\\xbd&%P\\xcbX\\xfc\\x0c\\xa5\\xa6\\xf8\\xe1\\xfb\\xebl\\xa6\\xf6\\xcc\\xa1WD\\xbb\\xd6\\xbd\\n'"
      ]
     },
     "execution_count": 7,
     "metadata": {},
     "output_type": "execute_result"
    }
   ],
   "source": [
    "sha = Hash(SHA256())\n",
    "sha.update(b'mie')\n",
    "sha.finalize()"
   ]
  },
  {
   "cell_type": "markdown",
   "id": "2c67d9f8-a32d-4827-9387-bf0435459f7b",
   "metadata": {
    "jp-MarkdownHeadingCollapsed": true
   },
   "source": [
    "# Secret Key Cryptography (ECB)"
   ]
  },
  {
   "cell_type": "code",
   "execution_count": 8,
   "id": "a2707da9-254b-48f3-8822-6f6aea4009c1",
   "metadata": {},
   "outputs": [],
   "source": [
    "from cryptography.hazmat.primitives.ciphers.algorithms import AES256"
   ]
  },
  {
   "cell_type": "code",
   "execution_count": 9,
   "id": "858a4f92-d73d-4af7-b353-767ed5040362",
   "metadata": {},
   "outputs": [
    {
     "data": {
      "text/plain": [
       "b\"\\xc1\\xf1\\x0e\\xcc{T\\x89}'\\x102\\xf6\\t \\xb9\\xb1erb\\xf1\\x9f\\xed\\x17\\xdb@\\xd8\\xc3\\xcd\\xa9iu\\x84\""
      ]
     },
     "execution_count": 9,
     "metadata": {},
     "output_type": "execute_result"
    }
   ],
   "source": [
    "import secrets\n",
    "rand = secrets.token_bytes(32)\n",
    "rand"
   ]
  },
  {
   "cell_type": "code",
   "execution_count": 10,
   "id": "96c2b842-dd1d-4e72-8ae2-474013d338f5",
   "metadata": {},
   "outputs": [],
   "source": [
    "key = AES256(rand)"
   ]
  },
  {
   "cell_type": "code",
   "execution_count": 11,
   "id": "6bc6dca1-f368-4a95-9f4a-669042c6f2ae",
   "metadata": {},
   "outputs": [],
   "source": [
    "from cryptography.hazmat.primitives.ciphers import Cipher, modes"
   ]
  },
  {
   "cell_type": "code",
   "execution_count": 12,
   "id": "1b251846-09bd-4857-b9f7-912db79f55c9",
   "metadata": {},
   "outputs": [],
   "source": [
    "cipher = Cipher(key, modes.ECB())"
   ]
  },
  {
   "cell_type": "code",
   "execution_count": 13,
   "id": "c60111dd-64c2-4b1b-858f-9af36e8acbc5",
   "metadata": {},
   "outputs": [
    {
     "data": {
      "text/plain": [
       "b'\\x85\\xf3\\x19\\xf2\\x0c\\x1c5\\xd5\\x9f7/\\xf9\\xc7V\\xdb\\xe0\\x85\\xf3\\x19\\xf2\\x0c\\x1c5\\xd5\\x9f7/\\xf9\\xc7V\\xdb\\xe0\\x85\\xf3\\x19\\xf2\\x0c\\x1c5\\xd5\\x9f7/\\xf9\\xc7V\\xdb\\xe0\\x85\\xf3\\x19\\xf2\\x0c\\x1c5\\xd5\\x9f7/\\xf9\\xc7V\\xdb\\xe0\\x85\\xf3\\x19\\xf2\\x0c\\x1c5\\xd5\\x9f7/\\xf9\\xc7V\\xdb\\xe0\\x85\\xf3\\x19\\xf2\\x0c\\x1c5\\xd5\\x9f7/\\xf9\\xc7V\\xdb\\xe0\\x85\\xf3\\x19\\xf2\\x0c\\x1c5\\xd5\\x9f7/\\xf9\\xc7V\\xdb\\xe0\\x85\\xf3\\x19\\xf2\\x0c\\x1c5\\xd5\\x9f7/\\xf9\\xc7V\\xdb\\xe0\\x85\\xf3\\x19\\xf2\\x0c\\x1c5\\xd5\\x9f7/\\xf9\\xc7V\\xdb\\xe0\\x85\\xf3\\x19\\xf2\\x0c\\x1c5\\xd5\\x9f7/\\xf9\\xc7V\\xdb\\xe0\\x85\\xf3\\x19\\xf2\\x0c\\x1c5\\xd5\\x9f7/\\xf9\\xc7V\\xdb\\xe0\\x85\\xf3\\x19\\xf2\\x0c\\x1c5\\xd5\\x9f7/\\xf9\\xc7V\\xdb\\xe0\\x85\\xf3\\x19\\xf2\\x0c\\x1c5\\xd5\\x9f7/\\xf9\\xc7V\\xdb\\xe0\\x85\\xf3\\x19\\xf2\\x0c\\x1c5\\xd5\\x9f7/\\xf9\\xc7V\\xdb\\xe0\\x85\\xf3\\x19\\xf2\\x0c\\x1c5\\xd5\\x9f7/\\xf9\\xc7V\\xdb\\xe0\\x85\\xf3\\x19\\xf2\\x0c\\x1c5\\xd5\\x9f7/\\xf9\\xc7V\\xdb\\xe0\\x85\\xf3\\x19\\xf2\\x0c\\x1c5\\xd5\\x9f7/\\xf9\\xc7V\\xdb\\xe0\\x85\\xf3\\x19\\xf2\\x0c\\x1c5\\xd5\\x9f7/\\xf9\\xc7V\\xdb\\xe0\\x85\\xf3\\x19\\xf2\\x0c\\x1c5\\xd5\\x9f7/\\xf9\\xc7V\\xdb\\xe0\\x85\\xf3\\x19\\xf2\\x0c\\x1c5\\xd5\\x9f7/\\xf9\\xc7V\\xdb\\xe0'"
      ]
     },
     "execution_count": 13,
     "metadata": {},
     "output_type": "execute_result"
    }
   ],
   "source": [
    "enc = cipher.encryptor()\n",
    "encrypted = enc.update(b'm'*320) + enc.finalize()\n",
    "encrypted"
   ]
  },
  {
   "cell_type": "code",
   "execution_count": 14,
   "id": "0ef97c63-cf6c-4ba1-89cd-e95febc14985",
   "metadata": {
    "scrolled": true
   },
   "outputs": [
    {
     "data": {
      "text/plain": [
       "b'mmmmmmmmmmmmmmmmmmmmmmmmmmmmmmmmmmmmmmmmmmmmmmmmmmmmmmmmmmmmmmmmmmmmmmmmmmmmmmmmmmmmmmmmmmmmmmmmmmmmmmmmmmmmmmmmmmmmmmmmmmmmmmmmmmmmmmmmmmmmmmmmmmmmmmmmmmmmmmmmmmmmmmmmmmmmmmmmmmmmmmmmmmmmmmmmmmmmmmmmmmmmmmmmmmmmmmmmmmmmmmmmmmmmmmmmmmmmmmmmmmmmmmmmmmmmmmmmmmmmmmmmmmmmmmmmmmmmmmmmmmmmmmmmmmmmmmmmmmmmmmmmmmmmmmmmmmmmmmmm'"
      ]
     },
     "execution_count": 14,
     "metadata": {},
     "output_type": "execute_result"
    }
   ],
   "source": [
    "dec = cipher.decryptor()\n",
    "dec.update(encrypted) + dec.finalize()"
   ]
  },
  {
   "cell_type": "code",
   "execution_count": 15,
   "id": "61fec521-d8f7-4435-b153-73811e028da4",
   "metadata": {
    "scrolled": true
   },
   "outputs": [
    {
     "data": {
      "text/plain": [
       "b'\\xb6\\xb0\\x01\\x0c\\x03lN\\x8e\"\\xda\\x18\\xba{\\xfa?\\xaemmmmmmmmmmmmmmmmmmmmmmmmmmmmmmmmmmmmmmmmmmmmmmmmmmmmmmmmmmmmmmmmmmmmmmmmmmmmmmmmmmmmmmmmmmmmmmmmmmmmmmmmmmmmmmmmmmmmmmmmmmmmmmmmmmmmmmmmmmmmmmmmmmmmmmmmmmmmmmmmmmmmmmmmmmmmmmmmmmmmmmmmmmmmmmmmmmmmmmmmmmmmmmmmmmmmmmmmmmmmmmmmmmmmmmmmmmmmmmmmmmmmmmmmmmmmmmmmmmmmmmmmmmmmmmmmmmmmmmmmmmmmmmmmmmmmmmmmmmmmmmmm'"
      ]
     },
     "execution_count": 15,
     "metadata": {},
     "output_type": "execute_result"
    }
   ],
   "source": [
    "dec = cipher.decryptor()\n",
    "dec.update(b'a'+encrypted[1:]) + dec.finalize()"
   ]
  },
  {
   "cell_type": "markdown",
   "id": "9acbdb13-d059-4ed4-b0d4-a8256e68848e",
   "metadata": {
    "jp-MarkdownHeadingCollapsed": true
   },
   "source": [
    "# Secret Key Cryptography (GCM): Authenticated encryption"
   ]
  },
  {
   "cell_type": "code",
   "execution_count": 16,
   "id": "77b92403-6ca4-4599-b3ba-c517e71486d6",
   "metadata": {},
   "outputs": [],
   "source": [
    "iv = secrets.token_bytes(12)\n",
    "cipher = Cipher(key, modes.GCM(iv))"
   ]
  },
  {
   "cell_type": "code",
   "execution_count": 17,
   "id": "e9184cea-ef67-4e38-9fd3-41d9efb778e3",
   "metadata": {},
   "outputs": [
    {
     "data": {
      "text/plain": [
       "(b'##\\x11\\xb3j\\x04\\xea6\\xf0h\\xe3cj\\xe38N\\x07\\xbb\\xfc\\xae\\x8dJ\\xa4\\x8c\\x19\\xb1D1D\\x08\\xe1\\xe9\\xf6lg\\xb6&<\\xbb\\x7f\\xf1$\\xe1\\xa6\\xfe\\x87\\xbe\\x8ce\\x06\\xef\\x1cq\\x80*!\\xd0Z&\\xea\\xebHX\\x80m\\x97\\x96\\x9d9^\\xa8\\xc2z\\xfe\\x06\\xf4\\xc0{\\xbc\\xda\\xdb\\xac\\xec\\x04\\xb7\\xde\\xbe\\xd4\\xa5\\xb6R\\xc0\\xf4\\x1fh\\xa3{8\\xb8\\xa5\\xc3|\\xd8\\xb1K\\xb7q\\x18\\x12q\\xef\\xc3\\x10\\xb6:S\\xef\\x12\\x83\\xe3\\x14\\xec\\xd4\\x08\\xc9g\\xa9\\x0c\\xa3\\x99\\x90\\xad\\x03V\\x9d\\xf9>\\xe4\\x8c\\xec\\x82\\xef\\xd8\\xef\"\\x1aU\\x9d\\xaf\\xef\\x8a\\xf2\\xed\\xeb\\x87\\xdd\\x17\\x95Cp_\\xf3C\\xe6[TTU\\x84`\\x81\\xa0\\x9a\\xe7\\xe2\\xf6?>\\xdf\\xa9\\x9c\\xe9\\xcf\\xe3\\xef\\xf2\\xc4+\\xb5\\x82>kR\\x94B\\xfb7\\x88\\x7f\\x02.wDLJ~\\xe5\\x02q8X\\x03\\x915\\x93x\\x8c?\\x9d\\xc8\\xa4\\xa0{E\\x1b\\xde4\\x8e\\xc0\\xa2\\xb4\\xa5\\x05F\\x85\\xff&\\xc4\\xcb\\xf2\\x99iG\\xe0\\xf7v\\xfe\\x0f\\xba\\x11_l\\xff*\\x16yB\\xe0\\xc1\\xaa\\x84\\x1a\\x18\\xba\\x0e\\xcb\\x93\\xe8\\xc0\\x08>\\xff)DDU\\x0bhk\\x14\\xdbyEfX\\x8a\\xba#%\\x15\\x04|\\x9c\\x1cX\\xee\\x85}$\\x12k\\xe0\\xf7\\x1f\\x8c\\xcfR\\xefXSY>\\xc3\\x13\\xdd\\xf00\\xf0C\\xbd',\n",
       " b\"\\xa1TQ#\\xaa\\xb8\\xf0nE'\\xa8\\x88\\xb3\\xfd\\xb4\\xec\")"
      ]
     },
     "execution_count": 17,
     "metadata": {},
     "output_type": "execute_result"
    }
   ],
   "source": [
    "enc = cipher.encryptor()\n",
    "encrypted = enc.update(b'm'*320) + enc.finalize()\n",
    "encrypted, enc.tag"
   ]
  },
  {
   "cell_type": "code",
   "execution_count": 18,
   "id": "f6e20278-4e72-4c51-9819-da3129730ffb",
   "metadata": {},
   "outputs": [],
   "source": [
    "cipher = Cipher(key, modes.GCM(iv, enc.tag))"
   ]
  },
  {
   "cell_type": "code",
   "execution_count": 19,
   "id": "ec69bf64-9bb7-4d64-8629-5d832985a934",
   "metadata": {},
   "outputs": [
    {
     "data": {
      "text/plain": [
       "b'mmmmmmmmmmmmmmmmmmmmmmmmmmmmmmmmmmmmmmmmmmmmmmmmmmmmmmmmmmmmmmmmmmmmmmmmmmmmmmmmmmmmmmmmmmmmmmmmmmmmmmmmmmmmmmmmmmmmmmmmmmmmmmmmmmmmmmmmmmmmmmmmmmmmmmmmmmmmmmmmmmmmmmmmmmmmmmmmmmmmmmmmmmmmmmmmmmmmmmmmmmmmmmmmmmmmmmmmmmmmmmmmmmmmmmmmmmmmmmmmmmmmmmmmmmmmmmmmmmmmmmmmmmmmmmmmmmmmmmmmmmmmmmmmmmmmmmmmmmmmmmmmmmmmmmmmmmmmmmmm'"
      ]
     },
     "execution_count": 19,
     "metadata": {},
     "output_type": "execute_result"
    }
   ],
   "source": [
    "dec = cipher.decryptor()\n",
    "dec.update(encrypted) + dec.finalize()"
   ]
  },
  {
   "cell_type": "code",
   "execution_count": 20,
   "id": "0158da54-7b85-4e47-852a-86a56d440fea",
   "metadata": {},
   "outputs": [
    {
     "name": "stdout",
     "output_type": "stream",
     "text": [
      "InvalidTag\n"
     ]
    }
   ],
   "source": [
    "try:\n",
    "    dec = cipher.decryptor()\n",
    "    dec.update(b'a'+encrypted[1:]) + dec.finalize()\n",
    "except Exception as e:\n",
    "    print(type(e).__name__)"
   ]
  },
  {
   "cell_type": "markdown",
   "id": "8bd34092-8fe1-4dbb-a0ab-9ed4769e6646",
   "metadata": {
    "jp-MarkdownHeadingCollapsed": true
   },
   "source": [
    "# AEAD: Authenticated encryption with associated data"
   ]
  },
  {
   "cell_type": "code",
   "execution_count": 21,
   "id": "c6d65e0c-9763-401a-a4e3-eddb600e5f52",
   "metadata": {},
   "outputs": [
    {
     "data": {
      "text/plain": [
       "(b'##\\x11\\xb3j\\x04\\xea6\\xf0h\\xe3cj\\xe38N\\x07\\xbb\\xfc\\xae\\x8dJ\\xa4\\x8c\\x19\\xb1D1D\\x08\\xe1\\xe9\\xf6lg\\xb6&<\\xbb\\x7f\\xf1$\\xe1\\xa6\\xfe\\x87\\xbe\\x8ce\\x06\\xef\\x1cq\\x80*!\\xd0Z&\\xea\\xebHX\\x80m\\x97\\x96\\x9d9^\\xa8\\xc2z\\xfe\\x06\\xf4\\xc0{\\xbc\\xda\\xdb\\xac\\xec\\x04\\xb7\\xde\\xbe\\xd4\\xa5\\xb6R\\xc0\\xf4\\x1fh\\xa3{8\\xb8\\xa5\\xc3|\\xd8\\xb1K\\xb7q\\x18\\x12q\\xef\\xc3\\x10\\xb6:S\\xef\\x12\\x83\\xe3\\x14\\xec\\xd4\\x08\\xc9g\\xa9\\x0c\\xa3\\x99\\x90\\xad\\x03V\\x9d\\xf9>\\xe4\\x8c\\xec\\x82\\xef\\xd8\\xef\"\\x1aU\\x9d\\xaf\\xef\\x8a\\xf2\\xed\\xeb\\x87\\xdd\\x17\\x95Cp_\\xf3C\\xe6[TTU\\x84`\\x81\\xa0\\x9a\\xe7\\xe2\\xf6?>\\xdf\\xa9\\x9c\\xe9\\xcf\\xe3\\xef\\xf2\\xc4+\\xb5\\x82>kR\\x94B\\xfb7\\x88\\x7f\\x02.wDLJ~\\xe5\\x02q8X\\x03\\x915\\x93x\\x8c?\\x9d\\xc8\\xa4\\xa0{E\\x1b\\xde4\\x8e\\xc0\\xa2\\xb4\\xa5\\x05F\\x85\\xff&\\xc4\\xcb\\xf2\\x99iG\\xe0\\xf7v\\xfe\\x0f\\xba\\x11_l\\xff*\\x16yB\\xe0\\xc1\\xaa\\x84\\x1a\\x18\\xba\\x0e\\xcb\\x93\\xe8\\xc0\\x08>\\xff)DDU\\x0bhk\\x14\\xdbyEfX\\x8a\\xba#%\\x15\\x04|\\x9c\\x1cX\\xee\\x85}$\\x12k\\xe0\\xf7\\x1f\\x8c\\xcfR\\xefXSY>\\xc3\\x13\\xdd\\xf00\\xf0C\\xbd',\n",
       " b'\\x00WT\\xf3\\xf6JV;K\\x84e\\xfc8\\xea\\x9fU')"
      ]
     },
     "execution_count": 21,
     "metadata": {},
     "output_type": "execute_result"
    }
   ],
   "source": [
    "cipher = Cipher(key, modes.GCM(iv))\n",
    "enc = cipher.encryptor()\n",
    "enc.authenticate_additional_data(b'hello mie')\n",
    "encrypted = enc.update(b'm'*320) + enc.finalize()\n",
    "encrypted, enc.tag"
   ]
  },
  {
   "cell_type": "code",
   "execution_count": 22,
   "id": "c8a33c8a-ed2e-4d19-9d11-f2e193e51964",
   "metadata": {},
   "outputs": [
    {
     "data": {
      "text/plain": [
       "b'mmmmmmmmmmmmmmmmmmmmmmmmmmmmmmmmmmmmmmmmmmmmmmmmmmmmmmmmmmmmmmmmmmmmmmmmmmmmmmmmmmmmmmmmmmmmmmmmmmmmmmmmmmmmmmmmmmmmmmmmmmmmmmmmmmmmmmmmmmmmmmmmmmmmmmmmmmmmmmmmmmmmmmmmmmmmmmmmmmmmmmmmmmmmmmmmmmmmmmmmmmmmmmmmmmmmmmmmmmmmmmmmmmmmmmmmmmmmmmmmmmmmmmmmmmmmmmmmmmmmmmmmmmmmmmmmmmmmmmmmmmmmmmmmmmmmmmmmmmmmmmmmmmmmmmmmmmmmmmmm'"
      ]
     },
     "execution_count": 22,
     "metadata": {},
     "output_type": "execute_result"
    }
   ],
   "source": [
    "cipher = Cipher(key, modes.GCM(iv, enc.tag))\n",
    "dec = cipher.decryptor()\n",
    "dec.authenticate_additional_data(b'hello mie')\n",
    "dec.update(encrypted) + dec.finalize()"
   ]
  },
  {
   "cell_type": "code",
   "execution_count": 23,
   "id": "079e9552-c84c-4d0e-9343-282a369605c9",
   "metadata": {},
   "outputs": [
    {
     "name": "stdout",
     "output_type": "stream",
     "text": [
      "InvalidTag\n"
     ]
    }
   ],
   "source": [
    "try:\n",
    "    dec = cipher.decryptor()\n",
    "    dec.authenticate_additional_data(b'hello mie2')\n",
    "    dec.update(encrypted) + dec.finalize()\n",
    "except Exception as e:\n",
    "    print(type(e).__name__)"
   ]
  },
  {
   "cell_type": "markdown",
   "id": "e2c9a438-a991-4b0c-8592-b8f7aeccb9c9",
   "metadata": {
    "jp-MarkdownHeadingCollapsed": true
   },
   "source": [
    "# Diffie Hellman Key Exchange"
   ]
  },
  {
   "cell_type": "raw",
   "id": "16e89047-e28a-4aed-aa80-45eb91057e32",
   "metadata": {},
   "source": [
    "https://en.wikipedia.org/wiki/Diffie%E2%80%93Hellman_key_exchange\n",
    "https://en.wikipedia.org/wiki/Elliptic-curve_Diffie%E2%80%93Hellman\n",
    "https://en.wikipedia.org/wiki/Curve25519"
   ]
  },
  {
   "cell_type": "code",
   "execution_count": 24,
   "id": "43e9399d-bc34-4b46-8820-3a33b5c449d5",
   "metadata": {},
   "outputs": [],
   "source": [
    "from cryptography.hazmat.primitives.asymmetric.x25519 import X25519PrivateKey, X25519PublicKey\n",
    "from cryptography.hazmat.primitives import serialization"
   ]
  },
  {
   "cell_type": "code",
   "execution_count": 25,
   "id": "d47a99ad-6f14-4efb-b5b4-1e040f42c868",
   "metadata": {},
   "outputs": [
    {
     "data": {
      "text/plain": [
       "<cryptography.hazmat.bindings._rust.openssl.x25519.X25519PrivateKey at 0x71a3984da170>"
      ]
     },
     "execution_count": 25,
     "metadata": {},
     "output_type": "execute_result"
    }
   ],
   "source": [
    "client_private_key = X25519PrivateKey.generate()\n",
    "client_private_key"
   ]
  },
  {
   "cell_type": "code",
   "execution_count": 26,
   "id": "e7c4864b-a6cc-43f0-89e3-4b15baf43386",
   "metadata": {},
   "outputs": [
    {
     "data": {
      "text/plain": [
       "b\"\\xefYD\\\\\\xa0=\\x01\\xc2\\x94\\xaf\\xc6\\x07r'\\xda\\xdcE\\xc6\\xf0\\x9a\\xbb\\x1a\\xb7\\xa8\\x04\\xc8i\\xe1Z\\x86O0\""
      ]
     },
     "execution_count": 26,
     "metadata": {},
     "output_type": "execute_result"
    }
   ],
   "source": [
    "client_public_key = client_private_key.public_key()\n",
    "client_public_key.public_bytes(serialization.Encoding.Raw, serialization.PublicFormat.Raw)"
   ]
  },
  {
   "cell_type": "code",
   "execution_count": 27,
   "id": "448ed4c1-5304-477c-80fe-fb47c42ee36c",
   "metadata": {},
   "outputs": [
    {
     "data": {
      "text/plain": [
       "<cryptography.hazmat.bindings._rust.openssl.x25519.X25519PrivateKey at 0x71a3984da230>"
      ]
     },
     "execution_count": 27,
     "metadata": {},
     "output_type": "execute_result"
    }
   ],
   "source": [
    "server_private_key = X25519PrivateKey.generate()\n",
    "server_private_key"
   ]
  },
  {
   "cell_type": "code",
   "execution_count": 28,
   "id": "44b0a562-6b95-4b3b-8d4b-0477c5a779f7",
   "metadata": {},
   "outputs": [
    {
     "data": {
      "text/plain": [
       "b'\\xf7\\x18\\xfch\\xe8\\x1fc\\x16NC\\xdbW\\xaf\"\\xfa\\xa5T\\x9c\\x8b\\x1eD\\xbb\\xbe\\xdd&\\xd5[\\xdaX\\xcaI\\x13'"
      ]
     },
     "execution_count": 28,
     "metadata": {},
     "output_type": "execute_result"
    }
   ],
   "source": [
    "server_public_key = server_private_key.public_key()\n",
    "server_public_key.public_bytes(serialization.Encoding.Raw, serialization.PublicFormat.Raw)"
   ]
  },
  {
   "cell_type": "code",
   "execution_count": 29,
   "id": "d8e64850-1aa3-4994-8557-281de73614ba",
   "metadata": {},
   "outputs": [
    {
     "data": {
      "text/plain": [
       "b'\\xa8Sz\\xd7=*\\xb2\\xad\\xc9\\xc7\\x9e\\x11e\\x04#\\xa1\\xfc\\xe97n\\x11\\xc3\\x08\\xb0\\xb3\\x96\\x1f\\xa3K\\xf7Um'"
      ]
     },
     "execution_count": 29,
     "metadata": {},
     "output_type": "execute_result"
    }
   ],
   "source": [
    "shared_key_client = client_private_key.exchange(server_public_key)\n",
    "shared_key_client"
   ]
  },
  {
   "cell_type": "code",
   "execution_count": 30,
   "id": "fc18a199-b1d7-4771-9d4d-7f137d369d40",
   "metadata": {
    "scrolled": true
   },
   "outputs": [
    {
     "data": {
      "text/plain": [
       "b'\\xa8Sz\\xd7=*\\xb2\\xad\\xc9\\xc7\\x9e\\x11e\\x04#\\xa1\\xfc\\xe97n\\x11\\xc3\\x08\\xb0\\xb3\\x96\\x1f\\xa3K\\xf7Um'"
      ]
     },
     "execution_count": 30,
     "metadata": {},
     "output_type": "execute_result"
    }
   ],
   "source": [
    "shared_key_server = server_private_key.exchange(client_public_key)\n",
    "shared_key_server"
   ]
  },
  {
   "cell_type": "markdown",
   "id": "3ec5337a-59b2-4fd9-b0c8-f8d357011dad",
   "metadata": {
    "jp-MarkdownHeadingCollapsed": true
   },
   "source": [
    "# Asymmetric Key Encryption"
   ]
  },
  {
   "cell_type": "code",
   "execution_count": 31,
   "id": "e8a05649-9647-4bee-a0f0-b84f7bb71cad",
   "metadata": {},
   "outputs": [],
   "source": [
    "from cryptography.hazmat.primitives.asymmetric.rsa import generate_private_key"
   ]
  },
  {
   "cell_type": "code",
   "execution_count": 32,
   "id": "2ef45383-6729-4728-9295-d5ac6a01b122",
   "metadata": {},
   "outputs": [],
   "source": [
    "private_key = generate_private_key(\n",
    "    public_exponent=65537,\n",
    "    key_size=2048,\n",
    ")\n",
    "public_key = private_key.public_key()"
   ]
  },
  {
   "cell_type": "code",
   "execution_count": 33,
   "id": "df353c43-9ad2-408e-a5ae-982d6ae15cc0",
   "metadata": {},
   "outputs": [
    {
     "data": {
      "text/plain": [
       "b\"@\\xc8+\\xf7%3\\xcd\\xe9\\x86#'\\x93\\xff^\\xe1\\xfc>\\xbc\\x0e\\xb6\\x98\\xb9\\xaa\\xc6G\\xc4\\xa6\\xa7q\\x8c\\x8f\\x86#zm\\xd4\\xc2P\\xbd\\xf7\\x17@\\\\\\x98\\xa3n\\xb3g<\\xf5X$\\x80O>\\xfd\\xa7\\x1cl\\xb2\\xae`\\x14\\xce\\xf6\\xde='\\x08\\xf8%y\\xc9!y\\x81K\\xd1!\\xd9\\xbc+\\xe8\\x9bp\\x8dD\\x8f=+\\xf5[\\xc5[\\xd8\\xd23\\xbf\\x03\\xd2\\x8c\\xcb\\xa0\\x84\\xb4\\x0e\\xae\\x13\\xfe\\xe9k+H\\x02\\xdf\\x99\\xc2\\xfb\\xbb\\xa6\\xca_\\x86\\xa3\\xd9FW\\x80\\xa7\\xdf'\\xa2}P\\x89\\xb8\\x92,\\xf6NPz)\\xc8g\\xdam7\\xb8\\t\\x84y:4\\xe0\\xaa\\xc7\\xc5\\xf4\\x9f9@\\xcd\\xad\\xac\\xfa\\x9d\\xee\\x03\\x03k\\xa7\\xa7Z\\xd0\\xb1\\xd7\\x91\\xea~\\xaa\\xad\\x9d\\x9d\\x00Xu\\x90\\xda\\xe2\\x04\\xa2\\x0bt\\x80\\x87\\x9d\\xae\\x07\\x11u\\x14R\\xb6\\x1e\\xf5\\x16\\xc1?\\xd2'\\x94hZ\\xa2zG\\x9e:1\\x83\\xdfW\\xd7\\x8cH\\xea\\xdb*\\x93\\x9d\\xbb\\x11\\x11\\xb6\\xfb\\x0e2X\\x9ba`\\xb4\\xdc\\xb3\\xe7\\x9f\\xc3\\xaa\\xf3\\xdb\\x8cMp`\\xf0\""
      ]
     },
     "execution_count": 33,
     "metadata": {},
     "output_type": "execute_result"
    }
   ],
   "source": [
    "from cryptography.hazmat.primitives.asymmetric.padding import OAEP, MGF1\n",
    "ct = public_key.encrypt(b'hello', OAEP(\n",
    "        mgf=MGF1(algorithm=SHA256()),\n",
    "        algorithm=SHA256(),\n",
    "        label=None\n",
    "    ))\n",
    "ct"
   ]
  },
  {
   "cell_type": "code",
   "execution_count": 34,
   "id": "ed745f40-2316-415d-9409-4920ad1d160e",
   "metadata": {},
   "outputs": [
    {
     "data": {
      "text/plain": [
       "b'hello'"
      ]
     },
     "execution_count": 34,
     "metadata": {},
     "output_type": "execute_result"
    }
   ],
   "source": [
    "private_key.decrypt(ct, OAEP(\n",
    "        mgf=MGF1(algorithm=SHA256()),\n",
    "        algorithm=SHA256(),\n",
    "        label=None\n",
    "    ))"
   ]
  },
  {
   "cell_type": "markdown",
   "id": "49424c2f-a34c-4ebe-93e0-614606abaea9",
   "metadata": {
    "jp-MarkdownHeadingCollapsed": true
   },
   "source": [
    "# Digital Signature"
   ]
  },
  {
   "cell_type": "code",
   "execution_count": 35,
   "id": "5a3622c0-004a-4814-b2a0-c085565bec83",
   "metadata": {},
   "outputs": [],
   "source": [
    "from cryptography.hazmat.primitives.asymmetric.ec import SECP256R1, generate_private_key, ECDSA\n",
    "private_key = generate_private_key(SECP256R1())\n",
    "public_key = private_key.public_key()"
   ]
  },
  {
   "cell_type": "code",
   "execution_count": 36,
   "id": "4b3a5194-44a8-4963-ab38-50b345d64415",
   "metadata": {},
   "outputs": [
    {
     "data": {
      "text/plain": [
       "b'0F\\x02!\\x00\\xbb\\x88\\xfd\\x145d#\\xd3W\\x9e\\xc4}e\\x86Iv`;\\x03B0-BS%\\xc78\\xe6N\\xde\\xf8s\\x02!\\x00\\x8d\\x87\\xfb\\xd0\\xad&\\xb0&\\x94!\\xaeQ\\xf9\\x8c94:\\xf2\\xb0g\\xbc\\xcf\\xbe\\x9b\\tl\\xf8PmxM\\x12'"
      ]
     },
     "execution_count": 36,
     "metadata": {},
     "output_type": "execute_result"
    }
   ],
   "source": [
    "signature = private_key.sign(b'mie', ECDSA(SHA256()))\n",
    "signature"
   ]
  },
  {
   "cell_type": "code",
   "execution_count": 37,
   "id": "28ff6d39-600a-4812-bc6a-80163304682f",
   "metadata": {},
   "outputs": [],
   "source": [
    "public_key.verify(signature, b'mie', ECDSA(SHA256()))"
   ]
  },
  {
   "cell_type": "code",
   "execution_count": 38,
   "id": "ffb8a083-80f0-4b8e-bc0d-d68b09468aee",
   "metadata": {},
   "outputs": [
    {
     "name": "stdout",
     "output_type": "stream",
     "text": [
      "InvalidSignature\n"
     ]
    }
   ],
   "source": [
    "try:\n",
    "    public_key.verify(signature, b'mi1', ECDSA(SHA256()))\n",
    "except Exception as e:\n",
    "    print(type(e).__name__)"
   ]
  },
  {
   "cell_type": "markdown",
   "id": "3150debf-d740-451b-9517-0c9475a208de",
   "metadata": {
    "jp-MarkdownHeadingCollapsed": true
   },
   "source": [
    "# Message Authentication Code (HMAC)"
   ]
  },
  {
   "cell_type": "code",
   "execution_count": 39,
   "id": "28a838bc-bb69-4c6e-849e-86541308f11d",
   "metadata": {},
   "outputs": [],
   "source": [
    "from cryptography.hazmat.primitives.hmac import HMAC"
   ]
  },
  {
   "cell_type": "code",
   "execution_count": 40,
   "id": "8ca116cd-3b8d-40db-b18d-81479598fb72",
   "metadata": {},
   "outputs": [
    {
     "data": {
      "text/plain": [
       "b'\\x00\\x08\\xa7b\\xbfG;\\xf5\\x82\\xf4\\xb4\\xef\\x83)|F\\xe2z9\\x7fOC\\xa5\\xc9\\x9c\\xbd\\x18k\\xa2^+W'"
      ]
     },
     "execution_count": 40,
     "metadata": {},
     "output_type": "execute_result"
    }
   ],
   "source": [
    "h = HMAC(rand, SHA256())\n",
    "h.update(b'mie')\n",
    "signature = h.finalize()\n",
    "signature"
   ]
  },
  {
   "cell_type": "code",
   "execution_count": 41,
   "id": "e6a10f31-f6f7-4f30-a17d-3d2981bb8f0e",
   "metadata": {},
   "outputs": [],
   "source": [
    "h = HMAC(rand, SHA256())\n",
    "h.update(b'mie')\n",
    "h.verify(signature)"
   ]
  },
  {
   "cell_type": "markdown",
   "id": "0b393d69-858e-46cd-a2a0-1d3ff66f4057",
   "metadata": {
    "jp-MarkdownHeadingCollapsed": true
   },
   "source": [
    "# Key Derivation Function (HKDF)"
   ]
  },
  {
   "cell_type": "code",
   "execution_count": 42,
   "id": "248f1b29-c359-4409-8409-3eb45b8c5d06",
   "metadata": {},
   "outputs": [
    {
     "data": {
      "text/plain": [
       "b\"Z\\xf5\\xc4q'\\xf5\\xec\\xd9\\x02\\xf9\\xea\\xe3&n\\xb4\\xf9w\\x04\\xc4\\x15\\\\\\xe2!\\xfc\\nK\\t\\xf7\\xdc\\x0b5\\xcb\""
      ]
     },
     "execution_count": 42,
     "metadata": {},
     "output_type": "execute_result"
    }
   ],
   "source": [
    "from cryptography.hazmat.primitives.kdf.hkdf import HKDF\n",
    "hkdf = HKDF(\n",
    "    algorithm=SHA256(),\n",
    "    length=32,\n",
    "    salt=b'',\n",
    "    info=b'client encrypyion key',\n",
    ")\n",
    "hkdf.derive(rand)"
   ]
  },
  {
   "cell_type": "code",
   "execution_count": null,
   "id": "e3a5eec6-1504-4227-8064-db9c7f63443b",
   "metadata": {},
   "outputs": [],
   "source": []
  }
 ],
 "metadata": {
  "kernelspec": {
   "display_name": "Python 3 (ipykernel)",
   "language": "python",
   "name": "python3"
  },
  "language_info": {
   "codemirror_mode": {
    "name": "ipython",
    "version": 3
   },
   "file_extension": ".py",
   "mimetype": "text/x-python",
   "name": "python",
   "nbconvert_exporter": "python",
   "pygments_lexer": "ipython3",
   "version": "3.12.4"
  }
 },
 "nbformat": 4,
 "nbformat_minor": 5
}
